{
 "cells": [
  {
   "cell_type": "code",
   "execution_count": 1,
   "metadata": {
    "ExecuteTime": {
     "end_time": "2020-09-28T04:53:35.608286Z",
     "start_time": "2020-09-28T04:53:35.584092Z"
    }
   },
   "outputs": [],
   "source": [
    "def pathTrack3(startNode):\n",
    "    \"\"\"\n",
    "    Traverse all possible paths for a given node\n",
    "    \"\"\"\n",
    "    traversed = []\n",
    "    #print(print(traversed)) \n",
    "    i = 0 #Start a counter to add paths as necessary\n",
    "    if paths.get(startNode) == None: # Check if the node has parents. If not, there is no path, leave as is.\n",
    "        #print(startNode) # For debugging\n",
    "        traversed.append([startNode]) #Add the parent node.\n",
    "        #i += 1 #Not needed here (?)\n",
    "    else:\n",
    "        for k,node in list(paths[startNode].items()): #For each parent node, traverse its parents nodes until no parent node is reached.\n",
    "            traversed.append([node,k]) # Starts a new list with the parent and starting nodes.\n",
    "            while parents.get(k) is not None: # Check if the parent node as a parental node\n",
    "                #print(parents[k],'pth',traversed[i])\n",
    "                traversed[i] = traversed[i] + parents[k] #Works but adds multiple\n",
    "                #traversed[i] = traversed[i] + [pathTrack3(each) for each in parents[k]] #parents[k]\n",
    "                #traversed[i] = traversed[i] + [pths(each) for each in parents[k]] #parents[k]\n",
    "                k = tuple(parents[k])\n",
    "            i += 1\n",
    "    return [_[::-1] for _ in traversed if _ is not None]\n",
    "    #return traversed\n",
    "    \n",
    "def getPaths(node):\n",
    "    if paths.get(node) == None:\n",
    "        return [[node]]\n",
    "    else:\n",
    "        pths = sum([pathTrack3(_) for _ in parents[node]],[])\n",
    "        pths = [_ + [node] for _ in pths]\n",
    "        return pths\n",
    "    \n",
    "def getCost(node):\n",
    "    tmp = AllPossiblePaths[node]\n",
    "    a = []\n",
    "    for _ in tmp:\n",
    "        if len(_) == 1:\n",
    "            a.append(0)\n",
    "        else:\n",
    "            a.append([costsDict[_[i-1],_[i]] for i in range(1,len(_))])\n",
    "    return a"
   ]
  },
  {
   "cell_type": "code",
   "execution_count": 7,
   "metadata": {
    "ExecuteTime": {
     "end_time": "2020-09-28T04:58:04.927535Z",
     "start_time": "2020-09-28T04:58:04.912162Z"
    }
   },
   "outputs": [],
   "source": [
    "def processGraph(Graph):\n",
    "    ins=[_[1] for _ in Graph]\n",
    "    outs=[_[0] for _ in Graph]\n",
    "    weights=[_[2] for _ in Graph]\n",
    "    #\n",
    "    vertices = set(outs).union(set(ins))\n",
    "    #\n",
    "    parents = {v:[e[0] for e in Graph if e[1]==v] for v in vertices}\n",
    "    parents = {k:v if len(v)!=0 else None for k,v in parents.items()}\n",
    "    #\n",
    "    AllEdges = sum([[(v,k) for v in vals] for k,vals in parents.items() if vals is not None],[])\n",
    "    parents_tups = {k:tuple(v) if v is not None else None for k,v in parents.items() }\n",
    "    paths = {k:{v:k for v in vals} for k,vals in parents.items() if vals is not None}\n",
    "    costsDict = {(_[0],_[1]):_[2] for _ in Graph}\n",
    "    return vertices,parents,paths,costsDict\n",
    "    "
   ]
  },
  {
   "cell_type": "code",
   "execution_count": 166,
   "metadata": {
    "ExecuteTime": {
     "end_time": "2020-09-28T17:02:26.840164Z",
     "start_time": "2020-09-28T17:02:26.814666Z"
    }
   },
   "outputs": [],
   "source": [
    "## find longest path source to sink\n",
    "def FindLongestPath(start,end):\n",
    "    testSource = any([start in _  for _ in AllPossiblePaths.get(end)])\n",
    "    if AllPossiblePaths.get(end) is None or testSource == False:\n",
    "        raise Exception ('No path from', start, 'to',end)\n",
    "    else:\n",
    "        #print('A path exists')\n",
    "        ## Shorten the full path from sink to desired source\n",
    "        sourceToSink = [_ for _ in AllPossiblePaths.get(end) if start in _  ]\n",
    "        sourceToSink = sum([[_[i:] for i,j in enumerate(_) if j==start] for _ in sourceToSink],[])\n",
    "        \n",
    "        ##\n",
    "        pathCosts = [[costsDict[_[i-1],_[i]] for i in range(1,len(_))] for _ in sourceToSink]\n",
    "        pathCosts_sum = [sum(_) for _ in pathCosts]\n",
    "        indexLongest = np.argmax(pathCosts_sum)\n",
    "        ##\n",
    "        outLongPath = sourceToSink[indexLongest]\n",
    "        outLongPath = \"->\".join([str(_) for _ in outLongPath])\n",
    "        outCost = pathCosts_sum[indexLongest]\n",
    "        ##\n",
    "        return outCost,outLongPath\n",
    "        "
   ]
  },
  {
   "cell_type": "code",
   "execution_count": 167,
   "metadata": {
    "ExecuteTime": {
     "end_time": "2020-09-28T17:17:10.801915Z",
     "start_time": "2020-09-28T17:17:10.755520Z"
    }
   },
   "outputs": [],
   "source": [
    "import re\n",
    "def readba5d(file):\n",
    "    F = open(file,'r') \n",
    "    i = 0\n",
    "    source=np.nan\n",
    "    sink=np.nan\n",
    "    adjacencyMat=[]\n",
    "    for line in F: \n",
    "        if i == 0:\n",
    "            source = int(line)\n",
    "            i += 1\n",
    "        else:\n",
    "            if i == 1:\n",
    "                sink = int(line)\n",
    "                i += 1\n",
    "            else:\n",
    "                adjacencyMat.append([int(_)for _ in re.split('->|:|\\n',line)[0:3]])\n",
    "                i += 1\n",
    "\n",
    "    #adjacencyMat = pd.DataFrame(adjacencyMat,columns=['out','in','w'])\n",
    "    return source,sink,adjacencyMat"
   ]
  },
  {
   "cell_type": "code",
   "execution_count": 8,
   "metadata": {
    "ExecuteTime": {
     "end_time": "2020-09-28T04:58:05.266441Z",
     "start_time": "2020-09-28T04:58:05.256028Z"
    }
   },
   "outputs": [],
   "source": [
    "Graph = [(1, 2, 2),\n",
    "         (1, 3, 0),\n",
    "         (1, 6, 8),\n",
    "         (2, 4, 3),\n",
    "         (2, 5, 12),\n",
    "         (3, 5, 3),\n",
    "         (3, 6, 6),\n",
    "         (6, 5, 1),\n",
    "         (7, 5, 16)]\n",
    "source = 1\n",
    "sink = 5"
   ]
  },
  {
   "cell_type": "code",
   "execution_count": 163,
   "metadata": {
    "ExecuteTime": {
     "end_time": "2020-09-28T17:01:47.531618Z",
     "start_time": "2020-09-28T17:01:47.517687Z"
    }
   },
   "outputs": [],
   "source": [
    "vertices, parents, paths, costsDict = processGraph(Graph)\n",
    "AllPossiblePaths = {v:getPaths(v) for v in vertices}"
   ]
  },
  {
   "cell_type": "code",
   "execution_count": 165,
   "metadata": {
    "ExecuteTime": {
     "end_time": "2020-09-28T17:02:21.147670Z",
     "start_time": "2020-09-28T17:02:21.121088Z"
    }
   },
   "outputs": [
    {
     "name": "stdout",
     "output_type": "stream",
     "text": [
      "A path exists\n",
      "14\n",
      "1->2->5\n"
     ]
    }
   ],
   "source": [
    "resCost,resPath = FindLongestPath(source,sink)\n",
    "print(resCost)\n",
    "print(resPath)"
   ]
  },
  {
   "cell_type": "code",
   "execution_count": 174,
   "metadata": {
    "ExecuteTime": {
     "end_time": "2020-09-28T17:19:05.379462Z",
     "start_time": "2020-09-28T17:19:05.367225Z"
    }
   },
   "outputs": [
    {
     "name": "stdout",
     "output_type": "stream",
     "text": [
      "0 4 [(0, 1, 7), (0, 2, 4), (2, 3, 2), (1, 4, 1), (3, 4, 3)]\n"
     ]
    }
   ],
   "source": [
    "source,sink,adjacencyMat = readba5d(\"BA5/test_ba5d.txt\")\n",
    "Graph = [tuple(_) for _ in adjacencyMat]\n",
    "print(source,sink,Graph)"
   ]
  },
  {
   "cell_type": "code",
   "execution_count": 175,
   "metadata": {
    "ExecuteTime": {
     "end_time": "2020-09-28T17:19:05.731099Z",
     "start_time": "2020-09-28T17:19:05.720029Z"
    }
   },
   "outputs": [
    {
     "name": "stdout",
     "output_type": "stream",
     "text": [
      "9\n",
      "0->2->3->4\n"
     ]
    }
   ],
   "source": [
    "vertices, parents, paths, costsDict = processGraph(Graph)\n",
    "AllPossiblePaths = {v:getPaths(v) for v in vertices}\n",
    "resCost,resPath = FindLongestPath(source,sink)\n",
    "print(resCost)\n",
    "print(resPath)"
   ]
  },
  {
   "cell_type": "code",
   "execution_count": 176,
   "metadata": {
    "ExecuteTime": {
     "end_time": "2020-09-28T17:19:17.666114Z",
     "start_time": "2020-09-28T17:19:17.648688Z"
    }
   },
   "outputs": [
    {
     "name": "stdout",
     "output_type": "stream",
     "text": [
      "0 44 [(6, 26, 32), (10, 39, 30), (26, 28, 24), (3, 16, 19), (10, 35, 35), (10, 37, 19), (10, 31, 36), (10, 33, 32), (10, 32, 4), (15, 23, 0), (15, 21, 0), (22, 24, 0), (22, 27, 31), (1, 3, 36), (5, 43, 37), (8, 30, 23), (19, 34, 11), (12, 13, 38), (39, 40, 35), (12, 15, 29), (27, 29, 13), (1, 42, 31), (24, 25, 2), (1, 10, 4), (4, 30, 11), (13, 35, 17), (24, 28, 2), (23, 25, 37), (31, 43, 7), (31, 40, 17), (3, 28, 2), (5, 12, 39), (5, 11, 37), (3, 4, 4), (2, 31, 23), (14, 29, 13), (19, 27, 21), (27, 36, 20), (31, 33, 23), (30, 40, 27), (28, 42, 29), (21, 35, 33), (21, 37, 5), (20, 37, 24), (2, 9, 38), (0, 14, 19), (4, 20, 0), (1, 41, 8), (8, 14, 28), (19, 20, 13), (4, 43, 3), (14, 31, 25), (14, 30, 22), (13, 41, 19), (13, 40, 32), (14, 35, 10), (10, 11, 5), (14, 38, 23), (2, 23, 9), (2, 25, 1), (24, 40, 37), (12, 38, 38), (20, 23, 34), (20, 21, 29), (12, 30, 10), (12, 37, 12), (29, 44, 30), (33, 35, 15), (33, 37, 22), (0, 36, 8), (37, 38, 17), (10, 29, 13), (17, 44, 11), (6, 14, 5), (10, 22, 8), (22, 37, 19), (22, 34, 3), (32, 43, 4), (15, 36, 28), (11, 35, 20), (2, 16, 27), (7, 10, 22), (11, 31, 19), (16, 41, 24), (15, 30, 25), (32, 37, 29), (0, 27, 9), (0, 28, 7), (32, 38, 0), (12, 43, 5), (22, 35, 37), (24, 30, 7), (24, 32, 19), (24, 38, 38)]\n"
     ]
    }
   ],
   "source": [
    "source,sink,adjacencyMat = readba5d(\"BA5/test2_batd.txt\")\n",
    "Graph = [tuple(_) for _ in adjacencyMat]\n",
    "print(source,sink,Graph)"
   ]
  },
  {
   "cell_type": "code",
   "execution_count": 179,
   "metadata": {
    "ExecuteTime": {
     "end_time": "2020-09-28T17:19:55.571203Z",
     "start_time": "2020-09-28T17:19:55.551207Z"
    }
   },
   "outputs": [
    {
     "data": {
      "text/plain": [
       "{0: None,\n",
       " 1: None,\n",
       " 2: None,\n",
       " 3: [1],\n",
       " 4: [3],\n",
       " 5: None,\n",
       " 6: None,\n",
       " 7: None,\n",
       " 8: None,\n",
       " 9: [2],\n",
       " 10: [1, 7],\n",
       " 11: [5, 10],\n",
       " 12: [5],\n",
       " 13: [12],\n",
       " 14: [0, 8, 6],\n",
       " 15: [12],\n",
       " 16: [3, 2],\n",
       " 17: None,\n",
       " 19: None,\n",
       " 20: [4, 19],\n",
       " 21: [15, 20],\n",
       " 22: [10],\n",
       " 23: [15, 2, 20],\n",
       " 24: [22],\n",
       " 25: [24, 23, 2],\n",
       " 26: [6],\n",
       " 27: [22, 19, 0],\n",
       " 28: [26, 24, 3, 0],\n",
       " 29: [27, 14, 10],\n",
       " 30: [8, 4, 14, 12, 15, 24],\n",
       " 31: [10, 2, 14, 11],\n",
       " 32: [10, 24],\n",
       " 33: [10, 31],\n",
       " 34: [19, 22],\n",
       " 35: [10, 13, 21, 14, 33, 11, 22],\n",
       " 36: [27, 0, 15],\n",
       " 37: [10, 21, 20, 12, 33, 22, 32],\n",
       " 38: [14, 12, 37, 32, 24],\n",
       " 39: [10],\n",
       " 40: [39, 31, 30, 13, 24],\n",
       " 41: [1, 13, 16],\n",
       " 42: [1, 28],\n",
       " 43: [5, 31, 4, 32, 12],\n",
       " 44: [29, 17]}"
      ]
     },
     "execution_count": 179,
     "metadata": {},
     "output_type": "execute_result"
    }
   ],
   "source": [
    "vertices, parents, paths, costsDict = processGraph(Graph)\n",
    "AllPossiblePaths = {v:getPaths(v) for v in vertices}\n",
    "resCost,resPath = FindLongestPath(source,sink)\n",
    "print(resCost)\n",
    "print(resPath)"
   ]
  },
  {
   "cell_type": "code",
   "execution_count": 180,
   "metadata": {
    "ExecuteTime": {
     "end_time": "2020-09-28T17:20:09.568565Z",
     "start_time": "2020-09-28T17:20:09.526340Z"
    }
   },
   "outputs": [
    {
     "data": {
      "text/plain": [
       "{0: [[0]],\n",
       " 1: [[1]],\n",
       " 2: [[2]],\n",
       " 3: [[1, 3]],\n",
       " 4: [[1, 3, 4]],\n",
       " 5: [[5]],\n",
       " 6: [[6]],\n",
       " 7: [[7]],\n",
       " 8: [[8]],\n",
       " 9: [[2, 9]],\n",
       " 10: [[1, 10], [7, 10]],\n",
       " 11: [[5, 11], [1, 10, 11], [7, 10, 11]],\n",
       " 12: [[5, 12]],\n",
       " 13: [[5, 12, 13]],\n",
       " 14: [[0, 14], [8, 14], [6, 14]],\n",
       " 15: [[5, 12, 15]],\n",
       " 16: [[1, 3, 16], [2, 16]],\n",
       " 17: [[17]],\n",
       " 19: [[19]],\n",
       " 20: [[1, 3, 4, 20], [19, 20]],\n",
       " 21: [[5, 12, 15, 21], [3, 4, 20, 21], [19, 20, 21]],\n",
       " 22: [[1, 10, 22], [7, 10, 22]],\n",
       " 23: [[5, 12, 15, 23], [2, 23], [3, 4, 20, 23], [19, 20, 23]],\n",
       " 24: [[7, 1, 10, 22, 24]],\n",
       " 25: [[10, 22, 24, 25],\n",
       "  [12, 15, 23, 25],\n",
       "  [2, 23, 25],\n",
       "  [19, 4, 20, 23, 25],\n",
       "  [2, 25]],\n",
       " 26: [[6, 26]],\n",
       " 27: [[7, 1, 10, 22, 27], [19, 27], [0, 27]],\n",
       " 28: [[6, 26, 28], [10, 22, 24, 28], [1, 3, 28], [0, 28]],\n",
       " 29: [[10, 22, 27, 29],\n",
       "  [19, 27, 29],\n",
       "  [0, 27, 29],\n",
       "  [0, 14, 29],\n",
       "  [8, 14, 29],\n",
       "  [6, 14, 29],\n",
       "  [1, 10, 29],\n",
       "  [7, 10, 29]],\n",
       " 30: [[8, 30],\n",
       "  [1, 3, 4, 30],\n",
       "  [0, 14, 30],\n",
       "  [8, 14, 30],\n",
       "  [6, 14, 30],\n",
       "  [5, 12, 30],\n",
       "  [5, 12, 15, 30],\n",
       "  [10, 22, 24, 30]],\n",
       " 31: [[1, 10, 31],\n",
       "  [7, 10, 31],\n",
       "  [2, 31],\n",
       "  [0, 14, 31],\n",
       "  [8, 14, 31],\n",
       "  [6, 14, 31],\n",
       "  [5, 11, 31],\n",
       "  [7, 1, 10, 11, 31]],\n",
       " 32: [[1, 10, 32], [7, 10, 32], [10, 22, 24, 32]],\n",
       " 33: [[1, 10, 33],\n",
       "  [7, 10, 33],\n",
       "  [7, 1, 10, 31, 33],\n",
       "  [2, 31, 33],\n",
       "  [6, 8, 0, 14, 31, 33],\n",
       "  [10, 5, 11, 31, 33]],\n",
       " 34: [[19, 34], [7, 1, 10, 22, 34]],\n",
       " 35: [[1, 10, 35],\n",
       "  [7, 10, 35],\n",
       "  [5, 12, 13, 35],\n",
       "  [12, 15, 21, 35],\n",
       "  [19, 4, 20, 21, 35],\n",
       "  [0, 14, 35],\n",
       "  [8, 14, 35],\n",
       "  [6, 14, 35],\n",
       "  [7, 1, 10, 33, 35],\n",
       "  [11, 14, 2, 10, 31, 33, 35],\n",
       "  [5, 11, 35],\n",
       "  [7, 1, 10, 11, 35],\n",
       "  [7, 1, 10, 22, 35]],\n",
       " 36: [[10, 22, 27, 36], [19, 27, 36], [0, 27, 36], [0, 36], [5, 12, 15, 36]],\n",
       " 37: [[1, 10, 37],\n",
       "  [7, 10, 37],\n",
       "  [12, 15, 21, 37],\n",
       "  [19, 4, 20, 21, 37],\n",
       "  [3, 4, 20, 37],\n",
       "  [19, 20, 37],\n",
       "  [5, 12, 37],\n",
       "  [7, 1, 10, 33, 37],\n",
       "  [11, 14, 2, 10, 31, 33, 37],\n",
       "  [7, 1, 10, 22, 37],\n",
       "  [7, 1, 10, 32, 37],\n",
       "  [22, 24, 32, 37]],\n",
       " 38: [[0, 14, 38],\n",
       "  [8, 14, 38],\n",
       "  [6, 14, 38],\n",
       "  [5, 12, 38],\n",
       "  [7, 1, 10, 37, 38],\n",
       "  [20, 15, 21, 37, 38],\n",
       "  [19, 4, 20, 37, 38],\n",
       "  [5, 12, 37, 38],\n",
       "  [31, 10, 33, 37, 38],\n",
       "  [10, 22, 37, 38],\n",
       "  [24, 10, 32, 37, 38],\n",
       "  [7, 1, 10, 32, 38],\n",
       "  [22, 24, 32, 38],\n",
       "  [10, 22, 24, 38]],\n",
       " 39: [[1, 10, 39], [7, 10, 39]],\n",
       " 40: [[7, 1, 10, 39, 40],\n",
       "  [7, 1, 10, 31, 40],\n",
       "  [2, 31, 40],\n",
       "  [6, 8, 0, 14, 31, 40],\n",
       "  [10, 5, 11, 31, 40],\n",
       "  [8, 30, 40],\n",
       "  [3, 4, 30, 40],\n",
       "  [6, 8, 0, 14, 30, 40],\n",
       "  [5, 12, 30, 40],\n",
       "  [12, 15, 30, 40],\n",
       "  [22, 24, 30, 40],\n",
       "  [5, 12, 13, 40],\n",
       "  [10, 22, 24, 40]],\n",
       " 41: [[1, 41], [5, 12, 13, 41], [1, 3, 16, 41], [2, 16, 41]],\n",
       " 42: [[1, 42], [6, 26, 28, 42], [22, 24, 28, 42], [1, 3, 28, 42], [0, 28, 42]],\n",
       " 43: [[5, 43],\n",
       "  [7, 1, 10, 31, 43],\n",
       "  [2, 31, 43],\n",
       "  [6, 8, 0, 14, 31, 43],\n",
       "  [10, 5, 11, 31, 43],\n",
       "  [1, 3, 4, 43],\n",
       "  [7, 1, 10, 32, 43],\n",
       "  [22, 24, 32, 43],\n",
       "  [5, 12, 43]],\n",
       " 44: [[0, 19, 22, 27, 29, 44],\n",
       "  [6, 8, 0, 14, 29, 44],\n",
       "  [7, 1, 10, 29, 44],\n",
       "  [17, 44]]}"
      ]
     },
     "execution_count": 180,
     "metadata": {},
     "output_type": "execute_result"
    }
   ],
   "source": [
    "AllPossiblePaths"
   ]
  },
  {
   "cell_type": "code",
   "execution_count": 194,
   "metadata": {
    "ExecuteTime": {
     "end_time": "2020-09-28T17:28:25.639757Z",
     "start_time": "2020-09-28T17:28:25.607469Z"
    }
   },
   "outputs": [],
   "source": [
    "def pathTrack3_test(startNode):\n",
    "    \"\"\"\n",
    "    Traverse all possible paths for a given node\n",
    "    \"\"\"\n",
    "    traversed = []\n",
    "    #print(print(traversed)) \n",
    "    i = 0 #Start a counter to add paths as necessary\n",
    "    if paths.get(startNode) == None: # Check if the node has parents. If not, there is no path, leave as is.\n",
    "        #print(startNode) # For debugging\n",
    "        traversed.append([startNode]) #Add the parent node.\n",
    "        #i += 1 #Not needed here (?)\n",
    "    else:\n",
    "        for k,node in list(paths[startNode].items()): #For each parent node, traverse its parents nodes until no parent node is reached.\n",
    "            traversed.append([node,k]) # Starts a new list with the parent and starting nodes.\n",
    "            while parents.get(k) is not None: # Check if the parent node as a parental node\n",
    "                #print(parents[k],'pth',traversed[i])\n",
    "                traversed[i] = traversed[i] + parents[k] #Works but adds multiple\n",
    "                #traversed[i] = traversed[i] + [pathTrack3(each) for each in parents[k]] #parents[k]\n",
    "                #traversed[i] = traversed[i] + [pths(each) for each in parents[k]] #parents[k]\n",
    "                k = tuple(parents[k])\n",
    "            i += 1\n",
    "    return [_[::-1] for _ in traversed if _ is not None]\n",
    "    #return traversed\n",
    "    \n",
    "def getPaths_test(node):\n",
    "    if paths.get(node) == None:\n",
    "        return [[node]]\n",
    "    else:\n",
    "        pths = sum([pathTrack3(_) for _ in parents[node]],[])\n",
    "        pths = [_ + [node] for _ in pths]\n",
    "        return pths"
   ]
  },
  {
   "cell_type": "code",
   "execution_count": 218,
   "metadata": {
    "ExecuteTime": {
     "end_time": "2020-09-28T17:35:30.921322Z",
     "start_time": "2020-09-28T17:35:30.905086Z"
    }
   },
   "outputs": [],
   "source": [
    "def reduxPathsToSink(sink):\n",
    "    PathsToSink = [getPaths_test(_) for _ in parents[sink]]\n",
    "    PathsToSink = sum(PathsToSink,[])\n",
    "    PathsToSink = [_ + [sink] for _ in PathsToSink]\n",
    "    return PathsToSink\n",
    "\n",
    "def reduxCosts(start,end,PathsToSink):\n",
    "    sourceToSink = [_ for _ in PathsToSink if start in _  ]\n",
    "    sourceToSink = sum([[_[i:] for i,j in enumerate(_) if j==start] for _ in sourceToSink],[])\n",
    "    pathCosts = [[costsDict[_[i-1],_[i]] for i in range(1,len(_))] for _ in sourceToSink]\n",
    "    pathCosts_sum = [sum(_) for _ in pathCosts]\n",
    "    indexLongest = np.argmax(pathCosts_sum)\n",
    "    ##\n",
    "    outLongPath = sourceToSink[indexLongest]\n",
    "    outLongPath = \"->\".join([str(_) for _ in outLongPath])\n",
    "    outCost = pathCosts_sum[indexLongest]\n",
    "    ##\n",
    "    return outCost, outLongPath"
   ]
  },
  {
   "cell_type": "code",
   "execution_count": 220,
   "metadata": {
    "ExecuteTime": {
     "end_time": "2020-09-28T17:36:34.001939Z",
     "start_time": "2020-09-28T17:36:33.966954Z"
    }
   },
   "outputs": [
    {
     "name": "stdout",
     "output_type": "stream",
     "text": [
      "62\n",
      "0->14->29->44\n"
     ]
    }
   ],
   "source": [
    "paths44 = reduxPathsToSink(44)\n",
    "largestCost,largestPath = reduxCosts(0,44,paths44)\n",
    "print(largestCost)\n",
    "print(largestPath )"
   ]
  },
  {
   "cell_type": "code",
   "execution_count": 213,
   "metadata": {
    "ExecuteTime": {
     "end_time": "2020-09-28T17:33:39.824904Z",
     "start_time": "2020-09-28T17:33:39.815600Z"
    }
   },
   "outputs": [],
   "source": [
    "source,sink,adjacencyMat = readba5d(\"BA5/test_ba5d.txt\")\n",
    "Graph = [tuple(_) for _ in adjacencyMat]\n",
    "print(source,sink,Graph)"
   ]
  },
  {
   "cell_type": "markdown",
   "metadata": {
    "ExecuteTime": {
     "end_time": "2020-09-28T17:33:50.166085Z",
     "start_time": "2020-09-28T17:33:50.156157Z"
    }
   },
   "source": [
    "#### Challenge"
   ]
  },
  {
   "cell_type": "code",
   "execution_count": 224,
   "metadata": {
    "ExecuteTime": {
     "end_time": "2020-09-28T17:39:06.055837Z",
     "start_time": "2020-09-28T17:39:05.991341Z"
    }
   },
   "outputs": [
    {
     "name": "stdout",
     "output_type": "stream",
     "text": [
      "4 33 [(9, 25, 21), (4, 14, 13), (19, 20, 5), (3, 10, 28), (14, 22, 6), (6, 22, 37), (19, 28, 8), (12, 19, 18), (15, 32, 7), (20, 26, 16), (5, 16, 25), (5, 17, 31), (0, 14, 34), (17, 20, 3), (2, 3, 28), (19, 33, 24), (2, 22, 18), (17, 27, 4), (26, 32, 10), (3, 27, 27), (22, 32, 30), (3, 20, 11), (22, 31, 17), (7, 28, 5), (5, 32, 23), (3, 28, 11), (14, 31, 16), (6, 18, 3), (14, 18, 23), (18, 26, 22), (5, 7, 34), (11, 30, 18), (21, 24, 8), (9, 11, 0), (20, 32, 4), (15, 24, 24), (8, 28, 25), (8, 29, 24), (20, 23, 13), (31, 33, 0), (0, 20, 11), (5, 15, 29), (4, 13, 11), (4, 10, 38), (7, 14, 3), (26, 27, 12), (9, 14, 9), (17, 30, 33), (5, 22, 17), (22, 23, 30)]\n"
     ]
    }
   ],
   "source": [
    "source,sink,adjacencyMat = readba5d(\"BA5/rosalind_ba5d.txt\")\n",
    "Graph = [tuple(_) for _ in adjacencyMat]\n",
    "print(source,sink,Graph)\n",
    "vertices, parents, paths, costsDict = processGraph(Graph)"
   ]
  },
  {
   "cell_type": "code",
   "execution_count": 225,
   "metadata": {
    "ExecuteTime": {
     "end_time": "2020-09-28T17:39:08.557642Z",
     "start_time": "2020-09-28T17:39:08.534479Z"
    }
   },
   "outputs": [
    {
     "name": "stdout",
     "output_type": "stream",
     "text": [
      "36\n",
      "4->14->22->31->33\n"
     ]
    }
   ],
   "source": [
    "pathsSink = reduxPathsToSink(sink)\n",
    "largestCost,largestPath = reduxCosts(source,sink,pathsSink)\n",
    "print(largestCost)\n",
    "print(largestPath )"
   ]
  },
  {
   "cell_type": "code",
   "execution_count": null,
   "metadata": {},
   "outputs": [],
   "source": []
  }
 ],
 "metadata": {
  "kernelspec": {
   "display_name": "Python 3",
   "language": "python",
   "name": "python3"
  },
  "language_info": {
   "codemirror_mode": {
    "name": "ipython",
    "version": 3
   },
   "file_extension": ".py",
   "mimetype": "text/x-python",
   "name": "python",
   "nbconvert_exporter": "python",
   "pygments_lexer": "ipython3",
   "version": "3.7.6"
  },
  "varInspector": {
   "cols": {
    "lenName": 16,
    "lenType": 16,
    "lenVar": 40
   },
   "kernels_config": {
    "python": {
     "delete_cmd_postfix": "",
     "delete_cmd_prefix": "del ",
     "library": "var_list.py",
     "varRefreshCmd": "print(var_dic_list())"
    },
    "r": {
     "delete_cmd_postfix": ") ",
     "delete_cmd_prefix": "rm(",
     "library": "var_list.r",
     "varRefreshCmd": "cat(var_dic_list()) "
    }
   },
   "types_to_exclude": [
    "module",
    "function",
    "builtin_function_or_method",
    "instance",
    "_Feature"
   ],
   "window_display": false
  }
 },
 "nbformat": 4,
 "nbformat_minor": 4
}
