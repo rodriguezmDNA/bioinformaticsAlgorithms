{
 "cells": [
  {
   "cell_type": "code",
   "execution_count": 10,
   "metadata": {
    "ExecuteTime": {
     "end_time": "2020-11-25T02:02:44.872135Z",
     "start_time": "2020-11-25T02:02:44.856312Z"
    }
   },
   "outputs": [],
   "source": [
    "import pandas as pd\n",
    "import numpy as np\n",
    "\n",
    "## From https://github.com/ZhangQiuxue/Rosalind/blob/master/Textbook_05E.py\n",
    "def global_alignment(v, w, scoring_matrix, sigma):\n",
    "    '''Returns the global alignment of v and w subject to the given scoring matrix and indel penalty sigma.'''\n",
    "    # Initialize the matrices.\n",
    "    S = [[0]*(len(w)+1) for _ in range(len(v)+1)]\n",
    "    backtrack = [[0]*(len(w)+1) for _ in range(len(v)+1)]\n",
    "\n",
    "    # Initialize the edges with the given penalties.\n",
    "    for i in range(1, len(v)+1):\n",
    "        S[i][0] = -i*sigma\n",
    "    for j in range(1, len(w)+1):\n",
    "        S[0][j] = -j*sigma\n",
    "\n",
    "    # Fill in the Score and Backtrack matrices.\n",
    "    for i in range(1, len(v)+1):\n",
    "        for j in range(1, len(w)+1):\n",
    "            scores = [S[i-1][j] - sigma, S[i][j-1] - sigma, S[i-1][j-1] + blosum.loc[v[i-1]][w[j-1]]]\n",
    "            S[i][j] = max(scores)\n",
    "            backtrack[i][j] = scores.index(S[i][j])\n",
    "\n",
    "    # Quick lambda function to insert indels.\n",
    "    insert_indel = lambda word, i: word[:i] + '-' + word[i:]\n",
    "\n",
    "    # Initialize the aligned strings as the input strings.\n",
    "    v_aligned, w_aligned = v, w\n",
    "\n",
    "    # Get the position of the highest scoring cell in the matrix and the high score.\n",
    "    i, j = len(v), len(w)\n",
    "    max_score = str(S[i][j])\n",
    "\n",
    "    # Backtrack to the edge of the matrix starting at the highest scoring cell.\n",
    "    while i*j != 0:\n",
    "        if backtrack[i][j] == 0:\n",
    "            i -= 1\n",
    "            w_aligned = insert_indel(w_aligned, j)\n",
    "        elif backtrack[i][j] == 1:\n",
    "            j -= 1\n",
    "            v_aligned = insert_indel(v_aligned, i)\n",
    "        else:\n",
    "            i -= 1\n",
    "            j -= 1\n",
    "\n",
    "    # Prepend the necessary preceeding indels to get to (0,0).\n",
    "    for _ in range(i):\n",
    "        w_aligned = insert_indel(w_aligned, 0)\n",
    "    for _ in range(j):\n",
    "        v_aligned = insert_indel(v_aligned, 0)\n",
    "\n",
    "    return max_score, v_aligned, w_aligned,scores,S,backtrack\n",
    "\n",
    "\n",
    "def readBlosum62():\n",
    "    '''\n",
    "    Read scoring matrix\n",
    "    '''\n",
    "    with open('blosum62.txt') as matrix_file:\n",
    "        matrix = matrix_file.read()\n",
    "        lines = matrix.strip().split('\\n')\n",
    "\n",
    "    blosum={}\n",
    "    cols = lines[0].split()\n",
    "\n",
    "    for row in lines[1:]:       \n",
    "        idx = row[0]\n",
    "        vals = row[1:].split()\n",
    "        vals = [int(_) for _ in vals]\n",
    "        #print(idx,vals)\n",
    "        blosum[idx]=vals\n",
    "\n",
    "    blosum = pd.DataFrame.from_dict(blosum,orient='index',columns=cols)\n",
    "    return blosum"
   ]
  },
  {
   "cell_type": "code",
   "execution_count": 11,
   "metadata": {
    "ExecuteTime": {
     "end_time": "2020-11-25T02:02:45.337964Z",
     "start_time": "2020-11-25T02:02:45.327766Z"
    }
   },
   "outputs": [],
   "source": [
    "def scorematch(residueA,residueB,scoringMatrix):\n",
    "    '''\n",
    "    Get the value of a score between two matches\n",
    "    '''\n",
    "    return scoringMatrix.loc[residueA][residueB]\n",
    "\n",
    "def linearSpaceAlign(x,y,scoringMatrix,indel,verbose=False):\n",
    "    ####\n",
    "    m = len(y)\n",
    "    n = len(x)\n",
    "    score = list(np.cumsum([indel for _ in y]))\n",
    "    nullScore = list(np.cumsum([0] + [indel for _ in x]))\n",
    "    prev = score.copy()\n",
    "    score,nullScore,prev\n",
    "    ####\n",
    "    for j,residue in enumerate(x):\n",
    "        if verbose: print(j,residue)\n",
    "        score = [nullScore[j]] + score\n",
    "        prev = score.copy()\n",
    "\n",
    "        for i in range(1,m+1):\n",
    "            if residue == y[i-1]:\n",
    "                if verbose: print(i, residue,'match',y[i-1], prev,score)\n",
    "                score[i] = prev[i-1] + scorematch(residue,y[i-1],scoringMatrix) \n",
    "            else:\n",
    "                if verbose: print(i, residue, 'no match', y[i-1], prev,score,'choose',\n",
    "                                      score[i-1],\n",
    "                                      score[i],prev[i-1])\n",
    "                score[i] = max(score[i-1] + indel, #Up\n",
    "                                      score[i] + indel, #Left\n",
    "                                      prev[i-1] + scorematch(residue,y[i-1],scoringMatrix)) #Mismatch\n",
    "            if verbose: print(score,\"\\n----\")\n",
    "\n",
    "        score = score[1:]\n",
    "    \n",
    "    score = [nullScore[j+1]] + score\n",
    "    return score\n"
   ]
  },
  {
   "cell_type": "code",
   "execution_count": 12,
   "metadata": {
    "ExecuteTime": {
     "end_time": "2020-11-25T02:02:45.876079Z",
     "start_time": "2020-11-25T02:02:45.867651Z"
    }
   },
   "outputs": [],
   "source": [
    "blosum = readBlosum62()"
   ]
  },
  {
   "cell_type": "code",
   "execution_count": 13,
   "metadata": {
    "ExecuteTime": {
     "end_time": "2020-11-25T02:02:46.374009Z",
     "start_time": "2020-11-25T02:02:46.370117Z"
    }
   },
   "outputs": [],
   "source": [
    "x='PLEASANTLY'\n",
    "y='MEASNLY'"
   ]
  },
  {
   "cell_type": "code",
   "execution_count": 14,
   "metadata": {
    "ExecuteTime": {
     "end_time": "2020-11-25T02:02:47.121766Z",
     "start_time": "2020-11-25T02:02:47.104816Z"
    }
   },
   "outputs": [],
   "source": [
    "def splitstring(s,point):\n",
    "    fwd = s[0:point:]\n",
    "    rev = s[point:][::-1]\n",
    "    return fwd, rev\n",
    "\n",
    "def halfstring(s):\n",
    "    fwd = s[0:int(len(s)/2):]\n",
    "    rev = s[int(len(s)/2):][::-1]\n",
    "    return fwd, rev\n",
    "\n",
    "def linspace(residue,y,updatedScore,nullScore,scoringMatrix,indel=0,j=0,verbose=False):    \n",
    "    \"\"\"\n",
    "    Alignment in linear space\n",
    "    Add scoring matrix capability\n",
    "    \"\"\"\n",
    "    n = len(y)\n",
    "\n",
    "    updatedScore = [nullScore[j]] + updatedScore\n",
    "    prevScore = updatedScore.copy()\n",
    "\n",
    "    #(prevScore,updatedScore)\n",
    "\n",
    "    for i in range(1,n+1):\n",
    "        if residue == y[i-1]:\n",
    "            if verbose: print(i, 'match',y[i-1], prevScore,updatedScore)\n",
    "            updatedScore[i] = prevScore[i-1] + scorematch(residue,y[i-1],scoringMatrix) \n",
    "        else:\n",
    "            if verbose: print(i,'no match', y[i-1], prevScore,updatedScore,'choose',\n",
    "                                  updatedScore[i-1],\n",
    "                                  updatedScore[i],prevScore[i-1])\n",
    "            updatedScore[i] = max(updatedScore[i-1] + indel, #Up\n",
    "                                  updatedScore[i] + indel, #Left\n",
    "                                  prevScore[i-1] + scorematch(residue,y[i-1],scoringMatrix)) #Mismatch\n",
    "        if verbose: print(updatedScore,\"\\n----\")\n",
    "    return updatedScore[1:]\n",
    "\n",
    "def createScorMat(match = 1,mismatch = 0):\n",
    "    \"\"\"\n",
    "    Create scoring matrix for nucleotides with a given match and mismatch values\n",
    "    \"\"\"\n",
    "    nts = ['A','C','T','G']\n",
    "\n",
    "    scoringMatrix = np.zeros((len(nts),len(nts)),)\n",
    "    np.fill_diagonal(scoringMatrix,match)\n",
    "    scoringMatrix\n",
    "    scoringMatrix[scoringMatrix == 0] = mismatch\n",
    "    scoringMatrix = pd.DataFrame(scoringMatrix,index=nts,columns=nts)\n",
    "    return scoringMatrix\n",
    "\n",
    "\n",
    "def align_linear(x,y,scoringMatrix,indel=0,verbose=False):\n",
    "    # Initialize scoring \n",
    "    score = list(np.cumsum([indel for _ in y]))\n",
    "    nullScore = list(np.cumsum([0] + [indel for _ in x]))\n",
    "    for i in range(1,len(x)+1):\n",
    "        prev = score.copy()\n",
    "        score = linspace(x[i-1],y,prev,nullScore,scoringMatrix=scoringMatrix,indel=indel,verbose=False,j=i-1)\n",
    "    return score\n",
    "\n",
    "def hirsh(x,y,scoringmatrix,indel):\n",
    "    fwd, rev = halfstring(x)\n",
    "    fwdMat = wrapAligner(y,fwdX,scoringmatrix,indel)"
   ]
  },
  {
   "cell_type": "code",
   "execution_count": 27,
   "metadata": {
    "ExecuteTime": {
     "end_time": "2020-11-25T02:04:24.053137Z",
     "start_time": "2020-11-25T02:04:24.032595Z"
    }
   },
   "outputs": [
    {
     "name": "stdout",
     "output_type": "stream",
     "text": [
      "[-15, -11, -7, -3, 6, 1, -4, -9, -14, -19, -24] [-20, -8, -8, -5, -8, -9, -6, -11, -16, -20, -22]\n",
      "[-37 -31 -23 -14   0  -8 -12 -14 -22 -27 -44]\n"
     ]
    }
   ],
   "source": [
    "x='PLEASANTLY'\n",
    "y='MEASNLY'\n",
    "indel = -5\n",
    "####\n",
    "yA,yB = halfstring(y)\n",
    "scoreF = linearSpaceAlign(yA,x,blosum,indel)\n",
    "scoreR = linearSpaceAlign(yB[::-1],x[::-1],blosum,indel)\n",
    "print (scoreF,scoreR)\n",
    "print (np.array(scoreF) + np.array(scoreR[::-1]))"
   ]
  },
  {
   "cell_type": "code",
   "execution_count": 53,
   "metadata": {
    "ExecuteTime": {
     "end_time": "2020-11-25T02:20:45.535332Z",
     "start_time": "2020-11-25T02:20:45.511922Z"
    }
   },
   "outputs": [
    {
     "data": {
      "text/plain": [
       "((4, 3), (5, 4))"
      ]
     },
     "execution_count": 53,
     "metadata": {},
     "output_type": "execute_result"
    }
   ],
   "source": [
    "x='PLEASANTLY'\n",
    "y='MEASNLY'\n",
    "indel = -5\n",
    "xA,xB = halfstring(x)\n",
    "scoreF = linearSpaceAlign(xA,y,blosum,indel)\n",
    "scoreR = linearSpaceAlign(xB[::-1],y[::-1],blosum,indel)\n",
    "\n",
    "arrSum = np.array(scoreF) + np.array(scoreR[::-1])\n",
    "maxScore = max(arrSum)\n",
    "whichMax = np.argmax(arrSum)\n",
    "maxScore,whichMax\n",
    "yA, yB = halfstring(y)\n",
    "(np.argmax(np.array(scoreF)),len(yA)) ,( np.argmax(np.array(scoreR))-1, len(yB))"
   ]
  },
  {
   "cell_type": "code",
   "execution_count": 54,
   "metadata": {
    "ExecuteTime": {
     "end_time": "2020-11-25T02:22:23.472326Z",
     "start_time": "2020-11-25T02:21:06.376053Z"
    }
   },
   "outputs": [
    {
     "data": {
      "text/plain": [
       "((515, 510), (493, 511))"
      ]
     },
     "execution_count": 54,
     "metadata": {},
     "output_type": "execute_result"
    }
   ],
   "source": [
    "x='TWLNSACYGVNFRRLNPMNKTKWDCWTWVPMVMAAQYLCRIFIPVMDHWEFFGDWGLETWRLGIHDHVKIPNFRWSCELHIREHGHHFKTRFLKHNQFTQCYGLMPDPQFHRSYDVACQWEVTMSQGLMRFHRQNQIEKQRDRTSTYCMMTIGPGFTSNGYDPFVTITITPVQEPVENWFTPGGSMGFMIISRYMQMFFYLTRFSDMTYLVGVHCENYVCWNNVAKFLNGNLQGIFDQGERAYHQFVTWHSYSQYSRCSVGRYACEQAMSRVNSKMTWHWPIRDQGHEHFSEQYLSEKRNPPCNPRIGNAGQHFYEIHRIAHRVAMCNWAPQGQHPGGPTPHDVETCLWLWSLCLKGSDRGYVDRPWMFLADQLGEANLTLITMFHGCTRGCLMWFMDWEECVCSYSVVNPRCHGSEQWSVQNLGWRTCDTLISLWEPECDKHNTPPCLHWEFEDHPSQLRPVMMCDKYVQSIPTDAKWAWTYSKDFVISHWLIWTPIKLEECVFPQINRLWGTACNQGSQKIVIQNVWLRPSSFFQERSKCSDSSCILNVGGSNVNITGKETRTHVPILHMHEIDLISTASSGMRHNLILPHGMLMLHMNWHHSTRAMNPYSSLKLIPWTFQVCETDDRDQNVATHVADPCHKGEDQEIRCCKGGVDHQWKGDRMWMMCMPDMNYVKQDQAPSGTCEGACENYPADKDKCYMIFTIVFDYRRCTKKVCIWISGFPVDAFNLISIANAGFFCCWLEPTELKWRRTFYLGKGTQGWMCTFPHRNIIPVIICAGFGRWVQGEVPFRPVAQISAHSSDRRQGHHPPGTNMCHDYGDQYPIKRVGMQVEEDDGASYCDCAADWKLADMYEADHLSIGVIDFTDWIYPKNGGIWSEIIKSHFHWYHWETPQNTVGAFNTIVGINGSDMCIYHGNTQWEFGWCWKWLNHGHMRNQGPCHLGILEGRISKFAQVTSWWWQTKHDKDWSIEPYGRHWGEAGRPYTYNYCWMRWAIVYNHGNVISVELVPFMDEYPGKCNKEDVQFELFSPMQA'\n",
    "y='LWFKFLQCIFQYFKDQQETNCIWTFSPFSEHICQRVCQVYWNWNTPSSRTSDPRELFANSTIHNNRCGEWRYMFYHTRTLVQTAPLMKETLHSDGKHSMYCEQRHFFRSSYLIKVNYDVSHYLELYTFSEIPWKLTTHGWDGFSWFLLVNSCCTFDIDGKCGILSQCGMSRAFRTRQEDAYHFQTSLMHLHLHLHVQEGKHEKADLFAQFYNMLPMHGGTCGRNTEPSDLFDSATMNKYMAEHPASCKACPNVSKECFVYWWSHDFTKKHKLIEFSCGRDTGQTTQRTWNVDENEGGKWIWRFHYFMRAKALQIDPKFKPYWNEPRAIMRPGHVTAAPCICAQHSQNETAVCNRDQMHIHAIEFQQYHSRAFGEVQTWCDIGKENENDFIYEQHWWLVGGTEGMAGVIWKFVCARCRTQDCDFWKTCLTYSAQPMMKVYDTIFYVNSINPWEFEDHPSQCDKCVQSIPTDAKYAICGKFVISHWLYWTPQKFEECVHNNVRCAPMGNRLWGTACMVIQNVWLRPSMGSHFSCILNVGGSNINIQGKETWTHVPILHMHEIDLISTASSGMETCKPCFLSGPTIHMGFSYEIRAQPYSRDYFCMDWMQEADEVDHNRCETVQPTLPLLQQFEWKTSCMGQRWITIFCDHCQIVCFSTFFCVMPTFLPNTSILDKFYCIYLSISWTHYCNVHALGFIMRLHYSYMGWKEHKRMHAWDIGLDELWAQEGIQRAQLWCGDEFEVAKYPEWITEARTAIATRPWFHNCYIKPWWIREKHLWFGKESKLDHGHRGAMFTPVANDNTEWMHHWYMFCWAGSKNRLKRQIKEKLIFIIKFMITEFGLFLMIDYTQCYIAWMWAYTGIACYIDWEKCLKHDLTTTDLGCCVYRLFKWYEVRHRAPPQVNTRLPWSQIPMVAIQCNIVDECKEQWHFSYKASFVVEYLCPGCCTNGNRWQWYQVKETPFMYAFAASIFGFHHENLVVFITGSVTIPNGLFGCIAWTSPKPVQKTPASANTIIAYDKCILMG'\n",
    "indel = -5\n",
    "xA,xB = halfstring(x)\n",
    "scoreF = linearSpaceAlign(xA,y,blosum,indel)\n",
    "scoreR = linearSpaceAlign(xB[::-1],y[::-1],blosum,indel)\n",
    "\n",
    "arrSum = np.array(scoreF) + np.array(scoreR[::-1])\n",
    "maxScore = max(arrSum)\n",
    "whichMax = np.argmax(arrSum)\n",
    "maxScore,whichMax\n",
    "yA, yB = halfstring(y)\n",
    "(np.argmax(np.array(scoreF)),len(yA)) ,( np.argmax(np.array(scoreR))-1, len(yB))\n",
    "### Should be (512, 510) (513, 511)"
   ]
  },
  {
   "cell_type": "code",
   "execution_count": 62,
   "metadata": {
    "ExecuteTime": {
     "end_time": "2020-11-25T02:24:51.072163Z",
     "start_time": "2020-11-25T02:24:51.065753Z"
    }
   },
   "outputs": [
    {
     "data": {
      "text/plain": [
       "(510, 511, 517, 518, 519)"
      ]
     },
     "execution_count": 62,
     "metadata": {},
     "output_type": "execute_result"
    }
   ],
   "source": [
    "len(yA),len(yB),len(xA),len(xB),(whichMax)"
   ]
  },
  {
   "cell_type": "code",
   "execution_count": null,
   "metadata": {},
   "outputs": [],
   "source": []
  }
 ],
 "metadata": {
  "kernelspec": {
   "display_name": "Python 3",
   "language": "python",
   "name": "python3"
  },
  "language_info": {
   "codemirror_mode": {
    "name": "ipython",
    "version": 3
   },
   "file_extension": ".py",
   "mimetype": "text/x-python",
   "name": "python",
   "nbconvert_exporter": "python",
   "pygments_lexer": "ipython3",
   "version": "3.8.6"
  },
  "varInspector": {
   "cols": {
    "lenName": 16,
    "lenType": 16,
    "lenVar": 40
   },
   "kernels_config": {
    "python": {
     "delete_cmd_postfix": "",
     "delete_cmd_prefix": "del ",
     "library": "var_list.py",
     "varRefreshCmd": "print(var_dic_list())"
    },
    "r": {
     "delete_cmd_postfix": ") ",
     "delete_cmd_prefix": "rm(",
     "library": "var_list.r",
     "varRefreshCmd": "cat(var_dic_list()) "
    }
   },
   "types_to_exclude": [
    "module",
    "function",
    "builtin_function_or_method",
    "instance",
    "_Feature"
   ],
   "window_display": false
  }
 },
 "nbformat": 4,
 "nbformat_minor": 4
}
