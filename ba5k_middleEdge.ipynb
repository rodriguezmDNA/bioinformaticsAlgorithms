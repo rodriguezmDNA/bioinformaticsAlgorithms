{
 "cells": [
  {
   "cell_type": "code",
   "execution_count": 4,
   "metadata": {
    "ExecuteTime": {
     "end_time": "2020-11-22T20:20:05.463613Z",
     "start_time": "2020-11-22T20:20:05.212085Z"
    }
   },
   "outputs": [],
   "source": [
    "import pandas as pd\n",
    "import numpy as np\n",
    "\n",
    "## From https://github.com/ZhangQiuxue/Rosalind/blob/master/Textbook_05E.py\n",
    "def global_alignment(v, w, scoring_matrix, sigma):\n",
    "    '''Returns the global alignment of v and w subject to the given scoring matrix and indel penalty sigma.'''\n",
    "    # Initialize the matrices.\n",
    "    S = [[0]*(len(w)+1) for _ in range(len(v)+1)]\n",
    "    backtrack = [[0]*(len(w)+1) for _ in range(len(v)+1)]\n",
    "\n",
    "    # Initialize the edges with the given penalties.\n",
    "    for i in range(1, len(v)+1):\n",
    "        S[i][0] = -i*sigma\n",
    "    for j in range(1, len(w)+1):\n",
    "        S[0][j] = -j*sigma\n",
    "\n",
    "    # Fill in the Score and Backtrack matrices.\n",
    "    for i in range(1, len(v)+1):\n",
    "        for j in range(1, len(w)+1):\n",
    "            scores = [S[i-1][j] - sigma, S[i][j-1] - sigma, S[i-1][j-1] + blosum.loc[v[i-1]][w[j-1]]]\n",
    "            S[i][j] = max(scores)\n",
    "            backtrack[i][j] = scores.index(S[i][j])\n",
    "\n",
    "    # Quick lambda function to insert indels.\n",
    "    insert_indel = lambda word, i: word[:i] + '-' + word[i:]\n",
    "\n",
    "    # Initialize the aligned strings as the input strings.\n",
    "    v_aligned, w_aligned = v, w\n",
    "\n",
    "    # Get the position of the highest scoring cell in the matrix and the high score.\n",
    "    i, j = len(v), len(w)\n",
    "    max_score = str(S[i][j])\n",
    "\n",
    "    # Backtrack to the edge of the matrix starting at the highest scoring cell.\n",
    "    while i*j != 0:\n",
    "        if backtrack[i][j] == 0:\n",
    "            i -= 1\n",
    "            w_aligned = insert_indel(w_aligned, j)\n",
    "        elif backtrack[i][j] == 1:\n",
    "            j -= 1\n",
    "            v_aligned = insert_indel(v_aligned, i)\n",
    "        else:\n",
    "            i -= 1\n",
    "            j -= 1\n",
    "\n",
    "    # Prepend the necessary preceeding indels to get to (0,0).\n",
    "    for _ in range(i):\n",
    "        w_aligned = insert_indel(w_aligned, 0)\n",
    "    for _ in range(j):\n",
    "        v_aligned = insert_indel(v_aligned, 0)\n",
    "\n",
    "    return max_score, v_aligned, w_aligned,scores,S,backtrack\n",
    "\n",
    "\n",
    "def readBlosum62():\n",
    "    '''\n",
    "    Read scoring matrix\n",
    "    '''\n",
    "    with open('blosum62.txt') as matrix_file:\n",
    "        matrix = matrix_file.read()\n",
    "        lines = matrix.strip().split('\\n')\n",
    "\n",
    "    blosum={}\n",
    "    cols = lines[0].split()\n",
    "\n",
    "    for row in lines[1:]:       \n",
    "        idx = row[0]\n",
    "        vals = row[1:].split()\n",
    "        vals = [int(_) for _ in vals]\n",
    "        #print(idx,vals)\n",
    "        blosum[idx]=vals\n",
    "\n",
    "    blosum = pd.DataFrame.from_dict(blosum,orient='index',columns=cols)\n",
    "    return blosum"
   ]
  },
  {
   "cell_type": "code",
   "execution_count": 34,
   "metadata": {
    "ExecuteTime": {
     "end_time": "2020-11-22T20:33:03.275869Z",
     "start_time": "2020-11-22T20:33:03.263822Z"
    }
   },
   "outputs": [],
   "source": [
    "def scorematch(residueA,residueB,scoringMatrix):\n",
    "    '''\n",
    "    Get the value of a score between two matches\n",
    "    '''\n",
    "    return scoringMatrix.loc[residueA][residueB]\n",
    "\n",
    "def linearSpaceAlign(x,y,scoringMatrix,indel,verbose=False):\n",
    "    ####\n",
    "    m = len(y)\n",
    "    n = len(x)\n",
    "    score = list(np.cumsum([indel for _ in y]))\n",
    "    nullScore = list(np.cumsum([0] + [indel for _ in x]))\n",
    "    prev = score.copy()\n",
    "    score,nullScore,prev\n",
    "    ####\n",
    "    for j,residue in enumerate(x):\n",
    "        if verbose: print(j,residue)\n",
    "        score = [nullScore[j]] + score\n",
    "        prev = score.copy()\n",
    "\n",
    "        for i in range(1,m+1):\n",
    "            if residue == y[i-1]:\n",
    "                if verbose: print(i, residue,'match',y[i-1], prev,score)\n",
    "                score[i] = prev[i-1] + scorematch(residue,y[i-1],scoringMatrix) \n",
    "            else:\n",
    "                if verbose: print(i, residue, 'no match', y[i-1], prev,score,'choose',\n",
    "                                      score[i-1],\n",
    "                                      score[i],prev[i-1])\n",
    "                score[i] = max(score[i-1] + indel, #Up\n",
    "                                      score[i] + indel, #Left\n",
    "                                      prev[i-1] + scorematch(residue,y[i-1],scoringMatrix)) #Mismatch\n",
    "            if verbose: print(score,\"\\n----\")\n",
    "\n",
    "        score = score[1:]\n",
    "    \n",
    "    score = [nullScore[j+1]] + score\n",
    "    return score\n"
   ]
  },
  {
   "cell_type": "code",
   "execution_count": 31,
   "metadata": {
    "ExecuteTime": {
     "end_time": "2020-11-22T20:32:21.670512Z",
     "start_time": "2020-11-22T20:32:21.661338Z"
    }
   },
   "outputs": [],
   "source": [
    "blosum = readBlosum62()"
   ]
  },
  {
   "cell_type": "code",
   "execution_count": 32,
   "metadata": {
    "ExecuteTime": {
     "end_time": "2020-11-22T20:32:22.344976Z",
     "start_time": "2020-11-22T20:32:22.341555Z"
    }
   },
   "outputs": [],
   "source": [
    "x='PLEASANTLY'\n",
    "y='MEASNLY'"
   ]
  },
  {
   "cell_type": "code",
   "execution_count": 36,
   "metadata": {
    "ExecuteTime": {
     "end_time": "2020-11-22T20:33:28.033005Z",
     "start_time": "2020-11-22T20:33:28.013792Z"
    }
   },
   "outputs": [
    {
     "data": {
      "text/plain": [
       "[-50, -43, -33, -24, -15, -4, 5, 17]"
      ]
     },
     "execution_count": 36,
     "metadata": {},
     "output_type": "execute_result"
    }
   ],
   "source": [
    "linearSpaceAlign(x, y, blosum, -5)"
   ]
  },
  {
   "cell_type": "code",
   "execution_count": null,
   "metadata": {},
   "outputs": [],
   "source": [
    "linearSpaceAlign(x, y, blosum, -5)"
   ]
  },
  {
   "cell_type": "code",
   "execution_count": 37,
   "metadata": {
    "ExecuteTime": {
     "end_time": "2020-11-22T20:33:49.893956Z",
     "start_time": "2020-11-22T20:33:49.884632Z"
    }
   },
   "outputs": [
    {
     "data": {
      "text/plain": [
       "[25, 30, 35, 40]"
      ]
     },
     "execution_count": 37,
     "metadata": {},
     "output_type": "execute_result"
    }
   ],
   "source": [
    "linearSpaceAlign(x[0:int(len(x)/2)],y[0:int(len(y)/2)], blosum, -5)"
   ]
  },
  {
   "cell_type": "code",
   "execution_count": 39,
   "metadata": {
    "ExecuteTime": {
     "end_time": "2020-11-22T20:33:59.931509Z",
     "start_time": "2020-11-22T20:33:59.920178Z"
    }
   },
   "outputs": [
    {
     "data": {
      "text/plain": [
       "[-25, -13, -4, 7, 13]"
      ]
     },
     "execution_count": 39,
     "metadata": {},
     "output_type": "execute_result"
    }
   ],
   "source": [
    "linearSpaceAlign(x[int(len(x)/2):][::-1],y[int(len(y)/2):][::-1], blosum, -5)"
   ]
  },
  {
   "cell_type": "code",
   "execution_count": null,
   "metadata": {},
   "outputs": [],
   "source": []
  },
  {
   "cell_type": "code",
   "execution_count": null,
   "metadata": {},
   "outputs": [],
   "source": []
  }
 ],
 "metadata": {
  "kernelspec": {
   "display_name": "Python 3",
   "language": "python",
   "name": "python3"
  },
  "language_info": {
   "codemirror_mode": {
    "name": "ipython",
    "version": 3
   },
   "file_extension": ".py",
   "mimetype": "text/x-python",
   "name": "python",
   "nbconvert_exporter": "python",
   "pygments_lexer": "ipython3",
   "version": "3.8.6"
  },
  "varInspector": {
   "cols": {
    "lenName": 16,
    "lenType": 16,
    "lenVar": 40
   },
   "kernels_config": {
    "python": {
     "delete_cmd_postfix": "",
     "delete_cmd_prefix": "del ",
     "library": "var_list.py",
     "varRefreshCmd": "print(var_dic_list())"
    },
    "r": {
     "delete_cmd_postfix": ") ",
     "delete_cmd_prefix": "rm(",
     "library": "var_list.r",
     "varRefreshCmd": "cat(var_dic_list()) "
    }
   },
   "types_to_exclude": [
    "module",
    "function",
    "builtin_function_or_method",
    "instance",
    "_Feature"
   ],
   "window_display": false
  }
 },
 "nbformat": 4,
 "nbformat_minor": 4
}
