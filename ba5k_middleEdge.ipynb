{
 "cells": [
  {
   "cell_type": "code",
   "execution_count": 1,
   "metadata": {
    "ExecuteTime": {
     "end_time": "2020-11-24T03:35:26.018299Z",
     "start_time": "2020-11-24T03:35:25.621810Z"
    }
   },
   "outputs": [],
   "source": [
    "import pandas as pd\n",
    "import numpy as np\n",
    "\n",
    "## From https://github.com/ZhangQiuxue/Rosalind/blob/master/Textbook_05E.py\n",
    "def global_alignment(v, w, scoring_matrix, sigma):\n",
    "    '''Returns the global alignment of v and w subject to the given scoring matrix and indel penalty sigma.'''\n",
    "    # Initialize the matrices.\n",
    "    S = [[0]*(len(w)+1) for _ in range(len(v)+1)]\n",
    "    backtrack = [[0]*(len(w)+1) for _ in range(len(v)+1)]\n",
    "\n",
    "    # Initialize the edges with the given penalties.\n",
    "    for i in range(1, len(v)+1):\n",
    "        S[i][0] = -i*sigma\n",
    "    for j in range(1, len(w)+1):\n",
    "        S[0][j] = -j*sigma\n",
    "\n",
    "    # Fill in the Score and Backtrack matrices.\n",
    "    for i in range(1, len(v)+1):\n",
    "        for j in range(1, len(w)+1):\n",
    "            scores = [S[i-1][j] - sigma, S[i][j-1] - sigma, S[i-1][j-1] + blosum.loc[v[i-1]][w[j-1]]]\n",
    "            S[i][j] = max(scores)\n",
    "            backtrack[i][j] = scores.index(S[i][j])\n",
    "\n",
    "    # Quick lambda function to insert indels.\n",
    "    insert_indel = lambda word, i: word[:i] + '-' + word[i:]\n",
    "\n",
    "    # Initialize the aligned strings as the input strings.\n",
    "    v_aligned, w_aligned = v, w\n",
    "\n",
    "    # Get the position of the highest scoring cell in the matrix and the high score.\n",
    "    i, j = len(v), len(w)\n",
    "    max_score = str(S[i][j])\n",
    "\n",
    "    # Backtrack to the edge of the matrix starting at the highest scoring cell.\n",
    "    while i*j != 0:\n",
    "        if backtrack[i][j] == 0:\n",
    "            i -= 1\n",
    "            w_aligned = insert_indel(w_aligned, j)\n",
    "        elif backtrack[i][j] == 1:\n",
    "            j -= 1\n",
    "            v_aligned = insert_indel(v_aligned, i)\n",
    "        else:\n",
    "            i -= 1\n",
    "            j -= 1\n",
    "\n",
    "    # Prepend the necessary preceeding indels to get to (0,0).\n",
    "    for _ in range(i):\n",
    "        w_aligned = insert_indel(w_aligned, 0)\n",
    "    for _ in range(j):\n",
    "        v_aligned = insert_indel(v_aligned, 0)\n",
    "\n",
    "    return max_score, v_aligned, w_aligned,scores,S,backtrack\n",
    "\n",
    "\n",
    "def readBlosum62():\n",
    "    '''\n",
    "    Read scoring matrix\n",
    "    '''\n",
    "    with open('blosum62.txt') as matrix_file:\n",
    "        matrix = matrix_file.read()\n",
    "        lines = matrix.strip().split('\\n')\n",
    "\n",
    "    blosum={}\n",
    "    cols = lines[0].split()\n",
    "\n",
    "    for row in lines[1:]:       \n",
    "        idx = row[0]\n",
    "        vals = row[1:].split()\n",
    "        vals = [int(_) for _ in vals]\n",
    "        #print(idx,vals)\n",
    "        blosum[idx]=vals\n",
    "\n",
    "    blosum = pd.DataFrame.from_dict(blosum,orient='index',columns=cols)\n",
    "    return blosum"
   ]
  },
  {
   "cell_type": "code",
   "execution_count": 2,
   "metadata": {
    "ExecuteTime": {
     "end_time": "2020-11-24T03:35:26.129542Z",
     "start_time": "2020-11-24T03:35:26.121430Z"
    }
   },
   "outputs": [],
   "source": [
    "def scorematch(residueA,residueB,scoringMatrix):\n",
    "    '''\n",
    "    Get the value of a score between two matches\n",
    "    '''\n",
    "    return scoringMatrix.loc[residueA][residueB]\n",
    "\n",
    "def linearSpaceAlign(x,y,scoringMatrix,indel,verbose=False):\n",
    "    ####\n",
    "    m = len(y)\n",
    "    n = len(x)\n",
    "    score = list(np.cumsum([indel for _ in y]))\n",
    "    nullScore = list(np.cumsum([0] + [indel for _ in x]))\n",
    "    prev = score.copy()\n",
    "    score,nullScore,prev\n",
    "    ####\n",
    "    for j,residue in enumerate(x):\n",
    "        if verbose: print(j,residue)\n",
    "        score = [nullScore[j]] + score\n",
    "        prev = score.copy()\n",
    "\n",
    "        for i in range(1,m+1):\n",
    "            if residue == y[i-1]:\n",
    "                if verbose: print(i, residue,'match',y[i-1], prev,score)\n",
    "                score[i] = prev[i-1] + scorematch(residue,y[i-1],scoringMatrix) \n",
    "            else:\n",
    "                if verbose: print(i, residue, 'no match', y[i-1], prev,score,'choose',\n",
    "                                      score[i-1],\n",
    "                                      score[i],prev[i-1])\n",
    "                score[i] = max(score[i-1] + indel, #Up\n",
    "                                      score[i] + indel, #Left\n",
    "                                      prev[i-1] + scorematch(residue,y[i-1],scoringMatrix)) #Mismatch\n",
    "            if verbose: print(score,\"\\n----\")\n",
    "\n",
    "        score = score[1:]\n",
    "    \n",
    "    score = [nullScore[j+1]] + score\n",
    "    return score\n"
   ]
  },
  {
   "cell_type": "code",
   "execution_count": 3,
   "metadata": {
    "ExecuteTime": {
     "end_time": "2020-11-24T03:35:26.493324Z",
     "start_time": "2020-11-24T03:35:26.482349Z"
    }
   },
   "outputs": [],
   "source": [
    "blosum = readBlosum62()"
   ]
  },
  {
   "cell_type": "code",
   "execution_count": 4,
   "metadata": {
    "ExecuteTime": {
     "end_time": "2020-11-24T03:35:27.725792Z",
     "start_time": "2020-11-24T03:35:27.722319Z"
    }
   },
   "outputs": [],
   "source": [
    "x='PLEASANTLY'\n",
    "y='MEASNLY'"
   ]
  },
  {
   "cell_type": "code",
   "execution_count": 17,
   "metadata": {
    "ExecuteTime": {
     "end_time": "2020-11-24T03:47:07.454954Z",
     "start_time": "2020-11-24T03:47:07.438482Z"
    }
   },
   "outputs": [],
   "source": [
    "def splitstring(s,point):\n",
    "    fwd = s[0:point:]\n",
    "    rev = s[point:][::-1]\n",
    "    return fwd, rev\n",
    "\n",
    "def halfstring(s):\n",
    "    fwd = s[0:int(len(s)/2):]\n",
    "    rev = s[int(len(s)/2):][::-1]\n",
    "    return fwd, rev\n",
    "\n",
    "def linspace(residue,y,updatedScore,nullScore,scoringMatrix,indel=0,j=0,verbose=False):    \n",
    "    \"\"\"\n",
    "    Alignment in linear space\n",
    "    Add scoring matrix capability\n",
    "    \"\"\"\n",
    "    n = len(y)\n",
    "\n",
    "    updatedScore = [nullScore[j]] + updatedScore\n",
    "    prevScore = updatedScore.copy()\n",
    "\n",
    "    #(prevScore,updatedScore)\n",
    "\n",
    "    for i in range(1,n+1):\n",
    "        if residue == y[i-1]:\n",
    "            if verbose: print(i, 'match',y[i-1], prevScore,updatedScore)\n",
    "            updatedScore[i] = prevScore[i-1] + scorematch(residue,y[i-1],scoringMatrix) \n",
    "        else:\n",
    "            if verbose: print(i,'no match', y[i-1], prevScore,updatedScore,'choose',\n",
    "                                  updatedScore[i-1],\n",
    "                                  updatedScore[i],prevScore[i-1])\n",
    "            updatedScore[i] = max(updatedScore[i-1] + indel, #Up\n",
    "                                  updatedScore[i] + indel, #Left\n",
    "                                  prevScore[i-1] + scorematch(residue,y[i-1],scoringMatrix)) #Mismatch\n",
    "        if verbose: print(updatedScore,\"\\n----\")\n",
    "    return updatedScore[1:]\n",
    "\n",
    "def createScorMat(match = 1,mismatch = 0):\n",
    "    \"\"\"\n",
    "    Create scoring matrix for nucleotides with a given match and mismatch values\n",
    "    \"\"\"\n",
    "    nts = ['A','C','T','G']\n",
    "\n",
    "    scoringMatrix = np.zeros((len(nts),len(nts)),)\n",
    "    np.fill_diagonal(scoringMatrix,match)\n",
    "    scoringMatrix\n",
    "    scoringMatrix[scoringMatrix == 0] = mismatch\n",
    "    scoringMatrix = pd.DataFrame(scoringMatrix,index=nts,columns=nts)\n",
    "    return scoringMatrix\n",
    "\n",
    "\n",
    "def align_linear(x,y,scoringMatrix,indel=0,verbose=False):\n",
    "    # Initialize scoring \n",
    "    score = list(np.cumsum([indel for _ in y]))\n",
    "    nullScore = list(np.cumsum([0] + [indel for _ in x]))\n",
    "    for i in range(1,len(x)+1):\n",
    "        prev = score.copy()\n",
    "        score = linspace(x[i-1],y,prev,nullScore,scoringMatrix=scoringMatrix,indel=indel,verbose=False,j=i-1)\n",
    "    return score\n",
    "\n",
    "def hirsh(x,y,scoringmatrix,indel):\n",
    "    fwd, rev = halfstring(x)\n",
    "    fwdMat = wrapAligner(y,fwdX,scoringmatrix,indel)"
   ]
  },
  {
   "cell_type": "code",
   "execution_count": 15,
   "metadata": {
    "ExecuteTime": {
     "end_time": "2020-11-24T03:46:27.604549Z",
     "start_time": "2020-11-24T03:46:27.586195Z"
    }
   },
   "outputs": [
    {
     "name": "stdout",
     "output_type": "stream",
     "text": [
      "[-15, -11, -7, -3, 6, 1, -4, -9, -14, -19, -24] [-20, -8, -8, -5, -8, -9, -6, -11, -16, -20, -22]\n",
      "[-37 -31 -23 -14   0  -8 -12 -14 -22 -27 -44]\n"
     ]
    }
   ],
   "source": [
    "x='PLEASANTLY'\n",
    "y='MEASNLY'\n",
    "indel = -5\n",
    "####\n",
    "yA,yB = halfstring(y)\n",
    "scoreF = linearSpaceAlign(yA,x,blosum,indel)\n",
    "scoreR = linearSpaceAlign(yB[::-1],x[::-1],blosum,indel)\n",
    "print (scoreF,scoreR)\n",
    "print (np.array(scoreF) + np.array(scoreR[::-1]))"
   ]
  },
  {
   "cell_type": "code",
   "execution_count": 78,
   "metadata": {
    "ExecuteTime": {
     "end_time": "2020-11-24T04:11:49.415211Z",
     "start_time": "2020-11-24T04:11:49.400636Z"
    }
   },
   "outputs": [
    {
     "data": {
      "text/plain": [
       "[-6.0, -2.0, -1.0, -3.0, 1.0, -1.0, 3.0, 1.0]"
      ]
     },
     "execution_count": 78,
     "metadata": {},
     "output_type": "execute_result"
    }
   ],
   "source": [
    "x='TATGC'\n",
    "y='AGTACGCA'\n",
    "####\n",
    "indel = -2\n",
    "mismatch=-1\n",
    "match = 2\n",
    "### Create scoring matrix\n",
    "scoringMatrix = createScorMat(match,mismatch)\n",
    "\n",
    "#### Return last row of alignment\n",
    "align_linear(x,y,scoringMatrix,indel) #Max is last element"
   ]
  },
  {
   "cell_type": "code",
   "execution_count": 80,
   "metadata": {
    "ExecuteTime": {
     "end_time": "2020-11-24T04:11:57.185252Z",
     "start_time": "2020-11-24T04:11:57.170682Z"
    }
   },
   "outputs": [
    {
     "data": {
      "text/plain": [
       "(1.0, 4)"
      ]
     },
     "execution_count": 80,
     "metadata": {},
     "output_type": "execute_result"
    }
   ],
   "source": [
    "xA,xB = halfstring(x)\n",
    "scoreF = linearSpaceAlign(xA,y,scoringMatrix,indel)\n",
    "scoreR = linearSpaceAlign(xB[::-1],y[::-1],scoringMatrix,indel)\n",
    "\n",
    "arrSum = np.array(scoreF) + np.array(scoreR[::-1])\n",
    "maxScore = max(arrSum)\n",
    "whichMax = np.argmax(arrSum)\n",
    "maxScore,whichMax"
   ]
  },
  {
   "cell_type": "code",
   "execution_count": 81,
   "metadata": {
    "ExecuteTime": {
     "end_time": "2020-11-24T04:11:58.782015Z",
     "start_time": "2020-11-24T04:11:58.763302Z"
    }
   },
   "outputs": [
    {
     "data": {
      "text/plain": [
       "('17',\n",
       " '--TATGC-',\n",
       " 'AGTACGCA',\n",
       " [4, 17, 8],\n",
       " [[0, -2, -4, -6, -8, -10, -12, -14, -16],\n",
       "  [-2, 0, -2, 1, -1, -3, -5, -7, -9],\n",
       "  [-4, 2, 0, -1, 5, 3, 1, -1, -3],\n",
       "  [-6, 0, 0, 5, 3, 4, 2, 0, -1],\n",
       "  [-8, -2, 6, 4, 5, 3, 10, 8, 6],\n",
       "  [-10, -4, 4, 5, 4, 14, 12, 19, 17]],\n",
       " [[0, 0, 0, 0, 0, 0, 0, 0, 0],\n",
       "  [0, 2, 1, 2, 1, 1, 1, 1, 1],\n",
       "  [0, 2, 1, 0, 2, 1, 1, 1, 1],\n",
       "  [0, 0, 2, 2, 0, 2, 1, 1, 2],\n",
       "  [0, 0, 2, 1, 2, 1, 2, 1, 1],\n",
       "  [0, 0, 0, 2, 2, 2, 1, 2, 1]])"
      ]
     },
     "execution_count": 81,
     "metadata": {},
     "output_type": "execute_result"
    }
   ],
   "source": [
    "x='TATGC'\n",
    "y='AGTACGCA'\n",
    "####\n",
    "indel = -2\n",
    "mismatch=-1\n",
    "match = 2\n",
    "### Create scoring matrix\n",
    "scoringMatrix = createScorMat(match,mismatch)\n",
    "global_alignment(x,y,scoringMatrix,2)"
   ]
  },
  {
   "cell_type": "code",
   "execution_count": 82,
   "metadata": {
    "ExecuteTime": {
     "end_time": "2020-11-24T04:12:00.656007Z",
     "start_time": "2020-11-24T04:12:00.644245Z"
    },
    "cell_style": "split"
   },
   "outputs": [
    {
     "data": {
      "text/plain": [
       "('-3',\n",
       " '--TA----',\n",
       " 'AGTACGCA',\n",
       " [-11, -3, -3],\n",
       " [[0, -2, -4, -6, -8, -10, -12, -14, -16],\n",
       "  [-2, 0, -2, 1, -1, -3, -5, -7, -9],\n",
       "  [-4, 2, 0, -1, 5, 3, 1, -1, -3]],\n",
       " [[0, 0, 0, 0, 0, 0, 0, 0, 0],\n",
       "  [0, 2, 1, 2, 1, 1, 1, 1, 1],\n",
       "  [0, 2, 1, 0, 2, 1, 1, 1, 1]])"
      ]
     },
     "execution_count": 82,
     "metadata": {},
     "output_type": "execute_result"
    }
   ],
   "source": [
    "global_alignment(xA,y,scoringMatrix,2)"
   ]
  },
  {
   "cell_type": "code",
   "execution_count": 83,
   "metadata": {
    "ExecuteTime": {
     "end_time": "2020-11-24T04:12:03.253370Z",
     "start_time": "2020-11-24T04:12:03.239948Z"
    },
    "cell_style": "split"
   },
   "outputs": [
    {
     "data": {
      "text/plain": [
       "('5',\n",
       " 'T-GC----',\n",
       " 'ACGCATGA',\n",
       " [-3, 5, 1],\n",
       " [[0, -2, -4, -6, -8, -10, -12, -14, -16],\n",
       "  [-2, 0, -2, -4, -6, -8, -5, -7, -9],\n",
       "  [-4, -2, -3, 4, 2, 0, -2, 1, -1],\n",
       "  [-6, -4, 7, 5, 13, 11, 9, 7, 5]],\n",
       " [[0, 0, 0, 0, 0, 0, 0, 0, 0],\n",
       "  [0, 2, 1, 1, 1, 1, 2, 1, 1],\n",
       "  [0, 0, 2, 2, 1, 1, 1, 2, 1],\n",
       "  [0, 0, 2, 1, 2, 1, 1, 1, 1]])"
      ]
     },
     "execution_count": 83,
     "metadata": {},
     "output_type": "execute_result"
    }
   ],
   "source": [
    "global_alignment(xB[::-1],y[::-1],scoringMatrix,2)"
   ]
  },
  {
   "cell_type": "code",
   "execution_count": 84,
   "metadata": {
    "ExecuteTime": {
     "end_time": "2020-11-24T04:12:06.353194Z",
     "start_time": "2020-11-24T04:12:06.343773Z"
    },
    "cell_style": "split"
   },
   "outputs": [
    {
     "data": {
      "text/plain": [
       "[-4, 0.0, -2.0, -4.0, 0.0, -2.0, -4.0, -6.0, -8.0]"
      ]
     },
     "execution_count": 84,
     "metadata": {},
     "output_type": "execute_result"
    }
   ],
   "source": [
    "linearSpaceAlign(xA,y,scoringMatrix,indel)"
   ]
  },
  {
   "cell_type": "code",
   "execution_count": 85,
   "metadata": {
    "ExecuteTime": {
     "end_time": "2020-11-24T04:12:23.387727Z",
     "start_time": "2020-11-24T04:12:23.377680Z"
    },
    "cell_style": "split"
   },
   "outputs": [
    {
     "data": {
      "text/plain": [
       "[-6, -5.0, -1.0, -3.0, 1.0, -1.0, -3.0, -5.0, -7.0]"
      ]
     },
     "execution_count": 85,
     "metadata": {},
     "output_type": "execute_result"
    }
   ],
   "source": [
    "linearSpaceAlign(xB[::-1],y[::-1],scoringMatrix,indel)"
   ]
  },
  {
   "cell_type": "code",
   "execution_count": null,
   "metadata": {},
   "outputs": [],
   "source": []
  }
 ],
 "metadata": {
  "kernelspec": {
   "display_name": "Python 3",
   "language": "python",
   "name": "python3"
  },
  "language_info": {
   "codemirror_mode": {
    "name": "ipython",
    "version": 3
   },
   "file_extension": ".py",
   "mimetype": "text/x-python",
   "name": "python",
   "nbconvert_exporter": "python",
   "pygments_lexer": "ipython3",
   "version": "3.8.6"
  },
  "varInspector": {
   "cols": {
    "lenName": 16,
    "lenType": 16,
    "lenVar": 40
   },
   "kernels_config": {
    "python": {
     "delete_cmd_postfix": "",
     "delete_cmd_prefix": "del ",
     "library": "var_list.py",
     "varRefreshCmd": "print(var_dic_list())"
    },
    "r": {
     "delete_cmd_postfix": ") ",
     "delete_cmd_prefix": "rm(",
     "library": "var_list.r",
     "varRefreshCmd": "cat(var_dic_list()) "
    }
   },
   "types_to_exclude": [
    "module",
    "function",
    "builtin_function_or_method",
    "instance",
    "_Feature"
   ],
   "window_display": false
  }
 },
 "nbformat": 4,
 "nbformat_minor": 4
}
