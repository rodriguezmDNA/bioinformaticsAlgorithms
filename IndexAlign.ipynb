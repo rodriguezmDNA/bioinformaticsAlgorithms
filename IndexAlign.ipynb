{
 "cells": [
  {
   "cell_type": "code",
   "execution_count": 5,
   "metadata": {
    "ExecuteTime": {
     "end_time": "2020-10-23T23:21:34.288945Z",
     "start_time": "2020-10-23T23:21:34.279086Z"
    }
   },
   "outputs": [],
   "source": [
    "def whichQuery(x,y):\n",
    "    m = len(x)\n",
    "    n = len(y)\n",
    "    whichMax = np.argmax([m,n])\n",
    "    if whichMax == 0:\n",
    "        target,query = x,y\n",
    "\n",
    "    else:\n",
    "        target,query = y,x\n",
    "    return target, query"
   ]
  },
  {
   "cell_type": "code",
   "execution_count": 7,
   "metadata": {
    "ExecuteTime": {
     "end_time": "2020-10-23T23:21:48.047321Z",
     "start_time": "2020-10-23T23:21:48.014835Z"
    }
   },
   "outputs": [],
   "source": [
    "def makeIndex(target,k=3):\n",
    "    k = 3\n",
    "    index = {}\n",
    "    for _ in range(0,len(target)-2):\n",
    "        kmer = target[_:_+k]\n",
    "        if index.get(kmer) == None:\n",
    "            index[kmer] = [_]\n",
    "        else:\n",
    "            index[kmer].append(_)\n",
    "    return index"
   ]
  },
  {
   "cell_type": "code",
   "execution_count": 20,
   "metadata": {
    "ExecuteTime": {
     "end_time": "2020-10-23T23:28:16.955784Z",
     "start_time": "2020-10-23T23:28:16.950918Z"
    }
   },
   "outputs": [],
   "source": [
    "x='GTAGGCTTAAGGTTA'\n",
    "y='AGGCTTA'"
   ]
  },
  {
   "cell_type": "code",
   "execution_count": 25,
   "metadata": {
    "ExecuteTime": {
     "end_time": "2020-10-23T23:28:46.436792Z",
     "start_time": "2020-10-23T23:28:46.422442Z"
    }
   },
   "outputs": [
    {
     "data": {
      "text/plain": [
       "{'GTA': [0],\n",
       " 'TAG': [1],\n",
       " 'AGG': [2, 9],\n",
       " 'GGC': [3],\n",
       " 'GCT': [4],\n",
       " 'CTT': [5],\n",
       " 'TTA': [6, 12],\n",
       " 'TAA': [7],\n",
       " 'AAG': [8],\n",
       " 'GGT': [10],\n",
       " 'GTT': [11]}"
      ]
     },
     "execution_count": 25,
     "metadata": {},
     "output_type": "execute_result"
    }
   ],
   "source": [
    "target,query = whichQuery(x,y)\n",
    "k=3\n",
    "## Make index\n",
    "index = makeIndex(target,k)\n",
    "index"
   ]
  },
  {
   "cell_type": "code",
   "execution_count": 32,
   "metadata": {
    "ExecuteTime": {
     "end_time": "2020-10-26T00:45:25.656915Z",
     "start_time": "2020-10-26T00:45:25.628058Z"
    }
   },
   "outputs": [
    {
     "data": {
      "text/plain": [
       "['AGG', 'GGC', 'GCT', 'CTT', 'TTA']"
      ]
     },
     "execution_count": 32,
     "metadata": {},
     "output_type": "execute_result"
    }
   ],
   "source": [
    "## Get kmers from query\n",
    "kmers = []\n",
    "for _ in range(0,len(query)-2):\n",
    "    kmers.append(query[_:_+k])\n",
    "kmers"
   ]
  },
  {
   "cell_type": "code",
   "execution_count": 34,
   "metadata": {
    "ExecuteTime": {
     "end_time": "2020-10-26T00:45:40.373648Z",
     "start_time": "2020-10-26T00:45:40.330970Z"
    }
   },
   "outputs": [
    {
     "data": {
      "text/plain": [
       "['AGG', 'GGC', 'GCT', 'CTT', 'TTA']"
      ]
     },
     "execution_count": 34,
     "metadata": {},
     "output_type": "execute_result"
    }
   ],
   "source": [
    "kmers"
   ]
  },
  {
   "cell_type": "code",
   "execution_count": 37,
   "metadata": {
    "ExecuteTime": {
     "end_time": "2020-10-26T00:46:31.726064Z",
     "start_time": "2020-10-26T00:46:31.690387Z"
    }
   },
   "outputs": [],
   "source": [
    "dKmers = {}\n",
    "for val in kmers:\n",
    "    dKmers[val] = index.get(val)\n",
    "\n"
   ]
  },
  {
   "cell_type": "code",
   "execution_count": 38,
   "metadata": {
    "ExecuteTime": {
     "end_time": "2020-10-26T00:46:36.600956Z",
     "start_time": "2020-10-26T00:46:36.589796Z"
    }
   },
   "outputs": [
    {
     "data": {
      "text/plain": [
       "{'AGG': [2, 9], 'GGC': [3], 'GCT': [4], 'CTT': [5], 'TTA': [6, 12]}"
      ]
     },
     "execution_count": 38,
     "metadata": {},
     "output_type": "execute_result"
    }
   ],
   "source": [
    "dKmers"
   ]
  },
  {
   "cell_type": "code",
   "execution_count": 41,
   "metadata": {
    "ExecuteTime": {
     "end_time": "2020-10-26T00:48:23.502836Z",
     "start_time": "2020-10-26T00:48:23.488232Z"
    }
   },
   "outputs": [],
   "source": [
    "## Find the subset of target that is more similar to query.\n",
    "# Assumption: the query sequence is simila to the target sequence."
   ]
  },
  {
   "cell_type": "code",
   "execution_count": 56,
   "metadata": {
    "ExecuteTime": {
     "end_time": "2020-10-26T00:50:29.051150Z",
     "start_time": "2020-10-26T00:50:29.039693Z"
    }
   },
   "outputs": [
    {
     "data": {
      "text/plain": [
       "[6, 12]"
      ]
     },
     "execution_count": 56,
     "metadata": {},
     "output_type": "execute_result"
    }
   ],
   "source": [
    "### alignment must be the longest possible sequence\n",
    "maxPos = len(kmers)\n",
    "lastVals = dKmers[kmers[-1]]\n",
    "lastVals\n"
   ]
  },
  {
   "cell_type": "code",
   "execution_count": 61,
   "metadata": {
    "ExecuteTime": {
     "end_time": "2020-10-26T00:51:17.505963Z",
     "start_time": "2020-10-26T00:51:17.493810Z"
    }
   },
   "outputs": [
    {
     "data": {
      "text/plain": [
       "('TTA', '--', ['AGG', 'GGC', 'GCT', 'CTT', 'TTA'])"
      ]
     },
     "execution_count": 61,
     "metadata": {},
     "output_type": "execute_result"
    }
   ],
   "source": [
    "maxPos = len(kmers)\n",
    "kmers[maxPos-1], \"--\", kmers"
   ]
  },
  {
   "cell_type": "code",
   "execution_count": 80,
   "metadata": {
    "ExecuteTime": {
     "end_time": "2020-10-26T00:53:31.787285Z",
     "start_time": "2020-10-26T00:53:31.775678Z"
    }
   },
   "outputs": [
    {
     "data": {
      "text/plain": [
       "[6, 12]"
      ]
     },
     "execution_count": 80,
     "metadata": {},
     "output_type": "execute_result"
    }
   ],
   "source": [
    "lastIdx = index[kmers[maxPos-1]]\n",
    "lastIdx"
   ]
  },
  {
   "cell_type": "code",
   "execution_count": 93,
   "metadata": {
    "ExecuteTime": {
     "end_time": "2020-10-26T00:55:16.011254Z",
     "start_time": "2020-10-26T00:55:15.997645Z"
    }
   },
   "outputs": [
    {
     "data": {
      "text/plain": [
       "list"
      ]
     },
     "execution_count": 93,
     "metadata": {},
     "output_type": "execute_result"
    }
   ],
   "source": [
    "type(lastIdx)"
   ]
  },
  {
   "cell_type": "code",
   "execution_count": 104,
   "metadata": {
    "ExecuteTime": {
     "end_time": "2020-10-26T00:57:24.431121Z",
     "start_time": "2020-10-26T00:57:24.420939Z"
    }
   },
   "outputs": [
    {
     "data": {
      "text/plain": [
       "5"
      ]
     },
     "execution_count": 104,
     "metadata": {},
     "output_type": "execute_result"
    }
   ],
   "source": []
  },
  {
   "cell_type": "code",
   "execution_count": 108,
   "metadata": {
    "ExecuteTime": {
     "end_time": "2020-10-26T01:18:17.254217Z",
     "start_time": "2020-10-26T01:18:17.236865Z"
    }
   },
   "outputs": [
    {
     "name": "stdout",
     "output_type": "stream",
     "text": [
      "{5}\n",
      "{5}\n",
      "{5}\n",
      "{5}\n",
      "{5}\n"
     ]
    }
   ],
   "source": [
    "\n",
    "if len(overlap) > 0:\n",
    "    overlap = set([_ -1 for _ in lastIdx]) and set(index[kmers[maxPos-2]])\n",
    "    i = maxPos-1\n"
   ]
  },
  {
   "cell_type": "code",
   "execution_count": 115,
   "metadata": {
    "ExecuteTime": {
     "end_time": "2020-10-26T01:19:17.677513Z",
     "start_time": "2020-10-26T01:19:17.516864Z"
    }
   },
   "outputs": [
    {
     "data": {
      "text/plain": [
       "(['AGG', 'GGC', 'GCT', 'CTT', 'TTA'],\n",
       " {'GTA': [0],\n",
       "  'TAG': [1],\n",
       "  'AGG': [2, 9],\n",
       "  'GGC': [3],\n",
       "  'GCT': [4],\n",
       "  'CTT': [5],\n",
       "  'TTA': [6, 12],\n",
       "  'TAA': [7],\n",
       "  'AAG': [8],\n",
       "  'GGT': [10],\n",
       "  'GTT': [11]})"
      ]
     },
     "execution_count": 115,
     "metadata": {},
     "output_type": "execute_result"
    }
   ],
   "source": [
    "kmers,index"
   ]
  },
  {
   "cell_type": "code",
   "execution_count": 120,
   "metadata": {
    "ExecuteTime": {
     "end_time": "2020-10-26T01:20:18.141310Z",
     "start_time": "2020-10-26T01:20:18.099788Z"
    }
   },
   "outputs": [
    {
     "data": {
      "text/plain": [
       "('AGGCTTA', 'GTAGGCTTAAGGTTA')"
      ]
     },
     "execution_count": 120,
     "metadata": {},
     "output_type": "execute_result"
    }
   ],
   "source": [
    "query,target"
   ]
  },
  {
   "cell_type": "code",
   "execution_count": 121,
   "metadata": {
    "ExecuteTime": {
     "end_time": "2020-10-26T01:23:54.232334Z",
     "start_time": "2020-10-26T01:23:54.188901Z"
    }
   },
   "outputs": [
    {
     "name": "stdout",
     "output_type": "stream",
     "text": [
      "5 AGG {9, 2}\n",
      "4\n",
      "4 GGC {3}\n",
      "3\n",
      "3 GCT {4}\n",
      "2\n",
      "2 CTT {5}\n",
      "1\n",
      "1 TTA {12, 6}\n",
      "0\n"
     ]
    }
   ],
   "source": [
    "connect = {} \n",
    "i = maxPos\n",
    "while i >= 1:\n",
    "    overlap = set([_ -1 for _ in lastIdx]) and set(index[kmers[maxPos-i]])\n",
    "    print(i,kmers[maxPos-i],overlap)\n",
    "    connect[kmers[maxPos-i]] = overlap\n",
    "    i -= 1\n",
    "    print(i)"
   ]
  },
  {
   "cell_type": "code",
   "execution_count": 144,
   "metadata": {
    "ExecuteTime": {
     "end_time": "2020-10-26T01:26:53.795181Z",
     "start_time": "2020-10-26T01:26:53.766959Z"
    }
   },
   "outputs": [
    {
     "data": {
      "text/plain": [
       "[{2, 9}, {3}, {4}, {5}, {6, 12}]"
      ]
     },
     "execution_count": 144,
     "metadata": {},
     "output_type": "execute_result"
    }
   ],
   "source": [
    "nodes =list( connect.values() )\n"
   ]
  },
  {
   "cell_type": "code",
   "execution_count": 181,
   "metadata": {
    "ExecuteTime": {
     "end_time": "2020-10-26T01:41:20.110477Z",
     "start_time": "2020-10-26T01:41:20.104054Z"
    }
   },
   "outputs": [
    {
     "data": {
      "text/plain": [
       "1"
      ]
     },
     "execution_count": 181,
     "metadata": {},
     "output_type": "execute_result"
    }
   ],
   "source": [
    "node"
   ]
  },
  {
   "cell_type": "code",
   "execution_count": 188,
   "metadata": {
    "ExecuteTime": {
     "end_time": "2020-10-26T01:42:57.577135Z",
     "start_time": "2020-10-26T01:42:57.564691Z"
    }
   },
   "outputs": [
    {
     "data": {
      "text/plain": [
       "{6, 12}"
      ]
     },
     "execution_count": 188,
     "metadata": {},
     "output_type": "execute_result"
    }
   ],
   "source": [
    "nodes[node-1]"
   ]
  },
  {
   "cell_type": "code",
   "execution_count": 189,
   "metadata": {
    "ExecuteTime": {
     "end_time": "2020-10-26T01:43:01.858065Z",
     "start_time": "2020-10-26T01:43:01.833161Z"
    }
   },
   "outputs": [
    {
     "name": "stdout",
     "output_type": "stream",
     "text": [
      "1\n",
      "[]\n",
      "2\n",
      "[]\n",
      "3\n",
      "[]\n",
      "4\n",
      "[]\n",
      "5\n"
     ]
    },
    {
     "ename": "IndexError",
     "evalue": "list index out of range",
     "output_type": "error",
     "traceback": [
      "\u001b[0;31m---------------------------------------------------------------------------\u001b[0m",
      "\u001b[0;31mIndexError\u001b[0m                                Traceback (most recent call last)",
      "\u001b[0;32m<ipython-input-189-1cc38448c1f5>\u001b[0m in \u001b[0;36m<module>\u001b[0;34m\u001b[0m\n\u001b[1;32m      4\u001b[0m     \u001b[0mprint\u001b[0m\u001b[0;34m(\u001b[0m\u001b[0mnode\u001b[0m\u001b[0;34m)\u001b[0m\u001b[0;34m\u001b[0m\u001b[0;34m\u001b[0m\u001b[0m\n\u001b[1;32m      5\u001b[0m     \u001b[0mnode\u001b[0m \u001b[0;34m+=\u001b[0m \u001b[0;36m1\u001b[0m\u001b[0;34m\u001b[0m\u001b[0;34m\u001b[0m\u001b[0m\n\u001b[0;32m----> 6\u001b[0;31m     \u001b[0ma\u001b[0m \u001b[0;34m=\u001b[0m \u001b[0;34m[\u001b[0m\u001b[0m_\u001b[0m \u001b[0;32mfor\u001b[0m \u001b[0m_\u001b[0m \u001b[0;32min\u001b[0m \u001b[0mnodes\u001b[0m\u001b[0;34m[\u001b[0m\u001b[0mnode\u001b[0m\u001b[0;34m-\u001b[0m\u001b[0;36m1\u001b[0m\u001b[0;34m]\u001b[0m \u001b[0;32mif\u001b[0m \u001b[0m_\u001b[0m\u001b[0;34m+\u001b[0m\u001b[0;36m1\u001b[0m \u001b[0;32min\u001b[0m \u001b[0mnodes\u001b[0m\u001b[0;34m[\u001b[0m\u001b[0mnode\u001b[0m\u001b[0;34m-\u001b[0m\u001b[0;36m1\u001b[0m\u001b[0;34m]\u001b[0m\u001b[0;34m]\u001b[0m\u001b[0;34m\u001b[0m\u001b[0;34m\u001b[0m\u001b[0m\n\u001b[0m\u001b[1;32m      7\u001b[0m     \u001b[0mprint\u001b[0m\u001b[0;34m(\u001b[0m\u001b[0ma\u001b[0m\u001b[0;34m)\u001b[0m\u001b[0;34m\u001b[0m\u001b[0;34m\u001b[0m\u001b[0m\n",
      "\u001b[0;31mIndexError\u001b[0m: list index out of range"
     ]
    }
   ],
   "source": [
    "### shortest path between nodes\n",
    "node = 1\n",
    "while node  <=  len(nodes):\n",
    "    print(node)\n",
    "    node += 1\n",
    "    a = [_ for _ in nodes[node-1] if _+1 in nodes[node-1]]\n",
    "    print(a)"
   ]
  },
  {
   "cell_type": "code",
   "execution_count": 176,
   "metadata": {
    "ExecuteTime": {
     "end_time": "2020-10-26T01:40:43.465105Z",
     "start_time": "2020-10-26T01:40:43.434108Z"
    }
   },
   "outputs": [
    {
     "data": {
      "text/plain": [
       "[2]"
      ]
     },
     "execution_count": 176,
     "metadata": {},
     "output_type": "execute_result"
    }
   ],
   "source": [
    "\n"
   ]
  },
  {
   "cell_type": "code",
   "execution_count": 164,
   "metadata": {
    "ExecuteTime": {
     "end_time": "2020-10-26T01:37:00.204741Z",
     "start_time": "2020-10-26T01:37:00.095607Z"
    }
   },
   "outputs": [
    {
     "ename": "TypeError",
     "evalue": "unsupported operand type(s) for +: 'set' and 'int'",
     "output_type": "error",
     "traceback": [
      "\u001b[0;31m---------------------------------------------------------------------------\u001b[0m",
      "\u001b[0;31mTypeError\u001b[0m                                 Traceback (most recent call last)",
      "\u001b[0;32m<ipython-input-164-c82239e31944>\u001b[0m in \u001b[0;36m<module>\u001b[0;34m\u001b[0m\n\u001b[0;32m----> 1\u001b[0;31m \u001b[0mnodes\u001b[0m\u001b[0;34m[\u001b[0m\u001b[0mnode\u001b[0m\u001b[0;34m-\u001b[0m\u001b[0;36m1\u001b[0m\u001b[0;34m]\u001b[0m \u001b[0;34m+\u001b[0m \u001b[0;36m1\u001b[0m\u001b[0;34m\u001b[0m\u001b[0;34m\u001b[0m\u001b[0m\n\u001b[0m",
      "\u001b[0;31mTypeError\u001b[0m: unsupported operand type(s) for +: 'set' and 'int'"
     ]
    }
   ],
   "source": []
  },
  {
   "cell_type": "code",
   "execution_count": 162,
   "metadata": {
    "ExecuteTime": {
     "end_time": "2020-10-26T01:35:37.295781Z",
     "start_time": "2020-10-26T01:35:37.268746Z"
    }
   },
   "outputs": [
    {
     "ename": "TypeError",
     "evalue": "unsupported operand type(s) for -: 'set' and 'int'",
     "output_type": "error",
     "traceback": [
      "\u001b[0;31m---------------------------------------------------------------------------\u001b[0m",
      "\u001b[0;31mTypeError\u001b[0m                                 Traceback (most recent call last)",
      "\u001b[0;32m<ipython-input-162-a755231a7175>\u001b[0m in \u001b[0;36m<module>\u001b[0;34m\u001b[0m\n\u001b[0;32m----> 1\u001b[0;31m \u001b[0mnodes\u001b[0m\u001b[0;34m[\u001b[0m\u001b[0mnode\u001b[0m\u001b[0;34m]\u001b[0m\u001b[0;34m-\u001b[0m\u001b[0;36m1\u001b[0m\u001b[0;34m\u001b[0m\u001b[0;34m\u001b[0m\u001b[0m\n\u001b[0m",
      "\u001b[0;31mTypeError\u001b[0m: unsupported operand type(s) for -: 'set' and 'int'"
     ]
    }
   ],
   "source": [
    "hmm\n"
   ]
  },
  {
   "cell_type": "code",
   "execution_count": null,
   "metadata": {},
   "outputs": [],
   "source": []
  }
 ],
 "metadata": {
  "kernelspec": {
   "display_name": "Python 3",
   "language": "python",
   "name": "python3"
  },
  "language_info": {
   "codemirror_mode": {
    "name": "ipython",
    "version": 3
   },
   "file_extension": ".py",
   "mimetype": "text/x-python",
   "name": "python",
   "nbconvert_exporter": "python",
   "pygments_lexer": "ipython3",
   "version": "3.7.6"
  },
  "varInspector": {
   "cols": {
    "lenName": 16,
    "lenType": 16,
    "lenVar": 40
   },
   "kernels_config": {
    "python": {
     "delete_cmd_postfix": "",
     "delete_cmd_prefix": "del ",
     "library": "var_list.py",
     "varRefreshCmd": "print(var_dic_list())"
    },
    "r": {
     "delete_cmd_postfix": ") ",
     "delete_cmd_prefix": "rm(",
     "library": "var_list.r",
     "varRefreshCmd": "cat(var_dic_list()) "
    }
   },
   "types_to_exclude": [
    "module",
    "function",
    "builtin_function_or_method",
    "instance",
    "_Feature"
   ],
   "window_display": false
  }
 },
 "nbformat": 4,
 "nbformat_minor": 4
}
