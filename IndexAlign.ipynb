{
 "cells": [
  {
   "cell_type": "code",
   "execution_count": 5,
   "metadata": {
    "ExecuteTime": {
     "end_time": "2020-10-23T23:21:34.288945Z",
     "start_time": "2020-10-23T23:21:34.279086Z"
    }
   },
   "outputs": [],
   "source": [
    "def whichQuery(x,y):\n",
    "    m = len(x)\n",
    "    n = len(y)\n",
    "    whichMax = np.argmax([m,n])\n",
    "    if whichMax == 0:\n",
    "        target,query = x,y\n",
    "\n",
    "    else:\n",
    "        target,query = y,x\n",
    "    return target, query"
   ]
  },
  {
   "cell_type": "code",
   "execution_count": 7,
   "metadata": {
    "ExecuteTime": {
     "end_time": "2020-10-23T23:21:48.047321Z",
     "start_time": "2020-10-23T23:21:48.014835Z"
    }
   },
   "outputs": [],
   "source": [
    "def makeIndex(target,k=3):\n",
    "    k = 3\n",
    "    index = {}\n",
    "    for _ in range(0,len(target)-2):\n",
    "        kmer = target[_:_+k]\n",
    "        if index.get(kmer) == None:\n",
    "            index[kmer] = [_]\n",
    "        else:\n",
    "            index[kmer].append(_)\n",
    "    return index"
   ]
  },
  {
   "cell_type": "code",
   "execution_count": 20,
   "metadata": {
    "ExecuteTime": {
     "end_time": "2020-10-23T23:28:16.955784Z",
     "start_time": "2020-10-23T23:28:16.950918Z"
    }
   },
   "outputs": [],
   "source": [
    "x='GTAGGCTTAAGGTTA'\n",
    "y='AGGCTTA'"
   ]
  },
  {
   "cell_type": "code",
   "execution_count": 25,
   "metadata": {
    "ExecuteTime": {
     "end_time": "2020-10-23T23:28:46.436792Z",
     "start_time": "2020-10-23T23:28:46.422442Z"
    }
   },
   "outputs": [
    {
     "data": {
      "text/plain": [
       "{'GTA': [0],\n",
       " 'TAG': [1],\n",
       " 'AGG': [2, 9],\n",
       " 'GGC': [3],\n",
       " 'GCT': [4],\n",
       " 'CTT': [5],\n",
       " 'TTA': [6, 12],\n",
       " 'TAA': [7],\n",
       " 'AAG': [8],\n",
       " 'GGT': [10],\n",
       " 'GTT': [11]}"
      ]
     },
     "execution_count": 25,
     "metadata": {},
     "output_type": "execute_result"
    }
   ],
   "source": [
    "target,query = whichQuery(x,y)\n",
    "k=3\n",
    "## Make index\n",
    "index = makeIndex(target,k)\n",
    "index"
   ]
  },
  {
   "cell_type": "code",
   "execution_count": 26,
   "metadata": {
    "ExecuteTime": {
     "end_time": "2020-10-23T23:28:46.591147Z",
     "start_time": "2020-10-23T23:28:46.578083Z"
    }
   },
   "outputs": [
    {
     "data": {
      "text/plain": [
       "['AGG', 'GGC', 'GCT', 'CTT', 'TTA']"
      ]
     },
     "execution_count": 26,
     "metadata": {},
     "output_type": "execute_result"
    }
   ],
   "source": [
    "## Get kmers from query\n",
    "kmers = []\n",
    "for _ in range(0,len(query)-2):\n",
    "    kmers.append(query[_:_+k])\n",
    "kmers"
   ]
  },
  {
   "cell_type": "code",
   "execution_count": 27,
   "metadata": {
    "ExecuteTime": {
     "end_time": "2020-10-23T23:28:47.404214Z",
     "start_time": "2020-10-23T23:28:47.388064Z"
    }
   },
   "outputs": [
    {
     "data": {
      "text/plain": [
       "[2, 9]"
      ]
     },
     "execution_count": 27,
     "metadata": {},
     "output_type": "execute_result"
    }
   ],
   "source": [
    "index.get(kmers[0])"
   ]
  },
  {
   "cell_type": "code",
   "execution_count": 28,
   "metadata": {
    "ExecuteTime": {
     "end_time": "2020-10-23T23:28:49.158874Z",
     "start_time": "2020-10-23T23:28:49.149598Z"
    }
   },
   "outputs": [
    {
     "data": {
      "text/plain": [
       "[3]"
      ]
     },
     "execution_count": 28,
     "metadata": {},
     "output_type": "execute_result"
    }
   ],
   "source": [
    "index.get(kmers[1])"
   ]
  },
  {
   "cell_type": "code",
   "execution_count": 29,
   "metadata": {
    "ExecuteTime": {
     "end_time": "2020-10-23T23:28:50.702221Z",
     "start_time": "2020-10-23T23:28:50.691506Z"
    }
   },
   "outputs": [
    {
     "data": {
      "text/plain": [
       "[4]"
      ]
     },
     "execution_count": 29,
     "metadata": {},
     "output_type": "execute_result"
    }
   ],
   "source": [
    "index.get(kmers[2])"
   ]
  },
  {
   "cell_type": "code",
   "execution_count": 17,
   "metadata": {
    "ExecuteTime": {
     "end_time": "2020-10-23T23:24:15.051854Z",
     "start_time": "2020-10-23T23:24:15.042312Z"
    }
   },
   "outputs": [],
   "source": [
    "index.get(kmers[3])"
   ]
  },
  {
   "cell_type": "code",
   "execution_count": null,
   "metadata": {},
   "outputs": [],
   "source": []
  }
 ],
 "metadata": {
  "kernelspec": {
   "display_name": "Python 3",
   "language": "python",
   "name": "python3"
  },
  "language_info": {
   "codemirror_mode": {
    "name": "ipython",
    "version": 3
   },
   "file_extension": ".py",
   "mimetype": "text/x-python",
   "name": "python",
   "nbconvert_exporter": "python",
   "pygments_lexer": "ipython3",
   "version": "3.7.6"
  },
  "varInspector": {
   "cols": {
    "lenName": 16,
    "lenType": 16,
    "lenVar": 40
   },
   "kernels_config": {
    "python": {
     "delete_cmd_postfix": "",
     "delete_cmd_prefix": "del ",
     "library": "var_list.py",
     "varRefreshCmd": "print(var_dic_list())"
    },
    "r": {
     "delete_cmd_postfix": ") ",
     "delete_cmd_prefix": "rm(",
     "library": "var_list.r",
     "varRefreshCmd": "cat(var_dic_list()) "
    }
   },
   "types_to_exclude": [
    "module",
    "function",
    "builtin_function_or_method",
    "instance",
    "_Feature"
   ],
   "window_display": false
  }
 },
 "nbformat": 4,
 "nbformat_minor": 4
}
