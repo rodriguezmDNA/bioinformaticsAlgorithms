{
 "cells": [
  {
   "cell_type": "code",
   "execution_count": 1,
   "metadata": {
    "ExecuteTime": {
     "end_time": "2020-10-01T00:50:27.776636Z",
     "start_time": "2020-10-01T00:50:25.981207Z"
    }
   },
   "outputs": [],
   "source": [
    "import pandas as pd\n",
    "# https://gtuckerkellogg.github.io/pairwise/demo/ for debugging"
   ]
  },
  {
   "cell_type": "code",
   "execution_count": 7,
   "metadata": {
    "ExecuteTime": {
     "end_time": "2020-10-01T00:53:32.786922Z",
     "start_time": "2020-10-01T00:53:32.774754Z"
    }
   },
   "outputs": [],
   "source": [
    "def getScoring():\n",
    "    with open('blosum62.txt') as matrix_file:\n",
    "        matrix = matrix_file.read()\n",
    "        lines = matrix.strip().split('\\n')\n",
    "\n",
    "    blosum={}\n",
    "    cols = lines[0].split()\n",
    "\n",
    "    for row in lines[1:]:       \n",
    "        idx = row[0]\n",
    "        vals = row[1:].split()\n",
    "        vals = [int(_) for _ in vals]\n",
    "        #print(idx,vals)\n",
    "        blosum[idx]=vals\n",
    "\n",
    "    blosum = pd.DataFrame.from_dict(blosum,orient='index',columns=cols)\n",
    "    return blosum\n",
    "\n",
    "def scorematch(a,b,scoringMatrix):\n",
    "    return scoringMatrix.loc[a][b]"
   ]
  },
  {
   "cell_type": "code",
   "execution_count": 3,
   "metadata": {
    "ExecuteTime": {
     "end_time": "2020-10-01T00:50:28.219450Z",
     "start_time": "2020-10-01T00:50:28.119648Z"
    }
   },
   "outputs": [
    {
     "data": {
      "text/html": [
       "<div>\n",
       "<style scoped>\n",
       "    .dataframe tbody tr th:only-of-type {\n",
       "        vertical-align: middle;\n",
       "    }\n",
       "\n",
       "    .dataframe tbody tr th {\n",
       "        vertical-align: top;\n",
       "    }\n",
       "\n",
       "    .dataframe thead th {\n",
       "        text-align: right;\n",
       "    }\n",
       "</style>\n",
       "<table border=\"1\" class=\"dataframe\">\n",
       "  <thead>\n",
       "    <tr style=\"text-align: right;\">\n",
       "      <th></th>\n",
       "      <th>A</th>\n",
       "      <th>R</th>\n",
       "      <th>N</th>\n",
       "      <th>D</th>\n",
       "      <th>C</th>\n",
       "      <th>Q</th>\n",
       "      <th>E</th>\n",
       "      <th>G</th>\n",
       "      <th>H</th>\n",
       "      <th>I</th>\n",
       "      <th>...</th>\n",
       "      <th>P</th>\n",
       "      <th>S</th>\n",
       "      <th>T</th>\n",
       "      <th>W</th>\n",
       "      <th>Y</th>\n",
       "      <th>V</th>\n",
       "      <th>B</th>\n",
       "      <th>Z</th>\n",
       "      <th>X</th>\n",
       "      <th>*</th>\n",
       "    </tr>\n",
       "  </thead>\n",
       "  <tbody>\n",
       "    <tr>\n",
       "      <th>A</th>\n",
       "      <td>4</td>\n",
       "      <td>-1</td>\n",
       "      <td>-2</td>\n",
       "      <td>-2</td>\n",
       "      <td>0</td>\n",
       "      <td>-1</td>\n",
       "      <td>-1</td>\n",
       "      <td>0</td>\n",
       "      <td>-2</td>\n",
       "      <td>-1</td>\n",
       "      <td>...</td>\n",
       "      <td>-1</td>\n",
       "      <td>1</td>\n",
       "      <td>0</td>\n",
       "      <td>-3</td>\n",
       "      <td>-2</td>\n",
       "      <td>0</td>\n",
       "      <td>-2</td>\n",
       "      <td>-1</td>\n",
       "      <td>0</td>\n",
       "      <td>-4</td>\n",
       "    </tr>\n",
       "    <tr>\n",
       "      <th>R</th>\n",
       "      <td>-1</td>\n",
       "      <td>5</td>\n",
       "      <td>0</td>\n",
       "      <td>-2</td>\n",
       "      <td>-3</td>\n",
       "      <td>1</td>\n",
       "      <td>0</td>\n",
       "      <td>-2</td>\n",
       "      <td>0</td>\n",
       "      <td>-3</td>\n",
       "      <td>...</td>\n",
       "      <td>-2</td>\n",
       "      <td>-1</td>\n",
       "      <td>-1</td>\n",
       "      <td>-3</td>\n",
       "      <td>-2</td>\n",
       "      <td>-3</td>\n",
       "      <td>-1</td>\n",
       "      <td>0</td>\n",
       "      <td>-1</td>\n",
       "      <td>-4</td>\n",
       "    </tr>\n",
       "    <tr>\n",
       "      <th>N</th>\n",
       "      <td>-2</td>\n",
       "      <td>0</td>\n",
       "      <td>6</td>\n",
       "      <td>1</td>\n",
       "      <td>-3</td>\n",
       "      <td>0</td>\n",
       "      <td>0</td>\n",
       "      <td>0</td>\n",
       "      <td>1</td>\n",
       "      <td>-3</td>\n",
       "      <td>...</td>\n",
       "      <td>-2</td>\n",
       "      <td>1</td>\n",
       "      <td>0</td>\n",
       "      <td>-4</td>\n",
       "      <td>-2</td>\n",
       "      <td>-3</td>\n",
       "      <td>3</td>\n",
       "      <td>0</td>\n",
       "      <td>-1</td>\n",
       "      <td>-4</td>\n",
       "    </tr>\n",
       "    <tr>\n",
       "      <th>D</th>\n",
       "      <td>-2</td>\n",
       "      <td>-2</td>\n",
       "      <td>1</td>\n",
       "      <td>6</td>\n",
       "      <td>-3</td>\n",
       "      <td>0</td>\n",
       "      <td>2</td>\n",
       "      <td>-1</td>\n",
       "      <td>-1</td>\n",
       "      <td>-3</td>\n",
       "      <td>...</td>\n",
       "      <td>-1</td>\n",
       "      <td>0</td>\n",
       "      <td>-1</td>\n",
       "      <td>-4</td>\n",
       "      <td>-3</td>\n",
       "      <td>-3</td>\n",
       "      <td>4</td>\n",
       "      <td>1</td>\n",
       "      <td>-1</td>\n",
       "      <td>-4</td>\n",
       "    </tr>\n",
       "    <tr>\n",
       "      <th>C</th>\n",
       "      <td>0</td>\n",
       "      <td>-3</td>\n",
       "      <td>-3</td>\n",
       "      <td>-3</td>\n",
       "      <td>9</td>\n",
       "      <td>-3</td>\n",
       "      <td>-4</td>\n",
       "      <td>-3</td>\n",
       "      <td>-3</td>\n",
       "      <td>-1</td>\n",
       "      <td>...</td>\n",
       "      <td>-3</td>\n",
       "      <td>-1</td>\n",
       "      <td>-1</td>\n",
       "      <td>-2</td>\n",
       "      <td>-2</td>\n",
       "      <td>-1</td>\n",
       "      <td>-3</td>\n",
       "      <td>-3</td>\n",
       "      <td>-2</td>\n",
       "      <td>-4</td>\n",
       "    </tr>\n",
       "  </tbody>\n",
       "</table>\n",
       "<p>5 rows × 24 columns</p>\n",
       "</div>"
      ],
      "text/plain": [
       "   A  R  N  D  C  Q  E  G  H  I  ...  P  S  T  W  Y  V  B  Z  X  *\n",
       "A  4 -1 -2 -2  0 -1 -1  0 -2 -1  ... -1  1  0 -3 -2  0 -2 -1  0 -4\n",
       "R -1  5  0 -2 -3  1  0 -2  0 -3  ... -2 -1 -1 -3 -2 -3 -1  0 -1 -4\n",
       "N -2  0  6  1 -3  0  0  0  1 -3  ... -2  1  0 -4 -2 -3  3  0 -1 -4\n",
       "D -2 -2  1  6 -3  0  2 -1 -1 -3  ... -1  0 -1 -4 -3 -3  4  1 -1 -4\n",
       "C  0 -3 -3 -3  9 -3 -4 -3 -3 -1  ... -3 -1 -1 -2 -2 -1 -3 -3 -2 -4\n",
       "\n",
       "[5 rows x 24 columns]"
      ]
     },
     "execution_count": 3,
     "metadata": {},
     "output_type": "execute_result"
    }
   ],
   "source": [
    "blosum = getScoring()\n",
    "blosum.head()"
   ]
  },
  {
   "cell_type": "code",
   "execution_count": 8,
   "metadata": {
    "ExecuteTime": {
     "end_time": "2020-10-01T00:53:57.853454Z",
     "start_time": "2020-10-01T00:53:57.838758Z"
    }
   },
   "outputs": [
    {
     "data": {
      "text/plain": [
       "4"
      ]
     },
     "execution_count": 8,
     "metadata": {},
     "output_type": "execute_result"
    }
   ],
   "source": [
    "scorematch(\"A\",'A',blosum)"
   ]
  },
  {
   "cell_type": "code",
   "execution_count": 115,
   "metadata": {
    "ExecuteTime": {
     "end_time": "2020-09-29T16:39:08.214801Z",
     "start_time": "2020-09-29T16:39:08.192068Z"
    }
   },
   "outputs": [
    {
     "data": {
      "text/plain": [
       "9"
      ]
     },
     "execution_count": 115,
     "metadata": {},
     "output_type": "execute_result"
    }
   ],
   "source": [
    "scorematch(\"C\",'C')"
   ]
  },
  {
   "cell_type": "code",
   "execution_count": 132,
   "metadata": {
    "ExecuteTime": {
     "end_time": "2020-09-29T16:51:12.096310Z",
     "start_time": "2020-09-29T16:51:11.947156Z"
    },
    "cell_style": "split"
   },
   "outputs": [
    {
     "data": {
      "text/html": [
       "<div>\n",
       "<style scoped>\n",
       "    .dataframe tbody tr th:only-of-type {\n",
       "        vertical-align: middle;\n",
       "    }\n",
       "\n",
       "    .dataframe tbody tr th {\n",
       "        vertical-align: top;\n",
       "    }\n",
       "\n",
       "    .dataframe thead th {\n",
       "        text-align: right;\n",
       "    }\n",
       "</style>\n",
       "<table border=\"1\" class=\"dataframe\">\n",
       "  <thead>\n",
       "    <tr style=\"text-align: right;\">\n",
       "      <th></th>\n",
       "      <th>-</th>\n",
       "      <th>M</th>\n",
       "      <th>E</th>\n",
       "      <th>A</th>\n",
       "      <th>N</th>\n",
       "      <th>L</th>\n",
       "      <th>Y</th>\n",
       "    </tr>\n",
       "  </thead>\n",
       "  <tbody>\n",
       "    <tr>\n",
       "      <th>-</th>\n",
       "      <td>0.0</td>\n",
       "      <td>-5.0</td>\n",
       "      <td>-10.0</td>\n",
       "      <td>-15.0</td>\n",
       "      <td>-20.0</td>\n",
       "      <td>-25.0</td>\n",
       "      <td>-30.0</td>\n",
       "    </tr>\n",
       "    <tr>\n",
       "      <th>P</th>\n",
       "      <td>-5.0</td>\n",
       "      <td>-2.0</td>\n",
       "      <td>-6.0</td>\n",
       "      <td>-11.0</td>\n",
       "      <td>-16.0</td>\n",
       "      <td>-21.0</td>\n",
       "      <td>-26.0</td>\n",
       "    </tr>\n",
       "    <tr>\n",
       "      <th>L</th>\n",
       "      <td>-10.0</td>\n",
       "      <td>-3.0</td>\n",
       "      <td>-5.0</td>\n",
       "      <td>-7.0</td>\n",
       "      <td>-12.0</td>\n",
       "      <td>-12.0</td>\n",
       "      <td>-17.0</td>\n",
       "    </tr>\n",
       "    <tr>\n",
       "      <th>E</th>\n",
       "      <td>-15.0</td>\n",
       "      <td>-8.0</td>\n",
       "      <td>2.0</td>\n",
       "      <td>-3.0</td>\n",
       "      <td>-7.0</td>\n",
       "      <td>-12.0</td>\n",
       "      <td>-14.0</td>\n",
       "    </tr>\n",
       "    <tr>\n",
       "      <th>A</th>\n",
       "      <td>-20.0</td>\n",
       "      <td>-13.0</td>\n",
       "      <td>-3.0</td>\n",
       "      <td>6.0</td>\n",
       "      <td>1.0</td>\n",
       "      <td>-4.0</td>\n",
       "      <td>-9.0</td>\n",
       "    </tr>\n",
       "    <tr>\n",
       "      <th>S</th>\n",
       "      <td>-25.0</td>\n",
       "      <td>-18.0</td>\n",
       "      <td>-8.0</td>\n",
       "      <td>1.0</td>\n",
       "      <td>7.0</td>\n",
       "      <td>2.0</td>\n",
       "      <td>-3.0</td>\n",
       "    </tr>\n",
       "    <tr>\n",
       "      <th>A</th>\n",
       "      <td>-30.0</td>\n",
       "      <td>-23.0</td>\n",
       "      <td>-13.0</td>\n",
       "      <td>-4.0</td>\n",
       "      <td>2.0</td>\n",
       "      <td>6.0</td>\n",
       "      <td>1.0</td>\n",
       "    </tr>\n",
       "    <tr>\n",
       "      <th>N</th>\n",
       "      <td>-35.0</td>\n",
       "      <td>-28.0</td>\n",
       "      <td>-18.0</td>\n",
       "      <td>-9.0</td>\n",
       "      <td>2.0</td>\n",
       "      <td>1.0</td>\n",
       "      <td>4.0</td>\n",
       "    </tr>\n",
       "    <tr>\n",
       "      <th>T</th>\n",
       "      <td>-40.0</td>\n",
       "      <td>-33.0</td>\n",
       "      <td>-23.0</td>\n",
       "      <td>-14.0</td>\n",
       "      <td>-3.0</td>\n",
       "      <td>1.0</td>\n",
       "      <td>-1.0</td>\n",
       "    </tr>\n",
       "    <tr>\n",
       "      <th>L</th>\n",
       "      <td>-45.0</td>\n",
       "      <td>-38.0</td>\n",
       "      <td>-28.0</td>\n",
       "      <td>-19.0</td>\n",
       "      <td>-8.0</td>\n",
       "      <td>1.0</td>\n",
       "      <td>0.0</td>\n",
       "    </tr>\n",
       "    <tr>\n",
       "      <th>Y</th>\n",
       "      <td>-50.0</td>\n",
       "      <td>-43.0</td>\n",
       "      <td>-33.0</td>\n",
       "      <td>-24.0</td>\n",
       "      <td>-13.0</td>\n",
       "      <td>-4.0</td>\n",
       "      <td>8.0</td>\n",
       "    </tr>\n",
       "  </tbody>\n",
       "</table>\n",
       "</div>"
      ],
      "text/plain": [
       "      -     M     E     A     N     L     Y\n",
       "-   0.0  -5.0 -10.0 -15.0 -20.0 -25.0 -30.0\n",
       "P  -5.0  -2.0  -6.0 -11.0 -16.0 -21.0 -26.0\n",
       "L -10.0  -3.0  -5.0  -7.0 -12.0 -12.0 -17.0\n",
       "E -15.0  -8.0   2.0  -3.0  -7.0 -12.0 -14.0\n",
       "A -20.0 -13.0  -3.0   6.0   1.0  -4.0  -9.0\n",
       "S -25.0 -18.0  -8.0   1.0   7.0   2.0  -3.0\n",
       "A -30.0 -23.0 -13.0  -4.0   2.0   6.0   1.0\n",
       "N -35.0 -28.0 -18.0  -9.0   2.0   1.0   4.0\n",
       "T -40.0 -33.0 -23.0 -14.0  -3.0   1.0  -1.0\n",
       "L -45.0 -38.0 -28.0 -19.0  -8.0   1.0   0.0\n",
       "Y -50.0 -43.0 -33.0 -24.0 -13.0  -4.0   8.0"
      ]
     },
     "execution_count": 132,
     "metadata": {},
     "output_type": "execute_result"
    }
   ],
   "source": [
    "x='PLEASANTLY'\n",
    "y='MEANLY'\n",
    "#match = 1\n",
    "indel = -5\n",
    "#mismatch = -1\n",
    "\n",
    "\n",
    "m = len(x)\n",
    "n = len(y)\n",
    "Fmatrix = np.zeros((m+1,n+1))\n",
    "\n",
    "## initialize\n",
    "for i in range(1,m+1):\n",
    "    Fmatrix[i,0] += Fmatrix[i-1,0] + indel\n",
    "for j in range(1,n+1):\n",
    "    Fmatrix[0,j] += Fmatrix[0,j-1] + indel\n",
    "\n",
    "##\n",
    "for i in range(1,m+1):\n",
    "    for j in range(1,n+1):a\n",
    "        if x[i-1] == y[j-1]:\n",
    "            Fmatrix[i,j] = Fmatrix[i-1,j-1] + scorematch(x[i-1],y[j-1])\n",
    "        else:\n",
    "            mm = Fmatrix[i-1,j-1] + scorematch(x[i-1],y[j-1])\n",
    "            down = Fmatrix[i-1,j] + indel\n",
    "            right = Fmatrix[i,j-1] + indel\n",
    "            Fmatrix[i,j] = max([mm,down,right])\n",
    "        #print(x[i-1],y[j-1],[mm,down,right])\n",
    "            \n",
    "            \n",
    "pd.DataFrame(Fmatrix,columns=['-']+[_ for _ in y],index=['-']+[_ for _ in x])"
   ]
  },
  {
   "cell_type": "code",
   "execution_count": 153,
   "metadata": {
    "ExecuteTime": {
     "end_time": "2020-09-29T17:27:25.775893Z",
     "start_time": "2020-09-29T17:27:25.749220Z"
    },
    "cell_style": "split"
   },
   "outputs": [
    {
     "name": "stdout",
     "output_type": "stream",
     "text": [
      "Y Y 8.0\n",
      "L L 1.0\n",
      "1 diff [-9.0, -3.0, -19.0]\n",
      "N N 2.0\n",
      "A A -4.0\n",
      "1 diff [-13.0, -8.0, -23.0]\n",
      "1 diff [-9.0, -3.0, -18.0]\n",
      "E E 2.0\n",
      "0 diff [-3.0, -7.0, -15.0]\n",
      "1 diff [-33.0, -5.0, -31.0]\n",
      "Score 8.0\n",
      "EANLY\n",
      "--\n",
      "-ME--AN-LY\n",
      "PLEASANTLY\n"
     ]
    }
   ],
   "source": [
    "i = Fmatrix.shape[0] - 1\n",
    "j = Fmatrix.shape[1] - 1\n",
    "\n",
    "LCS = \"\"\n",
    "a = ''\n",
    "b = ''\n",
    "paths = []\n",
    "while (j>0 or i>0):\n",
    "    if x[i-1] == y[j-1]:\n",
    "        print(x[i-1],y[j-1],Fmatrix[i,j])\n",
    "        LCS += x[i-1]\n",
    "        j -=1\n",
    "        i -=1\n",
    "        a +=x[i]\n",
    "        b +=y[j]\n",
    "\n",
    "        paths.append([(np.inf),(x[i],y[j]) ])\n",
    "    else:\n",
    "        diag = Fmatrix[i-1,j-1] + scorematch(x[i-1],y[j-1])\n",
    "        left = Fmatrix[i-1,j] + indel\n",
    "        up = Fmatrix[i,j-1] + indel\n",
    "        maxCell = np.argmax([diag,left,up])\n",
    "        print(maxCell,'diff',[diag,left,up])\n",
    "        if maxCell == 0:\n",
    "            j -=1\n",
    "            i -=1\n",
    "            a +=x[i]\n",
    "            b +=y[j]\n",
    "        else:\n",
    "            if maxCell == 1:\n",
    "                i -= 1\n",
    "                a += x[i]\n",
    "                b += '-'\n",
    "            else:\n",
    "                j -= 1\n",
    "                a += '-'\n",
    "                b += y[j]\n",
    "        paths.append( [(diag,left,up),\n",
    "                       (x[i],x[i],\"-\"),\n",
    "                       (y[j],\"-\",y[j]) ])\n",
    "\n",
    "        \n",
    "print('Score',Fmatrix[m][n])        \n",
    "print(LCS[::-1]) #AACTGG\n",
    "print('--')\n",
    "print(b[::-1])\n",
    "print(a[::-1])"
   ]
  },
  {
   "cell_type": "code",
   "execution_count": 281,
   "metadata": {
    "ExecuteTime": {
     "end_time": "2020-09-29T21:01:31.114880Z",
     "start_time": "2020-09-29T21:01:31.015394Z"
    }
   },
   "outputs": [],
   "source": [
    "def globalAlignment(x,y,indel=-5):\n",
    "    m = len(x)\n",
    "    n = len(y)\n",
    "    Fmatrix = np.zeros((m+1,n+1))\n",
    "\n",
    "    ## initialize\n",
    "    for i in range(1,m+1):\n",
    "        Fmatrix[i,0] += Fmatrix[i-1,0] + indel\n",
    "    for j in range(1,n+1):\n",
    "        Fmatrix[0,j] += Fmatrix[0,j-1] + indel\n",
    "\n",
    "    ##\n",
    "    for i in range(1,m+1):\n",
    "        for j in range(1,n+1):\n",
    "            if x[i-1] == y[j-1]:\n",
    "                Fmatrix[i,j] = Fmatrix[i-1,j-1] + scorematch(x[i-1],y[j-1])\n",
    "            else:\n",
    "                mm = Fmatrix[i-1,j-1] + scorematch(x[i-1],y[j-1])\n",
    "                down = Fmatrix[i-1,j] + indel\n",
    "                right = Fmatrix[i,j-1] + indel\n",
    "                Fmatrix[i,j] = max([mm,down,right])\n",
    "            #print(x[i-1],y[j-1],[mm,down,right])\n",
    "\n",
    "    #pd.DataFrame(Fmatrix,columns=['-']+[_ for _ in y],index=['-']+[_ for _ in x])\n",
    "    ##\n",
    "    i = Fmatrix.shape[0] - 1\n",
    "    j = Fmatrix.shape[1] - 1\n",
    "\n",
    "    LCS = \"\"\n",
    "    a = ''\n",
    "    b = ''\n",
    "    paths = []\n",
    "    while (j>0 or i>0):\n",
    "        if x[i-1] == y[j-1]:\n",
    "            #print(x[i-1],y[j-1],Fmatrix[i,j])\n",
    "            LCS += x[i-1]\n",
    "            j -=1\n",
    "            i -=1\n",
    "            a +=x[i]\n",
    "            b +=y[j]\n",
    "\n",
    "            paths.append([(np.inf),(x[i],y[j]) ])\n",
    "        else:\n",
    "            diag = Fmatrix[i-1,j-1] + scorematch(x[i-1],y[j-1])\n",
    "            left = Fmatrix[i-1,j] + indel\n",
    "            up = Fmatrix[i,j-1] + indel\n",
    "            maxCell = np.argmax([diag,left,up])\n",
    "            #print(maxCell,'diff',[diag,left,up])\n",
    "            if maxCell == 0:\n",
    "                j -=1\n",
    "                i -=1\n",
    "                a +=x[i]\n",
    "                b +=y[j]\n",
    "            else:\n",
    "                if maxCell == 1:\n",
    "                    i -= 1\n",
    "                    a += x[i]\n",
    "                    b += '-'\n",
    "                else:\n",
    "                    j -= 1\n",
    "                    a += '-'\n",
    "                    b += y[j]\n",
    "            paths.append( [(diag,left,up),\n",
    "                           (x[i],x[i],\"-\"),\n",
    "                           (y[j],\"-\",y[j]) ])\n",
    "\n",
    "\n",
    "    #print('Score',Fmatrix[m][n])        \n",
    "    #print(LCS[::-1]) #AACTGG\n",
    "    #print('--')\n",
    "    #print(b[::-1])\n",
    "    #print(a[::-1])\n",
    "    score = Fmatrix[m][n]\n",
    "    LCS = LCS[::-1]\n",
    "    a = a[::-1]\n",
    "    b = b[::-1]\n",
    "    return score, LCS, a,b,Fmatrix"
   ]
  },
  {
   "cell_type": "code",
   "execution_count": 282,
   "metadata": {
    "ExecuteTime": {
     "end_time": "2020-09-29T21:01:33.710007Z",
     "start_time": "2020-09-29T21:01:33.656441Z"
    }
   },
   "outputs": [
    {
     "name": "stdout",
     "output_type": "stream",
     "text": [
      "8.0\n",
      "PLEASANTLY\n",
      "-ME--AN-LY\n"
     ]
    }
   ],
   "source": [
    "x='PLEASANTLY'\n",
    "y='MEANLY'\n",
    "alScore, LCS, a,b,_ = globalAlignment(x,y)\n",
    "\n",
    "print(alScore)\n",
    "print(a)\n",
    "print(b)\n",
    "# 8\n",
    "# PLEASANTLY\n",
    "# -MEA--N-LY"
   ]
  },
  {
   "cell_type": "code",
   "execution_count": 283,
   "metadata": {
    "ExecuteTime": {
     "end_time": "2020-09-29T21:05:21.191263Z",
     "start_time": "2020-09-29T21:01:40.256178Z"
    },
    "scrolled": true
   },
   "outputs": [
    {
     "name": "stdout",
     "output_type": "stream",
     "text": [
      "1555.0\n",
      "ILYPRQSMICMSFCF-WD--MWKKDVPVVLMMFLERRQMQSVF-S-WL--VTVKTDCGKGIYNHR-K--Y-LGLPTMTAGDWHWIKK---Q-NDPHEWFQGRLETAWLHSTFLYWKYFE-CDAVKVCMDTFGLFGHCDWDQQIHTCTHENEPAIAFLDLYCRHSPMCDKLYPVWDMACQTCHFHHSWFCRNQEMWMKGDVDDWQWGYHYHTINSAQCNQWFKEICKDMGWDSVFPPRHNCQRHKKCMPALYAGIW-------MATDHACTFMVRLIYTENIAEWHQVYCYRSMNMFTCGNVCLRCKSWIFVK-NYMMAPVVN--DPMIEAFYKRCCILGKAWYDMWGICPVERKSHWEIYAKDLLSFESCCSQKKQNCYTDNWGLEYRLFFQSIQMN-TDPH----Y--CQTHVCW-ISA-MFPIYSPFY--TSG-PKE--FYM-WLQARI-DQN---MHGHANHYV-TSGNWDSVYTPEKRA--G--V-F-PV--------VVPVWYPPQMCN--DYIKLTYEC----E-RFHVEGTFGCNRWD-L-GC-R-RYI--IFQCPYCDTMKI---C--YVDQWRSIKEGQFRMSGYPNHGYWFVHDDHTNEW-----CNQPVLAKFVRSKIVA---ICKKSQTVFHYAYTPGYNATWPQTNVCERMYGPHDNLLNNQQNVTFWWKMVPNCGMQILISCHNKMKWPT---SHYV-F--MRLKCMHVLMQMEYLDHFTGPGEGDFCRNMQPYMHQDLHWEGSMRAILEYQAEHH-RRAFR--A--ELCAQYDQEIILWSGGWGVQDCGFHANYDGSLQVVSGEPCSMWCTTVMQYYADCWEKCMFA\n",
      "ILIPRQQMGCFPFPWHFDFCFWSAHHSLV-VP-L-NPQMQTVFQNRGLDRVTVKTDC----HDHRWKWIYNLGLPTMTAGDWHFIKKHVVRANNPHQWFQGRLTTAWLHSTFLY-KKTEYC-LVR---HS-NCC-HCDWDQIIHTCAF-----IAFLDLYQRHWPMCDKLY---------CHFHHSWFCRNQEMSM-----D--W------------NQWF-----P--WDSV--PRANC-LEEGALIALYAGIWANSMKRDMKTDHACT--VRLIYVCELHAWLK-YCYTSINML-CGNVCLRCKSWIFVKLFYMYAPVVNTIEANSPHYYKRCCILGQ------GICPVERKSHCEIYAKDLLSFESCCSQ-KQNCYTDNWGLEYRLFFQHIQMECTDPHANRGWTSCQTAKYWHFNLDDRP-PKEFYMWLQATPTDLCMYQHCLMFKIVKQNFRKQHGHANPAASTSGNWDSVYTPEKMAYKDWYVSHPPVDMRRNGSKMVPVWYPPGIWHWKQSYKLTYECFFTVPGRFHVEGTFGCNRWDHQPGTRRDRQANHQFQCPYSDTMAIWEHAYTYVDQWRSIKEGQMPMSGYPNHGQWNVHDDHTNEQERSPICNQPVLAKFVRSKNVSNHEICKKSQTVFHWA-C---EA---QTNVCERMLN-NQHVA-VKRNVTFWWQMVPNC----LWSCHNKMTWPTRPEQHRLFFVKMRLKCMH-----EYLD--VAP--SDFCRNMQAYM----H---SMRAILEYQADFDLKRRLRAIAPMDLCAQYDQEIILWSGGY-I--------YDQSLQVVSCEGCSYYADCYVK-CINVKEKCMFA\n"
     ]
    }
   ],
   "source": [
    "###http://bioinformaticsalgorithms.com/data/extradatasets/alignment/global_alignment.txt\n",
    "x='ILYPRQSMICMSFCFWDMWKKDVPVVLMMFLERRQMQSVFSWLVTVKTDCGKGIYNHRKYLGLPTMTAGDWHWIKKQNDPHEWFQGRLETAWLHSTFLYWKYFECDAVKVCMDTFGLFGHCDWDQQIHTCTHENEPAIAFLDLYCRHSPMCDKLYPVWDMACQTCHFHHSWFCRNQEMWMKGDVDDWQWGYHYHTINSAQCNQWFKEICKDMGWDSVFPPRHNCQRHKKCMPALYAGIWMATDHACTFMVRLIYTENIAEWHQVYCYRSMNMFTCGNVCLRCKSWIFVKNYMMAPVVNDPMIEAFYKRCCILGKAWYDMWGICPVERKSHWEIYAKDLLSFESCCSQKKQNCYTDNWGLEYRLFFQSIQMNTDPHYCQTHVCWISAMFPIYSPFYTSGPKEFYMWLQARIDQNMHGHANHYVTSGNWDSVYTPEKRAGVFPVVVPVWYPPQMCNDYIKLTYECERFHVEGTFGCNRWDLGCRRYIIFQCPYCDTMKICYVDQWRSIKEGQFRMSGYPNHGYWFVHDDHTNEWCNQPVLAKFVRSKIVAICKKSQTVFHYAYTPGYNATWPQTNVCERMYGPHDNLLNNQQNVTFWWKMVPNCGMQILISCHNKMKWPTSHYVFMRLKCMHVLMQMEYLDHFTGPGEGDFCRNMQPYMHQDLHWEGSMRAILEYQAEHHRRAFRAELCAQYDQEIILWSGGWGVQDCGFHANYDGSLQVVSGEPCSMWCTTVMQYYADCWEKCMFA'\n",
    "y='ILIPRQQMGCFPFPWHFDFCFWSAHHSLVVPLNPQMQTVFQNRGLDRVTVKTDCHDHRWKWIYNLGLPTMTAGDWHFIKKHVVRANNPHQWFQGRLTTAWLHSTFLYKKTEYCLVRHSNCCHCDWDQIIHTCAFIAFLDLYQRHWPMCDKLYCHFHHSWFCRNQEMSMDWNQWFPWDSVPRANCLEEGALIALYAGIWANSMKRDMKTDHACTVRLIYVCELHAWLKYCYTSINMLCGNVCLRCKSWIFVKLFYMYAPVVNTIEANSPHYYKRCCILGQGICPVERKSHCEIYAKDLLSFESCCSQKQNCYTDNWGLEYRLFFQHIQMECTDPHANRGWTSCQTAKYWHFNLDDRPPKEFYMWLQATPTDLCMYQHCLMFKIVKQNFRKQHGHANPAASTSGNWDSVYTPEKMAYKDWYVSHPPVDMRRNGSKMVPVWYPPGIWHWKQSYKLTYECFFTVPGRFHVEGTFGCNRWDHQPGTRRDRQANHQFQCPYSDTMAIWEHAYTYVDQWRSIKEGQMPMSGYPNHGQWNVHDDHTNEQERSPICNQPVLAKFVRSKNVSNHEICKKSQTVFHWACEAQTNVCERMLNNQHVAVKRNVTFWWQMVPNCLWSCHNKMTWPTRPEQHRLFFVKMRLKCMHEYLDVAPSDFCRNMQAYMHSMRAILEYQADFDLKRRLRAIAPMDLCAQYDQEIILWSGGYIYDQSLQVVSCEGCSYYADCYVKCINVKEKCMFA'\n",
    "alScore, LCS, a,b,_ = globalAlignment(x,y)\n",
    "\n",
    "print(alScore)\n",
    "print(a)\n",
    "print(b)\n",
    "# 1555\n",
    "# ILYPRQSMICMSFCF-WDM--WKKDVPVVLMMFLERRQMQSVF-S-WL--VTVKTDCGKGIYNHR-K--Y-LGLPTMTAGDWHWIKK---Q-NDPHEWFQGRLETAWLHSTFLYWKYFE-CDAVKVCMDTFGLFGHCDWDQQIHTCTHENEPAIAFLDLYCRHSPMCDKLYPVWDMACQTCHFHHSWFCRNQEMWMKGDVDDWQWGYHYHTINSAQCNQWFKEICKDMGWDSVFPPRHNCQRHKKCMPALYAGIW---MA----TDHACTFMVRLIYTENIAEWHQVYCYRSMNMFTCGNVCLRCKSWIFVKN-YMMAPVVNDPMIEA--FYKRCCILGKAWYDMWGICPVERKSHWEIYAKDLLSFESCCSQKKQNCYTDNWGLEYRLFFQSIQMN-TDPH----Y--CQTHVCW-ISAMF-PIYSPFYT--SG-PKEFYMW---LQARI-DQNM---HGHANHYV-TSGNWDSVYTPEKRA--G--V-FP-V-V-------VPVWYPPQMCN--D-YIKLTYEC--E---RFHVEGTFGCNRWD-L-GCRR--YII--FQCPYCDTMKI---CY--VDQWRSIKEGQFRMSGYPNHGYWFVHDDHTNEW-----CNQPVLAKFVRSKIVA---ICKKSQTVFHYAYTPGYNATWPQTNVCERMYGPHDNLLNNQQNVTFWWKMVPNCGMQILISCHNKMKWPT--S-HYVF---MRLKCMHVLMQMEYLDHFTGPGEGDFCRNMQPYMHQDLHWEGSMRAILEYQAEHH-RRAFRA----ELCAQYDQEIILWSGGWGVQDCGFHANYDGSLQVVSGEPCSMWCTTVMQYYADCWEKCMFA\n",
    "# ILIPRQQMGCFPFPWHFDFCFWSAHHSLVVP--LNP-QMQTVFQNRGLDRVTVKTDC----HDHRWKWIYNLGLPTMTAGDWHFIKKHVVRANNPHQWFQGRLTTAWLHSTFLY-KKTEYC-LVR---HS-NCC-HCDWDQIIHTCAF-----IAFLDLYQRHWPMCDKLY------C---HFHHSWFCRNQEMSM--D---W---------N--Q---WFP-------WDSV-P-RANCLE-EGALIALYAGIWANSMKRDMKTDHACT--VRLIYVCELHAWLK-YCYTSINML-CGNVCLRCKSWIFVKLFYMYAPVVNTIEANSPHYYKRCCILGQ------GICPVERKSHCEIYAKDLLSFESCCSQK-QNCYTDNWGLEYRLFFQHIQMECTDPHANRGWTSCQTAKYWHFNLDDRPP-KEFYMWLQATPTDLCMYQHCLMFKIVKQNFRKQHGHANPAASTSGNWDSVYTPEKMAYKDWYVSHPPVDMRRNGSKMVPVWYPPGIWHWKQSY-KLTYECFFTVPGRFHVEGTFGCNRWDHQPGTRRDRQANHQFQCPYSDTMAIWEHAYTYVDQWRSIKEGQMPMSGYPNHGQWNVHDDHTNEQERSPICNQPVLAKFVRSKNVSNHEICKKSQTVFHWA-C---EA---QTNVCERMLN-NQHVAV-KRNVTFWWQMVPNC----LWSCHNKMTWPTRPEQHRLFFVKMRLKCMH-----EYLD--VAPS--DFCRNMQAYMH-------SMRAILEYQADFDLKRRLRAIAPMDLCAQYDQEIILWSGGY-I--------YDQSLQVVSCEGCSYYADCYVKCI-NVKEKCMFA"
   ]
  },
  {
   "cell_type": "code",
   "execution_count": 284,
   "metadata": {
    "ExecuteTime": {
     "end_time": "2020-09-29T21:24:37.231932Z",
     "start_time": "2020-09-29T21:06:18.544289Z"
    }
   },
   "outputs": [
    {
     "name": "stdout",
     "output_type": "stream",
     "text": [
      "CPU times: user 9 µs, sys: 20 µs, total: 29 µs\n",
      "Wall time: 81.3 µs\n"
     ]
    },
    {
     "ename": "KeyboardInterrupt",
     "evalue": "",
     "output_type": "error",
     "traceback": [
      "\u001b[0;31m---------------------------------------------------------------------------\u001b[0m",
      "\u001b[0;31mKeyboardInterrupt\u001b[0m                         Traceback (most recent call last)",
      "\u001b[0;32m<ipython-input-284-70051d88a816>\u001b[0m in \u001b[0;36m<module>\u001b[0;34m\u001b[0m\n\u001b[1;32m      3\u001b[0m \u001b[0my\u001b[0m\u001b[0;34m=\u001b[0m\u001b[0;34m'FGVLMCLSDLFQYMRNSAEAYTDTAKWKFYVMYQSDQWQRHGFFPPCTNPQNSHAWSCSSRYGFWWIKTDILRMLHEWRFPVCNRRSYQPCCSSYPICCPKWNVFNIKHTVETYKMLYCHDGYNCNHRLFHSSMVKRAVLMTQLLWLEWMLGCFRSSKYKHCIYRMIQNPPPNVMSYHIMPQQVFNPNIYYYGQYAADSAISHPILVPLQHQTEPFFTHHNWDRPHYMSTNDYKEIVYRCAEDNSKATNCWRYNTIWHDAMLLMTSYSAEKSHCFVNNTQPEVAAHEMQSNVDTSRDILSTQCKDASYPEVNNQGTGNVDQGEPYQFWEREKTWKVFHGYMIITQYNMPHRHWGWHVDFFEVWEVHSIFDAVRFEYDEIMRRSWATWPQNTGFTFSFTTTWNNQTDFLKMHDDNPWLSGKQWFPEHHHSHNMNNYDCEWMVMCDKKVDVIIDLREQTTQFTPECWLADAKYFKEFWGTTRRNWIAKCYIIDGRRMMQQVERGPHMQEVCKDICGKIPPWYHFMDSKVMLARQAGEPFRVVHPPMHYARIDYDCACWGMGWNRYACITQSLMCEMEKHMKVRPSDMTNMLRYEDMVRRTWTLLGREALTSICNDIWFLKHPWMVRHWFYAVFHNDLQSAQFWIPNATHKVDVEITRHFQLAWHRICHGHQCDNKQLNRIIKKWCRTMLTIFHKWAGFKWSFRWNVHYSYKDHGAEISHVRGEVWTNLHSLMGVTGYWLPDLGQKCCLIRINVDPYGQWTHGWCRCRIPWQYMKDTGFHRLRMGDMDMKSNCPAEWQHNIIHFVLRLRDRIGNMEVNDSCQVRWEAGKSHTGSIGPACKRNKGDRFMRESTAFNGSERSNEWEVNPMDLLGWNTGHFAMVENAHDVWSACTWDSMHHHLINGQMLLACHMVFWHEKQQFIWMSHSINLTHHSLDTSKFLAAVWYWVGWMTRVLQVNVPSLLHIDYWDAAQGFASVNCIMCVHPTVGHWYNMQWVNCDVGDCSMETGFGATVQDLMRECLWRATPGFECKIMKDYQYKLWNTNYYRYMRSQAEWDMWCDLAYLRFYDFIMECCTSRKLWCCCEVDFRKIVQDRQDEEDKEFSAWCMWTNKIWCHRVIVFKLCHGGVVFNCMSHMYYTVYIPVPAPWMPIYKYGIRTYVDKIFPDQGVWQLENMNGMPILYMMPQSHNWDMKLDHCWVKNTTNRIQMAAELQTTGSSNAGLSVMPFLQMRMLEFEQSSAQQRLMVAHNRDGPMMTIKEEIRVDEWAHSAACYQRNERKQPTQHMWWSRFKNTKNMFNCNKEKEFPYGYYSEHCPRFDDSRMNWVFDYHASCMDCNYRCVIMQRWGHGHYARRHCQSFHLTSFDDIIVKQMYWWAYVNCTQRRCYVFKLKYSFAPKKYYIPVDCYQCWYPNHSVMWRTDYLENASKSCHQFWWQTQNCHLKLSFVRLHKYFHFQPFGEPPSPIGCATRIANNQYVYESKSVWFFNQKFWECQPCWWLGKPYWFQMATTHTKHIDYITTSGRSCDLMAVQSKQRLPHFGSNELQVKSMCRIQCIWPIEPYKWEAQVQGNHFIVQKGMWIWTFKGMNRCESQEDCGTYWGCGNWQNCPPFALSKYEKNEAHWSYSRLCCVRPMFFYMVRDSEGRMHSYAIVATFRRQKFFNCFSIVHGFRQQCDLWMMDAFDSYWAAFVSSVDCIGKTDNHERTEADRFAMFAKNDWKRREDRYWRYATMVGLKAWPTVRTENGHVCHQNTKKIKPWNHIHAFFWECTWTWVRCINAVYDTMPNRYNNLMPIEENVNLMPITLDDPRYQTAELYFQGQQHFDLLCKHYYHYLNPQCVQHKVQENTGYEWPQATAYHYVDTDQKKGCIITEAMQHIKQENVLKPLVWPVRGRIRISVCNGWHYKQEKCFVMAYGVCKNLQLLSHEEPMNSGHIWTWNRSGCYFLKWFPFKAKHLFATNKYRQDNFVKRAGFNCCGHYCVGMINCAPNLTLNAVQMCQQAEYHYCDIPKFTSLMWLVDEGTVKTAQACWNQIMSDPFCGRRIGVSTVGQGYIHDLAMNPKTYQDVINNDEQWSSHYFIILWRWVGVTSLSFHFDTDRFSTNFWNSLRISKMLNPMCTPPYLTNVWEPSCYSQNAYYHQFEAKEQLCIGAFKQYFTPHCQAADWRWRCDNDSPVSDHGLVDKVNFMGISLNFYAKCDMCLCAGQAWRWYPDMMCPFTYICTWIAIGWDMWSAFGWKMRHPWGRGYQTQGCKMKQAEYLNEILEHQHQPAMKSYGEDLACKLSNSPHRFTQREECNFVNRWKNISQMHQYDGMLVFHEYADCFFAARAFCGSGDKRVKMVMGQYHHDRPYMPCWMWRWIEFDVHQPWMSSGHIGCNCDEKIGTIIVYDQDNIDNNDKESLVWITRCAHVCGPWRNHHCGPPKKIWPPVDATLSWLILRWGPRICSTCGMCQMPDDFPDLMYERVIDYMDDCYERYEFYYYKAMEMYMQPAELGEFWIMHIDAYMGEQWAIDSIEDLYHEKGDTHCMSEMSAMYGDWFGQDPLRFHRCPFFQNSGGYKYFFYTCEEWTQKKILVDHRTGLIKNIFNFGQIMVDTFYHNGASHFWIENKMMYFIDCKDANCHICVHWVQMVRNVTLWNVNRCVGFRNNCWYHLVAWIKWCKFWLPKWKKPGWNPEYEINDEDTGTSIYCEWWYVAQVNGTTKKCIAMVFVYANEGMVRSDIDCYLTCHTLILTLQFDQYYPKLGFKFSAFYNNMLPMFPMWEKFNNHSHSTWLADHYNGPLFDAGGYTRQVMFTDTMRAWFNCASPYRPATEKTERHANGRCVIRTRWHIVMGRQKQRVHRCSEWVTKYTGSMAGFVCVVPAWAQPTNSNGIHRCGHEPFKPVWNMVEWTYRSNTQKNVLECCRVRQNWHTDVWETRKPDEDIKGMHNIDQSCWDRCEGERGHTAQFQYIGAVGMLRETNERKWCVSPLAIFICERYHCPIQGSVEHARQERANCGFHFVKVKVCPCTVIYFMPAVEKTGTFRPRRAQCSDYGRCRWRWCCQWCKLMFKSNQWVFRGIPVGSGHAWEPHMFPDAPIFPLSWFLTEWWGSCRYYHWVSYTDMCWYKLYLCVTNNAWSWNYIGAYTSTFLWVELGVYRCWWKTDEFIVVCSNSYWEHPKADDSMHYMMKCAYDDHRWTVWELKYGRIEKYRRDDKNIDVTKTCHYGFQYANSTLGADEIFDDHEYTKNHALQMMIDDGGFTLSCAQDLPNGEDKMCPWAHASMEVPSIVSDWLIHDVYLPYFMQWLMQSHKQMIWEMVYPMYSDTYWNPQSRGHFWWCQDWHSYGVCGLYCNPSYPSINIETCQRTNTQYMTEAFTGCIWGAHKQLCEIYDPQCWSHINITIPPTCKSPCKLMRWNNDGIKNMCPWLIWLGGKGTADINMMYKAYWCRQVQSYKLKMQAQEYCASTFDRAITSPRPGAIIFPVGLCAMTEGMWLSEVLLLTGWLRHRCIRIYGHKQRFETLCRSVNFISPMEVVPVVVIFGLAWTWYYYNNLWMNSPQWYWETHMYWTANGSRGWSWYIGEMNWLSINYQPTCTFPYHSFVYQVATTTPHGMPWGLQHNIVYRVQIQTSNHPVGPFQNDPWWTAAFDGPNCQCCETGTEFGPCTAFYQSIRMKYGGFACLWTIHVFPLPSAILHGFFFKCKIVEHWTPMNWWDKTLTSSACKFINRSWHGRDQPKEYKAGIETHVKWSNYELLCCFVFYYYNRKTWCFNIWWNWHVEFESKYYEKYFYMGEENGWVMDNSNSQGFHQQETWVFKFPSAQEDDERKPLTSDTRMDLDDSGMAQTREMAVAQNLIGDIHDDVLFTVHRRFHFGGWQIPENNRQLQWQCAETAEIPKTAQDRRRTIAMCKQMIPWMNAGYYWKTPFCPECEWNDNCCSSHFPKPGWSHGWWGLLAECMCCGRAINMTKGDHAMAMFLEWWQ'\u001b[0m\u001b[0;34m\u001b[0m\u001b[0;34m\u001b[0m\u001b[0m\n\u001b[1;32m      4\u001b[0m \u001b[0;34m\u001b[0m\u001b[0m\n\u001b[0;32m----> 5\u001b[0;31m \u001b[0malScore\u001b[0m\u001b[0;34m,\u001b[0m \u001b[0mLCS\u001b[0m\u001b[0;34m,\u001b[0m \u001b[0ma\u001b[0m\u001b[0;34m,\u001b[0m\u001b[0mb\u001b[0m\u001b[0;34m,\u001b[0m\u001b[0m_\u001b[0m \u001b[0;34m=\u001b[0m \u001b[0mglobalAlignment\u001b[0m\u001b[0;34m(\u001b[0m\u001b[0mx\u001b[0m\u001b[0;34m,\u001b[0m\u001b[0my\u001b[0m\u001b[0;34m)\u001b[0m\u001b[0;34m\u001b[0m\u001b[0;34m\u001b[0m\u001b[0m\n\u001b[0m\u001b[1;32m      6\u001b[0m \u001b[0;34m\u001b[0m\u001b[0m\n\u001b[1;32m      7\u001b[0m \u001b[0mprint\u001b[0m\u001b[0;34m(\u001b[0m\u001b[0malScore\u001b[0m\u001b[0;34m)\u001b[0m\u001b[0;34m\u001b[0m\u001b[0;34m\u001b[0m\u001b[0m\n",
      "\u001b[0;32m<ipython-input-281-7dbcca6a7f56>\u001b[0m in \u001b[0;36mglobalAlignment\u001b[0;34m(x, y, indel)\u001b[0m\n\u001b[1;32m     16\u001b[0m                 \u001b[0mFmatrix\u001b[0m\u001b[0;34m[\u001b[0m\u001b[0mi\u001b[0m\u001b[0;34m,\u001b[0m\u001b[0mj\u001b[0m\u001b[0;34m]\u001b[0m \u001b[0;34m=\u001b[0m \u001b[0mFmatrix\u001b[0m\u001b[0;34m[\u001b[0m\u001b[0mi\u001b[0m\u001b[0;34m-\u001b[0m\u001b[0;36m1\u001b[0m\u001b[0;34m,\u001b[0m\u001b[0mj\u001b[0m\u001b[0;34m-\u001b[0m\u001b[0;36m1\u001b[0m\u001b[0;34m]\u001b[0m \u001b[0;34m+\u001b[0m \u001b[0mscorematch\u001b[0m\u001b[0;34m(\u001b[0m\u001b[0mx\u001b[0m\u001b[0;34m[\u001b[0m\u001b[0mi\u001b[0m\u001b[0;34m-\u001b[0m\u001b[0;36m1\u001b[0m\u001b[0;34m]\u001b[0m\u001b[0;34m,\u001b[0m\u001b[0my\u001b[0m\u001b[0;34m[\u001b[0m\u001b[0mj\u001b[0m\u001b[0;34m-\u001b[0m\u001b[0;36m1\u001b[0m\u001b[0;34m]\u001b[0m\u001b[0;34m)\u001b[0m\u001b[0;34m\u001b[0m\u001b[0;34m\u001b[0m\u001b[0m\n\u001b[1;32m     17\u001b[0m             \u001b[0;32melse\u001b[0m\u001b[0;34m:\u001b[0m\u001b[0;34m\u001b[0m\u001b[0;34m\u001b[0m\u001b[0m\n\u001b[0;32m---> 18\u001b[0;31m                 \u001b[0mmm\u001b[0m \u001b[0;34m=\u001b[0m \u001b[0mFmatrix\u001b[0m\u001b[0;34m[\u001b[0m\u001b[0mi\u001b[0m\u001b[0;34m-\u001b[0m\u001b[0;36m1\u001b[0m\u001b[0;34m,\u001b[0m\u001b[0mj\u001b[0m\u001b[0;34m-\u001b[0m\u001b[0;36m1\u001b[0m\u001b[0;34m]\u001b[0m \u001b[0;34m+\u001b[0m \u001b[0mscorematch\u001b[0m\u001b[0;34m(\u001b[0m\u001b[0mx\u001b[0m\u001b[0;34m[\u001b[0m\u001b[0mi\u001b[0m\u001b[0;34m-\u001b[0m\u001b[0;36m1\u001b[0m\u001b[0;34m]\u001b[0m\u001b[0;34m,\u001b[0m\u001b[0my\u001b[0m\u001b[0;34m[\u001b[0m\u001b[0mj\u001b[0m\u001b[0;34m-\u001b[0m\u001b[0;36m1\u001b[0m\u001b[0;34m]\u001b[0m\u001b[0;34m)\u001b[0m\u001b[0;34m\u001b[0m\u001b[0;34m\u001b[0m\u001b[0m\n\u001b[0m\u001b[1;32m     19\u001b[0m                 \u001b[0mdown\u001b[0m \u001b[0;34m=\u001b[0m \u001b[0mFmatrix\u001b[0m\u001b[0;34m[\u001b[0m\u001b[0mi\u001b[0m\u001b[0;34m-\u001b[0m\u001b[0;36m1\u001b[0m\u001b[0;34m,\u001b[0m\u001b[0mj\u001b[0m\u001b[0;34m]\u001b[0m \u001b[0;34m+\u001b[0m \u001b[0mindel\u001b[0m\u001b[0;34m\u001b[0m\u001b[0;34m\u001b[0m\u001b[0m\n\u001b[1;32m     20\u001b[0m                 \u001b[0mright\u001b[0m \u001b[0;34m=\u001b[0m \u001b[0mFmatrix\u001b[0m\u001b[0;34m[\u001b[0m\u001b[0mi\u001b[0m\u001b[0;34m,\u001b[0m\u001b[0mj\u001b[0m\u001b[0;34m-\u001b[0m\u001b[0;36m1\u001b[0m\u001b[0;34m]\u001b[0m \u001b[0;34m+\u001b[0m \u001b[0mindel\u001b[0m\u001b[0;34m\u001b[0m\u001b[0;34m\u001b[0m\u001b[0m\n",
      "\u001b[0;32m<ipython-input-114-bf0e8327d266>\u001b[0m in \u001b[0;36mscorematch\u001b[0;34m(a, b)\u001b[0m\n\u001b[1;32m      1\u001b[0m \u001b[0;32mdef\u001b[0m \u001b[0mscorematch\u001b[0m\u001b[0;34m(\u001b[0m\u001b[0ma\u001b[0m\u001b[0;34m,\u001b[0m\u001b[0mb\u001b[0m\u001b[0;34m)\u001b[0m\u001b[0;34m:\u001b[0m\u001b[0;34m\u001b[0m\u001b[0;34m\u001b[0m\u001b[0m\n\u001b[0;32m----> 2\u001b[0;31m     \u001b[0;32mreturn\u001b[0m \u001b[0mblosum\u001b[0m\u001b[0;34m.\u001b[0m\u001b[0mloc\u001b[0m\u001b[0;34m[\u001b[0m\u001b[0ma\u001b[0m\u001b[0;34m]\u001b[0m\u001b[0;34m[\u001b[0m\u001b[0mb\u001b[0m\u001b[0;34m]\u001b[0m\u001b[0;34m\u001b[0m\u001b[0;34m\u001b[0m\u001b[0m\n\u001b[0m",
      "\u001b[0;32m~/miniconda3/lib/python3.7/site-packages/pandas/core/indexing.py\u001b[0m in \u001b[0;36m__getitem__\u001b[0;34m(self, key)\u001b[0m\n\u001b[1;32m   1766\u001b[0m \u001b[0;34m\u001b[0m\u001b[0m\n\u001b[1;32m   1767\u001b[0m             \u001b[0mmaybe_callable\u001b[0m \u001b[0;34m=\u001b[0m \u001b[0mcom\u001b[0m\u001b[0;34m.\u001b[0m\u001b[0mapply_if_callable\u001b[0m\u001b[0;34m(\u001b[0m\u001b[0mkey\u001b[0m\u001b[0;34m,\u001b[0m \u001b[0mself\u001b[0m\u001b[0;34m.\u001b[0m\u001b[0mobj\u001b[0m\u001b[0;34m)\u001b[0m\u001b[0;34m\u001b[0m\u001b[0;34m\u001b[0m\u001b[0m\n\u001b[0;32m-> 1768\u001b[0;31m             \u001b[0;32mreturn\u001b[0m \u001b[0mself\u001b[0m\u001b[0;34m.\u001b[0m\u001b[0m_getitem_axis\u001b[0m\u001b[0;34m(\u001b[0m\u001b[0mmaybe_callable\u001b[0m\u001b[0;34m,\u001b[0m \u001b[0maxis\u001b[0m\u001b[0;34m=\u001b[0m\u001b[0maxis\u001b[0m\u001b[0;34m)\u001b[0m\u001b[0;34m\u001b[0m\u001b[0;34m\u001b[0m\u001b[0m\n\u001b[0m\u001b[1;32m   1769\u001b[0m \u001b[0;34m\u001b[0m\u001b[0m\n\u001b[1;32m   1770\u001b[0m     \u001b[0;32mdef\u001b[0m \u001b[0m_is_scalar_access\u001b[0m\u001b[0;34m(\u001b[0m\u001b[0mself\u001b[0m\u001b[0;34m,\u001b[0m \u001b[0mkey\u001b[0m\u001b[0;34m:\u001b[0m \u001b[0mTuple\u001b[0m\u001b[0;34m)\u001b[0m\u001b[0;34m:\u001b[0m\u001b[0;34m\u001b[0m\u001b[0;34m\u001b[0m\u001b[0m\n",
      "\u001b[0;32m~/miniconda3/lib/python3.7/site-packages/pandas/core/indexing.py\u001b[0m in \u001b[0;36m_getitem_axis\u001b[0;34m(self, key, axis)\u001b[0m\n\u001b[1;32m   1963\u001b[0m         \u001b[0;31m# fall thru to straight lookup\u001b[0m\u001b[0;34m\u001b[0m\u001b[0;34m\u001b[0m\u001b[0;34m\u001b[0m\u001b[0m\n\u001b[1;32m   1964\u001b[0m         \u001b[0mself\u001b[0m\u001b[0;34m.\u001b[0m\u001b[0m_validate_key\u001b[0m\u001b[0;34m(\u001b[0m\u001b[0mkey\u001b[0m\u001b[0;34m,\u001b[0m \u001b[0maxis\u001b[0m\u001b[0;34m)\u001b[0m\u001b[0;34m\u001b[0m\u001b[0;34m\u001b[0m\u001b[0m\n\u001b[0;32m-> 1965\u001b[0;31m         \u001b[0;32mreturn\u001b[0m \u001b[0mself\u001b[0m\u001b[0;34m.\u001b[0m\u001b[0m_get_label\u001b[0m\u001b[0;34m(\u001b[0m\u001b[0mkey\u001b[0m\u001b[0;34m,\u001b[0m \u001b[0maxis\u001b[0m\u001b[0;34m=\u001b[0m\u001b[0maxis\u001b[0m\u001b[0;34m)\u001b[0m\u001b[0;34m\u001b[0m\u001b[0;34m\u001b[0m\u001b[0m\n\u001b[0m\u001b[1;32m   1966\u001b[0m \u001b[0;34m\u001b[0m\u001b[0m\n\u001b[1;32m   1967\u001b[0m \u001b[0;34m\u001b[0m\u001b[0m\n",
      "\u001b[0;32m~/miniconda3/lib/python3.7/site-packages/pandas/core/indexing.py\u001b[0m in \u001b[0;36m_get_label\u001b[0;34m(self, label, axis)\u001b[0m\n\u001b[1;32m    623\u001b[0m             \u001b[0;32mraise\u001b[0m \u001b[0mIndexingError\u001b[0m\u001b[0;34m(\u001b[0m\u001b[0;34m\"no slices here, handle elsewhere\"\u001b[0m\u001b[0;34m)\u001b[0m\u001b[0;34m\u001b[0m\u001b[0;34m\u001b[0m\u001b[0m\n\u001b[1;32m    624\u001b[0m \u001b[0;34m\u001b[0m\u001b[0m\n\u001b[0;32m--> 625\u001b[0;31m         \u001b[0;32mreturn\u001b[0m \u001b[0mself\u001b[0m\u001b[0;34m.\u001b[0m\u001b[0mobj\u001b[0m\u001b[0;34m.\u001b[0m\u001b[0m_xs\u001b[0m\u001b[0;34m(\u001b[0m\u001b[0mlabel\u001b[0m\u001b[0;34m,\u001b[0m \u001b[0maxis\u001b[0m\u001b[0;34m=\u001b[0m\u001b[0maxis\u001b[0m\u001b[0;34m)\u001b[0m\u001b[0;34m\u001b[0m\u001b[0;34m\u001b[0m\u001b[0m\n\u001b[0m\u001b[1;32m    626\u001b[0m \u001b[0;34m\u001b[0m\u001b[0m\n\u001b[1;32m    627\u001b[0m     \u001b[0;32mdef\u001b[0m \u001b[0m_get_loc\u001b[0m\u001b[0;34m(\u001b[0m\u001b[0mself\u001b[0m\u001b[0;34m,\u001b[0m \u001b[0mkey\u001b[0m\u001b[0;34m:\u001b[0m \u001b[0mint\u001b[0m\u001b[0;34m,\u001b[0m \u001b[0maxis\u001b[0m\u001b[0;34m:\u001b[0m \u001b[0mint\u001b[0m\u001b[0;34m)\u001b[0m\u001b[0;34m:\u001b[0m\u001b[0;34m\u001b[0m\u001b[0;34m\u001b[0m\u001b[0m\n",
      "\u001b[0;32m~/miniconda3/lib/python3.7/site-packages/pandas/core/generic.py\u001b[0m in \u001b[0;36mxs\u001b[0;34m(self, key, axis, level, drop_level)\u001b[0m\n\u001b[1;32m   3562\u001b[0m                 \u001b[0mindex\u001b[0m\u001b[0;34m=\u001b[0m\u001b[0mself\u001b[0m\u001b[0;34m.\u001b[0m\u001b[0mcolumns\u001b[0m\u001b[0;34m,\u001b[0m\u001b[0;34m\u001b[0m\u001b[0;34m\u001b[0m\u001b[0m\n\u001b[1;32m   3563\u001b[0m                 \u001b[0mname\u001b[0m\u001b[0;34m=\u001b[0m\u001b[0mself\u001b[0m\u001b[0;34m.\u001b[0m\u001b[0mindex\u001b[0m\u001b[0;34m[\u001b[0m\u001b[0mloc\u001b[0m\u001b[0;34m]\u001b[0m\u001b[0;34m,\u001b[0m\u001b[0;34m\u001b[0m\u001b[0;34m\u001b[0m\u001b[0m\n\u001b[0;32m-> 3564\u001b[0;31m                 \u001b[0mdtype\u001b[0m\u001b[0;34m=\u001b[0m\u001b[0mnew_values\u001b[0m\u001b[0;34m.\u001b[0m\u001b[0mdtype\u001b[0m\u001b[0;34m,\u001b[0m\u001b[0;34m\u001b[0m\u001b[0;34m\u001b[0m\u001b[0m\n\u001b[0m\u001b[1;32m   3565\u001b[0m             )\n\u001b[1;32m   3566\u001b[0m \u001b[0;34m\u001b[0m\u001b[0m\n",
      "\u001b[0;32m~/miniconda3/lib/python3.7/site-packages/pandas/core/series.py\u001b[0m in \u001b[0;36m__init__\u001b[0;34m(self, data, index, dtype, name, copy, fastpath)\u001b[0m\n\u001b[1;32m    303\u001b[0m                     \u001b[0mdata\u001b[0m \u001b[0;34m=\u001b[0m \u001b[0mdata\u001b[0m\u001b[0;34m.\u001b[0m\u001b[0mcopy\u001b[0m\u001b[0;34m(\u001b[0m\u001b[0;34m)\u001b[0m\u001b[0;34m\u001b[0m\u001b[0;34m\u001b[0m\u001b[0m\n\u001b[1;32m    304\u001b[0m             \u001b[0;32melse\u001b[0m\u001b[0;34m:\u001b[0m\u001b[0;34m\u001b[0m\u001b[0;34m\u001b[0m\u001b[0m\n\u001b[0;32m--> 305\u001b[0;31m                 \u001b[0mdata\u001b[0m \u001b[0;34m=\u001b[0m \u001b[0msanitize_array\u001b[0m\u001b[0;34m(\u001b[0m\u001b[0mdata\u001b[0m\u001b[0;34m,\u001b[0m \u001b[0mindex\u001b[0m\u001b[0;34m,\u001b[0m \u001b[0mdtype\u001b[0m\u001b[0;34m,\u001b[0m \u001b[0mcopy\u001b[0m\u001b[0;34m,\u001b[0m \u001b[0mraise_cast_failure\u001b[0m\u001b[0;34m=\u001b[0m\u001b[0;32mTrue\u001b[0m\u001b[0;34m)\u001b[0m\u001b[0;34m\u001b[0m\u001b[0;34m\u001b[0m\u001b[0m\n\u001b[0m\u001b[1;32m    306\u001b[0m \u001b[0;34m\u001b[0m\u001b[0m\n\u001b[1;32m    307\u001b[0m                 \u001b[0mdata\u001b[0m \u001b[0;34m=\u001b[0m \u001b[0mSingleBlockManager\u001b[0m\u001b[0;34m(\u001b[0m\u001b[0mdata\u001b[0m\u001b[0;34m,\u001b[0m \u001b[0mindex\u001b[0m\u001b[0;34m,\u001b[0m \u001b[0mfastpath\u001b[0m\u001b[0;34m=\u001b[0m\u001b[0;32mTrue\u001b[0m\u001b[0;34m)\u001b[0m\u001b[0;34m\u001b[0m\u001b[0;34m\u001b[0m\u001b[0m\n",
      "\u001b[0;32m~/miniconda3/lib/python3.7/site-packages/pandas/core/construction.py\u001b[0m in \u001b[0;36msanitize_array\u001b[0;34m(data, index, dtype, copy, raise_cast_failure)\u001b[0m\n\u001b[1;32m    422\u001b[0m         \u001b[0;32melse\u001b[0m\u001b[0;34m:\u001b[0m\u001b[0;34m\u001b[0m\u001b[0;34m\u001b[0m\u001b[0m\n\u001b[1;32m    423\u001b[0m             \u001b[0;31m# we will try to copy be-definition here\u001b[0m\u001b[0;34m\u001b[0m\u001b[0;34m\u001b[0m\u001b[0;34m\u001b[0m\u001b[0m\n\u001b[0;32m--> 424\u001b[0;31m             \u001b[0msubarr\u001b[0m \u001b[0;34m=\u001b[0m \u001b[0m_try_cast\u001b[0m\u001b[0;34m(\u001b[0m\u001b[0mdata\u001b[0m\u001b[0;34m,\u001b[0m \u001b[0mdtype\u001b[0m\u001b[0;34m,\u001b[0m \u001b[0mcopy\u001b[0m\u001b[0;34m,\u001b[0m \u001b[0mraise_cast_failure\u001b[0m\u001b[0;34m)\u001b[0m\u001b[0;34m\u001b[0m\u001b[0;34m\u001b[0m\u001b[0m\n\u001b[0m\u001b[1;32m    425\u001b[0m \u001b[0;34m\u001b[0m\u001b[0m\n\u001b[1;32m    426\u001b[0m     \u001b[0;32melif\u001b[0m \u001b[0misinstance\u001b[0m\u001b[0;34m(\u001b[0m\u001b[0mdata\u001b[0m\u001b[0;34m,\u001b[0m \u001b[0mABCExtensionArray\u001b[0m\u001b[0;34m)\u001b[0m\u001b[0;34m:\u001b[0m\u001b[0;34m\u001b[0m\u001b[0;34m\u001b[0m\u001b[0m\n",
      "\u001b[0;32m~/miniconda3/lib/python3.7/site-packages/pandas/core/construction.py\u001b[0m in \u001b[0;36m_try_cast\u001b[0;34m(arr, dtype, copy, raise_cast_failure)\u001b[0m\n\u001b[1;32m    538\u001b[0m         \u001b[0;31m# Take care in creating object arrays (but iterators are not\u001b[0m\u001b[0;34m\u001b[0m\u001b[0;34m\u001b[0m\u001b[0;34m\u001b[0m\u001b[0m\n\u001b[1;32m    539\u001b[0m         \u001b[0;31m# supported):\u001b[0m\u001b[0;34m\u001b[0m\u001b[0;34m\u001b[0m\u001b[0;34m\u001b[0m\u001b[0m\n\u001b[0;32m--> 540\u001b[0;31m         if is_object_dtype(dtype) and (\n\u001b[0m\u001b[1;32m    541\u001b[0m             \u001b[0mis_list_like\u001b[0m\u001b[0;34m(\u001b[0m\u001b[0msubarr\u001b[0m\u001b[0;34m)\u001b[0m\u001b[0;34m\u001b[0m\u001b[0;34m\u001b[0m\u001b[0m\n\u001b[1;32m    542\u001b[0m             \u001b[0;32mand\u001b[0m \u001b[0;32mnot\u001b[0m \u001b[0;34m(\u001b[0m\u001b[0mis_iterator\u001b[0m\u001b[0;34m(\u001b[0m\u001b[0msubarr\u001b[0m\u001b[0;34m)\u001b[0m \u001b[0;32mor\u001b[0m \u001b[0misinstance\u001b[0m\u001b[0;34m(\u001b[0m\u001b[0msubarr\u001b[0m\u001b[0;34m,\u001b[0m \u001b[0mnp\u001b[0m\u001b[0;34m.\u001b[0m\u001b[0mndarray\u001b[0m\u001b[0;34m)\u001b[0m\u001b[0;34m)\u001b[0m\u001b[0;34m\u001b[0m\u001b[0;34m\u001b[0m\u001b[0m\n",
      "\u001b[0;32m~/miniconda3/lib/python3.7/site-packages/pandas/core/dtypes/common.py\u001b[0m in \u001b[0;36mis_object_dtype\u001b[0;34m(arr_or_dtype)\u001b[0m\n\u001b[1;32m    247\u001b[0m     \u001b[0;32mFalse\u001b[0m\u001b[0;34m\u001b[0m\u001b[0;34m\u001b[0m\u001b[0m\n\u001b[1;32m    248\u001b[0m     \"\"\"\n\u001b[0;32m--> 249\u001b[0;31m     \u001b[0;32mreturn\u001b[0m \u001b[0m_is_dtype_type\u001b[0m\u001b[0;34m(\u001b[0m\u001b[0marr_or_dtype\u001b[0m\u001b[0;34m,\u001b[0m \u001b[0mclasses\u001b[0m\u001b[0;34m(\u001b[0m\u001b[0mnp\u001b[0m\u001b[0;34m.\u001b[0m\u001b[0mobject_\u001b[0m\u001b[0;34m)\u001b[0m\u001b[0;34m)\u001b[0m\u001b[0;34m\u001b[0m\u001b[0;34m\u001b[0m\u001b[0m\n\u001b[0m\u001b[1;32m    250\u001b[0m \u001b[0;34m\u001b[0m\u001b[0m\n\u001b[1;32m    251\u001b[0m \u001b[0;34m\u001b[0m\u001b[0m\n",
      "\u001b[0;32m~/miniconda3/lib/python3.7/site-packages/pandas/core/dtypes/common.py\u001b[0m in \u001b[0;36m_is_dtype_type\u001b[0;34m(arr_or_dtype, condition)\u001b[0m\n\u001b[1;32m   1726\u001b[0m     \u001b[0;31m# fastpath\u001b[0m\u001b[0;34m\u001b[0m\u001b[0;34m\u001b[0m\u001b[0;34m\u001b[0m\u001b[0m\n\u001b[1;32m   1727\u001b[0m     \u001b[0;32mif\u001b[0m \u001b[0misinstance\u001b[0m\u001b[0;34m(\u001b[0m\u001b[0marr_or_dtype\u001b[0m\u001b[0;34m,\u001b[0m \u001b[0mnp\u001b[0m\u001b[0;34m.\u001b[0m\u001b[0mdtype\u001b[0m\u001b[0;34m)\u001b[0m\u001b[0;34m:\u001b[0m\u001b[0;34m\u001b[0m\u001b[0;34m\u001b[0m\u001b[0m\n\u001b[0;32m-> 1728\u001b[0;31m         \u001b[0;32mreturn\u001b[0m \u001b[0mcondition\u001b[0m\u001b[0;34m(\u001b[0m\u001b[0marr_or_dtype\u001b[0m\u001b[0;34m.\u001b[0m\u001b[0mtype\u001b[0m\u001b[0;34m)\u001b[0m\u001b[0;34m\u001b[0m\u001b[0;34m\u001b[0m\u001b[0m\n\u001b[0m\u001b[1;32m   1729\u001b[0m     \u001b[0;32melif\u001b[0m \u001b[0misinstance\u001b[0m\u001b[0;34m(\u001b[0m\u001b[0marr_or_dtype\u001b[0m\u001b[0;34m,\u001b[0m \u001b[0mtype\u001b[0m\u001b[0;34m)\u001b[0m\u001b[0;34m:\u001b[0m\u001b[0;34m\u001b[0m\u001b[0;34m\u001b[0m\u001b[0m\n\u001b[1;32m   1730\u001b[0m         \u001b[0;32mif\u001b[0m \u001b[0missubclass\u001b[0m\u001b[0;34m(\u001b[0m\u001b[0marr_or_dtype\u001b[0m\u001b[0;34m,\u001b[0m \u001b[0mExtensionDtype\u001b[0m\u001b[0;34m)\u001b[0m\u001b[0;34m:\u001b[0m\u001b[0;34m\u001b[0m\u001b[0;34m\u001b[0m\u001b[0m\n",
      "\u001b[0;32m~/miniconda3/lib/python3.7/site-packages/pandas/core/dtypes/common.py\u001b[0m in \u001b[0;36m<lambda>\u001b[0;34m(tipo)\u001b[0m\n\u001b[1;32m    206\u001b[0m \u001b[0;32mdef\u001b[0m \u001b[0mclasses\u001b[0m\u001b[0;34m(\u001b[0m\u001b[0;34m*\u001b[0m\u001b[0mklasses\u001b[0m\u001b[0;34m)\u001b[0m \u001b[0;34m->\u001b[0m \u001b[0mCallable\u001b[0m\u001b[0;34m:\u001b[0m\u001b[0;34m\u001b[0m\u001b[0;34m\u001b[0m\u001b[0m\n\u001b[1;32m    207\u001b[0m     \u001b[0;34m\"\"\" evaluate if the tipo is a subclass of the klasses \"\"\"\u001b[0m\u001b[0;34m\u001b[0m\u001b[0;34m\u001b[0m\u001b[0m\n\u001b[0;32m--> 208\u001b[0;31m     \u001b[0;32mreturn\u001b[0m \u001b[0;32mlambda\u001b[0m \u001b[0mtipo\u001b[0m\u001b[0;34m:\u001b[0m \u001b[0missubclass\u001b[0m\u001b[0;34m(\u001b[0m\u001b[0mtipo\u001b[0m\u001b[0;34m,\u001b[0m \u001b[0mklasses\u001b[0m\u001b[0;34m)\u001b[0m\u001b[0;34m\u001b[0m\u001b[0;34m\u001b[0m\u001b[0m\n\u001b[0m\u001b[1;32m    209\u001b[0m \u001b[0;34m\u001b[0m\u001b[0m\n\u001b[1;32m    210\u001b[0m \u001b[0;34m\u001b[0m\u001b[0m\n",
      "\u001b[0;31mKeyboardInterrupt\u001b[0m: "
     ]
    }
   ],
   "source": [
    "%time\n",
    "x='FGVLMCLSDLFQYQRNSAEAYTDTAKWAYQIYQIVRHGFFPPCTNPSHAWYKRYYHVEYTEGNIQDITRWTHEWRRSYQPMMRAQPMHWAECTHRCCSSYPICCPKWNVFNIKTLYKMLYCHDGYNCNHRLVVRSLEHGCFRFLLKNNDVERTKHCIYGMIYNPPPNVMSYIPRGMCNSYHSMIQQSLVSTELHQGDQFVFNPNIYYYGMVFKLLYQFMSGPILVPMPTICTDHYQMSCRCADMNSICWRAHDPQAEQGPNKSHCDSMKFVNNYAHEPDRDILSTQCKDASYPERNNQGTGNVDQGCQKKNEPYQLKTWKVFHTMRGYGITQYNMPHRMHFEVVNWYWEVHSIFDAVRFEYYEIMRRSWWFTFSFTQSWNNCTDFLKLYQTWCRLGGLHHHMHENNYDCEWMVMCDKKVDVIIDLREPLRICWLADAKYFKEDNKRCYSHKAHHIAKCNFQVERGEGHPALNAWYGFMDSKVMLFRQAGEPFRVMLVHPDMHYARIDYDCACWGMGWNRYGCITQSKMCESEKHFEAHQMNRPTIKCRKNMLRYEMVRRTWTLLGREINVFLHVYCYSHAWHRIGKVFWAQFHVDTITRHTLLAWTMLHTIIHRIWHGHQFDNKQLNRIIKKSCRTMLTIFGMRNEFHKWAGFKWSQYRWNVIMHAHYSYKDHGAEISHVRWVTTFGSAGEVFTNPGLNYWLPDDLGCNVDPYHHGSSVAMAHRACQNMTTRLGNVEKRMGDMDMKSNLDQRDRIGNMEVNAVRWMAGKSHTSRACKREAGEWTSFEWEVDQYVHKGYNPMDLWKGRKPSLGWNTGHFAMVENEHDVWIACVWDSMHHNADKRGFKLFFTNRLMHVWDECKQYRYFSNKQQFIWMSLSINLTSHSLDISKSYWVFKHGWMTRVLVCNQNYQQECMPDNDPMSNHPIDYRFAPVHCIMCVHNQYTHPTVGHWYNMQWSWKVNCDVGDCSYWSVKAMETGFGATVQCDLADQDRRATPGSKTMCECPKLWNTNYYRYMRSQDEWDMWCDLAYLRFYDSSHYFRKIFQDRQDEEWKEFSAWCMWQRVIVFKLCIDFCIMQREMGGVTMYYTVDAPVGIRTYVDWEFIATRAAWNLENDILYMMPQGHNWDMDHCWVKGNRIQMAACVCQHIAELQTTIQGSSNHPFLQGRMLEFEQSSAQQRLTAFNMDGYVQYILVKYRWITCACTQPTQHMWWSRFKNPTKNMFNCNKEKEFPKGYYSEGPRFDDSRMNWSFDYHANQVIMQRWGHDSGKSRLKVRHCQSFHLTSFDDIINDQAVKQMYWWAYVKCTQEDEHKQVDWCPLKYSFVCRVAPKCYYIPVDCYQDAWYPNPQRNSSFSHSVMWRTDYNENRSKSFWQILQNPKLSFVRLEKYFHFQPFGEPPSPIGCATCIYPNHYAERANNQCVYESKSVSFFNQMCYCKRMLFPLGWWAWMGWDWWHLYIKKPVCEIDQILLEPWISNLEPSGRANLMAVIGCWAHLHRSEWRDQRLYHFKSCEQRKMPQPDCMCRIQCIWPIVVQGNHFIVQKGMWIMFKGMNRCESQLNRSYSHDVIEGNWQWCPFFALSKYEKNMAHWKNYKTLSRLCVYNVRCSEGRMHVPPMCKPPIWPPFRRYPVSYAIVATFRRQWYGTNVLSWVHGFRQQCDLWMMDAMSYWAAFWCGWSSVDCFGKTDNHASWTRGGERTEAVCFAMFAFVDWRNKIDRATEDRYTIVFVWRYWMVGLKNENGHKCHQNTKKIKRLFWECMLWTMLLTWTDRCINAVSRYQPIELNVNLCPITLDCDPRYQTYWQLNETELYFLAQQHFDLLCKFYYCYLNPQCVQHKVQENTTQCILFDYEWPQAQQPNGCADIQCIITQHIKQEWVAKPLVGDVILQHPVRGRIRCSVLTPRVINGWHTEASWKMKFKQEKCQVMAAGVLKNDGTILQLLIHEEPMHTWNSLKWFPPFNQICGFPFKAKHLFATNKIRQPNFVKAEFNCCGHYCVGMINCAPWLTLNAVQVCQQYEYHYCDIPKFTESMWNVDEMTVKHWQITSDPFAKCYCWAIWWHASVGYIFDLAMNPKTYQDVINNYQVWAMDGVHYFIILWRWVGVTDVTSLSFNFDTDRFSTNFWNSLRIIWTFKMLNPMCAVWEPACYFQNAYYHQFEAYQQLCIGAFKCYFVPQWLEWEDSPVSDHGLVESCKYVEDQTENLRIYKVNEMGICLNFYAKCDMRTKATQCICPCAGQAWRWYPDMMCPFGHLIPLIMGCTWIAIGWDMASAFGWKMRHEECWGAMDCKMKQAEQTNEIIWWLEHQMHPAMKSYGFPKVSPHRCTQREECNFVNRWKNISQMHWYVHQNQQGPGMLWFHEYADRAFCGSGSMGQYDHDRPYMKWFMHNLQYWAHIIECQPGMSSGHIDDPKIGTIIVMAGIGGYDQDNIDNNDKESLVWIFRLQPWRYPFVRKLPPKIWNPVDAPLSWLQGPRIMSTCDRTELNGMTTCQMPDDFPDLESMYEMYERVIMIKCDYMDDCYERNEYCYMIPAELTEFWIMHIDAYMGLQAAIDSIEDLYHEKGDTHCMAEMRSAMYGDWFGLHCPFYGLEEWGLTQKKILVDHRDLDTFTHNGAHIYWSQMIVADHFWIENKMMYFIDCKDANCHIIFVTLWNRRCVGFQNNCWYCKWCKFCLPKVDVWKKPGWNIEYEIYDEVYCVAQVWFNGTTKKIAAMAMVRSDISDEKDWPRRQDCYLTGLTLQFDQYYPKLGFKFSAFYNNMLPMFPMWEKFNNHSHETWLDDHYNGNYYRQVMFLAFNCASPYRPATEKTNRHANGNCVIDHRTRWFIVMGRQKQRVASCGSMAGDVCVNMHHCTVPAWALQAFSTKVNNGHIHQWAIETHPVWNMVPHGVLPLECCRVRQNWHTDQYNKQEEVWKFPKTKPETRPPDEDPDSCWDRKEGERGQGADGMLRETNERHWCVIRYHCAARQERANCFFHFVKVQVCPCTVIYFMPAVEKTGTFRTSDYGIFWRWCCQWCEQMFKSGIMVGSGHAWEFHMFPDAPIFCDIGSGPDPDSWWHVYEWYGHESYTPINQNVKFDQEKHYNNAWAFCYIGAYTSTFLWVELGVYRCWWKTELERKLLDEFIVVCSNSYWEWPKADDSMHYMPDDNRWTVWELKYGRWAHRAQVTIDVFTCHYGFQYANSTLEIFDDPEYTKNHASQVMIDDLGFVLCDNNRHGSTSVIYSCAQDLPNGEDKMCPWAHASYNVGYDWLIHDVYLPKKTNPIMYMVQWLQMRWEMVYPMYSDTYWNPQSRGHFWVCQDWHSYGLYCNPSYPSIGCWYMTEAFTGCIWGSFHMLHWAHKQLCEIYEPQCWSHIVCCKSPCKLMPYWGYEIDQGTADINMEYQEKAYEQCFQVQSYKIKMHAQEYEASTFDRDITSPRKCAIIFPVGVRPRGVQLLCAQQHAMTEGMWLSERLLLTAWLRHRCSRKYGHKQRFETLCRSVNFISPHEVKEAWTWYYYNNGWMDKCWEQGSGGWAWYIGEMNAHHSEWLSINYQPTCTPVCYQVDTTTPHGMPWGLQHNHVYRVQIQTTNHEVGPFQNDPWKSWTAAFDGPNCQCCETGTEFGPCTFIRMKYGYVFWKSYYKFPWWLPSAILHGAFRSFFFKCGVWWVTCKTLTSLALKFINTQPKEYKAGIEIHAYPSNYELLRCFVFYLYNRRTWCFNIWWNWHVEFESKQYMWENDYSNSQQFHSTKMKREQFKETWVFKFPSAQEDDERKPLTSDTRMDLDGQTYVAQHLGVCSPSYGNIGDDHDDMLFTHHRRFHFGGWQIPENFKPDHGKEYVNFYIALSERAERYIPKHLINAWAQDRRWTWMITWMTAGYYWKTPFCPEPEDDNNKFPSHFPHTYKQKLFYRKVYKIDLLLKMHARLAECMCCGRAINMRKGDRADHMMAMFLEWWQ'\n",
    "y='FGVLMCLSDLFQYMRNSAEAYTDTAKWKFYVMYQSDQWQRHGFFPPCTNPQNSHAWSCSSRYGFWWIKTDILRMLHEWRFPVCNRRSYQPCCSSYPICCPKWNVFNIKHTVETYKMLYCHDGYNCNHRLFHSSMVKRAVLMTQLLWLEWMLGCFRSSKYKHCIYRMIQNPPPNVMSYHIMPQQVFNPNIYYYGQYAADSAISHPILVPLQHQTEPFFTHHNWDRPHYMSTNDYKEIVYRCAEDNSKATNCWRYNTIWHDAMLLMTSYSAEKSHCFVNNTQPEVAAHEMQSNVDTSRDILSTQCKDASYPEVNNQGTGNVDQGEPYQFWEREKTWKVFHGYMIITQYNMPHRHWGWHVDFFEVWEVHSIFDAVRFEYDEIMRRSWATWPQNTGFTFSFTTTWNNQTDFLKMHDDNPWLSGKQWFPEHHHSHNMNNYDCEWMVMCDKKVDVIIDLREQTTQFTPECWLADAKYFKEFWGTTRRNWIAKCYIIDGRRMMQQVERGPHMQEVCKDICGKIPPWYHFMDSKVMLARQAGEPFRVVHPPMHYARIDYDCACWGMGWNRYACITQSLMCEMEKHMKVRPSDMTNMLRYEDMVRRTWTLLGREALTSICNDIWFLKHPWMVRHWFYAVFHNDLQSAQFWIPNATHKVDVEITRHFQLAWHRICHGHQCDNKQLNRIIKKWCRTMLTIFHKWAGFKWSFRWNVHYSYKDHGAEISHVRGEVWTNLHSLMGVTGYWLPDLGQKCCLIRINVDPYGQWTHGWCRCRIPWQYMKDTGFHRLRMGDMDMKSNCPAEWQHNIIHFVLRLRDRIGNMEVNDSCQVRWEAGKSHTGSIGPACKRNKGDRFMRESTAFNGSERSNEWEVNPMDLLGWNTGHFAMVENAHDVWSACTWDSMHHHLINGQMLLACHMVFWHEKQQFIWMSHSINLTHHSLDTSKFLAAVWYWVGWMTRVLQVNVPSLLHIDYWDAAQGFASVNCIMCVHPTVGHWYNMQWVNCDVGDCSMETGFGATVQDLMRECLWRATPGFECKIMKDYQYKLWNTNYYRYMRSQAEWDMWCDLAYLRFYDFIMECCTSRKLWCCCEVDFRKIVQDRQDEEDKEFSAWCMWTNKIWCHRVIVFKLCHGGVVFNCMSHMYYTVYIPVPAPWMPIYKYGIRTYVDKIFPDQGVWQLENMNGMPILYMMPQSHNWDMKLDHCWVKNTTNRIQMAAELQTTGSSNAGLSVMPFLQMRMLEFEQSSAQQRLMVAHNRDGPMMTIKEEIRVDEWAHSAACYQRNERKQPTQHMWWSRFKNTKNMFNCNKEKEFPYGYYSEHCPRFDDSRMNWVFDYHASCMDCNYRCVIMQRWGHGHYARRHCQSFHLTSFDDIIVKQMYWWAYVNCTQRRCYVFKLKYSFAPKKYYIPVDCYQCWYPNHSVMWRTDYLENASKSCHQFWWQTQNCHLKLSFVRLHKYFHFQPFGEPPSPIGCATRIANNQYVYESKSVWFFNQKFWECQPCWWLGKPYWFQMATTHTKHIDYITTSGRSCDLMAVQSKQRLPHFGSNELQVKSMCRIQCIWPIEPYKWEAQVQGNHFIVQKGMWIWTFKGMNRCESQEDCGTYWGCGNWQNCPPFALSKYEKNEAHWSYSRLCCVRPMFFYMVRDSEGRMHSYAIVATFRRQKFFNCFSIVHGFRQQCDLWMMDAFDSYWAAFVSSVDCIGKTDNHERTEADRFAMFAKNDWKRREDRYWRYATMVGLKAWPTVRTENGHVCHQNTKKIKPWNHIHAFFWECTWTWVRCINAVYDTMPNRYNNLMPIEENVNLMPITLDDPRYQTAELYFQGQQHFDLLCKHYYHYLNPQCVQHKVQENTGYEWPQATAYHYVDTDQKKGCIITEAMQHIKQENVLKPLVWPVRGRIRISVCNGWHYKQEKCFVMAYGVCKNLQLLSHEEPMNSGHIWTWNRSGCYFLKWFPFKAKHLFATNKYRQDNFVKRAGFNCCGHYCVGMINCAPNLTLNAVQMCQQAEYHYCDIPKFTSLMWLVDEGTVKTAQACWNQIMSDPFCGRRIGVSTVGQGYIHDLAMNPKTYQDVINNDEQWSSHYFIILWRWVGVTSLSFHFDTDRFSTNFWNSLRISKMLNPMCTPPYLTNVWEPSCYSQNAYYHQFEAKEQLCIGAFKQYFTPHCQAADWRWRCDNDSPVSDHGLVDKVNFMGISLNFYAKCDMCLCAGQAWRWYPDMMCPFTYICTWIAIGWDMWSAFGWKMRHPWGRGYQTQGCKMKQAEYLNEILEHQHQPAMKSYGEDLACKLSNSPHRFTQREECNFVNRWKNISQMHQYDGMLVFHEYADCFFAARAFCGSGDKRVKMVMGQYHHDRPYMPCWMWRWIEFDVHQPWMSSGHIGCNCDEKIGTIIVYDQDNIDNNDKESLVWITRCAHVCGPWRNHHCGPPKKIWPPVDATLSWLILRWGPRICSTCGMCQMPDDFPDLMYERVIDYMDDCYERYEFYYYKAMEMYMQPAELGEFWIMHIDAYMGEQWAIDSIEDLYHEKGDTHCMSEMSAMYGDWFGQDPLRFHRCPFFQNSGGYKYFFYTCEEWTQKKILVDHRTGLIKNIFNFGQIMVDTFYHNGASHFWIENKMMYFIDCKDANCHICVHWVQMVRNVTLWNVNRCVGFRNNCWYHLVAWIKWCKFWLPKWKKPGWNPEYEINDEDTGTSIYCEWWYVAQVNGTTKKCIAMVFVYANEGMVRSDIDCYLTCHTLILTLQFDQYYPKLGFKFSAFYNNMLPMFPMWEKFNNHSHSTWLADHYNGPLFDAGGYTRQVMFTDTMRAWFNCASPYRPATEKTERHANGRCVIRTRWHIVMGRQKQRVHRCSEWVTKYTGSMAGFVCVVPAWAQPTNSNGIHRCGHEPFKPVWNMVEWTYRSNTQKNVLECCRVRQNWHTDVWETRKPDEDIKGMHNIDQSCWDRCEGERGHTAQFQYIGAVGMLRETNERKWCVSPLAIFICERYHCPIQGSVEHARQERANCGFHFVKVKVCPCTVIYFMPAVEKTGTFRPRRAQCSDYGRCRWRWCCQWCKLMFKSNQWVFRGIPVGSGHAWEPHMFPDAPIFPLSWFLTEWWGSCRYYHWVSYTDMCWYKLYLCVTNNAWSWNYIGAYTSTFLWVELGVYRCWWKTDEFIVVCSNSYWEHPKADDSMHYMMKCAYDDHRWTVWELKYGRIEKYRRDDKNIDVTKTCHYGFQYANSTLGADEIFDDHEYTKNHALQMMIDDGGFTLSCAQDLPNGEDKMCPWAHASMEVPSIVSDWLIHDVYLPYFMQWLMQSHKQMIWEMVYPMYSDTYWNPQSRGHFWWCQDWHSYGVCGLYCNPSYPSINIETCQRTNTQYMTEAFTGCIWGAHKQLCEIYDPQCWSHINITIPPTCKSPCKLMRWNNDGIKNMCPWLIWLGGKGTADINMMYKAYWCRQVQSYKLKMQAQEYCASTFDRAITSPRPGAIIFPVGLCAMTEGMWLSEVLLLTGWLRHRCIRIYGHKQRFETLCRSVNFISPMEVVPVVVIFGLAWTWYYYNNLWMNSPQWYWETHMYWTANGSRGWSWYIGEMNWLSINYQPTCTFPYHSFVYQVATTTPHGMPWGLQHNIVYRVQIQTSNHPVGPFQNDPWWTAAFDGPNCQCCETGTEFGPCTAFYQSIRMKYGGFACLWTIHVFPLPSAILHGFFFKCKIVEHWTPMNWWDKTLTSSACKFINRSWHGRDQPKEYKAGIETHVKWSNYELLCCFVFYYYNRKTWCFNIWWNWHVEFESKYYEKYFYMGEENGWVMDNSNSQGFHQQETWVFKFPSAQEDDERKPLTSDTRMDLDDSGMAQTREMAVAQNLIGDIHDDVLFTVHRRFHFGGWQIPENNRQLQWQCAETAEIPKTAQDRRRTIAMCKQMIPWMNAGYYWKTPFCPECEWNDNCCSSHFPKPGWSHGWWGLLAECMCCGRAINMTKGDHAMAMFLEWWQ'\n",
    "\n",
    "alScore, LCS, a,b,_ = globalAlignment(x,y)\n",
    "\n",
    "print(alScore)\n",
    "print(a)\n",
    "print(b)\n"
   ]
  },
  {
   "cell_type": "code",
   "execution_count": null,
   "metadata": {},
   "outputs": [],
   "source": []
  },
  {
   "cell_type": "code",
   "execution_count": 148,
   "metadata": {
    "ExecuteTime": {
     "end_time": "2020-10-02T04:27:29.080754Z",
     "start_time": "2020-10-02T04:27:29.066790Z"
    }
   },
   "outputs": [
    {
     "data": {
      "text/plain": [
       "('CCATCTCTACTGTG',\n",
       " array([[ 0,  0,  0,  0,  0,  0,  0,  0,  0,  0,  0,  0,  0,  0,  0,  0,\n",
       "          0,  0,  0,  0,  0],\n",
       "        [ 0,  0,  1,  1,  1,  1,  1,  1,  1,  1,  1,  1,  1,  1,  1,  1,\n",
       "          1,  1,  1,  1,  1],\n",
       "        [ 0,  0,  1,  2,  2,  2,  2,  2,  2,  2,  2,  2,  2,  2,  2,  2,\n",
       "          2,  2,  2,  2,  2],\n",
       "        [ 0,  0,  1,  2,  3,  3,  3,  3,  3,  3,  3,  3,  3,  3,  3,  3,\n",
       "          3,  3,  3,  3,  3],\n",
       "        [ 0,  0,  1,  2,  3,  3,  3,  3,  3,  3,  3,  3,  3,  3,  3,  4,\n",
       "          4,  4,  4,  4,  4],\n",
       "        [ 0,  0,  1,  2,  3,  3,  4,  4,  4,  4,  4,  4,  4,  4,  4,  4,\n",
       "          4,  5,  5,  5,  5],\n",
       "        [ 0,  0,  1,  2,  3,  4,  4,  5,  5,  5,  5,  5,  5,  5,  5,  5,\n",
       "          5,  5,  5,  5,  5],\n",
       "        [ 0,  0,  1,  2,  3,  4,  5,  5,  6,  6,  6,  6,  6,  6,  6,  6,\n",
       "          6,  6,  6,  6,  6],\n",
       "        [ 0,  0,  1,  2,  3,  4,  5,  5,  6,  6,  6,  6,  6,  6,  6,  7,\n",
       "          7,  7,  7,  7,  7],\n",
       "        [ 0,  0,  1,  2,  3,  4,  5,  6,  6,  7,  7,  7,  7,  7,  7,  7,\n",
       "          8,  8,  8,  8,  8],\n",
       "        [ 0,  0,  1,  2,  3,  4,  5,  6,  7,  7,  7,  7,  8,  8,  8,  8,\n",
       "          8,  9,  9,  9,  9],\n",
       "        [ 0,  0,  1,  2,  3,  4,  5,  6,  7,  7,  7,  7,  8,  8,  8,  9,\n",
       "          9,  9,  9,  9,  9],\n",
       "        [ 0,  0,  1,  2,  3,  4,  5,  6,  7,  8,  8,  8,  8,  8,  8,  9,\n",
       "         10, 10, 10, 10, 10],\n",
       "        [ 0,  0,  1,  2,  3,  4,  5,  6,  7,  8,  8,  8,  9,  9,  9,  9,\n",
       "         10, 11, 11, 11, 11],\n",
       "        [ 0,  1,  1,  2,  3,  4,  5,  6,  7,  8,  9,  9,  9, 10, 10, 10,\n",
       "         10, 11, 12, 12, 12],\n",
       "        [ 0,  1,  2,  2,  3,  4,  5,  6,  7,  8,  9, 10, 10, 10, 10, 10,\n",
       "         11, 11, 12, 12, 12],\n",
       "        [ 0,  1,  2,  2,  3,  4,  5,  6,  7,  8,  9, 10, 11, 11, 11, 11,\n",
       "         11, 12, 12, 13, 13],\n",
       "        [ 0,  1,  2,  2,  3,  4,  5,  6,  7,  8,  9, 10, 11, 11, 12, 12,\n",
       "         12, 12, 12, 13, 13],\n",
       "        [ 0,  1,  2,  2,  3,  4,  5,  6,  7,  8,  9, 10, 11, 12, 12, 12,\n",
       "         12, 12, 13, 13, 14],\n",
       "        [ 0,  1,  2,  3,  3,  4,  5,  6,  7,  8,  9, 10, 11, 12, 12, 12,\n",
       "         13, 13, 13, 13, 14],\n",
       "        [ 0,  1,  2,  3,  4,  4,  5,  6,  7,  8,  9, 10, 11, 12, 12, 13,\n",
       "         13, 13, 13, 13, 14]]))"
      ]
     },
     "execution_count": 148,
     "metadata": {},
     "output_type": "execute_result"
    }
   ],
   "source": [
    "x=\"CCAATCTACTACTGCTTGCA\"\n",
    "y=\"GCCACTCTCGCTGTACTGTG\"\n",
    "lcsq(x,y,indel=0)"
   ]
  },
  {
   "cell_type": "code",
   "execution_count": 147,
   "metadata": {
    "ExecuteTime": {
     "end_time": "2020-10-02T04:27:27.170759Z",
     "start_time": "2020-10-02T04:27:27.154957Z"
    }
   },
   "outputs": [],
   "source": [
    "def lcsq(x, y,indel=-5):\n",
    "    m = len(x)\n",
    "    n = len(y)\n",
    "    table = np.zeros((m+1, n+1), dtype=int)\n",
    "    for i in range(1, m+1):\n",
    "        for j in range(1, n+1):\n",
    "            if x[i-1] == y[j-1]:\n",
    "                table[i, j] = table[i-1, j-1] + scorematch(x[i-1],y[j-1])\n",
    "            else:\n",
    "                table[i, j] = max(table[i, j-1] + indel, table[i-1, j] + indel)\n",
    "    \n",
    "    i, j = m, n\n",
    "    w = ''\n",
    "    while (i > 0) and (j > 0):\n",
    "        if x[i-1] == y[j-1]:\n",
    "            w = x[i-1] + w\n",
    "            i -= 1\n",
    "            j -= 1\n",
    "        else:\n",
    "            if table[i, j-1] > table[i-1, j]:\n",
    "                j -= 1\n",
    "            else:\n",
    "                i -= 1\n",
    "    return w,table"
   ]
  },
  {
   "cell_type": "code",
   "execution_count": 226,
   "metadata": {
    "ExecuteTime": {
     "end_time": "2020-09-29T18:38:21.941562Z",
     "start_time": "2020-09-29T18:38:21.927350Z"
    },
    "cell_style": "split"
   },
   "outputs": [
    {
     "data": {
      "text/plain": [
       "('EANLY',\n",
       " array([[  0,   0,   0,   0,   0,   0,   0],\n",
       "        [  0,  -5,  -5,  -5,  -5,  -5,  -5],\n",
       "        [  0,  -5, -10, -10, -10,  -1,  -6],\n",
       "        [  0,  -5,   0,  -5, -10,  -6, -11],\n",
       "        [  0,  -5,  -5,   4,  -1,  -6, -11],\n",
       "        [  0,  -5, -10,  -1,  -6, -11, -16],\n",
       "        [  0,  -5, -10,  -6, -11, -16, -21],\n",
       "        [  0,  -5, -10, -11,   0,  -5, -10],\n",
       "        [  0,  -5, -10, -15,  -5, -10, -15],\n",
       "        [  0,  -5, -10, -15, -10,  -1,  -6],\n",
       "        [  0,  -5, -10, -15, -15,  -6,   6]]))"
      ]
     },
     "execution_count": 226,
     "metadata": {},
     "output_type": "execute_result"
    }
   ],
   "source": [
    "x='PLEASANTLY'\n",
    "y='MEANLY'\n",
    "lcsq(x, y)"
   ]
  },
  {
   "cell_type": "code",
   "execution_count": 167,
   "metadata": {
    "ExecuteTime": {
     "end_time": "2020-09-29T17:37:35.569307Z",
     "start_time": "2020-09-29T17:37:26.732585Z"
    },
    "cell_style": "split"
   },
   "outputs": [
    {
     "data": {
      "text/plain": [
       "('ILPRQMCFFWDWVPLQMQVFLVTVKTDCHRKYLGLPTMTAGDWHIKKNPHWFQGRLTAWLHSTFLYKYCVCHCDWDQIHTCAIAFLDLYRHPMCDKLYCHFHHSWFCRNQEMMDWNQWFWDSVPRNCALYAGIWMTDHACTVRLIYEAWYCYSNMCGNVCLRCKSWIFVKYMAPVVNIEAYKRCCILGGICPVERKSHEIYAKDLLSFESCCSQKQNCYTDNWGLEYRLFFQIQMTDPHCQTWFPPKEFYMWLQADQNHGHANTSGNWDSVYTPEKAVPVVPVWYPPQYKLTYECRFHVEGTFGCNRWDGRRFQCPYDTMIYVDQWRSIKEGQMSGYPNHGWVHDDHTNECNQPVLAKFVRSKVICKKSQTVFHAAQTNVCERMLNNQNVTFWWMVPNCLSCHNKMWPTHFMRLKCMHEYLDPDFCRNMQYMHSMRAILEYQARRRALCAQYDQEIILWSGGYDSLQVVSGCSYYADCEKCMFA',\n",
       " array([[  0,   0,   0, ...,   0,   0,   0],\n",
       "        [  0,   4,  -1, ...,  -5,  -5,  -5],\n",
       "        [  0,  -1,   8, ..., -10, -10, -10],\n",
       "        ...,\n",
       "        [  0,  -5, -10, ..., 293, 288, 283],\n",
       "        [  0,  -5, -10, ..., 288, 299, 294],\n",
       "        [  0,  -5, -10, ..., 283, 294, 303]]))"
      ]
     },
     "execution_count": 167,
     "metadata": {},
     "output_type": "execute_result"
    }
   ],
   "source": [
    "x='ILYPRQSMICMSFCFWDMWKKDVPVVLMMFLERRQMQSVFSWLVTVKTDCGKGIYNHRKYLGLPTMTAGDWHWIKKQNDPHEWFQGRLETAWLHSTFLYWKYFECDAVKVCMDTFGLFGHCDWDQQIHTCTHENEPAIAFLDLYCRHSPMCDKLYPVWDMACQTCHFHHSWFCRNQEMWMKGDVDDWQWGYHYHTINSAQCNQWFKEICKDMGWDSVFPPRHNCQRHKKCMPALYAGIWMATDHACTFMVRLIYTENIAEWHQVYCYRSMNMFTCGNVCLRCKSWIFVKNYMMAPVVNDPMIEAFYKRCCILGKAWYDMWGICPVERKSHWEIYAKDLLSFESCCSQKKQNCYTDNWGLEYRLFFQSIQMNTDPHYCQTHVCWISAMFPIYSPFYTSGPKEFYMWLQARIDQNMHGHANHYVTSGNWDSVYTPEKRAGVFPVVVPVWYPPQMCNDYIKLTYECERFHVEGTFGCNRWDLGCRRYIIFQCPYCDTMKICYVDQWRSIKEGQFRMSGYPNHGYWFVHDDHTNEWCNQPVLAKFVRSKIVAICKKSQTVFHYAYTPGYNATWPQTNVCERMYGPHDNLLNNQQNVTFWWKMVPNCGMQILISCHNKMKWPTSHYVFMRLKCMHVLMQMEYLDHFTGPGEGDFCRNMQPYMHQDLHWEGSMRAILEYQAEHHRRAFRAELCAQYDQEIILWSGGWGVQDCGFHANYDGSLQVVSGEPCSMWCTTVMQYYADCWEKCMFA'\n",
    "y='ILIPRQQMGCFPFPWHFDFCFWSAHHSLVVPLNPQMQTVFQNRGLDRVTVKTDCHDHRWKWIYNLGLPTMTAGDWHFIKKHVVRANNPHQWFQGRLTTAWLHSTFLYKKTEYCLVRHSNCCHCDWDQIIHTCAFIAFLDLYQRHWPMCDKLYCHFHHSWFCRNQEMSMDWNQWFPWDSVPRANCLEEGALIALYAGIWANSMKRDMKTDHACTVRLIYVCELHAWLKYCYTSINMLCGNVCLRCKSWIFVKLFYMYAPVVNTIEANSPHYYKRCCILGQGICPVERKSHCEIYAKDLLSFESCCSQKQNCYTDNWGLEYRLFFQHIQMECTDPHANRGWTSCQTAKYWHFNLDDRPPKEFYMWLQATPTDLCMYQHCLMFKIVKQNFRKQHGHANPAASTSGNWDSVYTPEKMAYKDWYVSHPPVDMRRNGSKMVPVWYPPGIWHWKQSYKLTYECFFTVPGRFHVEGTFGCNRWDHQPGTRRDRQANHQFQCPYSDTMAIWEHAYTYVDQWRSIKEGQMPMSGYPNHGQWNVHDDHTNEQERSPICNQPVLAKFVRSKNVSNHEICKKSQTVFHWACEAQTNVCERMLNNQHVAVKRNVTFWWQMVPNCLWSCHNKMTWPTRPEQHRLFFVKMRLKCMHEYLDVAPSDFCRNMQAYMHSMRAILEYQADFDLKRRLRAIAPMDLCAQYDQEIILWSGGYIYDQSLQVVSCEGCSYYADCYVKCINVKEKCMFA'\n",
    "lcsq(x, y)"
   ]
  },
  {
   "cell_type": "code",
   "execution_count": 176,
   "metadata": {
    "ExecuteTime": {
     "end_time": "2020-09-29T18:17:27.425213Z",
     "start_time": "2020-09-29T18:17:19.600101Z"
    }
   },
   "outputs": [
    {
     "name": "stdout",
     "output_type": "stream",
     "text": [
      "CPU times: user 14 µs, sys: 28 µs, total: 42 µs\n",
      "Wall time: 2.96 ms\n"
     ]
    },
    {
     "data": {
      "text/plain": [
       "('ILPRQMCFFWDWVPLQMQVFLVTVKTDCHRKYLGLPTMTAGDWHIKKNPHWFQGRLTAWLHSTFLYKYCVCHCDWDQIHTCAIAFLDLYRHPMCDKLYCHFHHSWFCRNQEMMDWNQWFWDSVPRNCALYAGIWMTDHACTVRLIYEAWYCYSNMCGNVCLRCKSWIFVKYMAPVVNIEAYKRCCILGGICPVERKSHEIYAKDLLSFESCCSQKQNCYTDNWGLEYRLFFQIQMTDPHCQTWFPPKEFYMWLQADQNHGHANTSGNWDSVYTPEKAVPVVPVWYPPQYKLTYECRFHVEGTFGCNRWDGRRFQCPYDTMIYVDQWRSIKEGQMSGYPNHGWVHDDHTNECNQPVLAKFVRSKVICKKSQTVFHAAQTNVCERMLNNQNVTFWWMVPNCLSCHNKMWPTHFMRLKCMHEYLDPDFCRNMQYMHSMRAILEYQARRRALCAQYDQEIILWSGGYDSLQVVSGCSYYADCEKCMFA',\n",
       " array([[  0,   0,   0, ...,   0,   0,   0],\n",
       "        [  0,   4,  -1, ...,  -5,  -5,  -5],\n",
       "        [  0,  -1,   8, ..., -10, -10, -10],\n",
       "        ...,\n",
       "        [  0,  -5, -10, ..., 293, 288, 283],\n",
       "        [  0,  -5, -10, ..., 288, 299, 294],\n",
       "        [  0,  -5, -10, ..., 283, 294, 303]]))"
      ]
     },
     "execution_count": 176,
     "metadata": {},
     "output_type": "execute_result"
    }
   ],
   "source": [
    "%time \n",
    "x='ILYPRQSMICMSFCFWDMWKKDVPVVLMMFLERRQMQSVFSWLVTVKTDCGKGIYNHRKYLGLPTMTAGDWHWIKKQNDPHEWFQGRLETAWLHSTFLYWKYFECDAVKVCMDTFGLFGHCDWDQQIHTCTHENEPAIAFLDLYCRHSPMCDKLYPVWDMACQTCHFHHSWFCRNQEMWMKGDVDDWQWGYHYHTINSAQCNQWFKEICKDMGWDSVFPPRHNCQRHKKCMPALYAGIWMATDHACTFMVRLIYTENIAEWHQVYCYRSMNMFTCGNVCLRCKSWIFVKNYMMAPVVNDPMIEAFYKRCCILGKAWYDMWGICPVERKSHWEIYAKDLLSFESCCSQKKQNCYTDNWGLEYRLFFQSIQMNTDPHYCQTHVCWISAMFPIYSPFYTSGPKEFYMWLQARIDQNMHGHANHYVTSGNWDSVYTPEKRAGVFPVVVPVWYPPQMCNDYIKLTYECERFHVEGTFGCNRWDLGCRRYIIFQCPYCDTMKICYVDQWRSIKEGQFRMSGYPNHGYWFVHDDHTNEWCNQPVLAKFVRSKIVAICKKSQTVFHYAYTPGYNATWPQTNVCERMYGPHDNLLNNQQNVTFWWKMVPNCGMQILISCHNKMKWPTSHYVFMRLKCMHVLMQMEYLDHFTGPGEGDFCRNMQPYMHQDLHWEGSMRAILEYQAEHHRRAFRAELCAQYDQEIILWSGGWGVQDCGFHANYDGSLQVVSGEPCSMWCTTVMQYYADCWEKCMFA'\n",
    "y='ILIPRQQMGCFPFPWHFDFCFWSAHHSLVVPLNPQMQTVFQNRGLDRVTVKTDCHDHRWKWIYNLGLPTMTAGDWHFIKKHVVRANNPHQWFQGRLTTAWLHSTFLYKKTEYCLVRHSNCCHCDWDQIIHTCAFIAFLDLYQRHWPMCDKLYCHFHHSWFCRNQEMSMDWNQWFPWDSVPRANCLEEGALIALYAGIWANSMKRDMKTDHACTVRLIYVCELHAWLKYCYTSINMLCGNVCLRCKSWIFVKLFYMYAPVVNTIEANSPHYYKRCCILGQGICPVERKSHCEIYAKDLLSFESCCSQKQNCYTDNWGLEYRLFFQHIQMECTDPHANRGWTSCQTAKYWHFNLDDRPPKEFYMWLQATPTDLCMYQHCLMFKIVKQNFRKQHGHANPAASTSGNWDSVYTPEKMAYKDWYVSHPPVDMRRNGSKMVPVWYPPGIWHWKQSYKLTYECFFTVPGRFHVEGTFGCNRWDHQPGTRRDRQANHQFQCPYSDTMAIWEHAYTYVDQWRSIKEGQMPMSGYPNHGQWNVHDDHTNEQERSPICNQPVLAKFVRSKNVSNHEICKKSQTVFHWACEAQTNVCERMLNNQHVAVKRNVTFWWQMVPNCLWSCHNKMTWPTRPEQHRLFFVKMRLKCMHEYLDVAPSDFCRNMQAYMHSMRAILEYQADFDLKRRLRAIAPMDLCAQYDQEIILWSGGYIYDQSLQVVSCEGCSYYADCYVKCINVKEKCMFA'\n",
    "lcsq(x, y)"
   ]
  },
  {
   "cell_type": "code",
   "execution_count": null,
   "metadata": {},
   "outputs": [],
   "source": [
    "m = len(x)\n",
    "n = len(y)\n",
    "table = np.zeros((m+2, n+2), dtype=int)\n",
    "for i in range(1, m+1):\n",
    "    for j in range(1, n+1):\n",
    "        if x[i-1] == y[j-1]:\n",
    "            table[i, j] = table[i-1, j-1] + scorematch(x[i-1],y[j-1])\n",
    "        else:\n",
    "            table[i, j] = max(table[i, j-1] + indel, table[i-1, j] + indel)"
   ]
  },
  {
   "cell_type": "code",
   "execution_count": 228,
   "metadata": {
    "ExecuteTime": {
     "end_time": "2020-09-29T18:38:37.298635Z",
     "start_time": "2020-09-29T18:38:37.277881Z"
    }
   },
   "outputs": [
    {
     "data": {
      "text/plain": [
       "array([[  0,  -5, -10, -15, -20, -25, -30],\n",
       "       [ -5,   0,   0,   0,   0,   0,   0],\n",
       "       [-10,   0,   0,   0,   0,   0,   0],\n",
       "       [-15,   0,   0,   0,   0,   0,   0],\n",
       "       [-20,   0,   0,   0,   0,   0,   0],\n",
       "       [-25,   0,   0,   0,   0,   0,   0],\n",
       "       [-30,   0,   0,   0,   0,   0,   0],\n",
       "       [-35,   0,   0,   0,   0,   0,   0],\n",
       "       [-40,   0,   0,   0,   0,   0,   0],\n",
       "       [-45,   0,   0,   0,   0,   0,   0],\n",
       "       [-50,   0,   0,   0,   0,   0,   0]])"
      ]
     },
     "execution_count": 228,
     "metadata": {},
     "output_type": "execute_result"
    }
   ],
   "source": [
    "\n",
    "table = np.zeros((m+1, n+1), dtype=int)\n",
    "for _ in range(1,table.shape[1]):\n",
    "    table[0][_] = table[0][_-1] + indel\n",
    "\n",
    "for _ in range(1,table.shape[0]):\n",
    "    table[_][0] = table[_-1][0] + indel\n",
    "table"
   ]
  },
  {
   "cell_type": "code",
   "execution_count": 232,
   "metadata": {
    "ExecuteTime": {
     "end_time": "2020-09-29T18:40:55.774229Z",
     "start_time": "2020-09-29T18:40:55.711948Z"
    }
   },
   "outputs": [
    {
     "data": {
      "text/plain": [
       "array([[  0,  -5, -10, -15, -20, -25, -30],\n",
       "       [ -5,  -2,  -6, -11, -16, -21, -26],\n",
       "       [-10,  -3,  -5,  -7, -12, -12, -17],\n",
       "       [-15,  -8,   2,  -3,  -7, -12, -14],\n",
       "       [-20, -13,  -3,   6,   1,  -4,  -9],\n",
       "       [-25, -18,  -8,   1,   7,   2,  -3],\n",
       "       [-30, -23, -13,  -4,   2,   6,   1],\n",
       "       [-35, -28, -18,  -9,   2,   1,   4],\n",
       "       [-40, -33, -23, -14,  -3,   1,  -1],\n",
       "       [-45, -38, -28, -19,  -8,   1,   0],\n",
       "       [-50, -43, -33, -24, -13,  -4,   8]])"
      ]
     },
     "execution_count": 232,
     "metadata": {},
     "output_type": "execute_result"
    }
   ],
   "source": [
    "\n",
    "for i in range(1, m+1):\n",
    "    for j in range(1, n+1):\n",
    "        if x[i-1] == y[j-1]:\n",
    "            table[i, j] = table[i-1, j-1] + scorematch(x[i-1],y[j-1])\n",
    "        else:\n",
    "            table[i, j] = max(table[i, j-1] + indel,\n",
    "                              table[i-1, j] + indel,\n",
    "                              table[i-1, j-1] + scorematch(x[i-1],y[j-1]))\n",
    "table"
   ]
  },
  {
   "cell_type": "code",
   "execution_count": 237,
   "metadata": {
    "ExecuteTime": {
     "end_time": "2020-09-29T18:56:17.497163Z",
     "start_time": "2020-09-29T18:56:17.481284Z"
    }
   },
   "outputs": [
    {
     "data": {
      "text/plain": [
       "(11, 7)"
      ]
     },
     "execution_count": 237,
     "metadata": {},
     "output_type": "execute_result"
    }
   ],
   "source": [
    "i = table.shape[0]\n",
    "j = table.shape[1]\n",
    "(i,j)"
   ]
  },
  {
   "cell_type": "code",
   "execution_count": 258,
   "metadata": {
    "ExecuteTime": {
     "end_time": "2020-09-29T20:45:22.036734Z",
     "start_time": "2020-09-29T20:45:22.000323Z"
    },
    "cell_style": "split"
   },
   "outputs": [],
   "source": [
    "def globAlign(x,y):\n",
    "    m = len(x)\n",
    "    n = len(y)\n",
    "    table = np.zeros((m+2, n+2), dtype=int)\n",
    "    for i in range(1, m+1):\n",
    "        for j in range(1, n+1):\n",
    "            if x[i-1] == y[j-1]:\n",
    "                table[i, j] = table[i-1, j-1] + scorematch(x[i-1],y[j-1])\n",
    "            else:\n",
    "                table[i, j] = max(table[i, j-1] + indel, table[i-1, j] + indel)\n",
    "    table = np.zeros((m+1, n+1), dtype=int)\n",
    "    for _ in range(1,table.shape[1]):\n",
    "        table[0][_] = table[0][_-1] + indel\n",
    "\n",
    "    for _ in range(1,table.shape[0]):\n",
    "        table[_][0] = table[_-1][0] + indel\n",
    "    table\n",
    "    for i in range(1, m+1):\n",
    "        for j in range(1, n+1):\n",
    "            if x[i-1] == y[j-1]:\n",
    "                table[i, j] = table[i-1, j-1] + scorematch(x[i-1],y[j-1])\n",
    "            else:\n",
    "                table[i, j] = max(table[i, j-1] + indel,\n",
    "                                  table[i-1, j] + indel,\n",
    "                                  table[i-1, j-1] + scorematch(x[i-1],y[j-1]))\n",
    "\n",
    "    i = table.shape[0] - 1\n",
    "    j = table.shape[1] - 1\n",
    "\n",
    "    a = ''\n",
    "    b = ''\n",
    "    lcs = ''\n",
    "    while (j>0 or i>0):\n",
    "        if x[i-1] == y[j-1]:\n",
    "            #print(x[i-1],y[j-1],Fmatrix[i,j])\n",
    "            lcs += x[i-1]\n",
    "            j -=1\n",
    "            i -=1\n",
    "            a +=x[i]\n",
    "            b +=y[j]\n",
    "            paths.append([(np.inf),(x[i],y[j]) ])\n",
    "        else:\n",
    "            diag = Fmatrix[i-1,j-1] + scorematch(x[i-1],y[j-1])\n",
    "            left = Fmatrix[i-1,j] + indel\n",
    "            up = Fmatrix[i,j-1] + indel\n",
    "            maxCell = np.argmax([diag,left,up])\n",
    "            if maxCell == 0:\n",
    "                j -=1\n",
    "                i -=1\n",
    "                a +=x[i]\n",
    "                b +=y[j]\n",
    "            else:\n",
    "                if maxCell == 1:\n",
    "                    i -= 1\n",
    "                    a += x[i]\n",
    "                    b += '-'\n",
    "                else:\n",
    "                    j -= 1\n",
    "                    a += '-'\n",
    "                    b += y[j]\n",
    "    #####\n",
    "    maxScore = table[table.shape[0] - 1,table.shape[1] - 1]                \n",
    "    return lcs, b[::-1], a[::-1], maxScore, table"
   ]
  },
  {
   "cell_type": "code",
   "execution_count": 264,
   "metadata": {
    "ExecuteTime": {
     "end_time": "2020-09-29T20:49:02.472028Z",
     "start_time": "2020-09-29T20:49:02.417980Z"
    },
    "cell_style": "split"
   },
   "outputs": [],
   "source": [
    "def globAlign2(x,y):\n",
    "    m = len(x)\n",
    "    n = len(y)\n",
    "    table = np.zeros((m+2, n+2), dtype=int)\n",
    "    for i in range(1, m+1):\n",
    "        for j in range(1, n+1):\n",
    "            if x[i-1] == y[j-1]:\n",
    "                table[i, j] = table[i-1, j-1] + scorematch(x[i-1],y[j-1])\n",
    "            else:\n",
    "                table[i, j] = max(table[i, j-1] + indel, table[i-1, j] + indel)\n",
    "    table = np.zeros((m+1, n+1), dtype=int)\n",
    "#     for _ in range(1,table.shape[1]):\n",
    "#         table[0][_] = table[0][_-1] + indel\n",
    "\n",
    "#     for _ in range(1,table.shape[0]):\n",
    "#         table[_][0] = table[_-1][0] + indel\n",
    "    table\n",
    "    for i in range(1, m+1):\n",
    "        for j in range(1, n+1):\n",
    "            if x[i-1] == y[j-1]:\n",
    "                table[i, j] = table[i-1, j-1] + scorematch(x[i-1],y[j-1])\n",
    "            else:\n",
    "                table[i, j] = max(table[i, j-1] + indel,\n",
    "                                  table[i-1, j] + indel,\n",
    "                                  table[i-1, j-1] + scorematch(x[i-1],y[j-1]))\n",
    "\n",
    "    i = table.shape[0] - 1\n",
    "    j = table.shape[1] - 1\n",
    "\n",
    "    a = ''\n",
    "    b = ''\n",
    "    lcs = ''\n",
    "    while (j>0 or i>0):\n",
    "        if x[i-1] == y[j-1]:\n",
    "            #print(x[i-1],y[j-1],Fmatrix[i,j])\n",
    "            lcs += x[i-1]\n",
    "            j -=1\n",
    "            i -=1\n",
    "            a +=x[i]\n",
    "            b +=y[j]\n",
    "            paths.append([(np.inf),(x[i],y[j]) ])\n",
    "        else:\n",
    "            diag = Fmatrix[i-1,j-1] + scorematch(x[i-1],y[j-1])\n",
    "            left = Fmatrix[i-1,j] + indel\n",
    "            up = Fmatrix[i,j-1] + indel\n",
    "            maxCell = np.argmax([diag,left,up])\n",
    "            if maxCell == 0:\n",
    "                j -=1\n",
    "                i -=1\n",
    "                a +=x[i]\n",
    "                b +=y[j]\n",
    "            else:\n",
    "                if maxCell == 1:\n",
    "                    i -= 1\n",
    "                    a += x[i]\n",
    "                    b += '-'\n",
    "                else:\n",
    "                    j -= 1\n",
    "                    a += '-'\n",
    "                    b += y[j]\n",
    "    #####\n",
    "    maxScore = table[table.shape[0] - 1,table.shape[1] - 1]                \n",
    "    return lcs, b[::-1], a[::-1], maxScore, table"
   ]
  },
  {
   "cell_type": "code",
   "execution_count": 262,
   "metadata": {
    "ExecuteTime": {
     "end_time": "2020-09-29T20:45:38.623881Z",
     "start_time": "2020-09-29T20:45:38.578236Z"
    }
   },
   "outputs": [
    {
     "name": "stdout",
     "output_type": "stream",
     "text": [
      "CPU times: user 5 µs, sys: 1e+03 ns, total: 6 µs\n",
      "Wall time: 11.7 µs\n",
      "8\n",
      "PLEASANTLY\n",
      "-ME--AN-LY\n"
     ]
    }
   ],
   "source": [
    "%time\n",
    "lcs, b, a, maxScore, table = globAlign(x,y)\n",
    "print(maxScore)\n",
    "print(a)\n",
    "print(b)"
   ]
  },
  {
   "cell_type": "code",
   "execution_count": 263,
   "metadata": {
    "ExecuteTime": {
     "end_time": "2020-09-29T20:48:10.948358Z",
     "start_time": "2020-09-29T20:45:57.704471Z"
    }
   },
   "outputs": [
    {
     "name": "stdout",
     "output_type": "stream",
     "text": [
      "CPU times: user 3 µs, sys: 1e+03 ns, total: 4 µs\n",
      "Wall time: 5.96 µs\n"
     ]
    },
    {
     "ename": "IndexError",
     "evalue": "index 738 is out of bounds for axis 0 with size 11",
     "output_type": "error",
     "traceback": [
      "\u001b[0;31m---------------------------------------------------------------------------\u001b[0m",
      "\u001b[0;31mIndexError\u001b[0m                                Traceback (most recent call last)",
      "\u001b[0;32m<ipython-input-263-daa8b2e2887c>\u001b[0m in \u001b[0;36m<module>\u001b[0;34m\u001b[0m\n\u001b[1;32m      2\u001b[0m \u001b[0mx\u001b[0m\u001b[0;34m=\u001b[0m\u001b[0;34m'ILYPRQSMICMSFCFWDMWKKDVPVVLMMFLERRQMQSVFSWLVTVKTDCGKGIYNHRKYLGLPTMTAGDWHWIKKQNDPHEWFQGRLETAWLHSTFLYWKYFECDAVKVCMDTFGLFGHCDWDQQIHTCTHENEPAIAFLDLYCRHSPMCDKLYPVWDMACQTCHFHHSWFCRNQEMWMKGDVDDWQWGYHYHTINSAQCNQWFKEICKDMGWDSVFPPRHNCQRHKKCMPALYAGIWMATDHACTFMVRLIYTENIAEWHQVYCYRSMNMFTCGNVCLRCKSWIFVKNYMMAPVVNDPMIEAFYKRCCILGKAWYDMWGICPVERKSHWEIYAKDLLSFESCCSQKKQNCYTDNWGLEYRLFFQSIQMNTDPHYCQTHVCWISAMFPIYSPFYTSGPKEFYMWLQARIDQNMHGHANHYVTSGNWDSVYTPEKRAGVFPVVVPVWYPPQMCNDYIKLTYECERFHVEGTFGCNRWDLGCRRYIIFQCPYCDTMKICYVDQWRSIKEGQFRMSGYPNHGYWFVHDDHTNEWCNQPVLAKFVRSKIVAICKKSQTVFHYAYTPGYNATWPQTNVCERMYGPHDNLLNNQQNVTFWWKMVPNCGMQILISCHNKMKWPTSHYVFMRLKCMHVLMQMEYLDHFTGPGEGDFCRNMQPYMHQDLHWEGSMRAILEYQAEHHRRAFRAELCAQYDQEIILWSGGWGVQDCGFHANYDGSLQVVSGEPCSMWCTTVMQYYADCWEKCMFA'\u001b[0m\u001b[0;34m\u001b[0m\u001b[0;34m\u001b[0m\u001b[0m\n\u001b[1;32m      3\u001b[0m \u001b[0my\u001b[0m\u001b[0;34m=\u001b[0m\u001b[0;34m'ILIPRQQMGCFPFPWHFDFCFWSAHHSLVVPLNPQMQTVFQNRGLDRVTVKTDCHDHRWKWIYNLGLPTMTAGDWHFIKKHVVRANNPHQWFQGRLTTAWLHSTFLYKKTEYCLVRHSNCCHCDWDQIIHTCAFIAFLDLYQRHWPMCDKLYCHFHHSWFCRNQEMSMDWNQWFPWDSVPRANCLEEGALIALYAGIWANSMKRDMKTDHACTVRLIYVCELHAWLKYCYTSINMLCGNVCLRCKSWIFVKLFYMYAPVVNTIEANSPHYYKRCCILGQGICPVERKSHCEIYAKDLLSFESCCSQKQNCYTDNWGLEYRLFFQHIQMECTDPHANRGWTSCQTAKYWHFNLDDRPPKEFYMWLQATPTDLCMYQHCLMFKIVKQNFRKQHGHANPAASTSGNWDSVYTPEKMAYKDWYVSHPPVDMRRNGSKMVPVWYPPGIWHWKQSYKLTYECFFTVPGRFHVEGTFGCNRWDHQPGTRRDRQANHQFQCPYSDTMAIWEHAYTYVDQWRSIKEGQMPMSGYPNHGQWNVHDDHTNEQERSPICNQPVLAKFVRSKNVSNHEICKKSQTVFHWACEAQTNVCERMLNNQHVAVKRNVTFWWQMVPNCLWSCHNKMTWPTRPEQHRLFFVKMRLKCMHEYLDVAPSDFCRNMQAYMHSMRAILEYQADFDLKRRLRAIAPMDLCAQYDQEIILWSGGYIYDQSLQVVSCEGCSYYADCYVKCINVKEKCMFA'\u001b[0m\u001b[0;34m\u001b[0m\u001b[0;34m\u001b[0m\u001b[0m\n\u001b[0;32m----> 4\u001b[0;31m \u001b[0mlcs\u001b[0m\u001b[0;34m,\u001b[0m \u001b[0mb\u001b[0m\u001b[0;34m,\u001b[0m \u001b[0ma\u001b[0m\u001b[0;34m,\u001b[0m \u001b[0mmaxScore\u001b[0m\u001b[0;34m,\u001b[0m \u001b[0mtable\u001b[0m \u001b[0;34m=\u001b[0m \u001b[0mglobAlign\u001b[0m\u001b[0;34m(\u001b[0m\u001b[0mx\u001b[0m\u001b[0;34m,\u001b[0m\u001b[0my\u001b[0m\u001b[0;34m)\u001b[0m\u001b[0;34m\u001b[0m\u001b[0;34m\u001b[0m\u001b[0m\n\u001b[0m\u001b[1;32m      5\u001b[0m \u001b[0mprint\u001b[0m\u001b[0;34m(\u001b[0m\u001b[0mmaxScore\u001b[0m\u001b[0;34m)\u001b[0m\u001b[0;34m\u001b[0m\u001b[0;34m\u001b[0m\u001b[0m\n\u001b[1;32m      6\u001b[0m \u001b[0mprint\u001b[0m\u001b[0;34m(\u001b[0m\u001b[0ma\u001b[0m\u001b[0;34m)\u001b[0m\u001b[0;34m\u001b[0m\u001b[0;34m\u001b[0m\u001b[0m\n",
      "\u001b[0;32m<ipython-input-258-356f11a45c0c>\u001b[0m in \u001b[0;36mglobAlign\u001b[0;34m(x, y)\u001b[0m\n\u001b[1;32m     41\u001b[0m             \u001b[0mpaths\u001b[0m\u001b[0;34m.\u001b[0m\u001b[0mappend\u001b[0m\u001b[0;34m(\u001b[0m\u001b[0;34m[\u001b[0m\u001b[0;34m(\u001b[0m\u001b[0mnp\u001b[0m\u001b[0;34m.\u001b[0m\u001b[0minf\u001b[0m\u001b[0;34m)\u001b[0m\u001b[0;34m,\u001b[0m\u001b[0;34m(\u001b[0m\u001b[0mx\u001b[0m\u001b[0;34m[\u001b[0m\u001b[0mi\u001b[0m\u001b[0;34m]\u001b[0m\u001b[0;34m,\u001b[0m\u001b[0my\u001b[0m\u001b[0;34m[\u001b[0m\u001b[0mj\u001b[0m\u001b[0;34m]\u001b[0m\u001b[0;34m)\u001b[0m \u001b[0;34m]\u001b[0m\u001b[0;34m)\u001b[0m\u001b[0;34m\u001b[0m\u001b[0;34m\u001b[0m\u001b[0m\n\u001b[1;32m     42\u001b[0m         \u001b[0;32melse\u001b[0m\u001b[0;34m:\u001b[0m\u001b[0;34m\u001b[0m\u001b[0;34m\u001b[0m\u001b[0m\n\u001b[0;32m---> 43\u001b[0;31m             \u001b[0mdiag\u001b[0m \u001b[0;34m=\u001b[0m \u001b[0mFmatrix\u001b[0m\u001b[0;34m[\u001b[0m\u001b[0mi\u001b[0m\u001b[0;34m-\u001b[0m\u001b[0;36m1\u001b[0m\u001b[0;34m,\u001b[0m\u001b[0mj\u001b[0m\u001b[0;34m-\u001b[0m\u001b[0;36m1\u001b[0m\u001b[0;34m]\u001b[0m \u001b[0;34m+\u001b[0m \u001b[0mscorematch\u001b[0m\u001b[0;34m(\u001b[0m\u001b[0mx\u001b[0m\u001b[0;34m[\u001b[0m\u001b[0mi\u001b[0m\u001b[0;34m-\u001b[0m\u001b[0;36m1\u001b[0m\u001b[0;34m]\u001b[0m\u001b[0;34m,\u001b[0m\u001b[0my\u001b[0m\u001b[0;34m[\u001b[0m\u001b[0mj\u001b[0m\u001b[0;34m-\u001b[0m\u001b[0;36m1\u001b[0m\u001b[0;34m]\u001b[0m\u001b[0;34m)\u001b[0m\u001b[0;34m\u001b[0m\u001b[0;34m\u001b[0m\u001b[0m\n\u001b[0m\u001b[1;32m     44\u001b[0m             \u001b[0mleft\u001b[0m \u001b[0;34m=\u001b[0m \u001b[0mFmatrix\u001b[0m\u001b[0;34m[\u001b[0m\u001b[0mi\u001b[0m\u001b[0;34m-\u001b[0m\u001b[0;36m1\u001b[0m\u001b[0;34m,\u001b[0m\u001b[0mj\u001b[0m\u001b[0;34m]\u001b[0m \u001b[0;34m+\u001b[0m \u001b[0mindel\u001b[0m\u001b[0;34m\u001b[0m\u001b[0;34m\u001b[0m\u001b[0m\n\u001b[1;32m     45\u001b[0m             \u001b[0mup\u001b[0m \u001b[0;34m=\u001b[0m \u001b[0mFmatrix\u001b[0m\u001b[0;34m[\u001b[0m\u001b[0mi\u001b[0m\u001b[0;34m,\u001b[0m\u001b[0mj\u001b[0m\u001b[0;34m-\u001b[0m\u001b[0;36m1\u001b[0m\u001b[0;34m]\u001b[0m \u001b[0;34m+\u001b[0m \u001b[0mindel\u001b[0m\u001b[0;34m\u001b[0m\u001b[0;34m\u001b[0m\u001b[0m\n",
      "\u001b[0;31mIndexError\u001b[0m: index 738 is out of bounds for axis 0 with size 11"
     ]
    }
   ],
   "source": [
    "%time\n",
    "x='ILYPRQSMICMSFCFWDMWKKDVPVVLMMFLERRQMQSVFSWLVTVKTDCGKGIYNHRKYLGLPTMTAGDWHWIKKQNDPHEWFQGRLETAWLHSTFLYWKYFECDAVKVCMDTFGLFGHCDWDQQIHTCTHENEPAIAFLDLYCRHSPMCDKLYPVWDMACQTCHFHHSWFCRNQEMWMKGDVDDWQWGYHYHTINSAQCNQWFKEICKDMGWDSVFPPRHNCQRHKKCMPALYAGIWMATDHACTFMVRLIYTENIAEWHQVYCYRSMNMFTCGNVCLRCKSWIFVKNYMMAPVVNDPMIEAFYKRCCILGKAWYDMWGICPVERKSHWEIYAKDLLSFESCCSQKKQNCYTDNWGLEYRLFFQSIQMNTDPHYCQTHVCWISAMFPIYSPFYTSGPKEFYMWLQARIDQNMHGHANHYVTSGNWDSVYTPEKRAGVFPVVVPVWYPPQMCNDYIKLTYECERFHVEGTFGCNRWDLGCRRYIIFQCPYCDTMKICYVDQWRSIKEGQFRMSGYPNHGYWFVHDDHTNEWCNQPVLAKFVRSKIVAICKKSQTVFHYAYTPGYNATWPQTNVCERMYGPHDNLLNNQQNVTFWWKMVPNCGMQILISCHNKMKWPTSHYVFMRLKCMHVLMQMEYLDHFTGPGEGDFCRNMQPYMHQDLHWEGSMRAILEYQAEHHRRAFRAELCAQYDQEIILWSGGWGVQDCGFHANYDGSLQVVSGEPCSMWCTTVMQYYADCWEKCMFA'\n",
    "y='ILIPRQQMGCFPFPWHFDFCFWSAHHSLVVPLNPQMQTVFQNRGLDRVTVKTDCHDHRWKWIYNLGLPTMTAGDWHFIKKHVVRANNPHQWFQGRLTTAWLHSTFLYKKTEYCLVRHSNCCHCDWDQIIHTCAFIAFLDLYQRHWPMCDKLYCHFHHSWFCRNQEMSMDWNQWFPWDSVPRANCLEEGALIALYAGIWANSMKRDMKTDHACTVRLIYVCELHAWLKYCYTSINMLCGNVCLRCKSWIFVKLFYMYAPVVNTIEANSPHYYKRCCILGQGICPVERKSHCEIYAKDLLSFESCCSQKQNCYTDNWGLEYRLFFQHIQMECTDPHANRGWTSCQTAKYWHFNLDDRPPKEFYMWLQATPTDLCMYQHCLMFKIVKQNFRKQHGHANPAASTSGNWDSVYTPEKMAYKDWYVSHPPVDMRRNGSKMVPVWYPPGIWHWKQSYKLTYECFFTVPGRFHVEGTFGCNRWDHQPGTRRDRQANHQFQCPYSDTMAIWEHAYTYVDQWRSIKEGQMPMSGYPNHGQWNVHDDHTNEQERSPICNQPVLAKFVRSKNVSNHEICKKSQTVFHWACEAQTNVCERMLNNQHVAVKRNVTFWWQMVPNCLWSCHNKMTWPTRPEQHRLFFVKMRLKCMHEYLDVAPSDFCRNMQAYMHSMRAILEYQADFDLKRRLRAIAPMDLCAQYDQEIILWSGGYIYDQSLQVVSCEGCSYYADCYVKCINVKEKCMFA'\n",
    "lcs, b, a, maxScore, table = globAlign(x,y)\n",
    "print(maxScore)\n",
    "print(a)\n",
    "print(b)"
   ]
  },
  {
   "cell_type": "code",
   "execution_count": 272,
   "metadata": {
    "ExecuteTime": {
     "end_time": "2020-09-29T20:54:45.319583Z",
     "start_time": "2020-09-29T20:54:45.266155Z"
    }
   },
   "outputs": [
    {
     "name": "stdout",
     "output_type": "stream",
     "text": [
      "CPU times: user 3 µs, sys: 0 ns, total: 3 µs\n",
      "Wall time: 5.96 µs\n"
     ]
    },
    {
     "ename": "IndexError",
     "evalue": "index 7 is out of bounds for axis 1 with size 7",
     "output_type": "error",
     "traceback": [
      "\u001b[0;31m---------------------------------------------------------------------------\u001b[0m",
      "\u001b[0;31mIndexError\u001b[0m                                Traceback (most recent call last)",
      "\u001b[0;32m<ipython-input-272-55f4826c68b6>\u001b[0m in \u001b[0;36m<module>\u001b[0;34m\u001b[0m\n\u001b[1;32m      4\u001b[0m \u001b[0mw\u001b[0m\u001b[0;34m=\u001b[0m\u001b[0;34m'ILYPRQSM'\u001b[0m\u001b[0;34m\u001b[0m\u001b[0;34m\u001b[0m\u001b[0m\n\u001b[1;32m      5\u001b[0m \u001b[0mv\u001b[0m\u001b[0;34m=\u001b[0m\u001b[0;34m'LIPRQQMG'\u001b[0m\u001b[0;34m\u001b[0m\u001b[0;34m\u001b[0m\u001b[0m\n\u001b[0;32m----> 6\u001b[0;31m \u001b[0mlcs\u001b[0m\u001b[0;34m,\u001b[0m \u001b[0mb\u001b[0m\u001b[0;34m,\u001b[0m \u001b[0ma\u001b[0m\u001b[0;34m,\u001b[0m \u001b[0mmaxScore\u001b[0m\u001b[0;34m,\u001b[0m \u001b[0mtable\u001b[0m \u001b[0;34m=\u001b[0m \u001b[0mglobAlign\u001b[0m\u001b[0;34m(\u001b[0m\u001b[0mw\u001b[0m\u001b[0;34m,\u001b[0m\u001b[0mv\u001b[0m\u001b[0;34m)\u001b[0m\u001b[0;34m\u001b[0m\u001b[0;34m\u001b[0m\u001b[0m\n\u001b[0m\u001b[1;32m      7\u001b[0m \u001b[0mprint\u001b[0m\u001b[0;34m(\u001b[0m\u001b[0mmaxScore\u001b[0m\u001b[0;34m)\u001b[0m\u001b[0;34m\u001b[0m\u001b[0;34m\u001b[0m\u001b[0m\n\u001b[1;32m      8\u001b[0m \u001b[0mprint\u001b[0m\u001b[0;34m(\u001b[0m\u001b[0ma\u001b[0m\u001b[0;34m)\u001b[0m\u001b[0;34m\u001b[0m\u001b[0;34m\u001b[0m\u001b[0m\n",
      "\u001b[0;32m<ipython-input-258-356f11a45c0c>\u001b[0m in \u001b[0;36mglobAlign\u001b[0;34m(x, y)\u001b[0m\n\u001b[1;32m     41\u001b[0m             \u001b[0mpaths\u001b[0m\u001b[0;34m.\u001b[0m\u001b[0mappend\u001b[0m\u001b[0;34m(\u001b[0m\u001b[0;34m[\u001b[0m\u001b[0;34m(\u001b[0m\u001b[0mnp\u001b[0m\u001b[0;34m.\u001b[0m\u001b[0minf\u001b[0m\u001b[0;34m)\u001b[0m\u001b[0;34m,\u001b[0m\u001b[0;34m(\u001b[0m\u001b[0mx\u001b[0m\u001b[0;34m[\u001b[0m\u001b[0mi\u001b[0m\u001b[0;34m]\u001b[0m\u001b[0;34m,\u001b[0m\u001b[0my\u001b[0m\u001b[0;34m[\u001b[0m\u001b[0mj\u001b[0m\u001b[0;34m]\u001b[0m\u001b[0;34m)\u001b[0m \u001b[0;34m]\u001b[0m\u001b[0;34m)\u001b[0m\u001b[0;34m\u001b[0m\u001b[0;34m\u001b[0m\u001b[0m\n\u001b[1;32m     42\u001b[0m         \u001b[0;32melse\u001b[0m\u001b[0;34m:\u001b[0m\u001b[0;34m\u001b[0m\u001b[0;34m\u001b[0m\u001b[0m\n\u001b[0;32m---> 43\u001b[0;31m             \u001b[0mdiag\u001b[0m \u001b[0;34m=\u001b[0m \u001b[0mFmatrix\u001b[0m\u001b[0;34m[\u001b[0m\u001b[0mi\u001b[0m\u001b[0;34m-\u001b[0m\u001b[0;36m1\u001b[0m\u001b[0;34m,\u001b[0m\u001b[0mj\u001b[0m\u001b[0;34m-\u001b[0m\u001b[0;36m1\u001b[0m\u001b[0;34m]\u001b[0m \u001b[0;34m+\u001b[0m \u001b[0mscorematch\u001b[0m\u001b[0;34m(\u001b[0m\u001b[0mx\u001b[0m\u001b[0;34m[\u001b[0m\u001b[0mi\u001b[0m\u001b[0;34m-\u001b[0m\u001b[0;36m1\u001b[0m\u001b[0;34m]\u001b[0m\u001b[0;34m,\u001b[0m\u001b[0my\u001b[0m\u001b[0;34m[\u001b[0m\u001b[0mj\u001b[0m\u001b[0;34m-\u001b[0m\u001b[0;36m1\u001b[0m\u001b[0;34m]\u001b[0m\u001b[0;34m)\u001b[0m\u001b[0;34m\u001b[0m\u001b[0;34m\u001b[0m\u001b[0m\n\u001b[0m\u001b[1;32m     44\u001b[0m             \u001b[0mleft\u001b[0m \u001b[0;34m=\u001b[0m \u001b[0mFmatrix\u001b[0m\u001b[0;34m[\u001b[0m\u001b[0mi\u001b[0m\u001b[0;34m-\u001b[0m\u001b[0;36m1\u001b[0m\u001b[0;34m,\u001b[0m\u001b[0mj\u001b[0m\u001b[0;34m]\u001b[0m \u001b[0;34m+\u001b[0m \u001b[0mindel\u001b[0m\u001b[0;34m\u001b[0m\u001b[0;34m\u001b[0m\u001b[0m\n\u001b[1;32m     45\u001b[0m             \u001b[0mup\u001b[0m \u001b[0;34m=\u001b[0m \u001b[0mFmatrix\u001b[0m\u001b[0;34m[\u001b[0m\u001b[0mi\u001b[0m\u001b[0;34m,\u001b[0m\u001b[0mj\u001b[0m\u001b[0;34m-\u001b[0m\u001b[0;36m1\u001b[0m\u001b[0;34m]\u001b[0m \u001b[0;34m+\u001b[0m \u001b[0mindel\u001b[0m\u001b[0;34m\u001b[0m\u001b[0;34m\u001b[0m\u001b[0m\n",
      "\u001b[0;31mIndexError\u001b[0m: index 7 is out of bounds for axis 1 with size 7"
     ]
    }
   ],
   "source": [
    "%time\n",
    "# x='ILYPRQSMICMSFCFWDMWKKDVPVVLMMFLERRQMQSVFSWLVTVKTDCGKGIYNHRKYLGLPTMTAGDWHWIKKQNDPHEWFQGRLETAWLHSTFLYWKYFECDAVKVCMDTFGLFGHCDWDQQIHTCTHENEPAIAFLDLYCRHSPMCDKLYPVWDMACQTCHFHHSWFCRNQEMWMKGDVDDWQWGYHYHTINSAQCNQWFKEICKDMGWDSVFPPRHNCQRHKKCMPALYAGIWMATDHACTFMVRLIYTENIAEWHQVYCYRSMNMFTCGNVCLRCKSWIFVKNYMMAPVVNDPMIEAFYKRCCILGKAWYDMWGICPVERKSHWEIYAKDLLSFESCCSQKKQNCYTDNWGLEYRLFFQSIQMNTDPHYCQTHVCWISAMFPIYSPFYTSGPKEFYMWLQARIDQNMHGHANHYVTSGNWDSVYTPEKRAGVFPVVVPVWYPPQMCNDYIKLTYECERFHVEGTFGCNRWDLGCRRYIIFQCPYCDTMKICYVDQWRSIKEGQFRMSGYPNHGYWFVHDDHTNEWCNQPVLAKFVRSKIVAICKKSQTVFHYAYTPGYNATWPQTNVCERMYGPHDNLLNNQQNVTFWWKMVPNCGMQILISCHNKMKWPTSHYVFMRLKCMHVLMQMEYLDHFTGPGEGDFCRNMQPYMHQDLHWEGSMRAILEYQAEHHRRAFRAELCAQYDQEIILWSGGWGVQDCGFHANYDGSLQVVSGEPCSMWCTTVMQYYADCWEKCMFA'\n",
    "# y='ILIPRQQMGCFPFPWHFDFCFWSAHHSLVVPLNPQMQTVFQNRGLDRVTVKTDCHDHRWKWIYNLGLPTMTAGDWHFIKKHVVRANNPHQWFQGRLTTAWLHSTFLYKKTEYCLVRHSNCCHCDWDQIIHTCAFIAFLDLYQRHWPMCDKLYCHFHHSWFCRNQEMSMDWNQWFPWDSVPRANCLEEGALIALYAGIWANSMKRDMKTDHACTVRLIYVCELHAWLKYCYTSINMLCGNVCLRCKSWIFVKLFYMYAPVVNTIEANSPHYYKRCCILGQGICPVERKSHCEIYAKDLLSFESCCSQKQNCYTDNWGLEYRLFFQHIQMECTDPHANRGWTSCQTAKYWHFNLDDRPPKEFYMWLQATPTDLCMYQHCLMFKIVKQNFRKQHGHANPAASTSGNWDSVYTPEKMAYKDWYVSHPPVDMRRNGSKMVPVWYPPGIWHWKQSYKLTYECFFTVPGRFHVEGTFGCNRWDHQPGTRRDRQANHQFQCPYSDTMAIWEHAYTYVDQWRSIKEGQMPMSGYPNHGQWNVHDDHTNEQERSPICNQPVLAKFVRSKNVSNHEICKKSQTVFHWACEAQTNVCERMLNNQHVAVKRNVTFWWQMVPNCLWSCHNKMTWPTRPEQHRLFFVKMRLKCMHEYLDVAPSDFCRNMQAYMHSMRAILEYQADFDLKRRLRAIAPMDLCAQYDQEIILWSGGYIYDQSLQVVSCEGCSYYADCYVKCINVKEKCMFA'\n",
    "w='ILYPRQSM'\n",
    "v='LIPRQQMG'\n",
    "lcs, b, a, maxScore, table = globAlign(w,v)\n",
    "print(maxScore)\n",
    "print(a)\n",
    "print(b)"
   ]
  },
  {
   "cell_type": "code",
   "execution_count": 275,
   "metadata": {
    "ExecuteTime": {
     "end_time": "2020-09-29T20:55:32.778298Z",
     "start_time": "2020-09-29T20:55:32.729801Z"
    }
   },
   "outputs": [
    {
     "data": {
      "text/plain": [
       "array([[  0,  -5, -10, -15, -20, -25, -30, -35, -40],\n",
       "       [ -5,   2,  -1,  -6, -11, -16, -21, -26, -31],\n",
       "       [-10,  -1,   4,  -1,  -6, -11, -16, -19, -24],\n",
       "       [-15,  -6,  -1,   1,  -3,  -7, -12, -17, -22],\n",
       "       [-20, -11,  -6,   6,   1,  -4,  -8, -13, -18],\n",
       "       [-25, -16, -11,   1,  11,   6,   1,  -4,  -9],\n",
       "       [-30, -21, -16,  -4,   6,  16,  11,   6,   1],\n",
       "       [-35, -26, -21,  -9,   1,  11,  16,  11,   6],\n",
       "       [-40, -31, -25, -14,  -4,   6,  11,  21,  16]])"
      ]
     },
     "execution_count": 275,
     "metadata": {},
     "output_type": "execute_result"
    }
   ],
   "source": [
    "x ,y = w,v\n",
    "m = len(x)\n",
    "n = len(y)\n",
    "table = np.zeros((m+2, n+2), dtype=int)\n",
    "for i in range(1, m+1):\n",
    "    for j in range(1, n+1):\n",
    "        if x[i-1] == y[j-1]:\n",
    "            table[i, j] = table[i-1, j-1] + scorematch(x[i-1],y[j-1])\n",
    "        else:\n",
    "            table[i, j] = max(table[i, j-1] + indel, table[i-1, j] + indel)\n",
    "table = np.zeros((m+1, n+1), dtype=int)\n",
    "for _ in range(1,table.shape[1]):\n",
    "    table[0][_] = table[0][_-1] + indel\n",
    "\n",
    "for _ in range(1,table.shape[0]):\n",
    "    table[_][0] = table[_-1][0] + indel\n",
    "table\n",
    "for i in range(1, m+1):\n",
    "    for j in range(1, n+1):\n",
    "        if x[i-1] == y[j-1]:\n",
    "            table[i, j] = table[i-1, j-1] + scorematch(x[i-1],y[j-1])\n",
    "        else:\n",
    "            table[i, j] = max(table[i, j-1] + indel,\n",
    "                              table[i-1, j] + indel,\n",
    "                              table[i-1, j-1] + scorematch(x[i-1],y[j-1]))\n",
    "table"
   ]
  },
  {
   "cell_type": "code",
   "execution_count": 280,
   "metadata": {
    "ExecuteTime": {
     "end_time": "2020-09-29T20:57:36.906331Z",
     "start_time": "2020-09-29T20:57:36.901132Z"
    }
   },
   "outputs": [],
   "source": [
    "i = table.shape[0] - 1\n",
    "j = table.shape[1] - 1\n",
    "a = ''\n",
    "b = ''\n",
    "lcs = ''"
   ]
  },
  {
   "cell_type": "code",
   "execution_count": 279,
   "metadata": {
    "ExecuteTime": {
     "end_time": "2020-09-29T20:57:31.203693Z",
     "start_time": "2020-09-29T20:57:31.141875Z"
    }
   },
   "outputs": [
    {
     "name": "stdout",
     "output_type": "stream",
     "text": [
      "8 8\n"
     ]
    },
    {
     "ename": "IndexError",
     "evalue": "index 7 is out of bounds for axis 1 with size 7",
     "output_type": "error",
     "traceback": [
      "\u001b[0;31m---------------------------------------------------------------------------\u001b[0m",
      "\u001b[0;31mIndexError\u001b[0m                                Traceback (most recent call last)",
      "\u001b[0;32m<ipython-input-279-8a594fe9071f>\u001b[0m in \u001b[0;36m<module>\u001b[0;34m\u001b[0m\n\u001b[1;32m     15\u001b[0m         \u001b[0mpaths\u001b[0m\u001b[0;34m.\u001b[0m\u001b[0mappend\u001b[0m\u001b[0;34m(\u001b[0m\u001b[0;34m[\u001b[0m\u001b[0;34m(\u001b[0m\u001b[0mnp\u001b[0m\u001b[0;34m.\u001b[0m\u001b[0minf\u001b[0m\u001b[0;34m)\u001b[0m\u001b[0;34m,\u001b[0m\u001b[0;34m(\u001b[0m\u001b[0mx\u001b[0m\u001b[0;34m[\u001b[0m\u001b[0mi\u001b[0m\u001b[0;34m]\u001b[0m\u001b[0;34m,\u001b[0m\u001b[0my\u001b[0m\u001b[0;34m[\u001b[0m\u001b[0mj\u001b[0m\u001b[0;34m]\u001b[0m\u001b[0;34m)\u001b[0m \u001b[0;34m]\u001b[0m\u001b[0;34m)\u001b[0m\u001b[0;34m\u001b[0m\u001b[0;34m\u001b[0m\u001b[0m\n\u001b[1;32m     16\u001b[0m     \u001b[0;32melse\u001b[0m\u001b[0;34m:\u001b[0m\u001b[0;34m\u001b[0m\u001b[0;34m\u001b[0m\u001b[0m\n\u001b[0;32m---> 17\u001b[0;31m         \u001b[0mdiag\u001b[0m \u001b[0;34m=\u001b[0m \u001b[0mFmatrix\u001b[0m\u001b[0;34m[\u001b[0m\u001b[0mi\u001b[0m\u001b[0;34m-\u001b[0m\u001b[0;36m1\u001b[0m\u001b[0;34m,\u001b[0m\u001b[0mj\u001b[0m\u001b[0;34m-\u001b[0m\u001b[0;36m1\u001b[0m\u001b[0;34m]\u001b[0m \u001b[0;34m+\u001b[0m \u001b[0mscorematch\u001b[0m\u001b[0;34m(\u001b[0m\u001b[0mx\u001b[0m\u001b[0;34m[\u001b[0m\u001b[0mi\u001b[0m\u001b[0;34m-\u001b[0m\u001b[0;36m1\u001b[0m\u001b[0;34m]\u001b[0m\u001b[0;34m,\u001b[0m\u001b[0my\u001b[0m\u001b[0;34m[\u001b[0m\u001b[0mj\u001b[0m\u001b[0;34m-\u001b[0m\u001b[0;36m1\u001b[0m\u001b[0;34m]\u001b[0m\u001b[0;34m)\u001b[0m\u001b[0;34m\u001b[0m\u001b[0;34m\u001b[0m\u001b[0m\n\u001b[0m\u001b[1;32m     18\u001b[0m         \u001b[0mleft\u001b[0m \u001b[0;34m=\u001b[0m \u001b[0mFmatrix\u001b[0m\u001b[0;34m[\u001b[0m\u001b[0mi\u001b[0m\u001b[0;34m-\u001b[0m\u001b[0;36m1\u001b[0m\u001b[0;34m,\u001b[0m\u001b[0mj\u001b[0m\u001b[0;34m]\u001b[0m \u001b[0;34m+\u001b[0m \u001b[0mindel\u001b[0m\u001b[0;34m\u001b[0m\u001b[0;34m\u001b[0m\u001b[0m\n\u001b[1;32m     19\u001b[0m         \u001b[0mup\u001b[0m \u001b[0;34m=\u001b[0m \u001b[0mFmatrix\u001b[0m\u001b[0;34m[\u001b[0m\u001b[0mi\u001b[0m\u001b[0;34m,\u001b[0m\u001b[0mj\u001b[0m\u001b[0;34m-\u001b[0m\u001b[0;36m1\u001b[0m\u001b[0;34m]\u001b[0m \u001b[0;34m+\u001b[0m \u001b[0mindel\u001b[0m\u001b[0;34m\u001b[0m\u001b[0;34m\u001b[0m\u001b[0m\n",
      "\u001b[0;31mIndexError\u001b[0m: index 7 is out of bounds for axis 1 with size 7"
     ]
    }
   ],
   "source": [
    "\n",
    "while (j>0 or i>0):\n",
    "    print(i,j)\n",
    "    if x[i-1] == y[j-1]:\n",
    "        print(x[i-1],y[j-1],Fmatrix[i,j])\n",
    "        lcs += x[i-1]\n",
    "        j -=1\n",
    "        i -=1\n",
    "        a +=x[i]\n",
    "        b +=y[j]\n",
    "        paths.append([(np.inf),(x[i],y[j]) ])\n",
    "    else:\n",
    "        diag = Fmatrix[i-1,j-1] + scorematch(x[i-1],y[j-1])\n",
    "        left = Fmatrix[i-1,j] + indel\n",
    "        up = Fmatrix[i,j-1] + indel\n",
    "        maxCell = np.argmax([diag,left,up])\n",
    "        if maxCell == 0:\n",
    "            j -=1\n",
    "            i -=1\n",
    "            a +=x[i]\n",
    "            b +=y[j]\n",
    "        else:\n",
    "            if maxCell == 1:\n",
    "                i -= 1\n",
    "                a += x[i]\n",
    "                b += '-'\n",
    "            else:\n",
    "                j -= 1\n",
    "                a += '-'\n",
    "                b += y[j]\n",
    "#####\n",
    "maxScore = table[table.shape[0] - 1,table.shape[1] - 1]                \n",
    "return lcs, b[::-1], a[::-1], maxScore, table"
   ]
  },
  {
   "cell_type": "code",
   "execution_count": null,
   "metadata": {},
   "outputs": [],
   "source": []
  },
  {
   "cell_type": "code",
   "execution_count": null,
   "metadata": {},
   "outputs": [],
   "source": []
  },
  {
   "cell_type": "code",
   "execution_count": null,
   "metadata": {},
   "outputs": [],
   "source": []
  },
  {
   "cell_type": "code",
   "execution_count": 16,
   "metadata": {
    "ExecuteTime": {
     "end_time": "2020-10-01T00:59:01.633859Z",
     "start_time": "2020-10-01T00:59:01.612302Z"
    }
   },
   "outputs": [
    {
     "name": "stdout",
     "output_type": "stream",
     "text": [
      "CPU times: user 2 µs, sys: 1 µs, total: 3 µs\n",
      "Wall time: 6.91 µs\n",
      "3924 3943\n"
     ]
    }
   ],
   "source": [
    "%time\n",
    "x='FGVLMCLSDLFQYQRNSAEAYTDTAKWAYQIYQIVRHGFFPPCTNPSHAWYKRYYHVEYTEGNIQDITRWTHEWRRSYQPMMRAQPMHWAECTHRCCSSYPICCPKWNVFNIKTLYKMLYCHDGYNCNHRLVVRSLEHGCFRFLLKNNDVERTKHCIYGMIYNPPPNVMSYIPRGMCNSYHSMIQQSLVSTELHQGDQFVFNPNIYYYGMVFKLLYQFMSGPILVPMPTICTDHYQMSCRCADMNSICWRAHDPQAEQGPNKSHCDSMKFVNNYAHEPDRDILSTQCKDASYPERNNQGTGNVDQGCQKKNEPYQLKTWKVFHTMRGYGITQYNMPHRMHFEVVNWYWEVHSIFDAVRFEYYEIMRRSWWFTFSFTQSWNNCTDFLKLYQTWCRLGGLHHHMHENNYDCEWMVMCDKKVDVIIDLREPLRICWLADAKYFKEDNKRCYSHKAHHIAKCNFQVERGEGHPALNAWYGFMDSKVMLFRQAGEPFRVMLVHPDMHYARIDYDCACWGMGWNRYGCITQSKMCESEKHFEAHQMNRPTIKCRKNMLRYEMVRRTWTLLGREINVFLHVYCYSHAWHRIGKVFWAQFHVDTITRHTLLAWTMLHTIIHRIWHGHQFDNKQLNRIIKKSCRTMLTIFGMRNEFHKWAGFKWSQYRWNVIMHAHYSYKDHGAEISHVRWVTTFGSAGEVFTNPGLNYWLPDDLGCNVDPYHHGSSVAMAHRACQNMTTRLGNVEKRMGDMDMKSNLDQRDRIGNMEVNAVRWMAGKSHTSRACKREAGEWTSFEWEVDQYVHKGYNPMDLWKGRKPSLGWNTGHFAMVENEHDVWIACVWDSMHHNADKRGFKLFFTNRLMHVWDECKQYRYFSNKQQFIWMSLSINLTSHSLDISKSYWVFKHGWMTRVLVCNQNYQQECMPDNDPMSNHPIDYRFAPVHCIMCVHNQYTHPTVGHWYNMQWSWKVNCDVGDCSYWSVKAMETGFGATVQCDLADQDRRATPGSKTMCECPKLWNTNYYRYMRSQDEWDMWCDLAYLRFYDSSHYFRKIFQDRQDEEWKEFSAWCMWQRVIVFKLCIDFCIMQREMGGVTMYYTVDAPVGIRTYVDWEFIATRAAWNLENDILYMMPQGHNWDMDHCWVKGNRIQMAACVCQHIAELQTTIQGSSNHPFLQGRMLEFEQSSAQQRLTAFNMDGYVQYILVKYRWITCACTQPTQHMWWSRFKNPTKNMFNCNKEKEFPKGYYSEGPRFDDSRMNWSFDYHANQVIMQRWGHDSGKSRLKVRHCQSFHLTSFDDIINDQAVKQMYWWAYVKCTQEDEHKQVDWCPLKYSFVCRVAPKCYYIPVDCYQDAWYPNPQRNSSFSHSVMWRTDYNENRSKSFWQILQNPKLSFVRLEKYFHFQPFGEPPSPIGCATCIYPNHYAERANNQCVYESKSVSFFNQMCYCKRMLFPLGWWAWMGWDWWHLYIKKPVCEIDQILLEPWISNLEPSGRANLMAVIGCWAHLHRSEWRDQRLYHFKSCEQRKMPQPDCMCRIQCIWPIVVQGNHFIVQKGMWIMFKGMNRCESQLNRSYSHDVIEGNWQWCPFFALSKYEKNMAHWKNYKTLSRLCVYNVRCSEGRMHVPPMCKPPIWPPFRRYPVSYAIVATFRRQWYGTNVLSWVHGFRQQCDLWMMDAMSYWAAFWCGWSSVDCFGKTDNHASWTRGGERTEAVCFAMFAFVDWRNKIDRATEDRYTIVFVWRYWMVGLKNENGHKCHQNTKKIKRLFWECMLWTMLLTWTDRCINAVSRYQPIELNVNLCPITLDCDPRYQTYWQLNETELYFLAQQHFDLLCKFYYCYLNPQCVQHKVQENTTQCILFDYEWPQAQQPNGCADIQCIITQHIKQEWVAKPLVGDVILQHPVRGRIRCSVLTPRVINGWHTEASWKMKFKQEKCQVMAAGVLKNDGTILQLLIHEEPMHTWNSLKWFPPFNQICGFPFKAKHLFATNKIRQPNFVKAEFNCCGHYCVGMINCAPWLTLNAVQVCQQYEYHYCDIPKFTESMWNVDEMTVKHWQITSDPFAKCYCWAIWWHASVGYIFDLAMNPKTYQDVINNYQVWAMDGVHYFIILWRWVGVTDVTSLSFNFDTDRFSTNFWNSLRIIWTFKMLNPMCAVWEPACYFQNAYYHQFEAYQQLCIGAFKCYFVPQWLEWEDSPVSDHGLVESCKYVEDQTENLRIYKVNEMGICLNFYAKCDMRTKATQCICPCAGQAWRWYPDMMCPFGHLIPLIMGCTWIAIGWDMASAFGWKMRHEECWGAMDCKMKQAEQTNEIIWWLEHQMHPAMKSYGFPKVSPHRCTQREECNFVNRWKNISQMHWYVHQNQQGPGMLWFHEYADRAFCGSGSMGQYDHDRPYMKWFMHNLQYWAHIIECQPGMSSGHIDDPKIGTIIVMAGIGGYDQDNIDNNDKESLVWIFRLQPWRYPFVRKLPPKIWNPVDAPLSWLQGPRIMSTCDRTELNGMTTCQMPDDFPDLESMYEMYERVIMIKCDYMDDCYERNEYCYMIPAELTEFWIMHIDAYMGLQAAIDSIEDLYHEKGDTHCMAEMRSAMYGDWFGLHCPFYGLEEWGLTQKKILVDHRDLDTFTHNGAHIYWSQMIVADHFWIENKMMYFIDCKDANCHIIFVTLWNRRCVGFQNNCWYCKWCKFCLPKVDVWKKPGWNIEYEIYDEVYCVAQVWFNGTTKKIAAMAMVRSDISDEKDWPRRQDCYLTGLTLQFDQYYPKLGFKFSAFYNNMLPMFPMWEKFNNHSHETWLDDHYNGNYYRQVMFLAFNCASPYRPATEKTNRHANGNCVIDHRTRWFIVMGRQKQRVASCGSMAGDVCVNMHHCTVPAWALQAFSTKVNNGHIHQWAIETHPVWNMVPHGVLPLECCRVRQNWHTDQYNKQEEVWKFPKTKPETRPPDEDPDSCWDRKEGERGQGADGMLRETNERHWCVIRYHCAARQERANCFFHFVKVQVCPCTVIYFMPAVEKTGTFRTSDYGIFWRWCCQWCEQMFKSGIMVGSGHAWEFHMFPDAPIFCDIGSGPDPDSWWHVYEWYGHESYTPINQNVKFDQEKHYNNAWAFCYIGAYTSTFLWVELGVYRCWWKTELERKLLDEFIVVCSNSYWEWPKADDSMHYMPDDNRWTVWELKYGRWAHRAQVTIDVFTCHYGFQYANSTLEIFDDPEYTKNHASQVMIDDLGFVLCDNNRHGSTSVIYSCAQDLPNGEDKMCPWAHASYNVGYDWLIHDVYLPKKTNPIMYMVQWLQMRWEMVYPMYSDTYWNPQSRGHFWVCQDWHSYGLYCNPSYPSIGCWYMTEAFTGCIWGSFHMLHWAHKQLCEIYEPQCWSHIVCCKSPCKLMPYWGYEIDQGTADINMEYQEKAYEQCFQVQSYKIKMHAQEYEASTFDRDITSPRKCAIIFPVGVRPRGVQLLCAQQHAMTEGMWLSERLLLTAWLRHRCSRKYGHKQRFETLCRSVNFISPHEVKEAWTWYYYNNGWMDKCWEQGSGGWAWYIGEMNAHHSEWLSINYQPTCTPVCYQVDTTTPHGMPWGLQHNHVYRVQIQTTNHEVGPFQNDPWKSWTAAFDGPNCQCCETGTEFGPCTFIRMKYGYVFWKSYYKFPWWLPSAILHGAFRSFFFKCGVWWVTCKTLTSLALKFINTQPKEYKAGIEIHAYPSNYELLRCFVFYLYNRRTWCFNIWWNWHVEFESKQYMWENDYSNSQQFHSTKMKREQFKETWVFKFPSAQEDDERKPLTSDTRMDLDGQTYVAQHLGVCSPSYGNIGDDHDDMLFTHHRRFHFGGWQIPENFKPDHGKEYVNFYIALSERAERYIPKHLINAWAQDRRWTWMITWMTAGYYWKTPFCPEPEDDNNKFPSHFPHTYKQKLFYRKVYKIDLLLKMHARLAECMCCGRAINMRKGDRADHMMAMFLEWWQ'\n",
    "y='FGVLMCLSDLFQYMRNSAEAYTDTAKWKFYVMYQSDQWQRHGFFPPCTNPQNSHAWSCSSRYGFWWIKTDILRMLHEWRFPVCNRRSYQPCCSSYPICCPKWNVFNIKHTVETYKMLYCHDGYNCNHRLFHSSMVKRAVLMTQLLWLEWMLGCFRSSKYKHCIYRMIQNPPPNVMSYHIMPQQVFNPNIYYYGQYAADSAISHPILVPLQHQTEPFFTHHNWDRPHYMSTNDYKEIVYRCAEDNSKATNCWRYNTIWHDAMLLMTSYSAEKSHCFVNNTQPEVAAHEMQSNVDTSRDILSTQCKDASYPEVNNQGTGNVDQGEPYQFWEREKTWKVFHGYMIITQYNMPHRHWGWHVDFFEVWEVHSIFDAVRFEYDEIMRRSWATWPQNTGFTFSFTTTWNNQTDFLKMHDDNPWLSGKQWFPEHHHSHNMNNYDCEWMVMCDKKVDVIIDLREQTTQFTPECWLADAKYFKEFWGTTRRNWIAKCYIIDGRRMMQQVERGPHMQEVCKDICGKIPPWYHFMDSKVMLARQAGEPFRVVHPPMHYARIDYDCACWGMGWNRYACITQSLMCEMEKHMKVRPSDMTNMLRYEDMVRRTWTLLGREALTSICNDIWFLKHPWMVRHWFYAVFHNDLQSAQFWIPNATHKVDVEITRHFQLAWHRICHGHQCDNKQLNRIIKKWCRTMLTIFHKWAGFKWSFRWNVHYSYKDHGAEISHVRGEVWTNLHSLMGVTGYWLPDLGQKCCLIRINVDPYGQWTHGWCRCRIPWQYMKDTGFHRLRMGDMDMKSNCPAEWQHNIIHFVLRLRDRIGNMEVNDSCQVRWEAGKSHTGSIGPACKRNKGDRFMRESTAFNGSERSNEWEVNPMDLLGWNTGHFAMVENAHDVWSACTWDSMHHHLINGQMLLACHMVFWHEKQQFIWMSHSINLTHHSLDTSKFLAAVWYWVGWMTRVLQVNVPSLLHIDYWDAAQGFASVNCIMCVHPTVGHWYNMQWVNCDVGDCSMETGFGATVQDLMRECLWRATPGFECKIMKDYQYKLWNTNYYRYMRSQAEWDMWCDLAYLRFYDFIMECCTSRKLWCCCEVDFRKIVQDRQDEEDKEFSAWCMWTNKIWCHRVIVFKLCHGGVVFNCMSHMYYTVYIPVPAPWMPIYKYGIRTYVDKIFPDQGVWQLENMNGMPILYMMPQSHNWDMKLDHCWVKNTTNRIQMAAELQTTGSSNAGLSVMPFLQMRMLEFEQSSAQQRLMVAHNRDGPMMTIKEEIRVDEWAHSAACYQRNERKQPTQHMWWSRFKNTKNMFNCNKEKEFPYGYYSEHCPRFDDSRMNWVFDYHASCMDCNYRCVIMQRWGHGHYARRHCQSFHLTSFDDIIVKQMYWWAYVNCTQRRCYVFKLKYSFAPKKYYIPVDCYQCWYPNHSVMWRTDYLENASKSCHQFWWQTQNCHLKLSFVRLHKYFHFQPFGEPPSPIGCATRIANNQYVYESKSVWFFNQKFWECQPCWWLGKPYWFQMATTHTKHIDYITTSGRSCDLMAVQSKQRLPHFGSNELQVKSMCRIQCIWPIEPYKWEAQVQGNHFIVQKGMWIWTFKGMNRCESQEDCGTYWGCGNWQNCPPFALSKYEKNEAHWSYSRLCCVRPMFFYMVRDSEGRMHSYAIVATFRRQKFFNCFSIVHGFRQQCDLWMMDAFDSYWAAFVSSVDCIGKTDNHERTEADRFAMFAKNDWKRREDRYWRYATMVGLKAWPTVRTENGHVCHQNTKKIKPWNHIHAFFWECTWTWVRCINAVYDTMPNRYNNLMPIEENVNLMPITLDDPRYQTAELYFQGQQHFDLLCKHYYHYLNPQCVQHKVQENTGYEWPQATAYHYVDTDQKKGCIITEAMQHIKQENVLKPLVWPVRGRIRISVCNGWHYKQEKCFVMAYGVCKNLQLLSHEEPMNSGHIWTWNRSGCYFLKWFPFKAKHLFATNKYRQDNFVKRAGFNCCGHYCVGMINCAPNLTLNAVQMCQQAEYHYCDIPKFTSLMWLVDEGTVKTAQACWNQIMSDPFCGRRIGVSTVGQGYIHDLAMNPKTYQDVINNDEQWSSHYFIILWRWVGVTSLSFHFDTDRFSTNFWNSLRISKMLNPMCTPPYLTNVWEPSCYSQNAYYHQFEAKEQLCIGAFKQYFTPHCQAADWRWRCDNDSPVSDHGLVDKVNFMGISLNFYAKCDMCLCAGQAWRWYPDMMCPFTYICTWIAIGWDMWSAFGWKMRHPWGRGYQTQGCKMKQAEYLNEILEHQHQPAMKSYGEDLACKLSNSPHRFTQREECNFVNRWKNISQMHQYDGMLVFHEYADCFFAARAFCGSGDKRVKMVMGQYHHDRPYMPCWMWRWIEFDVHQPWMSSGHIGCNCDEKIGTIIVYDQDNIDNNDKESLVWITRCAHVCGPWRNHHCGPPKKIWPPVDATLSWLILRWGPRICSTCGMCQMPDDFPDLMYERVIDYMDDCYERYEFYYYKAMEMYMQPAELGEFWIMHIDAYMGEQWAIDSIEDLYHEKGDTHCMSEMSAMYGDWFGQDPLRFHRCPFFQNSGGYKYFFYTCEEWTQKKILVDHRTGLIKNIFNFGQIMVDTFYHNGASHFWIENKMMYFIDCKDANCHICVHWVQMVRNVTLWNVNRCVGFRNNCWYHLVAWIKWCKFWLPKWKKPGWNPEYEINDEDTGTSIYCEWWYVAQVNGTTKKCIAMVFVYANEGMVRSDIDCYLTCHTLILTLQFDQYYPKLGFKFSAFYNNMLPMFPMWEKFNNHSHSTWLADHYNGPLFDAGGYTRQVMFTDTMRAWFNCASPYRPATEKTERHANGRCVIRTRWHIVMGRQKQRVHRCSEWVTKYTGSMAGFVCVVPAWAQPTNSNGIHRCGHEPFKPVWNMVEWTYRSNTQKNVLECCRVRQNWHTDVWETRKPDEDIKGMHNIDQSCWDRCEGERGHTAQFQYIGAVGMLRETNERKWCVSPLAIFICERYHCPIQGSVEHARQERANCGFHFVKVKVCPCTVIYFMPAVEKTGTFRPRRAQCSDYGRCRWRWCCQWCKLMFKSNQWVFRGIPVGSGHAWEPHMFPDAPIFPLSWFLTEWWGSCRYYHWVSYTDMCWYKLYLCVTNNAWSWNYIGAYTSTFLWVELGVYRCWWKTDEFIVVCSNSYWEHPKADDSMHYMMKCAYDDHRWTVWELKYGRIEKYRRDDKNIDVTKTCHYGFQYANSTLGADEIFDDHEYTKNHALQMMIDDGGFTLSCAQDLPNGEDKMCPWAHASMEVPSIVSDWLIHDVYLPYFMQWLMQSHKQMIWEMVYPMYSDTYWNPQSRGHFWWCQDWHSYGVCGLYCNPSYPSINIETCQRTNTQYMTEAFTGCIWGAHKQLCEIYDPQCWSHINITIPPTCKSPCKLMRWNNDGIKNMCPWLIWLGGKGTADINMMYKAYWCRQVQSYKLKMQAQEYCASTFDRAITSPRPGAIIFPVGLCAMTEGMWLSEVLLLTGWLRHRCIRIYGHKQRFETLCRSVNFISPMEVVPVVVIFGLAWTWYYYNNLWMNSPQWYWETHMYWTANGSRGWSWYIGEMNWLSINYQPTCTFPYHSFVYQVATTTPHGMPWGLQHNIVYRVQIQTSNHPVGPFQNDPWWTAAFDGPNCQCCETGTEFGPCTAFYQSIRMKYGGFACLWTIHVFPLPSAILHGFFFKCKIVEHWTPMNWWDKTLTSSACKFINRSWHGRDQPKEYKAGIETHVKWSNYELLCCFVFYYYNRKTWCFNIWWNWHVEFESKYYEKYFYMGEENGWVMDNSNSQGFHQQETWVFKFPSAQEDDERKPLTSDTRMDLDDSGMAQTREMAVAQNLIGDIHDDVLFTVHRRFHFGGWQIPENNRQLQWQCAETAEIPKTAQDRRRTIAMCKQMIPWMNAGYYWKTPFCPECEWNDNCCSSHFPKPGWSHGWWGLLAECMCCGRAINMTKGDHAMAMFLEWWQ'\n",
    "print(len(x),len(y))\n",
    "### Don't run, too slow\n",
    "#Fmat = scoringMatrix(x,y,indel=-5)"
   ]
  },
  {
   "cell_type": "code",
   "execution_count": 20,
   "metadata": {
    "ExecuteTime": {
     "end_time": "2020-10-01T00:59:29.836036Z",
     "start_time": "2020-10-01T00:59:29.730746Z"
    }
   },
   "outputs": [],
   "source": [
    "def scoringMatrix(x,y,indel=-5):\n",
    "    m = len(x)\n",
    "    n = len(y)\n",
    "    Fmatrix = np.zeros((m+1,n+1))\n",
    "\n",
    "    ## initialize\n",
    "    for i in range(1,m+1):\n",
    "        Fmatrix[i,0] += Fmatrix[i-1,0] + indel\n",
    "    for j in range(1,n+1):\n",
    "        Fmatrix[0,j] += Fmatrix[0,j-1] + indel\n",
    "\n",
    "    ##\n",
    "    for i in range(1,m+1):\n",
    "        for j in range(1,n+1):\n",
    "            if x[i-1] == y[j-1]:\n",
    "                Fmatrix[i,j] = Fmatrix[i-1,j-1] + scorematch(x[i-1],y[j-1],blosum)\n",
    "            else:\n",
    "                mm = Fmatrix[i-1,j-1] + scorematch(x[i-1],y[j-1],blosum)\n",
    "                down = Fmatrix[i-1,j] + indel\n",
    "                right = Fmatrix[i,j-1] + indel\n",
    "                Fmatrix[i,j] = max([mm,down,right])\n",
    "            #print(x[i-1],y[j-1],[mm,down,right])\n",
    "\n",
    "\n",
    "    #pd.DataFrame(Fmatrix,columns=['-']+[_ for _ in y],index=['-']+[_ for _ in x])\n",
    "    ##\n",
    "    i = Fmatrix.shape[0] - 1\n",
    "    j = Fmatrix.shape[1] - 1\n",
    "\n",
    "    LCS = \"\"\n",
    "    a = ''\n",
    "    b = ''\n",
    "    paths = []\n",
    "    while (j>0 or i>0):\n",
    "        if x[i-1] == y[j-1]:\n",
    "            #print(x[i-1],y[j-1],Fmatrix[i,j])\n",
    "            LCS += x[i-1]\n",
    "            j -=1\n",
    "            i -=1\n",
    "            a +=x[i]\n",
    "            b +=y[j]\n",
    "\n",
    "            paths.append([(np.inf),(x[i],y[j]) ])\n",
    "        else:\n",
    "            diag = Fmatrix[i-1,j-1] + scorematch(x[i-1],y[j-1],blosum)\n",
    "            left = Fmatrix[i-1,j] + indel\n",
    "            up = Fmatrix[i,j-1] + indel\n",
    "            maxCell = np.argmax([diag,left,up])\n",
    "            #print(maxCell,'diff',[diag,left,up])\n",
    "            if maxCell == 0:\n",
    "                j -=1\n",
    "                i -=1\n",
    "                a +=x[i]\n",
    "                b +=y[j]\n",
    "            else:\n",
    "                if maxCell == 1:\n",
    "                    i -= 1\n",
    "                    a += x[i]\n",
    "                    b += '-'\n",
    "                else:\n",
    "                    j -= 1\n",
    "                    a += '-'\n",
    "                    b += y[j]\n",
    "            paths.append( [(diag,left,up),\n",
    "                           (x[i],x[i],\"-\"),\n",
    "                           (y[j],\"-\",y[j]) ])\n",
    "\n",
    "\n",
    "    #print('Score',Fmatrix[m][n])        \n",
    "    #print(LCS[::-1]) #AACTGG\n",
    "    #print('--')\n",
    "    #print(b[::-1])\n",
    "    #print(a[::-1])\n",
    "    score = Fmatrix[m][n]\n",
    "    LCS = LCS[::-1]\n",
    "    a = a[::-1]\n",
    "    b = b[::-1]\n",
    "    return score, LCS, a,b,Fmatrix"
   ]
  },
  {
   "cell_type": "code",
   "execution_count": 21,
   "metadata": {
    "ExecuteTime": {
     "end_time": "2020-10-01T00:59:32.791406Z",
     "start_time": "2020-10-01T00:59:32.753443Z"
    }
   },
   "outputs": [
    {
     "name": "stdout",
     "output_type": "stream",
     "text": [
      "CPU times: user 3 µs, sys: 0 ns, total: 3 µs\n",
      "Wall time: 6.2 µs\n",
      "10 6\n"
     ]
    },
    {
     "data": {
      "text/plain": [
       "(8.0,\n",
       " 'EANLY',\n",
       " 'PLEASANTLY',\n",
       " '-ME--AN-LY',\n",
       " array([[  0.,  -5., -10., -15., -20., -25., -30.],\n",
       "        [ -5.,  -2.,  -6., -11., -16., -21., -26.],\n",
       "        [-10.,  -3.,  -5.,  -7., -12., -12., -17.],\n",
       "        [-15.,  -8.,   2.,  -3.,  -7., -12., -14.],\n",
       "        [-20., -13.,  -3.,   6.,   1.,  -4.,  -9.],\n",
       "        [-25., -18.,  -8.,   1.,   7.,   2.,  -3.],\n",
       "        [-30., -23., -13.,  -4.,   2.,   6.,   1.],\n",
       "        [-35., -28., -18.,  -9.,   2.,   1.,   4.],\n",
       "        [-40., -33., -23., -14.,  -3.,   1.,  -1.],\n",
       "        [-45., -38., -28., -19.,  -8.,   1.,   0.],\n",
       "        [-50., -43., -33., -24., -13.,  -4.,   8.]]))"
      ]
     },
     "execution_count": 21,
     "metadata": {},
     "output_type": "execute_result"
    }
   ],
   "source": [
    "%time\n",
    "x='PLEASANTLY'\n",
    "y='MEANLY'\n",
    "print(len(x),len(y))\n",
    "scoringMatrix(x,y,indel=-5)"
   ]
  },
  {
   "cell_type": "code",
   "execution_count": null,
   "metadata": {},
   "outputs": [],
   "source": []
  },
  {
   "cell_type": "code",
   "execution_count": 144,
   "metadata": {
    "ExecuteTime": {
     "end_time": "2020-10-02T04:26:03.734474Z",
     "start_time": "2020-10-02T04:26:03.646894Z"
    }
   },
   "outputs": [
    {
     "data": {
      "text/plain": [
       "array([[ 0.,  0.,  0.,  0.,  0.,  0.,  0.,  0.,  0.,  0.,  0.,  0.,  0.,\n",
       "         0.,  0.,  0.,  0.,  0.,  0.,  0.,  0.],\n",
       "       [ 0.,  0.,  1.,  1.,  1.,  1.,  1.,  1.,  1.,  1.,  1.,  1.,  1.,\n",
       "         1.,  1.,  1.,  1.,  1.,  1.,  1.,  1.],\n",
       "       [ 0.,  0.,  1.,  2.,  2.,  2.,  2.,  2.,  2.,  2.,  2.,  2.,  2.,\n",
       "         2.,  2.,  2.,  2.,  2.,  2.,  2.,  2.],\n",
       "       [ 0.,  0.,  1.,  2.,  3.,  3.,  3.,  3.,  3.,  3.,  3.,  3.,  3.,\n",
       "         3.,  3.,  3.,  3.,  3.,  3.,  3.,  3.],\n",
       "       [ 0.,  0.,  1.,  2.,  3.,  3.,  3.,  3.,  3.,  3.,  3.,  3.,  3.,\n",
       "         3.,  3.,  4.,  4.,  4.,  4.,  4.,  4.],\n",
       "       [ 0.,  0.,  1.,  2.,  3.,  3.,  4.,  4.,  4.,  4.,  4.,  4.,  4.,\n",
       "         4.,  4.,  4.,  4.,  5.,  5.,  5.,  5.],\n",
       "       [ 0.,  0.,  1.,  2.,  3.,  4.,  4.,  5.,  5.,  5.,  5.,  5.,  5.,\n",
       "         5.,  5.,  5.,  5.,  5.,  5.,  5.,  5.],\n",
       "       [ 0.,  0.,  1.,  2.,  3.,  4.,  5.,  5.,  6.,  6.,  6.,  6.,  6.,\n",
       "         6.,  6.,  6.,  6.,  6.,  6.,  6.,  6.],\n",
       "       [ 0.,  0.,  1.,  2.,  3.,  4.,  5.,  5.,  6.,  6.,  6.,  6.,  6.,\n",
       "         6.,  6.,  7.,  7.,  7.,  7.,  7.,  7.],\n",
       "       [ 0.,  0.,  1.,  2.,  3.,  4.,  5.,  6.,  6.,  7.,  7.,  7.,  7.,\n",
       "         7.,  7.,  7.,  8.,  8.,  8.,  8.,  8.],\n",
       "       [ 0.,  0.,  1.,  2.,  3.,  4.,  5.,  6.,  7.,  7.,  7.,  7.,  8.,\n",
       "         8.,  8.,  8.,  8.,  9.,  9.,  9.,  9.],\n",
       "       [ 0.,  0.,  1.,  2.,  3.,  4.,  5.,  6.,  7.,  7.,  7.,  7.,  8.,\n",
       "         8.,  8.,  9.,  9.,  9.,  9.,  9.,  9.],\n",
       "       [ 0.,  0.,  1.,  2.,  3.,  4.,  5.,  6.,  7.,  8.,  8.,  8.,  8.,\n",
       "         8.,  8.,  9., 10., 10., 10., 10., 10.],\n",
       "       [ 0.,  0.,  1.,  2.,  3.,  4.,  5.,  6.,  7.,  8.,  8.,  8.,  9.,\n",
       "         9.,  9.,  9., 10., 11., 11., 11., 11.],\n",
       "       [ 0.,  1.,  1.,  2.,  3.,  4.,  5.,  6.,  7.,  8.,  9.,  9.,  9.,\n",
       "        10., 10., 10., 10., 11., 12., 12., 12.],\n",
       "       [ 0.,  1.,  2.,  2.,  3.,  4.,  5.,  6.,  7.,  8.,  9., 10., 10.,\n",
       "        10., 10., 10., 11., 11., 12., 12., 12.],\n",
       "       [ 0.,  1.,  2.,  2.,  3.,  4.,  5.,  6.,  7.,  8.,  9., 10., 11.,\n",
       "        11., 11., 11., 11., 12., 12., 13., 13.],\n",
       "       [ 0.,  1.,  2.,  2.,  3.,  4.,  5.,  6.,  7.,  8.,  9., 10., 11.,\n",
       "        11., 12., 12., 12., 12., 12., 13., 13.],\n",
       "       [ 0.,  1.,  2.,  2.,  3.,  4.,  5.,  6.,  7.,  8.,  9., 10., 11.,\n",
       "        12., 12., 12., 12., 12., 13., 13., 14.],\n",
       "       [ 0.,  1.,  2.,  3.,  3.,  4.,  5.,  6.,  7.,  8.,  9., 10., 11.,\n",
       "        12., 12., 12., 13., 13., 13., 13., 14.],\n",
       "       [ 0.,  1.,  2.,  3.,  4.,  4.,  5.,  6.,  7.,  8.,  9., 10., 11.,\n",
       "        12., 12., 13., 13., 13., 13., 13., 14.]])"
      ]
     },
     "execution_count": 144,
     "metadata": {},
     "output_type": "execute_result"
    }
   ],
   "source": [
    "# x='ACGGAA'\n",
    "# y='ATTCAA'\n",
    "x=\"CCAATCTACTACTGCTTGCA\"\n",
    "y=\"GCCACTCTCGCTGTACTGTG\"\n",
    "indel = 0\n",
    "m = len(x)\n",
    "n = len(y)\n",
    "Fmatrix = np.zeros((m+1,n+1))\n",
    "\n",
    "# ## initialize\n",
    "for i in range(1,m+1):\n",
    "    Fmatrix[i,0] += Fmatrix[i-1,0] + indel\n",
    "for j in range(1,n+1):\n",
    "    Fmatrix[0,j] += Fmatrix[0,j-1] + indel\n",
    "\n",
    "for i in range(1,m+1):\n",
    "    for j in range(1,n+1):\n",
    "        if x[i-1] == y[j-1]:\n",
    "            Fmatrix[i,j] = Fmatrix[i-1,j-1] + 1\n",
    "        else:\n",
    "            mm = Fmatrix[i-1,j-1] + 0\n",
    "            down = Fmatrix[i-1,j] + indel\n",
    "            right = Fmatrix[i,j-1] + indel\n",
    "            Fmatrix[i,j] = max([mm,down,right])\n",
    "Fmatrix"
   ]
  },
  {
   "cell_type": "code",
   "execution_count": 60,
   "metadata": {
    "ExecuteTime": {
     "end_time": "2020-10-01T01:26:00.098114Z",
     "start_time": "2020-10-01T01:26:00.086873Z"
    }
   },
   "outputs": [],
   "source": [
    "x='ACGGAA'\n",
    "y='ATTCAA'\n",
    "m=len(x)\n",
    "n=len(y)\n",
    "initM = pd.DataFrame(0,index=range(0,m+1),columns=range(0,n+1))\n",
    "linMat = np.zeros((m+1,n+1))"
   ]
  },
  {
   "cell_type": "code",
   "execution_count": 47,
   "metadata": {
    "ExecuteTime": {
     "end_time": "2020-10-01T01:18:59.881775Z",
     "start_time": "2020-10-01T01:18:59.871850Z"
    },
    "cell_style": "split"
   },
   "outputs": [
    {
     "name": "stdout",
     "output_type": "stream",
     "text": [
      "   0  1  2  3  4  5  6\n",
      "0  0  0  0  0  0  0  0\n",
      "1  0  0  0  0  0  0  0\n",
      "2  0  0  0  0  0  0  0\n",
      "3  0  0  0  0  0  0  0\n",
      "4  0  0  0  0  0  0  0\n",
      "5  0  0  0  0  0  0  0\n",
      "6  0  0  0  0  0  0  0\n"
     ]
    }
   ],
   "source": [
    "print(initM)"
   ]
  },
  {
   "cell_type": "code",
   "execution_count": 61,
   "metadata": {
    "ExecuteTime": {
     "end_time": "2020-10-01T01:26:23.114451Z",
     "start_time": "2020-10-01T01:26:23.095315Z"
    },
    "cell_style": "split"
   },
   "outputs": [
    {
     "name": "stdout",
     "output_type": "stream",
     "text": [
      "[[0. 0. 0. 0. 0. 0. 0.]\n",
      " [0. 0. 0. 0. 0. 0. 0.]\n",
      " [0. 0. 0. 0. 0. 0. 0.]\n",
      " [0. 0. 0. 0. 0. 0. 0.]\n",
      " [0. 0. 0. 0. 0. 0. 0.]\n",
      " [0. 0. 0. 0. 0. 0. 0.]\n",
      " [0. 0. 0. 0. 0. 0. 0.]]\n"
     ]
    }
   ],
   "source": [
    "print(linMat)"
   ]
  },
  {
   "cell_type": "code",
   "execution_count": null,
   "metadata": {},
   "outputs": [],
   "source": []
  },
  {
   "cell_type": "code",
   "execution_count": 64,
   "metadata": {
    "ExecuteTime": {
     "end_time": "2020-10-01T01:27:09.932044Z",
     "start_time": "2020-10-01T01:27:09.913947Z"
    },
    "cell_style": "split"
   },
   "outputs": [
    {
     "data": {
      "text/plain": [
       "array([[1., 2., 3., 4., 5., 6., 0.],\n",
       "       [1., 2., 3., 4., 5., 6., 0.],\n",
       "       [1., 2., 3., 4., 5., 6., 0.],\n",
       "       [1., 2., 3., 4., 5., 6., 0.],\n",
       "       [1., 2., 3., 4., 5., 6., 0.],\n",
       "       [1., 2., 3., 4., 5., 6., 0.],\n",
       "       [1., 2., 3., 4., 5., 6., 0.]])"
      ]
     },
     "execution_count": 64,
     "metadata": {},
     "output_type": "execute_result"
    }
   ],
   "source": [
    "for i in range(1,len(y)+1):\n",
    "    linMat[:,i-1]=i\n",
    "    \n",
    "linMat"
   ]
  },
  {
   "cell_type": "code",
   "execution_count": 63,
   "metadata": {
    "ExecuteTime": {
     "end_time": "2020-10-01T01:26:39.658136Z",
     "start_time": "2020-10-01T01:26:39.649524Z"
    },
    "cell_style": "split"
   },
   "outputs": [
    {
     "data": {
      "text/plain": [
       "array([[0., 0., 0., 0., 0., 0., 0.],\n",
       "       [0., 1., 1., 1., 1., 1., 1.],\n",
       "       [0., 1., 1., 1., 2., 2., 2.],\n",
       "       [0., 1., 1., 1., 2., 2., 2.],\n",
       "       [0., 1., 1., 1., 2., 2., 2.],\n",
       "       [0., 1., 1., 1., 2., 3., 3.],\n",
       "       [0., 1., 1., 1., 2., 3., 4.]])"
      ]
     },
     "execution_count": 63,
     "metadata": {},
     "output_type": "execute_result"
    }
   ],
   "source": [
    "Fmatrix"
   ]
  },
  {
   "cell_type": "code",
   "execution_count": 76,
   "metadata": {
    "ExecuteTime": {
     "end_time": "2020-10-01T01:33:16.830984Z",
     "start_time": "2020-10-01T01:33:16.814999Z"
    }
   },
   "outputs": [
    {
     "data": {
      "text/plain": [
       "array([0., 0., 0., 0., 0., 0., 0.])"
      ]
     },
     "execution_count": 76,
     "metadata": {},
     "output_type": "execute_result"
    }
   ],
   "source": [
    "Fmatrix[:,0]"
   ]
  },
  {
   "cell_type": "code",
   "execution_count": 101,
   "metadata": {
    "ExecuteTime": {
     "end_time": "2020-10-01T01:42:39.453700Z",
     "start_time": "2020-10-01T01:42:39.442621Z"
    }
   },
   "outputs": [],
   "source": [
    "a=\"-\"+x\n",
    "b=\"-\"+y\n",
    "m = len(x)\n",
    "n = len(y)\n",
    "indel = -5"
   ]
  },
  {
   "cell_type": "code",
   "execution_count": 102,
   "metadata": {
    "ExecuteTime": {
     "end_time": "2020-10-01T01:42:41.886436Z",
     "start_time": "2020-10-01T01:42:41.874693Z"
    }
   },
   "outputs": [
    {
     "name": "stdout",
     "output_type": "stream",
     "text": [
      "[[  0.  -5. -10. -15. -20. -25. -30.]]\n",
      "[[  0.]\n",
      " [ -5.]\n",
      " [-10.]\n",
      " [-15.]\n",
      " [-20.]\n",
      " [-25.]\n",
      " [-30.]]\n"
     ]
    }
   ],
   "source": [
    "## initialize\n",
    "byCol = np.zeros((1,m+1))\n",
    "byRow = np.zeros((n+1,1))\n",
    "\n",
    "for i in range(1,m+1):\n",
    "    byCol[0,i] += byCol[0,i-1] + indel\n",
    "\n",
    "for j in range(1,n+1):\n",
    "    byRow[j,0] += byRow[j-1,0] + indel\n",
    "\n",
    "print(byCol)\n",
    "print(byRow)"
   ]
  },
  {
   "cell_type": "code",
   "execution_count": 132,
   "metadata": {
    "ExecuteTime": {
     "end_time": "2020-10-01T01:48:55.435948Z",
     "start_time": "2020-10-01T01:48:55.429525Z"
    }
   },
   "outputs": [],
   "source": [
    "def score(i,j):\n",
    "    if x[i] == y[j]:\n",
    "        #print(a[i],b[j])\n",
    "        return 1\n",
    "    else:\n",
    "        up = byCol[0,i-1]\n",
    "        diag = byRow[i-1,0]\n",
    "        left = byRow[i,0]\n",
    "        return max(up,diag,left)"
   ]
  },
  {
   "cell_type": "code",
   "execution_count": 142,
   "metadata": {
    "ExecuteTime": {
     "end_time": "2020-10-01T01:50:11.210622Z",
     "start_time": "2020-10-01T01:50:11.158942Z"
    }
   },
   "outputs": [
    {
     "ename": "TypeError",
     "evalue": "'CClass' object is not callable",
     "output_type": "error",
     "traceback": [
      "\u001b[0;31m---------------------------------------------------------------------------\u001b[0m",
      "\u001b[0;31mTypeError\u001b[0m                                 Traceback (most recent call last)",
      "\u001b[0;32m<ipython-input-142-661ca3bd36c5>\u001b[0m in \u001b[0;36m<module>\u001b[0;34m\u001b[0m\n\u001b[1;32m      1\u001b[0m \u001b[0mxPos\u001b[0m\u001b[0;34m=\u001b[0m\u001b[0;36m0\u001b[0m\u001b[0;34m\u001b[0m\u001b[0;34m\u001b[0m\u001b[0m\n\u001b[1;32m      2\u001b[0m \u001b[0ma\u001b[0m\u001b[0;34m=\u001b[0m\u001b[0;34m[\u001b[0m\u001b[0mscore\u001b[0m\u001b[0;34m(\u001b[0m\u001b[0mxPos\u001b[0m\u001b[0;34m,\u001b[0m\u001b[0mi\u001b[0m\u001b[0;34m)\u001b[0m \u001b[0;32mfor\u001b[0m \u001b[0mi\u001b[0m\u001b[0;34m,\u001b[0m\u001b[0mj\u001b[0m \u001b[0;32min\u001b[0m \u001b[0menumerate\u001b[0m\u001b[0;34m(\u001b[0m\u001b[0my\u001b[0m\u001b[0;34m)\u001b[0m\u001b[0;34m]\u001b[0m\u001b[0;34m\u001b[0m\u001b[0;34m\u001b[0m\u001b[0m\n\u001b[0;32m----> 3\u001b[0;31m \u001b[0mnp\u001b[0m\u001b[0;34m.\u001b[0m\u001b[0mc_\u001b[0m\u001b[0;34m(\u001b[0m\u001b[0mnp\u001b[0m\u001b[0;34m.\u001b[0m\u001b[0marray\u001b[0m\u001b[0;34m(\u001b[0m\u001b[0ma\u001b[0m\u001b[0;34m)\u001b[0m\u001b[0;34m)\u001b[0m\u001b[0;34m\u001b[0m\u001b[0;34m\u001b[0m\u001b[0m\n\u001b[0m",
      "\u001b[0;31mTypeError\u001b[0m: 'CClass' object is not callable"
     ]
    }
   ],
   "source": [
    "xPos=0\n",
    "a=[score(xPos,i) for i,j in enumerate(y)]\n"
   ]
  },
  {
   "cell_type": "code",
   "execution_count": 66,
   "metadata": {
    "ExecuteTime": {
     "end_time": "2020-10-01T01:27:31.158111Z",
     "start_time": "2020-10-01T01:27:31.142058Z"
    }
   },
   "outputs": [
    {
     "name": "stdout",
     "output_type": "stream",
     "text": [
      "[[1. 2.]\n",
      " [1. 2.]\n",
      " [1. 2.]\n",
      " [1. 2.]\n",
      " [1. 2.]\n",
      " [1. 2.]\n",
      " [1. 2.]]\n",
      "[[2. 3.]\n",
      " [2. 3.]\n",
      " [2. 3.]\n",
      " [2. 3.]\n",
      " [2. 3.]\n",
      " [2. 3.]\n",
      " [2. 3.]]\n",
      "[[3. 4.]\n",
      " [3. 4.]\n",
      " [3. 4.]\n",
      " [3. 4.]\n",
      " [3. 4.]\n",
      " [3. 4.]\n",
      " [3. 4.]]\n",
      "[[4. 5.]\n",
      " [4. 5.]\n",
      " [4. 5.]\n",
      " [4. 5.]\n",
      " [4. 5.]\n",
      " [4. 5.]\n",
      " [4. 5.]]\n",
      "[[5. 6.]\n",
      " [5. 6.]\n",
      " [5. 6.]\n",
      " [5. 6.]\n",
      " [5. 6.]\n",
      " [5. 6.]\n",
      " [5. 6.]]\n",
      "[[6. 0.]\n",
      " [6. 0.]\n",
      " [6. 0.]\n",
      " [6. 0.]\n",
      " [6. 0.]\n",
      " [6. 0.]\n",
      " [6. 0.]]\n"
     ]
    }
   ],
   "source": [
    "for i in range(1,len(y)+1):\n",
    "    print(linMat[:,i-1:i+1])\n",
    "    \n",
    "\n"
   ]
  },
  {
   "cell_type": "code",
   "execution_count": null,
   "metadata": {},
   "outputs": [],
   "source": []
  },
  {
   "cell_type": "code",
   "execution_count": null,
   "metadata": {},
   "outputs": [],
   "source": []
  },
  {
   "cell_type": "code",
   "execution_count": null,
   "metadata": {},
   "outputs": [],
   "source": []
  },
  {
   "cell_type": "code",
   "execution_count": 349,
   "metadata": {
    "ExecuteTime": {
     "end_time": "2020-10-02T23:15:52.292027Z",
     "start_time": "2020-10-02T23:15:52.247684Z"
    }
   },
   "outputs": [
    {
     "data": {
      "text/plain": [
       "array([0, 0, 0, 0, 0, 0, 0])"
      ]
     },
     "execution_count": 349,
     "metadata": {},
     "output_type": "execute_result"
    }
   ],
   "source": [
    "x='A'\n",
    "y='ATTCAA'\n",
    "m = len(x)\n",
    "n = len(y)\n",
    "indel = 0\n",
    "\n",
    "## Initialize\n",
    "top = [0]\n",
    "score = np.cumsum([indel] + [indel for _ in y])\n",
    "score"
   ]
  },
  {
   "cell_type": "code",
   "execution_count": 265,
   "metadata": {
    "ExecuteTime": {
     "end_time": "2020-10-02T05:41:28.913649Z",
     "start_time": "2020-10-02T05:41:28.899856Z"
    }
   },
   "outputs": [
    {
     "name": "stdout",
     "output_type": "stream",
     "text": [
      "[0, 1, 0, 0, 0, 1, 1]\n"
     ]
    }
   ],
   "source": [
    "# x = 'A'\n",
    "# match = top + [ 1 if _==x else 0 for i,_ in enumerate(y)]\n",
    "# print(match)"
   ]
  },
  {
   "cell_type": "code",
   "execution_count": 266,
   "metadata": {
    "ExecuteTime": {
     "end_time": "2020-10-02T05:41:30.157855Z",
     "start_time": "2020-10-02T05:41:30.145361Z"
    }
   },
   "outputs": [
    {
     "data": {
      "text/plain": [
       "array([0, 1, 1, 1, 1, 1, 1])"
      ]
     },
     "execution_count": 266,
     "metadata": {},
     "output_type": "execute_result"
    }
   ],
   "source": [
    "# for i in range(1,n+1):\n",
    "#     #print(score[i],match[i],score[i-1],max(score[i],match[i],score[i-1]))\n",
    "#     score[i] = max(score[i],match[i],score[i-1])\n",
    "#     #left[i] = max(match[i],left[i],left[i-1]) \n",
    "# score\n",
    "     "
   ]
  },
  {
   "cell_type": "code",
   "execution_count": 284,
   "metadata": {
    "ExecuteTime": {
     "end_time": "2020-10-02T05:47:00.473953Z",
     "start_time": "2020-10-02T05:47:00.464843Z"
    }
   },
   "outputs": [
    {
     "name": "stdout",
     "output_type": "stream",
     "text": [
      "[0, 1, 0, 0, 0, 1, 1]\n"
     ]
    }
   ],
   "source": [
    "x = 'A'\n",
    "match = top + [ 1 if _==x else 0 for i,_ in enumerate(y)]\n",
    "print(match)"
   ]
  },
  {
   "cell_type": "code",
   "execution_count": null,
   "metadata": {},
   "outputs": [],
   "source": []
  },
  {
   "cell_type": "code",
   "execution_count": 312,
   "metadata": {
    "ExecuteTime": {
     "end_time": "2020-10-02T05:59:19.246847Z",
     "start_time": "2020-10-02T05:59:19.225842Z"
    }
   },
   "outputs": [],
   "source": [
    "score = np.cumsum([indel] + [indel for _ in y])\n",
    "def linSpace(x,score,match=1,indel=0):\n",
    "    for i in range(1,n+1):\n",
    "        #print(i,score,match[i], score[i], score[i-1])\n",
    "        if x == y[i-1]:\n",
    "            score[i] += match\n",
    "        else:\n",
    "            score[i] = max(score[i] + indel,score[i-1]+indel)\n",
    "    return(score)"
   ]
  },
  {
   "cell_type": "code",
   "execution_count": 347,
   "metadata": {
    "ExecuteTime": {
     "end_time": "2020-10-02T23:15:26.702105Z",
     "start_time": "2020-10-02T23:15:26.690773Z"
    }
   },
   "outputs": [],
   "source": [
    "score = np.cumsum([indel] + [indel for _ in y])"
   ]
  },
  {
   "cell_type": "code",
   "execution_count": 348,
   "metadata": {
    "ExecuteTime": {
     "end_time": "2020-10-02T23:15:29.347049Z",
     "start_time": "2020-10-02T23:15:29.327565Z"
    }
   },
   "outputs": [
    {
     "ename": "TypeError",
     "evalue": "linSpace() missing 1 required positional argument: 'score'",
     "output_type": "error",
     "traceback": [
      "\u001b[0;31m---------------------------------------------------------------------------\u001b[0m",
      "\u001b[0;31mTypeError\u001b[0m                                 Traceback (most recent call last)",
      "\u001b[0;32m<ipython-input-348-a44bc64d3b7e>\u001b[0m in \u001b[0;36m<module>\u001b[0;34m\u001b[0m\n\u001b[1;32m      1\u001b[0m \u001b[0mx\u001b[0m\u001b[0;34m=\u001b[0m\u001b[0;34m'A'\u001b[0m\u001b[0;34m\u001b[0m\u001b[0;34m\u001b[0m\u001b[0m\n\u001b[0;32m----> 2\u001b[0;31m \u001b[0mscore\u001b[0m \u001b[0;34m=\u001b[0m \u001b[0mlinSpace\u001b[0m\u001b[0;34m(\u001b[0m\u001b[0mx\u001b[0m\u001b[0;34m,\u001b[0m\u001b[0mscore\u001b[0m\u001b[0;34m)\u001b[0m\u001b[0;34m\u001b[0m\u001b[0;34m\u001b[0m\u001b[0m\n\u001b[0m\u001b[1;32m      3\u001b[0m \u001b[0mscore\u001b[0m\u001b[0;34m\u001b[0m\u001b[0;34m\u001b[0m\u001b[0m\n",
      "\u001b[0;31mTypeError\u001b[0m: linSpace() missing 1 required positional argument: 'score'"
     ]
    }
   ],
   "source": [
    "x='A'\n",
    "score = linSpace(x,score)\n",
    "score"
   ]
  },
  {
   "cell_type": "code",
   "execution_count": 308,
   "metadata": {
    "ExecuteTime": {
     "end_time": "2020-10-02T05:56:51.925346Z",
     "start_time": "2020-10-02T05:56:51.909444Z"
    }
   },
   "outputs": [
    {
     "data": {
      "text/plain": [
       "array([0, 1, 1, 1, 2, 2, 2])"
      ]
     },
     "execution_count": 308,
     "metadata": {},
     "output_type": "execute_result"
    }
   ],
   "source": [
    "x='C'\n",
    "score = linSpace(x,score)\n",
    "score"
   ]
  },
  {
   "cell_type": "code",
   "execution_count": 309,
   "metadata": {
    "ExecuteTime": {
     "end_time": "2020-10-02T05:57:04.423103Z",
     "start_time": "2020-10-02T05:57:04.416013Z"
    }
   },
   "outputs": [
    {
     "data": {
      "text/plain": [
       "array([0, 1, 1, 1, 2, 2, 2])"
      ]
     },
     "execution_count": 309,
     "metadata": {},
     "output_type": "execute_result"
    }
   ],
   "source": [
    "x='G'\n",
    "score = linSpace(x,score)\n",
    "score"
   ]
  },
  {
   "cell_type": "code",
   "execution_count": 310,
   "metadata": {
    "ExecuteTime": {
     "end_time": "2020-10-02T05:57:07.901102Z",
     "start_time": "2020-10-02T05:57:07.890104Z"
    }
   },
   "outputs": [
    {
     "data": {
      "text/plain": [
       "array([0, 1, 1, 1, 2, 2, 2])"
      ]
     },
     "execution_count": 310,
     "metadata": {},
     "output_type": "execute_result"
    }
   ],
   "source": [
    "x='G'\n",
    "score = linSpace(x,score)\n",
    "score"
   ]
  },
  {
   "cell_type": "code",
   "execution_count": 311,
   "metadata": {
    "ExecuteTime": {
     "end_time": "2020-10-02T05:57:19.269935Z",
     "start_time": "2020-10-02T05:57:19.259863Z"
    }
   },
   "outputs": [
    {
     "data": {
      "text/plain": [
       "array([0, 2, 2, 2, 2, 3, 3])"
      ]
     },
     "execution_count": 311,
     "metadata": {},
     "output_type": "execute_result"
    }
   ],
   "source": [
    "x='A'\n",
    "score = linSpace(x,score)\n",
    "score"
   ]
  },
  {
   "cell_type": "code",
   "execution_count": 566,
   "metadata": {
    "ExecuteTime": {
     "end_time": "2020-10-05T16:10:20.958247Z",
     "start_time": "2020-10-05T16:10:19.225534Z"
    }
   },
   "outputs": [
    {
     "ename": "TypeError",
     "evalue": "linSpace() missing 1 required positional argument: 'score'",
     "output_type": "error",
     "traceback": [
      "\u001b[0;31m---------------------------------------------------------------------------\u001b[0m",
      "\u001b[0;31mTypeError\u001b[0m                                 Traceback (most recent call last)",
      "\u001b[0;32m<ipython-input-566-a44bc64d3b7e>\u001b[0m in \u001b[0;36m<module>\u001b[0;34m\u001b[0m\n\u001b[1;32m      1\u001b[0m \u001b[0mx\u001b[0m\u001b[0;34m=\u001b[0m\u001b[0;34m'A'\u001b[0m\u001b[0;34m\u001b[0m\u001b[0;34m\u001b[0m\u001b[0m\n\u001b[0;32m----> 2\u001b[0;31m \u001b[0mscore\u001b[0m \u001b[0;34m=\u001b[0m \u001b[0mlinSpace\u001b[0m\u001b[0;34m(\u001b[0m\u001b[0mx\u001b[0m\u001b[0;34m,\u001b[0m\u001b[0mscore\u001b[0m\u001b[0;34m)\u001b[0m\u001b[0;34m\u001b[0m\u001b[0;34m\u001b[0m\u001b[0m\n\u001b[0m\u001b[1;32m      3\u001b[0m \u001b[0mscore\u001b[0m\u001b[0;34m\u001b[0m\u001b[0;34m\u001b[0m\u001b[0m\n",
      "\u001b[0;31mTypeError\u001b[0m: linSpace() missing 1 required positional argument: 'score'"
     ]
    }
   ],
   "source": [
    "x='A'\n",
    "score = linSpace(x,score)\n",
    "score"
   ]
  },
  {
   "cell_type": "code",
   "execution_count": null,
   "metadata": {},
   "outputs": [],
   "source": []
  },
  {
   "cell_type": "code",
   "execution_count": 292,
   "metadata": {
    "ExecuteTime": {
     "end_time": "2020-10-02T05:53:52.367000Z",
     "start_time": "2020-10-02T05:53:52.342090Z"
    }
   },
   "outputs": [
    {
     "name": "stdout",
     "output_type": "stream",
     "text": [
      "1 [0 0 0 0 0 0 0] 1 0 0\n",
      "2 [0 1 0 0 0 0 0] 0 0 1\n",
      "3 [0 1 1 0 0 0 0] 0 0 1\n",
      "4 [0 1 1 1 0 0 0] 0 0 1\n",
      "5 [0 1 1 1 1 0 0] 1 0 1\n",
      "6 [0 1 1 1 1 1 0] 1 0 1\n"
     ]
    },
    {
     "data": {
      "text/plain": [
       "array([0, 1, 1, 1, 1, 1, 1])"
      ]
     },
     "execution_count": 292,
     "metadata": {},
     "output_type": "execute_result"
    }
   ],
   "source": [
    "for i in range(1,n+1):\n",
    "    print(i,score,match[i], score[i], score[i-1])\n",
    "    if x == y[i-1]:\n",
    "        score[i] += 1\n",
    "    else:\n",
    "        score[i] = max(score[i-1], score[i])\n",
    "score"
   ]
  },
  {
   "cell_type": "code",
   "execution_count": 295,
   "metadata": {
    "ExecuteTime": {
     "end_time": "2020-10-02T05:55:09.209583Z",
     "start_time": "2020-10-02T05:55:09.165604Z"
    }
   },
   "outputs": [],
   "source": []
  },
  {
   "cell_type": "code",
   "execution_count": 263,
   "metadata": {
    "ExecuteTime": {
     "end_time": "2020-10-02T05:40:56.996447Z",
     "start_time": "2020-10-02T05:40:56.975439Z"
    }
   },
   "outputs": [
    {
     "name": "stdout",
     "output_type": "stream",
     "text": [
      "1 0 0\n",
      "1 0 1\n",
      "1 0 1\n",
      "2 1 1\n",
      "1 0 2\n",
      "1 0 1\n"
     ]
    },
    {
     "data": {
      "text/plain": [
       "array([0, 1, 1, 1, 2, 1, 1])"
      ]
     },
     "execution_count": 263,
     "metadata": {},
     "output_type": "execute_result"
    }
   ],
   "source": [
    "for i in range(1,n+1):\n",
    "    #print(score[i],match[i],score[i-1],max(score[i],match[i],score[i-1]))\n",
    "    whichMax = np.argmax([score[i-1],match[i],score[i],])\n",
    "    print(score[i],match[i],score[i-1])\n",
    "    if match[i] == 1 and whichMax == 0: \n",
    "        print(i)\n",
    "        score[i] += score[i-1]\n",
    "    else: score[i] += indel    \n",
    "    #left[i] = max(match[i],left[i],left[i-1]) \n",
    "score\n",
    "     "
   ]
  },
  {
   "cell_type": "code",
   "execution_count": null,
   "metadata": {},
   "outputs": [],
   "source": []
  },
  {
   "cell_type": "code",
   "execution_count": null,
   "metadata": {},
   "outputs": [],
   "source": []
  },
  {
   "cell_type": "code",
   "execution_count": null,
   "metadata": {},
   "outputs": [],
   "source": []
  },
  {
   "cell_type": "code",
   "execution_count": null,
   "metadata": {},
   "outputs": [],
   "source": []
  },
  {
   "cell_type": "code",
   "execution_count": 350,
   "metadata": {
    "ExecuteTime": {
     "end_time": "2020-10-02T23:17:33.943688Z",
     "start_time": "2020-10-02T23:17:33.875943Z"
    }
   },
   "outputs": [
    {
     "data": {
      "text/plain": [
       "array([[0., 0., 0., 0., 0., 0., 0.],\n",
       "       [0., 1., 1., 1., 1., 1., 1.],\n",
       "       [0., 1., 1., 1., 2., 2., 2.],\n",
       "       [0., 1., 1., 1., 2., 2., 2.],\n",
       "       [0., 1., 1., 1., 2., 2., 2.],\n",
       "       [0., 1., 1., 1., 2., 3., 3.],\n",
       "       [0., 1., 1., 1., 2., 3., 4.]])"
      ]
     },
     "execution_count": 350,
     "metadata": {},
     "output_type": "execute_result"
    }
   ],
   "source": [
    "x='ACGGAA'\n",
    "y='ATTCAA'\n",
    "m = len(x)\n",
    "n = len(y)\n",
    "Fmatrix = np.zeros((m+1,n+1))\n",
    "\n",
    "## initialize\n",
    "for i in range(1,m+1):\n",
    "    Fmatrix[i,0] += Fmatrix[i-1,0] + 0\n",
    "for j in range(1,n+1):\n",
    "    Fmatrix[0,j] += Fmatrix[0,j-1] + 0\n",
    "\n",
    "##\n",
    "for i in range(1,m+1):\n",
    "    for j in range(1,n+1):\n",
    "        if x[i-1] == y[j-1]:\n",
    "            Fmatrix[i,j] = Fmatrix[i-1,j-1] + 1\n",
    "        else:\n",
    "            mm = Fmatrix[i-1,j-1] + 0\n",
    "            down = Fmatrix[i-1,j] + 0\n",
    "            right = Fmatrix[i,j-1] + 0\n",
    "            Fmatrix[i,j] = max([mm,down,right])\n",
    "            \n",
    "Fmatrix"
   ]
  },
  {
   "cell_type": "code",
   "execution_count": null,
   "metadata": {},
   "outputs": [],
   "source": []
  },
  {
   "cell_type": "code",
   "execution_count": null,
   "metadata": {},
   "outputs": [],
   "source": []
  },
  {
   "cell_type": "code",
   "execution_count": 600,
   "metadata": {
    "ExecuteTime": {
     "end_time": "2020-10-05T16:26:00.500972Z",
     "start_time": "2020-10-05T16:26:00.480775Z"
    }
   },
   "outputs": [],
   "source": [
    "\n",
    "def linSpaceAlignOcFiv(residue,y,updatedScore,nullScore,match=1,indel=0,mismatch=0,j=0,verbose=False):    \n",
    "    \n",
    "    n = len(y)\n",
    "\n",
    "    updatedScore = [nullScore[j]] + updatedScore\n",
    "    prevScore = updatedScore.copy()\n",
    "\n",
    "    #(prevScore,updatedScore)\n",
    "\n",
    "    for i in range(1,n+1):\n",
    "        if residue == y[i-1]:\n",
    "            if verbose: print(i, 'match',y[i-1], prevScore,updatedScore)\n",
    "            updatedScore[i] = prevScore[i-1] + match\n",
    "        else:\n",
    "            if verbose: print(i,'no match', y[i-1], prevScore,updatedScore,'choose',\n",
    "                                  updatedScore[i-1],\n",
    "                                  updatedScore[i],prevScore[i-1])\n",
    "            updatedScore[i] = max(updatedScore[i-1] + indel, #Up\n",
    "                                  updatedScore[i] + indel, #Left\n",
    "                                  prevScore[i-1] + mismatch) #Mismatch\n",
    "        if verbose: print(updatedScore,\"\\n----\")\n",
    "    return updatedScore[1:]"
   ]
  },
  {
   "cell_type": "code",
   "execution_count": 627,
   "metadata": {
    "ExecuteTime": {
     "end_time": "2020-10-05T16:34:27.245363Z",
     "start_time": "2020-10-05T16:34:27.205858Z"
    }
   },
   "outputs": [
    {
     "name": "stdout",
     "output_type": "stream",
     "text": [
      "[1, 1, 1, 1, 1, 1]\n",
      "[1, 1, 1, 2, 2, 2]\n",
      "[1, 1, 1, 2, 2, 2]\n",
      "[1, 1, 1, 2, 2, 2]\n",
      "[1, 1, 1, 2, 3, 3]\n"
     ]
    }
   ],
   "source": [
    "score = list(np.cumsum([indel for _ in y]))\n",
    "nullScore = list(np.cumsum([0] + [indel for _ in x]))\n",
    "\n",
    "\n",
    "A0=linSpaceAlignOcFiv('A',y,score,nullScore,verbose=False)\n",
    "print(A0)\n",
    "C1=linSpaceAlignOcFiv('C',y,A0,nullScore,verbose=False)\n",
    "print(C1)\n",
    "G34 = linSpaceAlignOcFiv('G',y,C1,nullScore,verbose=False)\n",
    "print(G34)\n",
    "print(G34)\n",
    "A5 = linSpaceAlignOcFiv('A',y,G34,nullScore,verbose=False)\n",
    "print(A5)"
   ]
  },
  {
   "cell_type": "code",
   "execution_count": 628,
   "metadata": {
    "ExecuteTime": {
     "end_time": "2020-10-05T16:34:37.519276Z",
     "start_time": "2020-10-05T16:34:37.467141Z"
    }
   },
   "outputs": [
    {
     "data": {
      "text/html": [
       "<div>\n",
       "<style scoped>\n",
       "    .dataframe tbody tr th:only-of-type {\n",
       "        vertical-align: middle;\n",
       "    }\n",
       "\n",
       "    .dataframe tbody tr th {\n",
       "        vertical-align: top;\n",
       "    }\n",
       "\n",
       "    .dataframe thead th {\n",
       "        text-align: right;\n",
       "    }\n",
       "</style>\n",
       "<table border=\"1\" class=\"dataframe\">\n",
       "  <thead>\n",
       "    <tr style=\"text-align: right;\">\n",
       "      <th></th>\n",
       "      <th>0</th>\n",
       "      <th>1</th>\n",
       "      <th>2</th>\n",
       "      <th>3</th>\n",
       "      <th>4</th>\n",
       "      <th>5</th>\n",
       "      <th>6</th>\n",
       "    </tr>\n",
       "  </thead>\n",
       "  <tbody>\n",
       "    <tr>\n",
       "      <th>0</th>\n",
       "      <td>0</td>\n",
       "      <td>1</td>\n",
       "      <td>1</td>\n",
       "      <td>1</td>\n",
       "      <td>1</td>\n",
       "      <td>1</td>\n",
       "      <td>1</td>\n",
       "    </tr>\n",
       "    <tr>\n",
       "      <th>1</th>\n",
       "      <td>0</td>\n",
       "      <td>1</td>\n",
       "      <td>1</td>\n",
       "      <td>1</td>\n",
       "      <td>1</td>\n",
       "      <td>1</td>\n",
       "      <td>1</td>\n",
       "    </tr>\n",
       "    <tr>\n",
       "      <th>2</th>\n",
       "      <td>0</td>\n",
       "      <td>1</td>\n",
       "      <td>1</td>\n",
       "      <td>1</td>\n",
       "      <td>1</td>\n",
       "      <td>1</td>\n",
       "      <td>1</td>\n",
       "    </tr>\n",
       "    <tr>\n",
       "      <th>3</th>\n",
       "      <td>0</td>\n",
       "      <td>1</td>\n",
       "      <td>2</td>\n",
       "      <td>2</td>\n",
       "      <td>2</td>\n",
       "      <td>2</td>\n",
       "      <td>2</td>\n",
       "    </tr>\n",
       "    <tr>\n",
       "      <th>4</th>\n",
       "      <td>0</td>\n",
       "      <td>1</td>\n",
       "      <td>2</td>\n",
       "      <td>2</td>\n",
       "      <td>2</td>\n",
       "      <td>3</td>\n",
       "      <td>3</td>\n",
       "    </tr>\n",
       "    <tr>\n",
       "      <th>5</th>\n",
       "      <td>0</td>\n",
       "      <td>1</td>\n",
       "      <td>2</td>\n",
       "      <td>2</td>\n",
       "      <td>2</td>\n",
       "      <td>3</td>\n",
       "      <td>4</td>\n",
       "    </tr>\n",
       "  </tbody>\n",
       "</table>\n",
       "</div>"
      ],
      "text/plain": [
       "   0  1  2  3  4  5  6\n",
       "0  0  1  1  1  1  1  1\n",
       "1  0  1  1  1  1  1  1\n",
       "2  0  1  1  1  1  1  1\n",
       "3  0  1  2  2  2  2  2\n",
       "4  0  1  2  2  2  3  3\n",
       "5  0  1  2  2  2  3  4"
      ]
     },
     "execution_count": 628,
     "metadata": {},
     "output_type": "execute_result"
    }
   ],
   "source": [
    "score = list(np.cumsum([indel for _ in y]))\n",
    "nullScore = list(np.cumsum([0] + [indel for _ in x]))\n",
    "\n",
    "dScores = {0:score}\n",
    "for i in range(1,len(x)+1):\n",
    "    dScores[i] = linSpaceAlignOcFiv(x[i-1],y,dScores[i-1],nullScore,verbose=False,j=i-1)\n",
    "\n",
    "pd.DataFrame.from_dict(dScores.values()).T"
   ]
  },
  {
   "cell_type": "code",
   "execution_count": 599,
   "metadata": {
    "ExecuteTime": {
     "end_time": "2020-10-05T16:25:20.517862Z",
     "start_time": "2020-10-05T16:25:20.447766Z"
    }
   },
   "outputs": [
    {
     "ename": "IndexError",
     "evalue": "list assignment index out of range",
     "output_type": "error",
     "traceback": [
      "\u001b[0;31m---------------------------------------------------------------------------\u001b[0m",
      "\u001b[0;31mIndexError\u001b[0m                                Traceback (most recent call last)",
      "\u001b[0;32m<ipython-input-599-fef4f06e537c>\u001b[0m in \u001b[0;36m<module>\u001b[0;34m\u001b[0m\n\u001b[1;32m      1\u001b[0m \u001b[0mupdatedScore\u001b[0m \u001b[0;34m=\u001b[0m \u001b[0mlist\u001b[0m\u001b[0;34m(\u001b[0m\u001b[0mnp\u001b[0m\u001b[0;34m.\u001b[0m\u001b[0mcumsum\u001b[0m\u001b[0;34m(\u001b[0m\u001b[0;34m[\u001b[0m\u001b[0;36m0\u001b[0m\u001b[0;34m]\u001b[0m \u001b[0;34m+\u001b[0m \u001b[0;34m[\u001b[0m\u001b[0mindel\u001b[0m \u001b[0;32mfor\u001b[0m \u001b[0m_\u001b[0m \u001b[0;32min\u001b[0m \u001b[0my\u001b[0m\u001b[0;34m]\u001b[0m\u001b[0;34m)\u001b[0m\u001b[0;34m)\u001b[0m\u001b[0;34m\u001b[0m\u001b[0;34m\u001b[0m\u001b[0m\n\u001b[1;32m      2\u001b[0m \u001b[0mnullScore\u001b[0m \u001b[0;34m=\u001b[0m \u001b[0mlist\u001b[0m\u001b[0;34m(\u001b[0m\u001b[0mnp\u001b[0m\u001b[0;34m.\u001b[0m\u001b[0mcumsum\u001b[0m\u001b[0;34m(\u001b[0m\u001b[0;34m[\u001b[0m\u001b[0;36m0\u001b[0m\u001b[0;34m]\u001b[0m \u001b[0;34m+\u001b[0m \u001b[0;34m[\u001b[0m\u001b[0mindel\u001b[0m \u001b[0;32mfor\u001b[0m \u001b[0m_\u001b[0m \u001b[0;32min\u001b[0m \u001b[0mx\u001b[0m\u001b[0;34m]\u001b[0m\u001b[0;34m)\u001b[0m\u001b[0;34m)\u001b[0m\u001b[0;34m\u001b[0m\u001b[0;34m\u001b[0m\u001b[0m\n\u001b[0;32m----> 3\u001b[0;31m \u001b[0mlinSpaceAlignOcFiv\u001b[0m\u001b[0;34m(\u001b[0m\u001b[0;34m'A'\u001b[0m\u001b[0;34m,\u001b[0m\u001b[0my\u001b[0m\u001b[0;34m,\u001b[0m\u001b[0mA0\u001b[0m\u001b[0;34m,\u001b[0m\u001b[0mnullScore\u001b[0m\u001b[0;34m)\u001b[0m\u001b[0;34m\u001b[0m\u001b[0;34m\u001b[0m\u001b[0m\n\u001b[0m",
      "\u001b[0;32m<ipython-input-595-488bc0f9c906>\u001b[0m in \u001b[0;36mlinSpaceAlignOcFiv\u001b[0;34m(residue, y, updatedScore, nullScore, match, indel, mismatch, j, verbose)\u001b[0m\n\u001b[1;32m     11\u001b[0m         \u001b[0;32mif\u001b[0m \u001b[0mresidue\u001b[0m \u001b[0;34m==\u001b[0m \u001b[0my\u001b[0m\u001b[0;34m[\u001b[0m\u001b[0mi\u001b[0m\u001b[0;34m-\u001b[0m\u001b[0;36m1\u001b[0m\u001b[0;34m]\u001b[0m\u001b[0;34m:\u001b[0m\u001b[0;34m\u001b[0m\u001b[0;34m\u001b[0m\u001b[0m\n\u001b[1;32m     12\u001b[0m             \u001b[0;32mif\u001b[0m \u001b[0mverbose\u001b[0m\u001b[0;34m:\u001b[0m \u001b[0mprint\u001b[0m\u001b[0;34m(\u001b[0m\u001b[0mi\u001b[0m\u001b[0;34m,\u001b[0m \u001b[0;34m'match'\u001b[0m\u001b[0;34m,\u001b[0m\u001b[0my\u001b[0m\u001b[0;34m[\u001b[0m\u001b[0mi\u001b[0m\u001b[0;34m-\u001b[0m\u001b[0;36m1\u001b[0m\u001b[0;34m]\u001b[0m\u001b[0;34m,\u001b[0m \u001b[0mprevScore\u001b[0m\u001b[0;34m,\u001b[0m\u001b[0mupdatedScore\u001b[0m\u001b[0;34m)\u001b[0m\u001b[0;34m\u001b[0m\u001b[0;34m\u001b[0m\u001b[0m\n\u001b[0;32m---> 13\u001b[0;31m             \u001b[0mupdatedScore\u001b[0m\u001b[0;34m[\u001b[0m\u001b[0mi\u001b[0m\u001b[0;34m]\u001b[0m \u001b[0;34m=\u001b[0m \u001b[0mprevScore\u001b[0m\u001b[0;34m[\u001b[0m\u001b[0mi\u001b[0m\u001b[0;34m-\u001b[0m\u001b[0;36m1\u001b[0m\u001b[0;34m]\u001b[0m \u001b[0;34m+\u001b[0m \u001b[0mmatch\u001b[0m\u001b[0;34m\u001b[0m\u001b[0;34m\u001b[0m\u001b[0m\n\u001b[0m\u001b[1;32m     14\u001b[0m         \u001b[0;32melse\u001b[0m\u001b[0;34m:\u001b[0m\u001b[0;34m\u001b[0m\u001b[0;34m\u001b[0m\u001b[0m\n\u001b[1;32m     15\u001b[0m             if verbose: print(i,'no match', y[i-1], prevScore,updatedScore,'choose',\n",
      "\u001b[0;31mIndexError\u001b[0m: list assignment index out of range"
     ]
    }
   ],
   "source": [
    "updatedScore = list(np.cumsum([0] + [indel for _ in y]))\n",
    "nullScore = list(np.cumsum([0] + [indel for _ in x]))\n",
    "linSpaceAlignOcFiv('A',y,A0,nullScore)"
   ]
  },
  {
   "cell_type": "code",
   "execution_count": 570,
   "metadata": {
    "ExecuteTime": {
     "end_time": "2020-10-05T16:14:50.285546Z",
     "start_time": "2020-10-05T16:14:50.216913Z"
    }
   },
   "outputs": [
    {
     "data": {
      "text/plain": [
       "([0, 0, 0, 0, 0, 0, 0], [0, 0, 0, 0, 0, 0])"
      ]
     },
     "execution_count": 570,
     "metadata": {},
     "output_type": "execute_result"
    }
   ],
   "source": [
    "x='ACGGAA'\n",
    "y='ATTCAA'\n",
    "indel = 0\n",
    "score = list(np.cumsum([indel for _ in y]))\n",
    "n = len(y)\n",
    "### top row on the initialization F-matrix. Cumulative sum of indels \n",
    "nullScore = list(np.cumsum([0] + [indel for _ in x]))\n",
    "(nullScore,score)"
   ]
  },
  {
   "cell_type": "code",
   "execution_count": 571,
   "metadata": {
    "ExecuteTime": {
     "end_time": "2020-10-05T16:14:52.067314Z",
     "start_time": "2020-10-05T16:14:52.056198Z"
    }
   },
   "outputs": [
    {
     "data": {
      "text/plain": [
       "([0, 0, 0, 0, 0, 0, 0], [0, 0, 0, 0, 0, 0, 0])"
      ]
     },
     "execution_count": 571,
     "metadata": {},
     "output_type": "execute_result"
    }
   ],
   "source": [
    "updatedScore = [nullScore[0]] + score\n",
    "prevScore = updatedScore.copy()\n",
    "\n",
    "(prevScore,updatedScore)"
   ]
  },
  {
   "cell_type": "code",
   "execution_count": 572,
   "metadata": {
    "ExecuteTime": {
     "end_time": "2020-10-05T16:15:12.958435Z",
     "start_time": "2020-10-05T16:15:12.926636Z"
    }
   },
   "outputs": [
    {
     "name": "stdout",
     "output_type": "stream",
     "text": [
      "1 match A [0, 0, 0, 0, 0, 0, 0] [0, 0, 0, 0, 0, 0, 0]\n",
      "[0, 1, 0, 0, 0, 0, 0] \n",
      "----\n",
      "2 no match T [0, 0, 0, 0, 0, 0, 0] [0, 1, 0, 0, 0, 0, 0] choose 1 0 0\n",
      "[0, 1, 1, 0, 0, 0, 0] \n",
      "----\n",
      "3 no match T [0, 0, 0, 0, 0, 0, 0] [0, 1, 1, 0, 0, 0, 0] choose 1 0 0\n",
      "[0, 1, 1, 1, 0, 0, 0] \n",
      "----\n",
      "4 no match C [0, 0, 0, 0, 0, 0, 0] [0, 1, 1, 1, 0, 0, 0] choose 1 0 0\n",
      "[0, 1, 1, 1, 1, 0, 0] \n",
      "----\n",
      "5 match A [0, 0, 0, 0, 0, 0, 0] [0, 1, 1, 1, 1, 0, 0]\n",
      "[0, 1, 1, 1, 1, 1, 0] \n",
      "----\n",
      "6 match A [0, 0, 0, 0, 0, 0, 0] [0, 1, 1, 1, 1, 1, 0]\n",
      "[0, 1, 1, 1, 1, 1, 1] \n",
      "----\n"
     ]
    },
    {
     "data": {
      "text/plain": [
       "[0, 1, 1, 1, 1, 1, 1]"
      ]
     },
     "execution_count": 572,
     "metadata": {},
     "output_type": "execute_result"
    }
   ],
   "source": [
    "residue = 'A'\n",
    "for i in range(1,n+1):\n",
    "    if residue == y[i-1]:\n",
    "        print(i, 'match',y[i-1], prevScore,updatedScore)\n",
    "        updatedScore[i] = prevScore[i-1] + 1\n",
    "    else:\n",
    "        print(i,'no match', y[i-1], prevScore,updatedScore,'choose',\n",
    "                              updatedScore[i-1],\n",
    "                              updatedScore[i],prevScore[i-1])\n",
    "\n",
    "        updatedScore[i] = max(updatedScore[i-1] + indel, #Up\n",
    "                              updatedScore[i] + indel, #Left\n",
    "                              prevScore[i-1]) #Mismatch\n",
    "    print(updatedScore,\"\\n----\")\n",
    "updatedScore"
   ]
  },
  {
   "cell_type": "code",
   "execution_count": 579,
   "metadata": {
    "ExecuteTime": {
     "end_time": "2020-10-05T16:17:45.123911Z",
     "start_time": "2020-10-05T16:17:45.093515Z"
    }
   },
   "outputs": [
    {
     "name": "stdout",
     "output_type": "stream",
     "text": [
      "1 match A [0, 1, 1, 1, 2, 3, 3] [0, 1, 1, 1, 2, 3, 3]\n",
      "[0, 1, 1, 1, 2, 3, 3] \n",
      "----\n",
      "2 no match T [0, 1, 1, 1, 2, 3, 3] [0, 1, 1, 1, 2, 3, 3] choose 1 1 1\n",
      "[0, 1, 1, 1, 2, 3, 3] \n",
      "----\n",
      "3 no match T [0, 1, 1, 1, 2, 3, 3] [0, 1, 1, 1, 2, 3, 3] choose 1 1 1\n",
      "[0, 1, 1, 1, 2, 3, 3] \n",
      "----\n",
      "4 no match C [0, 1, 1, 1, 2, 3, 3] [0, 1, 1, 1, 2, 3, 3] choose 1 2 1\n",
      "[0, 1, 1, 1, 2, 3, 3] \n",
      "----\n",
      "5 match A [0, 1, 1, 1, 2, 3, 3] [0, 1, 1, 1, 2, 3, 3]\n",
      "[0, 1, 1, 1, 2, 3, 3] \n",
      "----\n",
      "6 match A [0, 1, 1, 1, 2, 3, 3] [0, 1, 1, 1, 2, 3, 3]\n",
      "[0, 1, 1, 1, 2, 3, 4] \n",
      "----\n"
     ]
    },
    {
     "data": {
      "text/plain": [
       "[0, 1, 1, 1, 2, 3, 4]"
      ]
     },
     "execution_count": 579,
     "metadata": {},
     "output_type": "execute_result"
    }
   ],
   "source": [
    "updatedScore = [nullScore[0]] + updatedScore[1:]\n",
    "prevScore = updatedScore.copy()\n",
    "\n",
    "(prevScore,updatedScore)\n",
    "\n",
    "residue = 'A'\n",
    "for i in range(1,n+1):\n",
    "    if residue == y[i-1]:\n",
    "        print(i, 'match',y[i-1], prevScore,updatedScore)\n",
    "        updatedScore[i] = prevScore[i-1] + 1\n",
    "    else:\n",
    "        print(i,'no match', y[i-1], prevScore,updatedScore,'choose',\n",
    "                              updatedScore[i-1],\n",
    "                              updatedScore[i],prevScore[i-1])\n",
    "\n",
    "        updatedScore[i] = max(updatedScore[i-1] + indel, #Up\n",
    "                              updatedScore[i] + indel, #Left\n",
    "                              prevScore[i-1]) #Mismatch\n",
    "    print(updatedScore,\"\\n----\")\n",
    "updatedScore"
   ]
  },
  {
   "cell_type": "code",
   "execution_count": null,
   "metadata": {},
   "outputs": [],
   "source": []
  },
  {
   "cell_type": "code",
   "execution_count": null,
   "metadata": {},
   "outputs": [],
   "source": []
  },
  {
   "cell_type": "code",
   "execution_count": null,
   "metadata": {},
   "outputs": [],
   "source": []
  },
  {
   "cell_type": "code",
   "execution_count": 517,
   "metadata": {
    "ExecuteTime": {
     "end_time": "2020-10-03T01:00:21.925460Z",
     "start_time": "2020-10-03T01:00:21.914348Z"
    }
   },
   "outputs": [
    {
     "name": "stdout",
     "output_type": "stream",
     "text": [
      "[-1, 1, 0, -1, -2, -3, -4]\n",
      "[-1, 1, 0, -1, -2, -3, -4]\n"
     ]
    }
   ],
   "source": [
    "updatedScore = [nullScore[1]] + updatedScore[1:]\n",
    "prevScore = updatedScore.copy()\n",
    "\n",
    "print(prevScore)\n",
    "print(updatedScore)"
   ]
  },
  {
   "cell_type": "code",
   "execution_count": 565,
   "metadata": {
    "ExecuteTime": {
     "end_time": "2020-10-05T02:08:35.623508Z",
     "start_time": "2020-10-05T02:08:35.570038Z"
    }
   },
   "outputs": [
    {
     "name": "stdout",
     "output_type": "stream",
     "text": [
      "A\n",
      "1 match A [0, 0, 0, 0, 0, 0, 0] [0, 0, 0, 0, 0, 0, 0]\n",
      "[0, 1, 0, 0, 0, 0, 0] \n",
      "----\n",
      "2 no match T [0, 0, 0, 0, 0, 0, 0] [0, 1, 0, 0, 0, 0, 0] choose 1 0 0\n",
      "[0, 1, 1, 0, 0, 0, 0] \n",
      "----\n",
      "3 no match T [0, 0, 0, 0, 0, 0, 0] [0, 1, 1, 0, 0, 0, 0] choose 1 0 0\n",
      "[0, 1, 1, 1, 0, 0, 0] \n",
      "----\n",
      "4 no match C [0, 0, 0, 0, 0, 0, 0] [0, 1, 1, 1, 0, 0, 0] choose 1 0 0\n",
      "[0, 1, 1, 1, 1, 0, 0] \n",
      "----\n",
      "5 match A [0, 0, 0, 0, 0, 0, 0] [0, 1, 1, 1, 1, 0, 0]\n",
      "[0, 1, 1, 1, 1, 1, 0] \n",
      "----\n",
      "6 match A [0, 0, 0, 0, 0, 0, 0] [0, 1, 1, 1, 1, 1, 0]\n",
      "[0, 1, 1, 1, 1, 1, 1] \n",
      "----\n",
      "C\n",
      "1 no match A [0, 1, 1, 1, 1, 1, 1] [0, 1, 1, 1, 1, 1, 1] choose 0 1 0\n",
      "[0, 1, 1, 1, 1, 1, 1] \n",
      "----\n",
      "2 no match T [0, 1, 1, 1, 1, 1, 1] [0, 1, 1, 1, 1, 1, 1] choose 1 1 1\n",
      "[0, 1, 1, 1, 1, 1, 1] \n",
      "----\n",
      "3 no match T [0, 1, 1, 1, 1, 1, 1] [0, 1, 1, 1, 1, 1, 1] choose 1 1 1\n",
      "[0, 1, 1, 1, 1, 1, 1] \n",
      "----\n",
      "4 match C [0, 1, 1, 1, 1, 1, 1] [0, 1, 1, 1, 1, 1, 1]\n",
      "[0, 1, 1, 1, 2, 1, 1] \n",
      "----\n",
      "5 no match A [0, 1, 1, 1, 1, 1, 1] [0, 1, 1, 1, 2, 1, 1] choose 2 1 1\n",
      "[0, 1, 1, 1, 2, 2, 1] \n",
      "----\n",
      "6 no match A [0, 1, 1, 1, 1, 1, 1] [0, 1, 1, 1, 2, 2, 1] choose 2 1 1\n",
      "[0, 1, 1, 1, 2, 2, 2] \n",
      "----\n",
      "G\n",
      "1 no match A [0, 1, 1, 1, 2, 2, 2] [0, 1, 1, 1, 2, 2, 2] choose 0 1 0\n",
      "[0, 1, 1, 1, 2, 2, 2] \n",
      "----\n",
      "2 no match T [0, 1, 1, 1, 2, 2, 2] [0, 1, 1, 1, 2, 2, 2] choose 1 1 1\n",
      "[0, 1, 1, 1, 2, 2, 2] \n",
      "----\n",
      "3 no match T [0, 1, 1, 1, 2, 2, 2] [0, 1, 1, 1, 2, 2, 2] choose 1 1 1\n",
      "[0, 1, 1, 1, 2, 2, 2] \n",
      "----\n",
      "4 no match C [0, 1, 1, 1, 2, 2, 2] [0, 1, 1, 1, 2, 2, 2] choose 1 2 1\n",
      "[0, 1, 1, 1, 2, 2, 2] \n",
      "----\n",
      "5 no match A [0, 1, 1, 1, 2, 2, 2] [0, 1, 1, 1, 2, 2, 2] choose 2 2 2\n",
      "[0, 1, 1, 1, 2, 2, 2] \n",
      "----\n",
      "6 no match A [0, 1, 1, 1, 2, 2, 2] [0, 1, 1, 1, 2, 2, 2] choose 2 2 2\n",
      "[0, 1, 1, 1, 2, 2, 2] \n",
      "----\n",
      "G\n",
      "1 no match A [0, 1, 1, 1, 2, 2, 2] [0, 1, 1, 1, 2, 2, 2] choose 0 1 0\n",
      "[0, 1, 1, 1, 2, 2, 2] \n",
      "----\n",
      "2 no match T [0, 1, 1, 1, 2, 2, 2] [0, 1, 1, 1, 2, 2, 2] choose 1 1 1\n",
      "[0, 1, 1, 1, 2, 2, 2] \n",
      "----\n",
      "3 no match T [0, 1, 1, 1, 2, 2, 2] [0, 1, 1, 1, 2, 2, 2] choose 1 1 1\n",
      "[0, 1, 1, 1, 2, 2, 2] \n",
      "----\n",
      "4 no match C [0, 1, 1, 1, 2, 2, 2] [0, 1, 1, 1, 2, 2, 2] choose 1 2 1\n",
      "[0, 1, 1, 1, 2, 2, 2] \n",
      "----\n",
      "5 no match A [0, 1, 1, 1, 2, 2, 2] [0, 1, 1, 1, 2, 2, 2] choose 2 2 2\n",
      "[0, 1, 1, 1, 2, 2, 2] \n",
      "----\n",
      "6 no match A [0, 1, 1, 1, 2, 2, 2] [0, 1, 1, 1, 2, 2, 2] choose 2 2 2\n",
      "[0, 1, 1, 1, 2, 2, 2] \n",
      "----\n",
      "A\n",
      "1 match A [0, 1, 1, 1, 2, 2, 2] [0, 1, 1, 1, 2, 2, 2]\n",
      "[0, 1, 1, 1, 2, 2, 2] \n",
      "----\n",
      "2 no match T [0, 1, 1, 1, 2, 2, 2] [0, 1, 1, 1, 2, 2, 2] choose 1 1 1\n",
      "[0, 1, 1, 1, 2, 2, 2] \n",
      "----\n",
      "3 no match T [0, 1, 1, 1, 2, 2, 2] [0, 1, 1, 1, 2, 2, 2] choose 1 1 1\n",
      "[0, 1, 1, 1, 2, 2, 2] \n",
      "----\n",
      "4 no match C [0, 1, 1, 1, 2, 2, 2] [0, 1, 1, 1, 2, 2, 2] choose 1 2 1\n",
      "[0, 1, 1, 1, 2, 2, 2] \n",
      "----\n",
      "5 match A [0, 1, 1, 1, 2, 2, 2] [0, 1, 1, 1, 2, 2, 2]\n",
      "[0, 1, 1, 1, 2, 3, 2] \n",
      "----\n",
      "6 match A [0, 1, 1, 1, 2, 2, 2] [0, 1, 1, 1, 2, 3, 2]\n",
      "[0, 1, 1, 1, 2, 3, 3] \n",
      "----\n",
      "A\n",
      "1 match A [0, 1, 1, 1, 2, 3, 3] [0, 1, 1, 1, 2, 3, 3]\n",
      "[0, 1, 1, 1, 2, 3, 3] \n",
      "----\n",
      "2 no match T [0, 1, 1, 1, 2, 3, 3] [0, 1, 1, 1, 2, 3, 3] choose 1 1 1\n",
      "[0, 1, 1, 1, 2, 3, 3] \n",
      "----\n",
      "3 no match T [0, 1, 1, 1, 2, 3, 3] [0, 1, 1, 1, 2, 3, 3] choose 1 1 1\n",
      "[0, 1, 1, 1, 2, 3, 3] \n",
      "----\n",
      "4 no match C [0, 1, 1, 1, 2, 3, 3] [0, 1, 1, 1, 2, 3, 3] choose 1 2 1\n",
      "[0, 1, 1, 1, 2, 3, 3] \n",
      "----\n",
      "5 match A [0, 1, 1, 1, 2, 3, 3] [0, 1, 1, 1, 2, 3, 3]\n",
      "[0, 1, 1, 1, 2, 3, 3] \n",
      "----\n",
      "6 match A [0, 1, 1, 1, 2, 3, 3] [0, 1, 1, 1, 2, 3, 3]\n",
      "[0, 1, 1, 1, 2, 3, 4] \n",
      "----\n",
      "final [0, 1, 1, 1, 2, 3, 4]\n"
     ]
    }
   ],
   "source": [
    "x='ACGGAA'\n",
    "y='ATTCAA'\n",
    "indel = 0\n",
    "score = list(np.cumsum([indel for _ in y]))\n",
    "n = len(y)\n",
    "\n",
    "### top row on the initialization F-matrix. Cumulative sum of indels starting at 0, with length m + 1. \n",
    "nullScore = list(np.cumsum([0] + [indel for _ in x]))\n",
    "(nullScore,score)\n",
    "\n",
    "\n",
    "#### Initialize\n",
    "updatedScore = [nullScore[0]] + score\n",
    "prevScore = updatedScore.copy()\n",
    "\n",
    "for j,residue in enumerate(x):\n",
    "    updatedScore = [nullScore[j]] + updatedScore[1:]\n",
    "    prevScore = updatedScore.copy()\n",
    "    print(residue)\n",
    "    for i in range(1,n+1):\n",
    "        if residue == y[i-1]:\n",
    "            print(i, 'match',y[i-1], prevScore,updatedScore)\n",
    "            updatedScore[i] = prevScore[i-1] + 1\n",
    "        else:\n",
    "            print(i,'no match', y[i-1], prevScore,updatedScore,'choose',\n",
    "                                  updatedScore[i-1],\n",
    "                                  updatedScore[i],prevScore[i-1])\n",
    "\n",
    "            updatedScore[i] = max(updatedScore[i-1] + indel, #Up,\n",
    "                                  updatedScore[i] + indel, #Left,\n",
    "                                  prevScore[i-1]) #Mismatch\n",
    "        print(updatedScore,\"\\n----\")\n",
    "\n",
    "finalScore = [nullScore[j+1]] + updatedScore[1:]\n",
    "print('final',finalScore)"
   ]
  },
  {
   "cell_type": "code",
   "execution_count": 529,
   "metadata": {
    "ExecuteTime": {
     "end_time": "2020-10-05T01:24:12.365916Z",
     "start_time": "2020-10-05T01:24:12.296158Z"
    }
   },
   "outputs": [
    {
     "name": "stdout",
     "output_type": "stream",
     "text": [
      "1 match A [0, 0, 0, 0, 0, 0, 0] [0, 0, 0, 0, 0, 0, 0]\n",
      "2 no match T [0, 0, 0, 0, 0, 0, 0] [0, 1, 0, 0, 0, 0, 0] choose 1 0 0\n",
      "3 no match T [0, 0, 0, 0, 0, 0, 0] [0, 1, 1, 0, 0, 0, 0] choose 1 0 0\n",
      "4 no match C [0, 0, 0, 0, 0, 0, 0] [0, 1, 1, 1, 0, 0, 0] choose 1 0 0\n",
      "5 match A [0, 0, 0, 0, 0, 0, 0] [0, 1, 1, 1, 1, 0, 0]\n",
      "6 match A [0, 0, 0, 0, 0, 0, 0] [0, 1, 1, 1, 1, 1, 0]\n"
     ]
    },
    {
     "data": {
      "text/plain": [
       "([0, 1, 1, 1, 1, 1, 1], [0, 1, 1, 1, 1, 1, 1])"
      ]
     },
     "execution_count": 529,
     "metadata": {},
     "output_type": "execute_result"
    }
   ],
   "source": [
    "indel =0 \n",
    "n = len(y)\n",
    "nullScore = list(np.cumsum([0] + [indel for _ in x]))\n",
    "score = list(np.cumsum([indel for _ in y]))\n",
    "\n",
    "\n",
    "updatedScore = [nullScore[0]] + score\n",
    "prevScore = updatedScore.copy()\n",
    "    \n",
    "residue = 'A'\n",
    "for i in range(1,n+1):\n",
    "    if residue == y[i-1]:\n",
    "        print(i, 'match',y[i-1], prevScore,updatedScore)\n",
    "        updatedScore[i] = prevScore[i-1] + 1\n",
    "    else:\n",
    "        print(i,'no match', y[i-1], prevScore,updatedScore,'choose',\n",
    "                              updatedScore[i-1],\n",
    "                              updatedScore[i],prevScore[i-1])\n",
    "\n",
    "        updatedScore[i] = max(updatedScore[i-1] + indel, #Up,\n",
    "                              updatedScore[i] + indel, #Left,\n",
    "                              prevScore[i-1]) #Mismatch\n",
    "        \n",
    "updatedScore = [nullScore[j]] + updatedScore[1:]\n",
    "prevScore = updatedScore.copy()\n",
    "(updatedScore,prevScore)"
   ]
  },
  {
   "cell_type": "code",
   "execution_count": 563,
   "metadata": {
    "ExecuteTime": {
     "end_time": "2020-10-05T02:07:21.330405Z",
     "start_time": "2020-10-05T02:07:21.284636Z"
    }
   },
   "outputs": [
    {
     "name": "stdout",
     "output_type": "stream",
     "text": [
      "1 match A [0, 0, 0, 0, 0, 0, 0] [0, 0, 0, 0, 0, 0, 0]\n",
      "2 no match T [0, 0, 0, 0, 0, 0, 0] [0, 1, 0, 0, 0, 0, 0] choose 1 0 0\n",
      "3 no match T [0, 0, 0, 0, 0, 0, 0] [0, 1, 1, 0, 0, 0, 0] choose 1 0 0\n",
      "4 no match C [0, 0, 0, 0, 0, 0, 0] [0, 1, 1, 1, 0, 0, 0] choose 1 0 0\n",
      "5 match A [0, 0, 0, 0, 0, 0, 0] [0, 1, 1, 1, 1, 0, 0]\n",
      "6 match A [0, 0, 0, 0, 0, 0, 0] [0, 1, 1, 1, 1, 1, 0]\n",
      "1 no match A [0, 1, 1, 1, 1, 1, 1] [0, 1, 1, 1, 1, 1, 1] choose 0 1 0\n",
      "2 no match T [0, 1, 1, 1, 1, 1, 1] [0, 1, 1, 1, 1, 1, 1] choose 1 1 1\n",
      "3 no match T [0, 1, 1, 1, 1, 1, 1] [0, 1, 1, 1, 1, 1, 1] choose 1 1 1\n",
      "4 match C [0, 1, 1, 1, 1, 1, 1] [0, 1, 1, 1, 1, 1, 1]\n",
      "5 no match A [0, 1, 1, 1, 1, 1, 1] [0, 1, 1, 1, 2, 1, 1] choose 2 1 1\n",
      "6 no match A [0, 1, 1, 1, 1, 1, 1] [0, 1, 1, 1, 2, 2, 1] choose 2 1 1\n",
      "1 no match A [0, 1, 1, 1, 2, 2, 2] [0, 1, 1, 1, 2, 2, 2] choose 0 1 0\n",
      "2 no match T [0, 1, 1, 1, 2, 2, 2] [0, 1, 1, 1, 2, 2, 2] choose 1 1 1\n",
      "3 no match T [0, 1, 1, 1, 2, 2, 2] [0, 1, 1, 1, 2, 2, 2] choose 1 1 1\n",
      "4 no match C [0, 1, 1, 1, 2, 2, 2] [0, 1, 1, 1, 2, 2, 2] choose 1 2 1\n",
      "5 no match A [0, 1, 1, 1, 2, 2, 2] [0, 1, 1, 1, 2, 2, 2] choose 2 2 2\n",
      "6 no match A [0, 1, 1, 1, 2, 2, 2] [0, 1, 1, 1, 2, 2, 2] choose 2 2 2\n",
      "1 no match A [0, 1, 1, 1, 2, 2, 2] [0, 1, 1, 1, 2, 2, 2] choose 0 1 0\n",
      "2 no match T [0, 1, 1, 1, 2, 2, 2] [0, 1, 1, 1, 2, 2, 2] choose 1 1 1\n",
      "3 no match T [0, 1, 1, 1, 2, 2, 2] [0, 1, 1, 1, 2, 2, 2] choose 1 1 1\n",
      "4 no match C [0, 1, 1, 1, 2, 2, 2] [0, 1, 1, 1, 2, 2, 2] choose 1 2 1\n",
      "5 no match A [0, 1, 1, 1, 2, 2, 2] [0, 1, 1, 1, 2, 2, 2] choose 2 2 2\n",
      "6 no match A [0, 1, 1, 1, 2, 2, 2] [0, 1, 1, 1, 2, 2, 2] choose 2 2 2\n",
      "1 match A [0, 1, 1, 1, 2, 2, 2] [0, 1, 1, 1, 2, 2, 2]\n",
      "2 no match T [0, 1, 1, 1, 2, 2, 2] [0, 1, 1, 1, 2, 2, 2] choose 1 1 1\n",
      "3 no match T [0, 1, 1, 1, 2, 2, 2] [0, 1, 1, 1, 2, 2, 2] choose 1 1 1\n",
      "4 no match C [0, 1, 1, 1, 2, 2, 2] [0, 1, 1, 1, 2, 2, 2] choose 1 2 1\n",
      "5 match A [0, 1, 1, 1, 2, 2, 2] [0, 1, 1, 1, 2, 2, 2]\n",
      "6 match A [0, 1, 1, 1, 2, 2, 2] [0, 1, 1, 1, 2, 3, 2]\n",
      "1 match A [0, 1, 1, 1, 2, 3, 3] [0, 1, 1, 1, 2, 3, 3]\n",
      "2 no match T [0, 1, 1, 1, 2, 3, 3] [0, 1, 1, 1, 2, 3, 3] choose 1 1 1\n",
      "3 no match T [0, 1, 1, 1, 2, 3, 3] [0, 1, 1, 1, 2, 3, 3] choose 1 1 1\n",
      "4 no match C [0, 1, 1, 1, 2, 3, 3] [0, 1, 1, 1, 2, 3, 3] choose 1 2 1\n",
      "5 match A [0, 1, 1, 1, 2, 3, 3] [0, 1, 1, 1, 2, 3, 3]\n",
      "6 match A [0, 1, 1, 1, 2, 3, 3] [0, 1, 1, 1, 2, 3, 3]\n"
     ]
    },
    {
     "data": {
      "text/plain": [
       "([1, 1, 1, 1, 1, 1],\n",
       " [1, 1, 1, 2, 2, 2],\n",
       " [1, 1, 1, 2, 2, 2],\n",
       " [1, 1, 1, 2, 2, 2],\n",
       " [1, 1, 1, 2, 3, 3],\n",
       " [1, 1, 1, 2, 3, 4])"
      ]
     },
     "execution_count": 563,
     "metadata": {},
     "output_type": "execute_result"
    }
   ],
   "source": [
    "residue = 'A'\n",
    "\n",
    "nullScore = list(np.cumsum([0] + [indel for _ in x]))\n",
    "score = list(np.cumsum([indel for _ in y]))\n",
    "\n",
    "A0=linspaceAlign('A',y,match=1,indel=0,mismatch=0,updatedScore=score,nullScore=nullScore,resPos=0)\n",
    "C1=linspaceAlign('C',y,match=1,indel=0,mismatch=0,updatedScore=A0,nullScore=nullScore,resPos=1)\n",
    "G2=linspaceAlign('G',y,match=1,indel=0,mismatch=0,updatedScore=C1,nullScore=nullScore,resPos=2)\n",
    "G3=linspaceAlign('G',y,match=1,indel=0,mismatch=0,updatedScore=G2,nullScore=nullScore,resPos=3)\n",
    "A4=linspaceAlign('A',y,match=1,indel=0,mismatch=0,updatedScore=G3,nullScore=nullScore,resPos=4)\n",
    "A5=linspaceAlign('A',y,match=1,indel=0,mismatch=0,updatedScore=A4,nullScore=nullScore,resPos=5)\n",
    "\n",
    "(A0,C1,G2,G3,A4,A5)"
   ]
  },
  {
   "cell_type": "code",
   "execution_count": 561,
   "metadata": {
    "ExecuteTime": {
     "end_time": "2020-10-05T02:05:17.814996Z",
     "start_time": "2020-10-05T02:05:17.793505Z"
    }
   },
   "outputs": [
    {
     "name": "stdout",
     "output_type": "stream",
     "text": [
      "1 no match A [0, 1, 1, 1, 1, 1, 1] [0, 1, 1, 1, 1, 1, 1] choose 0 1 0\n",
      "2 no match T [0, 1, 1, 1, 1, 1, 1] [0, 1, 1, 1, 1, 1, 1] choose 1 1 1\n",
      "3 no match T [0, 1, 1, 1, 1, 1, 1] [0, 1, 1, 1, 1, 1, 1] choose 1 1 1\n",
      "4 match C [0, 1, 1, 1, 1, 1, 1] [0, 1, 1, 1, 1, 1, 1]\n",
      "5 no match A [0, 1, 1, 1, 1, 1, 1] [0, 1, 1, 1, 2, 1, 1] choose 2 1 1\n",
      "6 no match A [0, 1, 1, 1, 1, 1, 1] [0, 1, 1, 1, 2, 2, 1] choose 2 1 1\n"
     ]
    },
    {
     "data": {
      "text/plain": [
       "[1, 1, 1, 2, 2, 2]"
      ]
     },
     "execution_count": 561,
     "metadata": {},
     "output_type": "execute_result"
    }
   ],
   "source": [
    "residue='C'\n",
    "linspaceAlign(residue,y,match=1,indel=0,mismatch=0,updatedScore=A1,nullScore=nullScore,resPos=1)"
   ]
  },
  {
   "cell_type": "code",
   "execution_count": 567,
   "metadata": {
    "ExecuteTime": {
     "end_time": "2020-10-05T16:11:52.597492Z",
     "start_time": "2020-10-05T16:11:52.459080Z"
    }
   },
   "outputs": [],
   "source": [
    "def linspaceAlign(residue,y,match=1,indel=0,mismatch=0,updatedScore=None,nullScore=None,resPos=0):\n",
    "    n = len(y)\n",
    "    \n",
    "    ### Define nullscore\n",
    "    if nullScore is None:\n",
    "        nullScore = list(np.cumsum([0] + [indel for _ in x]))\n",
    "    \n",
    "    \n",
    "    ### Initialize vectors to keep track of scores\n",
    "    if updatedScore is None:\n",
    "        updatedScore = list(np.cumsum([indel for _ in y]))\n",
    "    \n",
    "    updatedScore = [nullScore[resPos]] + updatedScore\n",
    "    \n",
    "    ###\n",
    "    \n",
    "    \n",
    "    prevScore = updatedScore.copy()\n",
    "\n",
    "    \n",
    "    ###\n",
    "    for i in range(1,n+1):\n",
    "        if residue == y[i-1]:\n",
    "            print(i, 'match',y[i-1], prevScore,updatedScore)\n",
    "            updatedScore[i] = prevScore[i-1] + match\n",
    "        else:\n",
    "            print(i,'no match', y[i-1], prevScore,updatedScore,'choose',\n",
    "                                  updatedScore[i-1],\n",
    "                                  updatedScore[i],prevScore[i-1])\n",
    "\n",
    "            updatedScore[i] = max(updatedScore[i-1] + indel, #Up,\n",
    "                                  updatedScore[i] + indel, #Left,\n",
    "                                  prevScore[i-1] + mismatch) #Mismatch\n",
    "    \n",
    "    #updatedScore = [nullScore[resPos]] + updatedScore[1:]\n",
    "    return updatedScore[1:]"
   ]
  },
  {
   "cell_type": "code",
   "execution_count": 523,
   "metadata": {
    "ExecuteTime": {
     "end_time": "2020-10-03T01:10:43.679271Z",
     "start_time": "2020-10-03T01:10:43.669758Z"
    }
   },
   "outputs": [
    {
     "data": {
      "text/plain": [
       "[-6, -4, -3, -2, -1, 1, 3]"
      ]
     },
     "execution_count": 523,
     "metadata": {},
     "output_type": "execute_result"
    }
   ],
   "source": [
    "x='ACGGAA'\n",
    "y='ATTCAA'\n",
    "\n",
    "\n",
    "\n",
    "### top row on the initialization F-matrix. Cumulative sum of indels starting at 0, with length m + 1. \n",
    "\n",
    "\n",
    "def linSpaceAlign(x,y,indel = -1,score=None){\n",
    "    \n",
    "    n = len(y)\n",
    "    nullScore = list(np.cumsum([0] + [indel for _ in x]))\n",
    "    if score is None:\n",
    "        score = list(np.cumsum([indel for _ in y]))\n",
    "    }\n",
    "\n",
    "\n",
    "    #### Initialize\n",
    "    updatedScore = [nullScore[0]] + score\n",
    "    prevScore = updatedScore.copy()\n",
    "\n",
    "for j,residue in enumerate(x):\n",
    "    updatedScore = [nullScore[j]] + updatedScore[1:]\n",
    "    prevScore = updatedScore.copy()\n",
    "    \n",
    "    for i in range(1,n+1):\n",
    "        if residue == y[i-1]:\n",
    "            print(i, 'match',y[i-1], prevScore,updatedScore)\n",
    "            updatedScore[i] = prevScore[i-1] + 1\n",
    "        else:\n",
    "            print(i,'no match', y[i-1], prevScore,updatedScore,'choose',\n",
    "                                  updatedScore[i-1],\n",
    "                                  updatedScore[i],prevScore[i-1])\n",
    "\n",
    "            updatedScore[i] = max(updatedScore[i-1] + indel, #Up,\n",
    "                                  updatedScore[i] + indel, #Left,\n",
    "                                  prevScore[i-1]) #Mismatch\n",
    "        print(updatedScore,\"\\n----\")\n",
    "\n",
    "finalScore = [nullScore[j+1]] + updatedScore[1:]\n",
    "print('final',finalScore)"
   ]
  },
  {
   "cell_type": "code",
   "execution_count": 522,
   "metadata": {
    "ExecuteTime": {
     "end_time": "2020-10-03T01:10:26.662155Z",
     "start_time": "2020-10-03T01:10:26.651935Z"
    }
   },
   "outputs": [
    {
     "data": {
      "text/plain": [
       "5"
      ]
     },
     "execution_count": 522,
     "metadata": {},
     "output_type": "execute_result"
    }
   ],
   "source": []
  },
  {
   "cell_type": "code",
   "execution_count": null,
   "metadata": {},
   "outputs": [],
   "source": []
  },
  {
   "cell_type": "code",
   "execution_count": null,
   "metadata": {},
   "outputs": [],
   "source": []
  },
  {
   "cell_type": "code",
   "execution_count": null,
   "metadata": {},
   "outputs": [],
   "source": []
  },
  {
   "cell_type": "code",
   "execution_count": null,
   "metadata": {},
   "outputs": [],
   "source": []
  },
  {
   "cell_type": "code",
   "execution_count": null,
   "metadata": {},
   "outputs": [],
   "source": [
    "residue = 'C'\n",
    "for i in range(1,n+1):\n",
    "    if residue == y[i-1]:\n",
    "        print(i, 'match',y[i-1], prevScore,updatedScore)\n",
    "        updatedScore[i] = prevScore[i-1] + 1\n",
    "    else:\n",
    "        print(i,'no match', y[i-1], prevScore,updatedScore,'choose',\n",
    "                              updatedScore[i-1],\n",
    "                              updatedScore[i],prevScore[i-1])\n",
    "\n",
    "        updatedScore[i] = max(updatedScore[i-1] + indel, #Up,\n",
    "                              updatedScore[i] + indel, #Left,\n",
    "                              prevScore[i-1]) #Mismatch\n",
    "    print(updatedScore,\"\\n----\")\n",
    "updatedScore"
   ]
  },
  {
   "cell_type": "code",
   "execution_count": null,
   "metadata": {},
   "outputs": [],
   "source": []
  },
  {
   "cell_type": "code",
   "execution_count": null,
   "metadata": {},
   "outputs": [],
   "source": []
  },
  {
   "cell_type": "code",
   "execution_count": null,
   "metadata": {},
   "outputs": [],
   "source": []
  },
  {
   "cell_type": "code",
   "execution_count": null,
   "metadata": {},
   "outputs": [],
   "source": []
  },
  {
   "cell_type": "code",
   "execution_count": null,
   "metadata": {},
   "outputs": [],
   "source": []
  },
  {
   "cell_type": "code",
   "execution_count": 433,
   "metadata": {
    "ExecuteTime": {
     "end_time": "2020-10-03T00:27:55.874895Z",
     "start_time": "2020-10-03T00:27:55.834848Z"
    }
   },
   "outputs": [
    {
     "name": "stdout",
     "output_type": "stream",
     "text": [
      "[1, -4, -3, -3, -1, -1]\n",
      "no match\n",
      "[0, -4, -3, -3, -1, -1]\n",
      "no match\n",
      "[0, -4, -3, -3, -1, -1]\n",
      "no match\n",
      "[0, -4, -4, -3, -1, -1]\n",
      "match -2\n",
      "[0, -4, -4, -2, -1, -1]\n",
      "no match\n",
      "[0, -4, -4, -2, -2, -1]\n",
      "no match\n"
     ]
    },
    {
     "ename": "IndexError",
     "evalue": "list index out of range",
     "output_type": "error",
     "traceback": [
      "\u001b[0;31m---------------------------------------------------------------------------\u001b[0m",
      "\u001b[0;31mIndexError\u001b[0m                                Traceback (most recent call last)",
      "\u001b[0;32m<ipython-input-433-908ea810e8fb>\u001b[0m in \u001b[0;36m<module>\u001b[0;34m\u001b[0m\n\u001b[1;32m      9\u001b[0m     \u001b[0;32melse\u001b[0m\u001b[0;34m:\u001b[0m\u001b[0;34m\u001b[0m\u001b[0;34m\u001b[0m\u001b[0m\n\u001b[1;32m     10\u001b[0m         \u001b[0mprint\u001b[0m\u001b[0;34m(\u001b[0m\u001b[0;34m'no match'\u001b[0m\u001b[0;34m)\u001b[0m\u001b[0;34m\u001b[0m\u001b[0;34m\u001b[0m\u001b[0m\n\u001b[0;32m---> 11\u001b[0;31m         updatedScore[i-1] = max(updatedScore[i] + indel,\n\u001b[0m\u001b[1;32m     12\u001b[0m                               updatedScore[i-1] + indel)\n\u001b[1;32m     13\u001b[0m \u001b[0mupdatedScore\u001b[0m\u001b[0;34m\u001b[0m\u001b[0;34m\u001b[0m\u001b[0m\n",
      "\u001b[0;31mIndexError\u001b[0m: list index out of range"
     ]
    }
   ],
   "source": [
    "currentScore = [nullScore[1]] + updatedScore\n",
    "###\n",
    "residue = 'C'\n",
    "for i in range(1,n+1):\n",
    "    print(updatedScore)\n",
    "    if residue == y[i-1]:\n",
    "        print('match',currentScore[i-1] + 1)\n",
    "        updatedScore[i-1] = currentScore[i-1] + 1\n",
    "    else:\n",
    "        print('no match')\n",
    "        updatedScore[i-1] = max(updatedScore[i] + indel,\n",
    "                              updatedScore[i-1] + indel)\n",
    "updatedScore"
   ]
  },
  {
   "cell_type": "code",
   "execution_count": null,
   "metadata": {},
   "outputs": [],
   "source": []
  },
  {
   "cell_type": "code",
   "execution_count": null,
   "metadata": {},
   "outputs": [],
   "source": []
  },
  {
   "cell_type": "code",
   "execution_count": null,
   "metadata": {},
   "outputs": [],
   "source": []
  },
  {
   "cell_type": "code",
   "execution_count": null,
   "metadata": {},
   "outputs": [],
   "source": []
  },
  {
   "cell_type": "code",
   "execution_count": null,
   "metadata": {},
   "outputs": [],
   "source": []
  },
  {
   "cell_type": "code",
   "execution_count": null,
   "metadata": {},
   "outputs": [],
   "source": []
  },
  {
   "cell_type": "code",
   "execution_count": null,
   "metadata": {},
   "outputs": [],
   "source": []
  },
  {
   "cell_type": "code",
   "execution_count": 376,
   "metadata": {
    "ExecuteTime": {
     "end_time": "2020-10-02T23:28:41.034408Z",
     "start_time": "2020-10-02T23:28:41.012932Z"
    }
   },
   "outputs": [
    {
     "name": "stdout",
     "output_type": "stream",
     "text": [
      "[0 1 1 1 1 1 1]\n",
      "no match\n",
      "[0 1 1 1 1 1 1]\n",
      "no match\n",
      "[0 1 1 1 1 1 1]\n",
      "no match\n",
      "[0 1 1 1 1 1 1]\n",
      "match\n",
      "[0 1 1 1 2 1 1]\n",
      "no match\n",
      "[0 1 1 1 2 2 1]\n",
      "no match\n"
     ]
    },
    {
     "data": {
      "text/plain": [
       "array([0, 1, 1, 1, 2, 2, 2])"
      ]
     },
     "execution_count": 376,
     "metadata": {},
     "output_type": "execute_result"
    }
   ],
   "source": [
    "residue = 'C'\n",
    "for i in range(1,n+1):\n",
    "    print(score)\n",
    "    if residue == y[i-1]:\n",
    "        print('match')\n",
    "        score[i] += score[i-1] + 1\n",
    "    else:\n",
    "        print('no match')\n",
    "        score[i] = max(score[i] + indel,\n",
    "                       score[i-1] + indel)\n",
    "score"
   ]
  },
  {
   "cell_type": "code",
   "execution_count": 377,
   "metadata": {
    "ExecuteTime": {
     "end_time": "2020-10-02T23:28:43.017051Z",
     "start_time": "2020-10-02T23:28:42.997343Z"
    }
   },
   "outputs": [
    {
     "name": "stdout",
     "output_type": "stream",
     "text": [
      "[0 1 1 1 2 2 2]\n",
      "no match\n",
      "[0 1 1 1 2 2 2]\n",
      "no match\n",
      "[0 1 1 1 2 2 2]\n",
      "no match\n",
      "[0 1 1 1 2 2 2]\n",
      "no match\n",
      "[0 1 1 1 2 2 2]\n",
      "no match\n",
      "[0 1 1 1 2 2 2]\n",
      "no match\n"
     ]
    },
    {
     "data": {
      "text/plain": [
       "array([0, 1, 1, 1, 2, 2, 2])"
      ]
     },
     "execution_count": 377,
     "metadata": {},
     "output_type": "execute_result"
    }
   ],
   "source": [
    "residue = 'G'\n",
    "for i in range(1,n+1):\n",
    "    print(score)\n",
    "    if residue == y[i-1]:\n",
    "        print('match')\n",
    "        score[i] = score[i-1] + 1\n",
    "    else:\n",
    "        print('no match')\n",
    "        score[i] = max(score[i] + indel,\n",
    "                       score[i-1] + indel)\n",
    "score"
   ]
  },
  {
   "cell_type": "code",
   "execution_count": 371,
   "metadata": {
    "ExecuteTime": {
     "end_time": "2020-10-02T23:26:54.561789Z",
     "start_time": "2020-10-02T23:26:54.538921Z"
    }
   },
   "outputs": [
    {
     "name": "stdout",
     "output_type": "stream",
     "text": [
      "[0 1 1 1 2 2 2]\n",
      "no match\n",
      "[0 1 1 1 2 2 2]\n",
      "no match\n",
      "[0 1 1 1 2 2 2]\n",
      "no match\n",
      "[0 1 1 1 2 2 2]\n",
      "no match\n",
      "[0 1 1 1 2 2 2]\n",
      "no match\n",
      "[0 1 1 1 2 2 2]\n",
      "no match\n"
     ]
    },
    {
     "data": {
      "text/plain": [
       "array([0, 1, 1, 1, 2, 2, 2])"
      ]
     },
     "execution_count": 371,
     "metadata": {},
     "output_type": "execute_result"
    }
   ],
   "source": [
    "residue = 'G'\n",
    "for i in range(1,n+1):\n",
    "    print(score)\n",
    "    if residue == y[i-1]:\n",
    "        print('match')\n",
    "        score[i] = nullScore[i-1] + 1\n",
    "    else:\n",
    "        print('no match')\n",
    "        score[i] = max(score[i] + indel,\n",
    "                       score[i-1] + indel)\n",
    "score"
   ]
  },
  {
   "cell_type": "code",
   "execution_count": 379,
   "metadata": {
    "ExecuteTime": {
     "end_time": "2020-10-02T23:30:18.999577Z",
     "start_time": "2020-10-02T23:30:18.986598Z"
    }
   },
   "outputs": [
    {
     "name": "stdout",
     "output_type": "stream",
     "text": [
      "[0 1 1 1 2 1 1]\n",
      "match\n",
      "[0 1 1 1 2 1 1]\n",
      "no match\n",
      "[0 1 1 1 2 1 1]\n",
      "no match\n",
      "[0 1 1 1 2 1 1]\n",
      "no match\n",
      "[0 1 1 1 2 1 1]\n",
      "match\n",
      "[0 1 1 1 2 3 1]\n",
      "match\n"
     ]
    },
    {
     "data": {
      "text/plain": [
       "array([0, 1, 1, 1, 2, 3, 4])"
      ]
     },
     "execution_count": 379,
     "metadata": {},
     "output_type": "execute_result"
    }
   ],
   "source": [
    "residue = 'A'\n",
    "for i in range(1,n+1):\n",
    "    print(score)\n",
    "    if residue == y[i-1]:\n",
    "        print('match')\n",
    "        score[i] = score[i-1] + 1\n",
    "    else:\n",
    "        print('no match')\n",
    "        score[i] = max(score[i] + indel,\n",
    "                       score[i-1] + indel)\n",
    "score"
   ]
  },
  {
   "cell_type": "code",
   "execution_count": null,
   "metadata": {},
   "outputs": [],
   "source": []
  },
  {
   "cell_type": "code",
   "execution_count": null,
   "metadata": {},
   "outputs": [],
   "source": [
    "for i in range(1,n+1):\n",
    "    #print(i,score,match[i], score[i], score[i-1])\n",
    "    if residue == target[i-1]:\n",
    "        score[i] += score[i] + match\n",
    "    else:\n",
    "        score[i] = max(score[i] + indel,\n",
    "                       score[i-1] + indel)\n",
    "return(score)"
   ]
  },
  {
   "cell_type": "code",
   "execution_count": null,
   "metadata": {},
   "outputs": [],
   "source": []
  },
  {
   "cell_type": "code",
   "execution_count": null,
   "metadata": {},
   "outputs": [],
   "source": []
  },
  {
   "cell_type": "code",
   "execution_count": null,
   "metadata": {},
   "outputs": [],
   "source": []
  },
  {
   "cell_type": "code",
   "execution_count": 334,
   "metadata": {
    "ExecuteTime": {
     "end_time": "2020-10-02T06:11:48.390797Z",
     "start_time": "2020-10-02T06:11:48.368795Z"
    }
   },
   "outputs": [],
   "source": [
    "def linSpace(residue,target,score,match=1,indel=0):\n",
    "    n = len(y)\n",
    "    for i in range(1,n+1):\n",
    "        #print(i,score,match[i], score[i], score[i-1])\n",
    "        if residue == target[i-1]:\n",
    "            score[i] += match\n",
    "        else:\n",
    "            score[i] = max(score[i] + indel,\n",
    "                           score[i-1] + indel)\n",
    "    return(score)"
   ]
  },
  {
   "cell_type": "code",
   "execution_count": 351,
   "metadata": {
    "ExecuteTime": {
     "end_time": "2020-10-02T23:17:47.743190Z",
     "start_time": "2020-10-02T23:17:47.724140Z"
    }
   },
   "outputs": [
    {
     "name": "stdout",
     "output_type": "stream",
     "text": [
      "[0 1 1 1 1 1 1]\n",
      "[0 1 1 1 2 2 2]\n",
      "[0 1 1 1 2 2 2]\n",
      "[0 1 1 1 2 2 2]\n",
      "[0 2 2 2 2 3 3]\n",
      "[0 3 3 3 3 4 4]\n"
     ]
    },
    {
     "data": {
      "text/plain": [
       "4"
      ]
     },
     "execution_count": 351,
     "metadata": {},
     "output_type": "execute_result"
    }
   ],
   "source": [
    "x='ACGGAA'\n",
    "y='ATTCAA'\n",
    "indel = 0\n",
    "score = np.cumsum([indel] + [indel for _ in y])\n",
    "for _ in x:\n",
    "    score = linSpace(_,y,score,match=1,indel=0)\n",
    "    print(score)\n",
    "\n",
    "score[len(y)]"
   ]
  },
  {
   "cell_type": "code",
   "execution_count": 341,
   "metadata": {
    "ExecuteTime": {
     "end_time": "2020-10-02T06:15:44.060749Z",
     "start_time": "2020-10-02T06:15:43.959593Z"
    }
   },
   "outputs": [
    {
     "name": "stdout",
     "output_type": "stream",
     "text": [
      "[0 0 0 0 0 1 1 1]\n",
      "[0 1 1 1 1 1 1 1]\n",
      "[0 1 1 1 2 2 2 2]\n",
      "[0 1 1 2 2 2 2 2]\n",
      "[0 2 2 2 2 2 2 2]\n",
      "[0 2 2 2 2 3 3 3]\n",
      "[0 3 3 3 3 3 3 3]\n"
     ]
    },
    {
     "data": {
      "text/plain": [
       "3"
      ]
     },
     "execution_count": 341,
     "metadata": {},
     "output_type": "execute_result"
    }
   ],
   "source": [
    "x='AGTCGAG'\n",
    "y='GGCTAAT'\n",
    "indel = 0\n",
    "score = np.cumsum([indel] + [indel for _ in y])\n",
    "for _ in x:\n",
    "    score = linSpace(_,y,score,match=1,indel=0)\n",
    "    print(score)\n",
    "\n",
    "score[len(y)]"
   ]
  },
  {
   "cell_type": "code",
   "execution_count": null,
   "metadata": {
    "cell_style": "split"
   },
   "outputs": [],
   "source": [
    "x='A'\n",
    "y='GGCTAAT'\n",
    "indel = 0\n",
    "score = np.cumsum([indel] + [indel for _ in y])\n",
    "for _ in x:\n",
    "    score = linSpace(_,y,score,match=1,indel=0)\n",
    "    print(score)\n",
    "\n",
    "score[len(y)]"
   ]
  },
  {
   "cell_type": "code",
   "execution_count": null,
   "metadata": {
    "cell_style": "split"
   },
   "outputs": [],
   "source": [
    "x='G'\n",
    "y='GGCTAAT'\n",
    "indel = 0\n",
    "score = np.cumsum([indel] + [indel for _ in y])\n",
    "for _ in x:\n",
    "    score = linSpace(_,y,score,match=1,indel=0)\n",
    "    print(score)\n",
    "\n",
    "score[len(y)]"
   ]
  },
  {
   "cell_type": "code",
   "execution_count": 342,
   "metadata": {
    "ExecuteTime": {
     "end_time": "2020-10-02T06:16:34.135686Z",
     "start_time": "2020-10-02T06:16:34.096011Z"
    }
   },
   "outputs": [
    {
     "name": "stdout",
     "output_type": "stream",
     "text": [
      "[0 0 0 0 0 1 1 1]\n",
      "[0 1 1 1 1 1 1 1]\n",
      "[0 1 1 1 2 2 2 2]\n",
      "[0 1 1 2 2 2 2 2]\n"
     ]
    },
    {
     "data": {
      "text/plain": [
       "2"
      ]
     },
     "execution_count": 342,
     "metadata": {},
     "output_type": "execute_result"
    }
   ],
   "source": [
    "x='AGTC'\n",
    "y='GGCTAAT'\n",
    "indel = 0\n",
    "score = np.cumsum([indel] + [indel for _ in y])\n",
    "for _ in x:\n",
    "    score = linSpace(_,y,score,match=1,indel=0)\n",
    "    print(score)\n",
    "\n",
    "score[len(y)]"
   ]
  },
  {
   "cell_type": "code",
   "execution_count": 343,
   "metadata": {
    "ExecuteTime": {
     "end_time": "2020-10-02T06:16:35.287438Z",
     "start_time": "2020-10-02T06:16:35.268821Z"
    }
   },
   "outputs": [
    {
     "name": "stdout",
     "output_type": "stream",
     "text": [
      "[0 1 1 1 1 1 1 1]\n",
      "[0 1 1 1 1 2 2 2]\n",
      "[0 2 2 2 2 2 2 2]\n"
     ]
    },
    {
     "data": {
      "text/plain": [
       "2"
      ]
     },
     "execution_count": 343,
     "metadata": {},
     "output_type": "execute_result"
    }
   ],
   "source": [
    "x='GAG'\n",
    "y='GGCTAAT'\n",
    "indel = 0\n",
    "score = np.cumsum([indel] + [indel for _ in y])\n",
    "for _ in x:\n",
    "    score = linSpace(_,y,score,match=1,indel=0)\n",
    "    print(score)\n",
    "\n",
    "score[len(y)]"
   ]
  },
  {
   "cell_type": "code",
   "execution_count": null,
   "metadata": {},
   "outputs": [],
   "source": []
  }
 ],
 "metadata": {
  "kernelspec": {
   "display_name": "Python 3",
   "language": "python",
   "name": "python3"
  },
  "language_info": {
   "codemirror_mode": {
    "name": "ipython",
    "version": 3
   },
   "file_extension": ".py",
   "mimetype": "text/x-python",
   "name": "python",
   "nbconvert_exporter": "python",
   "pygments_lexer": "ipython3",
   "version": "3.7.6"
  },
  "varInspector": {
   "cols": {
    "lenName": 16,
    "lenType": 16,
    "lenVar": 40
   },
   "kernels_config": {
    "python": {
     "delete_cmd_postfix": "",
     "delete_cmd_prefix": "del ",
     "library": "var_list.py",
     "varRefreshCmd": "print(var_dic_list())"
    },
    "r": {
     "delete_cmd_postfix": ") ",
     "delete_cmd_prefix": "rm(",
     "library": "var_list.r",
     "varRefreshCmd": "cat(var_dic_list()) "
    }
   },
   "types_to_exclude": [
    "module",
    "function",
    "builtin_function_or_method",
    "instance",
    "_Feature"
   ],
   "window_display": false
  }
 },
 "nbformat": 4,
 "nbformat_minor": 4
}
