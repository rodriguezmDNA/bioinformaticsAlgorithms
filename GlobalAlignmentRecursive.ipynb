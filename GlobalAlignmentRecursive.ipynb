{
 "cells": [
  {
   "cell_type": "code",
   "execution_count": 1,
   "metadata": {
    "ExecuteTime": {
     "end_time": "2020-10-09T18:42:20.482489Z",
     "start_time": "2020-10-09T18:42:18.239247Z"
    }
   },
   "outputs": [],
   "source": [
    "import pandas as pd\n",
    "import numpy as np"
   ]
  },
  {
   "cell_type": "code",
   "execution_count": 491,
   "metadata": {
    "ExecuteTime": {
     "end_time": "2020-10-11T23:55:37.179923Z",
     "start_time": "2020-10-11T23:55:37.096963Z"
    }
   },
   "outputs": [],
   "source": [
    "def readBlosum62():\n",
    "    '''\n",
    "    Read scoring matrix\n",
    "    '''\n",
    "    with open('blosum62.txt') as matrix_file:\n",
    "        matrix = matrix_file.read()\n",
    "        lines = matrix.strip().split('\\n')\n",
    "\n",
    "    blosum={}\n",
    "    cols = lines[0].split()\n",
    "\n",
    "    for row in lines[1:]:       \n",
    "        idx = row[0]\n",
    "        vals = row[1:].split()\n",
    "        vals = [int(_) for _ in vals]\n",
    "        #print(idx,vals)\n",
    "        blosum[idx]=vals\n",
    "\n",
    "    blosum = pd.DataFrame.from_dict(blosum,orient='index',columns=cols)\n",
    "    return blosum\n",
    "\n",
    "def scorematch(residueA,residueB,scoringMatrix):\n",
    "    '''\n",
    "    Get the value of a score between two matches\n",
    "    '''\n",
    "    return scoringMatrix.loc[residueA][residueB]\n",
    "\n",
    "def createScorMat(match = 1,mismatch = 0):\n",
    "    \"\"\"\n",
    "    Create scoring matrix for nucleotides with a given match and mismatch values\n",
    "    \"\"\"\n",
    "    nts = ['A','C','T','G']\n",
    "\n",
    "    scoringMatrix = np.zeros((len(nts),len(nts)),)\n",
    "    np.fill_diagonal(scoringMatrix,match)\n",
    "    scoringMatrix\n",
    "    scoringMatrix[scoringMatrix == 0] = mismatch\n",
    "    scoringMatrix = pd.DataFrame(scoringMatrix,index=nts,columns=nts)\n",
    "    return scoringMatrix"
   ]
  },
  {
   "cell_type": "code",
   "execution_count": null,
   "metadata": {},
   "outputs": [],
   "source": []
  },
  {
   "cell_type": "code",
   "execution_count": 3,
   "metadata": {
    "ExecuteTime": {
     "end_time": "2020-10-09T18:42:21.391360Z",
     "start_time": "2020-10-09T18:42:21.368239Z"
    }
   },
   "outputs": [],
   "source": [
    "def linearSpaceAlign(x,y,scoringMatrix,indel,verbose=False):\n",
    "    ####\n",
    "    m = len(y)\n",
    "    n = len(x)\n",
    "    score = list(np.cumsum([indel for _ in y]))\n",
    "    nullScore = list(np.cumsum([0] + [indel for _ in x]))\n",
    "    prev = score.copy()\n",
    "    score,nullScore,prev\n",
    "    ####\n",
    "    for j,residue in enumerate(x):\n",
    "        if verbose: print(j,residue)\n",
    "        score = [nullScore[j]] + score\n",
    "        prev = score.copy()\n",
    "\n",
    "        for i in range(1,m+1):\n",
    "            if residue == y[i-1]:\n",
    "                if verbose: print(i, residue,'match',y[i-1], prev,score)\n",
    "                score[i] = prev[i-1] + scorematch(residue,y[i-1],scoringMatrix) \n",
    "            else:\n",
    "                if verbose: print(i, residue, 'no match', y[i-1], prev,score,'choose',\n",
    "                                      score[i-1],\n",
    "                                      score[i],prev[i-1])\n",
    "                score[i] = max(score[i-1] + indel, #Up\n",
    "                                      score[i] + indel, #Left\n",
    "                                      prev[i-1] + scorematch(residue,y[i-1],scoringMatrix)) #Mismatch\n",
    "            if verbose: print(score,\"\\n----\")\n",
    "\n",
    "        score = score[1:]\n",
    "    \n",
    "    score = [nullScore[j+1]] + score\n",
    "    return score\n"
   ]
  },
  {
   "cell_type": "code",
   "execution_count": 352,
   "metadata": {
    "ExecuteTime": {
     "end_time": "2020-10-10T20:54:00.668818Z",
     "start_time": "2020-10-10T20:54:00.144307Z"
    }
   },
   "outputs": [],
   "source": [
    "##### Backtracking        \n",
    "def scoreAlign(x,y,scoringMatrix,indel):\n",
    "    m = len(x)\n",
    "    n = len(y)\n",
    "    Fmatrix = np.zeros((m+1,n+1))\n",
    "\n",
    "    ## initialize\n",
    "    for i in range(1,m+1):\n",
    "        Fmatrix[i,0] += Fmatrix[i-1,0] + indel\n",
    "    for j in range(1,n+1):\n",
    "        Fmatrix[0,j] += Fmatrix[0,j-1] + indel\n",
    "    ##\n",
    "    for i in range(1,m+1):\n",
    "        for j in range(1,n+1):\n",
    "            if x[i-1] == y[j-1]:\n",
    "                Fmatrix[i,j] = Fmatrix[i-1,j-1] + scorematch(x[i-1],y[j-1],scoringMatrix)\n",
    "            else:\n",
    "                mm = Fmatrix[i-1,j-1] + scorematch(x[i-1],y[j-1],scoringMatrix)\n",
    "                down = Fmatrix[i-1,j] + indel\n",
    "                right = Fmatrix[i,j-1] + indel\n",
    "                Fmatrix[i,j] = max([mm,down,right])\n",
    "    \n",
    "    return Fmatrix,Fmatrix[m][n]\n",
    "\n",
    "def backtrack(x,y,Fmatrix,scoringMatrix,indel,verbose=False):\n",
    "    \"\"\"\n",
    "    \"\"\"\n",
    "    i = len(x)\n",
    "    j = len(y)\n",
    "\n",
    "    wOut = ''\n",
    "    vOut = ''\n",
    "\n",
    "    while i*j != 0:\n",
    "        if verbose: print(i,j,x[i-1],y[j-1],\"\")\n",
    "        if x[i-1] == y[j-1]:\n",
    "            if verbose: print(x[i-1],y[j-1])\n",
    "            wOut += x[i-1]\n",
    "            vOut += y[j-1]\n",
    "            i -= 1\n",
    "            j -= 1\n",
    "        else:\n",
    "            btrack = [Fmatrix[i][j-1] + indel,  #up\n",
    "                            Fmatrix[i-1][j] + indel,   #left\n",
    "                            Fmatrix[i-1][j-1] + scorematch(x[i-1],y[j-1],scoringMatrix)]\n",
    "            mx = np.argmax(btrack) #diag\n",
    "\n",
    "            if verbose: print(i,j,btrack,mx,btrack[mx])\n",
    "\n",
    "            if mx == 2:\n",
    "                wOut += x[i-1]\n",
    "                vOut += y[j-1]\n",
    "                i -= 1\n",
    "                j -= 1\n",
    "            else:\n",
    "                if mx == 0:\n",
    "                    wOut += '-'\n",
    "                    vOut += y[j-1]\n",
    "                    j -= 1\n",
    "                else:\n",
    "                    wOut += x[i-1]\n",
    "                    vOut += '-'\n",
    "                    i -= 1\n",
    "        if verbose: print(wOut[::-1])\n",
    "        if verbose: print(vOut[::-1])\n",
    "        if verbose: print(\"~~~~\\n\")\n",
    "    \n",
    "    if verbose: print('exit status',i,j)\n",
    "    if j == 0 and i>0:\n",
    "        if verbose: print('i=0')\n",
    "        wOut = wOut + x[i-1::-1]\n",
    "        wOut = wOut[::-1]\n",
    "        vOut = ''.join(['-' for _ in range(i,0,-1)]) + vOut[::-1]\n",
    "    if i == 0 and j>0:\n",
    "        if verbose: print('j=0')\n",
    "        vOut = vOut + y[j-1::-1]\n",
    "        vOut = vOut[::-1]\n",
    "        wOut = ''.join(['-' for _ in range(j,0,-1)]) + wOut[::-1]\n",
    "    if j == 0 and i==0:\n",
    "        if verbose: print('reverse all')\n",
    "        wOut = wOut[::-1]\n",
    "        vOut = vOut[::-1]\n",
    "        \n",
    "    return vOut, wOut\n",
    "\n",
    "def nwAlign(x,y,scoringMatrix,indel,verbose=False):\n",
    "    \"\"\"\n",
    "    Peforms Needleman-Wunsch alignment.\n",
    "    Inefficient for long strings, takes O(m*n)\n",
    "    \"\"\"\n",
    "    fmat, pts = scoreAlign(x,y,scoringMatrix,indel)\n",
    "    if verbose: print('backtracking')\n",
    "    z,w = backtrack(x,y,fmat,scoringMatrix,indel,verbose)\n",
    "    return z,w,pts,fmat\n"
   ]
  },
  {
   "cell_type": "code",
   "execution_count": 332,
   "metadata": {
    "ExecuteTime": {
     "end_time": "2020-10-10T20:45:30.887942Z",
     "start_time": "2020-10-10T20:45:30.882650Z"
    }
   },
   "outputs": [],
   "source": [
    "# fm,_ = scoreAlign('AGTACGCA','TATGC',scoringMatrix,-2)\n",
    "# backtrack('AGTACGCA','TATGC',fm,scoringMatrix,-2,verbose=True)"
   ]
  },
  {
   "cell_type": "code",
   "execution_count": 337,
   "metadata": {
    "ExecuteTime": {
     "end_time": "2020-10-10T20:48:18.135080Z",
     "start_time": "2020-10-10T20:48:18.122537Z"
    }
   },
   "outputs": [
    {
     "name": "stdout",
     "output_type": "stream",
     "text": [
      "reverse all\n"
     ]
    },
    {
     "data": {
      "text/plain": [
       "('GGG',\n",
       " 'C--',\n",
       " -5.0,\n",
       " array([[ 0., -2., -4., -6.],\n",
       "        [-2., -1., -3., -5.]]))"
      ]
     },
     "execution_count": 337,
     "metadata": {},
     "output_type": "execute_result"
    }
   ],
   "source": [
    "nwAlign('C','GGG',scoringMatrix,-2,verbose=False)"
   ]
  },
  {
   "cell_type": "code",
   "execution_count": 338,
   "metadata": {
    "ExecuteTime": {
     "end_time": "2020-10-10T20:48:20.282704Z",
     "start_time": "2020-10-10T20:48:20.264086Z"
    }
   },
   "outputs": [],
   "source": [
    "def splitstring(s,point):\n",
    "    A = s[0:point:]\n",
    "    B = s[point:]#[::-1]\n",
    "    return A, B\n",
    "\n",
    "def halfstring(s):\n",
    "    A = s[0:int(len(s)/2):]\n",
    "    B = s[int(len(s)/2):] #[::-1]\n",
    "    return A, B"
   ]
  },
  {
   "cell_type": "code",
   "execution_count": null,
   "metadata": {},
   "outputs": [],
   "source": []
  },
  {
   "cell_type": "code",
   "execution_count": 339,
   "metadata": {
    "ExecuteTime": {
     "end_time": "2020-10-10T20:48:23.075896Z",
     "start_time": "2020-10-10T20:48:23.018885Z"
    }
   },
   "outputs": [
    {
     "data": {
      "text/plain": [
       "[-16, -12.0, -8.0, -7.0, -3.0, 1.0]"
      ]
     },
     "execution_count": 339,
     "metadata": {},
     "output_type": "execute_result"
    }
   ],
   "source": [
    "x='TATGC'\n",
    "y='AGTACGCA'\n",
    "####\n",
    "indel = -2\n",
    "mismatch=-1\n",
    "match = 2\n",
    "### Create scoring matrix\n",
    "scoringMatrix = createScorMat(match,mismatch)\n",
    "###\n",
    "linearSpaceAlign(y,x,scoringMatrix,indel)"
   ]
  },
  {
   "cell_type": "code",
   "execution_count": 342,
   "metadata": {
    "ExecuteTime": {
     "end_time": "2020-10-10T20:49:10.143638Z",
     "start_time": "2020-10-10T20:49:10.126158Z"
    }
   },
   "outputs": [
    {
     "data": {
      "text/plain": [
       "('--TATGC-',\n",
       " 'AGTACGCA',\n",
       " 1.0,\n",
       " array([[  0.,  -2.,  -4.,  -6.,  -8., -10.],\n",
       "        [ -2.,  -1.,   0.,  -2.,  -4.,  -6.],\n",
       "        [ -4.,  -3.,  -2.,  -1.,   0.,  -2.],\n",
       "        [ -6.,  -2.,  -4.,   0.,  -2.,  -1.],\n",
       "        [ -8.,  -4.,   0.,  -2.,  -1.,  -3.],\n",
       "        [-10.,  -6.,  -2.,  -1.,  -3.,   1.],\n",
       "        [-12.,  -8.,  -4.,  -3.,   1.,  -1.],\n",
       "        [-14., -10.,  -6.,  -5.,  -1.,   3.],\n",
       "        [-16., -12.,  -8.,  -7.,  -3.,   1.]]))"
      ]
     },
     "execution_count": 342,
     "metadata": {},
     "output_type": "execute_result"
    }
   ],
   "source": [
    "nwAlign(y,x,scoringMatrix,indel)"
   ]
  },
  {
   "cell_type": "code",
   "execution_count": 343,
   "metadata": {
    "ExecuteTime": {
     "end_time": "2020-10-10T20:49:14.315093Z",
     "start_time": "2020-10-10T20:49:14.291441Z"
    }
   },
   "outputs": [
    {
     "name": "stdout",
     "output_type": "stream",
     "text": [
      "[-8, -4.0, 0.0, -2.0, -1.0, -3.0] [-8, -4.0, 0.0, 1.0, -1.0, -3.0]\n",
      "[-11.  -5.   1.  -2.  -5. -11.]\n"
     ]
    }
   ],
   "source": [
    "yA,yB = halfstring(y)\n",
    "scoreF = linearSpaceAlign(yA,x,scoringMatrix,indel)\n",
    "scoreR = linearSpaceAlign(yB[::-1],x[::-1],scoringMatrix,indel)\n",
    "print (scoreF,scoreR)\n",
    "print (np.array(scoreF) + np.array(scoreR[::-1]))"
   ]
  },
  {
   "cell_type": "code",
   "execution_count": 344,
   "metadata": {
    "ExecuteTime": {
     "end_time": "2020-10-10T20:49:18.790263Z",
     "start_time": "2020-10-10T20:49:18.760055Z"
    },
    "cell_style": "split"
   },
   "outputs": [
    {
     "name": "stdout",
     "output_type": "stream",
     "text": [
      "     A    C    T    G\n",
      "A  1.0  0.0  0.0  0.0\n",
      "C  0.0  1.0  0.0  0.0\n",
      "T  0.0  0.0  1.0  0.0\n",
      "G  0.0  0.0  0.0  1.0\n"
     ]
    },
    {
     "data": {
      "text/plain": [
       "[0, 1.0, 1.0, 1.0, 2.0, 3.0, 4.0]"
      ]
     },
     "execution_count": 344,
     "metadata": {},
     "output_type": "execute_result"
    }
   ],
   "source": [
    "#### Book example\n",
    "x='ACGGAA'\n",
    "y='ATTCAA'\n",
    "####\n",
    "indel = 0\n",
    "mismatch= 0\n",
    "match = 1\n",
    "### Create scoring matrix\n",
    "scoringMatrix = createScorMat(match,mismatch)\n",
    "print(scoringMatrix)\n",
    "###\n",
    "linearSpaceAlign(x,y,scoringMatrix,indel)\n"
   ]
  },
  {
   "cell_type": "code",
   "execution_count": 345,
   "metadata": {
    "ExecuteTime": {
     "end_time": "2020-10-10T20:49:20.657353Z",
     "start_time": "2020-10-10T20:49:20.630810Z"
    },
    "cell_style": "split"
   },
   "outputs": [
    {
     "name": "stdout",
     "output_type": "stream",
     "text": [
      "ACG GAA\n",
      " [0, 1.0, 1.0, 1.0, 2.0, 2.0, 2.0] \n",
      " [2.0, 2.0, 2.0, 2.0, 2.0, 1.0, 0] \n",
      " [2. 3. 3. 3. 4. 3. 2.] \n",
      " alignment score 4.0 \n",
      " position 4\n"
     ]
    }
   ],
   "source": [
    "xA,xB = halfstring(x)\n",
    "print(f,r)\n",
    "scoreF = linearSpaceAlign(xA,y,scoringMatrix,indel)\n",
    "scoreR = linearSpaceAlign(xB[::-1],y[::-1],scoringMatrix,indel)\n",
    "\n",
    "arrSum = np.array(scoreF) + np.array(scoreR[::-1])\n",
    "maxScore = max(arrSum)\n",
    "whichMax = np.argmax(arrSum)\n",
    "print (\"\",scoreF,\"\\n\",scoreR[::-1],\"\\n\",arrSum,\"\\n\",\n",
    "       'alignment score', maxScore,\n",
    "       '\\n position',whichMax)"
   ]
  },
  {
   "cell_type": "code",
   "execution_count": 475,
   "metadata": {
    "ExecuteTime": {
     "end_time": "2020-10-10T21:38:57.297093Z",
     "start_time": "2020-10-10T21:38:57.238552Z"
    }
   },
   "outputs": [
    {
     "data": {
      "text/plain": [
       "('AGTACGCA',\n",
       " '--TATGC-',\n",
       " 1.0,\n",
       " array([[  0.,  -2.,  -4.,  -6.,  -8., -10., -12., -14., -16.],\n",
       "        [ -2.,  -1.,  -3.,  -2.,  -4.,  -6.,  -8., -10., -12.],\n",
       "        [ -4.,   0.,  -2.,  -4.,   0.,  -2.,  -4.,  -6.,  -8.],\n",
       "        [ -6.,  -2.,  -1.,   0.,  -2.,  -1.,  -3.,  -5.,  -7.],\n",
       "        [ -8.,  -4.,   0.,  -2.,  -1.,  -3.,   1.,  -1.,  -3.],\n",
       "        [-10.,  -6.,  -2.,  -1.,  -3.,   1.,  -1.,   3.,   1.]]))"
      ]
     },
     "execution_count": 475,
     "metadata": {},
     "output_type": "execute_result"
    }
   ],
   "source": [
    "nwAlign(x,y,scoringMatrix,indel)"
   ]
  },
  {
   "cell_type": "markdown",
   "metadata": {},
   "source": [
    "A faster approach is to split the query in half and perform two searches: \n",
    "1) The first half of the query against the target string\n",
    "2) The reversed second half of the query against the reversed target.\n",
    "\n",
    "The resulting scoring vectors are then summed (the second vector has to be reversed). The highest number is the total score. The index is the column or row through which the backtracking algorithm would pass."
   ]
  },
  {
   "cell_type": "code",
   "execution_count": 354,
   "metadata": {
    "ExecuteTime": {
     "end_time": "2020-10-10T20:54:13.677707Z",
     "start_time": "2020-10-10T20:54:13.596069Z"
    }
   },
   "outputs": [
    {
     "data": {
      "text/plain": [
       "('HEAGAWGHE-E',\n",
       " '-P--AW-HEAE',\n",
       " 7.0,\n",
       " array([[  0.,  -5., -10., -15., -20., -25., -30., -35., -40., -45., -50.],\n",
       "        [ -5.,  -2.,  -6., -11., -16., -21., -26., -31., -36., -41., -46.],\n",
       "        [-10.,  -7.,  -3.,  -2.,  -7., -12., -17., -22., -27., -32., -37.],\n",
       "        [-15., -12.,  -8.,  -6.,  -4.,  -9.,  -1.,  -6., -11., -16., -21.],\n",
       "        [-20.,  -7., -12., -10.,  -8.,  -6.,  -6.,  -3.,   2.,  -3.,  -8.],\n",
       "        [-25., -12.,  -2.,  -7., -12.,  -9.,  -9.,  -8.,  -3.,   7.,   2.],\n",
       "        [-30., -17.,  -7.,   2.,  -3.,  -8., -12.,  -9.,  -8.,   2.,   6.],\n",
       "        [-35., -22., -12.,  -3.,   0.,  -4.,  -9., -14.,  -9.,  -3.,   7.]]))"
      ]
     },
     "execution_count": 354,
     "metadata": {},
     "output_type": "execute_result"
    }
   ],
   "source": [
    "#### https://gtuckerkellogg.github.io/pairwise/demo/\n",
    "blosum = readBlosum62()\n",
    "x='HEAGAWGHEE'\n",
    "y='PAWHEAE'\n",
    "indel=-5\n",
    "####\n",
    "###\n",
    "nwAlign(y,x,blosum,indel,verbose=False)"
   ]
  },
  {
   "cell_type": "code",
   "execution_count": 346,
   "metadata": {
    "ExecuteTime": {
     "end_time": "2020-10-10T20:49:29.611436Z",
     "start_time": "2020-10-10T20:49:29.551542Z"
    },
    "cell_style": "split"
   },
   "outputs": [
    {
     "data": {
      "text/plain": [
       "[-50, -46, -37, -21, -8, 2, 6, 7]"
      ]
     },
     "execution_count": 346,
     "metadata": {},
     "output_type": "execute_result"
    }
   ],
   "source": [
    "#### https://gtuckerkellogg.github.io/pairwise/demo/\n",
    "blosum = readBlosum62()\n",
    "x='HEAGAWGHEE'\n",
    "y='PAWHEAE'\n",
    "indel=-5\n",
    "####\n",
    "###\n",
    "linearSpaceAlign(x,y,blosum,indel)"
   ]
  },
  {
   "cell_type": "code",
   "execution_count": 347,
   "metadata": {
    "ExecuteTime": {
     "end_time": "2020-10-10T20:49:31.489862Z",
     "start_time": "2020-10-10T20:49:31.446874Z"
    },
    "cell_style": "split"
   },
   "outputs": [
    {
     "name": "stdout",
     "output_type": "stream",
     "text": [
      "ACG GAA\n",
      " [-25, -21, -12, -9, -6, -9, -8, -4] \n",
      " [9, 14, 19, 3, -6, -10, -15, -25] \n",
      " [-16  -7   7  -6 -12 -19 -23 -29] \n",
      " alignment score 7 \n",
      " position 2\n"
     ]
    }
   ],
   "source": [
    "xA,xB = halfstring(x)\n",
    "print(f,r)\n",
    "scoreF = linearSpaceAlign(xA,y,blosum,indel)\n",
    "scoreR = linearSpaceAlign(xB[::-1],y[::-1],blosum,indel)\n",
    "\n",
    "arrSum = np.array(scoreF) + np.array(scoreR[::-1])\n",
    "maxScore = max(arrSum)\n",
    "whichMax = np.argmax(arrSum)\n",
    "print (\"\",scoreF,\"\\n\",scoreR[::-1],\"\\n\",arrSum,\"\\n\",\n",
    "       'alignment score', maxScore,\n",
    "       '\\n position',whichMax)"
   ]
  },
  {
   "cell_type": "markdown",
   "metadata": {},
   "source": [
    "### Wikipedia example"
   ]
  },
  {
   "cell_type": "code",
   "execution_count": null,
   "metadata": {},
   "outputs": [],
   "source": []
  },
  {
   "cell_type": "code",
   "execution_count": 355,
   "metadata": {
    "ExecuteTime": {
     "end_time": "2020-10-10T20:55:37.245849Z",
     "start_time": "2020-10-10T20:55:37.132082Z"
    }
   },
   "outputs": [
    {
     "name": "stdout",
     "output_type": "stream",
     "text": [
      "     A    C    T    G\n",
      "A  2.0 -1.0 -1.0 -1.0\n",
      "C -1.0  2.0 -1.0 -1.0\n",
      "T -1.0 -1.0  2.0 -1.0\n",
      "G -1.0 -1.0 -1.0  2.0\n"
     ]
    },
    {
     "data": {
      "text/plain": [
       "[-10, -6.0, -2.0, -1.0, -3.0, 1.0, -1.0, 3.0, 1.0]"
      ]
     },
     "execution_count": 355,
     "metadata": {},
     "output_type": "execute_result"
    }
   ],
   "source": [
    "x='TATGC'\n",
    "y='AGTACGCA'\n",
    "####\n",
    "indel = -2\n",
    "mismatch= -1\n",
    "match = 2\n",
    "### Create scoring matrix\n",
    "scoringMatrix = createScorMat(match,mismatch)\n",
    "print(scoringMatrix)\n",
    "###\n",
    "linearSpaceAlign(x,y,scoringMatrix,indel)"
   ]
  },
  {
   "cell_type": "code",
   "execution_count": 357,
   "metadata": {
    "ExecuteTime": {
     "end_time": "2020-10-10T20:56:18.943118Z",
     "start_time": "2020-10-10T20:56:18.910977Z"
    }
   },
   "outputs": [
    {
     "data": {
      "text/plain": [
       "('AGTACGCA',\n",
       " '--TATGC-',\n",
       " 1.0,\n",
       " array([[  0.,  -2.,  -4.,  -6.,  -8., -10., -12., -14., -16.],\n",
       "        [ -2.,  -1.,  -3.,  -2.,  -4.,  -6.,  -8., -10., -12.],\n",
       "        [ -4.,   0.,  -2.,  -4.,   0.,  -2.,  -4.,  -6.,  -8.],\n",
       "        [ -6.,  -2.,  -1.,   0.,  -2.,  -1.,  -3.,  -5.,  -7.],\n",
       "        [ -8.,  -4.,   0.,  -2.,  -1.,  -3.,   1.,  -1.,  -3.],\n",
       "        [-10.,  -6.,  -2.,  -1.,  -3.,   1.,  -1.,   3.,   1.]]))"
      ]
     },
     "execution_count": 357,
     "metadata": {},
     "output_type": "execute_result"
    }
   ],
   "source": [
    "nwAlign('TATGC','AGTACGCA',scoringMatrix,-2)"
   ]
  },
  {
   "cell_type": "code",
   "execution_count": 360,
   "metadata": {
    "ExecuteTime": {
     "end_time": "2020-10-10T20:56:45.067152Z",
     "start_time": "2020-10-10T20:56:45.052997Z"
    }
   },
   "outputs": [],
   "source": [
    "def Hirschberg(x,y,scoringMatrix,indel,verbose=False):           \n",
    "    xA,xB = halfstring(x)\n",
    "    if verbose: print(xA,xB)\n",
    "    scoreF = linearSpaceAlign(xA,y,scoringMatrix,indel)\n",
    "    scoreR = linearSpaceAlign(xB[::-1],y[::-1],scoringMatrix,indel)\n",
    "\n",
    "    arrSum = np.array(scoreF) + np.array(scoreR[::-1])\n",
    "    maxScore = max(arrSum)\n",
    "    whichMax = np.argmax(arrSum)\n",
    "    if verbose:\n",
    "        print (\"\",scoreF,\"\\n\",scoreR[::-1],\"\\n\",arrSum,\"\\n\",\n",
    "           'alignment score:', maxScore,\n",
    "           '\\n position',whichMax)\n",
    "    yA, yB = splitstring(y,whichMax)\n",
    "    return xA,xB,yA,yB,"
   ]
  },
  {
   "cell_type": "code",
   "execution_count": 396,
   "metadata": {
    "ExecuteTime": {
     "end_time": "2020-10-10T21:13:43.590353Z",
     "start_time": "2020-10-10T21:13:43.581337Z"
    }
   },
   "outputs": [
    {
     "data": {
      "text/plain": [
       "('--A-', 'CTAG')"
      ]
     },
     "execution_count": 396,
     "metadata": {},
     "output_type": "execute_result"
    }
   ],
   "source": [
    "recursiveAlign(\"CTAG\",\"A\")"
   ]
  },
  {
   "cell_type": "code",
   "execution_count": 393,
   "metadata": {
    "ExecuteTime": {
     "end_time": "2020-10-10T21:13:18.291535Z",
     "start_time": "2020-10-10T21:13:18.277895Z"
    }
   },
   "outputs": [],
   "source": [
    "def recursiveAlign(x,y):           \n",
    "    z = '' #X alignment\n",
    "    w = '' #Y alignment\n",
    "    \n",
    "    if len(x) == 0 and len(y)>0:\n",
    "        for i in range(0,len(y)-1):\n",
    "            z = z + '-'\n",
    "            w = w + y[i]\n",
    "            \n",
    "    if len(y) == 0 and len(x)>0:\n",
    "        for i in range(0,len(x)-1):\n",
    "            w = w + '-'\n",
    "            z = z + x[i]\n",
    "            \n",
    "    if len(y) == 1 or len(x) == 1: \n",
    "        tmpZ,tmpW,_,fm = nwAlign(x,y,scoringMatrix,indel)\n",
    "        z += tmpZ\n",
    "        w += tmpW\n",
    "    else:\n",
    "        Hirschberg('TA','AGTA',scoringMatrix,indel)\n",
    "        \n",
    "\n",
    "    return z,w"
   ]
  },
  {
   "cell_type": "code",
   "execution_count": 374,
   "metadata": {
    "ExecuteTime": {
     "end_time": "2020-10-10T21:01:55.322285Z",
     "start_time": "2020-10-10T21:01:55.247854Z"
    }
   },
   "outputs": [
    {
     "data": {
      "text/plain": [
       "('TA', 'TGC', 'AGTA', 'CGCA', 1.0)"
      ]
     },
     "execution_count": 374,
     "metadata": {},
     "output_type": "execute_result"
    }
   ],
   "source": [
    "### Full call, divides x by half and y into middle column\n",
    "xF,xR,yA,yB, maxScore = Hirschberg(x,y,scoringMatrix,indel)\n",
    "xF,xR,yA,yB, maxScore"
   ]
  },
  {
   "cell_type": "code",
   "execution_count": 467,
   "metadata": {
    "ExecuteTime": {
     "end_time": "2020-10-10T21:32:46.383993Z",
     "start_time": "2020-10-10T21:32:46.311586Z"
    }
   },
   "outputs": [
    {
     "name": "stdout",
     "output_type": "stream",
     "text": [
      "TATGC AGTACGCA\n",
      "recursive\n",
      "TA TGC\n",
      " [-4, 0.0, -2.0, -4.0, 0.0, -2.0, -4.0, -6.0, -8.0] \n",
      " [-4.0, -2.0, 0.0, -1.0, 1.0, 0.0, -4.0, -5.0, -6] \n",
      " [ -8.  -2.  -2.  -5.   1.  -2.  -8. -11. -14.] \n",
      " alignment score: 1.0 \n",
      " position 4\n",
      "split TA AGTA TGC CGCA\n"
     ]
    },
    {
     "data": {
      "text/plain": [
       "('AGTACGCA', '--TATGC-', 1.0)"
      ]
     },
     "execution_count": 467,
     "metadata": {},
     "output_type": "execute_result"
    }
   ],
   "source": [
    "recHirschberg('TATGC','AGTACGCA',scoringMatrix,indel,v=True)"
   ]
  },
  {
   "cell_type": "code",
   "execution_count": null,
   "metadata": {
    "cell_style": "split"
   },
   "outputs": [],
   "source": [
    "### Left path"
   ]
  },
  {
   "cell_type": "code",
   "execution_count": null,
   "metadata": {
    "cell_style": "split"
   },
   "outputs": [],
   "source": [
    "### Right path"
   ]
  },
  {
   "cell_type": "code",
   "execution_count": 375,
   "metadata": {
    "ExecuteTime": {
     "end_time": "2020-10-10T21:02:03.997796Z",
     "start_time": "2020-10-10T21:02:03.973219Z"
    },
    "cell_style": "split"
   },
   "outputs": [
    {
     "data": {
      "text/plain": [
       "('T', 'A', 'AGT', 'A', 0.0)"
      ]
     },
     "execution_count": 375,
     "metadata": {},
     "output_type": "execute_result"
    }
   ],
   "source": [
    "Hirschberg('TA','AGTA',scoringMatrix,indel)"
   ]
  },
  {
   "cell_type": "code",
   "execution_count": 167,
   "metadata": {
    "ExecuteTime": {
     "end_time": "2020-10-10T00:27:12.713469Z",
     "start_time": "2020-10-10T00:27:12.619958Z"
    },
    "cell_style": "split"
   },
   "outputs": [
    {
     "data": {
      "text/plain": [
       "('T', 'GC', 'C', 'GCA')"
      ]
     },
     "execution_count": 167,
     "metadata": {},
     "output_type": "execute_result"
    }
   ],
   "source": [
    "Hirschberg('TGC','CGCA',scoringMatrix,indel)"
   ]
  },
  {
   "cell_type": "code",
   "execution_count": 377,
   "metadata": {
    "ExecuteTime": {
     "end_time": "2020-10-10T21:02:18.803728Z",
     "start_time": "2020-10-10T21:02:18.769904Z"
    },
    "cell_style": "split"
   },
   "outputs": [
    {
     "data": {
      "text/plain": [
       "('AGT',\n",
       " '--T',\n",
       " -2.0,\n",
       " array([[ 0., -2., -4., -6.],\n",
       "        [-2., -1., -3., -2.]]))"
      ]
     },
     "execution_count": 377,
     "metadata": {},
     "output_type": "execute_result"
    }
   ],
   "source": [
    "nwAlign('T','AGT',scoringMatrix,indel)"
   ]
  },
  {
   "cell_type": "code",
   "execution_count": 380,
   "metadata": {
    "ExecuteTime": {
     "end_time": "2020-10-10T21:04:55.900515Z",
     "start_time": "2020-10-10T21:04:55.886116Z"
    },
    "cell_style": "split"
   },
   "outputs": [
    {
     "data": {
      "text/plain": [
       "('C',\n",
       " 'T',\n",
       " -1.0,\n",
       " array([[ 0., -2.],\n",
       "        [-2., -1.]]))"
      ]
     },
     "execution_count": 380,
     "metadata": {},
     "output_type": "execute_result"
    }
   ],
   "source": [
    "nwAlign('T','C',scoringMatrix,indel)"
   ]
  },
  {
   "cell_type": "code",
   "execution_count": 170,
   "metadata": {
    "ExecuteTime": {
     "end_time": "2020-10-10T00:28:21.645321Z",
     "start_time": "2020-10-10T00:28:21.630993Z"
    },
    "cell_style": "split"
   },
   "outputs": [
    {
     "data": {
      "text/plain": [
       "('A', 'A', 2.0)"
      ]
     },
     "execution_count": 170,
     "metadata": {},
     "output_type": "execute_result"
    }
   ],
   "source": [
    "nwAlign('A','A',indel,scoringMatrix)"
   ]
  },
  {
   "cell_type": "code",
   "execution_count": 381,
   "metadata": {
    "ExecuteTime": {
     "end_time": "2020-10-10T21:05:17.425348Z",
     "start_time": "2020-10-10T21:05:17.371042Z"
    },
    "cell_style": "split"
   },
   "outputs": [
    {
     "data": {
      "text/plain": [
       "('G', 'C', 'G', 'CA', 2.0)"
      ]
     },
     "execution_count": 381,
     "metadata": {},
     "output_type": "execute_result"
    }
   ],
   "source": [
    "Hirschberg('GC','GCA',scoringMatrix,indel)"
   ]
  },
  {
   "cell_type": "code",
   "execution_count": 176,
   "metadata": {
    "ExecuteTime": {
     "end_time": "2020-10-10T00:29:45.576059Z",
     "start_time": "2020-10-10T00:29:45.563286Z"
    },
    "cell_style": "split"
   },
   "outputs": [
    {
     "data": {
      "text/plain": [
       "''"
      ]
     },
     "execution_count": 176,
     "metadata": {},
     "output_type": "execute_result"
    }
   ],
   "source": [
    "\"\""
   ]
  },
  {
   "cell_type": "code",
   "execution_count": 383,
   "metadata": {
    "ExecuteTime": {
     "end_time": "2020-10-10T21:05:30.157561Z",
     "start_time": "2020-10-10T21:05:30.141117Z"
    },
    "cell_style": "split"
   },
   "outputs": [
    {
     "data": {
      "text/plain": [
       "('G',\n",
       " 'G',\n",
       " 2.0,\n",
       " array([[ 0., -2.],\n",
       "        [-2.,  2.]]))"
      ]
     },
     "execution_count": 383,
     "metadata": {},
     "output_type": "execute_result"
    }
   ],
   "source": [
    "nwAlign('G','G',scoringMatrix,indel)"
   ]
  },
  {
   "cell_type": "code",
   "execution_count": null,
   "metadata": {
    "cell_style": "split"
   },
   "outputs": [],
   "source": []
  },
  {
   "cell_type": "code",
   "execution_count": 392,
   "metadata": {
    "ExecuteTime": {
     "end_time": "2020-10-10T21:13:06.230449Z",
     "start_time": "2020-10-10T21:13:06.215195Z"
    },
    "cell_style": "split"
   },
   "outputs": [
    {
     "data": {
      "text/plain": [
       "('CA',\n",
       " 'C-',\n",
       " 0.0,\n",
       " array([[ 0., -2., -4.],\n",
       "        [-2.,  2.,  0.]]))"
      ]
     },
     "execution_count": 392,
     "metadata": {},
     "output_type": "execute_result"
    }
   ],
   "source": [
    "nwAlign('C','CA',scoringMatrix,indel)"
   ]
  },
  {
   "cell_type": "code",
   "execution_count": 482,
   "metadata": {
    "ExecuteTime": {
     "end_time": "2020-10-10T22:09:00.920676Z",
     "start_time": "2020-10-10T22:09:00.894464Z"
    }
   },
   "outputs": [],
   "source": [
    "def recHirschberg(x,y,scoringMatrix,indel,v=False,verbose=False):\n",
    "    maxScore = 0  \n",
    "    z = '' #X alignment\n",
    "    w = '' #Y alignment\n",
    "    if v: print(x,y)\n",
    "       \n",
    "    #     if len(x) == 0 and len(y)>0:\n",
    "    #         print('x=0')\n",
    "    #         for i in range(0,len(y)-1):\n",
    "    #             w = w + '-'\n",
    "    #             z = z + y[i]\n",
    "\n",
    "    #     if len(y) == 0 and len(x)>0:\n",
    "    #         print('y=0')\n",
    "    #         for i in range(0,len(x)-1):\n",
    "    #             z = z + '-'\n",
    "    #             w = w + x[i]\n",
    "            \n",
    "    if len(y) == 1 or len(x) == 1: \n",
    "        if v: print('one is 1',x,y)\n",
    "        tmpZ,tmpW,_,fm = nwAlign(x,y,scoringMatrix,indel,verbose=False)\n",
    "        z += tmpZ\n",
    "        w += tmpW\n",
    "    else:\n",
    "        if v: print('recursive')\n",
    "        xA,xB = halfstring(x)\n",
    "         \n",
    "        ### Determine the split point \n",
    "        scoreF = linearSpaceAlign(xA,y,scoringMatrix,indel)\n",
    "        scoreR = linearSpaceAlign(xB[::-1],y[::-1],scoringMatrix,indel)\n",
    "        ### Get the max\n",
    "        arrSum = np.array(scoreF) + np.array(scoreR[::-1])\n",
    "        maxScore = max(arrSum)\n",
    "        whichMax = np.argmax(arrSum)\n",
    "        \n",
    "        \n",
    "        if v: print (\"\",scoreF,\"\\n\",scoreR[::-1],\"\\n\",arrSum,\"\\n\",\n",
    "               'alignment score:', maxScore,\n",
    "               '\\n position',whichMax)\n",
    "        \n",
    "        yA, yB = splitstring(y,whichMax)        \n",
    "        if v: print('split',xA,yA,xB,yB)    \n",
    "        tmpZl,tmpWl,_ = recHirschberg(xA,yA,scoringMatrix,indel)\n",
    "        tmpZr,tmpWr,_ = recHirschberg(xB,yB,scoringMatrix,indel)\n",
    "        z += tmpZl + tmpZr\n",
    "        w += tmpWl + tmpWr\n",
    "    return z,w,maxScore"
   ]
  },
  {
   "cell_type": "code",
   "execution_count": 483,
   "metadata": {
    "ExecuteTime": {
     "end_time": "2020-10-10T22:09:05.782220Z",
     "start_time": "2020-10-10T22:09:05.751540Z"
    }
   },
   "outputs": [
    {
     "data": {
      "text/plain": [
       "('--TA-TGC-', 'AGTAC-GCA', 4.0)"
      ]
     },
     "execution_count": 483,
     "metadata": {},
     "output_type": "execute_result"
    }
   ],
   "source": [
    "recHirschberg('AGTACGCA','TATGC',scoringMatrix,indel)"
   ]
  },
  {
   "cell_type": "markdown",
   "metadata": {},
   "source": [
    "---"
   ]
  },
  {
   "cell_type": "code",
   "execution_count": 484,
   "metadata": {
    "ExecuteTime": {
     "end_time": "2020-10-10T22:09:09.216619Z",
     "start_time": "2020-10-10T22:09:09.206579Z"
    }
   },
   "outputs": [],
   "source": [
    "x='ACGGAA'\n",
    "y='ATTCAA'\n",
    "####\n",
    "indel = 0\n",
    "mismatch= 0\n",
    "match = 1\n",
    "scoringMatrix = createScorMat(match,mismatch)"
   ]
  },
  {
   "cell_type": "code",
   "execution_count": 487,
   "metadata": {
    "ExecuteTime": {
     "end_time": "2020-10-10T22:09:39.834919Z",
     "start_time": "2020-10-10T22:09:39.811007Z"
    },
    "cell_style": "split"
   },
   "outputs": [
    {
     "name": "stdout",
     "output_type": "stream",
     "text": [
      "CPU times: user 3 µs, sys: 0 ns, total: 3 µs\n",
      "Wall time: 5.96 µs\n",
      "4.0\n",
      "A--CGGAA\n",
      "ATTC--AA\n"
     ]
    }
   ],
   "source": [
    "%time\n",
    "#### Needleman-Wunsch\n",
    "z,w,s,_ = nwAlign(x,y,scoringMatrix,indel)\n",
    "print(s)\n",
    "print(w)\n",
    "print(z)"
   ]
  },
  {
   "cell_type": "code",
   "execution_count": 488,
   "metadata": {
    "ExecuteTime": {
     "end_time": "2020-10-10T22:09:58.877162Z",
     "start_time": "2020-10-10T22:09:58.824331Z"
    },
    "cell_style": "split"
   },
   "outputs": [
    {
     "name": "stdout",
     "output_type": "stream",
     "text": [
      "CPU times: user 2 µs, sys: 0 ns, total: 2 µs\n",
      "Wall time: 5.96 µs\n",
      "4.0\n",
      "A--CGGAA\n",
      "ATTC--AA\n"
     ]
    }
   ],
   "source": [
    "### Recursive solution\n",
    "%time\n",
    "z,w,s = recHirschberg(x,y,scoringMatrix,indel)\n",
    "print(s)\n",
    "print(w)\n",
    "print(z)"
   ]
  },
  {
   "cell_type": "code",
   "execution_count": 489,
   "metadata": {
    "ExecuteTime": {
     "end_time": "2020-10-10T22:10:43.663719Z",
     "start_time": "2020-10-10T22:10:43.633625Z"
    }
   },
   "outputs": [],
   "source": [
    "x = 'ILYPRQSMICMSFCFWDMWKKDVPVVLMMFLERRQMQSVFSWLVTVKTDCGKGIYNHRKYLGLPTMTAGDWHWIKKQNDPHEWFQGRLETAWLHSTFLYWKYFECDAVKVCMDTFGLFGHCDWDQQIHTCTHENEPAIAFLDLYCRHSPMCDKLYPVWDMACQTCHFHHSWFCRNQEMWMKGDVDDWQWGYHYHTINSAQCNQWFKEICKDMGWDSVFPPRHNCQRHKKCMPALYAGIWMATDHACTFMVRLIYTENIAEWHQVYCYRSMNMFTCGNVCLRCKSWIFVKNYMMAPVVNDPMIEAFYKRCCILGKAWYDMWGICPVERKSHWEIYAKDLLSFESCCSQKKQNCYTDNWGLEYRLFFQSIQMNTDPHYCQTHVCWISAMFPIYSPFYTSGPKEFYMWLQARIDQNMHGHANHYVTSGNWDSVYTPEKRAGVFPVVVPVWYPPQMCNDYIKLTYECERFHVEGTFGCNRWDLGCRRYIIFQCPYCDTMKICYVDQWRSIKEGQFRMSGYPNHGYWFVHDDHTNEWCNQPVLAKFVRSKIVAICKKSQTVFHYAYTPGYNATWPQTNVCERMYGPHDNLLNNQQNVTFWWKMVPNCGMQILISCHNKMKWPTSHYVFMRLKCMHVLMQMEYLDHFTGPGEGDFCRNMQPYMHQDLHWEGSMRAILEYQAEHHRRAFRAELCAQYDQEIILWSGGWGVQDCGFHANYDGSLQVVSGEPCSMWCTTVMQYYADCWEKCMFA'\n",
    "y = 'ILIPRQQMGCFPFPWHFDFCFWSAHHSLVVPLNPQMQTVFQNRGLDRVTVKTDCHDHRWKWIYNLGLPTMTAGDWHFIKKHVVRANNPHQWFQGRLTTAWLHSTFLYKKTEYCLVRHSNCCHCDWDQIIHTCAFIAFLDLYQRHWPMCDKLYCHFHHSWFCRNQEMSMDWNQWFPWDSVPRANCLEEGALIALYAGIWANSMKRDMKTDHACTVRLIYVCELHAWLKYCYTSINMLCGNVCLRCKSWIFVKLFYMYAPVVNTIEANSPHYYKRCCILGQGICPVERKSHCEIYAKDLLSFESCCSQKQNCYTDNWGLEYRLFFQHIQMECTDPHANRGWTSCQTAKYWHFNLDDRPPKEFYMWLQATPTDLCMYQHCLMFKIVKQNFRKQHGHANPAASTSGNWDSVYTPEKMAYKDWYVSHPPVDMRRNGSKMVPVWYPPGIWHWKQSYKLTYECFFTVPGRFHVEGTFGCNRWDHQPGTRRDRQANHQFQCPYSDTMAIWEHAYTYVDQWRSIKEGQMPMSGYPNHGQWNVHDDHTNEQERSPICNQPVLAKFVRSKNVSNHEICKKSQTVFHWACEAQTNVCERMLNNQHVAVKRNVTFWWQMVPNCLWSCHNKMTWPTRPEQHRLFFVKMRLKCMHEYLDVAPSDFCRNMQAYMHSMRAILEYQADFDLKRRLRAIAPMDLCAQYDQEIILWSGGYIYDQSLQVVSCEGCSYYADCYVKCINVKEKCMFA'\n",
    "indel = -5"
   ]
  },
  {
   "cell_type": "code",
   "execution_count": null,
   "metadata": {
    "cell_style": "split"
   },
   "outputs": [],
   "source": [
    "%time # takes too long\n",
    "#### Needleman-Wunsch\n",
    "# z,w,s,_ = nwAlign(x,y,blosum,indel)\n",
    "# print(s)\n",
    "# print(w)\n",
    "# print(z)"
   ]
  },
  {
   "cell_type": "code",
   "execution_count": 490,
   "metadata": {
    "ExecuteTime": {
     "end_time": "2020-10-10T22:19:48.958520Z",
     "start_time": "2020-10-10T22:10:44.882555Z"
    },
    "cell_style": "split"
   },
   "outputs": [
    {
     "name": "stdout",
     "output_type": "stream",
     "text": [
      "CPU times: user 5 µs, sys: 1 µs, total: 6 µs\n",
      "Wall time: 23.1 µs\n",
      "1555\n",
      "ILYPRQSMICMSFCF-WDM--WKKDVPVVLMMFLERRQMQSVF-S-WL--VTVKTDCGKGIYNHR-K--Y-LGLPTMTAGDWHWIKK---Q-NDPHEWFQGRLETAWLHSTFLYWKYFE-CDAVKVCMDTFGLFGHCDWDQQIHTCTHENEPAIAFLDLYCRHSPMCDKLYPVWDMACQTCHFHHSWFCRNQEMWMKGDVDDWQWGYHYHTINSAQCNQWFKEICKDMGWDSVFPPRHNCQRHKKCMPALYAGIW---MA----TDHACTFMVRLIYTENIAEWHQVYCYRSMNMFTCGNVCLRCKSWIFVKN-YMMAPVVNDPMIEA--FYKRCCILGKAWYDMWGICPVERKSHWEIYAKDLLSFESCCSQKKQNCYTDNWGLEYRLFFQSIQMN-TDPH----Y--CQTHVCW-ISAMF-PIYSPFYT--SG-PKEFYMW---LQARI-DQNM---HGHANHYV-TSGNWDSVYTPEKRA--G--V-FP-V-V-------VPVWYPPQMCN-DY-IKLTYEC--E---RFHVEGTFGCNRWD-L-GCRR--YII--FQCPYCDTMKI---CY--VDQWRSIKEGQFRMSGYPNHGYWFVHDDHTNEW-----CNQPVLAKFVRSKIVA---ICKKSQTVFHYAYTPGYNATWPQTNVCERMYGPHDNLLNNQQNVTFWWKMVPNCGMQILISCHNKMKWPT--S-HYVF---MRLKCMHVLMQMEYLDHFTGPGEGDFCRNMQPYMHQDLHWEGSMRAILEYQAEHH-RRAFRA----ELCAQYDQEIILWSGGWGVQDCGFHANYDGSLQVVSGEPCSMWCTTVMQYYADCWEKCMFA\n",
      "ILIPRQQMGCFPFPWHFDFCFWSAHHSLVV-P-L-NPQMQTVFQNRGLDRVTVKTDC----HDHRWKWIYNLGLPTMTAGDWHFIKKHVVRANNPHQWFQGRLTTAWLHSTFLY-KKTEYC-LVR---HS-NCC-HCDWDQIIHTCAF-----IAFLDLYQRHWPMCDKLY---------CHFHHSWFCRNQEMSM-----D--W------------NQWF----P---WDSV--PRANCL-EEGALIALYAGIWANSMKRDMKTDHACT--VRLIYVCELHAWLK-YCYTSINML-CGNVCLRCKSWIFVKLFYMYAPVVNTIEANSPHYYKRCCILGQ------GICPVERKSHCEIYAKDLLSFESCCSQ-KQNCYTDNWGLEYRLFFQHIQMECTDPHANRGWTSCQTAKYWHFNLDDRP-PKEFYMWLQATPTDLCMYQHCLMFKIVKQNFRKQHGHANPAASTSGNWDSVYTPEKMAYKDWYVSHPPVDMRRNGSKMVPVWYPPGIWHWKQSYKLTYECFFTVPGRFHVEGTFGCNRWDHQPGTRRDRQANHQFQCPYSDTMAIWEHAYTYVDQWRSIKEGQMPMSGYPNHGQWNVHDDHTNEQERSPICNQPVLAKFVRSKNVSNHEICKKSQTVFHWA-C---EA---QTNVCERMLN-NQHVA-VKRNVTFWWQMVPNC----LWSCHNKMTWPTRPEQHRLFFVKMRLKCMH-----EYLD--VAP--SDFCRNMQAYM----H---SMRAILEYQADFDLKRRLRAIAPMDLCAQYDQEIILWSGGY-I--------YDQSLQVVSCEGCSYYADCYVK-CINVKEKCMFA\n"
     ]
    }
   ],
   "source": [
    "### Recursive solution\n",
    "%time\n",
    "z,w,s = recHirschberg(x,y,blosum,indel)\n",
    "print(s)\n",
    "print(w)\n",
    "print(z)"
   ]
  },
  {
   "cell_type": "code",
   "execution_count": null,
   "metadata": {},
   "outputs": [],
   "source": []
  },
  {
   "cell_type": "code",
   "execution_count": null,
   "metadata": {},
   "outputs": [],
   "source": []
  }
 ],
 "metadata": {
  "kernelspec": {
   "display_name": "Python 3",
   "language": "python",
   "name": "python3"
  },
  "language_info": {
   "codemirror_mode": {
    "name": "ipython",
    "version": 3
   },
   "file_extension": ".py",
   "mimetype": "text/x-python",
   "name": "python",
   "nbconvert_exporter": "python",
   "pygments_lexer": "ipython3",
   "version": "3.7.6"
  },
  "varInspector": {
   "cols": {
    "lenName": 16,
    "lenType": 16,
    "lenVar": 40
   },
   "kernels_config": {
    "python": {
     "delete_cmd_postfix": "",
     "delete_cmd_prefix": "del ",
     "library": "var_list.py",
     "varRefreshCmd": "print(var_dic_list())"
    },
    "r": {
     "delete_cmd_postfix": ") ",
     "delete_cmd_prefix": "rm(",
     "library": "var_list.r",
     "varRefreshCmd": "cat(var_dic_list()) "
    }
   },
   "types_to_exclude": [
    "module",
    "function",
    "builtin_function_or_method",
    "instance",
    "_Feature"
   ],
   "window_display": false
  }
 },
 "nbformat": 4,
 "nbformat_minor": 4
}
