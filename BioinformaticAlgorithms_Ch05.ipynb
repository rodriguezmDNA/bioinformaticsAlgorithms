{
 "cells": [
  {
   "cell_type": "markdown",
   "metadata": {},
   "source": [
    "# Bioinformatic Algorithms Chapter 5 - Alignment"
   ]
  },
  {
   "cell_type": "markdown",
   "metadata": {},
   "source": [
    "---\n",
    "\n",
    "### BA5A Find the Minimum Number of Coins Needed to Make Change\n",
    "http://rosalind.info/problems/ba5a/\n",
    "\n",
    "**The Change Problem** <br>\n",
    "_Find the minimum number of coins needed to make change._ <br>\n",
    "\n",
    "Given: An integer money and an array Coins of positive integers. <br>\n",
    "Return: The minimum number of coins with denominations Coins that changes money <br>"
   ]
  },
  {
   "cell_type": "code",
   "execution_count": 2,
   "metadata": {
    "ExecuteTime": {
     "end_time": "2020-09-21T18:33:41.449075Z",
     "start_time": "2020-09-21T18:33:41.443547Z"
    }
   },
   "outputs": [],
   "source": []
  },
  {
   "cell_type": "code",
   "execution_count": 32,
   "metadata": {
    "ExecuteTime": {
     "end_time": "2020-09-21T18:43:27.964754Z",
     "start_time": "2020-09-21T18:43:27.942121Z"
    }
   },
   "outputs": [],
   "source": [
    "# Get the smaller number of coins from array{denominations} that sum to int{money}\n",
    "\n",
    "### Greedy approach\n",
    "####\n",
    "\n",
    "### Order reverse\n",
    "\n",
    "def greedyChange(money,coins):\n",
    "    coins.sort(reverse=True)\n",
    "    remain = money\n",
    "    change = []\n",
    "    while remain > 0:\n",
    "        coin = [_ for _ in coins if _ <= remain] [0]\n",
    "        remain -= coin\n",
    "        change.append(coin)\n",
    "    return change, remain\n",
    "\n"
   ]
  },
  {
   "cell_type": "code",
   "execution_count": 33,
   "metadata": {
    "ExecuteTime": {
     "end_time": "2020-09-21T18:43:28.282567Z",
     "start_time": "2020-09-21T18:43:28.274230Z"
    }
   },
   "outputs": [
    {
     "data": {
      "text/plain": [
       "([25, 10, 5], 0)"
      ]
     },
     "execution_count": 33,
     "metadata": {},
     "output_type": "execute_result"
    }
   ],
   "source": [
    "money=40\n",
    "denominations=[1,5,10,20,25,50]\n",
    "greedyChange(money,denominations)"
   ]
  },
  {
   "cell_type": "code",
   "execution_count": 34,
   "metadata": {
    "ExecuteTime": {
     "end_time": "2020-09-21T18:43:28.954629Z",
     "start_time": "2020-09-21T18:43:28.941104Z"
    }
   },
   "outputs": [
    {
     "data": {
      "text/plain": [
       "([40, 5, 1, 1, 1], 0)"
      ]
     },
     "execution_count": 34,
     "metadata": {},
     "output_type": "execute_result"
    }
   ],
   "source": [
    "money=48\n",
    "denominations=[120,40,30,24,20,10,5,4,1]\n",
    "greedyChange(money,denominations)\n",
    "## not optimal since we can use change=[24,24]"
   ]
  },
  {
   "cell_type": "code",
   "execution_count": 61,
   "metadata": {
    "ExecuteTime": {
     "end_time": "2020-09-21T18:49:50.342101Z",
     "start_time": "2020-09-21T18:49:50.328585Z"
    }
   },
   "outputs": [
    {
     "data": {
      "text/plain": [
       "([40, 30, 5, 1], 0)"
      ]
     },
     "execution_count": 61,
     "metadata": {},
     "output_type": "execute_result"
    }
   ],
   "source": [
    "greedyChange(76,denominations)"
   ]
  },
  {
   "cell_type": "code",
   "execution_count": 117,
   "metadata": {
    "ExecuteTime": {
     "end_time": "2020-09-21T18:59:11.954013Z",
     "start_time": "2020-09-21T18:59:11.942718Z"
    }
   },
   "outputs": [],
   "source": [
    "def recursiveChange(money,denominations):\n",
    "    if money == 0: return 0\n",
    "    else:\n",
    "        minNumCoins = np.inf\n",
    "        totNumCoins = {}\n",
    "        for i in range(0,len(denominations)):\n",
    "            coin = denominations[i]\n",
    "            if money >= coin:\n",
    "                numCoins = recursiveChange(money-coin,denominations)\n",
    "                if numCoins + 1 < minNumCoins:\n",
    "                    minNumCoins = numCoins + 1\n",
    "    return minNumCoins"
   ]
  },
  {
   "cell_type": "code",
   "execution_count": 118,
   "metadata": {
    "ExecuteTime": {
     "end_time": "2020-09-21T18:59:12.218598Z",
     "start_time": "2020-09-21T18:59:12.193860Z"
    }
   },
   "outputs": [
    {
     "data": {
      "text/plain": [
       "3"
      ]
     },
     "execution_count": 118,
     "metadata": {},
     "output_type": "execute_result"
    }
   ],
   "source": [
    "recursiveChange(7,[5,4,1])"
   ]
  },
  {
   "cell_type": "code",
   "execution_count": 161,
   "metadata": {
    "ExecuteTime": {
     "end_time": "2020-09-21T19:15:11.008641Z",
     "start_time": "2020-09-21T19:15:10.993985Z"
    }
   },
   "outputs": [],
   "source": [
    "import pandas as pd\n",
    "def dynprogChange(money,denominations):\n",
    "    minNumCoins = [0]\n",
    "    for m in range(0,money+1):\n",
    "        minNumCoins.append(np.inf)\n",
    "        for i in range(0,len(denominations)):\n",
    "            coin = denominations[i]\n",
    "            if m >= coin:\n",
    "                if (minNumCoins[m-coin] + 1) < minNumCoins[m]:\n",
    "                    minNumCoins[m] = minNumCoins[m-coin] + 1\n",
    "    res = minNumCoins[0:len(minNumCoins)-1]\n",
    "    return pd.DataFrame(res).T"
   ]
  },
  {
   "cell_type": "code",
   "execution_count": 163,
   "metadata": {
    "ExecuteTime": {
     "end_time": "2020-09-21T19:15:13.695172Z",
     "start_time": "2020-09-21T19:15:13.670501Z"
    }
   },
   "outputs": [
    {
     "data": {
      "text/html": [
       "<div>\n",
       "<style scoped>\n",
       "    .dataframe tbody tr th:only-of-type {\n",
       "        vertical-align: middle;\n",
       "    }\n",
       "\n",
       "    .dataframe tbody tr th {\n",
       "        vertical-align: top;\n",
       "    }\n",
       "\n",
       "    .dataframe thead th {\n",
       "        text-align: right;\n",
       "    }\n",
       "</style>\n",
       "<table border=\"1\" class=\"dataframe\">\n",
       "  <thead>\n",
       "    <tr style=\"text-align: right;\">\n",
       "      <th></th>\n",
       "      <th>0</th>\n",
       "      <th>1</th>\n",
       "      <th>2</th>\n",
       "      <th>3</th>\n",
       "      <th>4</th>\n",
       "      <th>5</th>\n",
       "      <th>6</th>\n",
       "      <th>7</th>\n",
       "      <th>8</th>\n",
       "      <th>9</th>\n",
       "      <th>10</th>\n",
       "      <th>11</th>\n",
       "      <th>12</th>\n",
       "    </tr>\n",
       "  </thead>\n",
       "  <tbody>\n",
       "    <tr>\n",
       "      <th>0</th>\n",
       "      <td>0</td>\n",
       "      <td>1</td>\n",
       "      <td>2</td>\n",
       "      <td>3</td>\n",
       "      <td>1</td>\n",
       "      <td>1</td>\n",
       "      <td>2</td>\n",
       "      <td>3</td>\n",
       "      <td>2</td>\n",
       "      <td>2</td>\n",
       "      <td>2</td>\n",
       "      <td>3</td>\n",
       "      <td>3</td>\n",
       "    </tr>\n",
       "  </tbody>\n",
       "</table>\n",
       "</div>"
      ],
      "text/plain": [
       "   0  1  2  3  4  5  6  7  8  9  10  11  12\n",
       "0  0  1  2  3  1  1  2  3  2  2   2   3   3"
      ]
     },
     "execution_count": 163,
     "metadata": {},
     "output_type": "execute_result"
    }
   ],
   "source": [
    "res = dynprogChange(12,[5,4,1])\n",
    "res"
   ]
  },
  {
   "cell_type": "code",
   "execution_count": 166,
   "metadata": {
    "ExecuteTime": {
     "end_time": "2020-09-21T19:16:53.653524Z",
     "start_time": "2020-09-21T19:16:53.580799Z"
    }
   },
   "outputs": [
    {
     "data": {
      "text/html": [
       "<div>\n",
       "<style scoped>\n",
       "    .dataframe tbody tr th:only-of-type {\n",
       "        vertical-align: middle;\n",
       "    }\n",
       "\n",
       "    .dataframe tbody tr th {\n",
       "        vertical-align: top;\n",
       "    }\n",
       "\n",
       "    .dataframe thead th {\n",
       "        text-align: right;\n",
       "    }\n",
       "</style>\n",
       "<table border=\"1\" class=\"dataframe\">\n",
       "  <thead>\n",
       "    <tr style=\"text-align: right;\">\n",
       "      <th></th>\n",
       "      <th>40</th>\n",
       "    </tr>\n",
       "  </thead>\n",
       "  <tbody>\n",
       "    <tr>\n",
       "      <th>0</th>\n",
       "      <td>2</td>\n",
       "    </tr>\n",
       "  </tbody>\n",
       "</table>\n",
       "</div>"
      ],
      "text/plain": [
       "   40\n",
       "0   2"
      ]
     },
     "execution_count": 166,
     "metadata": {},
     "output_type": "execute_result"
    }
   ],
   "source": [
    "m=40\n",
    "d=1,5,10,20,25,50\n",
    "dynprogChange(m,d)[[m]]"
   ]
  },
  {
   "cell_type": "code",
   "execution_count": 167,
   "metadata": {
    "ExecuteTime": {
     "end_time": "2020-09-21T19:17:25.876752Z",
     "start_time": "2020-09-21T19:17:25.786958Z"
    }
   },
   "outputs": [
    {
     "data": {
      "text/html": [
       "<div>\n",
       "<style scoped>\n",
       "    .dataframe tbody tr th:only-of-type {\n",
       "        vertical-align: middle;\n",
       "    }\n",
       "\n",
       "    .dataframe tbody tr th {\n",
       "        vertical-align: top;\n",
       "    }\n",
       "\n",
       "    .dataframe thead th {\n",
       "        text-align: right;\n",
       "    }\n",
       "</style>\n",
       "<table border=\"1\" class=\"dataframe\">\n",
       "  <thead>\n",
       "    <tr style=\"text-align: right;\">\n",
       "      <th></th>\n",
       "      <th>8074</th>\n",
       "    </tr>\n",
       "  </thead>\n",
       "  <tbody>\n",
       "    <tr>\n",
       "      <th>0</th>\n",
       "      <td>338</td>\n",
       "    </tr>\n",
       "  </tbody>\n",
       "</table>\n",
       "</div>"
      ],
      "text/plain": [
       "   8074\n",
       "0   338"
      ]
     },
     "execution_count": 167,
     "metadata": {},
     "output_type": "execute_result"
    }
   ],
   "source": [
    "#http://bioinformaticsalgorithms.com/data/extradatasets/alignment/change_problem.txt\n",
    "m=8074\n",
    "d=[24,13,12,7,5,3,1]\n",
    "#338\n",
    "dynprogChange(m,d)[[m]]"
   ]
  },
  {
   "cell_type": "code",
   "execution_count": 168,
   "metadata": {
    "ExecuteTime": {
     "end_time": "2020-09-21T19:18:02.195600Z",
     "start_time": "2020-09-21T19:18:02.081082Z"
    }
   },
   "outputs": [
    {
     "data": {
      "text/html": [
       "<div>\n",
       "<style scoped>\n",
       "    .dataframe tbody tr th:only-of-type {\n",
       "        vertical-align: middle;\n",
       "    }\n",
       "\n",
       "    .dataframe tbody tr th {\n",
       "        vertical-align: top;\n",
       "    }\n",
       "\n",
       "    .dataframe thead th {\n",
       "        text-align: right;\n",
       "    }\n",
       "</style>\n",
       "<table border=\"1\" class=\"dataframe\">\n",
       "  <thead>\n",
       "    <tr style=\"text-align: right;\">\n",
       "      <th></th>\n",
       "      <th>18667</th>\n",
       "    </tr>\n",
       "  </thead>\n",
       "  <tbody>\n",
       "    <tr>\n",
       "      <th>0</th>\n",
       "      <td>985</td>\n",
       "    </tr>\n",
       "  </tbody>\n",
       "</table>\n",
       "</div>"
      ],
      "text/plain": [
       "   18667\n",
       "0    985"
      ]
     },
     "execution_count": 168,
     "metadata": {},
     "output_type": "execute_result"
    }
   ],
   "source": [
    "#http://bioinformaticsalgorithms.com/data/extradatasets/alignment/change_problem.txt\n",
    "m=18667\n",
    "d=[1,3,5,19]\n",
    "dynprogChange(m,d)[[m]]"
   ]
  },
  {
   "cell_type": "markdown",
   "metadata": {},
   "source": [
    "---\n",
    "\n",
    "### BA5B Find the Length of a Longest Path in a Manhattan-like Grid\n",
    "http://rosalind.info/problems/ba5b/\n",
    "\n",
    "\n",
    "**Length of a Longest Path in the Manhattan Tourist Problem** <br>\n",
    "\n",
    "\n",
    "_Find the length of a longest path in a rectangular city._ <br>\n",
    "\n",
    "\n",
    "Given: Integers n and m, followed by an n × (m+1) matrix Down and an (n+1) × m matrix Right. The two matrices are separated by the \"-\" symbol. <br>\n",
    "Return: The length of a longest path from source (0, 0) to sink (n, m) in the n × m rectangular grid whose edges are defined by the matrices Down and Right. <br>"
   ]
  },
  {
   "cell_type": "code",
   "execution_count": 84,
   "metadata": {
    "ExecuteTime": {
     "end_time": "2020-09-22T19:54:30.674363Z",
     "start_time": "2020-09-22T19:54:30.655618Z"
    }
   },
   "outputs": [],
   "source": [
    "import pandas as pd\n",
    "def manhTourist(n,m,Down,Right):\n",
    "    s = pd.DataFrame(-np.inf,index=range(0,n+1),columns=range(0,m+1))\n",
    "    s[0][0] = 0\n",
    "    ## Fill first column first\n",
    "    for i in range(1,n+1):\n",
    "        s[0][i] = s[0][i-1] + Down[0][i-1]\n",
    "    for j in range(1,m+1):\n",
    "        s[j][0] = s[j-1][0] + Right[j-1][0]\n",
    "    for i in range(1,n+1):\n",
    "        for j in range(1,m+1):\n",
    "            d = s[j][i-1] + Down[j][i-1]\n",
    "            r = s[j-1][i] + Right[j-1][i]\n",
    "            s[j][i] = max(d,r)\n",
    "    return s[m][n]"
   ]
  },
  {
   "cell_type": "markdown",
   "metadata": {
    "cell_style": "split"
   },
   "source": [
    "1 0 2 4 3\n",
    "4 6 5 2 1\n",
    "4 4 5 2 1\n",
    "5 6 8 5 3"
   ]
  },
  {
   "cell_type": "markdown",
   "metadata": {
    "cell_style": "split"
   },
   "source": [
    "3 2 4 0\n",
    "3 2 4 2\n",
    "0 7 3 3\n",
    "3 3 0 2\n",
    "1 3 2 2"
   ]
  },
  {
   "cell_type": "code",
   "execution_count": 6,
   "metadata": {
    "ExecuteTime": {
     "end_time": "2020-09-22T17:27:04.894925Z",
     "start_time": "2020-09-22T17:27:04.721384Z"
    },
    "cell_style": "split"
   },
   "outputs": [
    {
     "data": {
      "text/html": [
       "<div>\n",
       "<style scoped>\n",
       "    .dataframe tbody tr th:only-of-type {\n",
       "        vertical-align: middle;\n",
       "    }\n",
       "\n",
       "    .dataframe tbody tr th {\n",
       "        vertical-align: top;\n",
       "    }\n",
       "\n",
       "    .dataframe thead th {\n",
       "        text-align: right;\n",
       "    }\n",
       "</style>\n",
       "<table border=\"1\" class=\"dataframe\">\n",
       "  <thead>\n",
       "    <tr style=\"text-align: right;\">\n",
       "      <th></th>\n",
       "      <th>0</th>\n",
       "      <th>1</th>\n",
       "      <th>2</th>\n",
       "      <th>3</th>\n",
       "      <th>4</th>\n",
       "    </tr>\n",
       "  </thead>\n",
       "  <tbody>\n",
       "    <tr>\n",
       "      <th>0</th>\n",
       "      <td>1</td>\n",
       "      <td>0</td>\n",
       "      <td>2</td>\n",
       "      <td>4</td>\n",
       "      <td>3</td>\n",
       "    </tr>\n",
       "    <tr>\n",
       "      <th>1</th>\n",
       "      <td>4</td>\n",
       "      <td>6</td>\n",
       "      <td>5</td>\n",
       "      <td>2</td>\n",
       "      <td>1</td>\n",
       "    </tr>\n",
       "    <tr>\n",
       "      <th>2</th>\n",
       "      <td>4</td>\n",
       "      <td>4</td>\n",
       "      <td>5</td>\n",
       "      <td>2</td>\n",
       "      <td>1</td>\n",
       "    </tr>\n",
       "    <tr>\n",
       "      <th>3</th>\n",
       "      <td>5</td>\n",
       "      <td>6</td>\n",
       "      <td>8</td>\n",
       "      <td>5</td>\n",
       "      <td>3</td>\n",
       "    </tr>\n",
       "  </tbody>\n",
       "</table>\n",
       "</div>"
      ],
      "text/plain": [
       "   0  1  2  3  4\n",
       "0  1  0  2  4  3\n",
       "1  4  6  5  2  1\n",
       "2  4  4  5  2  1\n",
       "3  5  6  8  5  3"
      ]
     },
     "execution_count": 6,
     "metadata": {},
     "output_type": "execute_result"
    }
   ],
   "source": [
    "down=pd.read_clipboard(header=None, names=None)\n",
    "down"
   ]
  },
  {
   "cell_type": "code",
   "execution_count": 7,
   "metadata": {
    "ExecuteTime": {
     "end_time": "2020-09-22T17:27:47.166197Z",
     "start_time": "2020-09-22T17:27:47.031045Z"
    },
    "cell_style": "split"
   },
   "outputs": [
    {
     "data": {
      "text/html": [
       "<div>\n",
       "<style scoped>\n",
       "    .dataframe tbody tr th:only-of-type {\n",
       "        vertical-align: middle;\n",
       "    }\n",
       "\n",
       "    .dataframe tbody tr th {\n",
       "        vertical-align: top;\n",
       "    }\n",
       "\n",
       "    .dataframe thead th {\n",
       "        text-align: right;\n",
       "    }\n",
       "</style>\n",
       "<table border=\"1\" class=\"dataframe\">\n",
       "  <thead>\n",
       "    <tr style=\"text-align: right;\">\n",
       "      <th></th>\n",
       "      <th>0</th>\n",
       "      <th>1</th>\n",
       "      <th>2</th>\n",
       "      <th>3</th>\n",
       "    </tr>\n",
       "  </thead>\n",
       "  <tbody>\n",
       "    <tr>\n",
       "      <th>0</th>\n",
       "      <td>3</td>\n",
       "      <td>2</td>\n",
       "      <td>4</td>\n",
       "      <td>0</td>\n",
       "    </tr>\n",
       "    <tr>\n",
       "      <th>1</th>\n",
       "      <td>3</td>\n",
       "      <td>2</td>\n",
       "      <td>4</td>\n",
       "      <td>2</td>\n",
       "    </tr>\n",
       "    <tr>\n",
       "      <th>2</th>\n",
       "      <td>0</td>\n",
       "      <td>7</td>\n",
       "      <td>3</td>\n",
       "      <td>3</td>\n",
       "    </tr>\n",
       "    <tr>\n",
       "      <th>3</th>\n",
       "      <td>3</td>\n",
       "      <td>3</td>\n",
       "      <td>0</td>\n",
       "      <td>2</td>\n",
       "    </tr>\n",
       "    <tr>\n",
       "      <th>4</th>\n",
       "      <td>1</td>\n",
       "      <td>3</td>\n",
       "      <td>2</td>\n",
       "      <td>2</td>\n",
       "    </tr>\n",
       "  </tbody>\n",
       "</table>\n",
       "</div>"
      ],
      "text/plain": [
       "   0  1  2  3\n",
       "0  3  2  4  0\n",
       "1  3  2  4  2\n",
       "2  0  7  3  3\n",
       "3  3  3  0  2\n",
       "4  1  3  2  2"
      ]
     },
     "execution_count": 7,
     "metadata": {},
     "output_type": "execute_result"
    }
   ],
   "source": [
    "right=pd.read_clipboard(header=None, names=None)\n",
    "right"
   ]
  },
  {
   "cell_type": "code",
   "execution_count": 30,
   "metadata": {
    "ExecuteTime": {
     "end_time": "2020-09-22T17:58:13.263236Z",
     "start_time": "2020-09-22T17:58:13.244995Z"
    }
   },
   "outputs": [
    {
     "data": {
      "text/plain": [
       "34.0"
      ]
     },
     "execution_count": 30,
     "metadata": {},
     "output_type": "execute_result"
    }
   ],
   "source": [
    "n=4\n",
    "m=4\n",
    "manhTourist(n,m,down,right)"
   ]
  },
  {
   "cell_type": "code",
   "execution_count": 33,
   "metadata": {
    "ExecuteTime": {
     "end_time": "2020-09-22T17:59:28.649448Z",
     "start_time": "2020-09-22T17:59:28.514472Z"
    },
    "cell_style": "split"
   },
   "outputs": [
    {
     "data": {
      "text/html": [
       "<div>\n",
       "<style scoped>\n",
       "    .dataframe tbody tr th:only-of-type {\n",
       "        vertical-align: middle;\n",
       "    }\n",
       "\n",
       "    .dataframe tbody tr th {\n",
       "        vertical-align: top;\n",
       "    }\n",
       "\n",
       "    .dataframe thead th {\n",
       "        text-align: right;\n",
       "    }\n",
       "</style>\n",
       "<table border=\"1\" class=\"dataframe\">\n",
       "  <thead>\n",
       "    <tr style=\"text-align: right;\">\n",
       "      <th></th>\n",
       "      <th>0</th>\n",
       "      <th>1</th>\n",
       "      <th>2</th>\n",
       "      <th>3</th>\n",
       "      <th>4</th>\n",
       "      <th>5</th>\n",
       "      <th>6</th>\n",
       "      <th>7</th>\n",
       "      <th>8</th>\n",
       "      <th>9</th>\n",
       "    </tr>\n",
       "  </thead>\n",
       "  <tbody>\n",
       "    <tr>\n",
       "      <th>0</th>\n",
       "      <td>2</td>\n",
       "      <td>3</td>\n",
       "      <td>4</td>\n",
       "      <td>0</td>\n",
       "      <td>3</td>\n",
       "      <td>1</td>\n",
       "      <td>1</td>\n",
       "      <td>1</td>\n",
       "      <td>1</td>\n",
       "      <td>1</td>\n",
       "    </tr>\n",
       "    <tr>\n",
       "      <th>1</th>\n",
       "      <td>4</td>\n",
       "      <td>2</td>\n",
       "      <td>3</td>\n",
       "      <td>4</td>\n",
       "      <td>3</td>\n",
       "      <td>3</td>\n",
       "      <td>0</td>\n",
       "      <td>4</td>\n",
       "      <td>1</td>\n",
       "      <td>1</td>\n",
       "    </tr>\n",
       "    <tr>\n",
       "      <th>2</th>\n",
       "      <td>4</td>\n",
       "      <td>4</td>\n",
       "      <td>0</td>\n",
       "      <td>1</td>\n",
       "      <td>4</td>\n",
       "      <td>3</td>\n",
       "      <td>2</td>\n",
       "      <td>0</td>\n",
       "      <td>2</td>\n",
       "      <td>2</td>\n",
       "    </tr>\n",
       "    <tr>\n",
       "      <th>3</th>\n",
       "      <td>4</td>\n",
       "      <td>3</td>\n",
       "      <td>0</td>\n",
       "      <td>3</td>\n",
       "      <td>4</td>\n",
       "      <td>4</td>\n",
       "      <td>3</td>\n",
       "      <td>2</td>\n",
       "      <td>4</td>\n",
       "      <td>4</td>\n",
       "    </tr>\n",
       "    <tr>\n",
       "      <th>4</th>\n",
       "      <td>0</td>\n",
       "      <td>1</td>\n",
       "      <td>0</td>\n",
       "      <td>1</td>\n",
       "      <td>3</td>\n",
       "      <td>0</td>\n",
       "      <td>3</td>\n",
       "      <td>0</td>\n",
       "      <td>3</td>\n",
       "      <td>4</td>\n",
       "    </tr>\n",
       "    <tr>\n",
       "      <th>5</th>\n",
       "      <td>3</td>\n",
       "      <td>2</td>\n",
       "      <td>4</td>\n",
       "      <td>4</td>\n",
       "      <td>4</td>\n",
       "      <td>3</td>\n",
       "      <td>1</td>\n",
       "      <td>0</td>\n",
       "      <td>0</td>\n",
       "      <td>0</td>\n",
       "    </tr>\n",
       "    <tr>\n",
       "      <th>6</th>\n",
       "      <td>3</td>\n",
       "      <td>4</td>\n",
       "      <td>3</td>\n",
       "      <td>1</td>\n",
       "      <td>2</td>\n",
       "      <td>3</td>\n",
       "      <td>0</td>\n",
       "      <td>0</td>\n",
       "      <td>4</td>\n",
       "      <td>0</td>\n",
       "    </tr>\n",
       "    <tr>\n",
       "      <th>7</th>\n",
       "      <td>2</td>\n",
       "      <td>4</td>\n",
       "      <td>3</td>\n",
       "      <td>4</td>\n",
       "      <td>1</td>\n",
       "      <td>2</td>\n",
       "      <td>0</td>\n",
       "      <td>3</td>\n",
       "      <td>2</td>\n",
       "      <td>0</td>\n",
       "    </tr>\n",
       "    <tr>\n",
       "      <th>8</th>\n",
       "      <td>1</td>\n",
       "      <td>4</td>\n",
       "      <td>4</td>\n",
       "      <td>1</td>\n",
       "      <td>4</td>\n",
       "      <td>4</td>\n",
       "      <td>3</td>\n",
       "      <td>1</td>\n",
       "      <td>1</td>\n",
       "      <td>4</td>\n",
       "    </tr>\n",
       "    <tr>\n",
       "      <th>9</th>\n",
       "      <td>3</td>\n",
       "      <td>1</td>\n",
       "      <td>2</td>\n",
       "      <td>2</td>\n",
       "      <td>3</td>\n",
       "      <td>3</td>\n",
       "      <td>0</td>\n",
       "      <td>4</td>\n",
       "      <td>0</td>\n",
       "      <td>0</td>\n",
       "    </tr>\n",
       "    <tr>\n",
       "      <th>10</th>\n",
       "      <td>0</td>\n",
       "      <td>2</td>\n",
       "      <td>1</td>\n",
       "      <td>4</td>\n",
       "      <td>1</td>\n",
       "      <td>3</td>\n",
       "      <td>1</td>\n",
       "      <td>3</td>\n",
       "      <td>1</td>\n",
       "      <td>0</td>\n",
       "    </tr>\n",
       "    <tr>\n",
       "      <th>11</th>\n",
       "      <td>1</td>\n",
       "      <td>0</td>\n",
       "      <td>4</td>\n",
       "      <td>0</td>\n",
       "      <td>4</td>\n",
       "      <td>3</td>\n",
       "      <td>3</td>\n",
       "      <td>2</td>\n",
       "      <td>3</td>\n",
       "      <td>1</td>\n",
       "    </tr>\n",
       "    <tr>\n",
       "      <th>12</th>\n",
       "      <td>2</td>\n",
       "      <td>0</td>\n",
       "      <td>0</td>\n",
       "      <td>4</td>\n",
       "      <td>3</td>\n",
       "      <td>4</td>\n",
       "      <td>0</td>\n",
       "      <td>3</td>\n",
       "      <td>0</td>\n",
       "      <td>0</td>\n",
       "    </tr>\n",
       "    <tr>\n",
       "      <th>13</th>\n",
       "      <td>4</td>\n",
       "      <td>1</td>\n",
       "      <td>0</td>\n",
       "      <td>4</td>\n",
       "      <td>3</td>\n",
       "      <td>2</td>\n",
       "      <td>1</td>\n",
       "      <td>1</td>\n",
       "      <td>3</td>\n",
       "      <td>1</td>\n",
       "    </tr>\n",
       "    <tr>\n",
       "      <th>14</th>\n",
       "      <td>2</td>\n",
       "      <td>4</td>\n",
       "      <td>4</td>\n",
       "      <td>3</td>\n",
       "      <td>3</td>\n",
       "      <td>4</td>\n",
       "      <td>0</td>\n",
       "      <td>0</td>\n",
       "      <td>4</td>\n",
       "      <td>3</td>\n",
       "    </tr>\n",
       "    <tr>\n",
       "      <th>15</th>\n",
       "      <td>1</td>\n",
       "      <td>0</td>\n",
       "      <td>2</td>\n",
       "      <td>3</td>\n",
       "      <td>3</td>\n",
       "      <td>0</td>\n",
       "      <td>4</td>\n",
       "      <td>0</td>\n",
       "      <td>2</td>\n",
       "      <td>0</td>\n",
       "    </tr>\n",
       "    <tr>\n",
       "      <th>16</th>\n",
       "      <td>3</td>\n",
       "      <td>1</td>\n",
       "      <td>0</td>\n",
       "      <td>3</td>\n",
       "      <td>2</td>\n",
       "      <td>3</td>\n",
       "      <td>2</td>\n",
       "      <td>2</td>\n",
       "      <td>1</td>\n",
       "      <td>4</td>\n",
       "    </tr>\n",
       "  </tbody>\n",
       "</table>\n",
       "</div>"
      ],
      "text/plain": [
       "    0  1  2  3  4  5  6  7  8  9\n",
       "0   2  3  4  0  3  1  1  1  1  1\n",
       "1   4  2  3  4  3  3  0  4  1  1\n",
       "2   4  4  0  1  4  3  2  0  2  2\n",
       "3   4  3  0  3  4  4  3  2  4  4\n",
       "4   0  1  0  1  3  0  3  0  3  4\n",
       "5   3  2  4  4  4  3  1  0  0  0\n",
       "6   3  4  3  1  2  3  0  0  4  0\n",
       "7   2  4  3  4  1  2  0  3  2  0\n",
       "8   1  4  4  1  4  4  3  1  1  4\n",
       "9   3  1  2  2  3  3  0  4  0  0\n",
       "10  0  2  1  4  1  3  1  3  1  0\n",
       "11  1  0  4  0  4  3  3  2  3  1\n",
       "12  2  0  0  4  3  4  0  3  0  0\n",
       "13  4  1  0  4  3  2  1  1  3  1\n",
       "14  2  4  4  3  3  4  0  0  4  3\n",
       "15  1  0  2  3  3  0  4  0  2  0\n",
       "16  3  1  0  3  2  3  2  2  1  4"
      ]
     },
     "execution_count": 33,
     "metadata": {},
     "output_type": "execute_result"
    }
   ],
   "source": [
    "down=pd.read_clipboard(header=None, names=None)\n",
    "down"
   ]
  },
  {
   "cell_type": "code",
   "execution_count": 34,
   "metadata": {
    "ExecuteTime": {
     "end_time": "2020-09-22T17:59:35.617792Z",
     "start_time": "2020-09-22T17:59:35.526834Z"
    },
    "cell_style": "split"
   },
   "outputs": [
    {
     "data": {
      "text/html": [
       "<div>\n",
       "<style scoped>\n",
       "    .dataframe tbody tr th:only-of-type {\n",
       "        vertical-align: middle;\n",
       "    }\n",
       "\n",
       "    .dataframe tbody tr th {\n",
       "        vertical-align: top;\n",
       "    }\n",
       "\n",
       "    .dataframe thead th {\n",
       "        text-align: right;\n",
       "    }\n",
       "</style>\n",
       "<table border=\"1\" class=\"dataframe\">\n",
       "  <thead>\n",
       "    <tr style=\"text-align: right;\">\n",
       "      <th></th>\n",
       "      <th>0</th>\n",
       "      <th>1</th>\n",
       "      <th>2</th>\n",
       "      <th>3</th>\n",
       "      <th>4</th>\n",
       "      <th>5</th>\n",
       "      <th>6</th>\n",
       "      <th>7</th>\n",
       "      <th>8</th>\n",
       "    </tr>\n",
       "  </thead>\n",
       "  <tbody>\n",
       "    <tr>\n",
       "      <th>0</th>\n",
       "      <td>1</td>\n",
       "      <td>0</td>\n",
       "      <td>4</td>\n",
       "      <td>4</td>\n",
       "      <td>3</td>\n",
       "      <td>3</td>\n",
       "      <td>1</td>\n",
       "      <td>0</td>\n",
       "      <td>4</td>\n",
       "    </tr>\n",
       "    <tr>\n",
       "      <th>1</th>\n",
       "      <td>0</td>\n",
       "      <td>2</td>\n",
       "      <td>0</td>\n",
       "      <td>3</td>\n",
       "      <td>3</td>\n",
       "      <td>0</td>\n",
       "      <td>1</td>\n",
       "      <td>2</td>\n",
       "      <td>1</td>\n",
       "    </tr>\n",
       "    <tr>\n",
       "      <th>2</th>\n",
       "      <td>3</td>\n",
       "      <td>2</td>\n",
       "      <td>3</td>\n",
       "      <td>1</td>\n",
       "      <td>1</td>\n",
       "      <td>4</td>\n",
       "      <td>2</td>\n",
       "      <td>4</td>\n",
       "      <td>4</td>\n",
       "    </tr>\n",
       "    <tr>\n",
       "      <th>3</th>\n",
       "      <td>1</td>\n",
       "      <td>3</td>\n",
       "      <td>4</td>\n",
       "      <td>4</td>\n",
       "      <td>2</td>\n",
       "      <td>1</td>\n",
       "      <td>1</td>\n",
       "      <td>1</td>\n",
       "      <td>4</td>\n",
       "    </tr>\n",
       "    <tr>\n",
       "      <th>4</th>\n",
       "      <td>1</td>\n",
       "      <td>4</td>\n",
       "      <td>2</td>\n",
       "      <td>2</td>\n",
       "      <td>3</td>\n",
       "      <td>1</td>\n",
       "      <td>3</td>\n",
       "      <td>2</td>\n",
       "      <td>3</td>\n",
       "    </tr>\n",
       "    <tr>\n",
       "      <th>5</th>\n",
       "      <td>0</td>\n",
       "      <td>3</td>\n",
       "      <td>1</td>\n",
       "      <td>0</td>\n",
       "      <td>1</td>\n",
       "      <td>0</td>\n",
       "      <td>4</td>\n",
       "      <td>1</td>\n",
       "      <td>4</td>\n",
       "    </tr>\n",
       "    <tr>\n",
       "      <th>6</th>\n",
       "      <td>1</td>\n",
       "      <td>3</td>\n",
       "      <td>4</td>\n",
       "      <td>4</td>\n",
       "      <td>1</td>\n",
       "      <td>0</td>\n",
       "      <td>3</td>\n",
       "      <td>2</td>\n",
       "      <td>1</td>\n",
       "    </tr>\n",
       "    <tr>\n",
       "      <th>7</th>\n",
       "      <td>2</td>\n",
       "      <td>3</td>\n",
       "      <td>1</td>\n",
       "      <td>2</td>\n",
       "      <td>3</td>\n",
       "      <td>2</td>\n",
       "      <td>2</td>\n",
       "      <td>2</td>\n",
       "      <td>3</td>\n",
       "    </tr>\n",
       "    <tr>\n",
       "      <th>8</th>\n",
       "      <td>3</td>\n",
       "      <td>2</td>\n",
       "      <td>1</td>\n",
       "      <td>4</td>\n",
       "      <td>0</td>\n",
       "      <td>2</td>\n",
       "      <td>4</td>\n",
       "      <td>2</td>\n",
       "      <td>4</td>\n",
       "    </tr>\n",
       "    <tr>\n",
       "      <th>9</th>\n",
       "      <td>4</td>\n",
       "      <td>0</td>\n",
       "      <td>2</td>\n",
       "      <td>0</td>\n",
       "      <td>1</td>\n",
       "      <td>3</td>\n",
       "      <td>1</td>\n",
       "      <td>4</td>\n",
       "      <td>4</td>\n",
       "    </tr>\n",
       "    <tr>\n",
       "      <th>10</th>\n",
       "      <td>1</td>\n",
       "      <td>3</td>\n",
       "      <td>0</td>\n",
       "      <td>2</td>\n",
       "      <td>2</td>\n",
       "      <td>1</td>\n",
       "      <td>0</td>\n",
       "      <td>3</td>\n",
       "      <td>2</td>\n",
       "    </tr>\n",
       "    <tr>\n",
       "      <th>11</th>\n",
       "      <td>1</td>\n",
       "      <td>4</td>\n",
       "      <td>0</td>\n",
       "      <td>4</td>\n",
       "      <td>4</td>\n",
       "      <td>1</td>\n",
       "      <td>2</td>\n",
       "      <td>4</td>\n",
       "      <td>2</td>\n",
       "    </tr>\n",
       "    <tr>\n",
       "      <th>12</th>\n",
       "      <td>0</td>\n",
       "      <td>2</td>\n",
       "      <td>4</td>\n",
       "      <td>3</td>\n",
       "      <td>4</td>\n",
       "      <td>0</td>\n",
       "      <td>3</td>\n",
       "      <td>2</td>\n",
       "      <td>2</td>\n",
       "    </tr>\n",
       "    <tr>\n",
       "      <th>13</th>\n",
       "      <td>2</td>\n",
       "      <td>3</td>\n",
       "      <td>4</td>\n",
       "      <td>4</td>\n",
       "      <td>0</td>\n",
       "      <td>4</td>\n",
       "      <td>3</td>\n",
       "      <td>0</td>\n",
       "      <td>4</td>\n",
       "    </tr>\n",
       "    <tr>\n",
       "      <th>14</th>\n",
       "      <td>1</td>\n",
       "      <td>0</td>\n",
       "      <td>4</td>\n",
       "      <td>1</td>\n",
       "      <td>3</td>\n",
       "      <td>3</td>\n",
       "      <td>1</td>\n",
       "      <td>4</td>\n",
       "      <td>2</td>\n",
       "    </tr>\n",
       "    <tr>\n",
       "      <th>15</th>\n",
       "      <td>4</td>\n",
       "      <td>3</td>\n",
       "      <td>4</td>\n",
       "      <td>3</td>\n",
       "      <td>2</td>\n",
       "      <td>3</td>\n",
       "      <td>2</td>\n",
       "      <td>2</td>\n",
       "      <td>0</td>\n",
       "    </tr>\n",
       "    <tr>\n",
       "      <th>16</th>\n",
       "      <td>0</td>\n",
       "      <td>1</td>\n",
       "      <td>2</td>\n",
       "      <td>2</td>\n",
       "      <td>4</td>\n",
       "      <td>4</td>\n",
       "      <td>2</td>\n",
       "      <td>4</td>\n",
       "      <td>2</td>\n",
       "    </tr>\n",
       "    <tr>\n",
       "      <th>17</th>\n",
       "      <td>2</td>\n",
       "      <td>3</td>\n",
       "      <td>1</td>\n",
       "      <td>4</td>\n",
       "      <td>4</td>\n",
       "      <td>3</td>\n",
       "      <td>4</td>\n",
       "      <td>0</td>\n",
       "      <td>3</td>\n",
       "    </tr>\n",
       "  </tbody>\n",
       "</table>\n",
       "</div>"
      ],
      "text/plain": [
       "    0  1  2  3  4  5  6  7  8\n",
       "0   1  0  4  4  3  3  1  0  4\n",
       "1   0  2  0  3  3  0  1  2  1\n",
       "2   3  2  3  1  1  4  2  4  4\n",
       "3   1  3  4  4  2  1  1  1  4\n",
       "4   1  4  2  2  3  1  3  2  3\n",
       "5   0  3  1  0  1  0  4  1  4\n",
       "6   1  3  4  4  1  0  3  2  1\n",
       "7   2  3  1  2  3  2  2  2  3\n",
       "8   3  2  1  4  0  2  4  2  4\n",
       "9   4  0  2  0  1  3  1  4  4\n",
       "10  1  3  0  2  2  1  0  3  2\n",
       "11  1  4  0  4  4  1  2  4  2\n",
       "12  0  2  4  3  4  0  3  2  2\n",
       "13  2  3  4  4  0  4  3  0  4\n",
       "14  1  0  4  1  3  3  1  4  2\n",
       "15  4  3  4  3  2  3  2  2  0\n",
       "16  0  1  2  2  4  4  2  4  2\n",
       "17  2  3  1  4  4  3  4  0  3"
      ]
     },
     "execution_count": 34,
     "metadata": {},
     "output_type": "execute_result"
    }
   ],
   "source": [
    "right=pd.read_clipboard(header=None, names=None)\n",
    "right"
   ]
  },
  {
   "cell_type": "code",
   "execution_count": 35,
   "metadata": {
    "ExecuteTime": {
     "end_time": "2020-09-22T17:59:40.061446Z",
     "start_time": "2020-09-22T17:59:40.008328Z"
    }
   },
   "outputs": [
    {
     "data": {
      "text/plain": [
       "84.0"
      ]
     },
     "execution_count": 35,
     "metadata": {},
     "output_type": "execute_result"
    }
   ],
   "source": [
    "n=17\n",
    "m=9\n",
    "manhTourist(n,m,down,right) #84"
   ]
  },
  {
   "cell_type": "code",
   "execution_count": 36,
   "metadata": {
    "ExecuteTime": {
     "end_time": "2020-09-22T18:01:52.349416Z",
     "start_time": "2020-09-22T18:01:52.220637Z"
    },
    "cell_style": "split"
   },
   "outputs": [
    {
     "data": {
      "text/html": [
       "<div>\n",
       "<style scoped>\n",
       "    .dataframe tbody tr th:only-of-type {\n",
       "        vertical-align: middle;\n",
       "    }\n",
       "\n",
       "    .dataframe tbody tr th {\n",
       "        vertical-align: top;\n",
       "    }\n",
       "\n",
       "    .dataframe thead th {\n",
       "        text-align: right;\n",
       "    }\n",
       "</style>\n",
       "<table border=\"1\" class=\"dataframe\">\n",
       "  <thead>\n",
       "    <tr style=\"text-align: right;\">\n",
       "      <th></th>\n",
       "      <th>0</th>\n",
       "      <th>1</th>\n",
       "      <th>2</th>\n",
       "      <th>3</th>\n",
       "      <th>4</th>\n",
       "      <th>5</th>\n",
       "      <th>6</th>\n",
       "      <th>7</th>\n",
       "      <th>8</th>\n",
       "      <th>9</th>\n",
       "    </tr>\n",
       "  </thead>\n",
       "  <tbody>\n",
       "    <tr>\n",
       "      <th>0</th>\n",
       "      <td>0</td>\n",
       "      <td>2</td>\n",
       "      <td>1</td>\n",
       "      <td>4</td>\n",
       "      <td>1</td>\n",
       "      <td>3</td>\n",
       "      <td>3</td>\n",
       "      <td>0</td>\n",
       "      <td>4</td>\n",
       "      <td>4</td>\n",
       "    </tr>\n",
       "    <tr>\n",
       "      <th>1</th>\n",
       "      <td>1</td>\n",
       "      <td>4</td>\n",
       "      <td>1</td>\n",
       "      <td>4</td>\n",
       "      <td>0</td>\n",
       "      <td>2</td>\n",
       "      <td>3</td>\n",
       "      <td>3</td>\n",
       "      <td>4</td>\n",
       "      <td>4</td>\n",
       "    </tr>\n",
       "    <tr>\n",
       "      <th>2</th>\n",
       "      <td>4</td>\n",
       "      <td>1</td>\n",
       "      <td>1</td>\n",
       "      <td>4</td>\n",
       "      <td>1</td>\n",
       "      <td>0</td>\n",
       "      <td>3</td>\n",
       "      <td>0</td>\n",
       "      <td>2</td>\n",
       "      <td>4</td>\n",
       "    </tr>\n",
       "    <tr>\n",
       "      <th>3</th>\n",
       "      <td>3</td>\n",
       "      <td>0</td>\n",
       "      <td>0</td>\n",
       "      <td>4</td>\n",
       "      <td>3</td>\n",
       "      <td>1</td>\n",
       "      <td>4</td>\n",
       "      <td>1</td>\n",
       "      <td>1</td>\n",
       "      <td>4</td>\n",
       "    </tr>\n",
       "    <tr>\n",
       "      <th>4</th>\n",
       "      <td>0</td>\n",
       "      <td>1</td>\n",
       "      <td>2</td>\n",
       "      <td>3</td>\n",
       "      <td>2</td>\n",
       "      <td>2</td>\n",
       "      <td>0</td>\n",
       "      <td>1</td>\n",
       "      <td>0</td>\n",
       "      <td>0</td>\n",
       "    </tr>\n",
       "    <tr>\n",
       "      <th>5</th>\n",
       "      <td>2</td>\n",
       "      <td>3</td>\n",
       "      <td>2</td>\n",
       "      <td>0</td>\n",
       "      <td>4</td>\n",
       "      <td>2</td>\n",
       "      <td>1</td>\n",
       "      <td>2</td>\n",
       "      <td>1</td>\n",
       "      <td>3</td>\n",
       "    </tr>\n",
       "    <tr>\n",
       "      <th>6</th>\n",
       "      <td>3</td>\n",
       "      <td>4</td>\n",
       "      <td>0</td>\n",
       "      <td>2</td>\n",
       "      <td>0</td>\n",
       "      <td>4</td>\n",
       "      <td>2</td>\n",
       "      <td>2</td>\n",
       "      <td>1</td>\n",
       "      <td>4</td>\n",
       "    </tr>\n",
       "    <tr>\n",
       "      <th>7</th>\n",
       "      <td>0</td>\n",
       "      <td>0</td>\n",
       "      <td>2</td>\n",
       "      <td>2</td>\n",
       "      <td>4</td>\n",
       "      <td>1</td>\n",
       "      <td>3</td>\n",
       "      <td>2</td>\n",
       "      <td>4</td>\n",
       "      <td>2</td>\n",
       "    </tr>\n",
       "    <tr>\n",
       "      <th>8</th>\n",
       "      <td>4</td>\n",
       "      <td>4</td>\n",
       "      <td>3</td>\n",
       "      <td>2</td>\n",
       "      <td>3</td>\n",
       "      <td>1</td>\n",
       "      <td>4</td>\n",
       "      <td>4</td>\n",
       "      <td>2</td>\n",
       "      <td>1</td>\n",
       "    </tr>\n",
       "    <tr>\n",
       "      <th>9</th>\n",
       "      <td>0</td>\n",
       "      <td>1</td>\n",
       "      <td>4</td>\n",
       "      <td>0</td>\n",
       "      <td>3</td>\n",
       "      <td>2</td>\n",
       "      <td>4</td>\n",
       "      <td>2</td>\n",
       "      <td>2</td>\n",
       "      <td>1</td>\n",
       "    </tr>\n",
       "    <tr>\n",
       "      <th>10</th>\n",
       "      <td>0</td>\n",
       "      <td>1</td>\n",
       "      <td>4</td>\n",
       "      <td>2</td>\n",
       "      <td>0</td>\n",
       "      <td>0</td>\n",
       "      <td>3</td>\n",
       "      <td>0</td>\n",
       "      <td>1</td>\n",
       "      <td>3</td>\n",
       "    </tr>\n",
       "    <tr>\n",
       "      <th>11</th>\n",
       "      <td>2</td>\n",
       "      <td>3</td>\n",
       "      <td>2</td>\n",
       "      <td>4</td>\n",
       "      <td>2</td>\n",
       "      <td>3</td>\n",
       "      <td>4</td>\n",
       "      <td>0</td>\n",
       "      <td>4</td>\n",
       "      <td>1</td>\n",
       "    </tr>\n",
       "    <tr>\n",
       "      <th>12</th>\n",
       "      <td>0</td>\n",
       "      <td>0</td>\n",
       "      <td>1</td>\n",
       "      <td>4</td>\n",
       "      <td>4</td>\n",
       "      <td>4</td>\n",
       "      <td>2</td>\n",
       "      <td>4</td>\n",
       "      <td>2</td>\n",
       "      <td>0</td>\n",
       "    </tr>\n",
       "    <tr>\n",
       "      <th>13</th>\n",
       "      <td>3</td>\n",
       "      <td>0</td>\n",
       "      <td>2</td>\n",
       "      <td>3</td>\n",
       "      <td>3</td>\n",
       "      <td>1</td>\n",
       "      <td>3</td>\n",
       "      <td>3</td>\n",
       "      <td>0</td>\n",
       "      <td>3</td>\n",
       "    </tr>\n",
       "    <tr>\n",
       "      <th>14</th>\n",
       "      <td>0</td>\n",
       "      <td>1</td>\n",
       "      <td>2</td>\n",
       "      <td>2</td>\n",
       "      <td>4</td>\n",
       "      <td>0</td>\n",
       "      <td>2</td>\n",
       "      <td>1</td>\n",
       "      <td>1</td>\n",
       "      <td>0</td>\n",
       "    </tr>\n",
       "  </tbody>\n",
       "</table>\n",
       "</div>"
      ],
      "text/plain": [
       "    0  1  2  3  4  5  6  7  8  9\n",
       "0   0  2  1  4  1  3  3  0  4  4\n",
       "1   1  4  1  4  0  2  3  3  4  4\n",
       "2   4  1  1  4  1  0  3  0  2  4\n",
       "3   3  0  0  4  3  1  4  1  1  4\n",
       "4   0  1  2  3  2  2  0  1  0  0\n",
       "5   2  3  2  0  4  2  1  2  1  3\n",
       "6   3  4  0  2  0  4  2  2  1  4\n",
       "7   0  0  2  2  4  1  3  2  4  2\n",
       "8   4  4  3  2  3  1  4  4  2  1\n",
       "9   0  1  4  0  3  2  4  2  2  1\n",
       "10  0  1  4  2  0  0  3  0  1  3\n",
       "11  2  3  2  4  2  3  4  0  4  1\n",
       "12  0  0  1  4  4  4  2  4  2  0\n",
       "13  3  0  2  3  3  1  3  3  0  3\n",
       "14  0  1  2  2  4  0  2  1  1  0"
      ]
     },
     "execution_count": 36,
     "metadata": {},
     "output_type": "execute_result"
    }
   ],
   "source": [
    "down=pd.read_clipboard(header=None, names=None)\n",
    "down"
   ]
  },
  {
   "cell_type": "code",
   "execution_count": 37,
   "metadata": {
    "ExecuteTime": {
     "end_time": "2020-09-22T18:01:58.920055Z",
     "start_time": "2020-09-22T18:01:58.834069Z"
    },
    "cell_style": "split"
   },
   "outputs": [
    {
     "data": {
      "text/html": [
       "<div>\n",
       "<style scoped>\n",
       "    .dataframe tbody tr th:only-of-type {\n",
       "        vertical-align: middle;\n",
       "    }\n",
       "\n",
       "    .dataframe tbody tr th {\n",
       "        vertical-align: top;\n",
       "    }\n",
       "\n",
       "    .dataframe thead th {\n",
       "        text-align: right;\n",
       "    }\n",
       "</style>\n",
       "<table border=\"1\" class=\"dataframe\">\n",
       "  <thead>\n",
       "    <tr style=\"text-align: right;\">\n",
       "      <th></th>\n",
       "      <th>0</th>\n",
       "      <th>1</th>\n",
       "      <th>2</th>\n",
       "      <th>3</th>\n",
       "      <th>4</th>\n",
       "      <th>5</th>\n",
       "      <th>6</th>\n",
       "      <th>7</th>\n",
       "      <th>8</th>\n",
       "    </tr>\n",
       "  </thead>\n",
       "  <tbody>\n",
       "    <tr>\n",
       "      <th>0</th>\n",
       "      <td>2</td>\n",
       "      <td>2</td>\n",
       "      <td>0</td>\n",
       "      <td>0</td>\n",
       "      <td>2</td>\n",
       "      <td>1</td>\n",
       "      <td>3</td>\n",
       "      <td>0</td>\n",
       "      <td>4</td>\n",
       "    </tr>\n",
       "    <tr>\n",
       "      <th>1</th>\n",
       "      <td>0</td>\n",
       "      <td>1</td>\n",
       "      <td>2</td>\n",
       "      <td>4</td>\n",
       "      <td>0</td>\n",
       "      <td>4</td>\n",
       "      <td>3</td>\n",
       "      <td>4</td>\n",
       "      <td>1</td>\n",
       "    </tr>\n",
       "    <tr>\n",
       "      <th>2</th>\n",
       "      <td>1</td>\n",
       "      <td>4</td>\n",
       "      <td>1</td>\n",
       "      <td>1</td>\n",
       "      <td>0</td>\n",
       "      <td>4</td>\n",
       "      <td>4</td>\n",
       "      <td>0</td>\n",
       "      <td>2</td>\n",
       "    </tr>\n",
       "    <tr>\n",
       "      <th>3</th>\n",
       "      <td>3</td>\n",
       "      <td>2</td>\n",
       "      <td>1</td>\n",
       "      <td>2</td>\n",
       "      <td>4</td>\n",
       "      <td>0</td>\n",
       "      <td>0</td>\n",
       "      <td>0</td>\n",
       "      <td>0</td>\n",
       "    </tr>\n",
       "    <tr>\n",
       "      <th>4</th>\n",
       "      <td>1</td>\n",
       "      <td>3</td>\n",
       "      <td>3</td>\n",
       "      <td>0</td>\n",
       "      <td>4</td>\n",
       "      <td>0</td>\n",
       "      <td>4</td>\n",
       "      <td>2</td>\n",
       "      <td>3</td>\n",
       "    </tr>\n",
       "    <tr>\n",
       "      <th>5</th>\n",
       "      <td>3</td>\n",
       "      <td>4</td>\n",
       "      <td>1</td>\n",
       "      <td>1</td>\n",
       "      <td>4</td>\n",
       "      <td>4</td>\n",
       "      <td>0</td>\n",
       "      <td>1</td>\n",
       "      <td>3</td>\n",
       "    </tr>\n",
       "    <tr>\n",
       "      <th>6</th>\n",
       "      <td>3</td>\n",
       "      <td>2</td>\n",
       "      <td>0</td>\n",
       "      <td>4</td>\n",
       "      <td>0</td>\n",
       "      <td>3</td>\n",
       "      <td>3</td>\n",
       "      <td>2</td>\n",
       "      <td>0</td>\n",
       "    </tr>\n",
       "    <tr>\n",
       "      <th>7</th>\n",
       "      <td>3</td>\n",
       "      <td>2</td>\n",
       "      <td>2</td>\n",
       "      <td>3</td>\n",
       "      <td>3</td>\n",
       "      <td>2</td>\n",
       "      <td>1</td>\n",
       "      <td>0</td>\n",
       "      <td>3</td>\n",
       "    </tr>\n",
       "    <tr>\n",
       "      <th>8</th>\n",
       "      <td>2</td>\n",
       "      <td>0</td>\n",
       "      <td>1</td>\n",
       "      <td>2</td>\n",
       "      <td>0</td>\n",
       "      <td>0</td>\n",
       "      <td>3</td>\n",
       "      <td>2</td>\n",
       "      <td>4</td>\n",
       "    </tr>\n",
       "    <tr>\n",
       "      <th>9</th>\n",
       "      <td>1</td>\n",
       "      <td>2</td>\n",
       "      <td>1</td>\n",
       "      <td>0</td>\n",
       "      <td>3</td>\n",
       "      <td>1</td>\n",
       "      <td>3</td>\n",
       "      <td>3</td>\n",
       "      <td>2</td>\n",
       "    </tr>\n",
       "    <tr>\n",
       "      <th>10</th>\n",
       "      <td>0</td>\n",
       "      <td>1</td>\n",
       "      <td>2</td>\n",
       "      <td>1</td>\n",
       "      <td>1</td>\n",
       "      <td>4</td>\n",
       "      <td>4</td>\n",
       "      <td>1</td>\n",
       "      <td>3</td>\n",
       "    </tr>\n",
       "    <tr>\n",
       "      <th>11</th>\n",
       "      <td>0</td>\n",
       "      <td>0</td>\n",
       "      <td>2</td>\n",
       "      <td>1</td>\n",
       "      <td>2</td>\n",
       "      <td>4</td>\n",
       "      <td>0</td>\n",
       "      <td>0</td>\n",
       "      <td>4</td>\n",
       "    </tr>\n",
       "    <tr>\n",
       "      <th>12</th>\n",
       "      <td>1</td>\n",
       "      <td>4</td>\n",
       "      <td>0</td>\n",
       "      <td>3</td>\n",
       "      <td>3</td>\n",
       "      <td>3</td>\n",
       "      <td>0</td>\n",
       "      <td>2</td>\n",
       "      <td>3</td>\n",
       "    </tr>\n",
       "    <tr>\n",
       "      <th>13</th>\n",
       "      <td>2</td>\n",
       "      <td>1</td>\n",
       "      <td>4</td>\n",
       "      <td>1</td>\n",
       "      <td>1</td>\n",
       "      <td>1</td>\n",
       "      <td>4</td>\n",
       "      <td>4</td>\n",
       "      <td>0</td>\n",
       "    </tr>\n",
       "    <tr>\n",
       "      <th>14</th>\n",
       "      <td>1</td>\n",
       "      <td>2</td>\n",
       "      <td>0</td>\n",
       "      <td>3</td>\n",
       "      <td>4</td>\n",
       "      <td>3</td>\n",
       "      <td>2</td>\n",
       "      <td>1</td>\n",
       "      <td>1</td>\n",
       "    </tr>\n",
       "    <tr>\n",
       "      <th>15</th>\n",
       "      <td>4</td>\n",
       "      <td>2</td>\n",
       "      <td>1</td>\n",
       "      <td>2</td>\n",
       "      <td>0</td>\n",
       "      <td>1</td>\n",
       "      <td>2</td>\n",
       "      <td>0</td>\n",
       "      <td>3</td>\n",
       "    </tr>\n",
       "  </tbody>\n",
       "</table>\n",
       "</div>"
      ],
      "text/plain": [
       "    0  1  2  3  4  5  6  7  8\n",
       "0   2  2  0  0  2  1  3  0  4\n",
       "1   0  1  2  4  0  4  3  4  1\n",
       "2   1  4  1  1  0  4  4  0  2\n",
       "3   3  2  1  2  4  0  0  0  0\n",
       "4   1  3  3  0  4  0  4  2  3\n",
       "5   3  4  1  1  4  4  0  1  3\n",
       "6   3  2  0  4  0  3  3  2  0\n",
       "7   3  2  2  3  3  2  1  0  3\n",
       "8   2  0  1  2  0  0  3  2  4\n",
       "9   1  2  1  0  3  1  3  3  2\n",
       "10  0  1  2  1  1  4  4  1  3\n",
       "11  0  0  2  1  2  4  0  0  4\n",
       "12  1  4  0  3  3  3  0  2  3\n",
       "13  2  1  4  1  1  1  4  4  0\n",
       "14  1  2  0  3  4  3  2  1  1\n",
       "15  4  2  1  2  0  1  2  0  3"
      ]
     },
     "execution_count": 37,
     "metadata": {},
     "output_type": "execute_result"
    }
   ],
   "source": [
    "right=pd.read_clipboard(header=None, names=None)\n",
    "right"
   ]
  },
  {
   "cell_type": "code",
   "execution_count": 38,
   "metadata": {
    "ExecuteTime": {
     "end_time": "2020-09-22T18:02:05.011011Z",
     "start_time": "2020-09-22T18:02:04.953350Z"
    }
   },
   "outputs": [
    {
     "data": {
      "text/plain": [
       "69.0"
      ]
     },
     "execution_count": 38,
     "metadata": {},
     "output_type": "execute_result"
    }
   ],
   "source": [
    "n=15\n",
    "m=9\n",
    "manhTourist(n,m,down,right) #Challenge"
   ]
  },
  {
   "cell_type": "code",
   "execution_count": 39,
   "metadata": {
    "ExecuteTime": {
     "end_time": "2020-09-22T18:25:53.629968Z",
     "start_time": "2020-09-22T18:25:53.607170Z"
    }
   },
   "outputs": [],
   "source": [
    "### Going column first or row first has no influence\n",
    "def manhTourist_bw(n,m,Down,Right):\n",
    "    s = pd.DataFrame(-np.inf,index=range(0,n+1),columns=range(0,m+1))\n",
    "    s[0][0] = 0\n",
    "    ## Fill first column first\n",
    "    for i in range(1,n+1):\n",
    "        s[0][i] = s[0][i-1] + down[0][i-1]\n",
    "    for j in range(1,m+1):\n",
    "        s[j][0] = s[j-1][0] + right[j-1][0]\n",
    "    for j in range(1,m+1): #j then i as opposed to i then j above\n",
    "        for i in range(1,n+1):\n",
    "            d = s[j][i-1] + down[j][i-1]\n",
    "            r = s[j-1][i] + right[j-1][i]\n",
    "            s[j][i] = max(d,r)\n",
    "    return s[m][n]"
   ]
  },
  {
   "cell_type": "code",
   "execution_count": 40,
   "metadata": {
    "ExecuteTime": {
     "end_time": "2020-09-22T18:26:00.853028Z",
     "start_time": "2020-09-22T18:26:00.793800Z"
    }
   },
   "outputs": [
    {
     "data": {
      "text/plain": [
       "69.0"
      ]
     },
     "execution_count": 40,
     "metadata": {},
     "output_type": "execute_result"
    }
   ],
   "source": [
    "n=15\n",
    "m=9\n",
    "manhTourist_bw(n,m,down,right) #Challenge"
   ]
  },
  {
   "cell_type": "code",
   "execution_count": null,
   "metadata": {},
   "outputs": [],
   "source": [
    "### Going column first or row first has no influence\n",
    "def manhTourist_diag(n,m,Down,Right):\n",
    "    s = pd.DataFrame(-np.inf,index=range(0,n+1),columns=range(0,m+1))\n",
    "    s[0][0] = 0\n",
    "    ## Fill first column first\n",
    "    for i in range(1,n+1):\n",
    "        s[0][i] = s[0][i-1] + down[0][i-1]\n",
    "    for j in range(1,m+1):\n",
    "        s[j][0] = s[j-1][0] + right[j-1][0]\n",
    "    for j in range(1,m+1): #j then i as opposed to i then j above\n",
    "        for i in range(1,n+1):\n",
    "            d = s[j][i-1] + down[j][i-1]\n",
    "            r = s[j-1][i] + right[j-1][i]\n",
    "            diag = s[j-1][i-1] + diag[j-1][i-1]\n",
    "            s[j][i] = max(d,r)\n",
    "    return s[m][n]"
   ]
  },
  {
   "cell_type": "markdown",
   "metadata": {},
   "source": [
    "### BA5c Find a Longest Common Subsequence of Two Strings\n",
    "\n",
    "http://rosalind.info/problems/ba5c/\n",
    "\n",
    "Longest Common Subsequence Problem\n",
    "Given: Two strings.\n",
    "Return: A longest common subsequence of these strings."
   ]
  },
  {
   "cell_type": "code",
   "execution_count": 569,
   "metadata": {
    "ExecuteTime": {
     "end_time": "2020-09-23T16:51:41.001406Z",
     "start_time": "2020-09-23T16:51:40.993357Z"
    }
   },
   "outputs": [],
   "source": [
    "#penalties\n",
    "gap = 0#-4\n",
    "mismatch = 0#-3\n",
    "match = 1\n",
    "\n",
    "# gap = -4\n",
    "# mismatch = -3\n",
    "# match = 1"
   ]
  },
  {
   "cell_type": "code",
   "execution_count": 607,
   "metadata": {
    "ExecuteTime": {
     "end_time": "2020-09-23T17:58:36.468454Z",
     "start_time": "2020-09-23T17:58:36.366939Z"
    },
    "cell_style": "center"
   },
   "outputs": [
    {
     "data": {
      "text/html": [
       "<div>\n",
       "<style scoped>\n",
       "    .dataframe tbody tr th:only-of-type {\n",
       "        vertical-align: middle;\n",
       "    }\n",
       "\n",
       "    .dataframe tbody tr th {\n",
       "        vertical-align: top;\n",
       "    }\n",
       "\n",
       "    .dataframe thead th {\n",
       "        text-align: right;\n",
       "    }\n",
       "</style>\n",
       "<table border=\"1\" class=\"dataframe\">\n",
       "  <thead>\n",
       "    <tr style=\"text-align: right;\">\n",
       "      <th></th>\n",
       "      <th>-</th>\n",
       "      <th>A</th>\n",
       "      <th>A</th>\n",
       "      <th>C</th>\n",
       "      <th>C</th>\n",
       "      <th>T</th>\n",
       "      <th>T</th>\n",
       "      <th>G</th>\n",
       "      <th>G</th>\n",
       "    </tr>\n",
       "  </thead>\n",
       "  <tbody>\n",
       "    <tr>\n",
       "      <th>-</th>\n",
       "      <td>0</td>\n",
       "      <td>0</td>\n",
       "      <td>0</td>\n",
       "      <td>0</td>\n",
       "      <td>0</td>\n",
       "      <td>0</td>\n",
       "      <td>0</td>\n",
       "      <td>0</td>\n",
       "      <td>0</td>\n",
       "    </tr>\n",
       "    <tr>\n",
       "      <th>A</th>\n",
       "      <td>0</td>\n",
       "      <td>1</td>\n",
       "      <td>1</td>\n",
       "      <td>1</td>\n",
       "      <td>1</td>\n",
       "      <td>1</td>\n",
       "      <td>1</td>\n",
       "      <td>1</td>\n",
       "      <td>1</td>\n",
       "    </tr>\n",
       "    <tr>\n",
       "      <th>C</th>\n",
       "      <td>0</td>\n",
       "      <td>1</td>\n",
       "      <td>1</td>\n",
       "      <td>2</td>\n",
       "      <td>2</td>\n",
       "      <td>2</td>\n",
       "      <td>2</td>\n",
       "      <td>2</td>\n",
       "      <td>2</td>\n",
       "    </tr>\n",
       "    <tr>\n",
       "      <th>A</th>\n",
       "      <td>0</td>\n",
       "      <td>1</td>\n",
       "      <td>2</td>\n",
       "      <td>2</td>\n",
       "      <td>2</td>\n",
       "      <td>2</td>\n",
       "      <td>2</td>\n",
       "      <td>2</td>\n",
       "      <td>2</td>\n",
       "    </tr>\n",
       "    <tr>\n",
       "      <th>C</th>\n",
       "      <td>0</td>\n",
       "      <td>1</td>\n",
       "      <td>2</td>\n",
       "      <td>3</td>\n",
       "      <td>3</td>\n",
       "      <td>3</td>\n",
       "      <td>3</td>\n",
       "      <td>3</td>\n",
       "      <td>3</td>\n",
       "    </tr>\n",
       "    <tr>\n",
       "      <th>T</th>\n",
       "      <td>0</td>\n",
       "      <td>1</td>\n",
       "      <td>2</td>\n",
       "      <td>3</td>\n",
       "      <td>3</td>\n",
       "      <td>4</td>\n",
       "      <td>4</td>\n",
       "      <td>4</td>\n",
       "      <td>4</td>\n",
       "    </tr>\n",
       "    <tr>\n",
       "      <th>G</th>\n",
       "      <td>0</td>\n",
       "      <td>1</td>\n",
       "      <td>2</td>\n",
       "      <td>3</td>\n",
       "      <td>3</td>\n",
       "      <td>4</td>\n",
       "      <td>4</td>\n",
       "      <td>5</td>\n",
       "      <td>5</td>\n",
       "    </tr>\n",
       "    <tr>\n",
       "      <th>T</th>\n",
       "      <td>0</td>\n",
       "      <td>1</td>\n",
       "      <td>2</td>\n",
       "      <td>3</td>\n",
       "      <td>3</td>\n",
       "      <td>4</td>\n",
       "      <td>5</td>\n",
       "      <td>5</td>\n",
       "      <td>5</td>\n",
       "    </tr>\n",
       "    <tr>\n",
       "      <th>G</th>\n",
       "      <td>0</td>\n",
       "      <td>1</td>\n",
       "      <td>2</td>\n",
       "      <td>3</td>\n",
       "      <td>3</td>\n",
       "      <td>4</td>\n",
       "      <td>5</td>\n",
       "      <td>6</td>\n",
       "      <td>6</td>\n",
       "    </tr>\n",
       "    <tr>\n",
       "      <th>A</th>\n",
       "      <td>0</td>\n",
       "      <td>1</td>\n",
       "      <td>2</td>\n",
       "      <td>3</td>\n",
       "      <td>3</td>\n",
       "      <td>4</td>\n",
       "      <td>5</td>\n",
       "      <td>6</td>\n",
       "      <td>6</td>\n",
       "    </tr>\n",
       "  </tbody>\n",
       "</table>\n",
       "</div>"
      ],
      "text/plain": [
       "   -  A  A  C  C  T  T  G  G\n",
       "-  0  0  0  0  0  0  0  0  0\n",
       "A  0  1  1  1  1  1  1  1  1\n",
       "C  0  1  1  2  2  2  2  2  2\n",
       "A  0  1  2  2  2  2  2  2  2\n",
       "C  0  1  2  3  3  3  3  3  3\n",
       "T  0  1  2  3  3  4  4  4  4\n",
       "G  0  1  2  3  3  4  4  5  5\n",
       "T  0  1  2  3  3  4  5  5  5\n",
       "G  0  1  2  3  3  4  5  6  6\n",
       "A  0  1  2  3  3  4  5  6  6"
      ]
     },
     "execution_count": 607,
     "metadata": {},
     "output_type": "execute_result"
    }
   ],
   "source": [
    "s = pd.DataFrame(0,index=range(0,n),columns=range(0,m))\n",
    "p = pd.DataFrame('',index=range(0,n),columns=range(0,m))\n",
    "for i in range(1,n):\n",
    "    if vh[i] != wh[0]: s[0][i] = s[0][i-1] + gap\n",
    "for j in range(1,m):\n",
    "    if vh[0] != wh[j]: s[j][0] = s[j-1][0] + gap\n",
    "###\n",
    "for i in range(1,n):\n",
    "    for j in range(1,m):\n",
    "        south = s[j][i-1] + gap\n",
    "        east = s[j-1][i] + gap\n",
    "        if vh[i] == wh[j]:\n",
    "            diag = s[j-1][i-1] + match\n",
    "        else:\n",
    "            diag = s[j-1][i-1] + mismatch\n",
    "        t=[('s',south),('e',east),('d',diag)]\n",
    "        ### Get which one is max\n",
    "        whichMax = np.argmax([_[1]for _ in t])                \n",
    "        s[j][i] = t[whichMax][1]\n",
    "        p[j][i] = t[whichMax][0]\n",
    "s2 = s.copy()\n",
    "s2.index=[_ for _ in vh]\n",
    "s2.columns=[_ for _ in wh]\n",
    "s2"
   ]
  },
  {
   "cell_type": "code",
   "execution_count": 764,
   "metadata": {
    "ExecuteTime": {
     "end_time": "2020-09-23T21:37:06.565441Z",
     "start_time": "2020-09-23T21:37:06.511269Z"
    },
    "cell_style": "split"
   },
   "outputs": [],
   "source": [
    "def lcsq(x, y):\n",
    "    m = len(x)\n",
    "    n = len(y)\n",
    "    table = np.zeros((m+1, n+1), dtype=int)\n",
    "    for i in range(1, m+1):\n",
    "        for j in range(1, n+1):\n",
    "            if x[i-1] == y[j-1]:\n",
    "                table[i, j] = table[i-1, j-1] + 1\n",
    "            else:\n",
    "                table[i, j] = max(table[i, j-1], table[i-1, j])\n",
    "    \n",
    "    i, j = m, n\n",
    "    w = ''\n",
    "    while (i > 0) and (j > 0):\n",
    "        if x[i-1] == y[j-1]:\n",
    "            w = x[i-1] + w\n",
    "            i -= 1\n",
    "            j -= 1\n",
    "        else:\n",
    "            if table[i, j-1] > table[i-1, j]:\n",
    "                j -= 1\n",
    "            else:\n",
    "                i -= 1\n",
    "    return w,table\n"
   ]
  },
  {
   "cell_type": "code",
   "execution_count": 729,
   "metadata": {
    "ExecuteTime": {
     "end_time": "2020-09-23T21:03:05.171389Z",
     "start_time": "2020-09-23T21:03:05.147119Z"
    },
    "cell_style": "split"
   },
   "outputs": [],
   "source": [
    "def scoreAlignment(w,v,gap=0,mismatch=0,match=1):\n",
    "    \"\"\"\n",
    "    \"\"\"\n",
    "    ###\n",
    "    wh = '-'+ w\n",
    "    vh = '-'+ v\n",
    "    n=len(vh)\n",
    "    m=len(wh)\n",
    "    ###\n",
    "    scoring = pd.DataFrame(0,index=range(0,n),columns=range(0,m))\n",
    "    ## Initialize F matrix\n",
    "    for i in range(1,n):\n",
    "        if vh[i] != wh[0]: scoring[0][i] = scoring[0][i-1] + gap\n",
    "    for j in range(1,m):\n",
    "        if vh[0] != wh[j]: scoring[j][0] = scoring[j-1][0] + gap\n",
    "\n",
    "    ### Dynamic programming. Iterate over the scoring matrix.\n",
    "    for i in range(1,n):\n",
    "        for j in range(1,m):\n",
    "            down = scoring[j][i-1] + gap\n",
    "            right = scoring[j-1][i] + gap\n",
    "            if vh[i] == wh[j]:\n",
    "                diag = scoring[j-1][i-1] + match\n",
    "            else:\n",
    "                diag = scoring[j-1][i-1] + mismatch\n",
    "            t=[('s',down),('e',right),('d',diag)]\n",
    "            ### Get which one is max\n",
    "            whichMax = np.argmax([_[1]for _ in t])                \n",
    "            scoring[j][i] = t[whichMax][1]\n",
    "    s2 = scoring.copy()\n",
    "    s2.index=[_ for _ in vh]\n",
    "    s2.columns=[_ for _ in wh]\n",
    "    s2\n",
    "    return scoring,s2\n",
    "\n",
    "##\n",
    "def LCS(w,v,Fmatrix,debug=False):\n",
    "    wh = '-'+ w\n",
    "    vh = '-'+ v\n",
    "    \"\"\"\n",
    "    \"\"\"\n",
    "    lcs = ''\n",
    "    i = Fmatrix.shape[0]-1\n",
    "    j = Fmatrix.shape[1]-1\n",
    "    while (i > 0) and (j > 0):\n",
    "        #print((j,i), s[j][i],LCS[::-1],'<===LCS\\t',vh[i],wh[j])\n",
    "        if vh[i] == wh[j]:\n",
    "                lcs += wh[j]\n",
    "                i -= 1\n",
    "                j -= 1\n",
    "                if debug: print('\\tDiag')\n",
    "        else:\n",
    "            if i >= 0: up = Fmatrix[j][i-1]\n",
    "            else: up = -np.inf\n",
    "            if i >= 0: left = Fmatrix[j-1][i]\n",
    "            else: left = -np.inf\n",
    "            if left > up: \n",
    "                if debug: print(\"\\t\",(up,left),'left')\n",
    "                j -= 1\n",
    "            else:\n",
    "                if debug: print(\"\\t\",(up,left),'up')\n",
    "                i -= 1\n",
    "    return lcs[::-1]\n"
   ]
  },
  {
   "cell_type": "code",
   "execution_count": 768,
   "metadata": {
    "ExecuteTime": {
     "end_time": "2020-09-23T21:38:30.216996Z",
     "start_time": "2020-09-23T21:38:30.181011Z"
    },
    "cell_style": "split"
   },
   "outputs": [
    {
     "data": {
      "text/html": [
       "<div>\n",
       "<style scoped>\n",
       "    .dataframe tbody tr th:only-of-type {\n",
       "        vertical-align: middle;\n",
       "    }\n",
       "\n",
       "    .dataframe tbody tr th {\n",
       "        vertical-align: top;\n",
       "    }\n",
       "\n",
       "    .dataframe thead th {\n",
       "        text-align: right;\n",
       "    }\n",
       "</style>\n",
       "<table border=\"1\" class=\"dataframe\">\n",
       "  <thead>\n",
       "    <tr style=\"text-align: right;\">\n",
       "      <th></th>\n",
       "      <th>0</th>\n",
       "      <th>1</th>\n",
       "      <th>2</th>\n",
       "      <th>3</th>\n",
       "      <th>4</th>\n",
       "      <th>5</th>\n",
       "      <th>6</th>\n",
       "      <th>7</th>\n",
       "      <th>8</th>\n",
       "      <th>9</th>\n",
       "    </tr>\n",
       "  </thead>\n",
       "  <tbody>\n",
       "    <tr>\n",
       "      <th>0</th>\n",
       "      <td>0</td>\n",
       "      <td>0</td>\n",
       "      <td>0</td>\n",
       "      <td>0</td>\n",
       "      <td>0</td>\n",
       "      <td>0</td>\n",
       "      <td>0</td>\n",
       "      <td>0</td>\n",
       "      <td>0</td>\n",
       "      <td>0</td>\n",
       "    </tr>\n",
       "    <tr>\n",
       "      <th>1</th>\n",
       "      <td>0</td>\n",
       "      <td>1</td>\n",
       "      <td>1</td>\n",
       "      <td>1</td>\n",
       "      <td>1</td>\n",
       "      <td>1</td>\n",
       "      <td>1</td>\n",
       "      <td>1</td>\n",
       "      <td>1</td>\n",
       "      <td>1</td>\n",
       "    </tr>\n",
       "    <tr>\n",
       "      <th>2</th>\n",
       "      <td>0</td>\n",
       "      <td>1</td>\n",
       "      <td>1</td>\n",
       "      <td>2</td>\n",
       "      <td>2</td>\n",
       "      <td>2</td>\n",
       "      <td>2</td>\n",
       "      <td>2</td>\n",
       "      <td>2</td>\n",
       "      <td>2</td>\n",
       "    </tr>\n",
       "    <tr>\n",
       "      <th>3</th>\n",
       "      <td>0</td>\n",
       "      <td>1</td>\n",
       "      <td>2</td>\n",
       "      <td>2</td>\n",
       "      <td>3</td>\n",
       "      <td>3</td>\n",
       "      <td>3</td>\n",
       "      <td>3</td>\n",
       "      <td>3</td>\n",
       "      <td>3</td>\n",
       "    </tr>\n",
       "    <tr>\n",
       "      <th>4</th>\n",
       "      <td>0</td>\n",
       "      <td>1</td>\n",
       "      <td>2</td>\n",
       "      <td>2</td>\n",
       "      <td>3</td>\n",
       "      <td>3</td>\n",
       "      <td>3</td>\n",
       "      <td>3</td>\n",
       "      <td>3</td>\n",
       "      <td>3</td>\n",
       "    </tr>\n",
       "    <tr>\n",
       "      <th>5</th>\n",
       "      <td>0</td>\n",
       "      <td>1</td>\n",
       "      <td>2</td>\n",
       "      <td>2</td>\n",
       "      <td>3</td>\n",
       "      <td>4</td>\n",
       "      <td>4</td>\n",
       "      <td>4</td>\n",
       "      <td>4</td>\n",
       "      <td>4</td>\n",
       "    </tr>\n",
       "    <tr>\n",
       "      <th>6</th>\n",
       "      <td>0</td>\n",
       "      <td>1</td>\n",
       "      <td>2</td>\n",
       "      <td>2</td>\n",
       "      <td>3</td>\n",
       "      <td>4</td>\n",
       "      <td>4</td>\n",
       "      <td>5</td>\n",
       "      <td>5</td>\n",
       "      <td>5</td>\n",
       "    </tr>\n",
       "    <tr>\n",
       "      <th>7</th>\n",
       "      <td>0</td>\n",
       "      <td>1</td>\n",
       "      <td>2</td>\n",
       "      <td>2</td>\n",
       "      <td>3</td>\n",
       "      <td>4</td>\n",
       "      <td>5</td>\n",
       "      <td>5</td>\n",
       "      <td>6</td>\n",
       "      <td>6</td>\n",
       "    </tr>\n",
       "    <tr>\n",
       "      <th>8</th>\n",
       "      <td>0</td>\n",
       "      <td>1</td>\n",
       "      <td>2</td>\n",
       "      <td>2</td>\n",
       "      <td>3</td>\n",
       "      <td>4</td>\n",
       "      <td>5</td>\n",
       "      <td>5</td>\n",
       "      <td>6</td>\n",
       "      <td>6</td>\n",
       "    </tr>\n",
       "  </tbody>\n",
       "</table>\n",
       "</div>"
      ],
      "text/plain": [
       "   0  1  2  3  4  5  6  7  8  9\n",
       "0  0  0  0  0  0  0  0  0  0  0\n",
       "1  0  1  1  1  1  1  1  1  1  1\n",
       "2  0  1  1  2  2  2  2  2  2  2\n",
       "3  0  1  2  2  3  3  3  3  3  3\n",
       "4  0  1  2  2  3  3  3  3  3  3\n",
       "5  0  1  2  2  3  4  4  4  4  4\n",
       "6  0  1  2  2  3  4  4  5  5  5\n",
       "7  0  1  2  2  3  4  5  5  6  6\n",
       "8  0  1  2  2  3  4  5  5  6  6"
      ]
     },
     "execution_count": 768,
     "metadata": {},
     "output_type": "execute_result"
    }
   ],
   "source": [
    "w='AACCTTGG'\n",
    "v='ACACTGTGA'\n",
    "l, scor = lcsq(w, v)\n",
    "pd.DataFrame(scor)"
   ]
  },
  {
   "cell_type": "code",
   "execution_count": 775,
   "metadata": {
    "ExecuteTime": {
     "end_time": "2020-09-23T21:39:39.134547Z",
     "start_time": "2020-09-23T21:39:39.064798Z"
    },
    "cell_style": "split"
   },
   "outputs": [
    {
     "data": {
      "text/html": [
       "<div>\n",
       "<style scoped>\n",
       "    .dataframe tbody tr th:only-of-type {\n",
       "        vertical-align: middle;\n",
       "    }\n",
       "\n",
       "    .dataframe tbody tr th {\n",
       "        vertical-align: top;\n",
       "    }\n",
       "\n",
       "    .dataframe thead th {\n",
       "        text-align: right;\n",
       "    }\n",
       "</style>\n",
       "<table border=\"1\" class=\"dataframe\">\n",
       "  <thead>\n",
       "    <tr style=\"text-align: right;\">\n",
       "      <th></th>\n",
       "      <th>0</th>\n",
       "      <th>1</th>\n",
       "      <th>2</th>\n",
       "      <th>3</th>\n",
       "      <th>4</th>\n",
       "      <th>5</th>\n",
       "      <th>6</th>\n",
       "      <th>7</th>\n",
       "      <th>8</th>\n",
       "      <th>9</th>\n",
       "    </tr>\n",
       "  </thead>\n",
       "  <tbody>\n",
       "    <tr>\n",
       "      <th>0</th>\n",
       "      <td>0</td>\n",
       "      <td>0</td>\n",
       "      <td>0</td>\n",
       "      <td>0</td>\n",
       "      <td>0</td>\n",
       "      <td>0</td>\n",
       "      <td>0</td>\n",
       "      <td>0</td>\n",
       "      <td>0</td>\n",
       "      <td>0</td>\n",
       "    </tr>\n",
       "    <tr>\n",
       "      <th>1</th>\n",
       "      <td>0</td>\n",
       "      <td>1</td>\n",
       "      <td>1</td>\n",
       "      <td>1</td>\n",
       "      <td>1</td>\n",
       "      <td>1</td>\n",
       "      <td>1</td>\n",
       "      <td>1</td>\n",
       "      <td>1</td>\n",
       "      <td>1</td>\n",
       "    </tr>\n",
       "    <tr>\n",
       "      <th>2</th>\n",
       "      <td>0</td>\n",
       "      <td>1</td>\n",
       "      <td>1</td>\n",
       "      <td>2</td>\n",
       "      <td>2</td>\n",
       "      <td>2</td>\n",
       "      <td>2</td>\n",
       "      <td>2</td>\n",
       "      <td>2</td>\n",
       "      <td>2</td>\n",
       "    </tr>\n",
       "    <tr>\n",
       "      <th>3</th>\n",
       "      <td>0</td>\n",
       "      <td>1</td>\n",
       "      <td>2</td>\n",
       "      <td>2</td>\n",
       "      <td>3</td>\n",
       "      <td>3</td>\n",
       "      <td>3</td>\n",
       "      <td>3</td>\n",
       "      <td>3</td>\n",
       "      <td>3</td>\n",
       "    </tr>\n",
       "    <tr>\n",
       "      <th>4</th>\n",
       "      <td>0</td>\n",
       "      <td>1</td>\n",
       "      <td>2</td>\n",
       "      <td>2</td>\n",
       "      <td>3</td>\n",
       "      <td>3</td>\n",
       "      <td>3</td>\n",
       "      <td>3</td>\n",
       "      <td>3</td>\n",
       "      <td>3</td>\n",
       "    </tr>\n",
       "    <tr>\n",
       "      <th>5</th>\n",
       "      <td>0</td>\n",
       "      <td>1</td>\n",
       "      <td>2</td>\n",
       "      <td>2</td>\n",
       "      <td>3</td>\n",
       "      <td>4</td>\n",
       "      <td>4</td>\n",
       "      <td>4</td>\n",
       "      <td>4</td>\n",
       "      <td>4</td>\n",
       "    </tr>\n",
       "    <tr>\n",
       "      <th>6</th>\n",
       "      <td>0</td>\n",
       "      <td>1</td>\n",
       "      <td>2</td>\n",
       "      <td>2</td>\n",
       "      <td>3</td>\n",
       "      <td>4</td>\n",
       "      <td>4</td>\n",
       "      <td>5</td>\n",
       "      <td>5</td>\n",
       "      <td>5</td>\n",
       "    </tr>\n",
       "    <tr>\n",
       "      <th>7</th>\n",
       "      <td>0</td>\n",
       "      <td>1</td>\n",
       "      <td>2</td>\n",
       "      <td>2</td>\n",
       "      <td>3</td>\n",
       "      <td>4</td>\n",
       "      <td>5</td>\n",
       "      <td>5</td>\n",
       "      <td>6</td>\n",
       "      <td>6</td>\n",
       "    </tr>\n",
       "    <tr>\n",
       "      <th>8</th>\n",
       "      <td>0</td>\n",
       "      <td>1</td>\n",
       "      <td>2</td>\n",
       "      <td>2</td>\n",
       "      <td>3</td>\n",
       "      <td>4</td>\n",
       "      <td>5</td>\n",
       "      <td>5</td>\n",
       "      <td>6</td>\n",
       "      <td>6</td>\n",
       "    </tr>\n",
       "  </tbody>\n",
       "</table>\n",
       "</div>"
      ],
      "text/plain": [
       "   0  1  2  3  4  5  6  7  8  9\n",
       "0  0  0  0  0  0  0  0  0  0  0\n",
       "1  0  1  1  1  1  1  1  1  1  1\n",
       "2  0  1  1  2  2  2  2  2  2  2\n",
       "3  0  1  2  2  3  3  3  3  3  3\n",
       "4  0  1  2  2  3  3  3  3  3  3\n",
       "5  0  1  2  2  3  4  4  4  4  4\n",
       "6  0  1  2  2  3  4  4  5  5  5\n",
       "7  0  1  2  2  3  4  5  5  6  6\n",
       "8  0  1  2  2  3  4  5  5  6  6"
      ]
     },
     "execution_count": 775,
     "metadata": {},
     "output_type": "execute_result"
    }
   ],
   "source": [
    "w='AACCTTGG'\n",
    "v='ACACTGTGA'\n",
    "sco,_ = scoreAlignment(v,w)\n",
    "sco"
   ]
  },
  {
   "cell_type": "code",
   "execution_count": 773,
   "metadata": {
    "ExecuteTime": {
     "end_time": "2020-09-23T21:39:18.978678Z",
     "start_time": "2020-09-23T21:39:18.972175Z"
    },
    "cell_style": "split"
   },
   "outputs": [
    {
     "data": {
      "text/plain": [
       "'AACTTG'"
      ]
     },
     "execution_count": 773,
     "metadata": {},
     "output_type": "execute_result"
    }
   ],
   "source": [
    "l"
   ]
  },
  {
   "cell_type": "code",
   "execution_count": 776,
   "metadata": {
    "ExecuteTime": {
     "end_time": "2020-09-23T21:39:51.049783Z",
     "start_time": "2020-09-23T21:39:51.039363Z"
    },
    "cell_style": "split"
   },
   "outputs": [
    {
     "data": {
      "text/plain": [
       "'AACTTG'"
      ]
     },
     "execution_count": 776,
     "metadata": {},
     "output_type": "execute_result"
    }
   ],
   "source": [
    "LCS(v,w,sco,debug=False)"
   ]
  },
  {
   "cell_type": "code",
   "execution_count": 611,
   "metadata": {
    "ExecuteTime": {
     "end_time": "2020-09-23T17:58:52.072290Z",
     "start_time": "2020-09-23T17:58:52.003307Z"
    },
    "cell_style": "center"
   },
   "outputs": [
    {
     "data": {
      "text/html": [
       "<div>\n",
       "<style scoped>\n",
       "    .dataframe tbody tr th:only-of-type {\n",
       "        vertical-align: middle;\n",
       "    }\n",
       "\n",
       "    .dataframe tbody tr th {\n",
       "        vertical-align: top;\n",
       "    }\n",
       "\n",
       "    .dataframe thead th {\n",
       "        text-align: right;\n",
       "    }\n",
       "</style>\n",
       "<table border=\"1\" class=\"dataframe\">\n",
       "  <thead>\n",
       "    <tr style=\"text-align: right;\">\n",
       "      <th></th>\n",
       "      <th>-</th>\n",
       "      <th>A</th>\n",
       "      <th>A</th>\n",
       "      <th>C</th>\n",
       "      <th>C</th>\n",
       "      <th>T</th>\n",
       "      <th>T</th>\n",
       "      <th>G</th>\n",
       "      <th>G</th>\n",
       "    </tr>\n",
       "  </thead>\n",
       "  <tbody>\n",
       "    <tr>\n",
       "      <th>-</th>\n",
       "      <td>0.0</td>\n",
       "      <td>0.0</td>\n",
       "      <td>0.0</td>\n",
       "      <td>0.0</td>\n",
       "      <td>0.0</td>\n",
       "      <td>0.0</td>\n",
       "      <td>0.0</td>\n",
       "      <td>0.0</td>\n",
       "      <td>0.0</td>\n",
       "    </tr>\n",
       "    <tr>\n",
       "      <th>A</th>\n",
       "      <td>0.0</td>\n",
       "      <td>1.0</td>\n",
       "      <td>1.0</td>\n",
       "      <td>0.0</td>\n",
       "      <td>0.0</td>\n",
       "      <td>0.0</td>\n",
       "      <td>0.0</td>\n",
       "      <td>0.0</td>\n",
       "      <td>0.0</td>\n",
       "    </tr>\n",
       "    <tr>\n",
       "      <th>C</th>\n",
       "      <td>0.0</td>\n",
       "      <td>0.0</td>\n",
       "      <td>0.0</td>\n",
       "      <td>1.0</td>\n",
       "      <td>1.0</td>\n",
       "      <td>0.0</td>\n",
       "      <td>0.0</td>\n",
       "      <td>0.0</td>\n",
       "      <td>0.0</td>\n",
       "    </tr>\n",
       "    <tr>\n",
       "      <th>A</th>\n",
       "      <td>0.0</td>\n",
       "      <td>1.0</td>\n",
       "      <td>1.0</td>\n",
       "      <td>0.0</td>\n",
       "      <td>0.0</td>\n",
       "      <td>0.0</td>\n",
       "      <td>0.0</td>\n",
       "      <td>0.0</td>\n",
       "      <td>0.0</td>\n",
       "    </tr>\n",
       "    <tr>\n",
       "      <th>C</th>\n",
       "      <td>0.0</td>\n",
       "      <td>0.0</td>\n",
       "      <td>0.0</td>\n",
       "      <td>1.0</td>\n",
       "      <td>1.0</td>\n",
       "      <td>0.0</td>\n",
       "      <td>0.0</td>\n",
       "      <td>0.0</td>\n",
       "      <td>0.0</td>\n",
       "    </tr>\n",
       "    <tr>\n",
       "      <th>T</th>\n",
       "      <td>0.0</td>\n",
       "      <td>0.0</td>\n",
       "      <td>0.0</td>\n",
       "      <td>0.0</td>\n",
       "      <td>0.0</td>\n",
       "      <td>1.0</td>\n",
       "      <td>1.0</td>\n",
       "      <td>0.0</td>\n",
       "      <td>0.0</td>\n",
       "    </tr>\n",
       "    <tr>\n",
       "      <th>G</th>\n",
       "      <td>0.0</td>\n",
       "      <td>0.0</td>\n",
       "      <td>0.0</td>\n",
       "      <td>0.0</td>\n",
       "      <td>0.0</td>\n",
       "      <td>0.0</td>\n",
       "      <td>0.0</td>\n",
       "      <td>1.0</td>\n",
       "      <td>1.0</td>\n",
       "    </tr>\n",
       "    <tr>\n",
       "      <th>T</th>\n",
       "      <td>0.0</td>\n",
       "      <td>0.0</td>\n",
       "      <td>0.0</td>\n",
       "      <td>0.0</td>\n",
       "      <td>0.0</td>\n",
       "      <td>1.0</td>\n",
       "      <td>1.0</td>\n",
       "      <td>0.0</td>\n",
       "      <td>0.0</td>\n",
       "    </tr>\n",
       "    <tr>\n",
       "      <th>G</th>\n",
       "      <td>0.0</td>\n",
       "      <td>0.0</td>\n",
       "      <td>0.0</td>\n",
       "      <td>0.0</td>\n",
       "      <td>0.0</td>\n",
       "      <td>0.0</td>\n",
       "      <td>0.0</td>\n",
       "      <td>1.0</td>\n",
       "      <td>1.0</td>\n",
       "    </tr>\n",
       "    <tr>\n",
       "      <th>A</th>\n",
       "      <td>0.0</td>\n",
       "      <td>1.0</td>\n",
       "      <td>1.0</td>\n",
       "      <td>0.0</td>\n",
       "      <td>0.0</td>\n",
       "      <td>0.0</td>\n",
       "      <td>0.0</td>\n",
       "      <td>0.0</td>\n",
       "      <td>0.0</td>\n",
       "    </tr>\n",
       "  </tbody>\n",
       "</table>\n",
       "</div>"
      ],
      "text/plain": [
       "     -    A    A    C    C    T    T    G    G\n",
       "-  0.0  0.0  0.0  0.0  0.0  0.0  0.0  0.0  0.0\n",
       "A  0.0  1.0  1.0  0.0  0.0  0.0  0.0  0.0  0.0\n",
       "C  0.0  0.0  0.0  1.0  1.0  0.0  0.0  0.0  0.0\n",
       "A  0.0  1.0  1.0  0.0  0.0  0.0  0.0  0.0  0.0\n",
       "C  0.0  0.0  0.0  1.0  1.0  0.0  0.0  0.0  0.0\n",
       "T  0.0  0.0  0.0  0.0  0.0  1.0  1.0  0.0  0.0\n",
       "G  0.0  0.0  0.0  0.0  0.0  0.0  0.0  1.0  1.0\n",
       "T  0.0  0.0  0.0  0.0  0.0  1.0  1.0  0.0  0.0\n",
       "G  0.0  0.0  0.0  0.0  0.0  0.0  0.0  1.0  1.0\n",
       "A  0.0  1.0  1.0  0.0  0.0  0.0  0.0  0.0  0.0"
      ]
     },
     "execution_count": 611,
     "metadata": {},
     "output_type": "execute_result"
    }
   ],
   "source": [
    "##https://www.youtube.com/watch?v=LhpGz5--isw\n",
    "# v='ATGGCCTC'\n",
    "# w='ACGGCTC'\n",
    "\n",
    "##http://rosalind.info/problems/ba5c/\n",
    "w='AACCTTGG'\n",
    "v='ACACTGTGA'\n",
    "\n"
   ]
  },
  {
   "cell_type": "code",
   "execution_count": 712,
   "metadata": {
    "ExecuteTime": {
     "end_time": "2020-09-23T20:56:10.942591Z",
     "start_time": "2020-09-23T20:56:10.902612Z"
    }
   },
   "outputs": [
    {
     "data": {
      "text/plain": [
       "'ACCTGG'"
      ]
     },
     "execution_count": 712,
     "metadata": {},
     "output_type": "execute_result"
    }
   ],
   "source": [
    "w='AACCTTGG'\n",
    "v='ACACTGTGA'\n",
    "Fmat,_=scoreAlignment(w,v)\n",
    "LCS(w,v,Fmat)"
   ]
  },
  {
   "cell_type": "code",
   "execution_count": 713,
   "metadata": {
    "ExecuteTime": {
     "end_time": "2020-09-23T20:56:12.550157Z",
     "start_time": "2020-09-23T20:56:12.511899Z"
    }
   },
   "outputs": [
    {
     "data": {
      "text/plain": [
       "'ATGT'"
      ]
     },
     "execution_count": 713,
     "metadata": {},
     "output_type": "execute_result"
    }
   ],
   "source": [
    "##https://www.youtube.com/watch?v=wmIMeyWDZI0&list=PLQ-85lQlPqFNmbPEsMoxb5dM5qtRaVShn&index=3\n",
    "v='ATGTTATA'\n",
    "w='ATCGTCC'\n",
    "Fmat,_=scoreAlignment(v,w)\n",
    "LCS(v,w,Fmat)"
   ]
  },
  {
   "cell_type": "code",
   "execution_count": 715,
   "metadata": {
    "ExecuteTime": {
     "end_time": "2020-09-23T20:59:32.579166Z",
     "start_time": "2020-09-23T20:56:34.081971Z"
    }
   },
   "outputs": [
    {
     "name": "stdout",
     "output_type": "stream",
     "text": [
      "CPU times: user 3 µs, sys: 1e+03 ns, total: 4 µs\n",
      "Wall time: 21 µs\n"
     ]
    }
   ],
   "source": [
    "%time\n",
    "w='ACCGTCTTAGCGATCAACACATTTAACAACGCGCCGCACCCCCCGTCAAACGAGCTTTTGGGCTCTTGTCCTTTTACAAGCTTCACGACGCATACAGCCTTGATCAACGGTTTGATCTGTCTCCCTTCAGCTGGCTTTAAAGGACATACATATGAAGGCCTTAATAAGGTCCGGGAACTCCACATATTCGGTACTGGGCAAACCCCATGAACCACCTCAACATGAAGAGTCCGAGGACTCTCACGATCCACCAATGCAGATCGGAACTGTGCGATCGCGTAATGAGCCGAGTACTTGGTTTGTGTTTAGGTTATGGGGGCCGGGAGCCGGTTCAATATAAGGAAGTAGTTGCAGATTAGTTGTTGCGAACGGTCATAAATTTGATGGGTAAACGTGAACTTAACAAACCGTGATAGCTAATCCTATGCATCCCTTACGTGGATCGACTCGAGTACCCAGGTGAACCGACTACTTGATAACCGGAAATCGCGGTATAAAAGCGCTCACGGTCAGGAGATATACCTCCAAGCAGTAGTCTTTCTGAGCCTAGAGTAGTAAATTACAGGGACGATGTCTTTTACCGAGGCAACATTTTATTGAGAATCACATGAGGCACAGGTAAAGGCGACATCACGATCGAGATCAACCCCTACTTGTTCAAAACATTGAGAACCAGCTCTGTTTTGGAACCTAGAAAGATAACGCATCCGCTTGATATTCCACGGCTTGTCCCTCTTGTGCGGTCCATCTATCGGAGTTTCCTCCGATACGACCCGCAATGTTTCCAGGCGTACGGTACTTTATGAATACACTCGCGCTGTAACCTGTTATGTGAAACACACACGACAGAGCTTCGCGTGGGCCCAGCGACCCGGTAATACTACATCACCGCACACGACCTCGAGCAGTCTTTGCCGGCGTCCGTAAGTAGTCTAAAGTTGTGTTGATGCTTGGGGTTAAAGCTAAATCGTCCGCAGAATACGACTCTCATCCCAAT'\n",
    "v='ACCCGCACGCGCTTTGGTCTAGATTCTAGCTCCAACTTGCCTGCTAGATACTCTGTTAAAAGATGGTTTTACAACCCCCTCCTCTGTCCCTGGGGTATTATATAATACGTCGGATAGTCAGGTACAAATACAAGTGGGTGGGAATACTTTTCCTCGGATCCTAGACCACGGATTACTGCGTGGTTGACAAGAGTCGGCCCGGAGGGAAACGTGAAGGTTAGTGCAATTAAAGTCTCTAATGTGAAGCCTCCGCGAAGCGAGGAGTTTCTGAGATCGAGTACTATTTAGAGTTCGAAATCACGGCTTAACCTCACTGCCACGCATAACTTGCCGGCAATCCAGTTTTGCAACGATACTTAATTTGTGCAGCTCATCTTTGCTGTCCAGAAATAGAGCTAGTCGATCTCATCTTGCGGGTAGCCAGAAGTCCTACCGTCTCCTCCATGTAGCTTAAAAATTTCGGTGAGGATCAAAAATGATAAACGTGACAGGTAAGCTCCTACGTCTATCCTATGACCCCCGCGGCAGAATAGGTTGGTAGTGTTAGTGCGTGAGCTGGTAGAATAGAGCACACTTAGGGAAACGGGAACCGTTATGTAGGGCTGCGACACACAAAAAAGTGTTCGTTGGTAAGCTGCCTCTCCACTAAACAGGATTTCTCTGGATGATCCCATCGAAGCAAGTTACGCACCACGCCGAGGCGGACCCTGGTACTAGCTGCCCCCCCCTTTATGGGGCGCTCGTACATCAAGATGATCGCGGACTCAACCTGATTACGAGTTGTCCAAGTAGTCCAGGGTAAGAGAAACTGGAGAGA'\n",
    "Fmat,_=scoreAlignment(v,w)"
   ]
  },
  {
   "cell_type": "code",
   "execution_count": 747,
   "metadata": {
    "ExecuteTime": {
     "end_time": "2020-09-23T21:19:53.723250Z",
     "start_time": "2020-09-23T21:15:02.448046Z"
    }
   },
   "outputs": [
    {
     "data": {
      "text/plain": [
       "'CACCTAGCCTACCGGTCTACCAAATATCTAGACTCATTGGCCGTGTAATAGTTGGGGATATTTCTTTTAAATTGTTCCATATTACTTGGGTGGAACTCAACAACCCTCCGGCGTAGAAGCGGATTTGGTCGCGAAGTATTGTATTTCGGGTGACCACCCACCCCCTACTCAAATTTGAAGCTAATTGTTTAGGTGAAGAATCGCTTGGCCGTGCGCAATTTGGCGACCCCGGCCCCATTCTTCTCAGCTCATCCACCTTCCATTTGGTATAACGCATAAAGGACACAGCAATTAGGGTTATGTCCGCTGGACTGTGTACACTTTTCAGTTGGGCGCTGGCTCCTTCAGAATTGTTTTGCCCATAGGCCGCAAGTCACGCGAGGGCGGAACGGTTACTGTTAGGATCGTTGGTGCGTTTTAAGTTCCGGCGATCACTGTGACTACCCCACACATTGGTTCTCCTAGGTACGAGTAAACGCTCGATAGTTGGTCACTGCATCGCATCGATTCCTGCCATTATTCAAGTCCGAGGCCCCCGAGCCCCCAGCGAGGGTCCG'"
      ]
     },
     "execution_count": 747,
     "metadata": {},
     "output_type": "execute_result"
    }
   ],
   "source": [
    "### Challenge\n",
    "% time\n",
    "w='TTTGACATTCCTACGACCTAGAACCGGCCGGAAGGGATAGGCTACCAAGCGATGTATCTGAGGATCTCATTGGCCGGTCGTTTCAAGCCGTAGTTTGGCCGCGATACCCCGTTTCTTCTTATAATCTCACCGTTGCGCCCACGTGAAATCAGTACTGTTCGGGGGTTGTGTAAAAATCCTCATCACCGCAAACCCACTCGCAGGGGTCTTGTCAGATAAGCGCGCGTATGTTGGTCGGGGAACGGAAGGGGGGTGTATGTCGTATCTTCGGGTGACCACCCATCCCCCTACTCAAGATCTGTGTAGGAGCTATTATTGTTTGAGGTGAATGAGATGCGCTTCGAGGCCGTGCGTACACGGATAGTAGCTGGCGGACACGCCGGCAGCCGCATTCTGTCTCAGCTTCAGTCCGACCTTCCTATTTGGTAATAACCGCAATTATGGAAGTTCGACATCCCGAGGTGATTCAAATTAGGGTTTAATGCGCTCCGCTGGTACTGCATGTATCTATCTTCTTCATGTTAGGGCGCTAAGGCGTGCCTTCATTGAATTGTTTTAGCATACCACCCTGGAAAGGCCGCAAGCTCACGGTCGAGACAGAGCCGTGGAACGGTGATGGACTGTTAAGGATCGCTGTGGTGCGTAATATTAGAGAATTTCCGGCCCGCTAATACCCAACTGTGCACTTAACCCCATCACATGTGAAAGTTGTACTCCAGTAGGTGACCTGAGTCCCAAGACGCTCCCCCTGATTAGTTGTGTGCACTGTTCCGATCGTCAGGGTGCTAGATGTCCTTGACCGAGGTTCAGTTCGCCAGATGGTGCCGACGGACGCGGTCCACTGAGGCCCCTCATTGGCCGAGCAATAGTTGATCCG'\n",
    "v='CACCTAGCCTATCTTTTCGGTTCTAGCCTAAATATCATCAGCACGTGCCTATGTGGCCGTGTAATGAAGCTTGGTTGAGAATATTGGTCCTTGTTAATATGTGTTCTCATATTACTTGCGGTGGAGACTCGAACAACGCCGTCCTGGCGTAGAAGCGGAATTTCGATGTCGCCGTACAGTATTGGTATTGTTCCGCGGGGCATGACCAGCTGCCGAACACGTGCTCCGTGATGATACCGTCACACCAATTTGAAGCTAAAACCATGTGCTTACATAAATCGGCTGTCACAGAAATTCGCTTGCTGTCCTCGTGCGCAATTTCGTGCGTTACCCGCGTGCCCCCACAACATTTACTTTCTAACATGCCCTCAACAAATCCACTACCTAGTAGCGCCGCACTCTTCAGAGTATCAAAGCGGCATAAAGGACAACAGCAACGCTCTCATCGTGACGCCTTATTGTCCTTGCTAGGGAACTTGTCGCGGTGACACTATTGTGCGGAGAGGGTTGTGCTTGCGCTGGCTACCTATCAGCAAATCGTCGTGTGTTGCGCTTCATAGGCTTTCCCGCAAGGTTCACGCGAGGGCGGTTCAACGGCTTATCTCCTCGTCTACGTCCACCAGATTACGTTGCTGTCGCCCGCTCTTTACCCAGGGTTCCCGTGCGGATGTCATTCTTTGTTAAGTACTACCATCCACACAACTTGGTTCTTTCCTTCTCACCGGTAGCGTAGTTAAAGCGCTAACGCATAGTTGCGAAATAACTAACTGCATGACGCCATCGACTTCCCTGTCTTCATTATTACTTAAGTACGCATGAGGCCCCCGAACGCCCCCAGACGAGGGTCCTCTGGCGGA'\n",
    "Fmat,_=scoreAlignment(w,v)\n",
    "LCS(w,v,Fmat)"
   ]
  },
  {
   "cell_type": "code",
   "execution_count": 781,
   "metadata": {
    "ExecuteTime": {
     "end_time": "2020-09-23T21:54:09.659378Z",
     "start_time": "2020-09-23T21:54:08.435457Z"
    },
    "cell_style": "split"
   },
   "outputs": [
    {
     "name": "stdout",
     "output_type": "stream",
     "text": [
      "CPU times: user 3 µs, sys: 0 ns, total: 3 µs\n",
      "Wall time: 17.9 µs\n"
     ]
    },
    {
     "data": {
      "text/plain": [
       "'TTAGTGGGTTGGGCCGTGTCGAATACCATTTGACCAATCGGTTTCAGTAAACGTAGAGATCACCTCGGTAAGGACTGCGTAGGGTCATTTCCTTGGAACAGCTCCTGACATTTCGCAGTGCGATTCTACAAAGCGTCCGGTGAGTGAACGAGCCGGAATGGGAGCGTACCCAAAACTGAGTTTAATCGCAGCGAGTGGCCTTAGGGGAAGTGTAATATCCTCCCGTCCCCTATGCTTACTGGCTCATGGGTAAATCATGAAGAACGAAACCCGTGAGGCTCGGCTGGCACATTTCACAGGGTAGGGGGTCGTCTCCCCAATTAAAAACGGGGCAGGTTGACGTGCATGCATGGCTTGGCGTGAAACCCGATGAATACTACAGCTCACACTCACCCCGCCAACAAATCTATTCAGAGCGAGAGGATCTGGTTTACAGCTCACTCTCCCTCCCTTAGAAGATGCCGGTCCATAGGATAGGATGAGTCCAACACGTTCTAAAATACCCTTAGAACCGGAAGATTACTCGGAATTTTGATGATCTCAATGGTATGGTATCTTCAAGCCGTTTCCATGATAGCTAGGGAACCAGTCTGTTTTTAGGGACGACCGAGTTATACGGAGGTCTCC'"
      ]
     },
     "execution_count": 781,
     "metadata": {},
     "output_type": "execute_result"
    }
   ],
   "source": [
    "### Challenge new dataset\n",
    "%time\n",
    "w='TTAGTGGGTATAGGTGCCGTGTCGGATATTACTCATTTCCGACCAATTCGGTTTCAGTGAAACGTAGATGATCACCTATCGGTATAAGGACTTGCAGTAGAGGTCAGTTTCCTTGAGAACAAGCATCCATGTAACCCAAGTTTCTCCCGCGGAGTGGGCGATTGGCTAACAAGAGCGGTTCGGCGGTGCAAGCTGAGACAAGAGCTTGCGGAATGGGAGCTGTAACTCCATAAACTAGAGTTTAATCGTAGTCCTAGTCCTGCCCAGTTGGCAAGTGCTTAAGGGGTAAAGTCGTAATGATTCCTCGACCAGTTCCCCTATGGTACTTACAAGTTGGCTCATGGGGTAAATCACTGAAGAACGAGAAGCGCACGTGAGGCTGGCGGGCTGGTCACGATTTCTATCATTGTAGGTAGGGCGGTTCGGGTCATCCAACGCAGTATGTTATCGTCATTTCTCACACATCGGGAGCACGACACGAATCTTCGTACGTGTCCATGCCATGTTTAAGTTTCTTAGAGATACTTAAGTTGAAAATCCCGATAGAATCAACTACAGCTCACTACCTCTTCCACCTCTTCGCTTCGGGTAACATAACTTCTCATTCCAGAGGTTGCGAGGCCACCCGGACTTCATACGGCTTATATCAGCTTCACTCCATCCCTCGGCCCATTAGCGAAGCAGTGCGCGAGGATGCCATGCAGCGTAATTGGAGGGACTTCGGAGTCCCAACACATAGTTCTAAAGTAGTTTTTAGCCGCTTAGAATCCCTGGCGGGGGAAGATTACCATCGGAGATTCCCTTGAACTGATCTGCGCGACACTGGATATGGTATCGTGTGCAAGCAACCGTATACATCAAAACCATGGGAGTAAGCATCCCAGGGAAACCAGGGAACTCATGTACAAGATTTTCAGTGGACGACACGACGGTCTATATCCGGACCACGGTCACACCTACCACGACC'\n",
    "v='GTTAGACGCATGGTGAAGCTTGGCGCCCCAAGGCTAGTAGGGCGAACATGAGCGGCCAACAACTTATGTTAGCGCATATACGAAGGGGGTCATTTAACAGGGGTACAATTACCATGGTTAGACGGATTTCCAACCTCGAGCTGAAGGGCACAATAGAACGTTATGGGGTGCTAATTCCTCCTGATGTTGATACAGCGTTGGCCGTGACTATTTGGCGCAAGTAGACTATATTGTATACTTCTATTCGAACAGCCGATCCGGTGGAGTTTGGGGGGGAACGCAGCCGGAATCGCTGTGACCCCCTGCGTACCCCGAGGAGACGACTCTTCCGGAGTGATATAATGCGCAGCGAGTCGGCCTATAGGGGAATGTTGATAATATCCTAGCCCCGTGCCCAATAAGCCTAAATTTTGCCTTACTGAGCCCTCATGCATCGCGATAAGATCTAGTGAGAACGCCAACGGAAAACTCTTTCGGTGGGACCCGGCACCCTCGGCTGACGCACACTGTCGTCGACAGGGTAGGCCCGGGCTCGTATCTCCCCAACTTAAAAAACGGTGGCTTGAGGTTGGGACGGCTGAGCATGCGATTGGCTATGGCGTGAACAGCCTCAGATGGGTAATTACTGACAGCGCGTTACGCAACAGCATCACTCCCGAACCAAACAAGAGAGGTCTATGGATCGAGAGCGAGAGGATCTGGTGTTGTACACGCGTAAACACCGTACTCCCGATCATACCTTAGTAATATGATGCTCGGTCCATATAGGATAGGATGAGTACTGCATTACAGCGGTTCCATAAAACTACCCCTCTAGCAAGCCGGAACGATTGAGTCTCGTGCAATTATTTCGATGAGGTCAGTCATTATAAGGTATGGAATAATGCTTCACACGCTTCGTTTGTTCCTATGACTTACGCTTAGGACGCAAGCCACGTCGTGTTTTTAGGGACCCAGACTCTGCTCATGTTGATACGAGGAGGGGTCTCC'\n",
    "longSub,_ = lcsq(w,v)\n",
    "longSub"
   ]
  },
  {
   "cell_type": "code",
   "execution_count": 777,
   "metadata": {
    "ExecuteTime": {
     "end_time": "2020-09-23T21:46:40.018296Z",
     "start_time": "2020-09-23T21:40:12.293912Z"
    },
    "cell_style": "split"
   },
   "outputs": [
    {
     "name": "stdout",
     "output_type": "stream",
     "text": [
      "CPU times: user 3 µs, sys: 0 ns, total: 3 µs\n",
      "Wall time: 17.2 µs\n"
     ]
    },
    {
     "data": {
      "text/plain": [
       "'TTAGTGGGTTGGGCCGTGTCGAATACCATTTGACCAATCGGTTTCAGTAAACGTAGAGATCACCTCGGTAAGGACTGCGTAGGGTCATTTCCTTGGAACAGCTCCTGACATTTCGCAGTGCGATTCTACAAAGCGTCCGGTGAGTGAACGAGCCGGAATGGGAGCGTACCCAAAACTGAGTTTAATCGCAGCGAGTGGCCTTAGGGGAAGTGTAATATCCTCCCGTCCCCTATGCTTACTGGCTCATGGGTAAATCATGAAGAACGAAACCCGTGAGGCTCGGCTGGCACATTTCACAGGGTAGGGGGTCGTCTCCCCAATTAAAAACGGGGCAGGTTGACGTGCATGCATGGCTTGGCGTGAAACCCGATGAATACTACAGCTCACACTCACCCCGCCAACAAATCTATTCAGAGCGAGAGGATCTGGTTTACAGCTCACTCTCCCTCCCTTAGAAGATGCCGGTCCATAGGATAGGATGAGTCCAACACGTTCTAAAATACCCTTAGAACCGGAAGATTACTCGGAATTTTGATGATCTCAATGGTATGGTATCTTCAAGCCGTTTCCATGATAGCTAGGGAACCAGTCTGTTTTTAGGGACGACCGAGTTATACGGAGGTCTCC'"
      ]
     },
     "execution_count": 777,
     "metadata": {},
     "output_type": "execute_result"
    }
   ],
   "source": [
    "%time\n",
    "w='TTAGTGGGTATAGGTGCCGTGTCGGATATTACTCATTTCCGACCAATTCGGTTTCAGTGAAACGTAGATGATCACCTATCGGTATAAGGACTTGCAGTAGAGGTCAGTTTCCTTGAGAACAAGCATCCATGTAACCCAAGTTTCTCCCGCGGAGTGGGCGATTGGCTAACAAGAGCGGTTCGGCGGTGCAAGCTGAGACAAGAGCTTGCGGAATGGGAGCTGTAACTCCATAAACTAGAGTTTAATCGTAGTCCTAGTCCTGCCCAGTTGGCAAGTGCTTAAGGGGTAAAGTCGTAATGATTCCTCGACCAGTTCCCCTATGGTACTTACAAGTTGGCTCATGGGGTAAATCACTGAAGAACGAGAAGCGCACGTGAGGCTGGCGGGCTGGTCACGATTTCTATCATTGTAGGTAGGGCGGTTCGGGTCATCCAACGCAGTATGTTATCGTCATTTCTCACACATCGGGAGCACGACACGAATCTTCGTACGTGTCCATGCCATGTTTAAGTTTCTTAGAGATACTTAAGTTGAAAATCCCGATAGAATCAACTACAGCTCACTACCTCTTCCACCTCTTCGCTTCGGGTAACATAACTTCTCATTCCAGAGGTTGCGAGGCCACCCGGACTTCATACGGCTTATATCAGCTTCACTCCATCCCTCGGCCCATTAGCGAAGCAGTGCGCGAGGATGCCATGCAGCGTAATTGGAGGGACTTCGGAGTCCCAACACATAGTTCTAAAGTAGTTTTTAGCCGCTTAGAATCCCTGGCGGGGGAAGATTACCATCGGAGATTCCCTTGAACTGATCTGCGCGACACTGGATATGGTATCGTGTGCAAGCAACCGTATACATCAAAACCATGGGAGTAAGCATCCCAGGGAAACCAGGGAACTCATGTACAAGATTTTCAGTGGACGACACGACGGTCTATATCCGGACCACGGTCACACCTACCACGACC'\n",
    "v='GTTAGACGCATGGTGAAGCTTGGCGCCCCAAGGCTAGTAGGGCGAACATGAGCGGCCAACAACTTATGTTAGCGCATATACGAAGGGGGTCATTTAACAGGGGTACAATTACCATGGTTAGACGGATTTCCAACCTCGAGCTGAAGGGCACAATAGAACGTTATGGGGTGCTAATTCCTCCTGATGTTGATACAGCGTTGGCCGTGACTATTTGGCGCAAGTAGACTATATTGTATACTTCTATTCGAACAGCCGATCCGGTGGAGTTTGGGGGGGAACGCAGCCGGAATCGCTGTGACCCCCTGCGTACCCCGAGGAGACGACTCTTCCGGAGTGATATAATGCGCAGCGAGTCGGCCTATAGGGGAATGTTGATAATATCCTAGCCCCGTGCCCAATAAGCCTAAATTTTGCCTTACTGAGCCCTCATGCATCGCGATAAGATCTAGTGAGAACGCCAACGGAAAACTCTTTCGGTGGGACCCGGCACCCTCGGCTGACGCACACTGTCGTCGACAGGGTAGGCCCGGGCTCGTATCTCCCCAACTTAAAAAACGGTGGCTTGAGGTTGGGACGGCTGAGCATGCGATTGGCTATGGCGTGAACAGCCTCAGATGGGTAATTACTGACAGCGCGTTACGCAACAGCATCACTCCCGAACCAAACAAGAGAGGTCTATGGATCGAGAGCGAGAGGATCTGGTGTTGTACACGCGTAAACACCGTACTCCCGATCATACCTTAGTAATATGATGCTCGGTCCATATAGGATAGGATGAGTACTGCATTACAGCGGTTCCATAAAACTACCCCTCTAGCAAGCCGGAACGATTGAGTCTCGTGCAATTATTTCGATGAGGTCAGTCATTATAAGGTATGGAATAATGCTTCACACGCTTCGTTTGTTCCTATGACTTACGCTTAGGACGCAAGCCACGTCGTGTTTTTAGGGACCCAGACTCTGCTCATGTTGATACGAGGAGGGGTCTCC'\n",
    "Fmat,_= scoreAlignment(v,w)\n",
    "myAlgo = LCS(v,w,Fmat)\n",
    "myAlgo"
   ]
  },
  {
   "cell_type": "code",
   "execution_count": 782,
   "metadata": {
    "ExecuteTime": {
     "end_time": "2020-09-23T21:54:12.020484Z",
     "start_time": "2020-09-23T21:54:12.008074Z"
    }
   },
   "outputs": [
    {
     "data": {
      "text/plain": [
       "True"
      ]
     },
     "execution_count": 782,
     "metadata": {},
     "output_type": "execute_result"
    }
   ],
   "source": [
    "len(myAlgo) == len(longSub)"
   ]
  },
  {
   "cell_type": "markdown",
   "metadata": {
    "ExecuteTime": {
     "end_time": "2020-09-23T19:36:48.568925Z",
     "start_time": "2020-09-23T19:36:48.484808Z"
    }
   },
   "source": [
    "                    My implementation is slow but it works. **Optimize later**\n",
    "\n",
    "---"
   ]
  },
  {
   "cell_type": "markdown",
   "metadata": {},
   "source": [
    "### BA5d Find the Longest Path in a DAG\n",
    "\n",
    "http://rosalind.info/problems/ba5c/\n",
    "\n",
    "**Longest Path in a DAG Problem** <br>\n",
    "Find a longest path between two nodes in an edge-weighted DAG.<br>\n",
    "\n",
    "Given: An integer representing the source node of a graph, followed by an integer representing the sink node of the graph, followed by an edge-weighted graph. The graph is represented by a modified adjacency list in which the notation \"0->1:7\" indicates that an edge connects node 0 to node 1 with weight 7.<br>\n",
    "\n",
    "Return: The length of a longest path in the graph, followed by a longest path. (If multiple longest paths exist, you may return any one.)<br>"
   ]
  },
  {
   "cell_type": "code",
   "execution_count": 1,
   "metadata": {
    "ExecuteTime": {
     "end_time": "2020-09-25T22:15:01.549847Z",
     "start_time": "2020-09-25T22:15:01.515400Z"
    }
   },
   "outputs": [],
   "source": [
    "import re\n",
    "def readba5d(file):\n",
    "    F = open(file,'r') \n",
    "    i = 0\n",
    "    source=np.nan\n",
    "    sink=np.nan\n",
    "    adjacencyMat=[]\n",
    "    for line in F: \n",
    "        if i == 0:\n",
    "            source = int(line)\n",
    "            i += 1\n",
    "        else:\n",
    "            if i == 1:\n",
    "                sink = int(line)\n",
    "                i += 1\n",
    "            else:\n",
    "                adjacencyMat.append([int(_)for _ in re.split('->|:|\\n',line)[0:3]])\n",
    "                i += 1\n",
    "\n",
    "    #adjacencyMat = pd.DataFrame(adjacencyMat,columns=['out','in','w'])\n",
    "    return source,sink,adjacencyMat"
   ]
  },
  {
   "cell_type": "code",
   "execution_count": 18,
   "metadata": {
    "ExecuteTime": {
     "end_time": "2020-09-25T22:21:59.264118Z",
     "start_time": "2020-09-25T22:21:59.248449Z"
    }
   },
   "outputs": [
    {
     "name": "stdout",
     "output_type": "stream",
     "text": [
      "0 4 [[0, 1, 7], [0, 2, 4], [2, 3, 2], [1, 4, 1], [3, 4, 3]]\n"
     ]
    }
   ],
   "source": [
    "source,sink,adjacencyMat = readba5d(\"BA5/test_ba5d.txt\")\n",
    "print(source,sink,adjacencyMat)"
   ]
  },
  {
   "cell_type": "code",
   "execution_count": 336,
   "metadata": {
    "ExecuteTime": {
     "end_time": "2020-09-25T05:09:02.963381Z",
     "start_time": "2020-09-25T05:09:02.954969Z"
    }
   },
   "outputs": [
    {
     "data": {
      "text/plain": [
       "[[0, 1, 7], [0, 2, 4], [2, 3, 2], [1, 4, 1], [3, 4, 3]]"
      ]
     },
     "execution_count": 336,
     "metadata": {},
     "output_type": "execute_result"
    }
   ],
   "source": [
    "adjacencyMat"
   ]
  },
  {
   "cell_type": "code",
   "execution_count": 269,
   "metadata": {
    "ExecuteTime": {
     "end_time": "2020-09-25T04:17:28.531589Z",
     "start_time": "2020-09-25T04:17:28.524031Z"
    }
   },
   "outputs": [],
   "source": []
  },
  {
   "cell_type": "code",
   "execution_count": 348,
   "metadata": {
    "ExecuteTime": {
     "end_time": "2020-09-25T05:10:59.283068Z",
     "start_time": "2020-09-25T05:10:59.274051Z"
    }
   },
   "outputs": [
    {
     "data": {
      "text/plain": [
       "{0, 1, 2, 3, 4}"
      ]
     },
     "execution_count": 348,
     "metadata": {},
     "output_type": "execute_result"
    }
   ],
   "source": []
  },
  {
   "cell_type": "code",
   "execution_count": null,
   "metadata": {},
   "outputs": [],
   "source": []
  },
  {
   "cell_type": "code",
   "execution_count": 401,
   "metadata": {
    "ExecuteTime": {
     "end_time": "2020-09-25T05:32:14.535377Z",
     "start_time": "2020-09-25T05:32:14.508019Z"
    }
   },
   "outputs": [
    {
     "data": {
      "text/plain": [
       "{2: (3, 2), 1: (4, 1), 3: (4, 3)}"
      ]
     },
     "execution_count": 401,
     "metadata": {},
     "output_type": "execute_result"
    }
   ],
   "source": [
    "### Subset the adjacency matrix for the starting nodes\n",
    "start = {_[1]:_[2] for _ in adjacencyMat if source == _[0]}\n",
    "\n",
    "#### Prepare matrix for dynamic programming\n",
    "ins = set([_[1] for _ in adjacencyMat]) # To avoid repeated entries, use sets\n",
    "outs = set([_[0] for _ in adjacencyMat]) #\n",
    "\n",
    "## From the out nodes, remove the source and keep only the starting nodes\n",
    "outs = outs - {source} and set(list(start.keys()))\n",
    "## From the in nodes, add the source node to start counting\n",
    "ins.add(source) \n",
    "scoring = pd.DataFrame(0,index=outs,columns=ins)\n",
    "\n",
    "############\n",
    "### Prepare adj matrix as dictionary for easier lookup\n",
    "adjacencyMat_dict = {_[0]:(_[1],_[2]) for _ in adjacencyMat if source != _[0] }\n",
    "####\n",
    "# Initialize\n",
    "for k,v in start.items():\n",
    "    scoring.loc[k][source] = v\n",
    "print(scoring)\n",
    "\n",
    "### Add the condition to exit the loop in dynamic programming step\n",
    "adjacencyMat_dict[sink]=('F')\n",
    "print(adjacencyMat_dict)\n",
    "###\n",
    "## Iterate over each starting node from the source (rows)\n",
    "# Columns are the nodes each path follows, if a node is in the path, add the weight.\n",
    "for src in scoring.index:\n",
    "    #print(src)\n",
    "    OutWeight = adjacencyMat_dict[src]\n",
    "    #print(OutWeight)\n",
    "    while OutWeight[0] != 'F':\n",
    "        scoring.loc[src][OutWeight[0]] = OutWeight[1]\n",
    "        OutWeight = adjacencyMat_dict[OutWeight[0]]\n",
    "scoring        \n",
    "####\n",
    "## Find max\n",
    "winner = np.argmax(scoring.sum(axis=1))\n",
    "winner = list(scoring.index)[winner]\n",
    "winner\n",
    "### Results\n",
    "res = [i for i,r in pd.DataFrame(scoring.loc[winner]).iterrows() if int(r) != 0]\n",
    "res = [source,winner] + res\n",
    "res = ''.join(['-->'+str(_) for _ in res])[3:]\n",
    "###\n",
    "maxVal = scoring.loc[winner].sum()\n",
    "print(maxVal)\n",
    "print(res)"
   ]
  },
  {
   "cell_type": "code",
   "execution_count": 497,
   "metadata": {
    "ExecuteTime": {
     "end_time": "2020-09-25T05:51:08.069608Z",
     "start_time": "2020-09-25T05:51:08.049044Z"
    }
   },
   "outputs": [],
   "source": [
    "def longestPath(source,sink,adjacencyMat):\n",
    "    ### Subset the adjacency matrix for the starting nodes\n",
    "    start = {_[1]:_[2] for _ in adjacencyMat if source == _[0]}\n",
    "\n",
    "    #### Prepare matrix for dynamic programming\n",
    "    ins = set([_[1] for _ in adjacencyMat]) # To avoid repeated entries, use sets\n",
    "    outs = set([_[0] for _ in adjacencyMat]) #\n",
    "\n",
    "    ## From the out nodes, remove the source and keep only the starting nodes\n",
    "    outs = outs - {source} and set(list(start.keys()))\n",
    "    ## From the in nodes, add the source node to start counting\n",
    "    ins.add(source) \n",
    "    scoring = pd.DataFrame(0,index=outs,columns=ins)\n",
    "\n",
    "    ############\n",
    "    ### Prepare adj matrix as dictionary for easier lookup\n",
    "    adjacencyMat_dict = {_[0]:(_[1],_[2]) for _ in adjacencyMat if source != _[0] }\n",
    "    ####\n",
    "    # Initialize\n",
    "    for k,v in start.items():\n",
    "        scoring.loc[k][source] = v\n",
    "    #print(scoring)\n",
    "\n",
    "    ### Add the condition to exit the loop in dynamic programming step\n",
    "    adjacencyMat_dict[sink]=('F')\n",
    "    #print(adjacencyMat_dict)\n",
    "    ###\n",
    "    ## Iterate over each starting node from the source (rows)\n",
    "    # Columns are the nodes each path follows, if a node is in the path, add the weight.\n",
    "    for src in scoring.index:\n",
    "        #print(src)\n",
    "        OutWeight = adjacencyMat_dict[src]\n",
    "        #print(OutWeight)\n",
    "        while OutWeight[0] != 'F':\n",
    "            scoring.loc[src][OutWeight[0]] = OutWeight[1]\n",
    "            OutWeight = adjacencyMat_dict[OutWeight[0]]\n",
    "    scoring        \n",
    "    ####\n",
    "    ## Find max\n",
    "    winner = np.argmax(scoring.sum(axis=1))\n",
    "    winner = list(scoring.index)[winner]\n",
    "    winner\n",
    "    ### Results\n",
    "    res = [i for i,r in pd.DataFrame(scoring.loc[winner]).iterrows() if int(r) != 0]\n",
    "    res = [source,winner] + res\n",
    "    res = ''.join(['-->'+str(_) for _ in res])[3:]\n",
    "    ###\n",
    "    maxVal = scoring.loc[winner].sum()\n",
    "    return maxVal, res"
   ]
  },
  {
   "cell_type": "code",
   "execution_count": null,
   "metadata": {},
   "outputs": [],
   "source": []
  },
  {
   "cell_type": "code",
   "execution_count": null,
   "metadata": {},
   "outputs": [],
   "source": []
  },
  {
   "cell_type": "code",
   "execution_count": 793,
   "metadata": {
    "ExecuteTime": {
     "end_time": "2020-09-25T16:54:39.190555Z",
     "start_time": "2020-09-25T16:54:39.116787Z"
    },
    "scrolled": true
   },
   "outputs": [
    {
     "data": {
      "text/html": [
       "<div>\n",
       "<style scoped>\n",
       "    .dataframe tbody tr th:only-of-type {\n",
       "        vertical-align: middle;\n",
       "    }\n",
       "\n",
       "    .dataframe tbody tr th {\n",
       "        vertical-align: top;\n",
       "    }\n",
       "\n",
       "    .dataframe thead th {\n",
       "        text-align: right;\n",
       "    }\n",
       "</style>\n",
       "<table border=\"1\" class=\"dataframe\">\n",
       "  <thead>\n",
       "    <tr style=\"text-align: right;\">\n",
       "      <th></th>\n",
       "      <th>3</th>\n",
       "      <th>4</th>\n",
       "      <th>9</th>\n",
       "      <th>10</th>\n",
       "      <th>11</th>\n",
       "      <th>12</th>\n",
       "      <th>13</th>\n",
       "      <th>14</th>\n",
       "      <th>15</th>\n",
       "      <th>16</th>\n",
       "      <th>...</th>\n",
       "      <th>35</th>\n",
       "      <th>36</th>\n",
       "      <th>37</th>\n",
       "      <th>38</th>\n",
       "      <th>39</th>\n",
       "      <th>40</th>\n",
       "      <th>41</th>\n",
       "      <th>42</th>\n",
       "      <th>43</th>\n",
       "      <th>44</th>\n",
       "    </tr>\n",
       "  </thead>\n",
       "  <tbody>\n",
       "    <tr>\n",
       "      <th>0</th>\n",
       "      <td>0</td>\n",
       "      <td>0</td>\n",
       "      <td>0</td>\n",
       "      <td>0</td>\n",
       "      <td>0</td>\n",
       "      <td>0</td>\n",
       "      <td>0</td>\n",
       "      <td>0</td>\n",
       "      <td>0</td>\n",
       "      <td>0</td>\n",
       "      <td>...</td>\n",
       "      <td>0</td>\n",
       "      <td>0</td>\n",
       "      <td>0</td>\n",
       "      <td>0</td>\n",
       "      <td>0</td>\n",
       "      <td>0</td>\n",
       "      <td>0</td>\n",
       "      <td>0</td>\n",
       "      <td>0</td>\n",
       "      <td>0</td>\n",
       "    </tr>\n",
       "    <tr>\n",
       "      <th>1</th>\n",
       "      <td>0</td>\n",
       "      <td>0</td>\n",
       "      <td>0</td>\n",
       "      <td>0</td>\n",
       "      <td>0</td>\n",
       "      <td>0</td>\n",
       "      <td>0</td>\n",
       "      <td>0</td>\n",
       "      <td>0</td>\n",
       "      <td>0</td>\n",
       "      <td>...</td>\n",
       "      <td>0</td>\n",
       "      <td>0</td>\n",
       "      <td>0</td>\n",
       "      <td>0</td>\n",
       "      <td>0</td>\n",
       "      <td>0</td>\n",
       "      <td>0</td>\n",
       "      <td>0</td>\n",
       "      <td>0</td>\n",
       "      <td>0</td>\n",
       "    </tr>\n",
       "    <tr>\n",
       "      <th>2</th>\n",
       "      <td>0</td>\n",
       "      <td>0</td>\n",
       "      <td>0</td>\n",
       "      <td>0</td>\n",
       "      <td>0</td>\n",
       "      <td>0</td>\n",
       "      <td>0</td>\n",
       "      <td>0</td>\n",
       "      <td>0</td>\n",
       "      <td>0</td>\n",
       "      <td>...</td>\n",
       "      <td>0</td>\n",
       "      <td>0</td>\n",
       "      <td>0</td>\n",
       "      <td>0</td>\n",
       "      <td>0</td>\n",
       "      <td>0</td>\n",
       "      <td>0</td>\n",
       "      <td>0</td>\n",
       "      <td>0</td>\n",
       "      <td>0</td>\n",
       "    </tr>\n",
       "    <tr>\n",
       "      <th>3</th>\n",
       "      <td>0</td>\n",
       "      <td>0</td>\n",
       "      <td>0</td>\n",
       "      <td>0</td>\n",
       "      <td>0</td>\n",
       "      <td>0</td>\n",
       "      <td>0</td>\n",
       "      <td>0</td>\n",
       "      <td>0</td>\n",
       "      <td>0</td>\n",
       "      <td>...</td>\n",
       "      <td>0</td>\n",
       "      <td>0</td>\n",
       "      <td>0</td>\n",
       "      <td>0</td>\n",
       "      <td>0</td>\n",
       "      <td>0</td>\n",
       "      <td>0</td>\n",
       "      <td>0</td>\n",
       "      <td>0</td>\n",
       "      <td>0</td>\n",
       "    </tr>\n",
       "    <tr>\n",
       "      <th>4</th>\n",
       "      <td>0</td>\n",
       "      <td>0</td>\n",
       "      <td>0</td>\n",
       "      <td>0</td>\n",
       "      <td>0</td>\n",
       "      <td>0</td>\n",
       "      <td>0</td>\n",
       "      <td>0</td>\n",
       "      <td>0</td>\n",
       "      <td>0</td>\n",
       "      <td>...</td>\n",
       "      <td>0</td>\n",
       "      <td>0</td>\n",
       "      <td>0</td>\n",
       "      <td>0</td>\n",
       "      <td>0</td>\n",
       "      <td>0</td>\n",
       "      <td>0</td>\n",
       "      <td>0</td>\n",
       "      <td>0</td>\n",
       "      <td>0</td>\n",
       "    </tr>\n",
       "    <tr>\n",
       "      <th>5</th>\n",
       "      <td>0</td>\n",
       "      <td>0</td>\n",
       "      <td>0</td>\n",
       "      <td>0</td>\n",
       "      <td>0</td>\n",
       "      <td>0</td>\n",
       "      <td>0</td>\n",
       "      <td>0</td>\n",
       "      <td>0</td>\n",
       "      <td>0</td>\n",
       "      <td>...</td>\n",
       "      <td>0</td>\n",
       "      <td>0</td>\n",
       "      <td>0</td>\n",
       "      <td>0</td>\n",
       "      <td>0</td>\n",
       "      <td>0</td>\n",
       "      <td>0</td>\n",
       "      <td>0</td>\n",
       "      <td>0</td>\n",
       "      <td>0</td>\n",
       "    </tr>\n",
       "    <tr>\n",
       "      <th>6</th>\n",
       "      <td>0</td>\n",
       "      <td>0</td>\n",
       "      <td>0</td>\n",
       "      <td>0</td>\n",
       "      <td>0</td>\n",
       "      <td>0</td>\n",
       "      <td>0</td>\n",
       "      <td>0</td>\n",
       "      <td>0</td>\n",
       "      <td>0</td>\n",
       "      <td>...</td>\n",
       "      <td>0</td>\n",
       "      <td>0</td>\n",
       "      <td>0</td>\n",
       "      <td>0</td>\n",
       "      <td>0</td>\n",
       "      <td>0</td>\n",
       "      <td>0</td>\n",
       "      <td>0</td>\n",
       "      <td>0</td>\n",
       "      <td>0</td>\n",
       "    </tr>\n",
       "    <tr>\n",
       "      <th>7</th>\n",
       "      <td>0</td>\n",
       "      <td>0</td>\n",
       "      <td>0</td>\n",
       "      <td>0</td>\n",
       "      <td>0</td>\n",
       "      <td>0</td>\n",
       "      <td>0</td>\n",
       "      <td>0</td>\n",
       "      <td>0</td>\n",
       "      <td>0</td>\n",
       "      <td>...</td>\n",
       "      <td>0</td>\n",
       "      <td>0</td>\n",
       "      <td>0</td>\n",
       "      <td>0</td>\n",
       "      <td>0</td>\n",
       "      <td>0</td>\n",
       "      <td>0</td>\n",
       "      <td>0</td>\n",
       "      <td>0</td>\n",
       "      <td>0</td>\n",
       "    </tr>\n",
       "    <tr>\n",
       "      <th>8</th>\n",
       "      <td>0</td>\n",
       "      <td>0</td>\n",
       "      <td>0</td>\n",
       "      <td>0</td>\n",
       "      <td>0</td>\n",
       "      <td>0</td>\n",
       "      <td>0</td>\n",
       "      <td>0</td>\n",
       "      <td>0</td>\n",
       "      <td>0</td>\n",
       "      <td>...</td>\n",
       "      <td>0</td>\n",
       "      <td>0</td>\n",
       "      <td>0</td>\n",
       "      <td>0</td>\n",
       "      <td>0</td>\n",
       "      <td>0</td>\n",
       "      <td>0</td>\n",
       "      <td>0</td>\n",
       "      <td>0</td>\n",
       "      <td>0</td>\n",
       "    </tr>\n",
       "    <tr>\n",
       "      <th>10</th>\n",
       "      <td>0</td>\n",
       "      <td>0</td>\n",
       "      <td>0</td>\n",
       "      <td>0</td>\n",
       "      <td>0</td>\n",
       "      <td>0</td>\n",
       "      <td>0</td>\n",
       "      <td>0</td>\n",
       "      <td>0</td>\n",
       "      <td>0</td>\n",
       "      <td>...</td>\n",
       "      <td>0</td>\n",
       "      <td>0</td>\n",
       "      <td>0</td>\n",
       "      <td>0</td>\n",
       "      <td>0</td>\n",
       "      <td>0</td>\n",
       "      <td>0</td>\n",
       "      <td>0</td>\n",
       "      <td>0</td>\n",
       "      <td>0</td>\n",
       "    </tr>\n",
       "    <tr>\n",
       "      <th>11</th>\n",
       "      <td>0</td>\n",
       "      <td>0</td>\n",
       "      <td>0</td>\n",
       "      <td>0</td>\n",
       "      <td>0</td>\n",
       "      <td>0</td>\n",
       "      <td>0</td>\n",
       "      <td>0</td>\n",
       "      <td>0</td>\n",
       "      <td>0</td>\n",
       "      <td>...</td>\n",
       "      <td>0</td>\n",
       "      <td>0</td>\n",
       "      <td>0</td>\n",
       "      <td>0</td>\n",
       "      <td>0</td>\n",
       "      <td>0</td>\n",
       "      <td>0</td>\n",
       "      <td>0</td>\n",
       "      <td>0</td>\n",
       "      <td>0</td>\n",
       "    </tr>\n",
       "    <tr>\n",
       "      <th>12</th>\n",
       "      <td>0</td>\n",
       "      <td>0</td>\n",
       "      <td>0</td>\n",
       "      <td>0</td>\n",
       "      <td>0</td>\n",
       "      <td>0</td>\n",
       "      <td>0</td>\n",
       "      <td>0</td>\n",
       "      <td>0</td>\n",
       "      <td>0</td>\n",
       "      <td>...</td>\n",
       "      <td>0</td>\n",
       "      <td>0</td>\n",
       "      <td>0</td>\n",
       "      <td>0</td>\n",
       "      <td>0</td>\n",
       "      <td>0</td>\n",
       "      <td>0</td>\n",
       "      <td>0</td>\n",
       "      <td>0</td>\n",
       "      <td>0</td>\n",
       "    </tr>\n",
       "    <tr>\n",
       "      <th>13</th>\n",
       "      <td>0</td>\n",
       "      <td>0</td>\n",
       "      <td>0</td>\n",
       "      <td>0</td>\n",
       "      <td>0</td>\n",
       "      <td>0</td>\n",
       "      <td>0</td>\n",
       "      <td>0</td>\n",
       "      <td>0</td>\n",
       "      <td>0</td>\n",
       "      <td>...</td>\n",
       "      <td>0</td>\n",
       "      <td>0</td>\n",
       "      <td>0</td>\n",
       "      <td>0</td>\n",
       "      <td>0</td>\n",
       "      <td>0</td>\n",
       "      <td>0</td>\n",
       "      <td>0</td>\n",
       "      <td>0</td>\n",
       "      <td>0</td>\n",
       "    </tr>\n",
       "    <tr>\n",
       "      <th>14</th>\n",
       "      <td>0</td>\n",
       "      <td>0</td>\n",
       "      <td>0</td>\n",
       "      <td>0</td>\n",
       "      <td>0</td>\n",
       "      <td>0</td>\n",
       "      <td>0</td>\n",
       "      <td>0</td>\n",
       "      <td>0</td>\n",
       "      <td>0</td>\n",
       "      <td>...</td>\n",
       "      <td>0</td>\n",
       "      <td>0</td>\n",
       "      <td>0</td>\n",
       "      <td>0</td>\n",
       "      <td>0</td>\n",
       "      <td>0</td>\n",
       "      <td>0</td>\n",
       "      <td>0</td>\n",
       "      <td>0</td>\n",
       "      <td>0</td>\n",
       "    </tr>\n",
       "    <tr>\n",
       "      <th>15</th>\n",
       "      <td>0</td>\n",
       "      <td>0</td>\n",
       "      <td>0</td>\n",
       "      <td>0</td>\n",
       "      <td>0</td>\n",
       "      <td>0</td>\n",
       "      <td>0</td>\n",
       "      <td>0</td>\n",
       "      <td>0</td>\n",
       "      <td>0</td>\n",
       "      <td>...</td>\n",
       "      <td>0</td>\n",
       "      <td>0</td>\n",
       "      <td>0</td>\n",
       "      <td>0</td>\n",
       "      <td>0</td>\n",
       "      <td>0</td>\n",
       "      <td>0</td>\n",
       "      <td>0</td>\n",
       "      <td>0</td>\n",
       "      <td>0</td>\n",
       "    </tr>\n",
       "    <tr>\n",
       "      <th>16</th>\n",
       "      <td>0</td>\n",
       "      <td>0</td>\n",
       "      <td>0</td>\n",
       "      <td>0</td>\n",
       "      <td>0</td>\n",
       "      <td>0</td>\n",
       "      <td>0</td>\n",
       "      <td>0</td>\n",
       "      <td>0</td>\n",
       "      <td>0</td>\n",
       "      <td>...</td>\n",
       "      <td>0</td>\n",
       "      <td>0</td>\n",
       "      <td>0</td>\n",
       "      <td>0</td>\n",
       "      <td>0</td>\n",
       "      <td>0</td>\n",
       "      <td>0</td>\n",
       "      <td>0</td>\n",
       "      <td>0</td>\n",
       "      <td>0</td>\n",
       "    </tr>\n",
       "    <tr>\n",
       "      <th>17</th>\n",
       "      <td>0</td>\n",
       "      <td>0</td>\n",
       "      <td>0</td>\n",
       "      <td>0</td>\n",
       "      <td>0</td>\n",
       "      <td>0</td>\n",
       "      <td>0</td>\n",
       "      <td>0</td>\n",
       "      <td>0</td>\n",
       "      <td>0</td>\n",
       "      <td>...</td>\n",
       "      <td>0</td>\n",
       "      <td>0</td>\n",
       "      <td>0</td>\n",
       "      <td>0</td>\n",
       "      <td>0</td>\n",
       "      <td>0</td>\n",
       "      <td>0</td>\n",
       "      <td>0</td>\n",
       "      <td>0</td>\n",
       "      <td>0</td>\n",
       "    </tr>\n",
       "    <tr>\n",
       "      <th>19</th>\n",
       "      <td>0</td>\n",
       "      <td>0</td>\n",
       "      <td>0</td>\n",
       "      <td>0</td>\n",
       "      <td>0</td>\n",
       "      <td>0</td>\n",
       "      <td>0</td>\n",
       "      <td>0</td>\n",
       "      <td>0</td>\n",
       "      <td>0</td>\n",
       "      <td>...</td>\n",
       "      <td>0</td>\n",
       "      <td>0</td>\n",
       "      <td>0</td>\n",
       "      <td>0</td>\n",
       "      <td>0</td>\n",
       "      <td>0</td>\n",
       "      <td>0</td>\n",
       "      <td>0</td>\n",
       "      <td>0</td>\n",
       "      <td>0</td>\n",
       "    </tr>\n",
       "    <tr>\n",
       "      <th>20</th>\n",
       "      <td>0</td>\n",
       "      <td>0</td>\n",
       "      <td>0</td>\n",
       "      <td>0</td>\n",
       "      <td>0</td>\n",
       "      <td>0</td>\n",
       "      <td>0</td>\n",
       "      <td>0</td>\n",
       "      <td>0</td>\n",
       "      <td>0</td>\n",
       "      <td>...</td>\n",
       "      <td>0</td>\n",
       "      <td>0</td>\n",
       "      <td>0</td>\n",
       "      <td>0</td>\n",
       "      <td>0</td>\n",
       "      <td>0</td>\n",
       "      <td>0</td>\n",
       "      <td>0</td>\n",
       "      <td>0</td>\n",
       "      <td>0</td>\n",
       "    </tr>\n",
       "    <tr>\n",
       "      <th>21</th>\n",
       "      <td>0</td>\n",
       "      <td>0</td>\n",
       "      <td>0</td>\n",
       "      <td>0</td>\n",
       "      <td>0</td>\n",
       "      <td>0</td>\n",
       "      <td>0</td>\n",
       "      <td>0</td>\n",
       "      <td>0</td>\n",
       "      <td>0</td>\n",
       "      <td>...</td>\n",
       "      <td>0</td>\n",
       "      <td>0</td>\n",
       "      <td>0</td>\n",
       "      <td>0</td>\n",
       "      <td>0</td>\n",
       "      <td>0</td>\n",
       "      <td>0</td>\n",
       "      <td>0</td>\n",
       "      <td>0</td>\n",
       "      <td>0</td>\n",
       "    </tr>\n",
       "    <tr>\n",
       "      <th>22</th>\n",
       "      <td>0</td>\n",
       "      <td>0</td>\n",
       "      <td>0</td>\n",
       "      <td>0</td>\n",
       "      <td>0</td>\n",
       "      <td>0</td>\n",
       "      <td>0</td>\n",
       "      <td>0</td>\n",
       "      <td>0</td>\n",
       "      <td>0</td>\n",
       "      <td>...</td>\n",
       "      <td>0</td>\n",
       "      <td>0</td>\n",
       "      <td>0</td>\n",
       "      <td>0</td>\n",
       "      <td>0</td>\n",
       "      <td>0</td>\n",
       "      <td>0</td>\n",
       "      <td>0</td>\n",
       "      <td>0</td>\n",
       "      <td>0</td>\n",
       "    </tr>\n",
       "    <tr>\n",
       "      <th>23</th>\n",
       "      <td>0</td>\n",
       "      <td>0</td>\n",
       "      <td>0</td>\n",
       "      <td>0</td>\n",
       "      <td>0</td>\n",
       "      <td>0</td>\n",
       "      <td>0</td>\n",
       "      <td>0</td>\n",
       "      <td>0</td>\n",
       "      <td>0</td>\n",
       "      <td>...</td>\n",
       "      <td>0</td>\n",
       "      <td>0</td>\n",
       "      <td>0</td>\n",
       "      <td>0</td>\n",
       "      <td>0</td>\n",
       "      <td>0</td>\n",
       "      <td>0</td>\n",
       "      <td>0</td>\n",
       "      <td>0</td>\n",
       "      <td>0</td>\n",
       "    </tr>\n",
       "    <tr>\n",
       "      <th>24</th>\n",
       "      <td>0</td>\n",
       "      <td>0</td>\n",
       "      <td>0</td>\n",
       "      <td>0</td>\n",
       "      <td>0</td>\n",
       "      <td>0</td>\n",
       "      <td>0</td>\n",
       "      <td>0</td>\n",
       "      <td>0</td>\n",
       "      <td>0</td>\n",
       "      <td>...</td>\n",
       "      <td>0</td>\n",
       "      <td>0</td>\n",
       "      <td>0</td>\n",
       "      <td>0</td>\n",
       "      <td>0</td>\n",
       "      <td>0</td>\n",
       "      <td>0</td>\n",
       "      <td>0</td>\n",
       "      <td>0</td>\n",
       "      <td>0</td>\n",
       "    </tr>\n",
       "    <tr>\n",
       "      <th>26</th>\n",
       "      <td>0</td>\n",
       "      <td>0</td>\n",
       "      <td>0</td>\n",
       "      <td>0</td>\n",
       "      <td>0</td>\n",
       "      <td>0</td>\n",
       "      <td>0</td>\n",
       "      <td>0</td>\n",
       "      <td>0</td>\n",
       "      <td>0</td>\n",
       "      <td>...</td>\n",
       "      <td>0</td>\n",
       "      <td>0</td>\n",
       "      <td>0</td>\n",
       "      <td>0</td>\n",
       "      <td>0</td>\n",
       "      <td>0</td>\n",
       "      <td>0</td>\n",
       "      <td>0</td>\n",
       "      <td>0</td>\n",
       "      <td>0</td>\n",
       "    </tr>\n",
       "    <tr>\n",
       "      <th>27</th>\n",
       "      <td>0</td>\n",
       "      <td>0</td>\n",
       "      <td>0</td>\n",
       "      <td>0</td>\n",
       "      <td>0</td>\n",
       "      <td>0</td>\n",
       "      <td>0</td>\n",
       "      <td>0</td>\n",
       "      <td>0</td>\n",
       "      <td>0</td>\n",
       "      <td>...</td>\n",
       "      <td>0</td>\n",
       "      <td>0</td>\n",
       "      <td>0</td>\n",
       "      <td>0</td>\n",
       "      <td>0</td>\n",
       "      <td>0</td>\n",
       "      <td>0</td>\n",
       "      <td>0</td>\n",
       "      <td>0</td>\n",
       "      <td>0</td>\n",
       "    </tr>\n",
       "    <tr>\n",
       "      <th>28</th>\n",
       "      <td>0</td>\n",
       "      <td>0</td>\n",
       "      <td>0</td>\n",
       "      <td>0</td>\n",
       "      <td>0</td>\n",
       "      <td>0</td>\n",
       "      <td>0</td>\n",
       "      <td>0</td>\n",
       "      <td>0</td>\n",
       "      <td>0</td>\n",
       "      <td>...</td>\n",
       "      <td>0</td>\n",
       "      <td>0</td>\n",
       "      <td>0</td>\n",
       "      <td>0</td>\n",
       "      <td>0</td>\n",
       "      <td>0</td>\n",
       "      <td>0</td>\n",
       "      <td>0</td>\n",
       "      <td>0</td>\n",
       "      <td>0</td>\n",
       "    </tr>\n",
       "    <tr>\n",
       "      <th>29</th>\n",
       "      <td>0</td>\n",
       "      <td>0</td>\n",
       "      <td>0</td>\n",
       "      <td>0</td>\n",
       "      <td>0</td>\n",
       "      <td>0</td>\n",
       "      <td>0</td>\n",
       "      <td>0</td>\n",
       "      <td>0</td>\n",
       "      <td>0</td>\n",
       "      <td>...</td>\n",
       "      <td>0</td>\n",
       "      <td>0</td>\n",
       "      <td>0</td>\n",
       "      <td>0</td>\n",
       "      <td>0</td>\n",
       "      <td>0</td>\n",
       "      <td>0</td>\n",
       "      <td>0</td>\n",
       "      <td>0</td>\n",
       "      <td>0</td>\n",
       "    </tr>\n",
       "    <tr>\n",
       "      <th>30</th>\n",
       "      <td>0</td>\n",
       "      <td>0</td>\n",
       "      <td>0</td>\n",
       "      <td>0</td>\n",
       "      <td>0</td>\n",
       "      <td>0</td>\n",
       "      <td>0</td>\n",
       "      <td>0</td>\n",
       "      <td>0</td>\n",
       "      <td>0</td>\n",
       "      <td>...</td>\n",
       "      <td>0</td>\n",
       "      <td>0</td>\n",
       "      <td>0</td>\n",
       "      <td>0</td>\n",
       "      <td>0</td>\n",
       "      <td>0</td>\n",
       "      <td>0</td>\n",
       "      <td>0</td>\n",
       "      <td>0</td>\n",
       "      <td>0</td>\n",
       "    </tr>\n",
       "    <tr>\n",
       "      <th>31</th>\n",
       "      <td>0</td>\n",
       "      <td>0</td>\n",
       "      <td>0</td>\n",
       "      <td>0</td>\n",
       "      <td>0</td>\n",
       "      <td>0</td>\n",
       "      <td>0</td>\n",
       "      <td>0</td>\n",
       "      <td>0</td>\n",
       "      <td>0</td>\n",
       "      <td>...</td>\n",
       "      <td>0</td>\n",
       "      <td>0</td>\n",
       "      <td>0</td>\n",
       "      <td>0</td>\n",
       "      <td>0</td>\n",
       "      <td>0</td>\n",
       "      <td>0</td>\n",
       "      <td>0</td>\n",
       "      <td>0</td>\n",
       "      <td>0</td>\n",
       "    </tr>\n",
       "    <tr>\n",
       "      <th>32</th>\n",
       "      <td>0</td>\n",
       "      <td>0</td>\n",
       "      <td>0</td>\n",
       "      <td>0</td>\n",
       "      <td>0</td>\n",
       "      <td>0</td>\n",
       "      <td>0</td>\n",
       "      <td>0</td>\n",
       "      <td>0</td>\n",
       "      <td>0</td>\n",
       "      <td>...</td>\n",
       "      <td>0</td>\n",
       "      <td>0</td>\n",
       "      <td>0</td>\n",
       "      <td>0</td>\n",
       "      <td>0</td>\n",
       "      <td>0</td>\n",
       "      <td>0</td>\n",
       "      <td>0</td>\n",
       "      <td>0</td>\n",
       "      <td>0</td>\n",
       "    </tr>\n",
       "    <tr>\n",
       "      <th>33</th>\n",
       "      <td>0</td>\n",
       "      <td>0</td>\n",
       "      <td>0</td>\n",
       "      <td>0</td>\n",
       "      <td>0</td>\n",
       "      <td>0</td>\n",
       "      <td>0</td>\n",
       "      <td>0</td>\n",
       "      <td>0</td>\n",
       "      <td>0</td>\n",
       "      <td>...</td>\n",
       "      <td>0</td>\n",
       "      <td>0</td>\n",
       "      <td>0</td>\n",
       "      <td>0</td>\n",
       "      <td>0</td>\n",
       "      <td>0</td>\n",
       "      <td>0</td>\n",
       "      <td>0</td>\n",
       "      <td>0</td>\n",
       "      <td>0</td>\n",
       "    </tr>\n",
       "    <tr>\n",
       "      <th>37</th>\n",
       "      <td>0</td>\n",
       "      <td>0</td>\n",
       "      <td>0</td>\n",
       "      <td>0</td>\n",
       "      <td>0</td>\n",
       "      <td>0</td>\n",
       "      <td>0</td>\n",
       "      <td>0</td>\n",
       "      <td>0</td>\n",
       "      <td>0</td>\n",
       "      <td>...</td>\n",
       "      <td>0</td>\n",
       "      <td>0</td>\n",
       "      <td>0</td>\n",
       "      <td>0</td>\n",
       "      <td>0</td>\n",
       "      <td>0</td>\n",
       "      <td>0</td>\n",
       "      <td>0</td>\n",
       "      <td>0</td>\n",
       "      <td>0</td>\n",
       "    </tr>\n",
       "    <tr>\n",
       "      <th>39</th>\n",
       "      <td>0</td>\n",
       "      <td>0</td>\n",
       "      <td>0</td>\n",
       "      <td>0</td>\n",
       "      <td>0</td>\n",
       "      <td>0</td>\n",
       "      <td>0</td>\n",
       "      <td>0</td>\n",
       "      <td>0</td>\n",
       "      <td>0</td>\n",
       "      <td>...</td>\n",
       "      <td>0</td>\n",
       "      <td>0</td>\n",
       "      <td>0</td>\n",
       "      <td>0</td>\n",
       "      <td>0</td>\n",
       "      <td>0</td>\n",
       "      <td>0</td>\n",
       "      <td>0</td>\n",
       "      <td>0</td>\n",
       "      <td>0</td>\n",
       "    </tr>\n",
       "  </tbody>\n",
       "</table>\n",
       "<p>33 rows × 35 columns</p>\n",
       "</div>"
      ],
      "text/plain": [
       "    3   4   9   10  11  12  13  14  15  16  ...  35  36  37  38  39  40  41  \\\n",
       "0    0   0   0   0   0   0   0   0   0   0  ...   0   0   0   0   0   0   0   \n",
       "1    0   0   0   0   0   0   0   0   0   0  ...   0   0   0   0   0   0   0   \n",
       "2    0   0   0   0   0   0   0   0   0   0  ...   0   0   0   0   0   0   0   \n",
       "3    0   0   0   0   0   0   0   0   0   0  ...   0   0   0   0   0   0   0   \n",
       "4    0   0   0   0   0   0   0   0   0   0  ...   0   0   0   0   0   0   0   \n",
       "5    0   0   0   0   0   0   0   0   0   0  ...   0   0   0   0   0   0   0   \n",
       "6    0   0   0   0   0   0   0   0   0   0  ...   0   0   0   0   0   0   0   \n",
       "7    0   0   0   0   0   0   0   0   0   0  ...   0   0   0   0   0   0   0   \n",
       "8    0   0   0   0   0   0   0   0   0   0  ...   0   0   0   0   0   0   0   \n",
       "10   0   0   0   0   0   0   0   0   0   0  ...   0   0   0   0   0   0   0   \n",
       "11   0   0   0   0   0   0   0   0   0   0  ...   0   0   0   0   0   0   0   \n",
       "12   0   0   0   0   0   0   0   0   0   0  ...   0   0   0   0   0   0   0   \n",
       "13   0   0   0   0   0   0   0   0   0   0  ...   0   0   0   0   0   0   0   \n",
       "14   0   0   0   0   0   0   0   0   0   0  ...   0   0   0   0   0   0   0   \n",
       "15   0   0   0   0   0   0   0   0   0   0  ...   0   0   0   0   0   0   0   \n",
       "16   0   0   0   0   0   0   0   0   0   0  ...   0   0   0   0   0   0   0   \n",
       "17   0   0   0   0   0   0   0   0   0   0  ...   0   0   0   0   0   0   0   \n",
       "19   0   0   0   0   0   0   0   0   0   0  ...   0   0   0   0   0   0   0   \n",
       "20   0   0   0   0   0   0   0   0   0   0  ...   0   0   0   0   0   0   0   \n",
       "21   0   0   0   0   0   0   0   0   0   0  ...   0   0   0   0   0   0   0   \n",
       "22   0   0   0   0   0   0   0   0   0   0  ...   0   0   0   0   0   0   0   \n",
       "23   0   0   0   0   0   0   0   0   0   0  ...   0   0   0   0   0   0   0   \n",
       "24   0   0   0   0   0   0   0   0   0   0  ...   0   0   0   0   0   0   0   \n",
       "26   0   0   0   0   0   0   0   0   0   0  ...   0   0   0   0   0   0   0   \n",
       "27   0   0   0   0   0   0   0   0   0   0  ...   0   0   0   0   0   0   0   \n",
       "28   0   0   0   0   0   0   0   0   0   0  ...   0   0   0   0   0   0   0   \n",
       "29   0   0   0   0   0   0   0   0   0   0  ...   0   0   0   0   0   0   0   \n",
       "30   0   0   0   0   0   0   0   0   0   0  ...   0   0   0   0   0   0   0   \n",
       "31   0   0   0   0   0   0   0   0   0   0  ...   0   0   0   0   0   0   0   \n",
       "32   0   0   0   0   0   0   0   0   0   0  ...   0   0   0   0   0   0   0   \n",
       "33   0   0   0   0   0   0   0   0   0   0  ...   0   0   0   0   0   0   0   \n",
       "37   0   0   0   0   0   0   0   0   0   0  ...   0   0   0   0   0   0   0   \n",
       "39   0   0   0   0   0   0   0   0   0   0  ...   0   0   0   0   0   0   0   \n",
       "\n",
       "    42  43  44  \n",
       "0    0   0   0  \n",
       "1    0   0   0  \n",
       "2    0   0   0  \n",
       "3    0   0   0  \n",
       "4    0   0   0  \n",
       "5    0   0   0  \n",
       "6    0   0   0  \n",
       "7    0   0   0  \n",
       "8    0   0   0  \n",
       "10   0   0   0  \n",
       "11   0   0   0  \n",
       "12   0   0   0  \n",
       "13   0   0   0  \n",
       "14   0   0   0  \n",
       "15   0   0   0  \n",
       "16   0   0   0  \n",
       "17   0   0   0  \n",
       "19   0   0   0  \n",
       "20   0   0   0  \n",
       "21   0   0   0  \n",
       "22   0   0   0  \n",
       "23   0   0   0  \n",
       "24   0   0   0  \n",
       "26   0   0   0  \n",
       "27   0   0   0  \n",
       "28   0   0   0  \n",
       "29   0   0   0  \n",
       "30   0   0   0  \n",
       "31   0   0   0  \n",
       "32   0   0   0  \n",
       "33   0   0   0  \n",
       "37   0   0   0  \n",
       "39   0   0   0  \n",
       "\n",
       "[33 rows x 35 columns]"
      ]
     },
     "execution_count": 793,
     "metadata": {},
     "output_type": "execute_result"
    }
   ],
   "source": [
    "outs=set([_[0]for _ in adjacencyMat])\n",
    "ins=set([_[1]for _ in adjacencyMat])\n",
    "scoring = pd.DataFrame(0,index=outs,columns=ins)\n",
    "scoring"
   ]
  },
  {
   "cell_type": "code",
   "execution_count": null,
   "metadata": {},
   "outputs": [],
   "source": []
  },
  {
   "cell_type": "code",
   "execution_count": 795,
   "metadata": {
    "ExecuteTime": {
     "end_time": "2020-09-25T16:54:57.534288Z",
     "start_time": "2020-09-25T16:54:57.419635Z"
    },
    "scrolled": true
   },
   "outputs": [
    {
     "data": {
      "text/html": [
       "<div>\n",
       "<style scoped>\n",
       "    .dataframe tbody tr th:only-of-type {\n",
       "        vertical-align: middle;\n",
       "    }\n",
       "\n",
       "    .dataframe tbody tr th {\n",
       "        vertical-align: top;\n",
       "    }\n",
       "\n",
       "    .dataframe thead th {\n",
       "        text-align: right;\n",
       "    }\n",
       "</style>\n",
       "<table border=\"1\" class=\"dataframe\">\n",
       "  <thead>\n",
       "    <tr style=\"text-align: right;\">\n",
       "      <th></th>\n",
       "      <th>3</th>\n",
       "      <th>4</th>\n",
       "      <th>9</th>\n",
       "      <th>10</th>\n",
       "      <th>11</th>\n",
       "      <th>12</th>\n",
       "      <th>13</th>\n",
       "      <th>14</th>\n",
       "      <th>15</th>\n",
       "      <th>16</th>\n",
       "      <th>...</th>\n",
       "      <th>35</th>\n",
       "      <th>36</th>\n",
       "      <th>37</th>\n",
       "      <th>38</th>\n",
       "      <th>39</th>\n",
       "      <th>40</th>\n",
       "      <th>41</th>\n",
       "      <th>42</th>\n",
       "      <th>43</th>\n",
       "      <th>44</th>\n",
       "    </tr>\n",
       "  </thead>\n",
       "  <tbody>\n",
       "    <tr>\n",
       "      <th>0</th>\n",
       "      <td>0</td>\n",
       "      <td>0</td>\n",
       "      <td>0</td>\n",
       "      <td>0</td>\n",
       "      <td>0</td>\n",
       "      <td>0</td>\n",
       "      <td>0</td>\n",
       "      <td>19</td>\n",
       "      <td>0</td>\n",
       "      <td>0</td>\n",
       "      <td>...</td>\n",
       "      <td>0</td>\n",
       "      <td>8</td>\n",
       "      <td>0</td>\n",
       "      <td>0</td>\n",
       "      <td>0</td>\n",
       "      <td>0</td>\n",
       "      <td>0</td>\n",
       "      <td>0</td>\n",
       "      <td>0</td>\n",
       "      <td>0</td>\n",
       "    </tr>\n",
       "    <tr>\n",
       "      <th>1</th>\n",
       "      <td>36</td>\n",
       "      <td>0</td>\n",
       "      <td>0</td>\n",
       "      <td>4</td>\n",
       "      <td>0</td>\n",
       "      <td>0</td>\n",
       "      <td>0</td>\n",
       "      <td>0</td>\n",
       "      <td>0</td>\n",
       "      <td>0</td>\n",
       "      <td>...</td>\n",
       "      <td>0</td>\n",
       "      <td>0</td>\n",
       "      <td>0</td>\n",
       "      <td>0</td>\n",
       "      <td>0</td>\n",
       "      <td>0</td>\n",
       "      <td>8</td>\n",
       "      <td>31</td>\n",
       "      <td>0</td>\n",
       "      <td>0</td>\n",
       "    </tr>\n",
       "    <tr>\n",
       "      <th>2</th>\n",
       "      <td>0</td>\n",
       "      <td>0</td>\n",
       "      <td>38</td>\n",
       "      <td>0</td>\n",
       "      <td>0</td>\n",
       "      <td>0</td>\n",
       "      <td>0</td>\n",
       "      <td>0</td>\n",
       "      <td>0</td>\n",
       "      <td>27</td>\n",
       "      <td>...</td>\n",
       "      <td>0</td>\n",
       "      <td>0</td>\n",
       "      <td>0</td>\n",
       "      <td>0</td>\n",
       "      <td>0</td>\n",
       "      <td>0</td>\n",
       "      <td>0</td>\n",
       "      <td>0</td>\n",
       "      <td>0</td>\n",
       "      <td>0</td>\n",
       "    </tr>\n",
       "    <tr>\n",
       "      <th>3</th>\n",
       "      <td>0</td>\n",
       "      <td>4</td>\n",
       "      <td>0</td>\n",
       "      <td>0</td>\n",
       "      <td>0</td>\n",
       "      <td>0</td>\n",
       "      <td>0</td>\n",
       "      <td>0</td>\n",
       "      <td>0</td>\n",
       "      <td>19</td>\n",
       "      <td>...</td>\n",
       "      <td>0</td>\n",
       "      <td>0</td>\n",
       "      <td>0</td>\n",
       "      <td>0</td>\n",
       "      <td>0</td>\n",
       "      <td>0</td>\n",
       "      <td>0</td>\n",
       "      <td>0</td>\n",
       "      <td>0</td>\n",
       "      <td>0</td>\n",
       "    </tr>\n",
       "    <tr>\n",
       "      <th>4</th>\n",
       "      <td>0</td>\n",
       "      <td>0</td>\n",
       "      <td>0</td>\n",
       "      <td>0</td>\n",
       "      <td>0</td>\n",
       "      <td>0</td>\n",
       "      <td>0</td>\n",
       "      <td>0</td>\n",
       "      <td>0</td>\n",
       "      <td>0</td>\n",
       "      <td>...</td>\n",
       "      <td>0</td>\n",
       "      <td>0</td>\n",
       "      <td>0</td>\n",
       "      <td>0</td>\n",
       "      <td>0</td>\n",
       "      <td>0</td>\n",
       "      <td>0</td>\n",
       "      <td>0</td>\n",
       "      <td>3</td>\n",
       "      <td>0</td>\n",
       "    </tr>\n",
       "    <tr>\n",
       "      <th>5</th>\n",
       "      <td>0</td>\n",
       "      <td>0</td>\n",
       "      <td>0</td>\n",
       "      <td>0</td>\n",
       "      <td>37</td>\n",
       "      <td>39</td>\n",
       "      <td>0</td>\n",
       "      <td>0</td>\n",
       "      <td>0</td>\n",
       "      <td>0</td>\n",
       "      <td>...</td>\n",
       "      <td>0</td>\n",
       "      <td>0</td>\n",
       "      <td>0</td>\n",
       "      <td>0</td>\n",
       "      <td>0</td>\n",
       "      <td>0</td>\n",
       "      <td>0</td>\n",
       "      <td>0</td>\n",
       "      <td>37</td>\n",
       "      <td>0</td>\n",
       "    </tr>\n",
       "    <tr>\n",
       "      <th>6</th>\n",
       "      <td>0</td>\n",
       "      <td>0</td>\n",
       "      <td>0</td>\n",
       "      <td>0</td>\n",
       "      <td>0</td>\n",
       "      <td>0</td>\n",
       "      <td>0</td>\n",
       "      <td>5</td>\n",
       "      <td>0</td>\n",
       "      <td>0</td>\n",
       "      <td>...</td>\n",
       "      <td>0</td>\n",
       "      <td>0</td>\n",
       "      <td>0</td>\n",
       "      <td>0</td>\n",
       "      <td>0</td>\n",
       "      <td>0</td>\n",
       "      <td>0</td>\n",
       "      <td>0</td>\n",
       "      <td>0</td>\n",
       "      <td>0</td>\n",
       "    </tr>\n",
       "    <tr>\n",
       "      <th>7</th>\n",
       "      <td>0</td>\n",
       "      <td>0</td>\n",
       "      <td>0</td>\n",
       "      <td>22</td>\n",
       "      <td>0</td>\n",
       "      <td>0</td>\n",
       "      <td>0</td>\n",
       "      <td>0</td>\n",
       "      <td>0</td>\n",
       "      <td>0</td>\n",
       "      <td>...</td>\n",
       "      <td>0</td>\n",
       "      <td>0</td>\n",
       "      <td>0</td>\n",
       "      <td>0</td>\n",
       "      <td>0</td>\n",
       "      <td>0</td>\n",
       "      <td>0</td>\n",
       "      <td>0</td>\n",
       "      <td>0</td>\n",
       "      <td>0</td>\n",
       "    </tr>\n",
       "    <tr>\n",
       "      <th>8</th>\n",
       "      <td>0</td>\n",
       "      <td>0</td>\n",
       "      <td>0</td>\n",
       "      <td>0</td>\n",
       "      <td>0</td>\n",
       "      <td>0</td>\n",
       "      <td>0</td>\n",
       "      <td>28</td>\n",
       "      <td>0</td>\n",
       "      <td>0</td>\n",
       "      <td>...</td>\n",
       "      <td>0</td>\n",
       "      <td>0</td>\n",
       "      <td>0</td>\n",
       "      <td>0</td>\n",
       "      <td>0</td>\n",
       "      <td>0</td>\n",
       "      <td>0</td>\n",
       "      <td>0</td>\n",
       "      <td>0</td>\n",
       "      <td>0</td>\n",
       "    </tr>\n",
       "    <tr>\n",
       "      <th>10</th>\n",
       "      <td>0</td>\n",
       "      <td>0</td>\n",
       "      <td>0</td>\n",
       "      <td>0</td>\n",
       "      <td>5</td>\n",
       "      <td>0</td>\n",
       "      <td>0</td>\n",
       "      <td>0</td>\n",
       "      <td>0</td>\n",
       "      <td>0</td>\n",
       "      <td>...</td>\n",
       "      <td>35</td>\n",
       "      <td>0</td>\n",
       "      <td>19</td>\n",
       "      <td>0</td>\n",
       "      <td>30</td>\n",
       "      <td>0</td>\n",
       "      <td>0</td>\n",
       "      <td>0</td>\n",
       "      <td>0</td>\n",
       "      <td>0</td>\n",
       "    </tr>\n",
       "    <tr>\n",
       "      <th>11</th>\n",
       "      <td>0</td>\n",
       "      <td>0</td>\n",
       "      <td>0</td>\n",
       "      <td>0</td>\n",
       "      <td>0</td>\n",
       "      <td>0</td>\n",
       "      <td>0</td>\n",
       "      <td>0</td>\n",
       "      <td>0</td>\n",
       "      <td>0</td>\n",
       "      <td>...</td>\n",
       "      <td>20</td>\n",
       "      <td>0</td>\n",
       "      <td>0</td>\n",
       "      <td>0</td>\n",
       "      <td>0</td>\n",
       "      <td>0</td>\n",
       "      <td>0</td>\n",
       "      <td>0</td>\n",
       "      <td>0</td>\n",
       "      <td>0</td>\n",
       "    </tr>\n",
       "    <tr>\n",
       "      <th>12</th>\n",
       "      <td>0</td>\n",
       "      <td>0</td>\n",
       "      <td>0</td>\n",
       "      <td>0</td>\n",
       "      <td>0</td>\n",
       "      <td>0</td>\n",
       "      <td>38</td>\n",
       "      <td>0</td>\n",
       "      <td>29</td>\n",
       "      <td>0</td>\n",
       "      <td>...</td>\n",
       "      <td>0</td>\n",
       "      <td>0</td>\n",
       "      <td>12</td>\n",
       "      <td>38</td>\n",
       "      <td>0</td>\n",
       "      <td>0</td>\n",
       "      <td>0</td>\n",
       "      <td>0</td>\n",
       "      <td>5</td>\n",
       "      <td>0</td>\n",
       "    </tr>\n",
       "    <tr>\n",
       "      <th>13</th>\n",
       "      <td>0</td>\n",
       "      <td>0</td>\n",
       "      <td>0</td>\n",
       "      <td>0</td>\n",
       "      <td>0</td>\n",
       "      <td>0</td>\n",
       "      <td>0</td>\n",
       "      <td>0</td>\n",
       "      <td>0</td>\n",
       "      <td>0</td>\n",
       "      <td>...</td>\n",
       "      <td>17</td>\n",
       "      <td>0</td>\n",
       "      <td>0</td>\n",
       "      <td>0</td>\n",
       "      <td>0</td>\n",
       "      <td>32</td>\n",
       "      <td>19</td>\n",
       "      <td>0</td>\n",
       "      <td>0</td>\n",
       "      <td>0</td>\n",
       "    </tr>\n",
       "    <tr>\n",
       "      <th>14</th>\n",
       "      <td>0</td>\n",
       "      <td>0</td>\n",
       "      <td>0</td>\n",
       "      <td>0</td>\n",
       "      <td>0</td>\n",
       "      <td>0</td>\n",
       "      <td>0</td>\n",
       "      <td>0</td>\n",
       "      <td>0</td>\n",
       "      <td>0</td>\n",
       "      <td>...</td>\n",
       "      <td>10</td>\n",
       "      <td>0</td>\n",
       "      <td>0</td>\n",
       "      <td>23</td>\n",
       "      <td>0</td>\n",
       "      <td>0</td>\n",
       "      <td>0</td>\n",
       "      <td>0</td>\n",
       "      <td>0</td>\n",
       "      <td>0</td>\n",
       "    </tr>\n",
       "    <tr>\n",
       "      <th>15</th>\n",
       "      <td>0</td>\n",
       "      <td>0</td>\n",
       "      <td>0</td>\n",
       "      <td>0</td>\n",
       "      <td>0</td>\n",
       "      <td>0</td>\n",
       "      <td>0</td>\n",
       "      <td>0</td>\n",
       "      <td>0</td>\n",
       "      <td>0</td>\n",
       "      <td>...</td>\n",
       "      <td>0</td>\n",
       "      <td>28</td>\n",
       "      <td>0</td>\n",
       "      <td>0</td>\n",
       "      <td>0</td>\n",
       "      <td>0</td>\n",
       "      <td>0</td>\n",
       "      <td>0</td>\n",
       "      <td>0</td>\n",
       "      <td>0</td>\n",
       "    </tr>\n",
       "    <tr>\n",
       "      <th>16</th>\n",
       "      <td>19</td>\n",
       "      <td>0</td>\n",
       "      <td>0</td>\n",
       "      <td>0</td>\n",
       "      <td>0</td>\n",
       "      <td>0</td>\n",
       "      <td>0</td>\n",
       "      <td>0</td>\n",
       "      <td>0</td>\n",
       "      <td>0</td>\n",
       "      <td>...</td>\n",
       "      <td>0</td>\n",
       "      <td>0</td>\n",
       "      <td>0</td>\n",
       "      <td>0</td>\n",
       "      <td>0</td>\n",
       "      <td>0</td>\n",
       "      <td>24</td>\n",
       "      <td>0</td>\n",
       "      <td>0</td>\n",
       "      <td>0</td>\n",
       "    </tr>\n",
       "    <tr>\n",
       "      <th>17</th>\n",
       "      <td>0</td>\n",
       "      <td>0</td>\n",
       "      <td>0</td>\n",
       "      <td>0</td>\n",
       "      <td>0</td>\n",
       "      <td>0</td>\n",
       "      <td>0</td>\n",
       "      <td>0</td>\n",
       "      <td>0</td>\n",
       "      <td>0</td>\n",
       "      <td>...</td>\n",
       "      <td>0</td>\n",
       "      <td>0</td>\n",
       "      <td>0</td>\n",
       "      <td>0</td>\n",
       "      <td>0</td>\n",
       "      <td>0</td>\n",
       "      <td>0</td>\n",
       "      <td>0</td>\n",
       "      <td>0</td>\n",
       "      <td>11</td>\n",
       "    </tr>\n",
       "    <tr>\n",
       "      <th>19</th>\n",
       "      <td>0</td>\n",
       "      <td>0</td>\n",
       "      <td>0</td>\n",
       "      <td>0</td>\n",
       "      <td>0</td>\n",
       "      <td>0</td>\n",
       "      <td>0</td>\n",
       "      <td>0</td>\n",
       "      <td>0</td>\n",
       "      <td>0</td>\n",
       "      <td>...</td>\n",
       "      <td>0</td>\n",
       "      <td>0</td>\n",
       "      <td>0</td>\n",
       "      <td>0</td>\n",
       "      <td>0</td>\n",
       "      <td>0</td>\n",
       "      <td>0</td>\n",
       "      <td>0</td>\n",
       "      <td>0</td>\n",
       "      <td>0</td>\n",
       "    </tr>\n",
       "    <tr>\n",
       "      <th>20</th>\n",
       "      <td>0</td>\n",
       "      <td>0</td>\n",
       "      <td>0</td>\n",
       "      <td>0</td>\n",
       "      <td>0</td>\n",
       "      <td>0</td>\n",
       "      <td>0</td>\n",
       "      <td>0</td>\n",
       "      <td>0</td>\n",
       "      <td>0</td>\n",
       "      <td>...</td>\n",
       "      <td>0</td>\n",
       "      <td>0</td>\n",
       "      <td>24</td>\n",
       "      <td>0</td>\n",
       "      <td>0</td>\n",
       "      <td>0</td>\n",
       "      <td>0</td>\n",
       "      <td>0</td>\n",
       "      <td>0</td>\n",
       "      <td>0</td>\n",
       "    </tr>\n",
       "    <tr>\n",
       "      <th>21</th>\n",
       "      <td>0</td>\n",
       "      <td>0</td>\n",
       "      <td>0</td>\n",
       "      <td>0</td>\n",
       "      <td>0</td>\n",
       "      <td>0</td>\n",
       "      <td>0</td>\n",
       "      <td>0</td>\n",
       "      <td>0</td>\n",
       "      <td>0</td>\n",
       "      <td>...</td>\n",
       "      <td>33</td>\n",
       "      <td>0</td>\n",
       "      <td>5</td>\n",
       "      <td>0</td>\n",
       "      <td>0</td>\n",
       "      <td>0</td>\n",
       "      <td>0</td>\n",
       "      <td>0</td>\n",
       "      <td>0</td>\n",
       "      <td>0</td>\n",
       "    </tr>\n",
       "    <tr>\n",
       "      <th>22</th>\n",
       "      <td>0</td>\n",
       "      <td>0</td>\n",
       "      <td>0</td>\n",
       "      <td>0</td>\n",
       "      <td>0</td>\n",
       "      <td>0</td>\n",
       "      <td>0</td>\n",
       "      <td>0</td>\n",
       "      <td>0</td>\n",
       "      <td>0</td>\n",
       "      <td>...</td>\n",
       "      <td>37</td>\n",
       "      <td>0</td>\n",
       "      <td>19</td>\n",
       "      <td>0</td>\n",
       "      <td>0</td>\n",
       "      <td>0</td>\n",
       "      <td>0</td>\n",
       "      <td>0</td>\n",
       "      <td>0</td>\n",
       "      <td>0</td>\n",
       "    </tr>\n",
       "    <tr>\n",
       "      <th>23</th>\n",
       "      <td>0</td>\n",
       "      <td>0</td>\n",
       "      <td>0</td>\n",
       "      <td>0</td>\n",
       "      <td>0</td>\n",
       "      <td>0</td>\n",
       "      <td>0</td>\n",
       "      <td>0</td>\n",
       "      <td>0</td>\n",
       "      <td>0</td>\n",
       "      <td>...</td>\n",
       "      <td>0</td>\n",
       "      <td>0</td>\n",
       "      <td>0</td>\n",
       "      <td>0</td>\n",
       "      <td>0</td>\n",
       "      <td>0</td>\n",
       "      <td>0</td>\n",
       "      <td>0</td>\n",
       "      <td>0</td>\n",
       "      <td>0</td>\n",
       "    </tr>\n",
       "    <tr>\n",
       "      <th>24</th>\n",
       "      <td>0</td>\n",
       "      <td>0</td>\n",
       "      <td>0</td>\n",
       "      <td>0</td>\n",
       "      <td>0</td>\n",
       "      <td>0</td>\n",
       "      <td>0</td>\n",
       "      <td>0</td>\n",
       "      <td>0</td>\n",
       "      <td>0</td>\n",
       "      <td>...</td>\n",
       "      <td>0</td>\n",
       "      <td>0</td>\n",
       "      <td>0</td>\n",
       "      <td>38</td>\n",
       "      <td>0</td>\n",
       "      <td>37</td>\n",
       "      <td>0</td>\n",
       "      <td>0</td>\n",
       "      <td>0</td>\n",
       "      <td>0</td>\n",
       "    </tr>\n",
       "    <tr>\n",
       "      <th>26</th>\n",
       "      <td>0</td>\n",
       "      <td>0</td>\n",
       "      <td>0</td>\n",
       "      <td>0</td>\n",
       "      <td>0</td>\n",
       "      <td>0</td>\n",
       "      <td>0</td>\n",
       "      <td>0</td>\n",
       "      <td>0</td>\n",
       "      <td>0</td>\n",
       "      <td>...</td>\n",
       "      <td>0</td>\n",
       "      <td>0</td>\n",
       "      <td>0</td>\n",
       "      <td>0</td>\n",
       "      <td>0</td>\n",
       "      <td>0</td>\n",
       "      <td>0</td>\n",
       "      <td>0</td>\n",
       "      <td>0</td>\n",
       "      <td>0</td>\n",
       "    </tr>\n",
       "    <tr>\n",
       "      <th>27</th>\n",
       "      <td>0</td>\n",
       "      <td>0</td>\n",
       "      <td>0</td>\n",
       "      <td>0</td>\n",
       "      <td>0</td>\n",
       "      <td>0</td>\n",
       "      <td>0</td>\n",
       "      <td>0</td>\n",
       "      <td>0</td>\n",
       "      <td>0</td>\n",
       "      <td>...</td>\n",
       "      <td>0</td>\n",
       "      <td>20</td>\n",
       "      <td>0</td>\n",
       "      <td>0</td>\n",
       "      <td>0</td>\n",
       "      <td>0</td>\n",
       "      <td>0</td>\n",
       "      <td>0</td>\n",
       "      <td>0</td>\n",
       "      <td>0</td>\n",
       "    </tr>\n",
       "    <tr>\n",
       "      <th>28</th>\n",
       "      <td>0</td>\n",
       "      <td>0</td>\n",
       "      <td>0</td>\n",
       "      <td>0</td>\n",
       "      <td>0</td>\n",
       "      <td>0</td>\n",
       "      <td>0</td>\n",
       "      <td>0</td>\n",
       "      <td>0</td>\n",
       "      <td>0</td>\n",
       "      <td>...</td>\n",
       "      <td>0</td>\n",
       "      <td>0</td>\n",
       "      <td>0</td>\n",
       "      <td>0</td>\n",
       "      <td>0</td>\n",
       "      <td>0</td>\n",
       "      <td>0</td>\n",
       "      <td>29</td>\n",
       "      <td>0</td>\n",
       "      <td>0</td>\n",
       "    </tr>\n",
       "    <tr>\n",
       "      <th>29</th>\n",
       "      <td>0</td>\n",
       "      <td>0</td>\n",
       "      <td>0</td>\n",
       "      <td>0</td>\n",
       "      <td>0</td>\n",
       "      <td>0</td>\n",
       "      <td>0</td>\n",
       "      <td>0</td>\n",
       "      <td>0</td>\n",
       "      <td>0</td>\n",
       "      <td>...</td>\n",
       "      <td>0</td>\n",
       "      <td>0</td>\n",
       "      <td>0</td>\n",
       "      <td>0</td>\n",
       "      <td>0</td>\n",
       "      <td>0</td>\n",
       "      <td>0</td>\n",
       "      <td>0</td>\n",
       "      <td>0</td>\n",
       "      <td>30</td>\n",
       "    </tr>\n",
       "    <tr>\n",
       "      <th>30</th>\n",
       "      <td>0</td>\n",
       "      <td>0</td>\n",
       "      <td>0</td>\n",
       "      <td>0</td>\n",
       "      <td>0</td>\n",
       "      <td>0</td>\n",
       "      <td>0</td>\n",
       "      <td>0</td>\n",
       "      <td>0</td>\n",
       "      <td>0</td>\n",
       "      <td>...</td>\n",
       "      <td>0</td>\n",
       "      <td>0</td>\n",
       "      <td>0</td>\n",
       "      <td>0</td>\n",
       "      <td>0</td>\n",
       "      <td>27</td>\n",
       "      <td>0</td>\n",
       "      <td>0</td>\n",
       "      <td>0</td>\n",
       "      <td>0</td>\n",
       "    </tr>\n",
       "    <tr>\n",
       "      <th>31</th>\n",
       "      <td>0</td>\n",
       "      <td>0</td>\n",
       "      <td>0</td>\n",
       "      <td>0</td>\n",
       "      <td>0</td>\n",
       "      <td>0</td>\n",
       "      <td>0</td>\n",
       "      <td>0</td>\n",
       "      <td>0</td>\n",
       "      <td>0</td>\n",
       "      <td>...</td>\n",
       "      <td>0</td>\n",
       "      <td>0</td>\n",
       "      <td>0</td>\n",
       "      <td>0</td>\n",
       "      <td>0</td>\n",
       "      <td>17</td>\n",
       "      <td>0</td>\n",
       "      <td>0</td>\n",
       "      <td>7</td>\n",
       "      <td>0</td>\n",
       "    </tr>\n",
       "    <tr>\n",
       "      <th>32</th>\n",
       "      <td>0</td>\n",
       "      <td>0</td>\n",
       "      <td>0</td>\n",
       "      <td>0</td>\n",
       "      <td>0</td>\n",
       "      <td>0</td>\n",
       "      <td>0</td>\n",
       "      <td>0</td>\n",
       "      <td>0</td>\n",
       "      <td>0</td>\n",
       "      <td>...</td>\n",
       "      <td>0</td>\n",
       "      <td>0</td>\n",
       "      <td>29</td>\n",
       "      <td>0</td>\n",
       "      <td>0</td>\n",
       "      <td>0</td>\n",
       "      <td>0</td>\n",
       "      <td>0</td>\n",
       "      <td>4</td>\n",
       "      <td>0</td>\n",
       "    </tr>\n",
       "    <tr>\n",
       "      <th>33</th>\n",
       "      <td>0</td>\n",
       "      <td>0</td>\n",
       "      <td>0</td>\n",
       "      <td>0</td>\n",
       "      <td>0</td>\n",
       "      <td>0</td>\n",
       "      <td>0</td>\n",
       "      <td>0</td>\n",
       "      <td>0</td>\n",
       "      <td>0</td>\n",
       "      <td>...</td>\n",
       "      <td>15</td>\n",
       "      <td>0</td>\n",
       "      <td>22</td>\n",
       "      <td>0</td>\n",
       "      <td>0</td>\n",
       "      <td>0</td>\n",
       "      <td>0</td>\n",
       "      <td>0</td>\n",
       "      <td>0</td>\n",
       "      <td>0</td>\n",
       "    </tr>\n",
       "    <tr>\n",
       "      <th>37</th>\n",
       "      <td>0</td>\n",
       "      <td>0</td>\n",
       "      <td>0</td>\n",
       "      <td>0</td>\n",
       "      <td>0</td>\n",
       "      <td>0</td>\n",
       "      <td>0</td>\n",
       "      <td>0</td>\n",
       "      <td>0</td>\n",
       "      <td>0</td>\n",
       "      <td>...</td>\n",
       "      <td>0</td>\n",
       "      <td>0</td>\n",
       "      <td>0</td>\n",
       "      <td>17</td>\n",
       "      <td>0</td>\n",
       "      <td>0</td>\n",
       "      <td>0</td>\n",
       "      <td>0</td>\n",
       "      <td>0</td>\n",
       "      <td>0</td>\n",
       "    </tr>\n",
       "    <tr>\n",
       "      <th>39</th>\n",
       "      <td>0</td>\n",
       "      <td>0</td>\n",
       "      <td>0</td>\n",
       "      <td>30</td>\n",
       "      <td>0</td>\n",
       "      <td>0</td>\n",
       "      <td>0</td>\n",
       "      <td>0</td>\n",
       "      <td>0</td>\n",
       "      <td>0</td>\n",
       "      <td>...</td>\n",
       "      <td>0</td>\n",
       "      <td>0</td>\n",
       "      <td>0</td>\n",
       "      <td>0</td>\n",
       "      <td>0</td>\n",
       "      <td>35</td>\n",
       "      <td>0</td>\n",
       "      <td>0</td>\n",
       "      <td>0</td>\n",
       "      <td>0</td>\n",
       "    </tr>\n",
       "  </tbody>\n",
       "</table>\n",
       "<p>33 rows × 35 columns</p>\n",
       "</div>"
      ],
      "text/plain": [
       "    3   4   9   10  11  12  13  14  15  16  ...  35  36  37  38  39  40  41  \\\n",
       "0    0   0   0   0   0   0   0  19   0   0  ...   0   8   0   0   0   0   0   \n",
       "1   36   0   0   4   0   0   0   0   0   0  ...   0   0   0   0   0   0   8   \n",
       "2    0   0  38   0   0   0   0   0   0  27  ...   0   0   0   0   0   0   0   \n",
       "3    0   4   0   0   0   0   0   0   0  19  ...   0   0   0   0   0   0   0   \n",
       "4    0   0   0   0   0   0   0   0   0   0  ...   0   0   0   0   0   0   0   \n",
       "5    0   0   0   0  37  39   0   0   0   0  ...   0   0   0   0   0   0   0   \n",
       "6    0   0   0   0   0   0   0   5   0   0  ...   0   0   0   0   0   0   0   \n",
       "7    0   0   0  22   0   0   0   0   0   0  ...   0   0   0   0   0   0   0   \n",
       "8    0   0   0   0   0   0   0  28   0   0  ...   0   0   0   0   0   0   0   \n",
       "10   0   0   0   0   5   0   0   0   0   0  ...  35   0  19   0  30   0   0   \n",
       "11   0   0   0   0   0   0   0   0   0   0  ...  20   0   0   0   0   0   0   \n",
       "12   0   0   0   0   0   0  38   0  29   0  ...   0   0  12  38   0   0   0   \n",
       "13   0   0   0   0   0   0   0   0   0   0  ...  17   0   0   0   0  32  19   \n",
       "14   0   0   0   0   0   0   0   0   0   0  ...  10   0   0  23   0   0   0   \n",
       "15   0   0   0   0   0   0   0   0   0   0  ...   0  28   0   0   0   0   0   \n",
       "16  19   0   0   0   0   0   0   0   0   0  ...   0   0   0   0   0   0  24   \n",
       "17   0   0   0   0   0   0   0   0   0   0  ...   0   0   0   0   0   0   0   \n",
       "19   0   0   0   0   0   0   0   0   0   0  ...   0   0   0   0   0   0   0   \n",
       "20   0   0   0   0   0   0   0   0   0   0  ...   0   0  24   0   0   0   0   \n",
       "21   0   0   0   0   0   0   0   0   0   0  ...  33   0   5   0   0   0   0   \n",
       "22   0   0   0   0   0   0   0   0   0   0  ...  37   0  19   0   0   0   0   \n",
       "23   0   0   0   0   0   0   0   0   0   0  ...   0   0   0   0   0   0   0   \n",
       "24   0   0   0   0   0   0   0   0   0   0  ...   0   0   0  38   0  37   0   \n",
       "26   0   0   0   0   0   0   0   0   0   0  ...   0   0   0   0   0   0   0   \n",
       "27   0   0   0   0   0   0   0   0   0   0  ...   0  20   0   0   0   0   0   \n",
       "28   0   0   0   0   0   0   0   0   0   0  ...   0   0   0   0   0   0   0   \n",
       "29   0   0   0   0   0   0   0   0   0   0  ...   0   0   0   0   0   0   0   \n",
       "30   0   0   0   0   0   0   0   0   0   0  ...   0   0   0   0   0  27   0   \n",
       "31   0   0   0   0   0   0   0   0   0   0  ...   0   0   0   0   0  17   0   \n",
       "32   0   0   0   0   0   0   0   0   0   0  ...   0   0  29   0   0   0   0   \n",
       "33   0   0   0   0   0   0   0   0   0   0  ...  15   0  22   0   0   0   0   \n",
       "37   0   0   0   0   0   0   0   0   0   0  ...   0   0   0  17   0   0   0   \n",
       "39   0   0   0  30   0   0   0   0   0   0  ...   0   0   0   0   0  35   0   \n",
       "\n",
       "    42  43  44  \n",
       "0    0   0   0  \n",
       "1   31   0   0  \n",
       "2    0   0   0  \n",
       "3    0   0   0  \n",
       "4    0   3   0  \n",
       "5    0  37   0  \n",
       "6    0   0   0  \n",
       "7    0   0   0  \n",
       "8    0   0   0  \n",
       "10   0   0   0  \n",
       "11   0   0   0  \n",
       "12   0   5   0  \n",
       "13   0   0   0  \n",
       "14   0   0   0  \n",
       "15   0   0   0  \n",
       "16   0   0   0  \n",
       "17   0   0  11  \n",
       "19   0   0   0  \n",
       "20   0   0   0  \n",
       "21   0   0   0  \n",
       "22   0   0   0  \n",
       "23   0   0   0  \n",
       "24   0   0   0  \n",
       "26   0   0   0  \n",
       "27   0   0   0  \n",
       "28  29   0   0  \n",
       "29   0   0  30  \n",
       "30   0   0   0  \n",
       "31   0   7   0  \n",
       "32   0   4   0  \n",
       "33   0   0   0  \n",
       "37   0   0   0  \n",
       "39   0   0   0  \n",
       "\n",
       "[33 rows x 35 columns]"
      ]
     },
     "execution_count": 795,
     "metadata": {},
     "output_type": "execute_result"
    }
   ],
   "source": [
    "for _ in adjacencyMat:\n",
    "    #print(_)\n",
    "    scoring.loc[_[0]][_[1]] = _[2] \n",
    "\n",
    "scoring"
   ]
  },
  {
   "cell_type": "code",
   "execution_count": 796,
   "metadata": {
    "ExecuteTime": {
     "end_time": "2020-09-25T16:55:03.617590Z",
     "start_time": "2020-09-25T16:55:03.588075Z"
    },
    "scrolled": true
   },
   "outputs": [
    {
     "data": {
      "text/plain": [
       "{(6, 26): 32,\n",
       " (10, 39): 30,\n",
       " (26, 28): 24,\n",
       " (3, 16): 19,\n",
       " (10, 35): 35,\n",
       " (10, 37): 19,\n",
       " (10, 31): 36,\n",
       " (10, 33): 32,\n",
       " (10, 32): 4,\n",
       " (15, 23): 0,\n",
       " (15, 21): 0,\n",
       " (22, 24): 0,\n",
       " (22, 27): 31,\n",
       " (1, 3): 36,\n",
       " (5, 43): 37,\n",
       " (8, 30): 23,\n",
       " (19, 34): 11,\n",
       " (12, 13): 38,\n",
       " (39, 40): 35,\n",
       " (12, 15): 29,\n",
       " (27, 29): 13,\n",
       " (1, 42): 31,\n",
       " (24, 25): 2,\n",
       " (1, 10): 4,\n",
       " (4, 30): 11,\n",
       " (13, 35): 17,\n",
       " (24, 28): 2,\n",
       " (23, 25): 37,\n",
       " (31, 43): 7,\n",
       " (31, 40): 17,\n",
       " (3, 28): 2,\n",
       " (5, 12): 39,\n",
       " (5, 11): 37,\n",
       " (3, 4): 4,\n",
       " (2, 31): 23,\n",
       " (14, 29): 13,\n",
       " (19, 27): 21,\n",
       " (27, 36): 20,\n",
       " (31, 33): 23,\n",
       " (30, 40): 27,\n",
       " (28, 42): 29,\n",
       " (21, 35): 33,\n",
       " (21, 37): 5,\n",
       " (20, 37): 24,\n",
       " (2, 9): 38,\n",
       " (0, 14): 19,\n",
       " (4, 20): 0,\n",
       " (1, 41): 8,\n",
       " (8, 14): 28,\n",
       " (19, 20): 13,\n",
       " (4, 43): 3,\n",
       " (14, 31): 25,\n",
       " (14, 30): 22,\n",
       " (13, 41): 19,\n",
       " (13, 40): 32,\n",
       " (14, 35): 10,\n",
       " (10, 11): 5,\n",
       " (14, 38): 23,\n",
       " (2, 23): 9,\n",
       " (2, 25): 1,\n",
       " (24, 40): 37,\n",
       " (12, 38): 38,\n",
       " (20, 23): 34,\n",
       " (20, 21): 29,\n",
       " (12, 30): 10,\n",
       " (12, 37): 12,\n",
       " (29, 44): 30,\n",
       " (33, 35): 15,\n",
       " (33, 37): 22,\n",
       " (0, 36): 8,\n",
       " (37, 38): 17,\n",
       " (10, 29): 13,\n",
       " (17, 44): 11,\n",
       " (6, 14): 5,\n",
       " (10, 22): 8,\n",
       " (22, 37): 19,\n",
       " (22, 34): 3,\n",
       " (32, 43): 4,\n",
       " (15, 36): 28,\n",
       " (11, 35): 20,\n",
       " (2, 16): 27,\n",
       " (7, 10): 22,\n",
       " (11, 31): 19,\n",
       " (16, 41): 24,\n",
       " (15, 30): 25,\n",
       " (32, 37): 29,\n",
       " (0, 27): 9,\n",
       " (0, 28): 7,\n",
       " (32, 38): 0,\n",
       " (12, 43): 5,\n",
       " (22, 35): 37,\n",
       " (24, 30): 7,\n",
       " (24, 32): 19,\n",
       " (24, 38): 38}"
      ]
     },
     "execution_count": 796,
     "metadata": {},
     "output_type": "execute_result"
    }
   ],
   "source": [
    "adjacencyMat_dict = {(_[0],_[1]):_[2]for _ in adjacencyMat}\n",
    "adjacencyMat_dict"
   ]
  },
  {
   "cell_type": "code",
   "execution_count": 568,
   "metadata": {
    "ExecuteTime": {
     "end_time": "2020-09-25T15:48:56.359998Z",
     "start_time": "2020-09-25T15:48:56.345585Z"
    }
   },
   "outputs": [
    {
     "data": {
      "text/plain": [
       "[17, 29]"
      ]
     },
     "execution_count": 568,
     "metadata": {},
     "output_type": "execute_result"
    }
   ],
   "source": [
    "validNodes = list(scoring[scoring[sink] != 0].index)\n",
    "validNodes"
   ]
  },
  {
   "cell_type": "code",
   "execution_count": null,
   "metadata": {},
   "outputs": [],
   "source": [
    "for each in validNodes:"
   ]
  },
  {
   "cell_type": "code",
   "execution_count": 591,
   "metadata": {
    "ExecuteTime": {
     "end_time": "2020-09-25T15:59:43.710951Z",
     "start_time": "2020-09-25T15:59:43.703116Z"
    }
   },
   "outputs": [],
   "source": [
    "## Check if value is in columns\n",
    "each = 29\n",
    "path = [each]\n",
    "if any(scoring.columns == each):\n",
    "    possible = list(scoring[scoring[each] != 0].index)\n",
    "    {pos:each for pos in possible if any(scoring.columns == pos)}"
   ]
  },
  {
   "cell_type": "code",
   "execution_count": 605,
   "metadata": {
    "ExecuteTime": {
     "end_time": "2020-09-25T16:09:20.673598Z",
     "start_time": "2020-09-25T16:09:20.651015Z"
    }
   },
   "outputs": [
    {
     "data": {
      "text/html": [
       "<div>\n",
       "<style scoped>\n",
       "    .dataframe tbody tr th:only-of-type {\n",
       "        vertical-align: middle;\n",
       "    }\n",
       "\n",
       "    .dataframe tbody tr th {\n",
       "        vertical-align: top;\n",
       "    }\n",
       "\n",
       "    .dataframe thead th {\n",
       "        text-align: right;\n",
       "    }\n",
       "</style>\n",
       "<table border=\"1\" class=\"dataframe\">\n",
       "  <thead>\n",
       "    <tr style=\"text-align: right;\">\n",
       "      <th></th>\n",
       "      <th>outNode</th>\n",
       "      <th>inNode</th>\n",
       "      <th>weight</th>\n",
       "    </tr>\n",
       "  </thead>\n",
       "  <tbody>\n",
       "    <tr>\n",
       "      <th>0</th>\n",
       "      <td>6</td>\n",
       "      <td>26</td>\n",
       "      <td>32</td>\n",
       "    </tr>\n",
       "    <tr>\n",
       "      <th>1</th>\n",
       "      <td>10</td>\n",
       "      <td>39</td>\n",
       "      <td>30</td>\n",
       "    </tr>\n",
       "    <tr>\n",
       "      <th>2</th>\n",
       "      <td>26</td>\n",
       "      <td>28</td>\n",
       "      <td>24</td>\n",
       "    </tr>\n",
       "    <tr>\n",
       "      <th>3</th>\n",
       "      <td>3</td>\n",
       "      <td>16</td>\n",
       "      <td>19</td>\n",
       "    </tr>\n",
       "    <tr>\n",
       "      <th>4</th>\n",
       "      <td>10</td>\n",
       "      <td>35</td>\n",
       "      <td>35</td>\n",
       "    </tr>\n",
       "  </tbody>\n",
       "</table>\n",
       "</div>"
      ],
      "text/plain": [
       "   outNode  inNode  weight\n",
       "0        6      26      32\n",
       "1       10      39      30\n",
       "2       26      28      24\n",
       "3        3      16      19\n",
       "4       10      35      35"
      ]
     },
     "execution_count": 605,
     "metadata": {},
     "output_type": "execute_result"
    }
   ],
   "source": [
    "adjacencyMat_df = pd.DataFrame(adjacencyMat,columns=['outNode','inNode','weight'])\n",
    "adjacencyMat_df.head()"
   ]
  },
  {
   "cell_type": "code",
   "execution_count": 747,
   "metadata": {
    "ExecuteTime": {
     "end_time": "2020-09-25T16:43:51.260065Z",
     "start_time": "2020-09-25T16:43:51.251063Z"
    }
   },
   "outputs": [],
   "source": [
    "node = sink\n",
    "\n",
    "def pathGraph(node):\n",
    "    if node == source:\n",
    "        return source\n",
    "    else:\n",
    "        #return [pathGraph(_) for _ in list(adjacencyMat_df[adjacencyMat_df['inNode'] == node]['outNode'])]\n",
    "        vals = list(adjacencyMat_df[adjacencyMat_df['inNode'] == node]['outNode'])\n",
    "        for _ in vals:\n",
    "            print(_,vals)\n",
    "            return pathGraph(_),vals\n",
    "    "
   ]
  },
  {
   "cell_type": "code",
   "execution_count": 765,
   "metadata": {
    "ExecuteTime": {
     "end_time": "2020-09-25T16:49:30.457701Z",
     "start_time": "2020-09-25T16:49:30.434223Z"
    }
   },
   "outputs": [
    {
     "name": "stdout",
     "output_type": "stream",
     "text": [
      "27 [27, 14, 10]\n",
      "22 [22, 19, 0]\n",
      "10 [10]\n",
      "1 [1, 7]\n"
     ]
    },
    {
     "data": {
      "text/plain": [
       "{29: ((((None, [1, 7]), [10]), [22, 19, 0]), [27, 14, 10]), 17: None}"
      ]
     },
     "execution_count": 765,
     "metadata": {},
     "output_type": "execute_result"
    }
   ],
   "source": [
    "node = sink\n",
    "\n",
    "def pathGraph2(node):\n",
    "    if node == source:\n",
    "        return source\n",
    "    else:\n",
    "        vals = list(adjacencyMat_df[adjacencyMat_df['inNode'] == node]['outNode'])\n",
    "        #print (vals)\n",
    "        return {node:pathGraph(node) for node in vals if node is not None}\n",
    "\n",
    "x=pathGraph2(44)\n",
    "x"
   ]
  },
  {
   "cell_type": "code",
   "execution_count": 774,
   "metadata": {
    "ExecuteTime": {
     "end_time": "2020-09-25T16:51:02.349151Z",
     "start_time": "2020-09-25T16:51:02.321916Z"
    }
   },
   "outputs": [
    {
     "data": {
      "text/plain": [
       "{0: 0, 8: None, 6: None}"
      ]
     },
     "execution_count": 774,
     "metadata": {},
     "output_type": "execute_result"
    }
   ],
   "source": [
    "pathGraph2(14)"
   ]
  },
  {
   "cell_type": "code",
   "execution_count": null,
   "metadata": {},
   "outputs": [],
   "source": []
  },
  {
   "cell_type": "code",
   "execution_count": null,
   "metadata": {},
   "outputs": [],
   "source": []
  },
  {
   "cell_type": "code",
   "execution_count": null,
   "metadata": {},
   "outputs": [],
   "source": []
  },
  {
   "cell_type": "markdown",
   "metadata": {},
   "source": [
    "### Grokking"
   ]
  },
  {
   "cell_type": "code",
   "execution_count": 208,
   "metadata": {
    "ExecuteTime": {
     "end_time": "2020-09-26T05:56:20.312445Z",
     "start_time": "2020-09-26T05:56:20.285673Z"
    }
   },
   "outputs": [
    {
     "name": "stdout",
     "output_type": "stream",
     "text": [
      "0 44 [[6, 26, 32], [10, 39, 30], [26, 28, 24], [3, 16, 19], [10, 35, 35], [10, 37, 19], [10, 31, 36], [10, 33, 32], [10, 32, 4], [15, 23, 0], [15, 21, 0], [22, 24, 0], [22, 27, 31], [1, 3, 36], [5, 43, 37], [8, 30, 23], [19, 34, 11], [12, 13, 38], [39, 40, 35], [12, 15, 29], [27, 29, 13], [1, 42, 31], [24, 25, 2], [1, 10, 4], [4, 30, 11], [13, 35, 17], [24, 28, 2], [23, 25, 37], [31, 43, 7], [31, 40, 17], [3, 28, 2], [5, 12, 39], [5, 11, 37], [3, 4, 4], [2, 31, 23], [14, 29, 13], [19, 27, 21], [27, 36, 20], [31, 33, 23], [30, 40, 27], [28, 42, 29], [21, 35, 33], [21, 37, 5], [20, 37, 24], [2, 9, 38], [0, 14, 19], [4, 20, 0], [1, 41, 8], [8, 14, 28], [19, 20, 13], [4, 43, 3], [14, 31, 25], [14, 30, 22], [13, 41, 19], [13, 40, 32], [14, 35, 10], [10, 11, 5], [14, 38, 23], [2, 23, 9], [2, 25, 1], [24, 40, 37], [12, 38, 38], [20, 23, 34], [20, 21, 29], [12, 30, 10], [12, 37, 12], [29, 44, 30], [33, 35, 15], [33, 37, 22], [0, 36, 8], [37, 38, 17], [10, 29, 13], [17, 44, 11], [6, 14, 5], [10, 22, 8], [22, 37, 19], [22, 34, 3], [32, 43, 4], [15, 36, 28], [11, 35, 20], [2, 16, 27], [7, 10, 22], [11, 31, 19], [16, 41, 24], [15, 30, 25], [32, 37, 29], [0, 27, 9], [0, 28, 7], [32, 38, 0], [12, 43, 5], [22, 35, 37], [24, 30, 7], [24, 32, 19], [24, 38, 38]]\n"
     ]
    }
   ],
   "source": [
    "source,sink,adjacencyMat = readba5d(\"BA5/test2_batd.txt\")\n",
    "print(source,sink,adjacencyMat)"
   ]
  },
  {
   "cell_type": "code",
   "execution_count": 209,
   "metadata": {
    "ExecuteTime": {
     "end_time": "2020-09-26T05:56:21.875703Z",
     "start_time": "2020-09-26T05:56:21.680716Z"
    }
   },
   "outputs": [
    {
     "data": {
      "text/html": [
       "<div>\n",
       "<style scoped>\n",
       "    .dataframe tbody tr th:only-of-type {\n",
       "        vertical-align: middle;\n",
       "    }\n",
       "\n",
       "    .dataframe tbody tr th {\n",
       "        vertical-align: top;\n",
       "    }\n",
       "\n",
       "    .dataframe thead th {\n",
       "        text-align: right;\n",
       "    }\n",
       "</style>\n",
       "<table border=\"1\" class=\"dataframe\">\n",
       "  <thead>\n",
       "    <tr style=\"text-align: right;\">\n",
       "      <th></th>\n",
       "      <th>3</th>\n",
       "      <th>4</th>\n",
       "      <th>9</th>\n",
       "      <th>10</th>\n",
       "      <th>11</th>\n",
       "      <th>12</th>\n",
       "      <th>13</th>\n",
       "      <th>14</th>\n",
       "      <th>15</th>\n",
       "      <th>16</th>\n",
       "      <th>...</th>\n",
       "      <th>35</th>\n",
       "      <th>36</th>\n",
       "      <th>37</th>\n",
       "      <th>38</th>\n",
       "      <th>39</th>\n",
       "      <th>40</th>\n",
       "      <th>41</th>\n",
       "      <th>42</th>\n",
       "      <th>43</th>\n",
       "      <th>44</th>\n",
       "    </tr>\n",
       "  </thead>\n",
       "  <tbody>\n",
       "    <tr>\n",
       "      <th>0</th>\n",
       "      <td>0</td>\n",
       "      <td>0</td>\n",
       "      <td>0</td>\n",
       "      <td>0</td>\n",
       "      <td>0</td>\n",
       "      <td>0</td>\n",
       "      <td>0</td>\n",
       "      <td>0</td>\n",
       "      <td>0</td>\n",
       "      <td>0</td>\n",
       "      <td>...</td>\n",
       "      <td>0</td>\n",
       "      <td>0</td>\n",
       "      <td>0</td>\n",
       "      <td>0</td>\n",
       "      <td>0</td>\n",
       "      <td>0</td>\n",
       "      <td>0</td>\n",
       "      <td>0</td>\n",
       "      <td>0</td>\n",
       "      <td>0</td>\n",
       "    </tr>\n",
       "    <tr>\n",
       "      <th>1</th>\n",
       "      <td>0</td>\n",
       "      <td>0</td>\n",
       "      <td>0</td>\n",
       "      <td>0</td>\n",
       "      <td>0</td>\n",
       "      <td>0</td>\n",
       "      <td>0</td>\n",
       "      <td>0</td>\n",
       "      <td>0</td>\n",
       "      <td>0</td>\n",
       "      <td>...</td>\n",
       "      <td>0</td>\n",
       "      <td>0</td>\n",
       "      <td>0</td>\n",
       "      <td>0</td>\n",
       "      <td>0</td>\n",
       "      <td>0</td>\n",
       "      <td>0</td>\n",
       "      <td>0</td>\n",
       "      <td>0</td>\n",
       "      <td>0</td>\n",
       "    </tr>\n",
       "    <tr>\n",
       "      <th>2</th>\n",
       "      <td>0</td>\n",
       "      <td>0</td>\n",
       "      <td>0</td>\n",
       "      <td>0</td>\n",
       "      <td>0</td>\n",
       "      <td>0</td>\n",
       "      <td>0</td>\n",
       "      <td>0</td>\n",
       "      <td>0</td>\n",
       "      <td>0</td>\n",
       "      <td>...</td>\n",
       "      <td>0</td>\n",
       "      <td>0</td>\n",
       "      <td>0</td>\n",
       "      <td>0</td>\n",
       "      <td>0</td>\n",
       "      <td>0</td>\n",
       "      <td>0</td>\n",
       "      <td>0</td>\n",
       "      <td>0</td>\n",
       "      <td>0</td>\n",
       "    </tr>\n",
       "    <tr>\n",
       "      <th>3</th>\n",
       "      <td>0</td>\n",
       "      <td>0</td>\n",
       "      <td>0</td>\n",
       "      <td>0</td>\n",
       "      <td>0</td>\n",
       "      <td>0</td>\n",
       "      <td>0</td>\n",
       "      <td>0</td>\n",
       "      <td>0</td>\n",
       "      <td>0</td>\n",
       "      <td>...</td>\n",
       "      <td>0</td>\n",
       "      <td>0</td>\n",
       "      <td>0</td>\n",
       "      <td>0</td>\n",
       "      <td>0</td>\n",
       "      <td>0</td>\n",
       "      <td>0</td>\n",
       "      <td>0</td>\n",
       "      <td>0</td>\n",
       "      <td>0</td>\n",
       "    </tr>\n",
       "    <tr>\n",
       "      <th>4</th>\n",
       "      <td>0</td>\n",
       "      <td>0</td>\n",
       "      <td>0</td>\n",
       "      <td>0</td>\n",
       "      <td>0</td>\n",
       "      <td>0</td>\n",
       "      <td>0</td>\n",
       "      <td>0</td>\n",
       "      <td>0</td>\n",
       "      <td>0</td>\n",
       "      <td>...</td>\n",
       "      <td>0</td>\n",
       "      <td>0</td>\n",
       "      <td>0</td>\n",
       "      <td>0</td>\n",
       "      <td>0</td>\n",
       "      <td>0</td>\n",
       "      <td>0</td>\n",
       "      <td>0</td>\n",
       "      <td>0</td>\n",
       "      <td>0</td>\n",
       "    </tr>\n",
       "  </tbody>\n",
       "</table>\n",
       "<p>5 rows × 35 columns</p>\n",
       "</div>"
      ],
      "text/plain": [
       "   3   4   9   10  11  12  13  14  15  16  ...  35  36  37  38  39  40  41  \\\n",
       "0   0   0   0   0   0   0   0   0   0   0  ...   0   0   0   0   0   0   0   \n",
       "1   0   0   0   0   0   0   0   0   0   0  ...   0   0   0   0   0   0   0   \n",
       "2   0   0   0   0   0   0   0   0   0   0  ...   0   0   0   0   0   0   0   \n",
       "3   0   0   0   0   0   0   0   0   0   0  ...   0   0   0   0   0   0   0   \n",
       "4   0   0   0   0   0   0   0   0   0   0  ...   0   0   0   0   0   0   0   \n",
       "\n",
       "   42  43  44  \n",
       "0   0   0   0  \n",
       "1   0   0   0  \n",
       "2   0   0   0  \n",
       "3   0   0   0  \n",
       "4   0   0   0  \n",
       "\n",
       "[5 rows x 35 columns]"
      ]
     },
     "execution_count": 209,
     "metadata": {},
     "output_type": "execute_result"
    }
   ],
   "source": [
    "import pandas as pd\n",
    "\n",
    "adjacencyMat_df = pd.DataFrame(adjacencyMat,columns=['outNode','inNode','weight'])\n",
    "adjacencyMat_df.head()\n",
    "####\n",
    "outs=set([_[0]for _ in adjacencyMat])\n",
    "ins=set([_[1]for _ in adjacencyMat])\n",
    "scoring = pd.DataFrame(0,index=outs,columns=ins)\n",
    "scoring.head()"
   ]
  },
  {
   "cell_type": "code",
   "execution_count": 210,
   "metadata": {
    "ExecuteTime": {
     "end_time": "2020-09-26T05:56:22.527888Z",
     "start_time": "2020-09-26T05:56:22.461184Z"
    },
    "cell_style": "split"
   },
   "outputs": [
    {
     "data": {
      "text/plain": [
       "{3: [1],\n",
       " 4: [3],\n",
       " 9: [2],\n",
       " 10: [1, 7],\n",
       " 11: [5, 10],\n",
       " 12: [5],\n",
       " 13: [12],\n",
       " 14: [0, 8, 6],\n",
       " 15: [12],\n",
       " 16: [3, 2],\n",
       " 20: [4, 19],\n",
       " 21: [15, 20],\n",
       " 22: [10],\n",
       " 23: [15, 2, 20],\n",
       " 24: [22],\n",
       " 25: [24, 23, 2],\n",
       " 26: [6],\n",
       " 27: [22, 19, 0],\n",
       " 28: [26, 24, 3, 0],\n",
       " 29: [27, 14, 10],\n",
       " 30: [8, 4, 14, 12, 15, 24],\n",
       " 31: [10, 2, 14, 11],\n",
       " 32: [10, 24],\n",
       " 33: [10, 31],\n",
       " 34: [19, 22],\n",
       " 35: [10, 13, 21, 14, 33, 11, 22],\n",
       " 36: [27, 0, 15],\n",
       " 37: [10, 21, 20, 12, 33, 22, 32],\n",
       " 38: [14, 12, 37, 32, 24],\n",
       " 39: [10],\n",
       " 40: [39, 31, 30, 13, 24],\n",
       " 41: [1, 13, 16],\n",
       " 42: [1, 28],\n",
       " 43: [5, 31, 4, 32, 12],\n",
       " 44: [29, 17]}"
      ]
     },
     "execution_count": 210,
     "metadata": {},
     "output_type": "execute_result"
    }
   ],
   "source": [
    "inDict = {_ : list(adjacencyMat_df[adjacencyMat_df['inNode'] == _]['outNode']) for _ in ins}\n",
    "inDict"
   ]
  },
  {
   "cell_type": "code",
   "execution_count": 211,
   "metadata": {
    "ExecuteTime": {
     "end_time": "2020-09-26T05:56:22.799145Z",
     "start_time": "2020-09-26T05:56:22.753948Z"
    },
    "cell_style": "split"
   },
   "outputs": [
    {
     "data": {
      "text/plain": [
       "{0: [14, 36, 27, 28],\n",
       " 1: [3, 42, 10, 41],\n",
       " 2: [31, 9, 23, 25, 16],\n",
       " 3: [16, 28, 4],\n",
       " 4: [30, 20, 43],\n",
       " 5: [43, 12, 11],\n",
       " 6: [26, 14],\n",
       " 7: [10],\n",
       " 8: [30, 14],\n",
       " 10: [39, 35, 37, 31, 33, 32, 11, 29, 22],\n",
       " 11: [35, 31],\n",
       " 12: [13, 15, 38, 30, 37, 43],\n",
       " 13: [35, 41, 40],\n",
       " 14: [29, 31, 30, 35, 38],\n",
       " 15: [23, 21, 36, 30],\n",
       " 16: [41],\n",
       " 17: [44],\n",
       " 19: [34, 27, 20],\n",
       " 20: [37, 23, 21],\n",
       " 21: [35, 37],\n",
       " 22: [24, 27, 37, 34, 35],\n",
       " 23: [25],\n",
       " 24: [25, 28, 40, 30, 32, 38],\n",
       " 26: [28],\n",
       " 27: [29, 36],\n",
       " 28: [42],\n",
       " 29: [44],\n",
       " 30: [40],\n",
       " 31: [43, 40, 33],\n",
       " 32: [43, 37, 38],\n",
       " 33: [35, 37],\n",
       " 37: [38],\n",
       " 39: [40]}"
      ]
     },
     "execution_count": 211,
     "metadata": {},
     "output_type": "execute_result"
    }
   ],
   "source": [
    "outDict = {_ : list(adjacencyMat_df[adjacencyMat_df['outNode'] == _]['inNode']) for _ in outs}\n",
    "outDict"
   ]
  },
  {
   "cell_type": "code",
   "execution_count": 212,
   "metadata": {
    "ExecuteTime": {
     "end_time": "2020-09-26T05:56:23.369820Z",
     "start_time": "2020-09-26T05:56:23.352470Z"
    }
   },
   "outputs": [
    {
     "data": {
      "text/html": [
       "<div>\n",
       "<style scoped>\n",
       "    .dataframe tbody tr th:only-of-type {\n",
       "        vertical-align: middle;\n",
       "    }\n",
       "\n",
       "    .dataframe tbody tr th {\n",
       "        vertical-align: top;\n",
       "    }\n",
       "\n",
       "    .dataframe thead th {\n",
       "        text-align: right;\n",
       "    }\n",
       "</style>\n",
       "<table border=\"1\" class=\"dataframe\">\n",
       "  <thead>\n",
       "    <tr style=\"text-align: right;\">\n",
       "      <th></th>\n",
       "      <th>outNode</th>\n",
       "      <th>inNode</th>\n",
       "      <th>weight</th>\n",
       "    </tr>\n",
       "  </thead>\n",
       "  <tbody>\n",
       "    <tr>\n",
       "      <th>0</th>\n",
       "      <td>6</td>\n",
       "      <td>26</td>\n",
       "      <td>32</td>\n",
       "    </tr>\n",
       "    <tr>\n",
       "      <th>1</th>\n",
       "      <td>10</td>\n",
       "      <td>39</td>\n",
       "      <td>30</td>\n",
       "    </tr>\n",
       "    <tr>\n",
       "      <th>2</th>\n",
       "      <td>26</td>\n",
       "      <td>28</td>\n",
       "      <td>24</td>\n",
       "    </tr>\n",
       "    <tr>\n",
       "      <th>3</th>\n",
       "      <td>3</td>\n",
       "      <td>16</td>\n",
       "      <td>19</td>\n",
       "    </tr>\n",
       "    <tr>\n",
       "      <th>4</th>\n",
       "      <td>10</td>\n",
       "      <td>35</td>\n",
       "      <td>35</td>\n",
       "    </tr>\n",
       "  </tbody>\n",
       "</table>\n",
       "</div>"
      ],
      "text/plain": [
       "   outNode  inNode  weight\n",
       "0        6      26      32\n",
       "1       10      39      30\n",
       "2       26      28      24\n",
       "3        3      16      19\n",
       "4       10      35      35"
      ]
     },
     "execution_count": 212,
     "metadata": {},
     "output_type": "execute_result"
    }
   ],
   "source": [
    "adjacencyMat_df.head()"
   ]
  },
  {
   "cell_type": "markdown",
   "metadata": {
    "ExecuteTime": {
     "end_time": "2020-09-25T22:43:16.287068Z",
     "start_time": "2020-09-25T22:43:16.075663Z"
    }
   },
   "source": [
    "### initialize"
   ]
  },
  {
   "cell_type": "code",
   "execution_count": 288,
   "metadata": {
    "ExecuteTime": {
     "end_time": "2020-09-26T16:57:48.243333Z",
     "start_time": "2020-09-26T16:57:48.222303Z"
    }
   },
   "outputs": [
    {
     "data": {
      "text/plain": [
       "{(6, 26): 0,\n",
       " (10, 39): 1,\n",
       " (26, 28): 2,\n",
       " (3, 16): 3,\n",
       " (10, 35): 4,\n",
       " (10, 37): 5,\n",
       " (10, 31): 6,\n",
       " (10, 33): 7,\n",
       " (10, 32): 8,\n",
       " (15, 23): 9,\n",
       " (15, 21): 10,\n",
       " (22, 24): 11,\n",
       " (22, 27): 12,\n",
       " (1, 3): 13,\n",
       " (5, 43): 14,\n",
       " (8, 30): 15,\n",
       " (19, 34): 16,\n",
       " (12, 13): 17,\n",
       " (39, 40): 18,\n",
       " (12, 15): 19,\n",
       " (27, 29): 20,\n",
       " (1, 42): 21,\n",
       " (24, 25): 22,\n",
       " (1, 10): 23,\n",
       " (4, 30): 24,\n",
       " (13, 35): 25,\n",
       " (24, 28): 26,\n",
       " (23, 25): 27,\n",
       " (31, 43): 28,\n",
       " (31, 40): 29,\n",
       " (3, 28): 30,\n",
       " (5, 12): 31,\n",
       " (5, 11): 32,\n",
       " (3, 4): 33,\n",
       " (2, 31): 34,\n",
       " (14, 29): 35,\n",
       " (19, 27): 36,\n",
       " (27, 36): 37,\n",
       " (31, 33): 38,\n",
       " (30, 40): 39,\n",
       " (28, 42): 40,\n",
       " (21, 35): 41,\n",
       " (21, 37): 42,\n",
       " (20, 37): 43,\n",
       " (2, 9): 44,\n",
       " (0, 14): 45,\n",
       " (4, 20): 46,\n",
       " (1, 41): 47,\n",
       " (8, 14): 48,\n",
       " (19, 20): 49,\n",
       " (4, 43): 50,\n",
       " (14, 31): 51,\n",
       " (14, 30): 52,\n",
       " (13, 41): 53,\n",
       " (13, 40): 54,\n",
       " (14, 35): 55,\n",
       " (10, 11): 56,\n",
       " (14, 38): 57,\n",
       " (2, 23): 58,\n",
       " (2, 25): 59,\n",
       " (24, 40): 60,\n",
       " (12, 38): 61,\n",
       " (20, 23): 62,\n",
       " (20, 21): 63,\n",
       " (12, 30): 64,\n",
       " (12, 37): 65,\n",
       " (29, 44): 66,\n",
       " (33, 35): 67,\n",
       " (33, 37): 68,\n",
       " (0, 36): 69,\n",
       " (37, 38): 70,\n",
       " (10, 29): 71,\n",
       " (17, 44): 72,\n",
       " (6, 14): 73,\n",
       " (10, 22): 74,\n",
       " (22, 37): 75,\n",
       " (22, 34): 76,\n",
       " (32, 43): 77,\n",
       " (15, 36): 78,\n",
       " (11, 35): 79,\n",
       " (2, 16): 80,\n",
       " (7, 10): 81,\n",
       " (11, 31): 82,\n",
       " (16, 41): 83,\n",
       " (15, 30): 84,\n",
       " (32, 37): 85,\n",
       " (0, 27): 86,\n",
       " (0, 28): 87,\n",
       " (32, 38): 88,\n",
       " (12, 43): 89,\n",
       " (22, 35): 90,\n",
       " (24, 30): 91,\n",
       " (24, 32): 92,\n",
       " (24, 38): 93}"
      ]
     },
     "execution_count": 288,
     "metadata": {},
     "output_type": "execute_result"
    }
   ],
   "source": [
    "{(_[0],_[1]):i for i,_ in enumerate(adjacencyMat)}"
   ]
  },
  {
   "cell_type": "code",
   "execution_count": 272,
   "metadata": {
    "ExecuteTime": {
     "end_time": "2020-09-26T06:10:03.511937Z",
     "start_time": "2020-09-26T06:10:03.476285Z"
    }
   },
   "outputs": [],
   "source": [
    "### Checks out!\n",
    "costs = {(r[0],r[1]):r[2] for i,r in adjacencyMat_df.iterrows()}\n",
    "costs[sink] = float('inf')"
   ]
  },
  {
   "cell_type": "code",
   "execution_count": 273,
   "metadata": {
    "ExecuteTime": {
     "end_time": "2020-09-26T06:10:03.988694Z",
     "start_time": "2020-09-26T06:10:03.975889Z"
    }
   },
   "outputs": [
    {
     "data": {
      "text/plain": [
       "{14: 19, 36: 8, 27: 9, 28: 7}"
      ]
     },
     "execution_count": 273,
     "metadata": {},
     "output_type": "execute_result"
    }
   ],
   "source": [
    "### good to go\n",
    "graph = {}\n",
    "for k,v in outDict.items():\n",
    "    graph[k] = {_:costs[(k,_)] for _ in v}\n",
    "graph[source]"
   ]
  },
  {
   "cell_type": "code",
   "execution_count": 274,
   "metadata": {
    "ExecuteTime": {
     "end_time": "2020-09-26T06:10:06.465832Z",
     "start_time": "2020-09-26T06:10:06.453480Z"
    }
   },
   "outputs": [
    {
     "data": {
      "text/plain": [
       "{14: 0, 36: 0, 27: 0, 28: 0, 44: {}}"
      ]
     },
     "execution_count": 274,
     "metadata": {},
     "output_type": "execute_result"
    }
   ],
   "source": [
    "parents = {_:source for _ in list(graph[source].keys())}\n",
    "parents[sink] = {}\n",
    "parents"
   ]
  },
  {
   "cell_type": "code",
   "execution_count": 261,
   "metadata": {
    "ExecuteTime": {
     "end_time": "2020-09-26T06:09:06.879525Z",
     "start_time": "2020-09-26T06:09:06.870831Z"
    }
   },
   "outputs": [],
   "source": [
    "# # the graph\n",
    "# graph = {}\n",
    "# graph[\"start\"] = {}\n",
    "# graph[\"start\"][\"a\"] = 6\n",
    "# graph[\"start\"][\"b\"] = 2\n",
    "\n",
    "# graph[\"a\"] = {}\n",
    "# graph[\"a\"][\"fin\"] = 1\n",
    "\n",
    "# graph[\"b\"] = {}\n",
    "# graph[\"b\"][\"a\"] = 3\n",
    "# graph[\"b\"][\"fin\"] = 5\n",
    "\n",
    "# graph[\"fin\"] = {}\n",
    "\n",
    "# # the costs table\n",
    "# infinity = float(\"inf\")\n",
    "# costs = {}\n",
    "# costs[\"a\"] = 6\n",
    "# costs[\"b\"] = 2\n",
    "# costs[\"fin\"] = infinity\n",
    "\n",
    "# # the parents table\n",
    "# parents = {}\n",
    "# parents[\"a\"] = \"start\"\n",
    "# parents[\"b\"] = \"start\"\n",
    "# parents[\"fin\"] = None\n",
    "\n",
    "# processed = []\n"
   ]
  },
  {
   "cell_type": "code",
   "execution_count": 275,
   "metadata": {
    "ExecuteTime": {
     "end_time": "2020-09-26T06:10:09.731255Z",
     "start_time": "2020-09-26T06:10:09.724366Z"
    }
   },
   "outputs": [],
   "source": [
    "processed = []\n",
    "def find_lowest_cost_node(costs):\n",
    "    lowest_cost = float(\"inf\")\n",
    "    lowest_cost_node = None\n",
    "    # Go through each node.\n",
    "    for node in costs:\n",
    "        cost = costs[node]\n",
    "        # If it's the lowest cost so far and hasn't been processed yet...\n",
    "        if cost < lowest_cost and node[1] not in processed:\n",
    "            # ... set it as the new lowest-cost node.\n",
    "            lowest_cost = cost\n",
    "            lowest_cost_node = node\n",
    "    return lowest_cost_node"
   ]
  },
  {
   "cell_type": "code",
   "execution_count": 276,
   "metadata": {
    "ExecuteTime": {
     "end_time": "2020-09-26T06:10:10.095777Z",
     "start_time": "2020-09-26T06:10:10.085413Z"
    }
   },
   "outputs": [
    {
     "data": {
      "text/plain": [
       "(15, 23)"
      ]
     },
     "execution_count": 276,
     "metadata": {},
     "output_type": "execute_result"
    }
   ],
   "source": [
    "node = find_lowest_cost_node(costs)\n",
    "node"
   ]
  },
  {
   "cell_type": "code",
   "execution_count": 279,
   "metadata": {
    "ExecuteTime": {
     "end_time": "2020-09-26T06:10:46.665144Z",
     "start_time": "2020-09-26T06:10:46.657725Z"
    }
   },
   "outputs": [
    {
     "data": {
      "text/plain": [
       "(32, 38)"
      ]
     },
     "execution_count": 279,
     "metadata": {},
     "output_type": "execute_result"
    }
   ],
   "source": [
    "node"
   ]
  },
  {
   "cell_type": "code",
   "execution_count": 277,
   "metadata": {
    "ExecuteTime": {
     "end_time": "2020-09-26T06:10:11.568726Z",
     "start_time": "2020-09-26T06:10:11.509952Z"
    }
   },
   "outputs": [
    {
     "ename": "KeyError",
     "evalue": "38",
     "output_type": "error",
     "traceback": [
      "\u001b[0;31m---------------------------------------------------------------------------\u001b[0m",
      "\u001b[0;31mKeyError\u001b[0m                                  Traceback (most recent call last)",
      "\u001b[0;32m<ipython-input-277-24d5579115eb>\u001b[0m in \u001b[0;36m<module>\u001b[0;34m\u001b[0m\n\u001b[1;32m      1\u001b[0m \u001b[0;32mwhile\u001b[0m \u001b[0mnode\u001b[0m \u001b[0;32mis\u001b[0m \u001b[0;32mnot\u001b[0m \u001b[0;32mNone\u001b[0m\u001b[0;34m:\u001b[0m\u001b[0;34m\u001b[0m\u001b[0;34m\u001b[0m\u001b[0m\n\u001b[1;32m      2\u001b[0m     \u001b[0mcost\u001b[0m \u001b[0;34m=\u001b[0m \u001b[0mcosts\u001b[0m\u001b[0;34m[\u001b[0m\u001b[0mnode\u001b[0m\u001b[0;34m]\u001b[0m\u001b[0;34m\u001b[0m\u001b[0;34m\u001b[0m\u001b[0m\n\u001b[0;32m----> 3\u001b[0;31m     \u001b[0mneighbors\u001b[0m \u001b[0;34m=\u001b[0m \u001b[0mgraph\u001b[0m\u001b[0;34m[\u001b[0m\u001b[0mnode\u001b[0m\u001b[0;34m[\u001b[0m\u001b[0;36m1\u001b[0m\u001b[0;34m]\u001b[0m\u001b[0;34m]\u001b[0m\u001b[0;34m\u001b[0m\u001b[0;34m\u001b[0m\u001b[0m\n\u001b[0m\u001b[1;32m      4\u001b[0m     \u001b[0;32mfor\u001b[0m \u001b[0mn\u001b[0m \u001b[0;32min\u001b[0m \u001b[0mneighbors\u001b[0m\u001b[0;34m.\u001b[0m\u001b[0mkeys\u001b[0m\u001b[0;34m(\u001b[0m\u001b[0;34m)\u001b[0m\u001b[0;34m:\u001b[0m\u001b[0;34m\u001b[0m\u001b[0;34m\u001b[0m\u001b[0m\n\u001b[1;32m      5\u001b[0m         \u001b[0mnew_cost\u001b[0m \u001b[0;34m=\u001b[0m \u001b[0mcost\u001b[0m \u001b[0;34m+\u001b[0m \u001b[0mneighbors\u001b[0m\u001b[0;34m[\u001b[0m\u001b[0mn\u001b[0m\u001b[0;34m]\u001b[0m\u001b[0;34m\u001b[0m\u001b[0;34m\u001b[0m\u001b[0m\n",
      "\u001b[0;31mKeyError\u001b[0m: 38"
     ]
    }
   ],
   "source": [
    "while node is not None: \n",
    "    cost = costs[node]\n",
    "    neighbors = graph[node[1]]\n",
    "    for n in neighbors.keys():\n",
    "        new_cost = cost + neighbors[n] \n",
    "        costs[(node[1],n)] = new_cost\n",
    "        parents[n] = node[1]\n",
    "    processed.append(node[1])         \n",
    "    node = find_lowest_cost_node(costs)"
   ]
  },
  {
   "cell_type": "code",
   "execution_count": 240,
   "metadata": {
    "ExecuteTime": {
     "end_time": "2020-09-26T06:05:15.819226Z",
     "start_time": "2020-09-26T06:05:15.771164Z"
    }
   },
   "outputs": [
    {
     "data": {
      "text/plain": [
       "{(6, 26): 32,\n",
       " (10, 39): 30,\n",
       " (26, 28): 24,\n",
       " (3, 16): 19,\n",
       " (10, 35): 35,\n",
       " (10, 37): 19,\n",
       " (10, 31): 36,\n",
       " (10, 33): 32,\n",
       " (10, 32): 4,\n",
       " (15, 23): 0,\n",
       " (15, 21): 0,\n",
       " (22, 24): 0,\n",
       " (22, 27): 31,\n",
       " (1, 3): 36,\n",
       " (5, 43): 37,\n",
       " (8, 30): 23,\n",
       " (19, 34): 11,\n",
       " (12, 13): 38,\n",
       " (39, 40): 35,\n",
       " (12, 15): 29,\n",
       " (27, 29): 13,\n",
       " (1, 42): 31,\n",
       " (24, 25): 2,\n",
       " (1, 10): 4,\n",
       " (4, 30): 11,\n",
       " (13, 35): 17,\n",
       " (24, 28): 2,\n",
       " (23, 25): 37,\n",
       " (31, 43): 7,\n",
       " (31, 40): 17,\n",
       " (3, 28): 2,\n",
       " (5, 12): 39,\n",
       " (5, 11): 37,\n",
       " (3, 4): 4,\n",
       " (2, 31): 23,\n",
       " (14, 29): 13,\n",
       " (19, 27): 21,\n",
       " (27, 36): 20,\n",
       " (31, 33): 23,\n",
       " (30, 40): 27,\n",
       " (28, 42): 29,\n",
       " (21, 35): 33,\n",
       " (21, 37): 5,\n",
       " (20, 37): 24,\n",
       " (2, 9): 38,\n",
       " (0, 14): 19,\n",
       " (4, 20): 0,\n",
       " (1, 41): 8,\n",
       " (8, 14): 28,\n",
       " (19, 20): 13,\n",
       " (4, 43): 3,\n",
       " (14, 31): 25,\n",
       " (14, 30): 22,\n",
       " (13, 41): 19,\n",
       " (13, 40): 32,\n",
       " (14, 35): 10,\n",
       " (10, 11): 5,\n",
       " (14, 38): 23,\n",
       " (2, 23): 9,\n",
       " (2, 25): 1,\n",
       " (24, 40): 37,\n",
       " (12, 38): 38,\n",
       " (20, 23): 34,\n",
       " (20, 21): 29,\n",
       " (12, 30): 10,\n",
       " (12, 37): 12,\n",
       " (29, 44): 30,\n",
       " (33, 35): 15,\n",
       " (33, 37): 22,\n",
       " (0, 36): 8,\n",
       " (37, 38): 17,\n",
       " (10, 29): 13,\n",
       " (17, 44): 11,\n",
       " (6, 14): 5,\n",
       " (10, 22): 8,\n",
       " (22, 37): 19,\n",
       " (22, 34): 3,\n",
       " (32, 43): 4,\n",
       " (15, 36): 28,\n",
       " (11, 35): 20,\n",
       " (2, 16): 27,\n",
       " (7, 10): 22,\n",
       " (11, 31): 19,\n",
       " (16, 41): 24,\n",
       " (15, 30): 25,\n",
       " (32, 37): 29,\n",
       " (0, 27): 9,\n",
       " (0, 28): 7,\n",
       " (32, 38): 0,\n",
       " (12, 43): 5,\n",
       " (22, 35): 37,\n",
       " (24, 30): 7,\n",
       " (24, 32): 19,\n",
       " (24, 38): 38,\n",
       " 44: inf}"
      ]
     },
     "execution_count": 240,
     "metadata": {},
     "output_type": "execute_result"
    }
   ],
   "source": [
    "costs"
   ]
  },
  {
   "cell_type": "code",
   "execution_count": null,
   "metadata": {},
   "outputs": [],
   "source": []
  },
  {
   "cell_type": "code",
   "execution_count": 244,
   "metadata": {
    "ExecuteTime": {
     "end_time": "2020-09-26T06:06:30.644996Z",
     "start_time": "2020-09-26T06:06:30.639284Z"
    }
   },
   "outputs": [],
   "source": [
    "lowest_zcost = float(\"inf\")\n",
    "lowest_cost_node = None"
   ]
  },
  {
   "cell_type": "code",
   "execution_count": 241,
   "metadata": {
    "ExecuteTime": {
     "end_time": "2020-09-26T06:06:17.771282Z",
     "start_time": "2020-09-26T06:06:17.751825Z"
    }
   },
   "outputs": [],
   "source": [
    "\n",
    "# Go through each node.\n",
    "for node in costs:\n",
    "    cost = costs[node]\n",
    "    # If it's the lowest cost so far and hasn't been processed yet...\n",
    "    if cost < lowest_cost and node not in processed:\n",
    "        # ... set it as the new lowest-cost node.\n",
    "        lowest_cost = cost\n",
    "        lowest_cost_node = node\n",
    "lowest_cost_node"
   ]
  },
  {
   "cell_type": "code",
   "execution_count": 243,
   "metadata": {
    "ExecuteTime": {
     "end_time": "2020-09-26T06:06:23.496038Z",
     "start_time": "2020-09-26T06:06:23.478396Z"
    }
   },
   "outputs": [],
   "source": [
    "lowest_cost_node"
   ]
  },
  {
   "cell_type": "code",
   "execution_count": null,
   "metadata": {},
   "outputs": [],
   "source": []
  },
  {
   "cell_type": "code",
   "execution_count": 292,
   "metadata": {
    "ExecuteTime": {
     "end_time": "2020-09-26T17:00:32.323634Z",
     "start_time": "2020-09-26T17:00:32.318769Z"
    }
   },
   "outputs": [],
   "source": [
    "ins=[_[1] for _ in Graph]\n",
    "outs=[_[0] for _ in Graph]\n",
    "weights=[_[2] for _ in Graph]"
   ]
  },
  {
   "cell_type": "code",
   "execution_count": 296,
   "metadata": {
    "ExecuteTime": {
     "end_time": "2020-09-26T17:01:25.837915Z",
     "start_time": "2020-09-26T17:01:25.830412Z"
    }
   },
   "outputs": [
    {
     "data": {
      "text/plain": [
       "7"
      ]
     },
     "execution_count": 296,
     "metadata": {},
     "output_type": "execute_result"
    }
   ],
   "source": [
    "ins=[_[1] for _ in Graph]\n",
    "outs=[_[0] for _ in Graph]\n",
    "weights=[_[2] for _ in Graph]\n",
    "#\n",
    "vertices = set(ins) or set(outs)\n",
    "len(vertices)"
   ]
  },
  {
   "cell_type": "code",
   "execution_count": 299,
   "metadata": {
    "ExecuteTime": {
     "end_time": "2020-09-26T17:02:27.065248Z",
     "start_time": "2020-09-26T17:02:27.061728Z"
    }
   },
   "outputs": [],
   "source": [
    "N = len(vertices)\n",
    "source = 7"
   ]
  },
  {
   "cell_type": "code",
   "execution_count": null,
   "metadata": {},
   "outputs": [],
   "source": [
    "### good to go\n",
    "graph = {}\n",
    "for k,v in outDict.items():\n",
    "    graph[k] = {_:costs[(k,_)] for _ in v}\n",
    "graph[source]"
   ]
  },
  {
   "cell_type": "code",
   "execution_count": 301,
   "metadata": {
    "ExecuteTime": {
     "end_time": "2020-09-26T17:03:03.816857Z",
     "start_time": "2020-09-26T17:03:03.804015Z"
    }
   },
   "outputs": [
    {
     "data": {
      "text/plain": [
       "[[], [], [], [], [], [], []]"
      ]
     },
     "execution_count": 301,
     "metadata": {},
     "output_type": "execute_result"
    }
   ],
   "source": [
    "adjList = [[] for _ in range(N)]\n",
    "adjList\n"
   ]
  },
  {
   "cell_type": "code",
   "execution_count": 304,
   "metadata": {
    "ExecuteTime": {
     "end_time": "2020-09-26T17:08:56.247110Z",
     "start_time": "2020-09-26T17:08:56.233207Z"
    }
   },
   "outputs": [
    {
     "name": "stdout",
     "output_type": "stream",
     "text": [
      "0\n",
      "1\n",
      "1\n",
      "1\n",
      "3\n",
      "3\n",
      "5\n",
      "7\n",
      "7\n",
      "7\n",
      "7\n"
     ]
    }
   ],
   "source": [
    "for edge in Graph:\n",
    "    print(edge[0])\n",
    "    #adjList[edge[0]].append(edge[1])"
   ]
  },
  {
   "cell_type": "code",
   "execution_count": null,
   "metadata": {},
   "outputs": [],
   "source": []
  },
  {
   "cell_type": "code",
   "execution_count": null,
   "metadata": {},
   "outputs": [],
   "source": []
  },
  {
   "cell_type": "code",
   "execution_count": null,
   "metadata": {},
   "outputs": [],
   "source": []
  },
  {
   "cell_type": "code",
   "execution_count": null,
   "metadata": {},
   "outputs": [],
   "source": []
  },
  {
   "cell_type": "code",
   "execution_count": null,
   "metadata": {},
   "outputs": [],
   "source": []
  },
  {
   "cell_type": "code",
   "execution_count": null,
   "metadata": {},
   "outputs": [],
   "source": []
  },
  {
   "cell_type": "code",
   "execution_count": null,
   "metadata": {},
   "outputs": [],
   "source": []
  },
  {
   "cell_type": "code",
   "execution_count": null,
   "metadata": {},
   "outputs": [],
   "source": []
  },
  {
   "cell_type": "code",
   "execution_count": 721,
   "metadata": {
    "ExecuteTime": {
     "end_time": "2020-09-26T18:17:18.887902Z",
     "start_time": "2020-09-26T18:17:18.880358Z"
    }
   },
   "outputs": [],
   "source": [
    "Graph = [(1, 2, 2),\n",
    "         (1, 3, 0),\n",
    "         (1, 6, 8),\n",
    "         (2, 4, 3),\n",
    "         (2, 5, 12),\n",
    "         (3, 5, 3),\n",
    "         (3, 6, 6),\n",
    "         (6, 5, 1),\n",
    "         (7, 5, 16)]\n",
    "source = 1\n",
    "sink = 5"
   ]
  },
  {
   "cell_type": "code",
   "execution_count": 722,
   "metadata": {
    "ExecuteTime": {
     "end_time": "2020-09-26T18:17:19.310165Z",
     "start_time": "2020-09-26T18:17:19.296406Z"
    }
   },
   "outputs": [
    {
     "data": {
      "text/plain": [
       "({1, 2, 3, 4, 5, 6, 7}, 7)"
      ]
     },
     "execution_count": 722,
     "metadata": {},
     "output_type": "execute_result"
    }
   ],
   "source": [
    "ins=[_[1] for _ in Graph]\n",
    "outs=[_[0] for _ in Graph]\n",
    "weights=[_[2] for _ in Graph]\n",
    "#\n",
    "vertices = set(outs).union(set(ins))\n",
    "(vertices,len(vertices))"
   ]
  },
  {
   "cell_type": "code",
   "execution_count": 1078,
   "metadata": {},
   "outputs": [
    {
     "data": {
      "text/plain": [
       "{(1, 2): 2,\n",
       " (1, 3): 0,\n",
       " (1, 6): 8,\n",
       " (2, 4): 3,\n",
       " (2, 5): 12,\n",
       " (3, 5): 3,\n",
       " (3, 6): 6,\n",
       " (6, 5): 1,\n",
       " (7, 5): 16}"
      ]
     },
     "execution_count": 1078,
     "metadata": {},
     "output_type": "execute_result"
    }
   ],
   "source": []
  },
  {
   "cell_type": "code",
   "execution_count": 1154,
   "metadata": {
    "ExecuteTime": {
     "end_time": "2020-09-26T18:38:14.196916Z",
     "start_time": "2020-09-26T18:38:14.182912Z"
    }
   },
   "outputs": [
    {
     "data": {
      "text/plain": [
       "{1: None, 2: [1], 3: [1], 4: [2], 5: [2, 3, 6, 7], 6: [1, 3], 7: None}"
      ]
     },
     "execution_count": 1154,
     "metadata": {},
     "output_type": "execute_result"
    }
   ],
   "source": [
    "parents = {v:[e[0] for e in Graph if e[1]==v] for v in vertices}\n",
    "parents = {k:v if len(v)!=0 else None for k,v in parents.items()}\n",
    "parents"
   ]
  },
  {
   "cell_type": "code",
   "execution_count": 1155,
   "metadata": {},
   "outputs": [
    {
     "name": "stdout",
     "output_type": "stream",
     "text": [
      "{2: {1: 2}, 3: {1: 3}, 4: {2: 4}, 5: {2: 5, 3: 5, 6: 5, 7: 5}, 6: {1: 6, 3: 6}}\n",
      "{1: None, 2: (1,), 3: (1,), 4: (2,), 5: (2, 3, 6, 7), 6: (1, 3), 7: None}\n",
      "[(1, 2), (1, 3), (2, 4), (2, 5), (3, 5), (6, 5), (7, 5), (1, 6), (3, 6)]\n",
      "{(1, 2): 2, (1, 3): 0, (1, 6): 8, (2, 4): 3, (2, 5): 12, (3, 5): 3, (3, 6): 6, (6, 5): 1, (7, 5): 16}\n"
     ]
    }
   ],
   "source": [
    "AllEdges = sum([[(v,k) for v in vals] for k,vals in parents.items() if vals is not None],[])\n",
    "parents_tups = {k:tuple(v) if v is not None else None for k,v in parents.items() }\n",
    "paths = {k:{v:k for v in vals} for k,vals in parents.items() if vals is not None}\n",
    "costsDict = {(_[0],_[1]):_[2] for _ in Graph}\n",
    "###\n",
    "print(paths)\n",
    "print(parents_tups)\n",
    "print(AllEdges)\n",
    "print(costsDict)"
   ]
  },
  {
   "cell_type": "code",
   "execution_count": 724,
   "metadata": {
    "ExecuteTime": {
     "end_time": "2020-09-26T18:24:31.281822Z",
     "start_time": "2020-09-26T18:24:31.272527Z"
    }
   },
   "outputs": [
    {
     "ename": "SyntaxError",
     "evalue": "unexpected EOF while parsing (<ipython-input-724-fc1b16ff47e4>, line 8)",
     "output_type": "error",
     "traceback": [
      "\u001b[0;36m  File \u001b[0;32m\"<ipython-input-724-fc1b16ff47e4>\"\u001b[0;36m, line \u001b[0;32m8\u001b[0m\n\u001b[0;31m    \u001b[0m\n\u001b[0m    ^\u001b[0m\n\u001b[0;31mSyntaxError\u001b[0m\u001b[0;31m:\u001b[0m unexpected EOF while parsing\n"
     ]
    }
   ],
   "source": [
    "# start = 5\n",
    "# path = [start]\n",
    "# for node in parents[start]:\n",
    "#     print(node)\n",
    "#     while each is not None:\n",
    "        \n",
    "        \n",
    "    "
   ]
  },
  {
   "cell_type": "code",
   "execution_count": 431,
   "metadata": {
    "ExecuteTime": {
     "end_time": "2020-09-26T18:34:57.245665Z",
     "start_time": "2020-09-26T18:34:57.239875Z"
    }
   },
   "outputs": [],
   "source": [
    "# def rec(node):\n",
    "#     return [[each,parents[each]] for each in parents[node]]"
   ]
  },
  {
   "cell_type": "code",
   "execution_count": 725,
   "metadata": {
    "ExecuteTime": {
     "end_time": "2020-09-27T01:34:25.130738Z",
     "start_time": "2020-09-27T01:34:25.119363Z"
    }
   },
   "outputs": [
    {
     "data": {
      "text/plain": [
       "[(1, 2), (1, 3), (2, 4), (2, 5), (3, 5), (6, 5), (7, 5), (1, 6), (3, 6)]"
      ]
     },
     "execution_count": 725,
     "metadata": {},
     "output_type": "execute_result"
    }
   ],
   "source": []
  },
  {
   "cell_type": "code",
   "execution_count": 1118,
   "metadata": {
    "ExecuteTime": {
     "end_time": "2020-09-27T01:42:19.955122Z",
     "start_time": "2020-09-27T01:42:19.934250Z"
    }
   },
   "outputs": [
    {
     "data": {
      "text/plain": [
       "{2: {1: 2}, 3: {1: 3}, 4: {2: 4}, 5: {2: 5, 3: 5, 6: 5, 7: 5}, 6: {1: 6, 3: 6}}"
      ]
     },
     "execution_count": 1118,
     "metadata": {},
     "output_type": "execute_result"
    }
   ],
   "source": []
  },
  {
   "cell_type": "code",
   "execution_count": 728,
   "metadata": {
    "ExecuteTime": {
     "end_time": "2020-09-27T02:04:19.403612Z",
     "start_time": "2020-09-27T02:04:19.395599Z"
    }
   },
   "outputs": [
    {
     "data": {
      "text/plain": [
       "{1: None, 2: (1,), 3: (1,), 4: (2,), 5: (2, 3, 6, 7), 6: (1, 3), 7: None}"
      ]
     },
     "execution_count": 728,
     "metadata": {},
     "output_type": "execute_result"
    }
   ],
   "source": []
  },
  {
   "cell_type": "code",
   "execution_count": 646,
   "metadata": {
    "ExecuteTime": {
     "end_time": "2020-09-27T02:04:38.619390Z",
     "start_time": "2020-09-27T02:04:38.599518Z"
    }
   },
   "outputs": [
    {
     "ename": "KeyError",
     "evalue": "(1,)",
     "output_type": "error",
     "traceback": [
      "\u001b[0;31m---------------------------------------------------------------------------\u001b[0m",
      "\u001b[0;31mKeyError\u001b[0m                                  Traceback (most recent call last)",
      "\u001b[0;32m<ipython-input-646-f4603724e8ef>\u001b[0m in \u001b[0;36m<module>\u001b[0;34m\u001b[0m\n\u001b[0;32m----> 1\u001b[0;31m \u001b[0mparents_tups\u001b[0m\u001b[0;34m[\u001b[0m\u001b[0mparents_tups\u001b[0m\u001b[0;34m[\u001b[0m\u001b[0;36m3\u001b[0m\u001b[0;34m]\u001b[0m\u001b[0;34m]\u001b[0m\u001b[0;34m\u001b[0m\u001b[0;34m\u001b[0m\u001b[0m\n\u001b[0m",
      "\u001b[0;31mKeyError\u001b[0m: (1,)"
     ]
    }
   ],
   "source": []
  },
  {
   "cell_type": "code",
   "execution_count": 1140,
   "metadata": {
    "ExecuteTime": {
     "end_time": "2020-09-27T02:05:57.319359Z",
     "start_time": "2020-09-27T02:05:57.306458Z"
    }
   },
   "outputs": [
    {
     "data": {
      "text/plain": [
       "{2: {1: 2}, 3: {1: 3}, 4: {2: 4}, 5: {2: 5, 3: 5, 6: 5, 7: 5}, 6: {1: 6, 3: 6}}"
      ]
     },
     "execution_count": 1140,
     "metadata": {},
     "output_type": "execute_result"
    }
   ],
   "source": [
    "## Don't modify\n",
    "paths = {k:{v:k for v in vals} for k,vals in parents.items() if vals is not None}\n",
    "paths"
   ]
  },
  {
   "cell_type": "code",
   "execution_count": null,
   "metadata": {},
   "outputs": [],
   "source": [
    "def pathTrack3(startNode):\n",
    "    \"\"\"\n",
    "    Traverse all possible paths for a given node\n",
    "    \"\"\"\n",
    "    traversed = []\n",
    "    #print(print(traversed)) \n",
    "    i = 0 #Start a counter to add paths as necessary\n",
    "    if paths.get(startNode) == None: # Check if the node has parents. If not, there is no path, leave as is.\n",
    "        #print(startNode) # For debugging\n",
    "        traversed.append([startNode]) #Add the parent node.\n",
    "        #i += 1 #Not needed here (?)\n",
    "    else:\n",
    "        for k,node in list(paths[startNode].items()): #For each parent node, traverse its parents nodes until no parent node is reached.\n",
    "            traversed.append([node,k]) # Starts a new list with the parent and starting nodes.\n",
    "            while parents.get(k) is not None: # Check if the parent node as a parental node\n",
    "                #print(parents[k],'pth',traversed[i])\n",
    "                traversed[i] = traversed[i] + parents[k] #Works but adds multiple\n",
    "                #traversed[i] = traversed[i] + [pathTrack3(each) for each in parents[k]] #parents[k]\n",
    "                #traversed[i] = traversed[i] + [pths(each) for each in parents[k]] #parents[k]\n",
    "                k = tuple(parents[k])\n",
    "            i += 1\n",
    "    return [_[::-1] for _ in traversed if _ is not None]\n",
    "    #return traversed\n",
    "    \n",
    "def getPaths(node):\n",
    "    if paths.get(node) == None:\n",
    "        return [[node]]\n",
    "    else:\n",
    "        pths = sum([pathTrack3(_) for _ in parents[node]],[])\n",
    "        pths = [_ + [node] for _ in pths]\n",
    "        return pths\n",
    "    \n",
    "def getCost(node):\n",
    "    tmp = AllPossiblePaths[node]\n",
    "    a = []\n",
    "    for _ in tmp:\n",
    "        if len(_) == 1:\n",
    "            a.append(0)\n",
    "        else:\n",
    "            a.append([costsDict[_[i-1],_[i]] for i in range(1,len(_))])\n",
    "    return a"
   ]
  },
  {
   "cell_type": "code",
   "execution_count": 1143,
   "metadata": {},
   "outputs": [
    {
     "name": "stdout",
     "output_type": "stream",
     "text": [
      "[[1]]\n"
     ]
    }
   ],
   "source": [
    "startNode = 1\n",
    "traversed = []\n",
    "#print(print(traversed))\n",
    "i = 0\n",
    "if paths.get(startNode) == None:\n",
    "    i += 1\n",
    "    traversed.append([startNode])\n",
    "else:\n",
    "    for k,node in list(paths[startNode].items()):\n",
    "        traversed.append([node,k]) # Initialize with\n",
    "        while parents.get(k) is not None:\n",
    "            traversed[i] = traversed[i] + parents[k]\n",
    "            k = tuple(parents[k])\n",
    "        i += 1\n",
    "\n",
    "print([_[::-1] for _ in traversed if _ is not None])"
   ]
  },
  {
   "cell_type": "code",
   "execution_count": null,
   "metadata": {},
   "outputs": [],
   "source": []
  },
  {
   "cell_type": "code",
   "execution_count": null,
   "metadata": {},
   "outputs": [],
   "source": []
  },
  {
   "cell_type": "code",
   "execution_count": null,
   "metadata": {},
   "outputs": [],
   "source": []
  },
  {
   "cell_type": "code",
   "execution_count": null,
   "metadata": {},
   "outputs": [],
   "source": []
  },
  {
   "cell_type": "code",
   "execution_count": null,
   "metadata": {},
   "outputs": [],
   "source": []
  },
  {
   "cell_type": "code",
   "execution_count": 1324,
   "metadata": {
    "ExecuteTime": {
     "end_time": "2020-09-27T02:18:18.466542Z",
     "start_time": "2020-09-27T02:18:18.439986Z"
    }
   },
   "outputs": [],
   "source": [
    "paths = {k:{v:k for v in vals} for k,vals in parents.items() if vals is not None}\n",
    "paths\n",
    "\n",
    "def pathTrack(startNode):\n",
    "    traversed = []\n",
    "    #print(print(traversed))\n",
    "    i = 0\n",
    "    if paths.get(startNode) == None:\n",
    "        i += 1\n",
    "        traversed.append([startNode])\n",
    "    else:\n",
    "        for k,node in list(paths[startNode].items()):\n",
    "            traversed.append([node,k])\n",
    "            while parents.get(k) is not None:\n",
    "                traversed[i] = traversed[i] + parents[k]\n",
    "                k = tuple(parents[k])\n",
    "            i += 1\n",
    "\n",
    "    return [_[::-1] for _ in traversed if _ is not None]\n",
    "    #return traversed\n",
    "    \n",
    "def pathTrack2(startNode):\n",
    "    traversed = []\n",
    "    #print(print(traversed))\n",
    "    i = 0\n",
    "    if paths.get(startNode) == None:\n",
    "        i += 1\n",
    "        traversed.append([startNode])\n",
    "    else:\n",
    "        for k,node in list(paths[startNode].items()):\n",
    "            traversed.append([node,k])\n",
    "            while parents.get(k) is not None:\n",
    "                traversed[i] = traversed[i] + parents[k]\n",
    "                k = tuple(parents[k])\n",
    "            i += 1\n",
    "\n",
    "    return [_[::-1] for _ in traversed if _ is not None]\n",
    "    #return traversed"
   ]
  },
  {
   "cell_type": "code",
   "execution_count": 1368,
   "metadata": {},
   "outputs": [
    {
     "name": "stdout",
     "output_type": "stream",
     "text": [
      "dict_items([(1, 2)])\n",
      "dict_items([(1, 3)])\n",
      "dict_items([(1, 6), (3, 6)])\n",
      "7\n"
     ]
    }
   ],
   "source": [
    "for k,v in paths.get(5).items():\n",
    "    if paths.get(k) == None:\n",
    "        print(k)\n",
    "    else:\n",
    "        print(paths.get(k).items())"
   ]
  },
  {
   "cell_type": "code",
   "execution_count": 1443,
   "metadata": {},
   "outputs": [],
   "source": [
    "def recPath(node):\n",
    "    if paths.get(node) == None:\n",
    "        return \n",
    "    else:\n",
    "        outList = [node]\n",
    "        while paths.get(node) is not None:\n",
    "            node = list(paths.get(node).keys())\n",
    "            #print(node)\n",
    "            return node"
   ]
  },
  {
   "cell_type": "code",
   "execution_count": 1469,
   "metadata": {},
   "outputs": [
    {
     "name": "stdout",
     "output_type": "stream",
     "text": [
      "[1, 2, 5]\n",
      "[1, 3, 5]\n",
      "[1, 3, 6, 5]\n",
      "[7, 5]\n"
     ]
    }
   ],
   "source": [
    "anchor = 5\n",
    "tmp = {k:recPath(k) for k,v in paths.get(anchor).items()}\n",
    "for k,v in tmp.items():\n",
    "    if v is not None:\n",
    "        print(v + [k] + [anchor])\n",
    "    else:\n",
    "        print([k] + [anchor])"
   ]
  },
  {
   "cell_type": "code",
   "execution_count": 1470,
   "metadata": {},
   "outputs": [
    {
     "data": {
      "text/plain": [
       "{2: 5, 3: 5, 6: 5, 7: 5}"
      ]
     },
     "execution_count": 1470,
     "metadata": {},
     "output_type": "execute_result"
    }
   ],
   "source": []
  },
  {
   "cell_type": "code",
   "execution_count": null,
   "metadata": {},
   "outputs": [],
   "source": []
  },
  {
   "cell_type": "code",
   "execution_count": null,
   "metadata": {},
   "outputs": [],
   "source": []
  },
  {
   "cell_type": "code",
   "execution_count": null,
   "metadata": {},
   "outputs": [],
   "source": []
  },
  {
   "cell_type": "code",
   "execution_count": null,
   "metadata": {},
   "outputs": [],
   "source": []
  },
  {
   "cell_type": "code",
   "execution_count": 1467,
   "metadata": {},
   "outputs": [
    {
     "name": "stdout",
     "output_type": "stream",
     "text": [
      "[1, 2]\n",
      "[1, 3]\n",
      "[1, 3, 6]\n",
      "[7]\n"
     ]
    }
   ],
   "source": []
  },
  {
   "cell_type": "code",
   "execution_count": 1362,
   "metadata": {},
   "outputs": [
    {
     "name": "stdout",
     "output_type": "stream",
     "text": [
      "2 {1: 2} [1]\n",
      "3 {1: 3} [1]\n",
      "6 {1: 6, 3: 6} [1, 3]\n"
     ]
    },
    {
     "data": {
      "text/plain": [
       "[[2, 2, 3, 6], [3], [6], [7]]"
      ]
     },
     "execution_count": 1362,
     "metadata": {},
     "output_type": "execute_result"
    }
   ],
   "source": [
    "trav = []\n",
    "node = 5\n",
    "for k,v in paths[node].items():\n",
    "    i = 0\n",
    "    trav.append([k])\n",
    "    while paths.get(k) is not None:\n",
    "        print(k,paths[k],list(paths[k].keys()))\n",
    "        trav[i] = trav[i] + [k]\n",
    "        k = tuple(paths[k].keys())\n",
    "#        if paths.get(k) is None:\n",
    "#            trav[i] = trav[i] + k\n",
    "        i += 1\n",
    "trav"
   ]
  },
  {
   "cell_type": "code",
   "execution_count": null,
   "metadata": {},
   "outputs": [],
   "source": []
  },
  {
   "cell_type": "code",
   "execution_count": 1555,
   "metadata": {},
   "outputs": [],
   "source": [
    "def pathTrack3(startNode):\n",
    "    \"\"\"\n",
    "    Traverse all possible paths for a given node\n",
    "    \"\"\"\n",
    "    traversed = []\n",
    "    #print(print(traversed)) \n",
    "    i = 0 #Start a counter to add paths as necessary\n",
    "    if paths.get(startNode) == None: # Check if the node has parents. If not, there is no path, leave as is.\n",
    "        #print(startNode) # For debugging\n",
    "        traversed.append([startNode]) #Add the parent node.\n",
    "        #i += 1 #Not needed here (?)\n",
    "    else:\n",
    "        for k,node in list(paths[startNode].items()): #For each parent node, traverse its parents nodes until no parent node is reached.\n",
    "            traversed.append([node,k]) # Starts a new list with the parent and starting nodes.\n",
    "            while parents.get(k) is not None: # Check if the parent node as a parental node\n",
    "                #print(parents[k],'pth',traversed[i])\n",
    "                traversed[i] = traversed[i] + parents[k] #Works but adds multiple\n",
    "                #traversed[i] = traversed[i] + [pathTrack3(each) for each in parents[k]] #parents[k]\n",
    "                #traversed[i] = traversed[i] + [pths(each) for each in parents[k]] #parents[k]\n",
    "                k = tuple(parents[k])\n",
    "            i += 1\n",
    "    return [_[::-1] for _ in traversed if _ is not None]\n",
    "    #return traversed\n",
    "    \n",
    "def getPaths(node):\n",
    "    if paths.get(node) == None:\n",
    "        return [[node]]\n",
    "    else:\n",
    "        pths = sum([pathTrack3(_) for _ in parents[node]],[])\n",
    "        pths = [_ + [node] for _ in pths]\n",
    "        return pths\n",
    "    \n",
    "def getCost(node):\n",
    "    tmp = AllPossiblePaths[node]\n",
    "    a = []\n",
    "    for _ in tmp:\n",
    "        if len(_) == 1:\n",
    "            a.append(0)\n",
    "        else:\n",
    "            a.append([costsDict[_[i-1],_[i]] for i in range(1,len(_))])\n",
    "    return a"
   ]
  },
  {
   "cell_type": "code",
   "execution_count": 1556,
   "metadata": {},
   "outputs": [
    {
     "data": {
      "text/plain": [
       "{1: [[1]],\n",
       " 2: [[1, 2]],\n",
       " 3: [[1, 3]],\n",
       " 4: [[1, 2, 4]],\n",
       " 5: [[1, 2, 5], [1, 3, 5], [1, 6, 5], [1, 3, 6, 5], [7, 5]],\n",
       " 6: [[1, 6], [1, 3, 6]],\n",
       " 7: [[7]]}"
      ]
     },
     "execution_count": 1556,
     "metadata": {},
     "output_type": "execute_result"
    }
   ],
   "source": [
    "AllPossiblePaths = {v:getPaths(v) for v in vertices}\n",
    "AllPossiblePaths"
   ]
  },
  {
   "cell_type": "code",
   "execution_count": 1565,
   "metadata": {},
   "outputs": [
    {
     "name": "stdout",
     "output_type": "stream",
     "text": [
      "[[1, 2, 5], [1, 3, 5], [1, 6, 5], [1, 3, 6, 5], [7, 5]]\n",
      "[14, 3, 9, 7, 16]\n"
     ]
    }
   ],
   "source": [
    "print(AllPossiblePaths[5])\n",
    "print([sum(_) for _ in getCost(5)])"
   ]
  },
  {
   "cell_type": "code",
   "execution_count": 1557,
   "metadata": {},
   "outputs": [],
   "source": []
  },
  {
   "cell_type": "code",
   "execution_count": null,
   "metadata": {},
   "outputs": [],
   "source": []
  },
  {
   "cell_type": "code",
   "execution_count": null,
   "metadata": {},
   "outputs": [],
   "source": []
  },
  {
   "cell_type": "code",
   "execution_count": 1509,
   "metadata": {},
   "outputs": [],
   "source": [
    "### Get costs\n",
    "def getCostPaths(whichNode):\n",
    "    tmpPaths = getPaths(whichNode)\n",
    "    if len(tmpPaths) == 1:\n",
    "        return 0\n",
    "    else:\n",
    "        return [[costsDict[currentPath[i-1],currentPath[i]] for i in range(1,len(currentPath))] for currentPath in tmpPaths]\n",
    "    #listCosts = [[costsDict[currentPath[i-1],currentPath[i]] for i in range(1,len(currentPath))] for currentPath in paths]\n",
    "    "
   ]
  },
  {
   "cell_type": "code",
   "execution_count": 1511,
   "metadata": {},
   "outputs": [
    {
     "data": {
      "text/plain": [
       "[[2, 12], [0, 3], [8, 1], [0, 6, 1], [16]]"
      ]
     },
     "execution_count": 1511,
     "metadata": {},
     "output_type": "execute_result"
    }
   ],
   "source": [
    "getCostPaths(5)"
   ]
  },
  {
   "cell_type": "code",
   "execution_count": 1507,
   "metadata": {},
   "outputs": [
    {
     "name": "stdout",
     "output_type": "stream",
     "text": [
      "1 [1] 0\n",
      "2 [[1, 2]] 0\n",
      "3 [[1, 3]] 0\n",
      "4 [[1, 2, 4]] 0\n",
      "5 [[1, 2, 5], [1, 3, 5], [1, 6, 5], [1, 3, 6, 5], [7, 5]] [[2, 12], [0, 3], [8, 1], [0, 6, 1], [16]]\n",
      "6 [[1, 6], [1, 3, 6]] [[8], [0, 6]]\n",
      "7 [7] 0\n"
     ]
    }
   ],
   "source": [
    "for k,v in AllPossiblePaths.items():\n",
    "    print(k,v,getCostPaths(k))"
   ]
  },
  {
   "cell_type": "code",
   "execution_count": 1537,
   "metadata": {},
   "outputs": [],
   "source": [
    "def GetCost(node):\n",
    "    for _ in AllPossiblePaths[node]:\n",
    "        if len(_) == 1:\n",
    "            return 0\n",
    "        else:\n",
    "            return [costsDict[(_[i-1],_[i])] for i in range(1,len(_))]\n",
    "\n"
   ]
  },
  {
   "cell_type": "code",
   "execution_count": 1541,
   "metadata": {},
   "outputs": [
    {
     "data": {
      "text/plain": [
       "[2, 3]"
      ]
     },
     "execution_count": 1541,
     "metadata": {},
     "output_type": "execute_result"
    }
   ],
   "source": []
  },
  {
   "cell_type": "code",
   "execution_count": null,
   "metadata": {},
   "outputs": [],
   "source": []
  },
  {
   "cell_type": "code",
   "execution_count": null,
   "metadata": {},
   "outputs": [],
   "source": []
  },
  {
   "cell_type": "code",
   "execution_count": null,
   "metadata": {},
   "outputs": [],
   "source": []
  },
  {
   "cell_type": "code",
   "execution_count": 1257,
   "metadata": {},
   "outputs": [
    {
     "data": {
      "text/plain": [
       "[[1, 2, 5], [1, 3, 5], [3, 1, 6, 5], [7, 5]]"
      ]
     },
     "execution_count": 1257,
     "metadata": {},
     "output_type": "execute_result"
    }
   ],
   "source": [
    "pathTrack2(startNode)"
   ]
  },
  {
   "cell_type": "code",
   "execution_count": 1270,
   "metadata": {},
   "outputs": [
    {
     "name": "stdout",
     "output_type": "stream",
     "text": [
      "[1] pth [6, 3]\n"
     ]
    },
    {
     "data": {
      "text/plain": [
       "[[[1, 2]], [[1, 3]], [[1, 6], [1, 3, 6]], [[7]]]"
      ]
     },
     "execution_count": 1270,
     "metadata": {},
     "output_type": "execute_result"
    }
   ],
   "source": [
    "[pathTrack2(_) for _ in parents[5]]"
   ]
  },
  {
   "cell_type": "code",
   "execution_count": 1156,
   "metadata": {},
   "outputs": [
    {
     "ename": "IndexError",
     "evalue": "list index out of range",
     "output_type": "error",
     "traceback": [
      "\u001b[0;31m---------------------------------------------------------------------------\u001b[0m",
      "\u001b[0;31mIndexError\u001b[0m                                Traceback (most recent call last)",
      "\u001b[0;32m<ipython-input-1156-352a08f036f4>\u001b[0m in \u001b[0;36m<module>\u001b[0;34m\u001b[0m\n\u001b[1;32m      1\u001b[0m \u001b[0manchor\u001b[0m \u001b[0;34m=\u001b[0m \u001b[0;36m5\u001b[0m\u001b[0;34m\u001b[0m\u001b[0;34m\u001b[0m\u001b[0m\n\u001b[0;32m----> 2\u001b[0;31m \u001b[0mpths\u001b[0m \u001b[0;34m=\u001b[0m \u001b[0msum\u001b[0m\u001b[0;34m(\u001b[0m\u001b[0;34m[\u001b[0m\u001b[0mpathTrack\u001b[0m\u001b[0;34m(\u001b[0m\u001b[0m_\u001b[0m\u001b[0;34m)\u001b[0m \u001b[0;32mfor\u001b[0m \u001b[0m_\u001b[0m \u001b[0;32min\u001b[0m \u001b[0mparents\u001b[0m\u001b[0;34m[\u001b[0m\u001b[0manchor\u001b[0m\u001b[0;34m]\u001b[0m\u001b[0;34m]\u001b[0m\u001b[0;34m,\u001b[0m\u001b[0;34m[\u001b[0m\u001b[0;34m]\u001b[0m\u001b[0;34m)\u001b[0m\u001b[0;34m\u001b[0m\u001b[0;34m\u001b[0m\u001b[0m\n\u001b[0m\u001b[1;32m      3\u001b[0m \u001b[0mpths\u001b[0m\u001b[0;34m\u001b[0m\u001b[0;34m\u001b[0m\u001b[0m\n\u001b[1;32m      4\u001b[0m \u001b[0;31m#[ for _ in pths]\u001b[0m\u001b[0;34m\u001b[0m\u001b[0;34m\u001b[0m\u001b[0;34m\u001b[0m\u001b[0m\n",
      "\u001b[0;32m<ipython-input-1156-352a08f036f4>\u001b[0m in \u001b[0;36m<listcomp>\u001b[0;34m(.0)\u001b[0m\n\u001b[1;32m      1\u001b[0m \u001b[0manchor\u001b[0m \u001b[0;34m=\u001b[0m \u001b[0;36m5\u001b[0m\u001b[0;34m\u001b[0m\u001b[0;34m\u001b[0m\u001b[0m\n\u001b[0;32m----> 2\u001b[0;31m \u001b[0mpths\u001b[0m \u001b[0;34m=\u001b[0m \u001b[0msum\u001b[0m\u001b[0;34m(\u001b[0m\u001b[0;34m[\u001b[0m\u001b[0mpathTrack\u001b[0m\u001b[0;34m(\u001b[0m\u001b[0m_\u001b[0m\u001b[0;34m)\u001b[0m \u001b[0;32mfor\u001b[0m \u001b[0m_\u001b[0m \u001b[0;32min\u001b[0m \u001b[0mparents\u001b[0m\u001b[0;34m[\u001b[0m\u001b[0manchor\u001b[0m\u001b[0;34m]\u001b[0m\u001b[0;34m]\u001b[0m\u001b[0;34m,\u001b[0m\u001b[0;34m[\u001b[0m\u001b[0;34m]\u001b[0m\u001b[0;34m)\u001b[0m\u001b[0;34m\u001b[0m\u001b[0;34m\u001b[0m\u001b[0m\n\u001b[0m\u001b[1;32m      3\u001b[0m \u001b[0mpths\u001b[0m\u001b[0;34m\u001b[0m\u001b[0;34m\u001b[0m\u001b[0m\n\u001b[1;32m      4\u001b[0m \u001b[0;31m#[ for _ in pths]\u001b[0m\u001b[0;34m\u001b[0m\u001b[0;34m\u001b[0m\u001b[0;34m\u001b[0m\u001b[0m\n",
      "\u001b[0;32m<ipython-input-1148-706d789f28f9>\u001b[0m in \u001b[0;36mpathTrack\u001b[0;34m(startNode)\u001b[0m\n\u001b[1;32m      4\u001b[0m     \u001b[0mi\u001b[0m \u001b[0;34m=\u001b[0m \u001b[0;36m0\u001b[0m\u001b[0;34m\u001b[0m\u001b[0;34m\u001b[0m\u001b[0m\n\u001b[1;32m      5\u001b[0m     \u001b[0;32mif\u001b[0m \u001b[0mpaths\u001b[0m\u001b[0;34m.\u001b[0m\u001b[0mget\u001b[0m\u001b[0;34m(\u001b[0m\u001b[0mstartNode\u001b[0m\u001b[0;34m)\u001b[0m \u001b[0;34m==\u001b[0m \u001b[0;32mNone\u001b[0m\u001b[0;34m:\u001b[0m\u001b[0;34m\u001b[0m\u001b[0;34m\u001b[0m\u001b[0m\n\u001b[0;32m----> 6\u001b[0;31m         \u001b[0mtraversed\u001b[0m\u001b[0;34m[\u001b[0m\u001b[0mi\u001b[0m\u001b[0;34m]\u001b[0m\u001b[0;34m.\u001b[0m\u001b[0mappend\u001b[0m\u001b[0;34m(\u001b[0m\u001b[0mstartNode\u001b[0m\u001b[0;34m)\u001b[0m\u001b[0;34m\u001b[0m\u001b[0;34m\u001b[0m\u001b[0m\n\u001b[0m\u001b[1;32m      7\u001b[0m         \u001b[0mi\u001b[0m \u001b[0;34m+=\u001b[0m \u001b[0;36m1\u001b[0m\u001b[0;34m\u001b[0m\u001b[0;34m\u001b[0m\u001b[0m\n\u001b[1;32m      8\u001b[0m     \u001b[0;32melse\u001b[0m\u001b[0;34m:\u001b[0m\u001b[0;34m\u001b[0m\u001b[0;34m\u001b[0m\u001b[0m\n",
      "\u001b[0;31mIndexError\u001b[0m: list index out of range"
     ]
    }
   ],
   "source": [
    "anchor = 5\n",
    "pths = sum([pathTrack(_) for _ in parents[anchor]],[])\n",
    "pths\n",
    "#[ for _ in pths]"
   ]
  },
  {
   "cell_type": "code",
   "execution_count": 1098,
   "metadata": {},
   "outputs": [
    {
     "data": {
      "text/plain": [
       "[[1]]"
      ]
     },
     "execution_count": 1098,
     "metadata": {},
     "output_type": "execute_result"
    }
   ],
   "source": []
  },
  {
   "cell_type": "code",
   "execution_count": 1090,
   "metadata": {},
   "outputs": [],
   "source": [
    "### Get costs\n",
    "def getCostPaths(whichNode):\n",
    "    paths = getPaths(whichNode)\n",
    "    if len(paths) == 1:\n",
    "        return 0\n",
    "    else:\n",
    "        return [[costsDict[currentPath[i-1],currentPath[i]] for i in range(1,len(currentPath))] for currentPath in paths]\n",
    "    #listCosts = [[costsDict[currentPath[i-1],currentPath[i]] for i in range(1,len(currentPath))] for currentPath in paths]\n",
    "    "
   ]
  },
  {
   "cell_type": "code",
   "execution_count": 1157,
   "metadata": {},
   "outputs": [
    {
     "name": "stdout",
     "output_type": "stream",
     "text": [
      "1\n"
     ]
    },
    {
     "ename": "IndexError",
     "evalue": "list index out of range",
     "output_type": "error",
     "traceback": [
      "\u001b[0;31m---------------------------------------------------------------------------\u001b[0m",
      "\u001b[0;31mIndexError\u001b[0m                                Traceback (most recent call last)",
      "\u001b[0;32m<ipython-input-1157-acceff9a85c6>\u001b[0m in \u001b[0;36m<module>\u001b[0;34m\u001b[0m\n\u001b[0;32m----> 1\u001b[0;31m \u001b[0mgetPaths\u001b[0m\u001b[0;34m(\u001b[0m\u001b[0;36m2\u001b[0m\u001b[0;34m)\u001b[0m\u001b[0;34m\u001b[0m\u001b[0;34m\u001b[0m\u001b[0m\n\u001b[0m",
      "\u001b[0;32m<ipython-input-1119-e68db7459565>\u001b[0m in \u001b[0;36mgetPaths\u001b[0;34m(node)\u001b[0m\n\u001b[1;32m      3\u001b[0m         \u001b[0;32mreturn\u001b[0m \u001b[0;34m[\u001b[0m\u001b[0mnode\u001b[0m\u001b[0;34m]\u001b[0m\u001b[0;34m\u001b[0m\u001b[0;34m\u001b[0m\u001b[0m\n\u001b[1;32m      4\u001b[0m     \u001b[0;32melse\u001b[0m\u001b[0;34m:\u001b[0m\u001b[0;34m\u001b[0m\u001b[0;34m\u001b[0m\u001b[0m\n\u001b[0;32m----> 5\u001b[0;31m         \u001b[0mpths\u001b[0m \u001b[0;34m=\u001b[0m \u001b[0msum\u001b[0m\u001b[0;34m(\u001b[0m\u001b[0;34m[\u001b[0m\u001b[0mpathTrack2\u001b[0m\u001b[0;34m(\u001b[0m\u001b[0m_\u001b[0m\u001b[0;34m)\u001b[0m \u001b[0;32mfor\u001b[0m \u001b[0m_\u001b[0m \u001b[0;32min\u001b[0m \u001b[0mparents\u001b[0m\u001b[0;34m[\u001b[0m\u001b[0mnode\u001b[0m\u001b[0;34m]\u001b[0m\u001b[0;34m]\u001b[0m\u001b[0;34m,\u001b[0m\u001b[0;34m[\u001b[0m\u001b[0;34m]\u001b[0m\u001b[0;34m)\u001b[0m\u001b[0;34m\u001b[0m\u001b[0;34m\u001b[0m\u001b[0m\n\u001b[0m\u001b[1;32m      6\u001b[0m         \u001b[0mpths\u001b[0m \u001b[0;34m=\u001b[0m \u001b[0;34m[\u001b[0m\u001b[0m_\u001b[0m \u001b[0;34m+\u001b[0m \u001b[0;34m[\u001b[0m\u001b[0mnode\u001b[0m\u001b[0;34m]\u001b[0m \u001b[0;32mfor\u001b[0m \u001b[0m_\u001b[0m \u001b[0;32min\u001b[0m \u001b[0mpths\u001b[0m\u001b[0;34m]\u001b[0m\u001b[0;34m\u001b[0m\u001b[0;34m\u001b[0m\u001b[0m\n\u001b[1;32m      7\u001b[0m         \u001b[0;32mreturn\u001b[0m \u001b[0mpths\u001b[0m\u001b[0;34m\u001b[0m\u001b[0;34m\u001b[0m\u001b[0m\n",
      "\u001b[0;32m<ipython-input-1119-e68db7459565>\u001b[0m in \u001b[0;36m<listcomp>\u001b[0;34m(.0)\u001b[0m\n\u001b[1;32m      3\u001b[0m         \u001b[0;32mreturn\u001b[0m \u001b[0;34m[\u001b[0m\u001b[0mnode\u001b[0m\u001b[0;34m]\u001b[0m\u001b[0;34m\u001b[0m\u001b[0;34m\u001b[0m\u001b[0m\n\u001b[1;32m      4\u001b[0m     \u001b[0;32melse\u001b[0m\u001b[0;34m:\u001b[0m\u001b[0;34m\u001b[0m\u001b[0;34m\u001b[0m\u001b[0m\n\u001b[0;32m----> 5\u001b[0;31m         \u001b[0mpths\u001b[0m \u001b[0;34m=\u001b[0m \u001b[0msum\u001b[0m\u001b[0;34m(\u001b[0m\u001b[0;34m[\u001b[0m\u001b[0mpathTrack2\u001b[0m\u001b[0;34m(\u001b[0m\u001b[0m_\u001b[0m\u001b[0;34m)\u001b[0m \u001b[0;32mfor\u001b[0m \u001b[0m_\u001b[0m \u001b[0;32min\u001b[0m \u001b[0mparents\u001b[0m\u001b[0;34m[\u001b[0m\u001b[0mnode\u001b[0m\u001b[0;34m]\u001b[0m\u001b[0;34m]\u001b[0m\u001b[0;34m,\u001b[0m\u001b[0;34m[\u001b[0m\u001b[0;34m]\u001b[0m\u001b[0;34m)\u001b[0m\u001b[0;34m\u001b[0m\u001b[0;34m\u001b[0m\u001b[0m\n\u001b[0m\u001b[1;32m      6\u001b[0m         \u001b[0mpths\u001b[0m \u001b[0;34m=\u001b[0m \u001b[0;34m[\u001b[0m\u001b[0m_\u001b[0m \u001b[0;34m+\u001b[0m \u001b[0;34m[\u001b[0m\u001b[0mnode\u001b[0m\u001b[0;34m]\u001b[0m \u001b[0;32mfor\u001b[0m \u001b[0m_\u001b[0m \u001b[0;32min\u001b[0m \u001b[0mpths\u001b[0m\u001b[0;34m]\u001b[0m\u001b[0;34m\u001b[0m\u001b[0;34m\u001b[0m\u001b[0m\n\u001b[1;32m      7\u001b[0m         \u001b[0;32mreturn\u001b[0m \u001b[0mpths\u001b[0m\u001b[0;34m\u001b[0m\u001b[0;34m\u001b[0m\u001b[0m\n",
      "\u001b[0;32m<ipython-input-1138-20f2cd9ebae0>\u001b[0m in \u001b[0;36mpathTrack2\u001b[0;34m(startNode)\u001b[0m\n\u001b[1;32m      5\u001b[0m     \u001b[0;32mif\u001b[0m \u001b[0mpaths\u001b[0m\u001b[0;34m.\u001b[0m\u001b[0mget\u001b[0m\u001b[0;34m(\u001b[0m\u001b[0mstartNode\u001b[0m\u001b[0;34m)\u001b[0m \u001b[0;34m==\u001b[0m \u001b[0;32mNone\u001b[0m\u001b[0;34m:\u001b[0m\u001b[0;34m\u001b[0m\u001b[0;34m\u001b[0m\u001b[0m\n\u001b[1;32m      6\u001b[0m         \u001b[0mprint\u001b[0m\u001b[0;34m(\u001b[0m\u001b[0mstartNode\u001b[0m\u001b[0;34m)\u001b[0m\u001b[0;34m\u001b[0m\u001b[0;34m\u001b[0m\u001b[0m\n\u001b[0;32m----> 7\u001b[0;31m         \u001b[0mtraversed\u001b[0m\u001b[0;34m[\u001b[0m\u001b[0mi\u001b[0m\u001b[0;34m]\u001b[0m \u001b[0;34m=\u001b[0m \u001b[0mtraversed\u001b[0m\u001b[0;34m[\u001b[0m\u001b[0mi\u001b[0m\u001b[0;34m]\u001b[0m \u001b[0;34m+\u001b[0m \u001b[0;34m[\u001b[0m\u001b[0mstartNode\u001b[0m\u001b[0;34m]\u001b[0m\u001b[0;34m\u001b[0m\u001b[0;34m\u001b[0m\u001b[0m\n\u001b[0m\u001b[1;32m      8\u001b[0m         \u001b[0mi\u001b[0m \u001b[0;34m+=\u001b[0m \u001b[0;36m1\u001b[0m\u001b[0;34m\u001b[0m\u001b[0;34m\u001b[0m\u001b[0m\n\u001b[1;32m      9\u001b[0m     \u001b[0;32melse\u001b[0m\u001b[0;34m:\u001b[0m\u001b[0;34m\u001b[0m\u001b[0;34m\u001b[0m\u001b[0m\n",
      "\u001b[0;31mIndexError\u001b[0m: list index out of range"
     ]
    }
   ],
   "source": [
    "getPaths(2)"
   ]
  },
  {
   "cell_type": "code",
   "execution_count": 1102,
   "metadata": {},
   "outputs": [
    {
     "ename": "AttributeError",
     "evalue": "'list' object has no attribute 'get'",
     "output_type": "error",
     "traceback": [
      "\u001b[0;31m---------------------------------------------------------------------------\u001b[0m",
      "\u001b[0;31mAttributeError\u001b[0m                            Traceback (most recent call last)",
      "\u001b[0;32m<ipython-input-1102-8b8a13d8dd0f>\u001b[0m in \u001b[0;36m<module>\u001b[0;34m\u001b[0m\n\u001b[0;32m----> 1\u001b[0;31m \u001b[0mpaths1\u001b[0m \u001b[0;34m=\u001b[0m \u001b[0mgetPaths\u001b[0m\u001b[0;34m(\u001b[0m\u001b[0;36m1\u001b[0m\u001b[0;34m)\u001b[0m\u001b[0;34m\u001b[0m\u001b[0;34m\u001b[0m\u001b[0m\n\u001b[0m\u001b[1;32m      2\u001b[0m \u001b[0mpaths1\u001b[0m\u001b[0;34m\u001b[0m\u001b[0;34m\u001b[0m\u001b[0m\n",
      "\u001b[0;32m<ipython-input-1096-a9f93836b25d>\u001b[0m in \u001b[0;36mgetPaths\u001b[0;34m(node)\u001b[0m\n\u001b[1;32m      1\u001b[0m \u001b[0;32mdef\u001b[0m \u001b[0mgetPaths\u001b[0m\u001b[0;34m(\u001b[0m\u001b[0mnode\u001b[0m\u001b[0;34m)\u001b[0m\u001b[0;34m:\u001b[0m\u001b[0;34m\u001b[0m\u001b[0;34m\u001b[0m\u001b[0m\n\u001b[0;32m----> 2\u001b[0;31m     \u001b[0;32mif\u001b[0m \u001b[0mpaths\u001b[0m\u001b[0;34m.\u001b[0m\u001b[0mget\u001b[0m\u001b[0;34m(\u001b[0m\u001b[0mnode\u001b[0m\u001b[0;34m)\u001b[0m \u001b[0;34m==\u001b[0m \u001b[0;32mNone\u001b[0m\u001b[0;34m:\u001b[0m\u001b[0;34m\u001b[0m\u001b[0;34m\u001b[0m\u001b[0m\n\u001b[0m\u001b[1;32m      3\u001b[0m         \u001b[0;32mreturn\u001b[0m \u001b[0;34m[\u001b[0m\u001b[0;34m[\u001b[0m\u001b[0mnode\u001b[0m\u001b[0;34m]\u001b[0m\u001b[0;34m]\u001b[0m\u001b[0;34m\u001b[0m\u001b[0;34m\u001b[0m\u001b[0m\n\u001b[1;32m      4\u001b[0m     \u001b[0;32melse\u001b[0m\u001b[0;34m:\u001b[0m\u001b[0;34m\u001b[0m\u001b[0;34m\u001b[0m\u001b[0m\n\u001b[1;32m      5\u001b[0m         \u001b[0mpths\u001b[0m \u001b[0;34m=\u001b[0m \u001b[0msum\u001b[0m\u001b[0;34m(\u001b[0m\u001b[0;34m[\u001b[0m\u001b[0mpathTrack2\u001b[0m\u001b[0;34m(\u001b[0m\u001b[0m_\u001b[0m\u001b[0;34m)\u001b[0m \u001b[0;32mfor\u001b[0m \u001b[0m_\u001b[0m \u001b[0;32min\u001b[0m \u001b[0mparents\u001b[0m\u001b[0;34m[\u001b[0m\u001b[0mnode\u001b[0m\u001b[0;34m]\u001b[0m\u001b[0;34m]\u001b[0m\u001b[0;34m,\u001b[0m\u001b[0;34m[\u001b[0m\u001b[0;34m]\u001b[0m\u001b[0;34m)\u001b[0m\u001b[0;34m\u001b[0m\u001b[0;34m\u001b[0m\u001b[0m\n",
      "\u001b[0;31mAttributeError\u001b[0m: 'list' object has no attribute 'get'"
     ]
    }
   ],
   "source": [
    "paths5 = getPaths(1)\n",
    "if len(paths5) == 1:\n",
    "    return 0\n",
    "else:\n",
    "    [[costsDict[currentPath[i-1],currentPath[i]] for i in range(1,len(currentPath))] for currentPath in paths]"
   ]
  },
  {
   "cell_type": "code",
   "execution_count": 1087,
   "metadata": {},
   "outputs": [
    {
     "data": {
      "text/plain": [
       "1"
      ]
     },
     "execution_count": 1087,
     "metadata": {},
     "output_type": "execute_result"
    }
   ],
   "source": []
  },
  {
   "cell_type": "code",
   "execution_count": null,
   "metadata": {},
   "outputs": [],
   "source": []
  },
  {
   "cell_type": "code",
   "execution_count": null,
   "metadata": {},
   "outputs": [],
   "source": []
  },
  {
   "cell_type": "code",
   "execution_count": 1139,
   "metadata": {},
   "outputs": [
    {
     "name": "stdout",
     "output_type": "stream",
     "text": [
      "1\n"
     ]
    },
    {
     "ename": "IndexError",
     "evalue": "list index out of range",
     "output_type": "error",
     "traceback": [
      "\u001b[0;31m---------------------------------------------------------------------------\u001b[0m",
      "\u001b[0;31mIndexError\u001b[0m                                Traceback (most recent call last)",
      "\u001b[0;32m<ipython-input-1139-fb3b880d3237>\u001b[0m in \u001b[0;36m<module>\u001b[0;34m\u001b[0m\n\u001b[0;32m----> 1\u001b[0;31m \u001b[0mpathTrack2\u001b[0m\u001b[0;34m(\u001b[0m\u001b[0;36m1\u001b[0m\u001b[0;34m)\u001b[0m\u001b[0;34m\u001b[0m\u001b[0;34m\u001b[0m\u001b[0m\n\u001b[0m",
      "\u001b[0;32m<ipython-input-1138-20f2cd9ebae0>\u001b[0m in \u001b[0;36mpathTrack2\u001b[0;34m(startNode)\u001b[0m\n\u001b[1;32m      5\u001b[0m     \u001b[0;32mif\u001b[0m \u001b[0mpaths\u001b[0m\u001b[0;34m.\u001b[0m\u001b[0mget\u001b[0m\u001b[0;34m(\u001b[0m\u001b[0mstartNode\u001b[0m\u001b[0;34m)\u001b[0m \u001b[0;34m==\u001b[0m \u001b[0;32mNone\u001b[0m\u001b[0;34m:\u001b[0m\u001b[0;34m\u001b[0m\u001b[0;34m\u001b[0m\u001b[0m\n\u001b[1;32m      6\u001b[0m         \u001b[0mprint\u001b[0m\u001b[0;34m(\u001b[0m\u001b[0mstartNode\u001b[0m\u001b[0;34m)\u001b[0m\u001b[0;34m\u001b[0m\u001b[0;34m\u001b[0m\u001b[0m\n\u001b[0;32m----> 7\u001b[0;31m         \u001b[0mtraversed\u001b[0m\u001b[0;34m[\u001b[0m\u001b[0mi\u001b[0m\u001b[0;34m]\u001b[0m \u001b[0;34m=\u001b[0m \u001b[0mtraversed\u001b[0m\u001b[0;34m[\u001b[0m\u001b[0mi\u001b[0m\u001b[0;34m]\u001b[0m \u001b[0;34m+\u001b[0m \u001b[0;34m[\u001b[0m\u001b[0mstartNode\u001b[0m\u001b[0;34m]\u001b[0m\u001b[0;34m\u001b[0m\u001b[0;34m\u001b[0m\u001b[0m\n\u001b[0m\u001b[1;32m      8\u001b[0m         \u001b[0mi\u001b[0m \u001b[0;34m+=\u001b[0m \u001b[0;36m1\u001b[0m\u001b[0;34m\u001b[0m\u001b[0;34m\u001b[0m\u001b[0m\n\u001b[1;32m      9\u001b[0m     \u001b[0;32melse\u001b[0m\u001b[0;34m:\u001b[0m\u001b[0;34m\u001b[0m\u001b[0;34m\u001b[0m\u001b[0m\n",
      "\u001b[0;31mIndexError\u001b[0m: list index out of range"
     ]
    }
   ],
   "source": [
    "pathTrack2(1)"
   ]
  },
  {
   "cell_type": "code",
   "execution_count": 1170,
   "metadata": {},
   "outputs": [
    {
     "name": "stdout",
     "output_type": "stream",
     "text": [
      "[]\n",
      "[[3, 4]]\n",
      "[[3, 4], ['b']]\n"
     ]
    }
   ],
   "source": [
    "a=[]\n",
    "print(a)\n",
    "a.append([3,4])\n",
    "print(a)\n",
    "a.append(['b'])\n",
    "print(a)"
   ]
  },
  {
   "cell_type": "code",
   "execution_count": 1317,
   "metadata": {},
   "outputs": [],
   "source": [
    "def pathTrack3(startNode):\n",
    "    \"\"\"\n",
    "    Traverse all possible paths for a given node\n",
    "    \"\"\"\n",
    "    traversed = []\n",
    "    #print(print(traversed)) \n",
    "    i = 0 #Start a counter to add paths as necessary\n",
    "    if paths.get(startNode) == None: # Check if the node has parents. If not, there is no path, leave as is.\n",
    "        #print(startNode) # For debugging\n",
    "        traversed.append([startNode]) #Add the parent node.\n",
    "        #i += 1 #Not needed here (?)\n",
    "    else:\n",
    "        for k,node in list(paths[startNode].items()): #For each parent node, traverse its parents nodes until no parent node is reached.\n",
    "            traversed.append([node,k]) # Starts a new list with the parent and starting nodes.\n",
    "            while parents.get(k) is not None: # Check if the parent node as a parental node\n",
    "                #print(parents[k],'pth',traversed[i])\n",
    "                traversed[i] = traversed[i] + parents[k] #Works but adds multiple\n",
    "                #traversed[i] = traversed[i] + [pathTrack3(each) for each in parents[k]] #parents[k]\n",
    "                #traversed[i] = traversed[i] + [pths(each) for each in parents[k]] #parents[k]\n",
    "                k = tuple(parents[k])\n",
    "            i += 1\n",
    "    return [_[::-1] for _ in traversed if _ is not None]\n",
    "    #return traversed"
   ]
  },
  {
   "cell_type": "code",
   "execution_count": 1320,
   "metadata": {},
   "outputs": [
    {
     "ename": "SyntaxError",
     "evalue": "invalid syntax (<ipython-input-1320-3c3f9f7e73ae>, line 1)",
     "output_type": "error",
     "traceback": [
      "\u001b[0;36m  File \u001b[0;32m\"<ipython-input-1320-3c3f9f7e73ae>\"\u001b[0;36m, line \u001b[0;32m1\u001b[0m\n\u001b[0;31m    for _ in pathTrack2\u001b[0m\n\u001b[0m                       ^\u001b[0m\n\u001b[0;31mSyntaxError\u001b[0m\u001b[0;31m:\u001b[0m invalid syntax\n"
     ]
    }
   ],
   "source": [
    "for _ in pathTrack2"
   ]
  },
  {
   "cell_type": "code",
   "execution_count": 1284,
   "metadata": {},
   "outputs": [],
   "source": [
    "def pathToNode(node):\n",
    "    tmp = [pathTrack3(_) for _ in parents[node]]\n",
    "    #return [sum(_,[]) + [node] for _ in tmp]"
   ]
  },
  {
   "cell_type": "code",
   "execution_count": 1285,
   "metadata": {},
   "outputs": [
    {
     "data": {
      "text/plain": [
       "[[1, 6], [1, 3, 6]]"
      ]
     },
     "execution_count": 1285,
     "metadata": {},
     "output_type": "execute_result"
    }
   ],
   "source": [
    "node=6\n",
    "pathToNode(node)"
   ]
  },
  {
   "cell_type": "code",
   "execution_count": 1295,
   "metadata": {},
   "outputs": [
    {
     "ename": "TypeError",
     "evalue": "can only concatenate list (not \"int\") to list",
     "output_type": "error",
     "traceback": [
      "\u001b[0;31m---------------------------------------------------------------------------\u001b[0m",
      "\u001b[0;31mTypeError\u001b[0m                                 Traceback (most recent call last)",
      "\u001b[0;32m<ipython-input-1295-60a56d36a6b8>\u001b[0m in \u001b[0;36m<module>\u001b[0;34m\u001b[0m\n\u001b[1;32m      1\u001b[0m \u001b[0mnode\u001b[0m\u001b[0;34m=\u001b[0m\u001b[0;36m5\u001b[0m\u001b[0;34m\u001b[0m\u001b[0;34m\u001b[0m\u001b[0m\n\u001b[0;32m----> 2\u001b[0;31m \u001b[0mpathToNode\u001b[0m\u001b[0;34m(\u001b[0m\u001b[0mnode\u001b[0m\u001b[0;34m)\u001b[0m\u001b[0;34m\u001b[0m\u001b[0;34m\u001b[0m\u001b[0m\n\u001b[0m",
      "\u001b[0;32m<ipython-input-1284-a348e721d48e>\u001b[0m in \u001b[0;36mpathToNode\u001b[0;34m(node)\u001b[0m\n\u001b[1;32m      1\u001b[0m \u001b[0;32mdef\u001b[0m \u001b[0mpathToNode\u001b[0m\u001b[0;34m(\u001b[0m\u001b[0mnode\u001b[0m\u001b[0;34m)\u001b[0m\u001b[0;34m:\u001b[0m\u001b[0;34m\u001b[0m\u001b[0;34m\u001b[0m\u001b[0m\n\u001b[0;32m----> 2\u001b[0;31m     \u001b[0mtmp\u001b[0m \u001b[0;34m=\u001b[0m \u001b[0;34m[\u001b[0m\u001b[0mpathTrack3\u001b[0m\u001b[0;34m(\u001b[0m\u001b[0m_\u001b[0m\u001b[0;34m)\u001b[0m \u001b[0;32mfor\u001b[0m \u001b[0m_\u001b[0m \u001b[0;32min\u001b[0m \u001b[0mparents\u001b[0m\u001b[0;34m[\u001b[0m\u001b[0mnode\u001b[0m\u001b[0;34m]\u001b[0m\u001b[0;34m]\u001b[0m\u001b[0;34m\u001b[0m\u001b[0;34m\u001b[0m\u001b[0m\n\u001b[0m\u001b[1;32m      3\u001b[0m     \u001b[0;32mreturn\u001b[0m \u001b[0;34m[\u001b[0m\u001b[0msum\u001b[0m\u001b[0;34m(\u001b[0m\u001b[0m_\u001b[0m\u001b[0;34m,\u001b[0m\u001b[0;34m[\u001b[0m\u001b[0;34m]\u001b[0m\u001b[0;34m)\u001b[0m \u001b[0;34m+\u001b[0m \u001b[0;34m[\u001b[0m\u001b[0mnode\u001b[0m\u001b[0;34m]\u001b[0m \u001b[0;32mfor\u001b[0m \u001b[0m_\u001b[0m \u001b[0;32min\u001b[0m \u001b[0mtmp\u001b[0m\u001b[0;34m]\u001b[0m\u001b[0;34m\u001b[0m\u001b[0;34m\u001b[0m\u001b[0m\n",
      "\u001b[0;32m<ipython-input-1284-a348e721d48e>\u001b[0m in \u001b[0;36m<listcomp>\u001b[0;34m(.0)\u001b[0m\n\u001b[1;32m      1\u001b[0m \u001b[0;32mdef\u001b[0m \u001b[0mpathToNode\u001b[0m\u001b[0;34m(\u001b[0m\u001b[0mnode\u001b[0m\u001b[0;34m)\u001b[0m\u001b[0;34m:\u001b[0m\u001b[0;34m\u001b[0m\u001b[0;34m\u001b[0m\u001b[0m\n\u001b[0;32m----> 2\u001b[0;31m     \u001b[0mtmp\u001b[0m \u001b[0;34m=\u001b[0m \u001b[0;34m[\u001b[0m\u001b[0mpathTrack3\u001b[0m\u001b[0;34m(\u001b[0m\u001b[0m_\u001b[0m\u001b[0;34m)\u001b[0m \u001b[0;32mfor\u001b[0m \u001b[0m_\u001b[0m \u001b[0;32min\u001b[0m \u001b[0mparents\u001b[0m\u001b[0;34m[\u001b[0m\u001b[0mnode\u001b[0m\u001b[0;34m]\u001b[0m\u001b[0;34m]\u001b[0m\u001b[0;34m\u001b[0m\u001b[0;34m\u001b[0m\u001b[0m\n\u001b[0m\u001b[1;32m      3\u001b[0m     \u001b[0;32mreturn\u001b[0m \u001b[0;34m[\u001b[0m\u001b[0msum\u001b[0m\u001b[0;34m(\u001b[0m\u001b[0m_\u001b[0m\u001b[0;34m,\u001b[0m\u001b[0;34m[\u001b[0m\u001b[0;34m]\u001b[0m\u001b[0;34m)\u001b[0m \u001b[0;34m+\u001b[0m \u001b[0;34m[\u001b[0m\u001b[0mnode\u001b[0m\u001b[0;34m]\u001b[0m \u001b[0;32mfor\u001b[0m \u001b[0m_\u001b[0m \u001b[0;32min\u001b[0m \u001b[0mtmp\u001b[0m\u001b[0;34m]\u001b[0m\u001b[0;34m\u001b[0m\u001b[0;34m\u001b[0m\u001b[0m\n",
      "\u001b[0;32m<ipython-input-1294-0565f2a8bab3>\u001b[0m in \u001b[0;36mpathTrack3\u001b[0;34m(startNode)\u001b[0m\n\u001b[1;32m     20\u001b[0m                 \u001b[0mk\u001b[0m \u001b[0;34m=\u001b[0m \u001b[0mtuple\u001b[0m\u001b[0;34m(\u001b[0m\u001b[0mparents\u001b[0m\u001b[0;34m[\u001b[0m\u001b[0mk\u001b[0m\u001b[0;34m]\u001b[0m\u001b[0;34m)\u001b[0m\u001b[0;34m\u001b[0m\u001b[0;34m\u001b[0m\u001b[0m\n\u001b[1;32m     21\u001b[0m             \u001b[0mi\u001b[0m \u001b[0;34m+=\u001b[0m \u001b[0;36m1\u001b[0m\u001b[0;34m\u001b[0m\u001b[0;34m\u001b[0m\u001b[0m\n\u001b[0;32m---> 22\u001b[0;31m     \u001b[0mtraversed\u001b[0m \u001b[0;34m=\u001b[0m \u001b[0;34m[\u001b[0m\u001b[0msum\u001b[0m\u001b[0;34m(\u001b[0m\u001b[0m_\u001b[0m\u001b[0;34m,\u001b[0m\u001b[0;34m[\u001b[0m\u001b[0;34m]\u001b[0m\u001b[0;34m)\u001b[0m  \u001b[0;32mfor\u001b[0m \u001b[0m_\u001b[0m \u001b[0;32min\u001b[0m \u001b[0mtraversed\u001b[0m\u001b[0;34m]\u001b[0m\u001b[0;34m\u001b[0m\u001b[0;34m\u001b[0m\u001b[0m\n\u001b[0m\u001b[1;32m     23\u001b[0m     \u001b[0;32mreturn\u001b[0m \u001b[0;34m[\u001b[0m\u001b[0m_\u001b[0m\u001b[0;34m[\u001b[0m\u001b[0;34m:\u001b[0m\u001b[0;34m:\u001b[0m\u001b[0;34m-\u001b[0m\u001b[0;36m1\u001b[0m\u001b[0;34m]\u001b[0m \u001b[0;32mfor\u001b[0m \u001b[0m_\u001b[0m \u001b[0;32min\u001b[0m \u001b[0mtraversed\u001b[0m \u001b[0;32mif\u001b[0m \u001b[0m_\u001b[0m \u001b[0;32mis\u001b[0m \u001b[0;32mnot\u001b[0m \u001b[0;32mNone\u001b[0m\u001b[0;34m]\u001b[0m\u001b[0;34m\u001b[0m\u001b[0;34m\u001b[0m\u001b[0m\n\u001b[1;32m     24\u001b[0m     \u001b[0;31m#return traversed\u001b[0m\u001b[0;34m\u001b[0m\u001b[0;34m\u001b[0m\u001b[0;34m\u001b[0m\u001b[0m\n",
      "\u001b[0;32m<ipython-input-1294-0565f2a8bab3>\u001b[0m in \u001b[0;36m<listcomp>\u001b[0;34m(.0)\u001b[0m\n\u001b[1;32m     20\u001b[0m                 \u001b[0mk\u001b[0m \u001b[0;34m=\u001b[0m \u001b[0mtuple\u001b[0m\u001b[0;34m(\u001b[0m\u001b[0mparents\u001b[0m\u001b[0;34m[\u001b[0m\u001b[0mk\u001b[0m\u001b[0;34m]\u001b[0m\u001b[0;34m)\u001b[0m\u001b[0;34m\u001b[0m\u001b[0;34m\u001b[0m\u001b[0m\n\u001b[1;32m     21\u001b[0m             \u001b[0mi\u001b[0m \u001b[0;34m+=\u001b[0m \u001b[0;36m1\u001b[0m\u001b[0;34m\u001b[0m\u001b[0;34m\u001b[0m\u001b[0m\n\u001b[0;32m---> 22\u001b[0;31m     \u001b[0mtraversed\u001b[0m \u001b[0;34m=\u001b[0m \u001b[0;34m[\u001b[0m\u001b[0msum\u001b[0m\u001b[0;34m(\u001b[0m\u001b[0m_\u001b[0m\u001b[0;34m,\u001b[0m\u001b[0;34m[\u001b[0m\u001b[0;34m]\u001b[0m\u001b[0;34m)\u001b[0m  \u001b[0;32mfor\u001b[0m \u001b[0m_\u001b[0m \u001b[0;32min\u001b[0m \u001b[0mtraversed\u001b[0m\u001b[0;34m]\u001b[0m\u001b[0;34m\u001b[0m\u001b[0;34m\u001b[0m\u001b[0m\n\u001b[0m\u001b[1;32m     23\u001b[0m     \u001b[0;32mreturn\u001b[0m \u001b[0;34m[\u001b[0m\u001b[0m_\u001b[0m\u001b[0;34m[\u001b[0m\u001b[0;34m:\u001b[0m\u001b[0;34m:\u001b[0m\u001b[0;34m-\u001b[0m\u001b[0;36m1\u001b[0m\u001b[0;34m]\u001b[0m \u001b[0;32mfor\u001b[0m \u001b[0m_\u001b[0m \u001b[0;32min\u001b[0m \u001b[0mtraversed\u001b[0m \u001b[0;32mif\u001b[0m \u001b[0m_\u001b[0m \u001b[0;32mis\u001b[0m \u001b[0;32mnot\u001b[0m \u001b[0;32mNone\u001b[0m\u001b[0;34m]\u001b[0m\u001b[0;34m\u001b[0m\u001b[0;34m\u001b[0m\u001b[0m\n\u001b[1;32m     24\u001b[0m     \u001b[0;31m#return traversed\u001b[0m\u001b[0;34m\u001b[0m\u001b[0;34m\u001b[0m\u001b[0;34m\u001b[0m\u001b[0m\n",
      "\u001b[0;31mTypeError\u001b[0m: can only concatenate list (not \"int\") to list"
     ]
    }
   ],
   "source": [
    "node=5\n",
    "pathToNode(node)"
   ]
  },
  {
   "cell_type": "code",
   "execution_count": 1323,
   "metadata": {},
   "outputs": [
    {
     "ename": "IndexError",
     "evalue": "list index out of range",
     "output_type": "error",
     "traceback": [
      "\u001b[0;31m---------------------------------------------------------------------------\u001b[0m",
      "\u001b[0;31mIndexError\u001b[0m                                Traceback (most recent call last)",
      "\u001b[0;32m<ipython-input-1323-a0fbc3da0d54>\u001b[0m in \u001b[0;36m<module>\u001b[0;34m\u001b[0m\n\u001b[0;32m----> 1\u001b[0;31m \u001b[0;34m[\u001b[0m\u001b[0mpathTrack\u001b[0m\u001b[0;34m(\u001b[0m\u001b[0m_\u001b[0m\u001b[0;34m)\u001b[0m \u001b[0;32mfor\u001b[0m \u001b[0m_\u001b[0m \u001b[0;32min\u001b[0m \u001b[0mparents\u001b[0m\u001b[0;34m[\u001b[0m\u001b[0;36m5\u001b[0m\u001b[0;34m]\u001b[0m\u001b[0;34m]\u001b[0m\u001b[0;34m\u001b[0m\u001b[0;34m\u001b[0m\u001b[0m\n\u001b[0m",
      "\u001b[0;32m<ipython-input-1323-a0fbc3da0d54>\u001b[0m in \u001b[0;36m<listcomp>\u001b[0;34m(.0)\u001b[0m\n\u001b[0;32m----> 1\u001b[0;31m \u001b[0;34m[\u001b[0m\u001b[0mpathTrack\u001b[0m\u001b[0;34m(\u001b[0m\u001b[0m_\u001b[0m\u001b[0;34m)\u001b[0m \u001b[0;32mfor\u001b[0m \u001b[0m_\u001b[0m \u001b[0;32min\u001b[0m \u001b[0mparents\u001b[0m\u001b[0;34m[\u001b[0m\u001b[0;36m5\u001b[0m\u001b[0;34m]\u001b[0m\u001b[0;34m]\u001b[0m\u001b[0;34m\u001b[0m\u001b[0;34m\u001b[0m\u001b[0m\n\u001b[0m",
      "\u001b[0;32m<ipython-input-1148-706d789f28f9>\u001b[0m in \u001b[0;36mpathTrack\u001b[0;34m(startNode)\u001b[0m\n\u001b[1;32m      4\u001b[0m     \u001b[0mi\u001b[0m \u001b[0;34m=\u001b[0m \u001b[0;36m0\u001b[0m\u001b[0;34m\u001b[0m\u001b[0;34m\u001b[0m\u001b[0m\n\u001b[1;32m      5\u001b[0m     \u001b[0;32mif\u001b[0m \u001b[0mpaths\u001b[0m\u001b[0;34m.\u001b[0m\u001b[0mget\u001b[0m\u001b[0;34m(\u001b[0m\u001b[0mstartNode\u001b[0m\u001b[0;34m)\u001b[0m \u001b[0;34m==\u001b[0m \u001b[0;32mNone\u001b[0m\u001b[0;34m:\u001b[0m\u001b[0;34m\u001b[0m\u001b[0;34m\u001b[0m\u001b[0m\n\u001b[0;32m----> 6\u001b[0;31m         \u001b[0mtraversed\u001b[0m\u001b[0;34m[\u001b[0m\u001b[0mi\u001b[0m\u001b[0;34m]\u001b[0m\u001b[0;34m.\u001b[0m\u001b[0mappend\u001b[0m\u001b[0;34m(\u001b[0m\u001b[0mstartNode\u001b[0m\u001b[0;34m)\u001b[0m\u001b[0;34m\u001b[0m\u001b[0;34m\u001b[0m\u001b[0m\n\u001b[0m\u001b[1;32m      7\u001b[0m         \u001b[0mi\u001b[0m \u001b[0;34m+=\u001b[0m \u001b[0;36m1\u001b[0m\u001b[0;34m\u001b[0m\u001b[0;34m\u001b[0m\u001b[0m\n\u001b[1;32m      8\u001b[0m     \u001b[0;32melse\u001b[0m\u001b[0;34m:\u001b[0m\u001b[0;34m\u001b[0m\u001b[0;34m\u001b[0m\u001b[0m\n",
      "\u001b[0;31mIndexError\u001b[0m: list index out of range"
     ]
    }
   ],
   "source": [
    "[pathTrack(_) for _ in parents[5]]\n"
   ]
  },
  {
   "cell_type": "code",
   "execution_count": null,
   "metadata": {},
   "outputs": [],
   "source": []
  },
  {
   "cell_type": "code",
   "execution_count": null,
   "metadata": {},
   "outputs": [],
   "source": []
  },
  {
   "cell_type": "code",
   "execution_count": null,
   "metadata": {},
   "outputs": [],
   "source": []
  },
  {
   "cell_type": "code",
   "execution_count": 1255,
   "metadata": {},
   "outputs": [
    {
     "name": "stdout",
     "output_type": "stream",
     "text": [
      "[1] pth [5, 2]\n",
      "[1] pth [5, 3]\n",
      "[1, 3] pth [5, 6]\n"
     ]
    },
    {
     "data": {
      "text/plain": [
       "[[1, 2, 5], [1, 3, 5], [3, 1, 6, 5], [7, 5]]"
      ]
     },
     "execution_count": 1255,
     "metadata": {},
     "output_type": "execute_result"
    }
   ],
   "source": [
    "pathTrack3(5)"
   ]
  },
  {
   "cell_type": "code",
   "execution_count": 1186,
   "metadata": {},
   "outputs": [
    {
     "data": {
      "text/plain": [
       "[[1, 2, 5], [1, 3, 5], [3, 1, 6, 5], [7, 5]]"
      ]
     },
     "execution_count": 1186,
     "metadata": {},
     "output_type": "execute_result"
    }
   ],
   "source": [
    "pathTrack(5)"
   ]
  },
  {
   "cell_type": "code",
   "execution_count": 1181,
   "metadata": {},
   "outputs": [
    {
     "data": {
      "text/plain": [
       "{2: 5, 3: 5, 6: 5, 7: 5}"
      ]
     },
     "execution_count": 1181,
     "metadata": {},
     "output_type": "execute_result"
    }
   ],
   "source": [
    "paths.get(5)"
   ]
  },
  {
   "cell_type": "code",
   "execution_count": 1161,
   "metadata": {},
   "outputs": [
    {
     "data": {
      "text/plain": [
       "{2: 5, 3: 5, 6: 5, 7: 5}"
      ]
     },
     "execution_count": 1161,
     "metadata": {},
     "output_type": "execute_result"
    }
   ],
   "source": [
    "paths.get(5)"
   ]
  },
  {
   "cell_type": "code",
   "execution_count": 1162,
   "metadata": {},
   "outputs": [
    {
     "data": {
      "text/plain": [
       "[2, 3, 6, 7]"
      ]
     },
     "execution_count": 1162,
     "metadata": {},
     "output_type": "execute_result"
    }
   ],
   "source": [
    "parents[5]"
   ]
  },
  {
   "cell_type": "code",
   "execution_count": null,
   "metadata": {},
   "outputs": [],
   "source": []
  },
  {
   "cell_type": "code",
   "execution_count": 959,
   "metadata": {},
   "outputs": [
    {
     "name": "stdout",
     "output_type": "stream",
     "text": [
      "2 [[1, 2]]\n",
      "3 [[1, 3]]\n",
      "6 [[1, 6], [1, 3, 6]]\n",
      "7 []\n"
     ]
    }
   ],
   "source": [
    "print(_,pathTrack(_)) for _ in parents[anchor]:\n",
    "    "
   ]
  },
  {
   "cell_type": "code",
   "execution_count": 776,
   "metadata": {},
   "outputs": [
    {
     "data": {
      "text/plain": [
       "[1]"
      ]
     },
     "execution_count": 776,
     "metadata": {},
     "output_type": "execute_result"
    }
   ],
   "source": [
    "parents[3]"
   ]
  },
  {
   "cell_type": "code",
   "execution_count": 1241,
   "metadata": {},
   "outputs": [
    {
     "data": {
      "text/plain": [
       "[]"
      ]
     },
     "execution_count": 1241,
     "metadata": {},
     "output_type": "execute_result"
    }
   ],
   "source": []
  },
  {
   "cell_type": "code",
   "execution_count": 1244,
   "metadata": {},
   "outputs": [
    {
     "ename": "TypeError",
     "evalue": "unhashable type: 'list'",
     "output_type": "error",
     "traceback": [
      "\u001b[0;31m---------------------------------------------------------------------------\u001b[0m",
      "\u001b[0;31mTypeError\u001b[0m                                 Traceback (most recent call last)",
      "\u001b[0;32m<ipython-input-1244-7091dbf7f2d0>\u001b[0m in \u001b[0;36m<module>\u001b[0;34m\u001b[0m\n\u001b[1;32m      6\u001b[0m     \u001b[0mvisited\u001b[0m \u001b[0;34m=\u001b[0m \u001b[0;34m[\u001b[0m\u001b[0;34m]\u001b[0m\u001b[0;34m\u001b[0m\u001b[0;34m\u001b[0m\u001b[0m\n\u001b[1;32m      7\u001b[0m     \u001b[0;32mwhile\u001b[0m \u001b[0mparents\u001b[0m\u001b[0;34m.\u001b[0m\u001b[0mget\u001b[0m\u001b[0;34m(\u001b[0m\u001b[0mk\u001b[0m\u001b[0;34m)\u001b[0m \u001b[0;32mis\u001b[0m \u001b[0;32mnot\u001b[0m \u001b[0;32mNone\u001b[0m\u001b[0;34m:\u001b[0m\u001b[0;34m\u001b[0m\u001b[0;34m\u001b[0m\u001b[0m\n\u001b[0;32m----> 8\u001b[0;31m         \u001b[0mtraversed\u001b[0m\u001b[0;34m[\u001b[0m\u001b[0mi\u001b[0m\u001b[0;34m]\u001b[0m \u001b[0;34m=\u001b[0m \u001b[0mtraversed\u001b[0m\u001b[0;34m[\u001b[0m\u001b[0mi\u001b[0m\u001b[0;34m]\u001b[0m \u001b[0;34m+\u001b[0m \u001b[0mpathTrack3\u001b[0m\u001b[0;34m(\u001b[0m\u001b[0mparents\u001b[0m\u001b[0;34m[\u001b[0m\u001b[0mk\u001b[0m\u001b[0;34m]\u001b[0m\u001b[0;34m)\u001b[0m\u001b[0;34m\u001b[0m\u001b[0;34m\u001b[0m\u001b[0m\n\u001b[0m\u001b[1;32m      9\u001b[0m         \u001b[0mk\u001b[0m \u001b[0;34m=\u001b[0m \u001b[0mtuple\u001b[0m\u001b[0;34m(\u001b[0m\u001b[0mparents\u001b[0m\u001b[0;34m[\u001b[0m\u001b[0mk\u001b[0m\u001b[0;34m]\u001b[0m\u001b[0;34m)\u001b[0m\u001b[0;34m\u001b[0m\u001b[0;34m\u001b[0m\u001b[0m\n\u001b[1;32m     10\u001b[0m     \u001b[0mi\u001b[0m \u001b[0;34m+=\u001b[0m \u001b[0;36m1\u001b[0m\u001b[0;34m\u001b[0m\u001b[0;34m\u001b[0m\u001b[0m\n",
      "\u001b[0;32m<ipython-input-1226-bc3b49361b39>\u001b[0m in \u001b[0;36mpathTrack3\u001b[0;34m(startNode)\u001b[0m\n\u001b[1;32m      6\u001b[0m     \u001b[0;31m#print(print(traversed))\u001b[0m\u001b[0;34m\u001b[0m\u001b[0;34m\u001b[0m\u001b[0;34m\u001b[0m\u001b[0m\n\u001b[1;32m      7\u001b[0m     \u001b[0mi\u001b[0m \u001b[0;34m=\u001b[0m \u001b[0;36m0\u001b[0m \u001b[0;31m#Start a counter to add paths as necessary\u001b[0m\u001b[0;34m\u001b[0m\u001b[0;34m\u001b[0m\u001b[0m\n\u001b[0;32m----> 8\u001b[0;31m     \u001b[0;32mif\u001b[0m \u001b[0mpaths\u001b[0m\u001b[0;34m.\u001b[0m\u001b[0mget\u001b[0m\u001b[0;34m(\u001b[0m\u001b[0mstartNode\u001b[0m\u001b[0;34m)\u001b[0m \u001b[0;34m==\u001b[0m \u001b[0;32mNone\u001b[0m\u001b[0;34m:\u001b[0m \u001b[0;31m# Check if the node has parents. If not, there is no path, leave as is.\u001b[0m\u001b[0;34m\u001b[0m\u001b[0;34m\u001b[0m\u001b[0m\n\u001b[0m\u001b[1;32m      9\u001b[0m         \u001b[0;31m#print(startNode) # For debugging\u001b[0m\u001b[0;34m\u001b[0m\u001b[0;34m\u001b[0m\u001b[0;34m\u001b[0m\u001b[0m\n\u001b[1;32m     10\u001b[0m         \u001b[0mtraversed\u001b[0m\u001b[0;34m.\u001b[0m\u001b[0mappend\u001b[0m\u001b[0;34m(\u001b[0m\u001b[0;34m[\u001b[0m\u001b[0mstartNode\u001b[0m\u001b[0;34m]\u001b[0m\u001b[0;34m)\u001b[0m \u001b[0;31m#Add the parent node.\u001b[0m\u001b[0;34m\u001b[0m\u001b[0;34m\u001b[0m\u001b[0m\n",
      "\u001b[0;31mTypeError\u001b[0m: unhashable type: 'list'"
     ]
    }
   ],
   "source": [
    "traversed = []\n",
    "#print(print(traversed))\n",
    "i = 0\n",
    "for k,node in list(paths[5].items()):\n",
    "    traversed.append([node,k])\n",
    "    visited = []\n",
    "    while parents.get(k) is not None:\n",
    "        traversed[i] = traversed[i] + pathparents[k]\n",
    "        k = tuple(parents[k])\n",
    "    i += 1\n",
    "\n",
    "traversed"
   ]
  },
  {
   "cell_type": "code",
   "execution_count": 793,
   "metadata": {},
   "outputs": [
    {
     "data": {
      "text/plain": [
       "[1]"
      ]
     },
     "execution_count": 793,
     "metadata": {},
     "output_type": "execute_result"
    }
   ],
   "source": [
    "parents[2]"
   ]
  },
  {
   "cell_type": "code",
   "execution_count": 1146,
   "metadata": {
    "ExecuteTime": {
     "end_time": "2020-09-27T02:20:51.434331Z",
     "start_time": "2020-09-27T02:20:51.423521Z"
    }
   },
   "outputs": [
    {
     "name": "stdout",
     "output_type": "stream",
     "text": [
      "set() 2\n",
      "[1]\n"
     ]
    },
    {
     "ename": "TypeError",
     "evalue": "unhashable type: 'list'",
     "output_type": "error",
     "traceback": [
      "\u001b[0;31m---------------------------------------------------------------------------\u001b[0m",
      "\u001b[0;31mTypeError\u001b[0m                                 Traceback (most recent call last)",
      "\u001b[0;32m<ipython-input-1146-e129c090b7ff>\u001b[0m in \u001b[0;36m<module>\u001b[0;34m\u001b[0m\n\u001b[1;32m      4\u001b[0m     \u001b[0;32mif\u001b[0m \u001b[0mnode\u001b[0m \u001b[0;32mnot\u001b[0m \u001b[0;32min\u001b[0m \u001b[0mvisited\u001b[0m\u001b[0;34m:\u001b[0m\u001b[0;34m\u001b[0m\u001b[0;34m\u001b[0m\u001b[0m\n\u001b[1;32m      5\u001b[0m         \u001b[0mprint\u001b[0m\u001b[0;34m(\u001b[0m\u001b[0mparents\u001b[0m\u001b[0;34m[\u001b[0m\u001b[0mnode\u001b[0m\u001b[0;34m]\u001b[0m\u001b[0;34m)\u001b[0m\u001b[0;34m\u001b[0m\u001b[0;34m\u001b[0m\u001b[0m\n\u001b[0;32m----> 6\u001b[0;31m     \u001b[0mvisited\u001b[0m\u001b[0;34m.\u001b[0m\u001b[0madd\u001b[0m\u001b[0;34m(\u001b[0m\u001b[0mparents\u001b[0m\u001b[0;34m[\u001b[0m\u001b[0mnode\u001b[0m\u001b[0;34m]\u001b[0m\u001b[0;34m)\u001b[0m\u001b[0;34m\u001b[0m\u001b[0;34m\u001b[0m\u001b[0m\n\u001b[0m\u001b[1;32m      7\u001b[0m \u001b[0mvisited\u001b[0m\u001b[0;34m\u001b[0m\u001b[0;34m\u001b[0m\u001b[0m\n",
      "\u001b[0;31mTypeError\u001b[0m: unhashable type: 'list'"
     ]
    }
   ],
   "source": [
    "visited = set()\n",
    "for node in parents[5]:\n",
    "    print(visited, node)\n",
    "    if node not in visited:\n",
    "        print(parents[node])\n",
    "    visited.add(parents[node])\n",
    "visited"
   ]
  },
  {
   "cell_type": "code",
   "execution_count": 1145,
   "metadata": {},
   "outputs": [
    {
     "name": "stdout",
     "output_type": "stream",
     "text": [
      "2\n"
     ]
    },
    {
     "ename": "KeyboardInterrupt",
     "evalue": "",
     "output_type": "error",
     "traceback": [
      "\u001b[0;31m---------------------------------------------------------------------------\u001b[0m",
      "\u001b[0;31mKeyboardInterrupt\u001b[0m                         Traceback (most recent call last)",
      "\u001b[0;32m<ipython-input-1145-8a24a45b62f6>\u001b[0m in \u001b[0;36m<module>\u001b[0;34m\u001b[0m\n\u001b[1;32m      5\u001b[0m     \u001b[0mvisited\u001b[0m \u001b[0;34m=\u001b[0m \u001b[0mGraph\u001b[0m\u001b[0;34m.\u001b[0m\u001b[0mcopy\u001b[0m\u001b[0;34m(\u001b[0m\u001b[0;34m)\u001b[0m\u001b[0;34m\u001b[0m\u001b[0;34m\u001b[0m\u001b[0m\n\u001b[1;32m      6\u001b[0m     \u001b[0;32mwhile\u001b[0m \u001b[0mlen\u001b[0m\u001b[0;34m(\u001b[0m\u001b[0mvisited\u001b[0m\u001b[0;34m)\u001b[0m \u001b[0;34m>\u001b[0m \u001b[0;36m0\u001b[0m\u001b[0;34m:\u001b[0m\u001b[0;34m\u001b[0m\u001b[0;34m\u001b[0m\u001b[0m\n\u001b[0;32m----> 7\u001b[0;31m         \u001b[0;32mif\u001b[0m \u001b[0meach\u001b[0m\u001b[0;34m[\u001b[0m\u001b[0;36m1\u001b[0m\u001b[0;34m]\u001b[0m\u001b[0;34m==\u001b[0m\u001b[0manchor\u001b[0m \u001b[0;32mand\u001b[0m \u001b[0meach\u001b[0m\u001b[0;34m[\u001b[0m\u001b[0;36m2\u001b[0m\u001b[0;34m]\u001b[0m\u001b[0;34m==\u001b[0m\u001b[0mnode\u001b[0m\u001b[0;34m:\u001b[0m\u001b[0;34m\u001b[0m\u001b[0;34m\u001b[0m\u001b[0m\n\u001b[0m\u001b[1;32m      8\u001b[0m             \u001b[0mpath\u001b[0m\u001b[0;34m.\u001b[0m\u001b[0mappend\u001b[0m\u001b[0;34m(\u001b[0m\u001b[0meach\u001b[0m\u001b[0;34m[\u001b[0m\u001b[0;36m1\u001b[0m\u001b[0;34m]\u001b[0m\u001b[0;34m)\u001b[0m\u001b[0;34m\u001b[0m\u001b[0;34m\u001b[0m\u001b[0m\n",
      "\u001b[0;31mKeyboardInterrupt\u001b[0m: "
     ]
    }
   ],
   "source": [
    "anchor = 5\n",
    "for node in parents[anchor]:\n",
    "    print(node)\n",
    "    path = [anchor]\n",
    "    visited = Graph.copy()\n",
    "    while len(visited) > 0:\n",
    "        if each[1]==anchor and each[2]==node:\n",
    "            path.append(each[1])"
   ]
  },
  {
   "cell_type": "code",
   "execution_count": 834,
   "metadata": {},
   "outputs": [
    {
     "data": {
      "text/plain": [
       "[(1, 2, 2),\n",
       " (1, 3, 0),\n",
       " (1, 6, 8),\n",
       " (2, 4, 3),\n",
       " (2, 5, 12),\n",
       " (3, 5, 3),\n",
       " (3, 6, 6),\n",
       " (6, 5, 1),\n",
       " (7, 5, 16)]"
      ]
     },
     "execution_count": 834,
     "metadata": {},
     "output_type": "execute_result"
    }
   ],
   "source": []
  },
  {
   "cell_type": "code",
   "execution_count": 1238,
   "metadata": {},
   "outputs": [
    {
     "data": {
      "text/plain": [
       "[2, 3, 6, 7]"
      ]
     },
     "execution_count": 1238,
     "metadata": {},
     "output_type": "execute_result"
    }
   ],
   "source": [
    "parents[5]"
   ]
  },
  {
   "cell_type": "code",
   "execution_count": 1144,
   "metadata": {},
   "outputs": [
    {
     "data": {
      "text/plain": [
       "[[5, 2, 1], [5, 3, 1], [5, 6, 1, 3]]"
      ]
     },
     "execution_count": 1144,
     "metadata": {},
     "output_type": "execute_result"
    }
   ],
   "source": [
    "def pths(anchor):\n",
    "    return [[anchor,each] + parents[each] for each in parents[anchor] if parents[each] is not None]\n",
    "anchor=5\n",
    "pths(anchor)"
   ]
  },
  {
   "cell_type": "code",
   "execution_count": 1239,
   "metadata": {},
   "outputs": [
    {
     "data": {
      "text/plain": [
       "{2: ([1], []),\n",
       " 3: ([1], []),\n",
       " 4: ([2], [[4, 2, 1]]),\n",
       " 5: ([2, 3, 6, 7], [[5, 2, 1], [5, 3, 1], [5, 6, 1, 3]]),\n",
       " 6: ([1, 3], [[6, 3, 1]])}"
      ]
     },
     "execution_count": 1239,
     "metadata": {},
     "output_type": "execute_result"
    }
   ],
   "source": [
    "PosPaths = {k:(v,pths(k)) for k,v in parents.items() if v is not None}   \n",
    "PosPaths"
   ]
  },
  {
   "cell_type": "code",
   "execution_count": 938,
   "metadata": {},
   "outputs": [
    {
     "name": "stdout",
     "output_type": "stream",
     "text": [
      "2 [1]\n",
      "3 [1]\n",
      "6 [1, 3]\n",
      "7 None\n"
     ]
    }
   ],
   "source": [
    "for _ in parents[5]:\n",
    "    print(_,parents[_])"
   ]
  },
  {
   "cell_type": "code",
   "execution_count": 952,
   "metadata": {},
   "outputs": [
    {
     "data": {
      "text/plain": [
       "[2, 3, 6, 7]"
      ]
     },
     "execution_count": 952,
     "metadata": {},
     "output_type": "execute_result"
    }
   ],
   "source": [
    "anchor=5\n",
    "for _ in parents[anchor]:\n",
    "    "
   ]
  },
  {
   "cell_type": "code",
   "execution_count": 955,
   "metadata": {},
   "outputs": [
    {
     "name": "stdout",
     "output_type": "stream",
     "text": [
      "2 [[1, 2]]\n",
      "3 [[1, 3]]\n",
      "6 [[1, 6], [1, 3, 6]]\n",
      "7 []\n"
     ]
    }
   ],
   "source": []
  },
  {
   "cell_type": "code",
   "execution_count": null,
   "metadata": {},
   "outputs": [],
   "source": []
  }
 ],
 "metadata": {
  "kernelspec": {
   "display_name": "Python 3",
   "language": "python",
   "name": "python3"
  },
  "language_info": {
   "codemirror_mode": {
    "name": "ipython",
    "version": 3
   },
   "file_extension": ".py",
   "mimetype": "text/x-python",
   "name": "python",
   "nbconvert_exporter": "python",
   "pygments_lexer": "ipython3",
   "version": "3.7.6"
  },
  "varInspector": {
   "cols": {
    "lenName": 16,
    "lenType": 16,
    "lenVar": 40
   },
   "kernels_config": {
    "python": {
     "delete_cmd_postfix": "",
     "delete_cmd_prefix": "del ",
     "library": "var_list.py",
     "varRefreshCmd": "print(var_dic_list())"
    },
    "r": {
     "delete_cmd_postfix": ") ",
     "delete_cmd_prefix": "rm(",
     "library": "var_list.r",
     "varRefreshCmd": "cat(var_dic_list()) "
    }
   },
   "types_to_exclude": [
    "module",
    "function",
    "builtin_function_or_method",
    "instance",
    "_Feature"
   ],
   "window_display": false
  }
 },
 "nbformat": 4,
 "nbformat_minor": 4
}
