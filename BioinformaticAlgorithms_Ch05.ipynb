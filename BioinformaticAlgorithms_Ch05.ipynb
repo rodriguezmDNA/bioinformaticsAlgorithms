{
 "cells": [
  {
   "cell_type": "markdown",
   "metadata": {},
   "source": [
    "# Bioinformatic Algorithms Chapter 5 - Alignment"
   ]
  },
  {
   "cell_type": "markdown",
   "metadata": {},
   "source": [
    "---\n",
    "\n",
    "### BA5A Find the Minimum Number of Coins Needed to Make Change\n",
    "http://rosalind.info/problems/ba5a/\n",
    "\n",
    "**The Change Problem** <br>\n",
    "_Find the minimum number of coins needed to make change._ <br>\n",
    "\n",
    "Given: An integer money and an array Coins of positive integers. <br>\n",
    "Return: The minimum number of coins with denominations Coins that changes money <br>"
   ]
  },
  {
   "cell_type": "code",
   "execution_count": 2,
   "metadata": {
    "ExecuteTime": {
     "end_time": "2020-09-21T18:33:41.449075Z",
     "start_time": "2020-09-21T18:33:41.443547Z"
    }
   },
   "outputs": [],
   "source": []
  },
  {
   "cell_type": "code",
   "execution_count": 32,
   "metadata": {
    "ExecuteTime": {
     "end_time": "2020-09-21T18:43:27.964754Z",
     "start_time": "2020-09-21T18:43:27.942121Z"
    }
   },
   "outputs": [],
   "source": [
    "# Get the smaller number of coins from array{denominations} that sum to int{money}\n",
    "\n",
    "### Greedy approach\n",
    "####\n",
    "\n",
    "### Order reverse\n",
    "\n",
    "def greedyChange(money,coins):\n",
    "    coins.sort(reverse=True)\n",
    "    remain = money\n",
    "    change = []\n",
    "    while remain > 0:\n",
    "        coin = [_ for _ in coins if _ <= remain] [0]\n",
    "        remain -= coin\n",
    "        change.append(coin)\n",
    "    return change, remain\n",
    "\n"
   ]
  },
  {
   "cell_type": "code",
   "execution_count": 33,
   "metadata": {
    "ExecuteTime": {
     "end_time": "2020-09-21T18:43:28.282567Z",
     "start_time": "2020-09-21T18:43:28.274230Z"
    }
   },
   "outputs": [
    {
     "data": {
      "text/plain": [
       "([25, 10, 5], 0)"
      ]
     },
     "execution_count": 33,
     "metadata": {},
     "output_type": "execute_result"
    }
   ],
   "source": [
    "money=40\n",
    "denominations=[1,5,10,20,25,50]\n",
    "greedyChange(money,denominations)"
   ]
  },
  {
   "cell_type": "code",
   "execution_count": 34,
   "metadata": {
    "ExecuteTime": {
     "end_time": "2020-09-21T18:43:28.954629Z",
     "start_time": "2020-09-21T18:43:28.941104Z"
    }
   },
   "outputs": [
    {
     "data": {
      "text/plain": [
       "([40, 5, 1, 1, 1], 0)"
      ]
     },
     "execution_count": 34,
     "metadata": {},
     "output_type": "execute_result"
    }
   ],
   "source": [
    "money=48\n",
    "denominations=[120,40,30,24,20,10,5,4,1]\n",
    "greedyChange(money,denominations)\n",
    "## not optimal since we can use change=[24,24]"
   ]
  },
  {
   "cell_type": "code",
   "execution_count": 61,
   "metadata": {
    "ExecuteTime": {
     "end_time": "2020-09-21T18:49:50.342101Z",
     "start_time": "2020-09-21T18:49:50.328585Z"
    }
   },
   "outputs": [
    {
     "data": {
      "text/plain": [
       "([40, 30, 5, 1], 0)"
      ]
     },
     "execution_count": 61,
     "metadata": {},
     "output_type": "execute_result"
    }
   ],
   "source": [
    "greedyChange(76,denominations)"
   ]
  },
  {
   "cell_type": "code",
   "execution_count": 117,
   "metadata": {
    "ExecuteTime": {
     "end_time": "2020-09-21T18:59:11.954013Z",
     "start_time": "2020-09-21T18:59:11.942718Z"
    }
   },
   "outputs": [],
   "source": [
    "def recursiveChange(money,denominations):\n",
    "    if money == 0: return 0\n",
    "    else:\n",
    "        minNumCoins = np.inf\n",
    "        totNumCoins = {}\n",
    "        for i in range(0,len(denominations)):\n",
    "            coin = denominations[i]\n",
    "            if money >= coin:\n",
    "                numCoins = recursiveChange(money-coin,denominations)\n",
    "                if numCoins + 1 < minNumCoins:\n",
    "                    minNumCoins = numCoins + 1\n",
    "    return minNumCoins"
   ]
  },
  {
   "cell_type": "code",
   "execution_count": 118,
   "metadata": {
    "ExecuteTime": {
     "end_time": "2020-09-21T18:59:12.218598Z",
     "start_time": "2020-09-21T18:59:12.193860Z"
    }
   },
   "outputs": [
    {
     "data": {
      "text/plain": [
       "3"
      ]
     },
     "execution_count": 118,
     "metadata": {},
     "output_type": "execute_result"
    }
   ],
   "source": [
    "recursiveChange(7,[5,4,1])"
   ]
  },
  {
   "cell_type": "code",
   "execution_count": 161,
   "metadata": {
    "ExecuteTime": {
     "end_time": "2020-09-21T19:15:11.008641Z",
     "start_time": "2020-09-21T19:15:10.993985Z"
    }
   },
   "outputs": [],
   "source": [
    "import pandas as pd\n",
    "def dynprogChange(money,denominations):\n",
    "    minNumCoins = [0]\n",
    "    for m in range(0,money+1):\n",
    "        minNumCoins.append(np.inf)\n",
    "        for i in range(0,len(denominations)):\n",
    "            coin = denominations[i]\n",
    "            if m >= coin:\n",
    "                if (minNumCoins[m-coin] + 1) < minNumCoins[m]:\n",
    "                    minNumCoins[m] = minNumCoins[m-coin] + 1\n",
    "    res = minNumCoins[0:len(minNumCoins)-1]\n",
    "    return pd.DataFrame(res).T"
   ]
  },
  {
   "cell_type": "code",
   "execution_count": 163,
   "metadata": {
    "ExecuteTime": {
     "end_time": "2020-09-21T19:15:13.695172Z",
     "start_time": "2020-09-21T19:15:13.670501Z"
    }
   },
   "outputs": [
    {
     "data": {
      "text/html": [
       "<div>\n",
       "<style scoped>\n",
       "    .dataframe tbody tr th:only-of-type {\n",
       "        vertical-align: middle;\n",
       "    }\n",
       "\n",
       "    .dataframe tbody tr th {\n",
       "        vertical-align: top;\n",
       "    }\n",
       "\n",
       "    .dataframe thead th {\n",
       "        text-align: right;\n",
       "    }\n",
       "</style>\n",
       "<table border=\"1\" class=\"dataframe\">\n",
       "  <thead>\n",
       "    <tr style=\"text-align: right;\">\n",
       "      <th></th>\n",
       "      <th>0</th>\n",
       "      <th>1</th>\n",
       "      <th>2</th>\n",
       "      <th>3</th>\n",
       "      <th>4</th>\n",
       "      <th>5</th>\n",
       "      <th>6</th>\n",
       "      <th>7</th>\n",
       "      <th>8</th>\n",
       "      <th>9</th>\n",
       "      <th>10</th>\n",
       "      <th>11</th>\n",
       "      <th>12</th>\n",
       "    </tr>\n",
       "  </thead>\n",
       "  <tbody>\n",
       "    <tr>\n",
       "      <th>0</th>\n",
       "      <td>0</td>\n",
       "      <td>1</td>\n",
       "      <td>2</td>\n",
       "      <td>3</td>\n",
       "      <td>1</td>\n",
       "      <td>1</td>\n",
       "      <td>2</td>\n",
       "      <td>3</td>\n",
       "      <td>2</td>\n",
       "      <td>2</td>\n",
       "      <td>2</td>\n",
       "      <td>3</td>\n",
       "      <td>3</td>\n",
       "    </tr>\n",
       "  </tbody>\n",
       "</table>\n",
       "</div>"
      ],
      "text/plain": [
       "   0  1  2  3  4  5  6  7  8  9  10  11  12\n",
       "0  0  1  2  3  1  1  2  3  2  2   2   3   3"
      ]
     },
     "execution_count": 163,
     "metadata": {},
     "output_type": "execute_result"
    }
   ],
   "source": [
    "res = dynprogChange(12,[5,4,1])\n",
    "res"
   ]
  },
  {
   "cell_type": "code",
   "execution_count": 166,
   "metadata": {
    "ExecuteTime": {
     "end_time": "2020-09-21T19:16:53.653524Z",
     "start_time": "2020-09-21T19:16:53.580799Z"
    }
   },
   "outputs": [
    {
     "data": {
      "text/html": [
       "<div>\n",
       "<style scoped>\n",
       "    .dataframe tbody tr th:only-of-type {\n",
       "        vertical-align: middle;\n",
       "    }\n",
       "\n",
       "    .dataframe tbody tr th {\n",
       "        vertical-align: top;\n",
       "    }\n",
       "\n",
       "    .dataframe thead th {\n",
       "        text-align: right;\n",
       "    }\n",
       "</style>\n",
       "<table border=\"1\" class=\"dataframe\">\n",
       "  <thead>\n",
       "    <tr style=\"text-align: right;\">\n",
       "      <th></th>\n",
       "      <th>40</th>\n",
       "    </tr>\n",
       "  </thead>\n",
       "  <tbody>\n",
       "    <tr>\n",
       "      <th>0</th>\n",
       "      <td>2</td>\n",
       "    </tr>\n",
       "  </tbody>\n",
       "</table>\n",
       "</div>"
      ],
      "text/plain": [
       "   40\n",
       "0   2"
      ]
     },
     "execution_count": 166,
     "metadata": {},
     "output_type": "execute_result"
    }
   ],
   "source": [
    "m=40\n",
    "d=1,5,10,20,25,50\n",
    "dynprogChange(m,d)[[m]]"
   ]
  },
  {
   "cell_type": "code",
   "execution_count": 167,
   "metadata": {
    "ExecuteTime": {
     "end_time": "2020-09-21T19:17:25.876752Z",
     "start_time": "2020-09-21T19:17:25.786958Z"
    }
   },
   "outputs": [
    {
     "data": {
      "text/html": [
       "<div>\n",
       "<style scoped>\n",
       "    .dataframe tbody tr th:only-of-type {\n",
       "        vertical-align: middle;\n",
       "    }\n",
       "\n",
       "    .dataframe tbody tr th {\n",
       "        vertical-align: top;\n",
       "    }\n",
       "\n",
       "    .dataframe thead th {\n",
       "        text-align: right;\n",
       "    }\n",
       "</style>\n",
       "<table border=\"1\" class=\"dataframe\">\n",
       "  <thead>\n",
       "    <tr style=\"text-align: right;\">\n",
       "      <th></th>\n",
       "      <th>8074</th>\n",
       "    </tr>\n",
       "  </thead>\n",
       "  <tbody>\n",
       "    <tr>\n",
       "      <th>0</th>\n",
       "      <td>338</td>\n",
       "    </tr>\n",
       "  </tbody>\n",
       "</table>\n",
       "</div>"
      ],
      "text/plain": [
       "   8074\n",
       "0   338"
      ]
     },
     "execution_count": 167,
     "metadata": {},
     "output_type": "execute_result"
    }
   ],
   "source": [
    "#http://bioinformaticsalgorithms.com/data/extradatasets/alignment/change_problem.txt\n",
    "m=8074\n",
    "d=[24,13,12,7,5,3,1]\n",
    "#338\n",
    "dynprogChange(m,d)[[m]]"
   ]
  },
  {
   "cell_type": "code",
   "execution_count": 168,
   "metadata": {
    "ExecuteTime": {
     "end_time": "2020-09-21T19:18:02.195600Z",
     "start_time": "2020-09-21T19:18:02.081082Z"
    }
   },
   "outputs": [
    {
     "data": {
      "text/html": [
       "<div>\n",
       "<style scoped>\n",
       "    .dataframe tbody tr th:only-of-type {\n",
       "        vertical-align: middle;\n",
       "    }\n",
       "\n",
       "    .dataframe tbody tr th {\n",
       "        vertical-align: top;\n",
       "    }\n",
       "\n",
       "    .dataframe thead th {\n",
       "        text-align: right;\n",
       "    }\n",
       "</style>\n",
       "<table border=\"1\" class=\"dataframe\">\n",
       "  <thead>\n",
       "    <tr style=\"text-align: right;\">\n",
       "      <th></th>\n",
       "      <th>18667</th>\n",
       "    </tr>\n",
       "  </thead>\n",
       "  <tbody>\n",
       "    <tr>\n",
       "      <th>0</th>\n",
       "      <td>985</td>\n",
       "    </tr>\n",
       "  </tbody>\n",
       "</table>\n",
       "</div>"
      ],
      "text/plain": [
       "   18667\n",
       "0    985"
      ]
     },
     "execution_count": 168,
     "metadata": {},
     "output_type": "execute_result"
    }
   ],
   "source": [
    "#http://bioinformaticsalgorithms.com/data/extradatasets/alignment/change_problem.txt\n",
    "m=18667\n",
    "d=[1,3,5,19]\n",
    "dynprogChange(m,d)[[m]]"
   ]
  },
  {
   "cell_type": "markdown",
   "metadata": {},
   "source": [
    "---\n",
    "\n",
    "### BA5B Find the Length of a Longest Path in a Manhattan-like Grid\n",
    "http://rosalind.info/problems/ba5b/\n",
    "\n",
    "\n",
    "**Length of a Longest Path in the Manhattan Tourist Problem** <br>\n",
    "\n",
    "\n",
    "_Find the length of a longest path in a rectangular city._ <br>\n",
    "\n",
    "\n",
    "Given: Integers n and m, followed by an n × (m+1) matrix Down and an (n+1) × m matrix Right. The two matrices are separated by the \"-\" symbol. <br>\n",
    "Return: The length of a longest path from source (0, 0) to sink (n, m) in the n × m rectangular grid whose edges are defined by the matrices Down and Right. <br>"
   ]
  },
  {
   "cell_type": "code",
   "execution_count": 84,
   "metadata": {
    "ExecuteTime": {
     "end_time": "2020-09-22T19:54:30.674363Z",
     "start_time": "2020-09-22T19:54:30.655618Z"
    }
   },
   "outputs": [],
   "source": [
    "import pandas as pd\n",
    "def manhTourist(n,m,Down,Right):\n",
    "    s = pd.DataFrame(-np.inf,index=range(0,n+1),columns=range(0,m+1))\n",
    "    s[0][0] = 0\n",
    "    ## Fill first column first\n",
    "    for i in range(1,n+1):\n",
    "        s[0][i] = s[0][i-1] + Down[0][i-1]\n",
    "    for j in range(1,m+1):\n",
    "        s[j][0] = s[j-1][0] + Right[j-1][0]\n",
    "    for i in range(1,n+1):\n",
    "        for j in range(1,m+1):\n",
    "            d = s[j][i-1] + Down[j][i-1]\n",
    "            r = s[j-1][i] + Right[j-1][i]\n",
    "            s[j][i] = max(d,r)\n",
    "    return s[m][n]"
   ]
  },
  {
   "cell_type": "markdown",
   "metadata": {
    "cell_style": "split"
   },
   "source": [
    "1 0 2 4 3\n",
    "4 6 5 2 1\n",
    "4 4 5 2 1\n",
    "5 6 8 5 3"
   ]
  },
  {
   "cell_type": "markdown",
   "metadata": {
    "cell_style": "split"
   },
   "source": [
    "3 2 4 0\n",
    "3 2 4 2\n",
    "0 7 3 3\n",
    "3 3 0 2\n",
    "1 3 2 2"
   ]
  },
  {
   "cell_type": "code",
   "execution_count": 6,
   "metadata": {
    "ExecuteTime": {
     "end_time": "2020-09-22T17:27:04.894925Z",
     "start_time": "2020-09-22T17:27:04.721384Z"
    },
    "cell_style": "split"
   },
   "outputs": [
    {
     "data": {
      "text/html": [
       "<div>\n",
       "<style scoped>\n",
       "    .dataframe tbody tr th:only-of-type {\n",
       "        vertical-align: middle;\n",
       "    }\n",
       "\n",
       "    .dataframe tbody tr th {\n",
       "        vertical-align: top;\n",
       "    }\n",
       "\n",
       "    .dataframe thead th {\n",
       "        text-align: right;\n",
       "    }\n",
       "</style>\n",
       "<table border=\"1\" class=\"dataframe\">\n",
       "  <thead>\n",
       "    <tr style=\"text-align: right;\">\n",
       "      <th></th>\n",
       "      <th>0</th>\n",
       "      <th>1</th>\n",
       "      <th>2</th>\n",
       "      <th>3</th>\n",
       "      <th>4</th>\n",
       "    </tr>\n",
       "  </thead>\n",
       "  <tbody>\n",
       "    <tr>\n",
       "      <th>0</th>\n",
       "      <td>1</td>\n",
       "      <td>0</td>\n",
       "      <td>2</td>\n",
       "      <td>4</td>\n",
       "      <td>3</td>\n",
       "    </tr>\n",
       "    <tr>\n",
       "      <th>1</th>\n",
       "      <td>4</td>\n",
       "      <td>6</td>\n",
       "      <td>5</td>\n",
       "      <td>2</td>\n",
       "      <td>1</td>\n",
       "    </tr>\n",
       "    <tr>\n",
       "      <th>2</th>\n",
       "      <td>4</td>\n",
       "      <td>4</td>\n",
       "      <td>5</td>\n",
       "      <td>2</td>\n",
       "      <td>1</td>\n",
       "    </tr>\n",
       "    <tr>\n",
       "      <th>3</th>\n",
       "      <td>5</td>\n",
       "      <td>6</td>\n",
       "      <td>8</td>\n",
       "      <td>5</td>\n",
       "      <td>3</td>\n",
       "    </tr>\n",
       "  </tbody>\n",
       "</table>\n",
       "</div>"
      ],
      "text/plain": [
       "   0  1  2  3  4\n",
       "0  1  0  2  4  3\n",
       "1  4  6  5  2  1\n",
       "2  4  4  5  2  1\n",
       "3  5  6  8  5  3"
      ]
     },
     "execution_count": 6,
     "metadata": {},
     "output_type": "execute_result"
    }
   ],
   "source": [
    "down=pd.read_clipboard(header=None, names=None)\n",
    "down"
   ]
  },
  {
   "cell_type": "code",
   "execution_count": 7,
   "metadata": {
    "ExecuteTime": {
     "end_time": "2020-09-22T17:27:47.166197Z",
     "start_time": "2020-09-22T17:27:47.031045Z"
    },
    "cell_style": "split"
   },
   "outputs": [
    {
     "data": {
      "text/html": [
       "<div>\n",
       "<style scoped>\n",
       "    .dataframe tbody tr th:only-of-type {\n",
       "        vertical-align: middle;\n",
       "    }\n",
       "\n",
       "    .dataframe tbody tr th {\n",
       "        vertical-align: top;\n",
       "    }\n",
       "\n",
       "    .dataframe thead th {\n",
       "        text-align: right;\n",
       "    }\n",
       "</style>\n",
       "<table border=\"1\" class=\"dataframe\">\n",
       "  <thead>\n",
       "    <tr style=\"text-align: right;\">\n",
       "      <th></th>\n",
       "      <th>0</th>\n",
       "      <th>1</th>\n",
       "      <th>2</th>\n",
       "      <th>3</th>\n",
       "    </tr>\n",
       "  </thead>\n",
       "  <tbody>\n",
       "    <tr>\n",
       "      <th>0</th>\n",
       "      <td>3</td>\n",
       "      <td>2</td>\n",
       "      <td>4</td>\n",
       "      <td>0</td>\n",
       "    </tr>\n",
       "    <tr>\n",
       "      <th>1</th>\n",
       "      <td>3</td>\n",
       "      <td>2</td>\n",
       "      <td>4</td>\n",
       "      <td>2</td>\n",
       "    </tr>\n",
       "    <tr>\n",
       "      <th>2</th>\n",
       "      <td>0</td>\n",
       "      <td>7</td>\n",
       "      <td>3</td>\n",
       "      <td>3</td>\n",
       "    </tr>\n",
       "    <tr>\n",
       "      <th>3</th>\n",
       "      <td>3</td>\n",
       "      <td>3</td>\n",
       "      <td>0</td>\n",
       "      <td>2</td>\n",
       "    </tr>\n",
       "    <tr>\n",
       "      <th>4</th>\n",
       "      <td>1</td>\n",
       "      <td>3</td>\n",
       "      <td>2</td>\n",
       "      <td>2</td>\n",
       "    </tr>\n",
       "  </tbody>\n",
       "</table>\n",
       "</div>"
      ],
      "text/plain": [
       "   0  1  2  3\n",
       "0  3  2  4  0\n",
       "1  3  2  4  2\n",
       "2  0  7  3  3\n",
       "3  3  3  0  2\n",
       "4  1  3  2  2"
      ]
     },
     "execution_count": 7,
     "metadata": {},
     "output_type": "execute_result"
    }
   ],
   "source": [
    "right=pd.read_clipboard(header=None, names=None)\n",
    "right"
   ]
  },
  {
   "cell_type": "code",
   "execution_count": 30,
   "metadata": {
    "ExecuteTime": {
     "end_time": "2020-09-22T17:58:13.263236Z",
     "start_time": "2020-09-22T17:58:13.244995Z"
    }
   },
   "outputs": [
    {
     "data": {
      "text/plain": [
       "34.0"
      ]
     },
     "execution_count": 30,
     "metadata": {},
     "output_type": "execute_result"
    }
   ],
   "source": [
    "n=4\n",
    "m=4\n",
    "manhTourist(n,m,down,right)"
   ]
  },
  {
   "cell_type": "code",
   "execution_count": 33,
   "metadata": {
    "ExecuteTime": {
     "end_time": "2020-09-22T17:59:28.649448Z",
     "start_time": "2020-09-22T17:59:28.514472Z"
    },
    "cell_style": "split"
   },
   "outputs": [
    {
     "data": {
      "text/html": [
       "<div>\n",
       "<style scoped>\n",
       "    .dataframe tbody tr th:only-of-type {\n",
       "        vertical-align: middle;\n",
       "    }\n",
       "\n",
       "    .dataframe tbody tr th {\n",
       "        vertical-align: top;\n",
       "    }\n",
       "\n",
       "    .dataframe thead th {\n",
       "        text-align: right;\n",
       "    }\n",
       "</style>\n",
       "<table border=\"1\" class=\"dataframe\">\n",
       "  <thead>\n",
       "    <tr style=\"text-align: right;\">\n",
       "      <th></th>\n",
       "      <th>0</th>\n",
       "      <th>1</th>\n",
       "      <th>2</th>\n",
       "      <th>3</th>\n",
       "      <th>4</th>\n",
       "      <th>5</th>\n",
       "      <th>6</th>\n",
       "      <th>7</th>\n",
       "      <th>8</th>\n",
       "      <th>9</th>\n",
       "    </tr>\n",
       "  </thead>\n",
       "  <tbody>\n",
       "    <tr>\n",
       "      <th>0</th>\n",
       "      <td>2</td>\n",
       "      <td>3</td>\n",
       "      <td>4</td>\n",
       "      <td>0</td>\n",
       "      <td>3</td>\n",
       "      <td>1</td>\n",
       "      <td>1</td>\n",
       "      <td>1</td>\n",
       "      <td>1</td>\n",
       "      <td>1</td>\n",
       "    </tr>\n",
       "    <tr>\n",
       "      <th>1</th>\n",
       "      <td>4</td>\n",
       "      <td>2</td>\n",
       "      <td>3</td>\n",
       "      <td>4</td>\n",
       "      <td>3</td>\n",
       "      <td>3</td>\n",
       "      <td>0</td>\n",
       "      <td>4</td>\n",
       "      <td>1</td>\n",
       "      <td>1</td>\n",
       "    </tr>\n",
       "    <tr>\n",
       "      <th>2</th>\n",
       "      <td>4</td>\n",
       "      <td>4</td>\n",
       "      <td>0</td>\n",
       "      <td>1</td>\n",
       "      <td>4</td>\n",
       "      <td>3</td>\n",
       "      <td>2</td>\n",
       "      <td>0</td>\n",
       "      <td>2</td>\n",
       "      <td>2</td>\n",
       "    </tr>\n",
       "    <tr>\n",
       "      <th>3</th>\n",
       "      <td>4</td>\n",
       "      <td>3</td>\n",
       "      <td>0</td>\n",
       "      <td>3</td>\n",
       "      <td>4</td>\n",
       "      <td>4</td>\n",
       "      <td>3</td>\n",
       "      <td>2</td>\n",
       "      <td>4</td>\n",
       "      <td>4</td>\n",
       "    </tr>\n",
       "    <tr>\n",
       "      <th>4</th>\n",
       "      <td>0</td>\n",
       "      <td>1</td>\n",
       "      <td>0</td>\n",
       "      <td>1</td>\n",
       "      <td>3</td>\n",
       "      <td>0</td>\n",
       "      <td>3</td>\n",
       "      <td>0</td>\n",
       "      <td>3</td>\n",
       "      <td>4</td>\n",
       "    </tr>\n",
       "    <tr>\n",
       "      <th>5</th>\n",
       "      <td>3</td>\n",
       "      <td>2</td>\n",
       "      <td>4</td>\n",
       "      <td>4</td>\n",
       "      <td>4</td>\n",
       "      <td>3</td>\n",
       "      <td>1</td>\n",
       "      <td>0</td>\n",
       "      <td>0</td>\n",
       "      <td>0</td>\n",
       "    </tr>\n",
       "    <tr>\n",
       "      <th>6</th>\n",
       "      <td>3</td>\n",
       "      <td>4</td>\n",
       "      <td>3</td>\n",
       "      <td>1</td>\n",
       "      <td>2</td>\n",
       "      <td>3</td>\n",
       "      <td>0</td>\n",
       "      <td>0</td>\n",
       "      <td>4</td>\n",
       "      <td>0</td>\n",
       "    </tr>\n",
       "    <tr>\n",
       "      <th>7</th>\n",
       "      <td>2</td>\n",
       "      <td>4</td>\n",
       "      <td>3</td>\n",
       "      <td>4</td>\n",
       "      <td>1</td>\n",
       "      <td>2</td>\n",
       "      <td>0</td>\n",
       "      <td>3</td>\n",
       "      <td>2</td>\n",
       "      <td>0</td>\n",
       "    </tr>\n",
       "    <tr>\n",
       "      <th>8</th>\n",
       "      <td>1</td>\n",
       "      <td>4</td>\n",
       "      <td>4</td>\n",
       "      <td>1</td>\n",
       "      <td>4</td>\n",
       "      <td>4</td>\n",
       "      <td>3</td>\n",
       "      <td>1</td>\n",
       "      <td>1</td>\n",
       "      <td>4</td>\n",
       "    </tr>\n",
       "    <tr>\n",
       "      <th>9</th>\n",
       "      <td>3</td>\n",
       "      <td>1</td>\n",
       "      <td>2</td>\n",
       "      <td>2</td>\n",
       "      <td>3</td>\n",
       "      <td>3</td>\n",
       "      <td>0</td>\n",
       "      <td>4</td>\n",
       "      <td>0</td>\n",
       "      <td>0</td>\n",
       "    </tr>\n",
       "    <tr>\n",
       "      <th>10</th>\n",
       "      <td>0</td>\n",
       "      <td>2</td>\n",
       "      <td>1</td>\n",
       "      <td>4</td>\n",
       "      <td>1</td>\n",
       "      <td>3</td>\n",
       "      <td>1</td>\n",
       "      <td>3</td>\n",
       "      <td>1</td>\n",
       "      <td>0</td>\n",
       "    </tr>\n",
       "    <tr>\n",
       "      <th>11</th>\n",
       "      <td>1</td>\n",
       "      <td>0</td>\n",
       "      <td>4</td>\n",
       "      <td>0</td>\n",
       "      <td>4</td>\n",
       "      <td>3</td>\n",
       "      <td>3</td>\n",
       "      <td>2</td>\n",
       "      <td>3</td>\n",
       "      <td>1</td>\n",
       "    </tr>\n",
       "    <tr>\n",
       "      <th>12</th>\n",
       "      <td>2</td>\n",
       "      <td>0</td>\n",
       "      <td>0</td>\n",
       "      <td>4</td>\n",
       "      <td>3</td>\n",
       "      <td>4</td>\n",
       "      <td>0</td>\n",
       "      <td>3</td>\n",
       "      <td>0</td>\n",
       "      <td>0</td>\n",
       "    </tr>\n",
       "    <tr>\n",
       "      <th>13</th>\n",
       "      <td>4</td>\n",
       "      <td>1</td>\n",
       "      <td>0</td>\n",
       "      <td>4</td>\n",
       "      <td>3</td>\n",
       "      <td>2</td>\n",
       "      <td>1</td>\n",
       "      <td>1</td>\n",
       "      <td>3</td>\n",
       "      <td>1</td>\n",
       "    </tr>\n",
       "    <tr>\n",
       "      <th>14</th>\n",
       "      <td>2</td>\n",
       "      <td>4</td>\n",
       "      <td>4</td>\n",
       "      <td>3</td>\n",
       "      <td>3</td>\n",
       "      <td>4</td>\n",
       "      <td>0</td>\n",
       "      <td>0</td>\n",
       "      <td>4</td>\n",
       "      <td>3</td>\n",
       "    </tr>\n",
       "    <tr>\n",
       "      <th>15</th>\n",
       "      <td>1</td>\n",
       "      <td>0</td>\n",
       "      <td>2</td>\n",
       "      <td>3</td>\n",
       "      <td>3</td>\n",
       "      <td>0</td>\n",
       "      <td>4</td>\n",
       "      <td>0</td>\n",
       "      <td>2</td>\n",
       "      <td>0</td>\n",
       "    </tr>\n",
       "    <tr>\n",
       "      <th>16</th>\n",
       "      <td>3</td>\n",
       "      <td>1</td>\n",
       "      <td>0</td>\n",
       "      <td>3</td>\n",
       "      <td>2</td>\n",
       "      <td>3</td>\n",
       "      <td>2</td>\n",
       "      <td>2</td>\n",
       "      <td>1</td>\n",
       "      <td>4</td>\n",
       "    </tr>\n",
       "  </tbody>\n",
       "</table>\n",
       "</div>"
      ],
      "text/plain": [
       "    0  1  2  3  4  5  6  7  8  9\n",
       "0   2  3  4  0  3  1  1  1  1  1\n",
       "1   4  2  3  4  3  3  0  4  1  1\n",
       "2   4  4  0  1  4  3  2  0  2  2\n",
       "3   4  3  0  3  4  4  3  2  4  4\n",
       "4   0  1  0  1  3  0  3  0  3  4\n",
       "5   3  2  4  4  4  3  1  0  0  0\n",
       "6   3  4  3  1  2  3  0  0  4  0\n",
       "7   2  4  3  4  1  2  0  3  2  0\n",
       "8   1  4  4  1  4  4  3  1  1  4\n",
       "9   3  1  2  2  3  3  0  4  0  0\n",
       "10  0  2  1  4  1  3  1  3  1  0\n",
       "11  1  0  4  0  4  3  3  2  3  1\n",
       "12  2  0  0  4  3  4  0  3  0  0\n",
       "13  4  1  0  4  3  2  1  1  3  1\n",
       "14  2  4  4  3  3  4  0  0  4  3\n",
       "15  1  0  2  3  3  0  4  0  2  0\n",
       "16  3  1  0  3  2  3  2  2  1  4"
      ]
     },
     "execution_count": 33,
     "metadata": {},
     "output_type": "execute_result"
    }
   ],
   "source": [
    "down=pd.read_clipboard(header=None, names=None)\n",
    "down"
   ]
  },
  {
   "cell_type": "code",
   "execution_count": 34,
   "metadata": {
    "ExecuteTime": {
     "end_time": "2020-09-22T17:59:35.617792Z",
     "start_time": "2020-09-22T17:59:35.526834Z"
    },
    "cell_style": "split"
   },
   "outputs": [
    {
     "data": {
      "text/html": [
       "<div>\n",
       "<style scoped>\n",
       "    .dataframe tbody tr th:only-of-type {\n",
       "        vertical-align: middle;\n",
       "    }\n",
       "\n",
       "    .dataframe tbody tr th {\n",
       "        vertical-align: top;\n",
       "    }\n",
       "\n",
       "    .dataframe thead th {\n",
       "        text-align: right;\n",
       "    }\n",
       "</style>\n",
       "<table border=\"1\" class=\"dataframe\">\n",
       "  <thead>\n",
       "    <tr style=\"text-align: right;\">\n",
       "      <th></th>\n",
       "      <th>0</th>\n",
       "      <th>1</th>\n",
       "      <th>2</th>\n",
       "      <th>3</th>\n",
       "      <th>4</th>\n",
       "      <th>5</th>\n",
       "      <th>6</th>\n",
       "      <th>7</th>\n",
       "      <th>8</th>\n",
       "    </tr>\n",
       "  </thead>\n",
       "  <tbody>\n",
       "    <tr>\n",
       "      <th>0</th>\n",
       "      <td>1</td>\n",
       "      <td>0</td>\n",
       "      <td>4</td>\n",
       "      <td>4</td>\n",
       "      <td>3</td>\n",
       "      <td>3</td>\n",
       "      <td>1</td>\n",
       "      <td>0</td>\n",
       "      <td>4</td>\n",
       "    </tr>\n",
       "    <tr>\n",
       "      <th>1</th>\n",
       "      <td>0</td>\n",
       "      <td>2</td>\n",
       "      <td>0</td>\n",
       "      <td>3</td>\n",
       "      <td>3</td>\n",
       "      <td>0</td>\n",
       "      <td>1</td>\n",
       "      <td>2</td>\n",
       "      <td>1</td>\n",
       "    </tr>\n",
       "    <tr>\n",
       "      <th>2</th>\n",
       "      <td>3</td>\n",
       "      <td>2</td>\n",
       "      <td>3</td>\n",
       "      <td>1</td>\n",
       "      <td>1</td>\n",
       "      <td>4</td>\n",
       "      <td>2</td>\n",
       "      <td>4</td>\n",
       "      <td>4</td>\n",
       "    </tr>\n",
       "    <tr>\n",
       "      <th>3</th>\n",
       "      <td>1</td>\n",
       "      <td>3</td>\n",
       "      <td>4</td>\n",
       "      <td>4</td>\n",
       "      <td>2</td>\n",
       "      <td>1</td>\n",
       "      <td>1</td>\n",
       "      <td>1</td>\n",
       "      <td>4</td>\n",
       "    </tr>\n",
       "    <tr>\n",
       "      <th>4</th>\n",
       "      <td>1</td>\n",
       "      <td>4</td>\n",
       "      <td>2</td>\n",
       "      <td>2</td>\n",
       "      <td>3</td>\n",
       "      <td>1</td>\n",
       "      <td>3</td>\n",
       "      <td>2</td>\n",
       "      <td>3</td>\n",
       "    </tr>\n",
       "    <tr>\n",
       "      <th>5</th>\n",
       "      <td>0</td>\n",
       "      <td>3</td>\n",
       "      <td>1</td>\n",
       "      <td>0</td>\n",
       "      <td>1</td>\n",
       "      <td>0</td>\n",
       "      <td>4</td>\n",
       "      <td>1</td>\n",
       "      <td>4</td>\n",
       "    </tr>\n",
       "    <tr>\n",
       "      <th>6</th>\n",
       "      <td>1</td>\n",
       "      <td>3</td>\n",
       "      <td>4</td>\n",
       "      <td>4</td>\n",
       "      <td>1</td>\n",
       "      <td>0</td>\n",
       "      <td>3</td>\n",
       "      <td>2</td>\n",
       "      <td>1</td>\n",
       "    </tr>\n",
       "    <tr>\n",
       "      <th>7</th>\n",
       "      <td>2</td>\n",
       "      <td>3</td>\n",
       "      <td>1</td>\n",
       "      <td>2</td>\n",
       "      <td>3</td>\n",
       "      <td>2</td>\n",
       "      <td>2</td>\n",
       "      <td>2</td>\n",
       "      <td>3</td>\n",
       "    </tr>\n",
       "    <tr>\n",
       "      <th>8</th>\n",
       "      <td>3</td>\n",
       "      <td>2</td>\n",
       "      <td>1</td>\n",
       "      <td>4</td>\n",
       "      <td>0</td>\n",
       "      <td>2</td>\n",
       "      <td>4</td>\n",
       "      <td>2</td>\n",
       "      <td>4</td>\n",
       "    </tr>\n",
       "    <tr>\n",
       "      <th>9</th>\n",
       "      <td>4</td>\n",
       "      <td>0</td>\n",
       "      <td>2</td>\n",
       "      <td>0</td>\n",
       "      <td>1</td>\n",
       "      <td>3</td>\n",
       "      <td>1</td>\n",
       "      <td>4</td>\n",
       "      <td>4</td>\n",
       "    </tr>\n",
       "    <tr>\n",
       "      <th>10</th>\n",
       "      <td>1</td>\n",
       "      <td>3</td>\n",
       "      <td>0</td>\n",
       "      <td>2</td>\n",
       "      <td>2</td>\n",
       "      <td>1</td>\n",
       "      <td>0</td>\n",
       "      <td>3</td>\n",
       "      <td>2</td>\n",
       "    </tr>\n",
       "    <tr>\n",
       "      <th>11</th>\n",
       "      <td>1</td>\n",
       "      <td>4</td>\n",
       "      <td>0</td>\n",
       "      <td>4</td>\n",
       "      <td>4</td>\n",
       "      <td>1</td>\n",
       "      <td>2</td>\n",
       "      <td>4</td>\n",
       "      <td>2</td>\n",
       "    </tr>\n",
       "    <tr>\n",
       "      <th>12</th>\n",
       "      <td>0</td>\n",
       "      <td>2</td>\n",
       "      <td>4</td>\n",
       "      <td>3</td>\n",
       "      <td>4</td>\n",
       "      <td>0</td>\n",
       "      <td>3</td>\n",
       "      <td>2</td>\n",
       "      <td>2</td>\n",
       "    </tr>\n",
       "    <tr>\n",
       "      <th>13</th>\n",
       "      <td>2</td>\n",
       "      <td>3</td>\n",
       "      <td>4</td>\n",
       "      <td>4</td>\n",
       "      <td>0</td>\n",
       "      <td>4</td>\n",
       "      <td>3</td>\n",
       "      <td>0</td>\n",
       "      <td>4</td>\n",
       "    </tr>\n",
       "    <tr>\n",
       "      <th>14</th>\n",
       "      <td>1</td>\n",
       "      <td>0</td>\n",
       "      <td>4</td>\n",
       "      <td>1</td>\n",
       "      <td>3</td>\n",
       "      <td>3</td>\n",
       "      <td>1</td>\n",
       "      <td>4</td>\n",
       "      <td>2</td>\n",
       "    </tr>\n",
       "    <tr>\n",
       "      <th>15</th>\n",
       "      <td>4</td>\n",
       "      <td>3</td>\n",
       "      <td>4</td>\n",
       "      <td>3</td>\n",
       "      <td>2</td>\n",
       "      <td>3</td>\n",
       "      <td>2</td>\n",
       "      <td>2</td>\n",
       "      <td>0</td>\n",
       "    </tr>\n",
       "    <tr>\n",
       "      <th>16</th>\n",
       "      <td>0</td>\n",
       "      <td>1</td>\n",
       "      <td>2</td>\n",
       "      <td>2</td>\n",
       "      <td>4</td>\n",
       "      <td>4</td>\n",
       "      <td>2</td>\n",
       "      <td>4</td>\n",
       "      <td>2</td>\n",
       "    </tr>\n",
       "    <tr>\n",
       "      <th>17</th>\n",
       "      <td>2</td>\n",
       "      <td>3</td>\n",
       "      <td>1</td>\n",
       "      <td>4</td>\n",
       "      <td>4</td>\n",
       "      <td>3</td>\n",
       "      <td>4</td>\n",
       "      <td>0</td>\n",
       "      <td>3</td>\n",
       "    </tr>\n",
       "  </tbody>\n",
       "</table>\n",
       "</div>"
      ],
      "text/plain": [
       "    0  1  2  3  4  5  6  7  8\n",
       "0   1  0  4  4  3  3  1  0  4\n",
       "1   0  2  0  3  3  0  1  2  1\n",
       "2   3  2  3  1  1  4  2  4  4\n",
       "3   1  3  4  4  2  1  1  1  4\n",
       "4   1  4  2  2  3  1  3  2  3\n",
       "5   0  3  1  0  1  0  4  1  4\n",
       "6   1  3  4  4  1  0  3  2  1\n",
       "7   2  3  1  2  3  2  2  2  3\n",
       "8   3  2  1  4  0  2  4  2  4\n",
       "9   4  0  2  0  1  3  1  4  4\n",
       "10  1  3  0  2  2  1  0  3  2\n",
       "11  1  4  0  4  4  1  2  4  2\n",
       "12  0  2  4  3  4  0  3  2  2\n",
       "13  2  3  4  4  0  4  3  0  4\n",
       "14  1  0  4  1  3  3  1  4  2\n",
       "15  4  3  4  3  2  3  2  2  0\n",
       "16  0  1  2  2  4  4  2  4  2\n",
       "17  2  3  1  4  4  3  4  0  3"
      ]
     },
     "execution_count": 34,
     "metadata": {},
     "output_type": "execute_result"
    }
   ],
   "source": [
    "right=pd.read_clipboard(header=None, names=None)\n",
    "right"
   ]
  },
  {
   "cell_type": "code",
   "execution_count": 35,
   "metadata": {
    "ExecuteTime": {
     "end_time": "2020-09-22T17:59:40.061446Z",
     "start_time": "2020-09-22T17:59:40.008328Z"
    }
   },
   "outputs": [
    {
     "data": {
      "text/plain": [
       "84.0"
      ]
     },
     "execution_count": 35,
     "metadata": {},
     "output_type": "execute_result"
    }
   ],
   "source": [
    "n=17\n",
    "m=9\n",
    "manhTourist(n,m,down,right) #84"
   ]
  },
  {
   "cell_type": "code",
   "execution_count": 36,
   "metadata": {
    "ExecuteTime": {
     "end_time": "2020-09-22T18:01:52.349416Z",
     "start_time": "2020-09-22T18:01:52.220637Z"
    },
    "cell_style": "split"
   },
   "outputs": [
    {
     "data": {
      "text/html": [
       "<div>\n",
       "<style scoped>\n",
       "    .dataframe tbody tr th:only-of-type {\n",
       "        vertical-align: middle;\n",
       "    }\n",
       "\n",
       "    .dataframe tbody tr th {\n",
       "        vertical-align: top;\n",
       "    }\n",
       "\n",
       "    .dataframe thead th {\n",
       "        text-align: right;\n",
       "    }\n",
       "</style>\n",
       "<table border=\"1\" class=\"dataframe\">\n",
       "  <thead>\n",
       "    <tr style=\"text-align: right;\">\n",
       "      <th></th>\n",
       "      <th>0</th>\n",
       "      <th>1</th>\n",
       "      <th>2</th>\n",
       "      <th>3</th>\n",
       "      <th>4</th>\n",
       "      <th>5</th>\n",
       "      <th>6</th>\n",
       "      <th>7</th>\n",
       "      <th>8</th>\n",
       "      <th>9</th>\n",
       "    </tr>\n",
       "  </thead>\n",
       "  <tbody>\n",
       "    <tr>\n",
       "      <th>0</th>\n",
       "      <td>0</td>\n",
       "      <td>2</td>\n",
       "      <td>1</td>\n",
       "      <td>4</td>\n",
       "      <td>1</td>\n",
       "      <td>3</td>\n",
       "      <td>3</td>\n",
       "      <td>0</td>\n",
       "      <td>4</td>\n",
       "      <td>4</td>\n",
       "    </tr>\n",
       "    <tr>\n",
       "      <th>1</th>\n",
       "      <td>1</td>\n",
       "      <td>4</td>\n",
       "      <td>1</td>\n",
       "      <td>4</td>\n",
       "      <td>0</td>\n",
       "      <td>2</td>\n",
       "      <td>3</td>\n",
       "      <td>3</td>\n",
       "      <td>4</td>\n",
       "      <td>4</td>\n",
       "    </tr>\n",
       "    <tr>\n",
       "      <th>2</th>\n",
       "      <td>4</td>\n",
       "      <td>1</td>\n",
       "      <td>1</td>\n",
       "      <td>4</td>\n",
       "      <td>1</td>\n",
       "      <td>0</td>\n",
       "      <td>3</td>\n",
       "      <td>0</td>\n",
       "      <td>2</td>\n",
       "      <td>4</td>\n",
       "    </tr>\n",
       "    <tr>\n",
       "      <th>3</th>\n",
       "      <td>3</td>\n",
       "      <td>0</td>\n",
       "      <td>0</td>\n",
       "      <td>4</td>\n",
       "      <td>3</td>\n",
       "      <td>1</td>\n",
       "      <td>4</td>\n",
       "      <td>1</td>\n",
       "      <td>1</td>\n",
       "      <td>4</td>\n",
       "    </tr>\n",
       "    <tr>\n",
       "      <th>4</th>\n",
       "      <td>0</td>\n",
       "      <td>1</td>\n",
       "      <td>2</td>\n",
       "      <td>3</td>\n",
       "      <td>2</td>\n",
       "      <td>2</td>\n",
       "      <td>0</td>\n",
       "      <td>1</td>\n",
       "      <td>0</td>\n",
       "      <td>0</td>\n",
       "    </tr>\n",
       "    <tr>\n",
       "      <th>5</th>\n",
       "      <td>2</td>\n",
       "      <td>3</td>\n",
       "      <td>2</td>\n",
       "      <td>0</td>\n",
       "      <td>4</td>\n",
       "      <td>2</td>\n",
       "      <td>1</td>\n",
       "      <td>2</td>\n",
       "      <td>1</td>\n",
       "      <td>3</td>\n",
       "    </tr>\n",
       "    <tr>\n",
       "      <th>6</th>\n",
       "      <td>3</td>\n",
       "      <td>4</td>\n",
       "      <td>0</td>\n",
       "      <td>2</td>\n",
       "      <td>0</td>\n",
       "      <td>4</td>\n",
       "      <td>2</td>\n",
       "      <td>2</td>\n",
       "      <td>1</td>\n",
       "      <td>4</td>\n",
       "    </tr>\n",
       "    <tr>\n",
       "      <th>7</th>\n",
       "      <td>0</td>\n",
       "      <td>0</td>\n",
       "      <td>2</td>\n",
       "      <td>2</td>\n",
       "      <td>4</td>\n",
       "      <td>1</td>\n",
       "      <td>3</td>\n",
       "      <td>2</td>\n",
       "      <td>4</td>\n",
       "      <td>2</td>\n",
       "    </tr>\n",
       "    <tr>\n",
       "      <th>8</th>\n",
       "      <td>4</td>\n",
       "      <td>4</td>\n",
       "      <td>3</td>\n",
       "      <td>2</td>\n",
       "      <td>3</td>\n",
       "      <td>1</td>\n",
       "      <td>4</td>\n",
       "      <td>4</td>\n",
       "      <td>2</td>\n",
       "      <td>1</td>\n",
       "    </tr>\n",
       "    <tr>\n",
       "      <th>9</th>\n",
       "      <td>0</td>\n",
       "      <td>1</td>\n",
       "      <td>4</td>\n",
       "      <td>0</td>\n",
       "      <td>3</td>\n",
       "      <td>2</td>\n",
       "      <td>4</td>\n",
       "      <td>2</td>\n",
       "      <td>2</td>\n",
       "      <td>1</td>\n",
       "    </tr>\n",
       "    <tr>\n",
       "      <th>10</th>\n",
       "      <td>0</td>\n",
       "      <td>1</td>\n",
       "      <td>4</td>\n",
       "      <td>2</td>\n",
       "      <td>0</td>\n",
       "      <td>0</td>\n",
       "      <td>3</td>\n",
       "      <td>0</td>\n",
       "      <td>1</td>\n",
       "      <td>3</td>\n",
       "    </tr>\n",
       "    <tr>\n",
       "      <th>11</th>\n",
       "      <td>2</td>\n",
       "      <td>3</td>\n",
       "      <td>2</td>\n",
       "      <td>4</td>\n",
       "      <td>2</td>\n",
       "      <td>3</td>\n",
       "      <td>4</td>\n",
       "      <td>0</td>\n",
       "      <td>4</td>\n",
       "      <td>1</td>\n",
       "    </tr>\n",
       "    <tr>\n",
       "      <th>12</th>\n",
       "      <td>0</td>\n",
       "      <td>0</td>\n",
       "      <td>1</td>\n",
       "      <td>4</td>\n",
       "      <td>4</td>\n",
       "      <td>4</td>\n",
       "      <td>2</td>\n",
       "      <td>4</td>\n",
       "      <td>2</td>\n",
       "      <td>0</td>\n",
       "    </tr>\n",
       "    <tr>\n",
       "      <th>13</th>\n",
       "      <td>3</td>\n",
       "      <td>0</td>\n",
       "      <td>2</td>\n",
       "      <td>3</td>\n",
       "      <td>3</td>\n",
       "      <td>1</td>\n",
       "      <td>3</td>\n",
       "      <td>3</td>\n",
       "      <td>0</td>\n",
       "      <td>3</td>\n",
       "    </tr>\n",
       "    <tr>\n",
       "      <th>14</th>\n",
       "      <td>0</td>\n",
       "      <td>1</td>\n",
       "      <td>2</td>\n",
       "      <td>2</td>\n",
       "      <td>4</td>\n",
       "      <td>0</td>\n",
       "      <td>2</td>\n",
       "      <td>1</td>\n",
       "      <td>1</td>\n",
       "      <td>0</td>\n",
       "    </tr>\n",
       "  </tbody>\n",
       "</table>\n",
       "</div>"
      ],
      "text/plain": [
       "    0  1  2  3  4  5  6  7  8  9\n",
       "0   0  2  1  4  1  3  3  0  4  4\n",
       "1   1  4  1  4  0  2  3  3  4  4\n",
       "2   4  1  1  4  1  0  3  0  2  4\n",
       "3   3  0  0  4  3  1  4  1  1  4\n",
       "4   0  1  2  3  2  2  0  1  0  0\n",
       "5   2  3  2  0  4  2  1  2  1  3\n",
       "6   3  4  0  2  0  4  2  2  1  4\n",
       "7   0  0  2  2  4  1  3  2  4  2\n",
       "8   4  4  3  2  3  1  4  4  2  1\n",
       "9   0  1  4  0  3  2  4  2  2  1\n",
       "10  0  1  4  2  0  0  3  0  1  3\n",
       "11  2  3  2  4  2  3  4  0  4  1\n",
       "12  0  0  1  4  4  4  2  4  2  0\n",
       "13  3  0  2  3  3  1  3  3  0  3\n",
       "14  0  1  2  2  4  0  2  1  1  0"
      ]
     },
     "execution_count": 36,
     "metadata": {},
     "output_type": "execute_result"
    }
   ],
   "source": [
    "down=pd.read_clipboard(header=None, names=None)\n",
    "down"
   ]
  },
  {
   "cell_type": "code",
   "execution_count": 37,
   "metadata": {
    "ExecuteTime": {
     "end_time": "2020-09-22T18:01:58.920055Z",
     "start_time": "2020-09-22T18:01:58.834069Z"
    },
    "cell_style": "split"
   },
   "outputs": [
    {
     "data": {
      "text/html": [
       "<div>\n",
       "<style scoped>\n",
       "    .dataframe tbody tr th:only-of-type {\n",
       "        vertical-align: middle;\n",
       "    }\n",
       "\n",
       "    .dataframe tbody tr th {\n",
       "        vertical-align: top;\n",
       "    }\n",
       "\n",
       "    .dataframe thead th {\n",
       "        text-align: right;\n",
       "    }\n",
       "</style>\n",
       "<table border=\"1\" class=\"dataframe\">\n",
       "  <thead>\n",
       "    <tr style=\"text-align: right;\">\n",
       "      <th></th>\n",
       "      <th>0</th>\n",
       "      <th>1</th>\n",
       "      <th>2</th>\n",
       "      <th>3</th>\n",
       "      <th>4</th>\n",
       "      <th>5</th>\n",
       "      <th>6</th>\n",
       "      <th>7</th>\n",
       "      <th>8</th>\n",
       "    </tr>\n",
       "  </thead>\n",
       "  <tbody>\n",
       "    <tr>\n",
       "      <th>0</th>\n",
       "      <td>2</td>\n",
       "      <td>2</td>\n",
       "      <td>0</td>\n",
       "      <td>0</td>\n",
       "      <td>2</td>\n",
       "      <td>1</td>\n",
       "      <td>3</td>\n",
       "      <td>0</td>\n",
       "      <td>4</td>\n",
       "    </tr>\n",
       "    <tr>\n",
       "      <th>1</th>\n",
       "      <td>0</td>\n",
       "      <td>1</td>\n",
       "      <td>2</td>\n",
       "      <td>4</td>\n",
       "      <td>0</td>\n",
       "      <td>4</td>\n",
       "      <td>3</td>\n",
       "      <td>4</td>\n",
       "      <td>1</td>\n",
       "    </tr>\n",
       "    <tr>\n",
       "      <th>2</th>\n",
       "      <td>1</td>\n",
       "      <td>4</td>\n",
       "      <td>1</td>\n",
       "      <td>1</td>\n",
       "      <td>0</td>\n",
       "      <td>4</td>\n",
       "      <td>4</td>\n",
       "      <td>0</td>\n",
       "      <td>2</td>\n",
       "    </tr>\n",
       "    <tr>\n",
       "      <th>3</th>\n",
       "      <td>3</td>\n",
       "      <td>2</td>\n",
       "      <td>1</td>\n",
       "      <td>2</td>\n",
       "      <td>4</td>\n",
       "      <td>0</td>\n",
       "      <td>0</td>\n",
       "      <td>0</td>\n",
       "      <td>0</td>\n",
       "    </tr>\n",
       "    <tr>\n",
       "      <th>4</th>\n",
       "      <td>1</td>\n",
       "      <td>3</td>\n",
       "      <td>3</td>\n",
       "      <td>0</td>\n",
       "      <td>4</td>\n",
       "      <td>0</td>\n",
       "      <td>4</td>\n",
       "      <td>2</td>\n",
       "      <td>3</td>\n",
       "    </tr>\n",
       "    <tr>\n",
       "      <th>5</th>\n",
       "      <td>3</td>\n",
       "      <td>4</td>\n",
       "      <td>1</td>\n",
       "      <td>1</td>\n",
       "      <td>4</td>\n",
       "      <td>4</td>\n",
       "      <td>0</td>\n",
       "      <td>1</td>\n",
       "      <td>3</td>\n",
       "    </tr>\n",
       "    <tr>\n",
       "      <th>6</th>\n",
       "      <td>3</td>\n",
       "      <td>2</td>\n",
       "      <td>0</td>\n",
       "      <td>4</td>\n",
       "      <td>0</td>\n",
       "      <td>3</td>\n",
       "      <td>3</td>\n",
       "      <td>2</td>\n",
       "      <td>0</td>\n",
       "    </tr>\n",
       "    <tr>\n",
       "      <th>7</th>\n",
       "      <td>3</td>\n",
       "      <td>2</td>\n",
       "      <td>2</td>\n",
       "      <td>3</td>\n",
       "      <td>3</td>\n",
       "      <td>2</td>\n",
       "      <td>1</td>\n",
       "      <td>0</td>\n",
       "      <td>3</td>\n",
       "    </tr>\n",
       "    <tr>\n",
       "      <th>8</th>\n",
       "      <td>2</td>\n",
       "      <td>0</td>\n",
       "      <td>1</td>\n",
       "      <td>2</td>\n",
       "      <td>0</td>\n",
       "      <td>0</td>\n",
       "      <td>3</td>\n",
       "      <td>2</td>\n",
       "      <td>4</td>\n",
       "    </tr>\n",
       "    <tr>\n",
       "      <th>9</th>\n",
       "      <td>1</td>\n",
       "      <td>2</td>\n",
       "      <td>1</td>\n",
       "      <td>0</td>\n",
       "      <td>3</td>\n",
       "      <td>1</td>\n",
       "      <td>3</td>\n",
       "      <td>3</td>\n",
       "      <td>2</td>\n",
       "    </tr>\n",
       "    <tr>\n",
       "      <th>10</th>\n",
       "      <td>0</td>\n",
       "      <td>1</td>\n",
       "      <td>2</td>\n",
       "      <td>1</td>\n",
       "      <td>1</td>\n",
       "      <td>4</td>\n",
       "      <td>4</td>\n",
       "      <td>1</td>\n",
       "      <td>3</td>\n",
       "    </tr>\n",
       "    <tr>\n",
       "      <th>11</th>\n",
       "      <td>0</td>\n",
       "      <td>0</td>\n",
       "      <td>2</td>\n",
       "      <td>1</td>\n",
       "      <td>2</td>\n",
       "      <td>4</td>\n",
       "      <td>0</td>\n",
       "      <td>0</td>\n",
       "      <td>4</td>\n",
       "    </tr>\n",
       "    <tr>\n",
       "      <th>12</th>\n",
       "      <td>1</td>\n",
       "      <td>4</td>\n",
       "      <td>0</td>\n",
       "      <td>3</td>\n",
       "      <td>3</td>\n",
       "      <td>3</td>\n",
       "      <td>0</td>\n",
       "      <td>2</td>\n",
       "      <td>3</td>\n",
       "    </tr>\n",
       "    <tr>\n",
       "      <th>13</th>\n",
       "      <td>2</td>\n",
       "      <td>1</td>\n",
       "      <td>4</td>\n",
       "      <td>1</td>\n",
       "      <td>1</td>\n",
       "      <td>1</td>\n",
       "      <td>4</td>\n",
       "      <td>4</td>\n",
       "      <td>0</td>\n",
       "    </tr>\n",
       "    <tr>\n",
       "      <th>14</th>\n",
       "      <td>1</td>\n",
       "      <td>2</td>\n",
       "      <td>0</td>\n",
       "      <td>3</td>\n",
       "      <td>4</td>\n",
       "      <td>3</td>\n",
       "      <td>2</td>\n",
       "      <td>1</td>\n",
       "      <td>1</td>\n",
       "    </tr>\n",
       "    <tr>\n",
       "      <th>15</th>\n",
       "      <td>4</td>\n",
       "      <td>2</td>\n",
       "      <td>1</td>\n",
       "      <td>2</td>\n",
       "      <td>0</td>\n",
       "      <td>1</td>\n",
       "      <td>2</td>\n",
       "      <td>0</td>\n",
       "      <td>3</td>\n",
       "    </tr>\n",
       "  </tbody>\n",
       "</table>\n",
       "</div>"
      ],
      "text/plain": [
       "    0  1  2  3  4  5  6  7  8\n",
       "0   2  2  0  0  2  1  3  0  4\n",
       "1   0  1  2  4  0  4  3  4  1\n",
       "2   1  4  1  1  0  4  4  0  2\n",
       "3   3  2  1  2  4  0  0  0  0\n",
       "4   1  3  3  0  4  0  4  2  3\n",
       "5   3  4  1  1  4  4  0  1  3\n",
       "6   3  2  0  4  0  3  3  2  0\n",
       "7   3  2  2  3  3  2  1  0  3\n",
       "8   2  0  1  2  0  0  3  2  4\n",
       "9   1  2  1  0  3  1  3  3  2\n",
       "10  0  1  2  1  1  4  4  1  3\n",
       "11  0  0  2  1  2  4  0  0  4\n",
       "12  1  4  0  3  3  3  0  2  3\n",
       "13  2  1  4  1  1  1  4  4  0\n",
       "14  1  2  0  3  4  3  2  1  1\n",
       "15  4  2  1  2  0  1  2  0  3"
      ]
     },
     "execution_count": 37,
     "metadata": {},
     "output_type": "execute_result"
    }
   ],
   "source": [
    "right=pd.read_clipboard(header=None, names=None)\n",
    "right"
   ]
  },
  {
   "cell_type": "code",
   "execution_count": 38,
   "metadata": {
    "ExecuteTime": {
     "end_time": "2020-09-22T18:02:05.011011Z",
     "start_time": "2020-09-22T18:02:04.953350Z"
    }
   },
   "outputs": [
    {
     "data": {
      "text/plain": [
       "69.0"
      ]
     },
     "execution_count": 38,
     "metadata": {},
     "output_type": "execute_result"
    }
   ],
   "source": [
    "n=15\n",
    "m=9\n",
    "manhTourist(n,m,down,right) #Challenge"
   ]
  },
  {
   "cell_type": "code",
   "execution_count": 39,
   "metadata": {
    "ExecuteTime": {
     "end_time": "2020-09-22T18:25:53.629968Z",
     "start_time": "2020-09-22T18:25:53.607170Z"
    }
   },
   "outputs": [],
   "source": [
    "### Going column first or row first has no influence\n",
    "def manhTourist_bw(n,m,Down,Right):\n",
    "    s = pd.DataFrame(-np.inf,index=range(0,n+1),columns=range(0,m+1))\n",
    "    s[0][0] = 0\n",
    "    ## Fill first column first\n",
    "    for i in range(1,n+1):\n",
    "        s[0][i] = s[0][i-1] + down[0][i-1]\n",
    "    for j in range(1,m+1):\n",
    "        s[j][0] = s[j-1][0] + right[j-1][0]\n",
    "    for j in range(1,m+1): #j then i as opposed to i then j above\n",
    "        for i in range(1,n+1):\n",
    "            d = s[j][i-1] + down[j][i-1]\n",
    "            r = s[j-1][i] + right[j-1][i]\n",
    "            s[j][i] = max(d,r)\n",
    "    return s[m][n]"
   ]
  },
  {
   "cell_type": "code",
   "execution_count": 40,
   "metadata": {
    "ExecuteTime": {
     "end_time": "2020-09-22T18:26:00.853028Z",
     "start_time": "2020-09-22T18:26:00.793800Z"
    }
   },
   "outputs": [
    {
     "data": {
      "text/plain": [
       "69.0"
      ]
     },
     "execution_count": 40,
     "metadata": {},
     "output_type": "execute_result"
    }
   ],
   "source": [
    "n=15\n",
    "m=9\n",
    "manhTourist_bw(n,m,down,right) #Challenge"
   ]
  },
  {
   "cell_type": "code",
   "execution_count": null,
   "metadata": {},
   "outputs": [],
   "source": [
    "### Going column first or row first has no influence\n",
    "def manhTourist_diag(n,m,Down,Right):\n",
    "    s = pd.DataFrame(-np.inf,index=range(0,n+1),columns=range(0,m+1))\n",
    "    s[0][0] = 0\n",
    "    ## Fill first column first\n",
    "    for i in range(1,n+1):\n",
    "        s[0][i] = s[0][i-1] + down[0][i-1]\n",
    "    for j in range(1,m+1):\n",
    "        s[j][0] = s[j-1][0] + right[j-1][0]\n",
    "    for j in range(1,m+1): #j then i as opposed to i then j above\n",
    "        for i in range(1,n+1):\n",
    "            d = s[j][i-1] + down[j][i-1]\n",
    "            r = s[j-1][i] + right[j-1][i]\n",
    "            diag = s[j-1][i-1] + diag[j-1][i-1]\n",
    "            s[j][i] = max(d,r)\n",
    "    return s[m][n]"
   ]
  },
  {
   "cell_type": "markdown",
   "metadata": {},
   "source": [
    "### BA5c Find a Longest Common Subsequence of Two Strings\n",
    "\n",
    "http://rosalind.info/problems/ba5c/\n",
    "\n",
    "Longest Common Subsequence Problem\n",
    "Given: Two strings.\n",
    "Return: A longest common subsequence of these strings."
   ]
  },
  {
   "cell_type": "code",
   "execution_count": 1,
   "metadata": {
    "ExecuteTime": {
     "end_time": "2020-09-28T19:14:43.436226Z",
     "start_time": "2020-09-28T19:14:43.420346Z"
    }
   },
   "outputs": [],
   "source": [
    "#penalties\n",
    "gap = 0#-4\n",
    "mismatch = 0#-3\n",
    "match = 1\n",
    "\n",
    "# gap = -4\n",
    "# mismatch = -3\n",
    "# match = 1"
   ]
  },
  {
   "cell_type": "code",
   "execution_count": 6,
   "metadata": {
    "ExecuteTime": {
     "end_time": "2020-09-28T19:15:04.760261Z",
     "start_time": "2020-09-28T19:15:02.805756Z"
    },
    "cell_style": "center"
   },
   "outputs": [
    {
     "ename": "NameError",
     "evalue": "name 'n' is not defined",
     "output_type": "error",
     "traceback": [
      "\u001b[0;31m---------------------------------------------------------------------------\u001b[0m",
      "\u001b[0;31mNameError\u001b[0m                                 Traceback (most recent call last)",
      "\u001b[0;32m<ipython-input-6-f381ac0eb3bf>\u001b[0m in \u001b[0;36m<module>\u001b[0;34m\u001b[0m\n\u001b[1;32m      1\u001b[0m \u001b[0;32mimport\u001b[0m \u001b[0mpandas\u001b[0m \u001b[0;32mas\u001b[0m \u001b[0mpd\u001b[0m\u001b[0;34m\u001b[0m\u001b[0;34m\u001b[0m\u001b[0m\n\u001b[0;32m----> 2\u001b[0;31m \u001b[0ms\u001b[0m \u001b[0;34m=\u001b[0m \u001b[0mpd\u001b[0m\u001b[0;34m.\u001b[0m\u001b[0mDataFrame\u001b[0m\u001b[0;34m(\u001b[0m\u001b[0;36m0\u001b[0m\u001b[0;34m,\u001b[0m\u001b[0mindex\u001b[0m\u001b[0;34m=\u001b[0m\u001b[0mrange\u001b[0m\u001b[0;34m(\u001b[0m\u001b[0;36m0\u001b[0m\u001b[0;34m,\u001b[0m\u001b[0mn\u001b[0m\u001b[0;34m)\u001b[0m\u001b[0;34m,\u001b[0m\u001b[0mcolumns\u001b[0m\u001b[0;34m=\u001b[0m\u001b[0mrange\u001b[0m\u001b[0;34m(\u001b[0m\u001b[0;36m0\u001b[0m\u001b[0;34m,\u001b[0m\u001b[0mm\u001b[0m\u001b[0;34m)\u001b[0m\u001b[0;34m)\u001b[0m\u001b[0;34m\u001b[0m\u001b[0;34m\u001b[0m\u001b[0m\n\u001b[0m\u001b[1;32m      3\u001b[0m \u001b[0mp\u001b[0m \u001b[0;34m=\u001b[0m \u001b[0mpd\u001b[0m\u001b[0;34m.\u001b[0m\u001b[0mDataFrame\u001b[0m\u001b[0;34m(\u001b[0m\u001b[0;34m''\u001b[0m\u001b[0;34m,\u001b[0m\u001b[0mindex\u001b[0m\u001b[0;34m=\u001b[0m\u001b[0mrange\u001b[0m\u001b[0;34m(\u001b[0m\u001b[0;36m0\u001b[0m\u001b[0;34m,\u001b[0m\u001b[0mn\u001b[0m\u001b[0;34m)\u001b[0m\u001b[0;34m,\u001b[0m\u001b[0mcolumns\u001b[0m\u001b[0;34m=\u001b[0m\u001b[0mrange\u001b[0m\u001b[0;34m(\u001b[0m\u001b[0;36m0\u001b[0m\u001b[0;34m,\u001b[0m\u001b[0mm\u001b[0m\u001b[0;34m)\u001b[0m\u001b[0;34m)\u001b[0m\u001b[0;34m\u001b[0m\u001b[0;34m\u001b[0m\u001b[0m\n\u001b[1;32m      4\u001b[0m \u001b[0;32mfor\u001b[0m \u001b[0mi\u001b[0m \u001b[0;32min\u001b[0m \u001b[0mrange\u001b[0m\u001b[0;34m(\u001b[0m\u001b[0;36m1\u001b[0m\u001b[0;34m,\u001b[0m\u001b[0mn\u001b[0m\u001b[0;34m)\u001b[0m\u001b[0;34m:\u001b[0m\u001b[0;34m\u001b[0m\u001b[0;34m\u001b[0m\u001b[0m\n\u001b[1;32m      5\u001b[0m     \u001b[0;32mif\u001b[0m \u001b[0mvh\u001b[0m\u001b[0;34m[\u001b[0m\u001b[0mi\u001b[0m\u001b[0;34m]\u001b[0m \u001b[0;34m!=\u001b[0m \u001b[0mwh\u001b[0m\u001b[0;34m[\u001b[0m\u001b[0;36m0\u001b[0m\u001b[0;34m]\u001b[0m\u001b[0;34m:\u001b[0m \u001b[0ms\u001b[0m\u001b[0;34m[\u001b[0m\u001b[0;36m0\u001b[0m\u001b[0;34m]\u001b[0m\u001b[0;34m[\u001b[0m\u001b[0mi\u001b[0m\u001b[0;34m]\u001b[0m \u001b[0;34m=\u001b[0m \u001b[0ms\u001b[0m\u001b[0;34m[\u001b[0m\u001b[0;36m0\u001b[0m\u001b[0;34m]\u001b[0m\u001b[0;34m[\u001b[0m\u001b[0mi\u001b[0m\u001b[0;34m-\u001b[0m\u001b[0;36m1\u001b[0m\u001b[0;34m]\u001b[0m \u001b[0;34m+\u001b[0m \u001b[0mgap\u001b[0m\u001b[0;34m\u001b[0m\u001b[0;34m\u001b[0m\u001b[0m\n",
      "\u001b[0;31mNameError\u001b[0m: name 'n' is not defined"
     ]
    }
   ],
   "source": [
    "import pandas as pd\n",
    "s = pd.DataFrame(0,index=range(0,n),columns=range(0,m))\n",
    "p = pd.DataFrame('',index=range(0,n),columns=range(0,m))\n",
    "for i in range(1,n):\n",
    "    if vh[i] != wh[0]: s[0][i] = s[0][i-1] + gap\n",
    "for j in range(1,m):\n",
    "    if vh[0] != wh[j]: s[j][0] = s[j-1][0] + gap\n",
    "###\n",
    "for i in range(1,n):\n",
    "    for j in range(1,m):\n",
    "        south = s[j][i-1] + gap\n",
    "        east = s[j-1][i] + gap\n",
    "        if vh[i] == wh[j]:\n",
    "            diag = s[j-1][i-1] + match\n",
    "        else:\n",
    "            diag = s[j-1][i-1] + mismatch\n",
    "        t=[('s',south),('e',east),('d',diag)]\n",
    "        ### Get which one is max\n",
    "        whichMax = np.argmax([_[1]for _ in t])                \n",
    "        s[j][i] = t[whichMax][1]\n",
    "        p[j][i] = t[whichMax][0]\n",
    "s2 = s.copy()\n",
    "s2.index=[_ for _ in vh]\n",
    "s2.columns=[_ for _ in wh]\n",
    "s2"
   ]
  },
  {
   "cell_type": "code",
   "execution_count": null,
   "metadata": {
    "ExecuteTime": {
     "end_time": "2020-09-28T19:15:04.805090Z",
     "start_time": "2020-09-28T19:15:03.601Z"
    },
    "cell_style": "split"
   },
   "outputs": [],
   "source": [
    "def lcsq(x, y):\n",
    "    m = len(x)\n",
    "    n = len(y)\n",
    "    table = np.zeros((m+1, n+1), dtype=int)\n",
    "    for i in range(1, m+1):\n",
    "        for j in range(1, n+1):\n",
    "            if x[i-1] == y[j-1]:\n",
    "                table[i, j] = table[i-1, j-1] + 1\n",
    "            else:\n",
    "                table[i, j] = max(table[i, j-1], table[i-1, j])\n",
    "    \n",
    "    i, j = m, n\n",
    "    w = ''\n",
    "    while (i > 0) and (j > 0):\n",
    "        if x[i-1] == y[j-1]:\n",
    "            w = x[i-1] + w\n",
    "            i -= 1\n",
    "            j -= 1\n",
    "        else:\n",
    "            if table[i, j-1] > table[i-1, j]:\n",
    "                j -= 1\n",
    "            else:\n",
    "                i -= 1\n",
    "    return w,table\n"
   ]
  },
  {
   "cell_type": "code",
   "execution_count": null,
   "metadata": {
    "ExecuteTime": {
     "end_time": "2020-09-28T19:15:04.812564Z",
     "start_time": "2020-09-28T19:15:03.988Z"
    },
    "cell_style": "split"
   },
   "outputs": [],
   "source": [
    "def scoreAlignment(w,v,gap=0,mismatch=0,match=1):\n",
    "    \"\"\"\n",
    "    \"\"\"\n",
    "    ###\n",
    "    wh = '-'+ w\n",
    "    vh = '-'+ v\n",
    "    n=len(vh)\n",
    "    m=len(wh)\n",
    "    ###\n",
    "    scoring = pd.DataFrame(0,index=range(0,n),columns=range(0,m))\n",
    "    ## Initialize F matrix\n",
    "    for i in range(1,n):\n",
    "        if vh[i] != wh[0]: scoring[0][i] = scoring[0][i-1] + gap\n",
    "    for j in range(1,m):\n",
    "        if vh[0] != wh[j]: scoring[j][0] = scoring[j-1][0] + gap\n",
    "\n",
    "    ### Dynamic programming. Iterate over the scoring matrix.\n",
    "    for i in range(1,n):\n",
    "        for j in range(1,m):\n",
    "            down = scoring[j][i-1] + gap\n",
    "            right = scoring[j-1][i] + gap\n",
    "            if vh[i] == wh[j]:\n",
    "                diag = scoring[j-1][i-1] + match\n",
    "            else:\n",
    "                diag = scoring[j-1][i-1] + mismatch\n",
    "            t=[('s',down),('e',right),('d',diag)]\n",
    "            ### Get which one is max\n",
    "            whichMax = np.argmax([_[1]for _ in t])                \n",
    "            scoring[j][i] = t[whichMax][1]\n",
    "    s2 = scoring.copy()\n",
    "    s2.index=[_ for _ in vh]\n",
    "    s2.columns=[_ for _ in wh]\n",
    "    s2\n",
    "    return scoring,s2\n",
    "\n",
    "##\n",
    "def LCS(w,v,Fmatrix,debug=False):\n",
    "    wh = '-'+ w\n",
    "    vh = '-'+ v\n",
    "    \"\"\"\n",
    "    \"\"\"\n",
    "    lcs = ''\n",
    "    i = Fmatrix.shape[0]-1\n",
    "    j = Fmatrix.shape[1]-1\n",
    "    while (i > 0) and (j > 0):\n",
    "        #print((j,i), s[j][i],LCS[::-1],'<===LCS\\t',vh[i],wh[j])\n",
    "        if vh[i] == wh[j]:\n",
    "                lcs += wh[j]\n",
    "                i -= 1\n",
    "                j -= 1\n",
    "                if debug: print('\\tDiag')\n",
    "        else:\n",
    "            if i >= 0: up = Fmatrix[j][i-1]\n",
    "            else: up = -np.inf\n",
    "            if i >= 0: left = Fmatrix[j-1][i]\n",
    "            else: left = -np.inf\n",
    "            if left > up: \n",
    "                if debug: print(\"\\t\",(up,left),'left')\n",
    "                j -= 1\n",
    "            else:\n",
    "                if debug: print(\"\\t\",(up,left),'up')\n",
    "                i -= 1\n",
    "    return lcs[::-1]\n"
   ]
  },
  {
   "cell_type": "code",
   "execution_count": null,
   "metadata": {
    "ExecuteTime": {
     "end_time": "2020-09-28T19:15:04.817511Z",
     "start_time": "2020-09-28T19:15:04.406Z"
    },
    "cell_style": "split"
   },
   "outputs": [],
   "source": [
    "w='AACCTTGG'\n",
    "v='ACACTGTGA'\n",
    "l, scor = lcsq(w, v)\n",
    "pd.DataFrame(scor)"
   ]
  },
  {
   "cell_type": "code",
   "execution_count": 7,
   "metadata": {
    "ExecuteTime": {
     "end_time": "2020-09-28T19:15:05.107584Z",
     "start_time": "2020-09-28T19:15:05.026173Z"
    },
    "cell_style": "split"
   },
   "outputs": [
    {
     "data": {
      "text/html": [
       "<div>\n",
       "<style scoped>\n",
       "    .dataframe tbody tr th:only-of-type {\n",
       "        vertical-align: middle;\n",
       "    }\n",
       "\n",
       "    .dataframe tbody tr th {\n",
       "        vertical-align: top;\n",
       "    }\n",
       "\n",
       "    .dataframe thead th {\n",
       "        text-align: right;\n",
       "    }\n",
       "</style>\n",
       "<table border=\"1\" class=\"dataframe\">\n",
       "  <thead>\n",
       "    <tr style=\"text-align: right;\">\n",
       "      <th></th>\n",
       "      <th>0</th>\n",
       "      <th>1</th>\n",
       "      <th>2</th>\n",
       "      <th>3</th>\n",
       "      <th>4</th>\n",
       "      <th>5</th>\n",
       "      <th>6</th>\n",
       "      <th>7</th>\n",
       "      <th>8</th>\n",
       "      <th>9</th>\n",
       "    </tr>\n",
       "  </thead>\n",
       "  <tbody>\n",
       "    <tr>\n",
       "      <th>0</th>\n",
       "      <td>0</td>\n",
       "      <td>0</td>\n",
       "      <td>0</td>\n",
       "      <td>0</td>\n",
       "      <td>0</td>\n",
       "      <td>0</td>\n",
       "      <td>0</td>\n",
       "      <td>0</td>\n",
       "      <td>0</td>\n",
       "      <td>0</td>\n",
       "    </tr>\n",
       "    <tr>\n",
       "      <th>1</th>\n",
       "      <td>0</td>\n",
       "      <td>1</td>\n",
       "      <td>1</td>\n",
       "      <td>1</td>\n",
       "      <td>1</td>\n",
       "      <td>1</td>\n",
       "      <td>1</td>\n",
       "      <td>1</td>\n",
       "      <td>1</td>\n",
       "      <td>1</td>\n",
       "    </tr>\n",
       "    <tr>\n",
       "      <th>2</th>\n",
       "      <td>0</td>\n",
       "      <td>1</td>\n",
       "      <td>1</td>\n",
       "      <td>2</td>\n",
       "      <td>2</td>\n",
       "      <td>2</td>\n",
       "      <td>2</td>\n",
       "      <td>2</td>\n",
       "      <td>2</td>\n",
       "      <td>2</td>\n",
       "    </tr>\n",
       "    <tr>\n",
       "      <th>3</th>\n",
       "      <td>0</td>\n",
       "      <td>1</td>\n",
       "      <td>2</td>\n",
       "      <td>2</td>\n",
       "      <td>3</td>\n",
       "      <td>3</td>\n",
       "      <td>3</td>\n",
       "      <td>3</td>\n",
       "      <td>3</td>\n",
       "      <td>3</td>\n",
       "    </tr>\n",
       "    <tr>\n",
       "      <th>4</th>\n",
       "      <td>0</td>\n",
       "      <td>1</td>\n",
       "      <td>2</td>\n",
       "      <td>2</td>\n",
       "      <td>3</td>\n",
       "      <td>3</td>\n",
       "      <td>3</td>\n",
       "      <td>3</td>\n",
       "      <td>3</td>\n",
       "      <td>3</td>\n",
       "    </tr>\n",
       "    <tr>\n",
       "      <th>5</th>\n",
       "      <td>0</td>\n",
       "      <td>1</td>\n",
       "      <td>2</td>\n",
       "      <td>2</td>\n",
       "      <td>3</td>\n",
       "      <td>4</td>\n",
       "      <td>4</td>\n",
       "      <td>4</td>\n",
       "      <td>4</td>\n",
       "      <td>4</td>\n",
       "    </tr>\n",
       "    <tr>\n",
       "      <th>6</th>\n",
       "      <td>0</td>\n",
       "      <td>1</td>\n",
       "      <td>2</td>\n",
       "      <td>2</td>\n",
       "      <td>3</td>\n",
       "      <td>4</td>\n",
       "      <td>4</td>\n",
       "      <td>5</td>\n",
       "      <td>5</td>\n",
       "      <td>5</td>\n",
       "    </tr>\n",
       "    <tr>\n",
       "      <th>7</th>\n",
       "      <td>0</td>\n",
       "      <td>1</td>\n",
       "      <td>2</td>\n",
       "      <td>2</td>\n",
       "      <td>3</td>\n",
       "      <td>4</td>\n",
       "      <td>5</td>\n",
       "      <td>5</td>\n",
       "      <td>6</td>\n",
       "      <td>6</td>\n",
       "    </tr>\n",
       "    <tr>\n",
       "      <th>8</th>\n",
       "      <td>0</td>\n",
       "      <td>1</td>\n",
       "      <td>2</td>\n",
       "      <td>2</td>\n",
       "      <td>3</td>\n",
       "      <td>4</td>\n",
       "      <td>5</td>\n",
       "      <td>5</td>\n",
       "      <td>6</td>\n",
       "      <td>6</td>\n",
       "    </tr>\n",
       "  </tbody>\n",
       "</table>\n",
       "</div>"
      ],
      "text/plain": [
       "   0  1  2  3  4  5  6  7  8  9\n",
       "0  0  0  0  0  0  0  0  0  0  0\n",
       "1  0  1  1  1  1  1  1  1  1  1\n",
       "2  0  1  1  2  2  2  2  2  2  2\n",
       "3  0  1  2  2  3  3  3  3  3  3\n",
       "4  0  1  2  2  3  3  3  3  3  3\n",
       "5  0  1  2  2  3  4  4  4  4  4\n",
       "6  0  1  2  2  3  4  4  5  5  5\n",
       "7  0  1  2  2  3  4  5  5  6  6\n",
       "8  0  1  2  2  3  4  5  5  6  6"
      ]
     },
     "execution_count": 7,
     "metadata": {},
     "output_type": "execute_result"
    }
   ],
   "source": [
    "w='AACCTTGG'\n",
    "v='ACACTGTGA'\n",
    "sco,_ = scoreAlignment(v,w)\n",
    "sco"
   ]
  },
  {
   "cell_type": "code",
   "execution_count": 773,
   "metadata": {
    "ExecuteTime": {
     "end_time": "2020-09-23T21:39:18.978678Z",
     "start_time": "2020-09-23T21:39:18.972175Z"
    },
    "cell_style": "split"
   },
   "outputs": [
    {
     "data": {
      "text/plain": [
       "'AACTTG'"
      ]
     },
     "execution_count": 773,
     "metadata": {},
     "output_type": "execute_result"
    }
   ],
   "source": [
    "l"
   ]
  },
  {
   "cell_type": "code",
   "execution_count": 776,
   "metadata": {
    "ExecuteTime": {
     "end_time": "2020-09-23T21:39:51.049783Z",
     "start_time": "2020-09-23T21:39:51.039363Z"
    },
    "cell_style": "split"
   },
   "outputs": [
    {
     "data": {
      "text/plain": [
       "'AACTTG'"
      ]
     },
     "execution_count": 776,
     "metadata": {},
     "output_type": "execute_result"
    }
   ],
   "source": [
    "LCS(v,w,sco,debug=False)"
   ]
  },
  {
   "cell_type": "code",
   "execution_count": 611,
   "metadata": {
    "ExecuteTime": {
     "end_time": "2020-09-23T17:58:52.072290Z",
     "start_time": "2020-09-23T17:58:52.003307Z"
    },
    "cell_style": "center"
   },
   "outputs": [
    {
     "data": {
      "text/html": [
       "<div>\n",
       "<style scoped>\n",
       "    .dataframe tbody tr th:only-of-type {\n",
       "        vertical-align: middle;\n",
       "    }\n",
       "\n",
       "    .dataframe tbody tr th {\n",
       "        vertical-align: top;\n",
       "    }\n",
       "\n",
       "    .dataframe thead th {\n",
       "        text-align: right;\n",
       "    }\n",
       "</style>\n",
       "<table border=\"1\" class=\"dataframe\">\n",
       "  <thead>\n",
       "    <tr style=\"text-align: right;\">\n",
       "      <th></th>\n",
       "      <th>-</th>\n",
       "      <th>A</th>\n",
       "      <th>A</th>\n",
       "      <th>C</th>\n",
       "      <th>C</th>\n",
       "      <th>T</th>\n",
       "      <th>T</th>\n",
       "      <th>G</th>\n",
       "      <th>G</th>\n",
       "    </tr>\n",
       "  </thead>\n",
       "  <tbody>\n",
       "    <tr>\n",
       "      <th>-</th>\n",
       "      <td>0.0</td>\n",
       "      <td>0.0</td>\n",
       "      <td>0.0</td>\n",
       "      <td>0.0</td>\n",
       "      <td>0.0</td>\n",
       "      <td>0.0</td>\n",
       "      <td>0.0</td>\n",
       "      <td>0.0</td>\n",
       "      <td>0.0</td>\n",
       "    </tr>\n",
       "    <tr>\n",
       "      <th>A</th>\n",
       "      <td>0.0</td>\n",
       "      <td>1.0</td>\n",
       "      <td>1.0</td>\n",
       "      <td>0.0</td>\n",
       "      <td>0.0</td>\n",
       "      <td>0.0</td>\n",
       "      <td>0.0</td>\n",
       "      <td>0.0</td>\n",
       "      <td>0.0</td>\n",
       "    </tr>\n",
       "    <tr>\n",
       "      <th>C</th>\n",
       "      <td>0.0</td>\n",
       "      <td>0.0</td>\n",
       "      <td>0.0</td>\n",
       "      <td>1.0</td>\n",
       "      <td>1.0</td>\n",
       "      <td>0.0</td>\n",
       "      <td>0.0</td>\n",
       "      <td>0.0</td>\n",
       "      <td>0.0</td>\n",
       "    </tr>\n",
       "    <tr>\n",
       "      <th>A</th>\n",
       "      <td>0.0</td>\n",
       "      <td>1.0</td>\n",
       "      <td>1.0</td>\n",
       "      <td>0.0</td>\n",
       "      <td>0.0</td>\n",
       "      <td>0.0</td>\n",
       "      <td>0.0</td>\n",
       "      <td>0.0</td>\n",
       "      <td>0.0</td>\n",
       "    </tr>\n",
       "    <tr>\n",
       "      <th>C</th>\n",
       "      <td>0.0</td>\n",
       "      <td>0.0</td>\n",
       "      <td>0.0</td>\n",
       "      <td>1.0</td>\n",
       "      <td>1.0</td>\n",
       "      <td>0.0</td>\n",
       "      <td>0.0</td>\n",
       "      <td>0.0</td>\n",
       "      <td>0.0</td>\n",
       "    </tr>\n",
       "    <tr>\n",
       "      <th>T</th>\n",
       "      <td>0.0</td>\n",
       "      <td>0.0</td>\n",
       "      <td>0.0</td>\n",
       "      <td>0.0</td>\n",
       "      <td>0.0</td>\n",
       "      <td>1.0</td>\n",
       "      <td>1.0</td>\n",
       "      <td>0.0</td>\n",
       "      <td>0.0</td>\n",
       "    </tr>\n",
       "    <tr>\n",
       "      <th>G</th>\n",
       "      <td>0.0</td>\n",
       "      <td>0.0</td>\n",
       "      <td>0.0</td>\n",
       "      <td>0.0</td>\n",
       "      <td>0.0</td>\n",
       "      <td>0.0</td>\n",
       "      <td>0.0</td>\n",
       "      <td>1.0</td>\n",
       "      <td>1.0</td>\n",
       "    </tr>\n",
       "    <tr>\n",
       "      <th>T</th>\n",
       "      <td>0.0</td>\n",
       "      <td>0.0</td>\n",
       "      <td>0.0</td>\n",
       "      <td>0.0</td>\n",
       "      <td>0.0</td>\n",
       "      <td>1.0</td>\n",
       "      <td>1.0</td>\n",
       "      <td>0.0</td>\n",
       "      <td>0.0</td>\n",
       "    </tr>\n",
       "    <tr>\n",
       "      <th>G</th>\n",
       "      <td>0.0</td>\n",
       "      <td>0.0</td>\n",
       "      <td>0.0</td>\n",
       "      <td>0.0</td>\n",
       "      <td>0.0</td>\n",
       "      <td>0.0</td>\n",
       "      <td>0.0</td>\n",
       "      <td>1.0</td>\n",
       "      <td>1.0</td>\n",
       "    </tr>\n",
       "    <tr>\n",
       "      <th>A</th>\n",
       "      <td>0.0</td>\n",
       "      <td>1.0</td>\n",
       "      <td>1.0</td>\n",
       "      <td>0.0</td>\n",
       "      <td>0.0</td>\n",
       "      <td>0.0</td>\n",
       "      <td>0.0</td>\n",
       "      <td>0.0</td>\n",
       "      <td>0.0</td>\n",
       "    </tr>\n",
       "  </tbody>\n",
       "</table>\n",
       "</div>"
      ],
      "text/plain": [
       "     -    A    A    C    C    T    T    G    G\n",
       "-  0.0  0.0  0.0  0.0  0.0  0.0  0.0  0.0  0.0\n",
       "A  0.0  1.0  1.0  0.0  0.0  0.0  0.0  0.0  0.0\n",
       "C  0.0  0.0  0.0  1.0  1.0  0.0  0.0  0.0  0.0\n",
       "A  0.0  1.0  1.0  0.0  0.0  0.0  0.0  0.0  0.0\n",
       "C  0.0  0.0  0.0  1.0  1.0  0.0  0.0  0.0  0.0\n",
       "T  0.0  0.0  0.0  0.0  0.0  1.0  1.0  0.0  0.0\n",
       "G  0.0  0.0  0.0  0.0  0.0  0.0  0.0  1.0  1.0\n",
       "T  0.0  0.0  0.0  0.0  0.0  1.0  1.0  0.0  0.0\n",
       "G  0.0  0.0  0.0  0.0  0.0  0.0  0.0  1.0  1.0\n",
       "A  0.0  1.0  1.0  0.0  0.0  0.0  0.0  0.0  0.0"
      ]
     },
     "execution_count": 611,
     "metadata": {},
     "output_type": "execute_result"
    }
   ],
   "source": [
    "##https://www.youtube.com/watch?v=LhpGz5--isw\n",
    "# v='ATGGCCTC'\n",
    "# w='ACGGCTC'\n",
    "\n",
    "##http://rosalind.info/problems/ba5c/\n",
    "w='AACCTTGG'\n",
    "v='ACACTGTGA'\n",
    "\n"
   ]
  },
  {
   "cell_type": "code",
   "execution_count": 712,
   "metadata": {
    "ExecuteTime": {
     "end_time": "2020-09-23T20:56:10.942591Z",
     "start_time": "2020-09-23T20:56:10.902612Z"
    }
   },
   "outputs": [
    {
     "data": {
      "text/plain": [
       "'ACCTGG'"
      ]
     },
     "execution_count": 712,
     "metadata": {},
     "output_type": "execute_result"
    }
   ],
   "source": [
    "w='AACCTTGG'\n",
    "v='ACACTGTGA'\n",
    "Fmat,_=scoreAlignment(w,v)\n",
    "LCS(w,v,Fmat)"
   ]
  },
  {
   "cell_type": "code",
   "execution_count": 713,
   "metadata": {
    "ExecuteTime": {
     "end_time": "2020-09-23T20:56:12.550157Z",
     "start_time": "2020-09-23T20:56:12.511899Z"
    }
   },
   "outputs": [
    {
     "data": {
      "text/plain": [
       "'ATGT'"
      ]
     },
     "execution_count": 713,
     "metadata": {},
     "output_type": "execute_result"
    }
   ],
   "source": [
    "##https://www.youtube.com/watch?v=wmIMeyWDZI0&list=PLQ-85lQlPqFNmbPEsMoxb5dM5qtRaVShn&index=3\n",
    "v='ATGTTATA'\n",
    "w='ATCGTCC'\n",
    "Fmat,_=scoreAlignment(v,w)\n",
    "LCS(v,w,Fmat)"
   ]
  },
  {
   "cell_type": "code",
   "execution_count": 715,
   "metadata": {
    "ExecuteTime": {
     "end_time": "2020-09-23T20:59:32.579166Z",
     "start_time": "2020-09-23T20:56:34.081971Z"
    }
   },
   "outputs": [
    {
     "name": "stdout",
     "output_type": "stream",
     "text": [
      "CPU times: user 3 µs, sys: 1e+03 ns, total: 4 µs\n",
      "Wall time: 21 µs\n"
     ]
    }
   ],
   "source": [
    "%time\n",
    "w='ACCGTCTTAGCGATCAACACATTTAACAACGCGCCGCACCCCCCGTCAAACGAGCTTTTGGGCTCTTGTCCTTTTACAAGCTTCACGACGCATACAGCCTTGATCAACGGTTTGATCTGTCTCCCTTCAGCTGGCTTTAAAGGACATACATATGAAGGCCTTAATAAGGTCCGGGAACTCCACATATTCGGTACTGGGCAAACCCCATGAACCACCTCAACATGAAGAGTCCGAGGACTCTCACGATCCACCAATGCAGATCGGAACTGTGCGATCGCGTAATGAGCCGAGTACTTGGTTTGTGTTTAGGTTATGGGGGCCGGGAGCCGGTTCAATATAAGGAAGTAGTTGCAGATTAGTTGTTGCGAACGGTCATAAATTTGATGGGTAAACGTGAACTTAACAAACCGTGATAGCTAATCCTATGCATCCCTTACGTGGATCGACTCGAGTACCCAGGTGAACCGACTACTTGATAACCGGAAATCGCGGTATAAAAGCGCTCACGGTCAGGAGATATACCTCCAAGCAGTAGTCTTTCTGAGCCTAGAGTAGTAAATTACAGGGACGATGTCTTTTACCGAGGCAACATTTTATTGAGAATCACATGAGGCACAGGTAAAGGCGACATCACGATCGAGATCAACCCCTACTTGTTCAAAACATTGAGAACCAGCTCTGTTTTGGAACCTAGAAAGATAACGCATCCGCTTGATATTCCACGGCTTGTCCCTCTTGTGCGGTCCATCTATCGGAGTTTCCTCCGATACGACCCGCAATGTTTCCAGGCGTACGGTACTTTATGAATACACTCGCGCTGTAACCTGTTATGTGAAACACACACGACAGAGCTTCGCGTGGGCCCAGCGACCCGGTAATACTACATCACCGCACACGACCTCGAGCAGTCTTTGCCGGCGTCCGTAAGTAGTCTAAAGTTGTGTTGATGCTTGGGGTTAAAGCTAAATCGTCCGCAGAATACGACTCTCATCCCAAT'\n",
    "v='ACCCGCACGCGCTTTGGTCTAGATTCTAGCTCCAACTTGCCTGCTAGATACTCTGTTAAAAGATGGTTTTACAACCCCCTCCTCTGTCCCTGGGGTATTATATAATACGTCGGATAGTCAGGTACAAATACAAGTGGGTGGGAATACTTTTCCTCGGATCCTAGACCACGGATTACTGCGTGGTTGACAAGAGTCGGCCCGGAGGGAAACGTGAAGGTTAGTGCAATTAAAGTCTCTAATGTGAAGCCTCCGCGAAGCGAGGAGTTTCTGAGATCGAGTACTATTTAGAGTTCGAAATCACGGCTTAACCTCACTGCCACGCATAACTTGCCGGCAATCCAGTTTTGCAACGATACTTAATTTGTGCAGCTCATCTTTGCTGTCCAGAAATAGAGCTAGTCGATCTCATCTTGCGGGTAGCCAGAAGTCCTACCGTCTCCTCCATGTAGCTTAAAAATTTCGGTGAGGATCAAAAATGATAAACGTGACAGGTAAGCTCCTACGTCTATCCTATGACCCCCGCGGCAGAATAGGTTGGTAGTGTTAGTGCGTGAGCTGGTAGAATAGAGCACACTTAGGGAAACGGGAACCGTTATGTAGGGCTGCGACACACAAAAAAGTGTTCGTTGGTAAGCTGCCTCTCCACTAAACAGGATTTCTCTGGATGATCCCATCGAAGCAAGTTACGCACCACGCCGAGGCGGACCCTGGTACTAGCTGCCCCCCCCTTTATGGGGCGCTCGTACATCAAGATGATCGCGGACTCAACCTGATTACGAGTTGTCCAAGTAGTCCAGGGTAAGAGAAACTGGAGAGA'\n",
    "Fmat,_=scoreAlignment(v,w)"
   ]
  },
  {
   "cell_type": "code",
   "execution_count": 747,
   "metadata": {
    "ExecuteTime": {
     "end_time": "2020-09-23T21:19:53.723250Z",
     "start_time": "2020-09-23T21:15:02.448046Z"
    }
   },
   "outputs": [
    {
     "data": {
      "text/plain": [
       "'CACCTAGCCTACCGGTCTACCAAATATCTAGACTCATTGGCCGTGTAATAGTTGGGGATATTTCTTTTAAATTGTTCCATATTACTTGGGTGGAACTCAACAACCCTCCGGCGTAGAAGCGGATTTGGTCGCGAAGTATTGTATTTCGGGTGACCACCCACCCCCTACTCAAATTTGAAGCTAATTGTTTAGGTGAAGAATCGCTTGGCCGTGCGCAATTTGGCGACCCCGGCCCCATTCTTCTCAGCTCATCCACCTTCCATTTGGTATAACGCATAAAGGACACAGCAATTAGGGTTATGTCCGCTGGACTGTGTACACTTTTCAGTTGGGCGCTGGCTCCTTCAGAATTGTTTTGCCCATAGGCCGCAAGTCACGCGAGGGCGGAACGGTTACTGTTAGGATCGTTGGTGCGTTTTAAGTTCCGGCGATCACTGTGACTACCCCACACATTGGTTCTCCTAGGTACGAGTAAACGCTCGATAGTTGGTCACTGCATCGCATCGATTCCTGCCATTATTCAAGTCCGAGGCCCCCGAGCCCCCAGCGAGGGTCCG'"
      ]
     },
     "execution_count": 747,
     "metadata": {},
     "output_type": "execute_result"
    }
   ],
   "source": [
    "### Challenge\n",
    "% time\n",
    "w='TTTGACATTCCTACGACCTAGAACCGGCCGGAAGGGATAGGCTACCAAGCGATGTATCTGAGGATCTCATTGGCCGGTCGTTTCAAGCCGTAGTTTGGCCGCGATACCCCGTTTCTTCTTATAATCTCACCGTTGCGCCCACGTGAAATCAGTACTGTTCGGGGGTTGTGTAAAAATCCTCATCACCGCAAACCCACTCGCAGGGGTCTTGTCAGATAAGCGCGCGTATGTTGGTCGGGGAACGGAAGGGGGGTGTATGTCGTATCTTCGGGTGACCACCCATCCCCCTACTCAAGATCTGTGTAGGAGCTATTATTGTTTGAGGTGAATGAGATGCGCTTCGAGGCCGTGCGTACACGGATAGTAGCTGGCGGACACGCCGGCAGCCGCATTCTGTCTCAGCTTCAGTCCGACCTTCCTATTTGGTAATAACCGCAATTATGGAAGTTCGACATCCCGAGGTGATTCAAATTAGGGTTTAATGCGCTCCGCTGGTACTGCATGTATCTATCTTCTTCATGTTAGGGCGCTAAGGCGTGCCTTCATTGAATTGTTTTAGCATACCACCCTGGAAAGGCCGCAAGCTCACGGTCGAGACAGAGCCGTGGAACGGTGATGGACTGTTAAGGATCGCTGTGGTGCGTAATATTAGAGAATTTCCGGCCCGCTAATACCCAACTGTGCACTTAACCCCATCACATGTGAAAGTTGTACTCCAGTAGGTGACCTGAGTCCCAAGACGCTCCCCCTGATTAGTTGTGTGCACTGTTCCGATCGTCAGGGTGCTAGATGTCCTTGACCGAGGTTCAGTTCGCCAGATGGTGCCGACGGACGCGGTCCACTGAGGCCCCTCATTGGCCGAGCAATAGTTGATCCG'\n",
    "v='CACCTAGCCTATCTTTTCGGTTCTAGCCTAAATATCATCAGCACGTGCCTATGTGGCCGTGTAATGAAGCTTGGTTGAGAATATTGGTCCTTGTTAATATGTGTTCTCATATTACTTGCGGTGGAGACTCGAACAACGCCGTCCTGGCGTAGAAGCGGAATTTCGATGTCGCCGTACAGTATTGGTATTGTTCCGCGGGGCATGACCAGCTGCCGAACACGTGCTCCGTGATGATACCGTCACACCAATTTGAAGCTAAAACCATGTGCTTACATAAATCGGCTGTCACAGAAATTCGCTTGCTGTCCTCGTGCGCAATTTCGTGCGTTACCCGCGTGCCCCCACAACATTTACTTTCTAACATGCCCTCAACAAATCCACTACCTAGTAGCGCCGCACTCTTCAGAGTATCAAAGCGGCATAAAGGACAACAGCAACGCTCTCATCGTGACGCCTTATTGTCCTTGCTAGGGAACTTGTCGCGGTGACACTATTGTGCGGAGAGGGTTGTGCTTGCGCTGGCTACCTATCAGCAAATCGTCGTGTGTTGCGCTTCATAGGCTTTCCCGCAAGGTTCACGCGAGGGCGGTTCAACGGCTTATCTCCTCGTCTACGTCCACCAGATTACGTTGCTGTCGCCCGCTCTTTACCCAGGGTTCCCGTGCGGATGTCATTCTTTGTTAAGTACTACCATCCACACAACTTGGTTCTTTCCTTCTCACCGGTAGCGTAGTTAAAGCGCTAACGCATAGTTGCGAAATAACTAACTGCATGACGCCATCGACTTCCCTGTCTTCATTATTACTTAAGTACGCATGAGGCCCCCGAACGCCCCCAGACGAGGGTCCTCTGGCGGA'\n",
    "Fmat,_=scoreAlignment(w,v)\n",
    "LCS(w,v,Fmat)"
   ]
  },
  {
   "cell_type": "code",
   "execution_count": 781,
   "metadata": {
    "ExecuteTime": {
     "end_time": "2020-09-23T21:54:09.659378Z",
     "start_time": "2020-09-23T21:54:08.435457Z"
    },
    "cell_style": "split"
   },
   "outputs": [
    {
     "name": "stdout",
     "output_type": "stream",
     "text": [
      "CPU times: user 3 µs, sys: 0 ns, total: 3 µs\n",
      "Wall time: 17.9 µs\n"
     ]
    },
    {
     "data": {
      "text/plain": [
       "'TTAGTGGGTTGGGCCGTGTCGAATACCATTTGACCAATCGGTTTCAGTAAACGTAGAGATCACCTCGGTAAGGACTGCGTAGGGTCATTTCCTTGGAACAGCTCCTGACATTTCGCAGTGCGATTCTACAAAGCGTCCGGTGAGTGAACGAGCCGGAATGGGAGCGTACCCAAAACTGAGTTTAATCGCAGCGAGTGGCCTTAGGGGAAGTGTAATATCCTCCCGTCCCCTATGCTTACTGGCTCATGGGTAAATCATGAAGAACGAAACCCGTGAGGCTCGGCTGGCACATTTCACAGGGTAGGGGGTCGTCTCCCCAATTAAAAACGGGGCAGGTTGACGTGCATGCATGGCTTGGCGTGAAACCCGATGAATACTACAGCTCACACTCACCCCGCCAACAAATCTATTCAGAGCGAGAGGATCTGGTTTACAGCTCACTCTCCCTCCCTTAGAAGATGCCGGTCCATAGGATAGGATGAGTCCAACACGTTCTAAAATACCCTTAGAACCGGAAGATTACTCGGAATTTTGATGATCTCAATGGTATGGTATCTTCAAGCCGTTTCCATGATAGCTAGGGAACCAGTCTGTTTTTAGGGACGACCGAGTTATACGGAGGTCTCC'"
      ]
     },
     "execution_count": 781,
     "metadata": {},
     "output_type": "execute_result"
    }
   ],
   "source": [
    "### Challenge new dataset\n",
    "%time\n",
    "w='TTAGTGGGTATAGGTGCCGTGTCGGATATTACTCATTTCCGACCAATTCGGTTTCAGTGAAACGTAGATGATCACCTATCGGTATAAGGACTTGCAGTAGAGGTCAGTTTCCTTGAGAACAAGCATCCATGTAACCCAAGTTTCTCCCGCGGAGTGGGCGATTGGCTAACAAGAGCGGTTCGGCGGTGCAAGCTGAGACAAGAGCTTGCGGAATGGGAGCTGTAACTCCATAAACTAGAGTTTAATCGTAGTCCTAGTCCTGCCCAGTTGGCAAGTGCTTAAGGGGTAAAGTCGTAATGATTCCTCGACCAGTTCCCCTATGGTACTTACAAGTTGGCTCATGGGGTAAATCACTGAAGAACGAGAAGCGCACGTGAGGCTGGCGGGCTGGTCACGATTTCTATCATTGTAGGTAGGGCGGTTCGGGTCATCCAACGCAGTATGTTATCGTCATTTCTCACACATCGGGAGCACGACACGAATCTTCGTACGTGTCCATGCCATGTTTAAGTTTCTTAGAGATACTTAAGTTGAAAATCCCGATAGAATCAACTACAGCTCACTACCTCTTCCACCTCTTCGCTTCGGGTAACATAACTTCTCATTCCAGAGGTTGCGAGGCCACCCGGACTTCATACGGCTTATATCAGCTTCACTCCATCCCTCGGCCCATTAGCGAAGCAGTGCGCGAGGATGCCATGCAGCGTAATTGGAGGGACTTCGGAGTCCCAACACATAGTTCTAAAGTAGTTTTTAGCCGCTTAGAATCCCTGGCGGGGGAAGATTACCATCGGAGATTCCCTTGAACTGATCTGCGCGACACTGGATATGGTATCGTGTGCAAGCAACCGTATACATCAAAACCATGGGAGTAAGCATCCCAGGGAAACCAGGGAACTCATGTACAAGATTTTCAGTGGACGACACGACGGTCTATATCCGGACCACGGTCACACCTACCACGACC'\n",
    "v='GTTAGACGCATGGTGAAGCTTGGCGCCCCAAGGCTAGTAGGGCGAACATGAGCGGCCAACAACTTATGTTAGCGCATATACGAAGGGGGTCATTTAACAGGGGTACAATTACCATGGTTAGACGGATTTCCAACCTCGAGCTGAAGGGCACAATAGAACGTTATGGGGTGCTAATTCCTCCTGATGTTGATACAGCGTTGGCCGTGACTATTTGGCGCAAGTAGACTATATTGTATACTTCTATTCGAACAGCCGATCCGGTGGAGTTTGGGGGGGAACGCAGCCGGAATCGCTGTGACCCCCTGCGTACCCCGAGGAGACGACTCTTCCGGAGTGATATAATGCGCAGCGAGTCGGCCTATAGGGGAATGTTGATAATATCCTAGCCCCGTGCCCAATAAGCCTAAATTTTGCCTTACTGAGCCCTCATGCATCGCGATAAGATCTAGTGAGAACGCCAACGGAAAACTCTTTCGGTGGGACCCGGCACCCTCGGCTGACGCACACTGTCGTCGACAGGGTAGGCCCGGGCTCGTATCTCCCCAACTTAAAAAACGGTGGCTTGAGGTTGGGACGGCTGAGCATGCGATTGGCTATGGCGTGAACAGCCTCAGATGGGTAATTACTGACAGCGCGTTACGCAACAGCATCACTCCCGAACCAAACAAGAGAGGTCTATGGATCGAGAGCGAGAGGATCTGGTGTTGTACACGCGTAAACACCGTACTCCCGATCATACCTTAGTAATATGATGCTCGGTCCATATAGGATAGGATGAGTACTGCATTACAGCGGTTCCATAAAACTACCCCTCTAGCAAGCCGGAACGATTGAGTCTCGTGCAATTATTTCGATGAGGTCAGTCATTATAAGGTATGGAATAATGCTTCACACGCTTCGTTTGTTCCTATGACTTACGCTTAGGACGCAAGCCACGTCGTGTTTTTAGGGACCCAGACTCTGCTCATGTTGATACGAGGAGGGGTCTCC'\n",
    "longSub,_ = lcsq(w,v)\n",
    "longSub"
   ]
  },
  {
   "cell_type": "code",
   "execution_count": 777,
   "metadata": {
    "ExecuteTime": {
     "end_time": "2020-09-23T21:46:40.018296Z",
     "start_time": "2020-09-23T21:40:12.293912Z"
    },
    "cell_style": "split"
   },
   "outputs": [
    {
     "name": "stdout",
     "output_type": "stream",
     "text": [
      "CPU times: user 3 µs, sys: 0 ns, total: 3 µs\n",
      "Wall time: 17.2 µs\n"
     ]
    },
    {
     "data": {
      "text/plain": [
       "'TTAGTGGGTTGGGCCGTGTCGAATACCATTTGACCAATCGGTTTCAGTAAACGTAGAGATCACCTCGGTAAGGACTGCGTAGGGTCATTTCCTTGGAACAGCTCCTGACATTTCGCAGTGCGATTCTACAAAGCGTCCGGTGAGTGAACGAGCCGGAATGGGAGCGTACCCAAAACTGAGTTTAATCGCAGCGAGTGGCCTTAGGGGAAGTGTAATATCCTCCCGTCCCCTATGCTTACTGGCTCATGGGTAAATCATGAAGAACGAAACCCGTGAGGCTCGGCTGGCACATTTCACAGGGTAGGGGGTCGTCTCCCCAATTAAAAACGGGGCAGGTTGACGTGCATGCATGGCTTGGCGTGAAACCCGATGAATACTACAGCTCACACTCACCCCGCCAACAAATCTATTCAGAGCGAGAGGATCTGGTTTACAGCTCACTCTCCCTCCCTTAGAAGATGCCGGTCCATAGGATAGGATGAGTCCAACACGTTCTAAAATACCCTTAGAACCGGAAGATTACTCGGAATTTTGATGATCTCAATGGTATGGTATCTTCAAGCCGTTTCCATGATAGCTAGGGAACCAGTCTGTTTTTAGGGACGACCGAGTTATACGGAGGTCTCC'"
      ]
     },
     "execution_count": 777,
     "metadata": {},
     "output_type": "execute_result"
    }
   ],
   "source": [
    "%time\n",
    "w='TTAGTGGGTATAGGTGCCGTGTCGGATATTACTCATTTCCGACCAATTCGGTTTCAGTGAAACGTAGATGATCACCTATCGGTATAAGGACTTGCAGTAGAGGTCAGTTTCCTTGAGAACAAGCATCCATGTAACCCAAGTTTCTCCCGCGGAGTGGGCGATTGGCTAACAAGAGCGGTTCGGCGGTGCAAGCTGAGACAAGAGCTTGCGGAATGGGAGCTGTAACTCCATAAACTAGAGTTTAATCGTAGTCCTAGTCCTGCCCAGTTGGCAAGTGCTTAAGGGGTAAAGTCGTAATGATTCCTCGACCAGTTCCCCTATGGTACTTACAAGTTGGCTCATGGGGTAAATCACTGAAGAACGAGAAGCGCACGTGAGGCTGGCGGGCTGGTCACGATTTCTATCATTGTAGGTAGGGCGGTTCGGGTCATCCAACGCAGTATGTTATCGTCATTTCTCACACATCGGGAGCACGACACGAATCTTCGTACGTGTCCATGCCATGTTTAAGTTTCTTAGAGATACTTAAGTTGAAAATCCCGATAGAATCAACTACAGCTCACTACCTCTTCCACCTCTTCGCTTCGGGTAACATAACTTCTCATTCCAGAGGTTGCGAGGCCACCCGGACTTCATACGGCTTATATCAGCTTCACTCCATCCCTCGGCCCATTAGCGAAGCAGTGCGCGAGGATGCCATGCAGCGTAATTGGAGGGACTTCGGAGTCCCAACACATAGTTCTAAAGTAGTTTTTAGCCGCTTAGAATCCCTGGCGGGGGAAGATTACCATCGGAGATTCCCTTGAACTGATCTGCGCGACACTGGATATGGTATCGTGTGCAAGCAACCGTATACATCAAAACCATGGGAGTAAGCATCCCAGGGAAACCAGGGAACTCATGTACAAGATTTTCAGTGGACGACACGACGGTCTATATCCGGACCACGGTCACACCTACCACGACC'\n",
    "v='GTTAGACGCATGGTGAAGCTTGGCGCCCCAAGGCTAGTAGGGCGAACATGAGCGGCCAACAACTTATGTTAGCGCATATACGAAGGGGGTCATTTAACAGGGGTACAATTACCATGGTTAGACGGATTTCCAACCTCGAGCTGAAGGGCACAATAGAACGTTATGGGGTGCTAATTCCTCCTGATGTTGATACAGCGTTGGCCGTGACTATTTGGCGCAAGTAGACTATATTGTATACTTCTATTCGAACAGCCGATCCGGTGGAGTTTGGGGGGGAACGCAGCCGGAATCGCTGTGACCCCCTGCGTACCCCGAGGAGACGACTCTTCCGGAGTGATATAATGCGCAGCGAGTCGGCCTATAGGGGAATGTTGATAATATCCTAGCCCCGTGCCCAATAAGCCTAAATTTTGCCTTACTGAGCCCTCATGCATCGCGATAAGATCTAGTGAGAACGCCAACGGAAAACTCTTTCGGTGGGACCCGGCACCCTCGGCTGACGCACACTGTCGTCGACAGGGTAGGCCCGGGCTCGTATCTCCCCAACTTAAAAAACGGTGGCTTGAGGTTGGGACGGCTGAGCATGCGATTGGCTATGGCGTGAACAGCCTCAGATGGGTAATTACTGACAGCGCGTTACGCAACAGCATCACTCCCGAACCAAACAAGAGAGGTCTATGGATCGAGAGCGAGAGGATCTGGTGTTGTACACGCGTAAACACCGTACTCCCGATCATACCTTAGTAATATGATGCTCGGTCCATATAGGATAGGATGAGTACTGCATTACAGCGGTTCCATAAAACTACCCCTCTAGCAAGCCGGAACGATTGAGTCTCGTGCAATTATTTCGATGAGGTCAGTCATTATAAGGTATGGAATAATGCTTCACACGCTTCGTTTGTTCCTATGACTTACGCTTAGGACGCAAGCCACGTCGTGTTTTTAGGGACCCAGACTCTGCTCATGTTGATACGAGGAGGGGTCTCC'\n",
    "Fmat,_= scoreAlignment(v,w)\n",
    "myAlgo = LCS(v,w,Fmat)\n",
    "myAlgo"
   ]
  },
  {
   "cell_type": "code",
   "execution_count": 782,
   "metadata": {
    "ExecuteTime": {
     "end_time": "2020-09-23T21:54:12.020484Z",
     "start_time": "2020-09-23T21:54:12.008074Z"
    }
   },
   "outputs": [
    {
     "data": {
      "text/plain": [
       "True"
      ]
     },
     "execution_count": 782,
     "metadata": {},
     "output_type": "execute_result"
    }
   ],
   "source": [
    "len(myAlgo) == len(longSub)"
   ]
  },
  {
   "cell_type": "markdown",
   "metadata": {
    "ExecuteTime": {
     "end_time": "2020-09-23T19:36:48.568925Z",
     "start_time": "2020-09-23T19:36:48.484808Z"
    }
   },
   "source": [
    "                    My implementation is slow but it works. **Optimize later**\n",
    "\n",
    "---"
   ]
  },
  {
   "cell_type": "markdown",
   "metadata": {},
   "source": [
    "### BA5E Find the Longest Path in a DAG\n",
    "\n",
    "http://rosalind.info/problems/ba5c/\n",
    "\n",
    "**Longest Path in a DAG Problem** <br>\n",
    "Find a longest path between two nodes in an edge-weighted DAG.<br>\n",
    "\n",
    "Given: An integer representing the source node of a graph, followed by an integer representing the sink node of the graph, followed by an edge-weighted graph. The graph is represented by a modified adjacency list in which the notation \"0->1:7\" indicates that an edge connects node 0 to node 1 with weight 7.<br>\n",
    "\n",
    "Return: The length of a longest path in the graph, followed by a longest path. (If multiple longest paths exist, you may return any one.)<br>"
   ]
  },
  {
   "cell_type": "markdown",
   "metadata": {},
   "source": [
    "Answer is in http://localhost:8888/notebooks/LargestPath.ipynb"
   ]
  },
  {
   "cell_type": "markdown",
   "metadata": {},
   "source": [
    "----"
   ]
  },
  {
   "cell_type": "markdown",
   "metadata": {},
   "source": [
    "### BA5E  Find a Highest-Scoring Alignment of Two Strings\n",
    "\n",
    "http://rosalind.info/problems/ba5e/\n",
    "\n",
    "**Global Alignment Problem** </br>\n",
    "Find the highest-scoring alignment between two strings using a scoring matrix.</br>\n",
    "\n",
    "Given: Two amino acid strings.</br>\n",
    "\n",
    "Return: The maximum alignment score of these strings followed by an alignment achieving this maximum score. Use the BLOSUM62 scoring matrix and indel penalty σ = 5. (If multiple alignments achieving the maximum score exist, you may return any one.)</br>\n",
    "\n",
    "\n",
    "```\n",
    "- input: two strings\n",
    "s1=PLEASANTLY\n",
    "s2=MEANLY\n",
    "\n",
    "- output: optimal alignment score, and aligned strings\n",
    "8\n",
    "PLEASANTLY\n",
    "-MEA--N-LY\n",
    "```"
   ]
  },
  {
   "cell_type": "markdown",
   "metadata": {},
   "source": [
    "### BA5F  Find a Highest-Scoring Alignment of Two Strings\n",
    "\n",
    "http://rosalind.info/problems/ba5f/\n",
    "\n",
    "**Local Alignment Problem** </br>\n",
    "Find the highest-scoring alignment between two strings using a scoring matrix.</br>\n",
    "\n",
    "Given: Two amino acid strings.</br>\n",
    "\n",
    "Return: The maximum alignment score of these strings followed by an alignment achieving this maximum score. Use the BLOSUM62 scoring matrix and indel penalty σ = 5. (If multiple alignments achieving the maximum score exist, you may return any one.)</br>\n",
    "\n",
    "\n",
    "```\n",
    "- input: two strings\n",
    "s1=PLEASANTLY\n",
    "s2=MEANLY\n",
    "\n",
    "- output: optimal alignment score, and aligned strings\n",
    "8\n",
    "PLEASANTLY\n",
    "-MEA--N-LY\n",
    "```"
   ]
  },
  {
   "cell_type": "code",
   "execution_count": null,
   "metadata": {},
   "outputs": [],
   "source": []
  },
  {
   "cell_type": "code",
   "execution_count": null,
   "metadata": {},
   "outputs": [],
   "source": []
  },
  {
   "cell_type": "code",
   "execution_count": null,
   "metadata": {},
   "outputs": [],
   "source": []
  },
  {
   "cell_type": "code",
   "execution_count": null,
   "metadata": {},
   "outputs": [],
   "source": []
  },
  {
   "cell_type": "markdown",
   "metadata": {},
   "source": [
    "### BA5G Compute the Edit Distance Between Two Strings\n",
    "\n",
    "http://rosalind.info/problems/ba5g/\n",
    "\n",
    "> In 1966, Vladimir Levenshtein introduced the notion of the edit distance between two strings as the minimum number of edit operations needed to transform one string into another. Here, an edit operation is the insertion, deletion, or substitution of a single symbol. For example, TGCATAT can be transformed into ATCCGAT with five edit operations, implying that the edit distance between these strings is at most 5.\n",
    "\n",
    "**Edit Distance Problem** <br>\n",
    "Find the edit distance between two strings.<br>\n",
    "\n",
    "*Given*: Two amino acid strings.<br>\n",
    "*Return*: The edit distance between these strings.<br>\n",
    "\n",
    "````\n",
    "- in:\n",
    "PLEASANTLY\n",
    "MEANLY\n",
    "\n",
    "- out:\n",
    "5\n",
    "```"
   ]
  },
  {
   "cell_type": "code",
   "execution_count": 33,
   "metadata": {},
   "outputs": [],
   "source": [
    "def editDistance(x,y,penalty=1,match=0):\n",
    "    \"\"\"\n",
    "    More efficient. Time is O(m*n) but space is O(n)\n",
    "    \"\"\"\n",
    "    m = len(x)\n",
    "    n = len(y)\n",
    "    Fmatrix = np.zeros((m+1,n+1))\n",
    "\n",
    "    ## initialize\n",
    "    for i in range(1,m+1):\n",
    "        Fmatrix[i,0] += Fmatrix[i-1,0] + 1\n",
    "    for j in range(1,n+1):\n",
    "        Fmatrix[0,j] += Fmatrix[0,j-1] + 1\n",
    "\n",
    "    ##\n",
    "    for i in range(1,m+1):\n",
    "        for j in range(1,n+1):\n",
    "            if x[i-1] == y[j-1]:\n",
    "                Fmatrix[i,j] = Fmatrix[i-1,j-1] + match\n",
    "            else:\n",
    "                mm = Fmatrix[i-1,j-1] + penalty\n",
    "                down = Fmatrix[i-1,j] + penalty\n",
    "                right = Fmatrix[i,j-1] + penalty\n",
    "                Fmatrix[i,j] = min([mm,down,right])\n",
    "            #print(x[i-1],y[j-1],[mm,down,right])\n",
    "\n",
    "    return Fmatrix[m][n]"
   ]
  },
  {
   "cell_type": "code",
   "execution_count": 34,
   "metadata": {},
   "outputs": [
    {
     "data": {
      "text/plain": [
       "5.0"
      ]
     },
     "execution_count": 34,
     "metadata": {},
     "output_type": "execute_result"
    }
   ],
   "source": [
    "a='PLEASANTLY'\n",
    "b='MEANLY'\n",
    "editDistance(a,b)"
   ]
  },
  {
   "cell_type": "code",
   "execution_count": 35,
   "metadata": {},
   "outputs": [
    {
     "data": {
      "text/plain": [
       "400.0"
      ]
     },
     "execution_count": 35,
     "metadata": {},
     "output_type": "execute_result"
    }
   ],
   "source": [
    "##http://bioinformaticsalgorithms.com/data/extradatasets/alignment/edit_distance.txt\n",
    "a='GGACRNQMSEVNMWGCWWASVWVSWCEYIMPSGWRRMKDRHMWHWSVHQQSSPCAKSICFHETKNQWNQDACGPKVTQHECMRRRLVIAVKEEKSRETKMLDLRHRMSGRMNEHNVTLRKSPCVKRIMERTTYHRFMCLFEVVPAKRQAYNSCDTYTMMACVAFAFVNEADWWKCNCAFATVPYYFDDSCRMVCGARQCYRLWQWEVNTENYVSIEHAEENPFSKLKQQWCYIPMYANFAWSANHMFWAYIANELQLDWQHPNAHPIKWLQNFLMRPYHPNCGLQHKERITPLHKSFYGMFTQHHLFCKELDWRIMAHANRYYCIQHGWHTNNPMDPIDTRHCCMIQGIPKRDHHCAWSTCDVAPLQGNWMLMHHCHHWNRVESMIQNQHEVAAGIKYWRLNRNGKLPVHTADNYGVLFQRWWFLGWYNFMMWHYSLHFFAVNFYFPELNAGQMPRFQDDQNRDDVYDTCIWYFAWSNTEFMEVFGNMMMYSRPMTKMGFHGMMLPYIAINGLRSISHVNKGIGPISGENCNLSTGLHHYGQLRMVMCGYCTPYRTEVKNQREMISAVHCHQHIDWRWIWCSGHWFGSNKCDLRIEDLQNYEPAKNKSNWPYMKECRKTEPYQDNIETMFFHQHDLARDSGYIANGWHENCRQHQDFSNTFAGGHKGTPKGEHMRRSLYVWDTDCVEKCQWVPELFALCWWTPLPDGVPVMLGTYRQYMFGLVVLYWFEVKYSCHNSWDYYNFHEGTMKDSDPENWCFWGMQIIQFHDHGKPEFFQDPMKQIIKTECTAYNSFMMGHIGKTTIVYLVSYIGRLWMKSCCLTWPPYATAPIKWAEETLLDFGQGPHPKYACHFTHQNMIRLAKLPMYWLWKLMFHE'\n",
    "b='GMWGFVQVSTQSRFRHMWHWSVHQQSSECAKSICHHEWKNQWNQDACGPKVTQHECMANMPMHKCNNWFWRLVIAVKEEKVRETKMLDLIHRHWLVLNQGRMNEHNVTLRKSPCVKRIMHKWKSRTTFHRFMCLMASEVVPAKRGAQCWRQLGTYATYTVYTMMACVAFAFEYQQDNDNEADWWKCNCAFVPVYFDDSCRPVVGAFQCYRLGLPFGTGWNYAEENPFSKLKQQMHRKTMGECKNMMIWAYCANELQLPIKWGSMYHEHDFQLPPYHPNRFHKIRITILHKSFYGMFTQHHLFCKELDWRIMAWANRYYCIQHGWHTNNPDDPITRHKCMIQGGQNSRNADIRHMPVQCGNWGHAIGLEMPMPMHHCHHANRVESMIQTQHYWGPKLNRNADWWFLGWQNFEIFRMPILRWMGAYEWHYSLHFFAVNFYFPELNAGQMPRFQDDQNNNACYDVWAWSNTEFMEVNGIKKLRFGNMMMYSRPMTKMGFHGMMKSRSISHVNKGIGPISGENCSTGLHHYGQLTEVKNQREMISAVHCHQHIWCKCDLRIEPAKNKGYWPYQKEFCWRKQINSRKTEPYQVAPVINIETMFFDFWYIANGMHENCRRTGHKPNPDCVEKCQWVPELFALCWWRAMPDGVPVMLGTMFGLVVYWFEVKYSCHNSLYRRVTDYYNFHEGTMKDHEVPWNWDNEHCHDHGKAEFFFQMLKIPICDPMKAIIPSTEMVNTPWHPFSFMMGHDGKTTIVYSGSYIGRLWVPSRWKPYAPANWKMPIKWAEETLLMVPHPHFTHQQLWGTTLRLAKLPMYWLWKLMFHHLFGVK'\n",
    "editDistance(a,b) #400"
   ]
  },
  {
   "cell_type": "code",
   "execution_count": 36,
   "metadata": {},
   "outputs": [
    {
     "data": {
      "text/plain": [
       "1776.0"
      ]
     },
     "execution_count": 36,
     "metadata": {},
     "output_type": "execute_result"
    }
   ],
   "source": [
    "## Challenge\n",
    "a='KILHWMRGSHPWRWWQQHTKVIKPGWEIAVQDTNTHRYMKRIYRMRGLWMQISTDPGVWNKVVVPDTWSASKEIMVKMYAWSYLSYNEDIPCNLDRQNKNRVSMVHMIWRWFLEATHVRWTHNWYCTTLEAHEALSWNSNRAGIVIENSFMQHHMHCQEYDASACYSFQYIVTQECLGRGWLLEIRCFWEIMCITYMCAGDMNMCNREPPRCVWVPNHKLRKHLHMCTRFISTGEKGHIVQMVWSQVTWMWHGDQFTLAQENYMRFSGTTYGWCLAPGPCYQNLGQNTDGFWPYDIPNWNEWNMCERWAYVYRFSAVIIIFPQYQMSDPYAPGEIPNDLGPIIKMVDACKQKAENIEMFDKNASFTGTEASYFPYQMEWYRFCTEHRSGWYMQRSGMKPNWMAPGVRCYNWARKKRCPHIWEIPPIWFIWPTGYMAIVHCQNHRGVVYNDAVQIKRADWDHVLMAVKQAQSSMPNHSMKEEPYLTDWYVRMDFTQQCPFLNKSVILSYNCSYGPNEHYGRRFQAVNPVRSRACFAAWQWKHTPLDMTDWKWTFHQISNTERRQVNQEKVWPNRTFDGCLGRTCRPRDIDAHWQEQEMMQPNLNVVNEYPNMPRQFEARMPCHRQPDPDAEKHYCTSKCLDSKLRLCDNYIQCVHIFGTPWLDSNMFIYKENALLMEVANLFHTIVNCPRWHRWCWPFLPNPGNACWNSRVWIIIHIFIPEPVGGTGFYGQEHEHWMDGSAGSWFLPFLLLVDHLVVNENNRSKQMILAPRSQYPTLSETGSGLNQVLSYCWHIMHTKWYSMYFLYFMHHCLLTIMMISSLTTIGDTYNCFSDHSNLTNPKKKFNLTRKVGGFTLELWWAIFCRPPWNAVAFPNQPYSPEKVKSSNCAGLLTFWTVKKCQEFWGVQYMIEQNHDMWVQCFEDFGHFTRGSFDTKSDMQLGNNWETTLCKLKHEPTCVYVHEWEPYRHQPPSPNKPMCEWWRCYNCMNGYSTLMWETDKEFLEWCWSKSCYMKHIEIAHEAMIIRQNKYLESRNFHMFNQRSQLSCDRGLKFWSGNKKGYMIFPMGEVLPVFLTYDDSFSGWMPCMKWHTTSCSVVFPYAYCLGWIWKIANSKHQYFIKTKCEEGTVKGEPHNAKILSQNKMCMHGKCMYWYMCPDFGQWNMATGMVWNNYCPGRITQKHWEGHMVYALQKWYHCAEMFNCQELVVCYDMQVCELTCGCSEYYSCNIRTMGKLTCYWNGKAQEVHQPIIDAGDSSELQWCYMSYIFMLMKSSFPFMAWHPHWACTAPQITHDLHNNEEMIAQHTIITFQRCLGCYEHAVRDKGMCYFITREGLVGMPAEVRHMPELTLLKWMCQTWRFCIAFLDFRLKQPTGKSLGIEFRGNSRMIDLGAPFWQMDFVPSLGEMARPAKYSMIKAGVFCGQCAQNAMRGIYVICMINPTDMDLTCHSMTVKQKQGPFHEDKNDPNQRYFWAQHQQFEHVAYVYGPAGDEALRQSNIDFNREKGDSFEKDTQAILRACITSFKNFTIVEMMLCYDLKHEEEYGLKFISSKAFRGHKHTGVMFIETLVKIGKEETHTRSMKSYRYNLWDAGTYGWTVLHEDWRSAYNIMFRDEYCDICPLPWEREFCPYMQTDNCVPYEGPCMQTTKCAIAIRVTMLGQNGCVNKADWRDNEMTAWEQIMTHESYSSKYTYDQFAQGAPHSMFHQGHDTASGPTLVYSDGPEFTTAGAIQPELKFGFVYWYCSDWCFVENFHFNNEGVFNDRSAHDQRLIVSQQNTEQPQQIIAFMFWDSFTDWQNVRQDDWAIVHWMTQARAGYQDANHVCRPMEPAGGWYINVRQFDTYHSQRPGYMTYTNISVTFLYSYEIGMTIRWNSSCGSNLISDHLMAWYQNQKRPYMNHCQMPNGFATPPVAGHFDNGHTMMHIHHRDVWILWPQYLQHVMMMETQLDYLMPEDFQMCPCPEDCCRNIPEDRVQYMFTKMIKKNMQPSFDVLINADNGWRLNEHDFPVMRRIGKNWMLDILATFECNWTDRYCNCCHDPPAFAHHRSMGFRKFDSNIPFVALPGIMGNPGPNAVPSCCFRHQFSGHDPSHVKALKSLEGLYFAVESSWCLNVMWEDVHCSIAMVQDHWSRNWCHDMAADKFCAYRYGAVTVVTQYSPFRCIWSCQRKKGMYATGEDKWSIKRHRIQNQAMVGAHEGRGCSAHCCQNGGKTNIGKRPTKKGGQKHNMNITQSEKFQFHVECAEYDKKPAIIVHQGDMTNQFRTDKVDMEYRWSLPMEPMKERWGTPGHWNQIYMQDADGCEKKIQKTDRFWDDPYQYVNKYAASRVSDHYWDRTSQQKVLHMWDDEATIDQFSFEAGQRIGLLDSKLDMLREAQKQCEPSKAFQYYCHEACGVLPSFYVAQYLEVTTFLIGFISCYCEFCHEPEMNNWAHGEANEHEVRIVCQHDGYVKNKQHLFSGRQFQYVDESIIKMYRIWMMTRRNWFRYIERTVKEYEKDRHNMASLIEHFSQAQHQKTVSCYFQRRWPRELYTELKIQRRLSKMKSYCYFYTLNTRCLPVNQTGQRAIMACSVAGYIGRYSVHQNWGSMNAQKVEMPMPVAIYLNKYYGVHRNGWRSPDMDHGVHLNRANGANKEKIHNGQPIDAEANHKGMSVNLVDSCDVGNSRQHEKRVNITWPSDLTEWFEWTLPMWRCQNNWYRAKYGIWMCAPQPVSPCMHLFQIEKIVEPINIIFCMTASDLPHPKNWYSFNQWWYSDTIIGENFIPNLSCCDNIYKEDIFGSLSMSTYLIYKPMWSQETCQVMDKHECGAAIGPHPTWPWGWFNLFGNSHMCGSTRKMAFSIEIFVLVTQALSVECPMYKVLVKECQISKLGAYFYTNNMGSDVNILRWCEWMFCGYAFFLFIGMMFFKAKENIKIAENTKVSIWQCGKTKPNWNGRSEMWAASYKHRNPLYIRIVHVGYLDIIIVWTEMNEDPVAFTSINSEYTQPITSCAGTGTGCAVCSMEWLWEMVVGKRNDTEVCMRREYQFHGFFCFFSSMCYPAEATWKTCLFVLAPITSKLQYEHMFHPSTPGAGDSIDGIFMIMEDCRIWDTRTLCETEVGAKCWVETHMDVHAFIWTLMSFQNVENHGHNEDYQFTSLVDIAMVDWWAYEFGTHLKCWHLQQSDKGLYVSVDDGVLMRWVFCMVETMDSSTRQVQRLLVGEAFHTRWRYVWSAGKRPHHQFMDDQAYGWHAKWNILQFTGMSLCDARCDHAFDNIMGTQRAAFVNQWWLRKDACFTQCHQMPHRGQRQWKEYIMNEQQFTCFESPMPQQEPASDYPIKQCHDLNSLEWMTPAANQCDHIETYRVCFDKQCCRASDVWSHAHLLSKNSAGEWPCIMVMYVYLWQRCAPWYLKPAACYMTKMRLWTWLVGGWDIAIEWCQVCDVEVESQKGCLDEAHKSRINELMNMGTTSMRSGDRIMIIYVKDDEDQYAESVEKFNDFHLVKAFDFEQWDNNNLLSFMMCWSPAKFQSKWFEWKYARFEVALPVCNDDCDEEPSGDQECTNICGHCRWDVVQPKNSRCYKVFPVMELMPWWEHKFLCIRSAINDRAVRREWTRWMTLMLHTLTFHPMCCGFNGAKWCIWMWELSGCQAVCKKSLKLRPMMKRSGNHTFARQPPVQAWRRSCVHWPCIQWCKADFKSWNYVGRGQTPLFWAVWCITQPRYWNWSSCDFEDEWTEMSYCMNHCLHCHGKWCCCPQHFQHYCYRLYWCHIRDNMEYACAYYATLPPSNEQMEYVHKWKDCDMIENTRWLTNRFKNKQAPTHSSLMCEKYYRARSPSEMRENAEAGQHVLKSNDCCWEKMPGYQMKKLDE'\n",
    "b='GILHWMRGLEFESIPQQQQHCPKVIKPGWEISLPEVQDHNRHRYMKGVVHVVWMQPSTDPGVWNNWCFFVQRVVVPTWLASKEAWRPCNEWVVTYQMKFWRWFLFASATLTHNWYCTNFIWHITSLEALSWRWNRAGIVIENSMSQEHMHCQEGDASACYEFQYICTQERGWIRVPGPYLETYQLAGNVNGMTCNRGPPRCIWVPNHKLRKHLHMCTRFGSTGEGGLNTWQMYHAIIDWANQQMMIEHGDQFKCIAFENYMRESGTTYGWWLHPGPRLEHCQSDIPNWNEWPPEIWERWAYVFRQHVTRFSAVIQGKNIICLIPQYQMFDPYAPGEIPNDYGPIIKMVDVWHELMKLMATSWNINAEMFDKNASFTWMVGSPMFSYFPYQGEWYRFCTEHRVGWYMQRSGMKPNWHPDESHAPGVRCYNWARKKRCPHIWEIPPIWFIWPEGYMAILTWSISNHRGVVYNDAVQIIMAVKQAQSSMPTHSMKEESYRMDFTQQSILLNNMYMNKSWPRDKRYFMCETLPNEHYGRRFQAVNPVKSRWCFAQYHTFKYYKWQIIKESKHRTHENAKQFTYVIWTFHQISNTGVFPSCSQVNQECCNPYGHTQVWPNLTFDCRPRDIDAHWQEQIMMQPNLNVVNPFREPYPMMKNCTEVVARMPCHRQPDPDTFWLREKGYCTFKCLDSKLRLCDNYQYKENAHCANCMEVAVNCPDCHRICEFCWPFEAQLRFNPVWIIIHYFIPEPYGQEHWQDRHFHWMDGSNAFNWGPWGSWFLPYLLLSNKEDQMILHNCDGPRSQYPTLSETGMMWYGLNQVLSYCGHIMHTSWYFLFCVCYYFLYFMHNIDLLTIMMISSLTETDGFRQIGALYNCFHSLLTNDSVKFNLTAKVGGFTLELWWAIFCAPPWNAVAFPNQPYSPEKSNCAGCQEFWGVGYHIEIDYNHDMTVCSGSRNRCFEFTRISFDTNRGDMQLGNNVETTLCKLKHEPTCVVGEWESYRHEPMYSPRCYNCMNGYSGRLSMYEATFINNYCEKEFLSKSCHMKCLHHCKKVEIAHEAMIIRQNKYGPFKRNFQRGKSVMFAMRRTCCSALTYYVDCGIMSMIFPSGEVLPVFTTYHDSFTWCSVVFVIFLDRLVESYTTFKSANTKQNKANMDSWKNQVVKIKNSFWCHQYKFKYGIKTKCEEVTVKGEPHRGLTVWSVDAKILVQYMKMCDANYCPGRITQKHWEGYMMYALGKWYAQIVNRTCAEMFNPVVYFAVRYDMQVCEITCCCSLQLNIRTMGFLTRYANFGTIRSGRDSNPQAGDSSELMYDSYRWIIFMEKSSWPFMAWHPHWAATHVTAPQGTHDLHNNEIMIAQHFQRCLGCYTHAVRDKGYFDTEGLVGMRHMHELTLLKWQTWRFCIAFSDFRLKQPTPFKSLGIEFRTADLGWPFWEERKYTYEMHSRCSDCHFVPSLGEMAKLQVKQMSRGVFCGQCAQNAMRGKPTDMHTAGYWSMTVKQKQGPFHEDKNDCNQRYFVAQHQQITKAYVYGPHGIHTGFKSEAVRQSQIDFNREKGDSFEKDTQAILRHRALYKQCITSFKNFTMLCYEEEYGLKFISSKAFRGHKHTTVHFIEHLSEVIGKEWTLNYDLHTRSMKSYRYNLWIQALADEAGTYGWTVLHETWRSNILFRDEYCDICPLPWECPYMQTDNCVPYESRTTTKNMPCMQTKKCAIAIRVTMGDFCGNNGCVEKMTVGYATEQIKYTYDQFAKGAAAHSMFHQGHASGPTLVGRQSWGPEFLNLSLWLTAGAIQPNVKFGFVYWECSDWGFVENFHFMNEGHFNDRSAHDQRLIVSPSQIKTDQWLWDHWVEIMAVQNVRQDDWGRACRPMEPAGGWYINVRYFVTYHSQVPGYMYPNWEIWPYEIGMTIRWMNPKKCSNLISDMLMAWYQNQKRGYMNYANDCQMPNGFATPEFHTSVARHFDNGHAPMRIHHRDWPQYQGDYMCPAPEDCCRPYMFTKMIKKNMQPSFDVLINASHWLVANGWRLNEHPVMCEWEWMLDILDTFECNWTGGQQYCGMMYMYCFCCHRAPAFECWHHRSMGFRKFDSNIPFVALCMHWNSTKGGIMGNYGPNAVPSCCFRHQFSGDNSHGLYFLNVMWEDVHCSYVGYGSAMVQDHWSRNGRMCNLEHRCHFMAPILPGAVTVVPLWIQYFRKKGMRATCPSGWAFKGEDKSSIQAMLTYHSDCAHEGRGCGKTNIGKRWTRKGGQKHNMTNDCRGEITQSEKSANHGRLCFNTSIWFHVECAEYTMMKKPAIIVYQGDMTNDFRCQHAWVTHDKVDMEYRWSLPMEPMKERWGTDKQGLDIWMDYIQKSSPDKYVNKLAASRHSDHWDRSDQFSFWADSLKARLPFIWWAGKKQCEPNKARQNNYMRLPMGSFCHEACGAWIRFHYALPSFYVAQYLEVTTFLIGFISCYWATHREGEANEHEVQKDANAIVCQHDWYTRLHPAKNKQILFSGRQFQYHCHWIWKIFDEWIIQNIIKMASQSSKWYIPVMQAVRTVGEYHDMKDRNNMASLIESWGNFPKLIFSWAQQRRWPRQQISTLYTELKILNFQNVFYTLIICYHSNTRCLRKWWKAVIMKGQQTGQRAIMACSVAGTHVEHLFIGHYSVEQNWGSMNAQKFFCLGEMPMPVAIYLNKYYPAVYCDNHTPHLNMANGIHNGTPIHAVFKSNMLHVNHTGMSVNLVDRCDVGNVAQQHETRVNITWPSDLTTLPMWRCQNNWQRAKKGWMFRGIWMCAPQPDSPKIVNWQHACHWPICSKFYMNQIIFMTASDLPHLKNWYSSVDMNNDPYSDTIIGENFIFNTMLCVTGSRDNIVKMSTYLIYKPMWSGPHPTPAQLSISPWDWFNLLPIHQNHNIGNSHMCMATQLWWALSVECPMYKVHVKECQIQMKLQAYQYTFKGCNDNMGQDVNILMWCYWNFCGYAFRFMVPPDLDTSENHGMMFFKAKENIKGQIRENTKESQWQCGKTKPNGRSEMWAYPNMKYYYLYLHGQKKYNRRIVHVGYLDIVIVWTEMNERFVAFTSINSNDPIISCAGTTGCAVCSMEWLWEMCMNWWMMGKRNDTEVCMRRSYQFHGFFCFASEMCYPAEAQWKTCLYCVNHVLAPITSKLQYEHMFHPSTGDSDWSFMLSDGIIMEDCRWDTRGAKCWVDTHMDVHTLMSFQNVENHMHNEDYQFDKWWAYEFGTHLKCWHLQQSDNGLYKAPHTQVGSMVDDGDILMRWFFCMVETSLVGEAFHTRWRYVWSAGKRGHHAKPNILQCTGMSLCDARLDHAFQRIMGATNDDAAKDLWLSMKHQMPHRNQWYEQRQWKEYIMNEQQFTCFESMMPQDFNEPASDYPIKQCHDLESLEMITPAAEQCWAHIETYRVCFDKDCCRASDVESGMHLFDSCVNVVGSAGAWPCIMVMYTYLWQWYLNPAACYMTKMRLWCWLGWQGWCANIEWCQVCDVEVESQKGCLDEAHKFRINETMNMGTTSMRSGDRIMIIQRRMKQVCSWYAESFEFFNVFHLVLFDFEQWDNKMSRMGMYNLLSFSEFACNCGSGDKIDSKWFEWKYARGEVALCNDPWICVMLRCDEEPSGDQECTNIQGHCRWDVVQFPVPRTKNEWVKPVMELMPWWEHKFLLKDLMGHKIRSAINDRAVRREWTRMTLMLHTLTNGSHPMSDCDMGFNGIVMHGGCKLRMKRSGNHTFARMWPPVQAWRYRATVLHSCDHWPCIQWCKADFKSWNYVGRGQTPNVYNQDLFWAVWCITFPRYWNWEMSYCMNHWLHCHGKFCCCPCYRLYWCHIRDNMNMRVHTLPPSNNQMEYVMHPKWKDCYIANTQDQQWLTNRFKQAPTARSPSEMRENAEAGQHVLKSQDCKMKKGYCGADE'\n",
    "editDistance(a,b) #1776"
   ]
  },
  {
   "cell_type": "code",
   "execution_count": null,
   "metadata": {},
   "outputs": [],
   "source": []
  }
 ],
 "metadata": {
  "kernelspec": {
   "display_name": "Python 3",
   "language": "python",
   "name": "python3"
  },
  "language_info": {
   "codemirror_mode": {
    "name": "ipython",
    "version": 3
   },
   "file_extension": ".py",
   "mimetype": "text/x-python",
   "name": "python",
   "nbconvert_exporter": "python",
   "pygments_lexer": "ipython3",
   "version": "3.8.6"
  },
  "varInspector": {
   "cols": {
    "lenName": 16,
    "lenType": 16,
    "lenVar": 40
   },
   "kernels_config": {
    "python": {
     "delete_cmd_postfix": "",
     "delete_cmd_prefix": "del ",
     "library": "var_list.py",
     "varRefreshCmd": "print(var_dic_list())"
    },
    "r": {
     "delete_cmd_postfix": ") ",
     "delete_cmd_prefix": "rm(",
     "library": "var_list.r",
     "varRefreshCmd": "cat(var_dic_list()) "
    }
   },
   "types_to_exclude": [
    "module",
    "function",
    "builtin_function_or_method",
    "instance",
    "_Feature"
   ],
   "window_display": false
  }
 },
 "nbformat": 4,
 "nbformat_minor": 4
}
