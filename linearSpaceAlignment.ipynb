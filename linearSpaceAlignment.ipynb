{
 "cells": [
  {
   "cell_type": "code",
   "execution_count": 159,
   "metadata": {
    "ExecuteTime": {
     "end_time": "2020-10-07T17:39:25.789262Z",
     "start_time": "2020-10-07T17:39:22.383171Z"
    }
   },
   "outputs": [],
   "source": [
    "import pandas as pd\n",
    "import numpy as np"
   ]
  },
  {
   "cell_type": "markdown",
   "metadata": {
    "ExecuteTime": {
     "end_time": "2020-10-05T19:14:41.507711Z",
     "start_time": "2020-10-05T19:14:41.337585Z"
    }
   },
   "source": [
    "\n",
    "#### Global backtracking\n",
    "* https://gtuckerkellogg.github.io/pairwise/demo/    \n",
    "* https://github.com/ZhangQiuxue/Rosalind/blob/master/Textbook_05E.py\n"
   ]
  },
  {
   "cell_type": "code",
   "execution_count": 153,
   "metadata": {
    "ExecuteTime": {
     "end_time": "2020-10-07T16:57:07.201964Z",
     "start_time": "2020-10-07T16:57:07.176061Z"
    }
   },
   "outputs": [],
   "source": [
    "### https://www.youtube.com/watch?v=DuikFLPt8WQ\n",
    "\n",
    "#### Recursive solution\n",
    "def LCSM(x,y,i,j):\n",
    "    if i <= 0 or j <= 0:\n",
    "        return 0\n",
    "    else:\n",
    "        if x[i-1] == y[j-1]:\n",
    "            return 1 + LCSM(x,y,i-1,j-1)\n",
    "        else:\n",
    "            return max(LCSM(x,y,i,j-1),LCSM(x,y,i-1,j))\n",
    "        \n",
    "        \n",
    "def LCSM_params(x,y,i,j,match=1,indel=0,mismatch=0):\n",
    "    if i <= 0 or j <= 0:\n",
    "        return 0\n",
    "    else:\n",
    "        if x[i-1] == y[j-1]:\n",
    "            return LCSM(x,y,i-1,j-1) + match\n",
    "        else:\n",
    "            return max(LCSM(x,y,i,j-1) + indel, #gap\n",
    "                       LCSM(x,y,i-1,j) + indel, #gap\n",
    "                       LCSM(x,y,i-1,j-1) + mismatch) #mismatch\n",
    "        \n",
    "def LCSM_memo(x,y,match=1,indel=0,mismatch=0):\n",
    "    m = len(x) + 1\n",
    "    n = len(y) + 1\n",
    "    memo = np.zeros((m,n))\n",
    "    for i in range(0,m):\n",
    "        for j in range(0,n):\n",
    "            if i == 0 or j == 0:\n",
    "                memo[i][j] == 0\n",
    "            else:\n",
    "                #print(x[i-1],y[j-1])\n",
    "                if x[i-1] == y[j-1]:\n",
    "                    memo[i][j] = memo[i-1][j-1] + match\n",
    "                else:\n",
    "                    memo[i][j] = max(memo[i-1][j] + indel, #gap\n",
    "                                     memo[i][j-1] + indel, #gap\n",
    "                                     memo[i-1][j-1] + mismatch) #mismatch\n",
    "    return memo\n",
    "\n",
    "\n",
    "\n",
    "def LCSM_lin(x,y,match=1,indel=0,mismatch=0):\n",
    "    \"\"\"\n",
    "    More efficient. Time is O(m*n) but space is O(n)\n",
    "    \"\"\"\n",
    "    m = len(x) + 1\n",
    "    n = len(y)  + 1\n",
    "\n",
    "    memo = [0 for _ in range(0,n)]\n",
    "    \n",
    "    for i in range(1,m):\n",
    "        prev = 0\n",
    "        for j in range(1,n):\n",
    "            temp = memo[j]\n",
    "        \n",
    "            #print(x[i-1],y[j-1])\n",
    "            if x[i-1] == y[j-1]:\n",
    "                memo[j] = prev + match\n",
    "\n",
    "            else:\n",
    "                memo[j] = max(memo[j] + indel, #gap\n",
    "                                 memo[j-1] + indel) #gap\n",
    "                                 #memo[i-1][j-1] + indel) #mismatch\n",
    "            prev = temp\n",
    "\n",
    "    return memo[n-1]"
   ]
  },
  {
   "cell_type": "code",
   "execution_count": 5,
   "metadata": {
    "ExecuteTime": {
     "end_time": "2020-10-07T01:39:44.870994Z",
     "start_time": "2020-10-07T01:39:44.857932Z"
    },
    "cell_style": "split"
   },
   "outputs": [
    {
     "data": {
      "text/plain": [
       "6"
      ]
     },
     "execution_count": 5,
     "metadata": {},
     "output_type": "execute_result"
    }
   ],
   "source": [
    "x='JAVAAID'\n",
    "y='JAVAID'\n",
    "i = len(x) \n",
    "j = len(y) \n",
    "LCSM(x,y,i,j)"
   ]
  },
  {
   "cell_type": "code",
   "execution_count": 8,
   "metadata": {
    "ExecuteTime": {
     "end_time": "2020-10-07T01:41:52.966645Z",
     "start_time": "2020-10-07T01:41:52.874968Z"
    },
    "cell_style": "split"
   },
   "outputs": [
    {
     "data": {
      "text/plain": [
       "6"
      ]
     },
     "execution_count": 8,
     "metadata": {},
     "output_type": "execute_result"
    }
   ],
   "source": [
    "x='JAVAAID'\n",
    "y='JAVAID'\n",
    "i = len(x) \n",
    "j = len(y) \n",
    "LCSM_params(x,y,i,j)"
   ]
  },
  {
   "cell_type": "code",
   "execution_count": 29,
   "metadata": {
    "ExecuteTime": {
     "end_time": "2020-10-07T01:52:38.979522Z",
     "start_time": "2020-10-07T01:52:38.960423Z"
    },
    "cell_style": "split"
   },
   "outputs": [
    {
     "data": {
      "text/plain": [
       "array([[0., 0., 0., 0., 0., 0., 0.],\n",
       "       [0., 1., 1., 1., 1., 1., 1.],\n",
       "       [0., 1., 2., 2., 2., 2., 2.],\n",
       "       [0., 1., 2., 3., 3., 3., 3.],\n",
       "       [0., 1., 2., 3., 4., 4., 4.],\n",
       "       [0., 1., 2., 3., 4., 4., 4.],\n",
       "       [0., 1., 2., 3., 4., 5., 5.],\n",
       "       [0., 1., 2., 3., 4., 5., 6.]])"
      ]
     },
     "execution_count": 29,
     "metadata": {},
     "output_type": "execute_result"
    }
   ],
   "source": [
    "x='JAVAAID'\n",
    "y='JAVAID'\n",
    "LCSM_memo(x,y)"
   ]
  },
  {
   "cell_type": "code",
   "execution_count": 155,
   "metadata": {
    "ExecuteTime": {
     "end_time": "2020-10-07T16:57:12.961934Z",
     "start_time": "2020-10-07T16:57:12.947117Z"
    },
    "cell_style": "split"
   },
   "outputs": [
    {
     "data": {
      "text/plain": [
       "6"
      ]
     },
     "execution_count": 155,
     "metadata": {},
     "output_type": "execute_result"
    }
   ],
   "source": [
    "LCSM_lin(x,y)"
   ]
  },
  {
   "cell_type": "code",
   "execution_count": 126,
   "metadata": {
    "ExecuteTime": {
     "end_time": "2020-10-07T16:21:45.793643Z",
     "start_time": "2020-10-07T16:21:45.611200Z"
    }
   },
   "outputs": [],
   "source": [
    "##https://www.youtube.com/watch?v=MiqoA-yF-0M\n",
    "def edit_distance(x,y):\n",
    "    m = len(x) + 1\n",
    "    n = len(y) + 1\n",
    "    memo = np.zeros((m,n))\n",
    "    ## initialize\n",
    "    memo[0] = [0] + list(np.cumsum([1 for i in y]))\n",
    "    memo[:,0] = [0] + list(np.cumsum([1 for i in x]))\n",
    "    \n",
    "    for i in range(1,m):\n",
    "        for j in range(1,n):\n",
    "            if i == 0 or j == 0:\n",
    "                memo[i][j] == 0\n",
    "            else:\n",
    "                #print(x[i-1],y[j-1])\n",
    "                if x[i-1] == y[j-1]:\n",
    "                    memo[i][j] = memo[i-1][j-1]\n",
    "                else:\n",
    "                    memo[i][j] = min(memo[i-1][j] + 1, #gap\n",
    "                                     memo[i][j-1] + 1, #gap\n",
    "                                     memo[i-1][j-1] + 1) #mismatch\n",
    "    return memo[m-1,n-1]"
   ]
  },
  {
   "cell_type": "code",
   "execution_count": 127,
   "metadata": {
    "ExecuteTime": {
     "end_time": "2020-10-07T16:21:45.872217Z",
     "start_time": "2020-10-07T16:21:45.856302Z"
    }
   },
   "outputs": [
    {
     "data": {
      "text/plain": [
       "4.0"
      ]
     },
     "execution_count": 127,
     "metadata": {},
     "output_type": "execute_result"
    }
   ],
   "source": [
    "edit_distance('saturday','sundays')"
   ]
  },
  {
   "cell_type": "code",
   "execution_count": null,
   "metadata": {},
   "outputs": [],
   "source": []
  },
  {
   "cell_type": "markdown",
   "metadata": {},
   "source": [
    "---\n",
    "\n",
    "### My approach"
   ]
  },
  {
   "cell_type": "code",
   "execution_count": null,
   "metadata": {},
   "outputs": [],
   "source": [
    "residue='A'\n",
    "y='ATTCAA'\n",
    "\n",
    "indel = 0\n",
    "mismatch = 0\n",
    "match = 1\n",
    "\n",
    "score = list(np.cumsum([indel for _ in y]))\n",
    "nullScore = list(np.cumsum([0] + [indel for _ in x]))"
   ]
  },
  {
   "cell_type": "code",
   "execution_count": 173,
   "metadata": {
    "ExecuteTime": {
     "end_time": "2020-10-07T17:41:21.178588Z",
     "start_time": "2020-10-07T17:41:21.121144Z"
    }
   },
   "outputs": [
    {
     "data": {
      "text/html": [
       "<div>\n",
       "<style scoped>\n",
       "    .dataframe tbody tr th:only-of-type {\n",
       "        vertical-align: middle;\n",
       "    }\n",
       "\n",
       "    .dataframe tbody tr th {\n",
       "        vertical-align: top;\n",
       "    }\n",
       "\n",
       "    .dataframe thead th {\n",
       "        text-align: right;\n",
       "    }\n",
       "</style>\n",
       "<table border=\"1\" class=\"dataframe\">\n",
       "  <thead>\n",
       "    <tr style=\"text-align: right;\">\n",
       "      <th></th>\n",
       "      <th>A</th>\n",
       "      <th>R</th>\n",
       "      <th>N</th>\n",
       "      <th>D</th>\n",
       "      <th>C</th>\n",
       "      <th>Q</th>\n",
       "      <th>E</th>\n",
       "      <th>G</th>\n",
       "      <th>H</th>\n",
       "      <th>I</th>\n",
       "      <th>...</th>\n",
       "      <th>P</th>\n",
       "      <th>S</th>\n",
       "      <th>T</th>\n",
       "      <th>W</th>\n",
       "      <th>Y</th>\n",
       "      <th>V</th>\n",
       "      <th>B</th>\n",
       "      <th>Z</th>\n",
       "      <th>X</th>\n",
       "      <th>*</th>\n",
       "    </tr>\n",
       "  </thead>\n",
       "  <tbody>\n",
       "    <tr>\n",
       "      <th>A</th>\n",
       "      <td>4</td>\n",
       "      <td>-1</td>\n",
       "      <td>-2</td>\n",
       "      <td>-2</td>\n",
       "      <td>0</td>\n",
       "      <td>-1</td>\n",
       "      <td>-1</td>\n",
       "      <td>0</td>\n",
       "      <td>-2</td>\n",
       "      <td>-1</td>\n",
       "      <td>...</td>\n",
       "      <td>-1</td>\n",
       "      <td>1</td>\n",
       "      <td>0</td>\n",
       "      <td>-3</td>\n",
       "      <td>-2</td>\n",
       "      <td>0</td>\n",
       "      <td>-2</td>\n",
       "      <td>-1</td>\n",
       "      <td>0</td>\n",
       "      <td>-4</td>\n",
       "    </tr>\n",
       "    <tr>\n",
       "      <th>R</th>\n",
       "      <td>-1</td>\n",
       "      <td>5</td>\n",
       "      <td>0</td>\n",
       "      <td>-2</td>\n",
       "      <td>-3</td>\n",
       "      <td>1</td>\n",
       "      <td>0</td>\n",
       "      <td>-2</td>\n",
       "      <td>0</td>\n",
       "      <td>-3</td>\n",
       "      <td>...</td>\n",
       "      <td>-2</td>\n",
       "      <td>-1</td>\n",
       "      <td>-1</td>\n",
       "      <td>-3</td>\n",
       "      <td>-2</td>\n",
       "      <td>-3</td>\n",
       "      <td>-1</td>\n",
       "      <td>0</td>\n",
       "      <td>-1</td>\n",
       "      <td>-4</td>\n",
       "    </tr>\n",
       "    <tr>\n",
       "      <th>N</th>\n",
       "      <td>-2</td>\n",
       "      <td>0</td>\n",
       "      <td>6</td>\n",
       "      <td>1</td>\n",
       "      <td>-3</td>\n",
       "      <td>0</td>\n",
       "      <td>0</td>\n",
       "      <td>0</td>\n",
       "      <td>1</td>\n",
       "      <td>-3</td>\n",
       "      <td>...</td>\n",
       "      <td>-2</td>\n",
       "      <td>1</td>\n",
       "      <td>0</td>\n",
       "      <td>-4</td>\n",
       "      <td>-2</td>\n",
       "      <td>-3</td>\n",
       "      <td>3</td>\n",
       "      <td>0</td>\n",
       "      <td>-1</td>\n",
       "      <td>-4</td>\n",
       "    </tr>\n",
       "    <tr>\n",
       "      <th>D</th>\n",
       "      <td>-2</td>\n",
       "      <td>-2</td>\n",
       "      <td>1</td>\n",
       "      <td>6</td>\n",
       "      <td>-3</td>\n",
       "      <td>0</td>\n",
       "      <td>2</td>\n",
       "      <td>-1</td>\n",
       "      <td>-1</td>\n",
       "      <td>-3</td>\n",
       "      <td>...</td>\n",
       "      <td>-1</td>\n",
       "      <td>0</td>\n",
       "      <td>-1</td>\n",
       "      <td>-4</td>\n",
       "      <td>-3</td>\n",
       "      <td>-3</td>\n",
       "      <td>4</td>\n",
       "      <td>1</td>\n",
       "      <td>-1</td>\n",
       "      <td>-4</td>\n",
       "    </tr>\n",
       "    <tr>\n",
       "      <th>C</th>\n",
       "      <td>0</td>\n",
       "      <td>-3</td>\n",
       "      <td>-3</td>\n",
       "      <td>-3</td>\n",
       "      <td>9</td>\n",
       "      <td>-3</td>\n",
       "      <td>-4</td>\n",
       "      <td>-3</td>\n",
       "      <td>-3</td>\n",
       "      <td>-1</td>\n",
       "      <td>...</td>\n",
       "      <td>-3</td>\n",
       "      <td>-1</td>\n",
       "      <td>-1</td>\n",
       "      <td>-2</td>\n",
       "      <td>-2</td>\n",
       "      <td>-1</td>\n",
       "      <td>-3</td>\n",
       "      <td>-3</td>\n",
       "      <td>-2</td>\n",
       "      <td>-4</td>\n",
       "    </tr>\n",
       "  </tbody>\n",
       "</table>\n",
       "<p>5 rows × 24 columns</p>\n",
       "</div>"
      ],
      "text/plain": [
       "   A  R  N  D  C  Q  E  G  H  I  ...  P  S  T  W  Y  V  B  Z  X  *\n",
       "A  4 -1 -2 -2  0 -1 -1  0 -2 -1  ... -1  1  0 -3 -2  0 -2 -1  0 -4\n",
       "R -1  5  0 -2 -3  1  0 -2  0 -3  ... -2 -1 -1 -3 -2 -3 -1  0 -1 -4\n",
       "N -2  0  6  1 -3  0  0  0  1 -3  ... -2  1  0 -4 -2 -3  3  0 -1 -4\n",
       "D -2 -2  1  6 -3  0  2 -1 -1 -3  ... -1  0 -1 -4 -3 -3  4  1 -1 -4\n",
       "C  0 -3 -3 -3  9 -3 -4 -3 -3 -1  ... -3 -1 -1 -2 -2 -1 -3 -3 -2 -4\n",
       "\n",
       "[5 rows x 24 columns]"
      ]
     },
     "execution_count": 173,
     "metadata": {},
     "output_type": "execute_result"
    }
   ],
   "source": [
    "def linspacAlignment(residue,y,updatedScore,nullScore,match=1,indel=0,mismatch=0,j=0,verbose=False):    \n",
    "    \"\"\"\n",
    "    Alignment in linear space\n",
    "    \"\"\"\n",
    "    n = len(y)\n",
    "\n",
    "    updatedScore = [nullScore[j]] + updatedScore\n",
    "    prevScore = updatedScore.copy()\n",
    "\n",
    "    #(prevScore,updatedScore)\n",
    "\n",
    "    for i in range(1,n+1):\n",
    "        if residue == y[i-1]:\n",
    "            if verbose: print(i, 'match',y[i-1], prevScore,updatedScore)\n",
    "            updatedScore[i] = prevScore[i-1] + match\n",
    "        else:\n",
    "            if verbose: print(i,'no match', y[i-1], prevScore,updatedScore,'choose',\n",
    "                                  updatedScore[i-1],\n",
    "                                  updatedScore[i],prevScore[i-1])\n",
    "            updatedScore[i] = max(updatedScore[i-1] + indel, #Up\n",
    "                                  updatedScore[i] + indel, #Left\n",
    "                                  prevScore[i-1] + mismatch) #Mismatch\n",
    "        if verbose: print(updatedScore,\"\\n----\")\n",
    "    return updatedScore[1:]\n",
    "\n",
    "def residueSplit(y):\n",
    "    return [_ for _ in y]\n",
    "\n",
    "def getScoring():\n",
    "    '''\n",
    "    Read scoring matrix\n",
    "    '''\n",
    "    with open('blosum62.txt') as matrix_file:\n",
    "        matrix = matrix_file.read()\n",
    "        lines = matrix.strip().split('\\n')\n",
    "\n",
    "    blosum={}\n",
    "    cols = lines[0].split()\n",
    "\n",
    "    for row in lines[1:]:       \n",
    "        idx = row[0]\n",
    "        vals = row[1:].split()\n",
    "        vals = [int(_) for _ in vals]\n",
    "        #print(idx,vals)\n",
    "        blosum[idx]=vals\n",
    "\n",
    "    blosum = pd.DataFrame.from_dict(blosum,orient='index',columns=cols)\n",
    "    return blosum\n",
    "\n",
    "def scorematch(a,b,scoringMatrix):\n",
    "    '''\n",
    "    Get the value of a score between two matches\n",
    "    '''\n",
    "    return scoringMatrix.loc[a][b]\n",
    "\n",
    "#### Matrix for nucleotide match, mismatch, indels with penalty 0.\n",
    "residueScores = pd.DataFrame([[1 if i ==j else 0 for i in 'ACTG'] for j in 'ACTG'])\n",
    "residueScores.index=['A','C','T','G']\n",
    "residueScores.columns=['A','C','T','G']\n",
    "residueScores\n",
    "\n",
    "#### Blosum62\n",
    "blosum = getScoring()\n",
    "blosum.head()"
   ]
  },
  {
   "cell_type": "code",
   "execution_count": 147,
   "metadata": {
    "ExecuteTime": {
     "end_time": "2020-10-05T19:15:19.650400Z",
     "start_time": "2020-10-05T19:15:19.639221Z"
    },
    "cell_style": "split"
   },
   "outputs": [],
   "source": [
    "x='ACGGAA'\n",
    "y='ATTCAA'\n",
    "\n",
    "indel = 0\n",
    "mismatch = 0\n",
    "match = 1\n",
    "\n",
    "###\n",
    "score = list(np.cumsum([indel for _ in y]))\n",
    "nullScore = list(np.cumsum([0] + [indel for _ in x]))\n",
    "\n",
    "dScores = {0:score}\n",
    "for i in range(1,len(x)+1):\n",
    "    dScores[i] = linspacAlignment(x[i-1],y,dScores[i-1],nullScore,verbose=False,j=i-1)"
   ]
  },
  {
   "cell_type": "code",
   "execution_count": 148,
   "metadata": {
    "ExecuteTime": {
     "end_time": "2020-10-05T19:15:20.208375Z",
     "start_time": "2020-10-05T19:15:20.135196Z"
    },
    "cell_style": "split"
   },
   "outputs": [
    {
     "data": {
      "text/html": [
       "<div>\n",
       "<style scoped>\n",
       "    .dataframe tbody tr th:only-of-type {\n",
       "        vertical-align: middle;\n",
       "    }\n",
       "\n",
       "    .dataframe tbody tr th {\n",
       "        vertical-align: top;\n",
       "    }\n",
       "\n",
       "    .dataframe thead th {\n",
       "        text-align: right;\n",
       "    }\n",
       "</style>\n",
       "<table border=\"1\" class=\"dataframe\">\n",
       "  <thead>\n",
       "    <tr style=\"text-align: right;\">\n",
       "      <th></th>\n",
       "      <th>-</th>\n",
       "      <th>A</th>\n",
       "      <th>T</th>\n",
       "      <th>T</th>\n",
       "      <th>C</th>\n",
       "      <th>A</th>\n",
       "      <th>A</th>\n",
       "    </tr>\n",
       "  </thead>\n",
       "  <tbody>\n",
       "    <tr>\n",
       "      <th>0</th>\n",
       "      <td>0</td>\n",
       "      <td>1</td>\n",
       "      <td>1</td>\n",
       "      <td>1</td>\n",
       "      <td>1</td>\n",
       "      <td>1</td>\n",
       "      <td>1</td>\n",
       "    </tr>\n",
       "    <tr>\n",
       "      <th>1</th>\n",
       "      <td>0</td>\n",
       "      <td>1</td>\n",
       "      <td>1</td>\n",
       "      <td>1</td>\n",
       "      <td>1</td>\n",
       "      <td>1</td>\n",
       "      <td>1</td>\n",
       "    </tr>\n",
       "    <tr>\n",
       "      <th>2</th>\n",
       "      <td>0</td>\n",
       "      <td>1</td>\n",
       "      <td>1</td>\n",
       "      <td>1</td>\n",
       "      <td>1</td>\n",
       "      <td>1</td>\n",
       "      <td>1</td>\n",
       "    </tr>\n",
       "    <tr>\n",
       "      <th>3</th>\n",
       "      <td>0</td>\n",
       "      <td>1</td>\n",
       "      <td>2</td>\n",
       "      <td>2</td>\n",
       "      <td>2</td>\n",
       "      <td>2</td>\n",
       "      <td>2</td>\n",
       "    </tr>\n",
       "    <tr>\n",
       "      <th>4</th>\n",
       "      <td>0</td>\n",
       "      <td>1</td>\n",
       "      <td>2</td>\n",
       "      <td>2</td>\n",
       "      <td>2</td>\n",
       "      <td>3</td>\n",
       "      <td>3</td>\n",
       "    </tr>\n",
       "    <tr>\n",
       "      <th>5</th>\n",
       "      <td>0</td>\n",
       "      <td>1</td>\n",
       "      <td>2</td>\n",
       "      <td>2</td>\n",
       "      <td>2</td>\n",
       "      <td>3</td>\n",
       "      <td>4</td>\n",
       "    </tr>\n",
       "  </tbody>\n",
       "</table>\n",
       "</div>"
      ],
      "text/plain": [
       "   -  A  T  T  C  A  A\n",
       "0  0  1  1  1  1  1  1\n",
       "1  0  1  1  1  1  1  1\n",
       "2  0  1  1  1  1  1  1\n",
       "3  0  1  2  2  2  2  2\n",
       "4  0  1  2  2  2  3  3\n",
       "5  0  1  2  2  2  3  4"
      ]
     },
     "execution_count": 148,
     "metadata": {},
     "output_type": "execute_result"
    }
   ],
   "source": [
    "ScoringMat = pd.DataFrame.from_dict(dScores.values(),orient='columns').T\n",
    "ScoringMat.columns=residueSplit(\"-\" + y)\n",
    "ScoringMat"
   ]
  },
  {
   "cell_type": "code",
   "execution_count": 161,
   "metadata": {
    "ExecuteTime": {
     "end_time": "2020-10-07T17:39:42.995515Z",
     "start_time": "2020-10-07T17:39:42.976871Z"
    }
   },
   "outputs": [],
   "source": [
    "def linspacAlignment_scoreMat(residue,y,updatedScore,nullScore,scoringMatrix,indel=0,j=0,verbose=False):    \n",
    "    \"\"\"\n",
    "    Alignment in linear space\n",
    "    Add scoring matrix capability\n",
    "    \"\"\"\n",
    "    n = len(y)\n",
    "\n",
    "    updatedScore = [nullScore[j]] + updatedScore\n",
    "    prevScore = updatedScore.copy()\n",
    "\n",
    "    #(prevScore,updatedScore)\n",
    "\n",
    "    for i in range(1,n+1):\n",
    "        if residue == y[i-1]:\n",
    "            if verbose: print(i, 'match',y[i-1], prevScore,updatedScore)\n",
    "            updatedScore[i] = prevScore[i-1] + scorematch(residue,y[i-1],scoringMatrix) \n",
    "        else:\n",
    "            if verbose: print(i,'no match', y[i-1], prevScore,updatedScore,'choose',\n",
    "                                  updatedScore[i-1],\n",
    "                                  updatedScore[i],prevScore[i-1])\n",
    "            updatedScore[i] = max(updatedScore[i-1] + indel, #Up\n",
    "                                  updatedScore[i] + indel, #Left\n",
    "                                  prevScore[i-1] + scorematch(residue,y[i-1],scoringMatrix)) #Mismatch\n",
    "        if verbose: print(updatedScore,\"\\n----\")\n",
    "    return updatedScore[1:]\n"
   ]
  },
  {
   "cell_type": "code",
   "execution_count": 162,
   "metadata": {
    "ExecuteTime": {
     "end_time": "2020-10-07T17:39:45.033672Z",
     "start_time": "2020-10-07T17:39:45.002247Z"
    },
    "cell_style": "split"
   },
   "outputs": [
    {
     "name": "stdout",
     "output_type": "stream",
     "text": [
      "CPU times: user 4 µs, sys: 0 ns, total: 4 µs\n",
      "Wall time: 24.8 µs\n"
     ]
    }
   ],
   "source": [
    "%time\n",
    "### Using the aligner with a scoring matrix\n",
    "x='ACGGAA'\n",
    "y='ATTCAA'\n",
    "\n",
    "indel = 0\n",
    "mismatch = 0\n",
    "match =1\n",
    "\n",
    "###\n",
    "score = list(np.cumsum([indel for _ in y]))\n",
    "nullScore = list(np.cumsum([0] + [indel for _ in x]))\n",
    "\n",
    "dScores = {0:score}\n",
    "for i in range(1,len(x)+1):\n",
    "    dScores[i] = linspacAlignment_scoreMat(x[i-1],y,dScores[i-1],nullScore,scoringMatrix=residueScores,verbose=False,j=i-1)\n",
    "    "
   ]
  },
  {
   "cell_type": "code",
   "execution_count": 163,
   "metadata": {
    "ExecuteTime": {
     "end_time": "2020-10-07T17:39:46.391589Z",
     "start_time": "2020-10-07T17:39:46.364141Z"
    },
    "cell_style": "split"
   },
   "outputs": [
    {
     "data": {
      "text/html": [
       "<div>\n",
       "<style scoped>\n",
       "    .dataframe tbody tr th:only-of-type {\n",
       "        vertical-align: middle;\n",
       "    }\n",
       "\n",
       "    .dataframe tbody tr th {\n",
       "        vertical-align: top;\n",
       "    }\n",
       "\n",
       "    .dataframe thead th {\n",
       "        text-align: right;\n",
       "    }\n",
       "</style>\n",
       "<table border=\"1\" class=\"dataframe\">\n",
       "  <thead>\n",
       "    <tr style=\"text-align: right;\">\n",
       "      <th></th>\n",
       "      <th>-</th>\n",
       "      <th>A</th>\n",
       "      <th>T</th>\n",
       "      <th>T</th>\n",
       "      <th>C</th>\n",
       "      <th>A</th>\n",
       "      <th>A</th>\n",
       "    </tr>\n",
       "  </thead>\n",
       "  <tbody>\n",
       "    <tr>\n",
       "      <th>0</th>\n",
       "      <td>0</td>\n",
       "      <td>1</td>\n",
       "      <td>1</td>\n",
       "      <td>1</td>\n",
       "      <td>1</td>\n",
       "      <td>1</td>\n",
       "      <td>1</td>\n",
       "    </tr>\n",
       "    <tr>\n",
       "      <th>1</th>\n",
       "      <td>0</td>\n",
       "      <td>1</td>\n",
       "      <td>1</td>\n",
       "      <td>1</td>\n",
       "      <td>1</td>\n",
       "      <td>1</td>\n",
       "      <td>1</td>\n",
       "    </tr>\n",
       "    <tr>\n",
       "      <th>2</th>\n",
       "      <td>0</td>\n",
       "      <td>1</td>\n",
       "      <td>1</td>\n",
       "      <td>1</td>\n",
       "      <td>1</td>\n",
       "      <td>1</td>\n",
       "      <td>1</td>\n",
       "    </tr>\n",
       "    <tr>\n",
       "      <th>3</th>\n",
       "      <td>0</td>\n",
       "      <td>1</td>\n",
       "      <td>2</td>\n",
       "      <td>2</td>\n",
       "      <td>2</td>\n",
       "      <td>2</td>\n",
       "      <td>2</td>\n",
       "    </tr>\n",
       "    <tr>\n",
       "      <th>4</th>\n",
       "      <td>0</td>\n",
       "      <td>1</td>\n",
       "      <td>2</td>\n",
       "      <td>2</td>\n",
       "      <td>2</td>\n",
       "      <td>3</td>\n",
       "      <td>3</td>\n",
       "    </tr>\n",
       "    <tr>\n",
       "      <th>5</th>\n",
       "      <td>0</td>\n",
       "      <td>1</td>\n",
       "      <td>2</td>\n",
       "      <td>2</td>\n",
       "      <td>2</td>\n",
       "      <td>3</td>\n",
       "      <td>4</td>\n",
       "    </tr>\n",
       "  </tbody>\n",
       "</table>\n",
       "</div>"
      ],
      "text/plain": [
       "   -  A  T  T  C  A  A\n",
       "0  0  1  1  1  1  1  1\n",
       "1  0  1  1  1  1  1  1\n",
       "2  0  1  1  1  1  1  1\n",
       "3  0  1  2  2  2  2  2\n",
       "4  0  1  2  2  2  3  3\n",
       "5  0  1  2  2  2  3  4"
      ]
     },
     "execution_count": 163,
     "metadata": {},
     "output_type": "execute_result"
    }
   ],
   "source": [
    "ScoringMat = pd.DataFrame.from_dict(dScores.values(),orient='columns').T\n",
    "ScoringMat.columns=residueSplit(\"-\" + y)\n",
    "ScoringMat"
   ]
  },
  {
   "cell_type": "code",
   "execution_count": null,
   "metadata": {},
   "outputs": [],
   "source": [
    "5"
   ]
  },
  {
   "cell_type": "code",
   "execution_count": 164,
   "metadata": {
    "ExecuteTime": {
     "end_time": "2020-10-07T17:39:48.664848Z",
     "start_time": "2020-10-07T17:39:48.630320Z"
    }
   },
   "outputs": [],
   "source": [
    "def wrapAligner(x,y,scoringMatrix,indel=0,verbose=False):\n",
    "    # Initialize scoring \n",
    "    score = list(np.cumsum([indel for _ in y]))\n",
    "    nullScore = list(np.cumsum([0] + [indel for _ in x]))\n",
    "\n",
    "    dScores = {0:score}\n",
    "    for i in range(1,len(x)+1):\n",
    "        dScores[i] = linspacAlignment_scoreMat(x[i-1],y,dScores[i-1],nullScore,scoringMatrix=scoringMatrix,indel=indel,verbose=False,j=i-1)\n",
    "    tmpMat = pd.DataFrame.from_dict(dScores.values(),orient='columns').T\n",
    "    return pd.DataFrame(nullScore).T.append(tmpMat).reset_index(drop=True)"
   ]
  },
  {
   "cell_type": "code",
   "execution_count": 412,
   "metadata": {
    "ExecuteTime": {
     "end_time": "2020-10-05T22:52:31.739135Z",
     "start_time": "2020-10-05T22:52:31.674861Z"
    },
    "cell_style": "split"
   },
   "outputs": [
    {
     "name": "stdout",
     "output_type": "stream",
     "text": [
      "CPU times: user 7 µs, sys: 1e+03 ns, total: 8 µs\n",
      "Wall time: 41 µs\n"
     ]
    },
    {
     "data": {
      "text/html": [
       "<div>\n",
       "<style scoped>\n",
       "    .dataframe tbody tr th:only-of-type {\n",
       "        vertical-align: middle;\n",
       "    }\n",
       "\n",
       "    .dataframe tbody tr th {\n",
       "        vertical-align: top;\n",
       "    }\n",
       "\n",
       "    .dataframe thead th {\n",
       "        text-align: right;\n",
       "    }\n",
       "</style>\n",
       "<table border=\"1\" class=\"dataframe\">\n",
       "  <thead>\n",
       "    <tr style=\"text-align: right;\">\n",
       "      <th></th>\n",
       "      <th>0</th>\n",
       "      <th>1</th>\n",
       "      <th>2</th>\n",
       "      <th>3</th>\n",
       "      <th>4</th>\n",
       "      <th>5</th>\n",
       "      <th>6</th>\n",
       "      <th>7</th>\n",
       "      <th>8</th>\n",
       "      <th>9</th>\n",
       "      <th>10</th>\n",
       "    </tr>\n",
       "  </thead>\n",
       "  <tbody>\n",
       "    <tr>\n",
       "      <th>0</th>\n",
       "      <td>0</td>\n",
       "      <td>-5</td>\n",
       "      <td>-10</td>\n",
       "      <td>-15</td>\n",
       "      <td>-20</td>\n",
       "      <td>-25</td>\n",
       "      <td>-30</td>\n",
       "      <td>-35</td>\n",
       "      <td>-40</td>\n",
       "      <td>-45</td>\n",
       "      <td>-50</td>\n",
       "    </tr>\n",
       "    <tr>\n",
       "      <th>1</th>\n",
       "      <td>-5</td>\n",
       "      <td>-2</td>\n",
       "      <td>-3</td>\n",
       "      <td>-8</td>\n",
       "      <td>-13</td>\n",
       "      <td>-18</td>\n",
       "      <td>-23</td>\n",
       "      <td>-28</td>\n",
       "      <td>-33</td>\n",
       "      <td>-38</td>\n",
       "      <td>-43</td>\n",
       "    </tr>\n",
       "    <tr>\n",
       "      <th>2</th>\n",
       "      <td>-10</td>\n",
       "      <td>-6</td>\n",
       "      <td>-5</td>\n",
       "      <td>2</td>\n",
       "      <td>-3</td>\n",
       "      <td>-8</td>\n",
       "      <td>-13</td>\n",
       "      <td>-18</td>\n",
       "      <td>-23</td>\n",
       "      <td>-28</td>\n",
       "      <td>-33</td>\n",
       "    </tr>\n",
       "    <tr>\n",
       "      <th>3</th>\n",
       "      <td>-15</td>\n",
       "      <td>-11</td>\n",
       "      <td>-7</td>\n",
       "      <td>-3</td>\n",
       "      <td>6</td>\n",
       "      <td>1</td>\n",
       "      <td>-4</td>\n",
       "      <td>-9</td>\n",
       "      <td>-14</td>\n",
       "      <td>-19</td>\n",
       "      <td>-24</td>\n",
       "    </tr>\n",
       "    <tr>\n",
       "      <th>4</th>\n",
       "      <td>-20</td>\n",
       "      <td>-16</td>\n",
       "      <td>-12</td>\n",
       "      <td>-7</td>\n",
       "      <td>1</td>\n",
       "      <td>7</td>\n",
       "      <td>2</td>\n",
       "      <td>2</td>\n",
       "      <td>-3</td>\n",
       "      <td>-8</td>\n",
       "      <td>-13</td>\n",
       "    </tr>\n",
       "    <tr>\n",
       "      <th>5</th>\n",
       "      <td>-25</td>\n",
       "      <td>-21</td>\n",
       "      <td>-12</td>\n",
       "      <td>-12</td>\n",
       "      <td>-4</td>\n",
       "      <td>2</td>\n",
       "      <td>6</td>\n",
       "      <td>1</td>\n",
       "      <td>1</td>\n",
       "      <td>1</td>\n",
       "      <td>-4</td>\n",
       "    </tr>\n",
       "    <tr>\n",
       "      <th>6</th>\n",
       "      <td>-30</td>\n",
       "      <td>-26</td>\n",
       "      <td>-17</td>\n",
       "      <td>-14</td>\n",
       "      <td>-9</td>\n",
       "      <td>-3</td>\n",
       "      <td>1</td>\n",
       "      <td>4</td>\n",
       "      <td>-1</td>\n",
       "      <td>0</td>\n",
       "      <td>8</td>\n",
       "    </tr>\n",
       "  </tbody>\n",
       "</table>\n",
       "</div>"
      ],
      "text/plain": [
       "    0   1   2   3   4   5   6   7   8   9  10\n",
       "0   0  -5 -10 -15 -20 -25 -30 -35 -40 -45 -50\n",
       "1  -5  -2  -3  -8 -13 -18 -23 -28 -33 -38 -43\n",
       "2 -10  -6  -5   2  -3  -8 -13 -18 -23 -28 -33\n",
       "3 -15 -11  -7  -3   6   1  -4  -9 -14 -19 -24\n",
       "4 -20 -16 -12  -7   1   7   2   2  -3  -8 -13\n",
       "5 -25 -21 -12 -12  -4   2   6   1   1   1  -4\n",
       "6 -30 -26 -17 -14  -9  -3   1   4  -1   0   8"
      ]
     },
     "execution_count": 412,
     "metadata": {},
     "output_type": "execute_result"
    }
   ],
   "source": [
    "%time\n",
    "x='PLEASANTLY'\n",
    "y='MEANLY'\n",
    "aligned = wrapAligner(x,y,blosum,indel=-5)\n",
    "aligned"
   ]
  },
  {
   "cell_type": "code",
   "execution_count": 413,
   "metadata": {
    "ExecuteTime": {
     "end_time": "2020-10-05T22:52:42.956550Z",
     "start_time": "2020-10-05T22:52:34.431696Z"
    },
    "cell_style": "split"
   },
   "outputs": [
    {
     "name": "stdout",
     "output_type": "stream",
     "text": [
      "CPU times: user 32 µs, sys: 3 µs, total: 35 µs\n",
      "Wall time: 340 µs\n"
     ]
    },
    {
     "ename": "KeyboardInterrupt",
     "evalue": "",
     "output_type": "error",
     "traceback": [
      "\u001b[0;31m---------------------------------------------------------------------------\u001b[0m",
      "\u001b[0;31mKeyboardInterrupt\u001b[0m                         Traceback (most recent call last)",
      "\u001b[0;32m<ipython-input-413-a37bac71b622>\u001b[0m in \u001b[0;36m<module>\u001b[0;34m\u001b[0m\n\u001b[1;32m      2\u001b[0m \u001b[0mx\u001b[0m \u001b[0;34m=\u001b[0m \u001b[0;34m'ILYPRQSMICMSFCFWDMWKKDVPVVLMMFLERRQMQSVFSWLVTVKTDCGKGIYNHRKYLGLPTMTAGDWHWIKKQNDPHEWFQGRLETAWLHSTFLYWKYFECDAVKVCMDTFGLFGHCDWDQQIHTCTHENEPAIAFLDLYCRHSPMCDKLYPVWDMACQTCHFHHSWFCRNQEMWMKGDVDDWQWGYHYHTINSAQCNQWFKEICKDMGWDSVFPPRHNCQRHKKCMPALYAGIWMATDHACTFMVRLIYTENIAEWHQVYCYRSMNMFTCGNVCLRCKSWIFVKNYMMAPVVNDPMIEAFYKRCCILGKAWYDMWGICPVERKSHWEIYAKDLLSFESCCSQKKQNCYTDNWGLEYRLFFQSIQMNTDPHYCQTHVCWISAMFPIYSPFYTSGPKEFYMWLQARIDQNMHGHANHYVTSGNWDSVYTPEKRAGVFPVVVPVWYPPQMCNDYIKLTYECERFHVEGTFGCNRWDLGCRRYIIFQCPYCDTMKICYVDQWRSIKEGQFRMSGYPNHGYWFVHDDHTNEWCNQPVLAKFVRSKIVAICKKSQTVFHYAYTPGYNATWPQTNVCERMYGPHDNLLNNQQNVTFWWKMVPNCGMQILISCHNKMKWPTSHYVFMRLKCMHVLMQMEYLDHFTGPGEGDFCRNMQPYMHQDLHWEGSMRAILEYQAEHHRRAFRAELCAQYDQEIILWSGGWGVQDCGFHANYDGSLQVVSGEPCSMWCTTVMQYYADCWEKCMFA'\u001b[0m\u001b[0;34m\u001b[0m\u001b[0;34m\u001b[0m\u001b[0m\n\u001b[1;32m      3\u001b[0m \u001b[0my\u001b[0m \u001b[0;34m=\u001b[0m \u001b[0;34m'ILIPRQQMGCFPFPWHFDFCFWSAHHSLVVPLNPQMQTVFQNRGLDRVTVKTDCHDHRWKWIYNLGLPTMTAGDWHFIKKHVVRANNPHQWFQGRLTTAWLHSTFLYKKTEYCLVRHSNCCHCDWDQIIHTCAFIAFLDLYQRHWPMCDKLYCHFHHSWFCRNQEMSMDWNQWFPWDSVPRANCLEEGALIALYAGIWANSMKRDMKTDHACTVRLIYVCELHAWLKYCYTSINMLCGNVCLRCKSWIFVKLFYMYAPVVNTIEANSPHYYKRCCILGQGICPVERKSHCEIYAKDLLSFESCCSQKQNCYTDNWGLEYRLFFQHIQMECTDPHANRGWTSCQTAKYWHFNLDDRPPKEFYMWLQATPTDLCMYQHCLMFKIVKQNFRKQHGHANPAASTSGNWDSVYTPEKMAYKDWYVSHPPVDMRRNGSKMVPVWYPPGIWHWKQSYKLTYECFFTVPGRFHVEGTFGCNRWDHQPGTRRDRQANHQFQCPYSDTMAIWEHAYTYVDQWRSIKEGQMPMSGYPNHGQWNVHDDHTNEQERSPICNQPVLAKFVRSKNVSNHEICKKSQTVFHWACEAQTNVCERMLNNQHVAVKRNVTFWWQMVPNCLWSCHNKMTWPTRPEQHRLFFVKMRLKCMHEYLDVAPSDFCRNMQAYMHSMRAILEYQADFDLKRRLRAIAPMDLCAQYDQEIILWSGGYIYDQSLQVVSCEGCSYYADCYVKCINVKEKCMFA'\u001b[0m\u001b[0;34m\u001b[0m\u001b[0;34m\u001b[0m\u001b[0m\n\u001b[0;32m----> 4\u001b[0;31m \u001b[0mwrapAligner\u001b[0m\u001b[0;34m(\u001b[0m\u001b[0mx\u001b[0m\u001b[0;34m,\u001b[0m\u001b[0my\u001b[0m\u001b[0;34m,\u001b[0m\u001b[0mblosum\u001b[0m\u001b[0;34m,\u001b[0m\u001b[0mindel\u001b[0m\u001b[0;34m=\u001b[0m\u001b[0;34m-\u001b[0m\u001b[0;36m5\u001b[0m\u001b[0;34m)\u001b[0m\u001b[0;34m\u001b[0m\u001b[0;34m\u001b[0m\u001b[0m\n\u001b[0m",
      "\u001b[0;32m<ipython-input-411-7864453eb590>\u001b[0m in \u001b[0;36mwrapAligner\u001b[0;34m(x, y, scoringMatrix, indel, verbose)\u001b[0m\n\u001b[1;32m      6\u001b[0m     \u001b[0mdScores\u001b[0m \u001b[0;34m=\u001b[0m \u001b[0;34m{\u001b[0m\u001b[0;36m0\u001b[0m\u001b[0;34m:\u001b[0m\u001b[0mscore\u001b[0m\u001b[0;34m}\u001b[0m\u001b[0;34m\u001b[0m\u001b[0;34m\u001b[0m\u001b[0m\n\u001b[1;32m      7\u001b[0m     \u001b[0;32mfor\u001b[0m \u001b[0mi\u001b[0m \u001b[0;32min\u001b[0m \u001b[0mrange\u001b[0m\u001b[0;34m(\u001b[0m\u001b[0;36m1\u001b[0m\u001b[0;34m,\u001b[0m\u001b[0mlen\u001b[0m\u001b[0;34m(\u001b[0m\u001b[0mx\u001b[0m\u001b[0;34m)\u001b[0m\u001b[0;34m+\u001b[0m\u001b[0;36m1\u001b[0m\u001b[0;34m)\u001b[0m\u001b[0;34m:\u001b[0m\u001b[0;34m\u001b[0m\u001b[0;34m\u001b[0m\u001b[0m\n\u001b[0;32m----> 8\u001b[0;31m         \u001b[0mdScores\u001b[0m\u001b[0;34m[\u001b[0m\u001b[0mi\u001b[0m\u001b[0;34m]\u001b[0m \u001b[0;34m=\u001b[0m \u001b[0mlinspacAlignment_scoreMat\u001b[0m\u001b[0;34m(\u001b[0m\u001b[0mx\u001b[0m\u001b[0;34m[\u001b[0m\u001b[0mi\u001b[0m\u001b[0;34m-\u001b[0m\u001b[0;36m1\u001b[0m\u001b[0;34m]\u001b[0m\u001b[0;34m,\u001b[0m\u001b[0my\u001b[0m\u001b[0;34m,\u001b[0m\u001b[0mdScores\u001b[0m\u001b[0;34m[\u001b[0m\u001b[0mi\u001b[0m\u001b[0;34m-\u001b[0m\u001b[0;36m1\u001b[0m\u001b[0;34m]\u001b[0m\u001b[0;34m,\u001b[0m\u001b[0mnullScore\u001b[0m\u001b[0;34m,\u001b[0m\u001b[0mscoringMatrix\u001b[0m\u001b[0;34m=\u001b[0m\u001b[0mscoringMatrix\u001b[0m\u001b[0;34m,\u001b[0m\u001b[0mindel\u001b[0m\u001b[0;34m=\u001b[0m\u001b[0mindel\u001b[0m\u001b[0;34m,\u001b[0m\u001b[0mverbose\u001b[0m\u001b[0;34m=\u001b[0m\u001b[0;32mFalse\u001b[0m\u001b[0;34m,\u001b[0m\u001b[0mj\u001b[0m\u001b[0;34m=\u001b[0m\u001b[0mi\u001b[0m\u001b[0;34m-\u001b[0m\u001b[0;36m1\u001b[0m\u001b[0;34m)\u001b[0m\u001b[0;34m\u001b[0m\u001b[0;34m\u001b[0m\u001b[0m\n\u001b[0m\u001b[1;32m      9\u001b[0m     \u001b[0mtmpMat\u001b[0m \u001b[0;34m=\u001b[0m \u001b[0mpd\u001b[0m\u001b[0;34m.\u001b[0m\u001b[0mDataFrame\u001b[0m\u001b[0;34m.\u001b[0m\u001b[0mfrom_dict\u001b[0m\u001b[0;34m(\u001b[0m\u001b[0mdScores\u001b[0m\u001b[0;34m.\u001b[0m\u001b[0mvalues\u001b[0m\u001b[0;34m(\u001b[0m\u001b[0;34m)\u001b[0m\u001b[0;34m,\u001b[0m\u001b[0morient\u001b[0m\u001b[0;34m=\u001b[0m\u001b[0;34m'columns'\u001b[0m\u001b[0;34m)\u001b[0m\u001b[0;34m.\u001b[0m\u001b[0mT\u001b[0m\u001b[0;34m\u001b[0m\u001b[0;34m\u001b[0m\u001b[0m\n\u001b[1;32m     10\u001b[0m     \u001b[0;32mreturn\u001b[0m \u001b[0mpd\u001b[0m\u001b[0;34m.\u001b[0m\u001b[0mDataFrame\u001b[0m\u001b[0;34m(\u001b[0m\u001b[0mnullScore\u001b[0m\u001b[0;34m)\u001b[0m\u001b[0;34m.\u001b[0m\u001b[0mT\u001b[0m\u001b[0;34m.\u001b[0m\u001b[0mappend\u001b[0m\u001b[0;34m(\u001b[0m\u001b[0mtmpMat\u001b[0m\u001b[0;34m)\u001b[0m\u001b[0;34m.\u001b[0m\u001b[0mreset_index\u001b[0m\u001b[0;34m(\u001b[0m\u001b[0mdrop\u001b[0m\u001b[0;34m=\u001b[0m\u001b[0;32mTrue\u001b[0m\u001b[0;34m)\u001b[0m\u001b[0;34m\u001b[0m\u001b[0;34m\u001b[0m\u001b[0m\n",
      "\u001b[0;32m<ipython-input-78-7f942ced7ccd>\u001b[0m in \u001b[0;36mlinspacAlignment_scoreMat\u001b[0;34m(residue, y, updatedScore, nullScore, scoringMatrix, indel, j, verbose)\u001b[0m\n\u001b[1;32m     12\u001b[0m \u001b[0;34m\u001b[0m\u001b[0m\n\u001b[1;32m     13\u001b[0m     \u001b[0;32mfor\u001b[0m \u001b[0mi\u001b[0m \u001b[0;32min\u001b[0m \u001b[0mrange\u001b[0m\u001b[0;34m(\u001b[0m\u001b[0;36m1\u001b[0m\u001b[0;34m,\u001b[0m\u001b[0mn\u001b[0m\u001b[0;34m+\u001b[0m\u001b[0;36m1\u001b[0m\u001b[0;34m)\u001b[0m\u001b[0;34m:\u001b[0m\u001b[0;34m\u001b[0m\u001b[0;34m\u001b[0m\u001b[0m\n\u001b[0;32m---> 14\u001b[0;31m         \u001b[0;32mif\u001b[0m \u001b[0mresidue\u001b[0m \u001b[0;34m==\u001b[0m \u001b[0my\u001b[0m\u001b[0;34m[\u001b[0m\u001b[0mi\u001b[0m\u001b[0;34m-\u001b[0m\u001b[0;36m1\u001b[0m\u001b[0;34m]\u001b[0m\u001b[0;34m:\u001b[0m\u001b[0;34m\u001b[0m\u001b[0;34m\u001b[0m\u001b[0m\n\u001b[0m\u001b[1;32m     15\u001b[0m             \u001b[0;32mif\u001b[0m \u001b[0mverbose\u001b[0m\u001b[0;34m:\u001b[0m \u001b[0mprint\u001b[0m\u001b[0;34m(\u001b[0m\u001b[0mi\u001b[0m\u001b[0;34m,\u001b[0m \u001b[0;34m'match'\u001b[0m\u001b[0;34m,\u001b[0m\u001b[0my\u001b[0m\u001b[0;34m[\u001b[0m\u001b[0mi\u001b[0m\u001b[0;34m-\u001b[0m\u001b[0;36m1\u001b[0m\u001b[0;34m]\u001b[0m\u001b[0;34m,\u001b[0m \u001b[0mprevScore\u001b[0m\u001b[0;34m,\u001b[0m\u001b[0mupdatedScore\u001b[0m\u001b[0;34m)\u001b[0m\u001b[0;34m\u001b[0m\u001b[0;34m\u001b[0m\u001b[0m\n\u001b[1;32m     16\u001b[0m             \u001b[0mupdatedScore\u001b[0m\u001b[0;34m[\u001b[0m\u001b[0mi\u001b[0m\u001b[0;34m]\u001b[0m \u001b[0;34m=\u001b[0m \u001b[0mprevScore\u001b[0m\u001b[0;34m[\u001b[0m\u001b[0mi\u001b[0m\u001b[0;34m-\u001b[0m\u001b[0;36m1\u001b[0m\u001b[0;34m]\u001b[0m \u001b[0;34m+\u001b[0m \u001b[0mscorematch\u001b[0m\u001b[0;34m(\u001b[0m\u001b[0mresidue\u001b[0m\u001b[0;34m,\u001b[0m\u001b[0my\u001b[0m\u001b[0;34m[\u001b[0m\u001b[0mi\u001b[0m\u001b[0;34m-\u001b[0m\u001b[0;36m1\u001b[0m\u001b[0;34m]\u001b[0m\u001b[0;34m,\u001b[0m\u001b[0mscoringMatrix\u001b[0m\u001b[0;34m)\u001b[0m\u001b[0;34m\u001b[0m\u001b[0;34m\u001b[0m\u001b[0m\n",
      "\u001b[0;31mKeyboardInterrupt\u001b[0m: "
     ]
    }
   ],
   "source": [
    "%time\n",
    "x = 'ILYPRQSMICMSFCFWDMWKKDVPVVLMMFLERRQMQSVFSWLVTVKTDCGKGIYNHRKYLGLPTMTAGDWHWIKKQNDPHEWFQGRLETAWLHSTFLYWKYFECDAVKVCMDTFGLFGHCDWDQQIHTCTHENEPAIAFLDLYCRHSPMCDKLYPVWDMACQTCHFHHSWFCRNQEMWMKGDVDDWQWGYHYHTINSAQCNQWFKEICKDMGWDSVFPPRHNCQRHKKCMPALYAGIWMATDHACTFMVRLIYTENIAEWHQVYCYRSMNMFTCGNVCLRCKSWIFVKNYMMAPVVNDPMIEAFYKRCCILGKAWYDMWGICPVERKSHWEIYAKDLLSFESCCSQKKQNCYTDNWGLEYRLFFQSIQMNTDPHYCQTHVCWISAMFPIYSPFYTSGPKEFYMWLQARIDQNMHGHANHYVTSGNWDSVYTPEKRAGVFPVVVPVWYPPQMCNDYIKLTYECERFHVEGTFGCNRWDLGCRRYIIFQCPYCDTMKICYVDQWRSIKEGQFRMSGYPNHGYWFVHDDHTNEWCNQPVLAKFVRSKIVAICKKSQTVFHYAYTPGYNATWPQTNVCERMYGPHDNLLNNQQNVTFWWKMVPNCGMQILISCHNKMKWPTSHYVFMRLKCMHVLMQMEYLDHFTGPGEGDFCRNMQPYMHQDLHWEGSMRAILEYQAEHHRRAFRAELCAQYDQEIILWSGGWGVQDCGFHANYDGSLQVVSGEPCSMWCTTVMQYYADCWEKCMFA'\n",
    "y = 'ILIPRQQMGCFPFPWHFDFCFWSAHHSLVVPLNPQMQTVFQNRGLDRVTVKTDCHDHRWKWIYNLGLPTMTAGDWHFIKKHVVRANNPHQWFQGRLTTAWLHSTFLYKKTEYCLVRHSNCCHCDWDQIIHTCAFIAFLDLYQRHWPMCDKLYCHFHHSWFCRNQEMSMDWNQWFPWDSVPRANCLEEGALIALYAGIWANSMKRDMKTDHACTVRLIYVCELHAWLKYCYTSINMLCGNVCLRCKSWIFVKLFYMYAPVVNTIEANSPHYYKRCCILGQGICPVERKSHCEIYAKDLLSFESCCSQKQNCYTDNWGLEYRLFFQHIQMECTDPHANRGWTSCQTAKYWHFNLDDRPPKEFYMWLQATPTDLCMYQHCLMFKIVKQNFRKQHGHANPAASTSGNWDSVYTPEKMAYKDWYVSHPPVDMRRNGSKMVPVWYPPGIWHWKQSYKLTYECFFTVPGRFHVEGTFGCNRWDHQPGTRRDRQANHQFQCPYSDTMAIWEHAYTYVDQWRSIKEGQMPMSGYPNHGQWNVHDDHTNEQERSPICNQPVLAKFVRSKNVSNHEICKKSQTVFHWACEAQTNVCERMLNNQHVAVKRNVTFWWQMVPNCLWSCHNKMTWPTRPEQHRLFFVKMRLKCMHEYLDVAPSDFCRNMQAYMHSMRAILEYQADFDLKRRLRAIAPMDLCAQYDQEIILWSGGYIYDQSLQVVSCEGCSYYADCYVKCINVKEKCMFA'\n",
    "wrapAligner(x,y,blosum,indel=-5)"
   ]
  },
  {
   "cell_type": "markdown",
   "metadata": {},
   "source": [
    "Order doesn't matter:"
   ]
  },
  {
   "cell_type": "code",
   "execution_count": 414,
   "metadata": {
    "ExecuteTime": {
     "end_time": "2020-10-05T22:52:48.022126Z",
     "start_time": "2020-10-05T22:52:47.841692Z"
    },
    "cell_style": "split"
   },
   "outputs": [
    {
     "name": "stdout",
     "output_type": "stream",
     "text": [
      "CPU times: user 4 µs, sys: 1 µs, total: 5 µs\n",
      "Wall time: 27.2 µs\n"
     ]
    },
    {
     "data": {
      "text/html": [
       "<div>\n",
       "<style scoped>\n",
       "    .dataframe tbody tr th:only-of-type {\n",
       "        vertical-align: middle;\n",
       "    }\n",
       "\n",
       "    .dataframe tbody tr th {\n",
       "        vertical-align: top;\n",
       "    }\n",
       "\n",
       "    .dataframe thead th {\n",
       "        text-align: right;\n",
       "    }\n",
       "</style>\n",
       "<table border=\"1\" class=\"dataframe\">\n",
       "  <thead>\n",
       "    <tr style=\"text-align: right;\">\n",
       "      <th></th>\n",
       "      <th>0</th>\n",
       "      <th>1</th>\n",
       "      <th>2</th>\n",
       "      <th>3</th>\n",
       "      <th>4</th>\n",
       "      <th>5</th>\n",
       "      <th>6</th>\n",
       "    </tr>\n",
       "  </thead>\n",
       "  <tbody>\n",
       "    <tr>\n",
       "      <th>0</th>\n",
       "      <td>0</td>\n",
       "      <td>-5</td>\n",
       "      <td>-10</td>\n",
       "      <td>-15</td>\n",
       "      <td>-20</td>\n",
       "      <td>-25</td>\n",
       "      <td>-30</td>\n",
       "    </tr>\n",
       "    <tr>\n",
       "      <th>1</th>\n",
       "      <td>-5</td>\n",
       "      <td>-2</td>\n",
       "      <td>-6</td>\n",
       "      <td>-11</td>\n",
       "      <td>-16</td>\n",
       "      <td>-21</td>\n",
       "      <td>-26</td>\n",
       "    </tr>\n",
       "    <tr>\n",
       "      <th>2</th>\n",
       "      <td>-10</td>\n",
       "      <td>-3</td>\n",
       "      <td>-5</td>\n",
       "      <td>-7</td>\n",
       "      <td>-12</td>\n",
       "      <td>-12</td>\n",
       "      <td>-17</td>\n",
       "    </tr>\n",
       "    <tr>\n",
       "      <th>3</th>\n",
       "      <td>-15</td>\n",
       "      <td>-8</td>\n",
       "      <td>2</td>\n",
       "      <td>-3</td>\n",
       "      <td>-7</td>\n",
       "      <td>-12</td>\n",
       "      <td>-14</td>\n",
       "    </tr>\n",
       "    <tr>\n",
       "      <th>4</th>\n",
       "      <td>-20</td>\n",
       "      <td>-13</td>\n",
       "      <td>-3</td>\n",
       "      <td>6</td>\n",
       "      <td>1</td>\n",
       "      <td>-4</td>\n",
       "      <td>-9</td>\n",
       "    </tr>\n",
       "    <tr>\n",
       "      <th>5</th>\n",
       "      <td>-25</td>\n",
       "      <td>-18</td>\n",
       "      <td>-8</td>\n",
       "      <td>1</td>\n",
       "      <td>7</td>\n",
       "      <td>2</td>\n",
       "      <td>-3</td>\n",
       "    </tr>\n",
       "    <tr>\n",
       "      <th>6</th>\n",
       "      <td>-30</td>\n",
       "      <td>-23</td>\n",
       "      <td>-13</td>\n",
       "      <td>-4</td>\n",
       "      <td>2</td>\n",
       "      <td>6</td>\n",
       "      <td>1</td>\n",
       "    </tr>\n",
       "    <tr>\n",
       "      <th>7</th>\n",
       "      <td>-35</td>\n",
       "      <td>-28</td>\n",
       "      <td>-18</td>\n",
       "      <td>-9</td>\n",
       "      <td>2</td>\n",
       "      <td>1</td>\n",
       "      <td>4</td>\n",
       "    </tr>\n",
       "    <tr>\n",
       "      <th>8</th>\n",
       "      <td>-40</td>\n",
       "      <td>-33</td>\n",
       "      <td>-23</td>\n",
       "      <td>-14</td>\n",
       "      <td>-3</td>\n",
       "      <td>1</td>\n",
       "      <td>-1</td>\n",
       "    </tr>\n",
       "    <tr>\n",
       "      <th>9</th>\n",
       "      <td>-45</td>\n",
       "      <td>-38</td>\n",
       "      <td>-28</td>\n",
       "      <td>-19</td>\n",
       "      <td>-8</td>\n",
       "      <td>1</td>\n",
       "      <td>0</td>\n",
       "    </tr>\n",
       "    <tr>\n",
       "      <th>10</th>\n",
       "      <td>-50</td>\n",
       "      <td>-43</td>\n",
       "      <td>-33</td>\n",
       "      <td>-24</td>\n",
       "      <td>-13</td>\n",
       "      <td>-4</td>\n",
       "      <td>8</td>\n",
       "    </tr>\n",
       "  </tbody>\n",
       "</table>\n",
       "</div>"
      ],
      "text/plain": [
       "     0   1   2   3   4   5   6\n",
       "0    0  -5 -10 -15 -20 -25 -30\n",
       "1   -5  -2  -6 -11 -16 -21 -26\n",
       "2  -10  -3  -5  -7 -12 -12 -17\n",
       "3  -15  -8   2  -3  -7 -12 -14\n",
       "4  -20 -13  -3   6   1  -4  -9\n",
       "5  -25 -18  -8   1   7   2  -3\n",
       "6  -30 -23 -13  -4   2   6   1\n",
       "7  -35 -28 -18  -9   2   1   4\n",
       "8  -40 -33 -23 -14  -3   1  -1\n",
       "9  -45 -38 -28 -19  -8   1   0\n",
       "10 -50 -43 -33 -24 -13  -4   8"
      ]
     },
     "execution_count": 414,
     "metadata": {},
     "output_type": "execute_result"
    }
   ],
   "source": [
    "%time\n",
    "x='PLEASANTLY'\n",
    "y='MEANLY'\n",
    "wrapAligner(y,x,blosum,indel=-5)"
   ]
  },
  {
   "cell_type": "code",
   "execution_count": 415,
   "metadata": {
    "ExecuteTime": {
     "end_time": "2020-10-05T22:52:49.944562Z",
     "start_time": "2020-10-05T22:52:49.887184Z"
    },
    "cell_style": "split"
   },
   "outputs": [
    {
     "name": "stdout",
     "output_type": "stream",
     "text": [
      "CPU times: user 2 µs, sys: 1 µs, total: 3 µs\n",
      "Wall time: 5.25 µs\n"
     ]
    },
    {
     "data": {
      "text/html": [
       "<div>\n",
       "<style scoped>\n",
       "    .dataframe tbody tr th:only-of-type {\n",
       "        vertical-align: middle;\n",
       "    }\n",
       "\n",
       "    .dataframe tbody tr th {\n",
       "        vertical-align: top;\n",
       "    }\n",
       "\n",
       "    .dataframe thead th {\n",
       "        text-align: right;\n",
       "    }\n",
       "</style>\n",
       "<table border=\"1\" class=\"dataframe\">\n",
       "  <thead>\n",
       "    <tr style=\"text-align: right;\">\n",
       "      <th></th>\n",
       "      <th>0</th>\n",
       "      <th>1</th>\n",
       "      <th>2</th>\n",
       "      <th>3</th>\n",
       "      <th>4</th>\n",
       "      <th>5</th>\n",
       "      <th>6</th>\n",
       "      <th>7</th>\n",
       "      <th>8</th>\n",
       "      <th>9</th>\n",
       "      <th>10</th>\n",
       "    </tr>\n",
       "  </thead>\n",
       "  <tbody>\n",
       "    <tr>\n",
       "      <th>0</th>\n",
       "      <td>0</td>\n",
       "      <td>-5</td>\n",
       "      <td>-10</td>\n",
       "      <td>-15</td>\n",
       "      <td>-20</td>\n",
       "      <td>-25</td>\n",
       "      <td>-30</td>\n",
       "      <td>-35</td>\n",
       "      <td>-40</td>\n",
       "      <td>-45</td>\n",
       "      <td>-50</td>\n",
       "    </tr>\n",
       "    <tr>\n",
       "      <th>1</th>\n",
       "      <td>-5</td>\n",
       "      <td>-2</td>\n",
       "      <td>-3</td>\n",
       "      <td>-8</td>\n",
       "      <td>-13</td>\n",
       "      <td>-18</td>\n",
       "      <td>-23</td>\n",
       "      <td>-28</td>\n",
       "      <td>-33</td>\n",
       "      <td>-38</td>\n",
       "      <td>-43</td>\n",
       "    </tr>\n",
       "    <tr>\n",
       "      <th>2</th>\n",
       "      <td>-10</td>\n",
       "      <td>-6</td>\n",
       "      <td>-5</td>\n",
       "      <td>2</td>\n",
       "      <td>-3</td>\n",
       "      <td>-8</td>\n",
       "      <td>-13</td>\n",
       "      <td>-18</td>\n",
       "      <td>-23</td>\n",
       "      <td>-28</td>\n",
       "      <td>-33</td>\n",
       "    </tr>\n",
       "    <tr>\n",
       "      <th>3</th>\n",
       "      <td>-15</td>\n",
       "      <td>-11</td>\n",
       "      <td>-7</td>\n",
       "      <td>-3</td>\n",
       "      <td>6</td>\n",
       "      <td>1</td>\n",
       "      <td>-4</td>\n",
       "      <td>-9</td>\n",
       "      <td>-14</td>\n",
       "      <td>-19</td>\n",
       "      <td>-24</td>\n",
       "    </tr>\n",
       "    <tr>\n",
       "      <th>4</th>\n",
       "      <td>-20</td>\n",
       "      <td>-16</td>\n",
       "      <td>-12</td>\n",
       "      <td>-7</td>\n",
       "      <td>1</td>\n",
       "      <td>7</td>\n",
       "      <td>2</td>\n",
       "      <td>2</td>\n",
       "      <td>-3</td>\n",
       "      <td>-8</td>\n",
       "      <td>-13</td>\n",
       "    </tr>\n",
       "    <tr>\n",
       "      <th>5</th>\n",
       "      <td>-25</td>\n",
       "      <td>-21</td>\n",
       "      <td>-12</td>\n",
       "      <td>-12</td>\n",
       "      <td>-4</td>\n",
       "      <td>2</td>\n",
       "      <td>6</td>\n",
       "      <td>1</td>\n",
       "      <td>1</td>\n",
       "      <td>1</td>\n",
       "      <td>-4</td>\n",
       "    </tr>\n",
       "    <tr>\n",
       "      <th>6</th>\n",
       "      <td>-30</td>\n",
       "      <td>-26</td>\n",
       "      <td>-17</td>\n",
       "      <td>-14</td>\n",
       "      <td>-9</td>\n",
       "      <td>-3</td>\n",
       "      <td>1</td>\n",
       "      <td>4</td>\n",
       "      <td>-1</td>\n",
       "      <td>0</td>\n",
       "      <td>8</td>\n",
       "    </tr>\n",
       "  </tbody>\n",
       "</table>\n",
       "</div>"
      ],
      "text/plain": [
       "    0   1   2   3   4   5   6   7   8   9  10\n",
       "0   0  -5 -10 -15 -20 -25 -30 -35 -40 -45 -50\n",
       "1  -5  -2  -3  -8 -13 -18 -23 -28 -33 -38 -43\n",
       "2 -10  -6  -5   2  -3  -8 -13 -18 -23 -28 -33\n",
       "3 -15 -11  -7  -3   6   1  -4  -9 -14 -19 -24\n",
       "4 -20 -16 -12  -7   1   7   2   2  -3  -8 -13\n",
       "5 -25 -21 -12 -12  -4   2   6   1   1   1  -4\n",
       "6 -30 -26 -17 -14  -9  -3   1   4  -1   0   8"
      ]
     },
     "execution_count": 415,
     "metadata": {},
     "output_type": "execute_result"
    }
   ],
   "source": [
    "%time\n",
    "x='PLEASANTLY'\n",
    "y='MEANLY'\n",
    "alMat = wrapAligner(x,y,blosum,indel=-5)\n",
    "alMat"
   ]
  },
  {
   "cell_type": "code",
   "execution_count": null,
   "metadata": {},
   "outputs": [],
   "source": []
  },
  {
   "cell_type": "code",
   "execution_count": 416,
   "metadata": {
    "ExecuteTime": {
     "end_time": "2020-10-05T22:52:53.018736Z",
     "start_time": "2020-10-05T22:52:52.942547Z"
    },
    "cell_style": "split"
   },
   "outputs": [
    {
     "name": "stdout",
     "output_type": "stream",
     "text": [
      "CPU times: user 2 µs, sys: 1e+03 ns, total: 3 µs\n",
      "Wall time: 6.2 µs\n",
      "    0   1   2   3   4   5   6   7   8   9  10\n",
      "0   0  -5 -10 -15 -20 -25 -30 -35 -40 -45 -50\n",
      "1  -5  -2  -3  -8 -13 -18 -23 -28 -33 -38 -43\n",
      "2 -10  -6  -5   2  -3  -8 -13 -18 -23 -28 -33\n",
      "3 -15 -11  -7  -3   6   1  -4  -9 -14 -19 -24\n",
      "4 -20 -16 -12  -7   1   7   2   2  -3  -8 -13\n",
      "5 -25 -21 -12 -12  -4   2   6   1   1   1  -4\n",
      "6 -30 -26 -17 -14  -9  -3   1   4  -1   0   8\n",
      "8\n",
      "---\n",
      "PLEASANTLY\n",
      "-MEA--N-LY\n"
     ]
    }
   ],
   "source": [
    "%time\n",
    "x='PLEASANTLY'\n",
    "y='MEANLY'\n",
    "alMat = wrapAligner(x,y,blosum,indel=-5)\n",
    "print(alMat)\n",
    "\n",
    "w,v = getAlignment(x,y,alMat,indel=-5,scoringmatrix=blosum)\n",
    "print(alMat[len(x)][len(y)])\n",
    "print('---')\n",
    "print(w)\n",
    "print(v)"
   ]
  },
  {
   "cell_type": "code",
   "execution_count": 314,
   "metadata": {
    "ExecuteTime": {
     "end_time": "2020-10-07T21:14:54.326084Z",
     "start_time": "2020-10-07T21:14:54.278871Z"
    },
    "cell_style": "split"
   },
   "outputs": [],
   "source": [
    "def getAlignment(x,y,alignmentMatrix,indel,scoringmatrix,verbose=False):\n",
    "\n",
    "    i = len(x)\n",
    "    j = len(y)\n",
    "\n",
    "    wOut = ''\n",
    "    vOut = ''\n",
    "\n",
    "    while i*j != 0:\n",
    "        btrack = [alMat.iloc[j-1][i] + indel,  #up\n",
    "                        alMat.iloc[j][i-1] + indel,   #left\n",
    "                        alMat.iloc[j-1][i-1] +scorematch(x[i-1],y[j-1],scoringmatrix)]\n",
    "        mx = np.argmax(btrack) #diag\n",
    "\n",
    "        if verbose: print(i,j,btrack,mx,btrack[mx])\n",
    "        if mx == 2:\n",
    "            wOut += x[i-1]\n",
    "            vOut += y[j-1]\n",
    "            i -= 1\n",
    "            j -= 1\n",
    "        else:\n",
    "            if mx == 0:\n",
    "                wOut += '-'\n",
    "                vOut += y[j-1]\n",
    "                j -= 1\n",
    "            else:\n",
    "                wOut += x[i-1]\n",
    "                vOut += '-'\n",
    "                i -= 1\n",
    "        if verbose: print(wOut[::-1])\n",
    "        if verbose: print(vOut[::-1])\n",
    "\n",
    "   \n",
    "    if i == 0 and j>0:\n",
    "        vOut = vOut + y[j-1::-1]\n",
    "        vOut = vOut[::-1]\n",
    "        wOut = ''.join(['-' for _ in range(j,0,-1)]) + wOut[::-1]\n",
    "    if j == 0 and i>0:\n",
    "        wOut = wOut + x[i-1::-1]\n",
    "        wOut = wOut[::-1]\n",
    "        vOut = ''.join(['-' for _ in range(i,0,-1)]) + vOut[::-1]\n",
    "\n",
    "    return wOut, vOut"
   ]
  },
  {
   "cell_type": "code",
   "execution_count": null,
   "metadata": {},
   "outputs": [],
   "source": []
  },
  {
   "cell_type": "markdown",
   "metadata": {},
   "source": [
    "### Hirschberg's algorithm\n",
    "\n",
    "https://ocw.mit.edu/courses/electrical-engineering-and-computer-science/6-096-algorithms-for-computational-biology-spring-2005/lecture-notes/lecture5_newest.pdf"
   ]
  },
  {
   "cell_type": "code",
   "execution_count": 315,
   "metadata": {
    "ExecuteTime": {
     "end_time": "2020-10-07T21:15:08.235792Z",
     "start_time": "2020-10-07T21:15:08.070579Z"
    }
   },
   "outputs": [
    {
     "data": {
      "text/html": [
       "<div>\n",
       "<style scoped>\n",
       "    .dataframe tbody tr th:only-of-type {\n",
       "        vertical-align: middle;\n",
       "    }\n",
       "\n",
       "    .dataframe tbody tr th {\n",
       "        vertical-align: top;\n",
       "    }\n",
       "\n",
       "    .dataframe thead th {\n",
       "        text-align: right;\n",
       "    }\n",
       "</style>\n",
       "<table border=\"1\" class=\"dataframe\">\n",
       "  <thead>\n",
       "    <tr style=\"text-align: right;\">\n",
       "      <th></th>\n",
       "      <th>A</th>\n",
       "      <th>C</th>\n",
       "      <th>T</th>\n",
       "      <th>G</th>\n",
       "    </tr>\n",
       "  </thead>\n",
       "  <tbody>\n",
       "    <tr>\n",
       "      <th>A</th>\n",
       "      <td>2</td>\n",
       "      <td>-1</td>\n",
       "      <td>-1</td>\n",
       "      <td>-1</td>\n",
       "    </tr>\n",
       "    <tr>\n",
       "      <th>C</th>\n",
       "      <td>-1</td>\n",
       "      <td>2</td>\n",
       "      <td>-1</td>\n",
       "      <td>-1</td>\n",
       "    </tr>\n",
       "    <tr>\n",
       "      <th>T</th>\n",
       "      <td>-1</td>\n",
       "      <td>-1</td>\n",
       "      <td>2</td>\n",
       "      <td>-1</td>\n",
       "    </tr>\n",
       "    <tr>\n",
       "      <th>G</th>\n",
       "      <td>-1</td>\n",
       "      <td>-1</td>\n",
       "      <td>-1</td>\n",
       "      <td>2</td>\n",
       "    </tr>\n",
       "  </tbody>\n",
       "</table>\n",
       "</div>"
      ],
      "text/plain": [
       "   A  C  T  G\n",
       "A  2 -1 -1 -1\n",
       "C -1  2 -1 -1\n",
       "T -1 -1  2 -1\n",
       "G -1 -1 -1  2"
      ]
     },
     "execution_count": 315,
     "metadata": {},
     "output_type": "execute_result"
    }
   ],
   "source": [
    "residueScores[residueScores == 1] = 2\n",
    "residueScores[residueScores == 0] = -1\n",
    "residueScores"
   ]
  },
  {
   "cell_type": "code",
   "execution_count": 316,
   "metadata": {
    "ExecuteTime": {
     "end_time": "2020-10-07T21:15:16.459822Z",
     "start_time": "2020-10-07T21:15:16.355381Z"
    }
   },
   "outputs": [
    {
     "name": "stdout",
     "output_type": "stream",
     "text": [
      "CPU times: user 4 µs, sys: 0 ns, total: 4 µs\n",
      "Wall time: 36 µs\n",
      "    0  1  2  3  4   5   6   7   8\n",
      "0   0 -2 -4 -6 -8 -10 -12 -14 -16\n",
      "1  -2 -1 -3 -2 -4  -6  -8 -10 -12\n",
      "2  -4  0 -2 -4  0  -2  -4  -6  -8\n",
      "3  -6 -2 -1  0 -2  -1  -3  -5  -7\n",
      "4  -8 -4  0 -2 -1  -3   1  -1  -3\n",
      "5 -10 -6 -2 -1 -3   1  -1   3   1\n",
      "\n",
      "~~~\\score:\n",
      "1\n",
      "~~~\n",
      "alginment:\n",
      "AGTACGCA\n",
      "--TATGC-\n"
     ]
    }
   ],
   "source": [
    "%time\n",
    "\n",
    "x='AGTACGCA'\n",
    "y='TATGC'\n",
    "alMat = wrapAligner(x,y,residueScores,indel=-2)\n",
    "print(alMat)\n",
    "\n",
    "w,v = getAlignment(x,y,alMat,indel=0,scoringmatrix=residueScores)\n",
    "print('\\n~~~\\score:')\n",
    "print(alMat[len(x)][len(y)])\n",
    "print('~~~\\nalginment:')\n",
    "print(w)\n",
    "print(v)"
   ]
  },
  {
   "cell_type": "code",
   "execution_count": 330,
   "metadata": {
    "ExecuteTime": {
     "end_time": "2020-10-07T22:22:30.589782Z",
     "start_time": "2020-10-07T22:22:30.541479Z"
    }
   },
   "outputs": [],
   "source": [
    "def splitstring(s,point):\n",
    "    fwd = s[0:point:]\n",
    "    rev = s[point:][::-1]\n",
    "    return fwd, rev\n",
    "\n",
    "def halfstring(s):\n",
    "    fwd = s[0:int(len(s)/2):]\n",
    "    rev = s[int(len(s)/2):][::-1]\n",
    "    return fwd, rev"
   ]
  },
  {
   "cell_type": "code",
   "execution_count": 376,
   "metadata": {
    "ExecuteTime": {
     "end_time": "2020-10-08T01:10:54.309986Z",
     "start_time": "2020-10-08T01:10:54.279823Z"
    }
   },
   "outputs": [
    {
     "data": {
      "text/html": [
       "<div>\n",
       "<style scoped>\n",
       "    .dataframe tbody tr th:only-of-type {\n",
       "        vertical-align: middle;\n",
       "    }\n",
       "\n",
       "    .dataframe tbody tr th {\n",
       "        vertical-align: top;\n",
       "    }\n",
       "\n",
       "    .dataframe thead th {\n",
       "        text-align: right;\n",
       "    }\n",
       "</style>\n",
       "<table border=\"1\" class=\"dataframe\">\n",
       "  <thead>\n",
       "    <tr style=\"text-align: right;\">\n",
       "      <th></th>\n",
       "      <th>A</th>\n",
       "      <th>C</th>\n",
       "      <th>T</th>\n",
       "      <th>G</th>\n",
       "    </tr>\n",
       "  </thead>\n",
       "  <tbody>\n",
       "    <tr>\n",
       "      <th>A</th>\n",
       "      <td>2.0</td>\n",
       "      <td>1.0</td>\n",
       "      <td>1.0</td>\n",
       "      <td>1.0</td>\n",
       "    </tr>\n",
       "    <tr>\n",
       "      <th>C</th>\n",
       "      <td>1.0</td>\n",
       "      <td>2.0</td>\n",
       "      <td>1.0</td>\n",
       "      <td>1.0</td>\n",
       "    </tr>\n",
       "    <tr>\n",
       "      <th>T</th>\n",
       "      <td>1.0</td>\n",
       "      <td>1.0</td>\n",
       "      <td>2.0</td>\n",
       "      <td>1.0</td>\n",
       "    </tr>\n",
       "    <tr>\n",
       "      <th>G</th>\n",
       "      <td>1.0</td>\n",
       "      <td>1.0</td>\n",
       "      <td>1.0</td>\n",
       "      <td>2.0</td>\n",
       "    </tr>\n",
       "  </tbody>\n",
       "</table>\n",
       "</div>"
      ],
      "text/plain": [
       "     A    C    T    G\n",
       "A  2.0  1.0  1.0  1.0\n",
       "C  1.0  2.0  1.0  1.0\n",
       "T  1.0  1.0  2.0  1.0\n",
       "G  1.0  1.0  1.0  2.0"
      ]
     },
     "execution_count": 376,
     "metadata": {},
     "output_type": "execute_result"
    }
   ],
   "source": []
  },
  {
   "cell_type": "code",
   "execution_count": 368,
   "metadata": {
    "ExecuteTime": {
     "end_time": "2020-10-08T01:09:00.311708Z",
     "start_time": "2020-10-08T01:09:00.296453Z"
    }
   },
   "outputs": [],
   "source": []
  },
  {
   "cell_type": "code",
   "execution_count": 377,
   "metadata": {
    "ExecuteTime": {
     "end_time": "2020-10-08T01:11:33.971461Z",
     "start_time": "2020-10-08T01:11:33.935770Z"
    }
   },
   "outputs": [],
   "source": [
    "def createScorMat(match = 1,mismatch = 0):\n",
    "    \"\"\"\n",
    "    Create scoring matrix for nucleotides with a given match and mismatch values\n",
    "    \"\"\"\n",
    "    nts = ['A','C','T','G']\n",
    "\n",
    "    scoringMatrix = np.zeros((len(nts),len(nts)),)\n",
    "    np.fill_diagonal(scoringMatrix,2)\n",
    "    scoringMatrix\n",
    "    scoringMatrix[scoringMatrix == 0] = mismatch\n",
    "    scoringMatrix = pd.DataFrame(scoringMatrix,index=nts,columns=nts)\n",
    "    return scoringMatrix"
   ]
  },
  {
   "cell_type": "code",
   "execution_count": 380,
   "metadata": {
    "ExecuteTime": {
     "end_time": "2020-10-08T01:12:12.655176Z",
     "start_time": "2020-10-08T01:12:12.641108Z"
    }
   },
   "outputs": [
    {
     "data": {
      "text/plain": [
       "([0, 0, 0, 0, 0], [0, 0, 0, 0, 0, 0, 0, 0, 0])"
      ]
     },
     "execution_count": 380,
     "metadata": {},
     "output_type": "execute_result"
    }
   ],
   "source": [
    "x\n",
    "scoringMatrix = createScorMat(2,1)\n",
    "\n",
    "\n",
    "n = len(y)\n",
    "\n",
    "score = list(np.cumsum([indel for _ in y]))\n",
    "nullScore = list(np.cumsum([0] + [indel for _ in x]))\n",
    "\n",
    "score,nullScore"
   ]
  },
  {
   "cell_type": "code",
   "execution_count": 346,
   "metadata": {
    "ExecuteTime": {
     "end_time": "2020-10-08T01:02:32.360072Z",
     "start_time": "2020-10-08T01:02:32.321753Z"
    }
   },
   "outputs": [],
   "source": [
    "def linspace(residue,y,updatedScore,nullScore,scoringMatrix,indel=0,j=0,verbose=False):    \n",
    "    \"\"\"\n",
    "    Alignment in linear space\n",
    "    Add scoring matrix capability\n",
    "    \"\"\"\n",
    "    n = len(y)\n",
    "\n",
    "    updatedScore = [nullScore[j]] + updatedScore\n",
    "    prevScore = updatedScore.copy()\n",
    "\n",
    "    #(prevScore,updatedScore)\n",
    "\n",
    "    for i in range(1,n+1):\n",
    "        if residue == y[i-1]:\n",
    "            if verbose: print(i, 'match',y[i-1], prevScore,updatedScore)\n",
    "            updatedScore[i] = prevScore[i-1] + scorematch(residue,y[i-1],scoringMatrix) \n",
    "        else:\n",
    "            if verbose: print(i,'no match', y[i-1], prevScore,updatedScore,'choose',\n",
    "                                  updatedScore[i-1],\n",
    "                                  updatedScore[i],prevScore[i-1])\n",
    "            updatedScore[i] = max(updatedScore[i-1] + indel, #Up\n",
    "                                  updatedScore[i] + indel, #Left\n",
    "                                  prevScore[i-1] + scorematch(residue,y[i-1],scoringMatrix)) #Mismatch\n",
    "        if verbose: print(updatedScore,\"\\n----\")\n",
    "    return updatedScore[1:]\n",
    "\n",
    "\n",
    "def align_linear(x,y,scoringMatrix,indel=0,verbose=False):\n",
    "    # Initialize scoring \n",
    "    score = list(np.cumsum([indel for _ in y]))\n",
    "    nullScore = list(np.cumsum([0] + [indel for _ in x]))\n",
    "    for i in range(1,len(x)+1):\n",
    "        prev = score.copy()\n",
    "        score = linspace(x[i-1],y,prev,nullScore,scoringMatrix=scoringMatrix,indel=indel,verbose=False,j=i-1)\n",
    "    return score"
   ]
  },
  {
   "cell_type": "code",
   "execution_count": 331,
   "metadata": {
    "ExecuteTime": {
     "end_time": "2020-10-07T22:22:35.696934Z",
     "start_time": "2020-10-07T22:22:35.686229Z"
    }
   },
   "outputs": [
    {
     "data": {
      "text/plain": [
       "('AGTA', 'ACGC')"
      ]
     },
     "execution_count": 331,
     "metadata": {},
     "output_type": "execute_result"
    }
   ],
   "source": [
    "def hirsh(x,y,scoringmatrix,indel):\n",
    "    fwd, rev = halfstring(x)\n",
    "    fwdMat = wrapAligner(y,fwdX,scoringmatrix,indel)"
   ]
  },
  {
   "cell_type": "code",
   "execution_count": 335,
   "metadata": {
    "ExecuteTime": {
     "end_time": "2020-10-08T00:54:53.196075Z",
     "start_time": "2020-10-08T00:54:52.958315Z"
    }
   },
   "outputs": [],
   "source": []
  },
  {
   "cell_type": "code",
   "execution_count": 347,
   "metadata": {
    "ExecuteTime": {
     "end_time": "2020-10-08T01:02:35.218665Z",
     "start_time": "2020-10-08T01:02:35.092150Z"
    }
   },
   "outputs": [
    {
     "ename": "IndexError",
     "evalue": "list index out of range",
     "output_type": "error",
     "traceback": [
      "\u001b[0;31m---------------------------------------------------------------------------\u001b[0m",
      "\u001b[0;31mIndexError\u001b[0m                                Traceback (most recent call last)",
      "\u001b[0;32m<ipython-input-347-a26f0d0a79b0>\u001b[0m in \u001b[0;36m<module>\u001b[0;34m\u001b[0m\n\u001b[0;32m----> 1\u001b[0;31m \u001b[0malign_linear\u001b[0m\u001b[0;34m(\u001b[0m\u001b[0mx\u001b[0m\u001b[0;34m,\u001b[0m\u001b[0my\u001b[0m\u001b[0;34m,\u001b[0m\u001b[0mresidueScores\u001b[0m\u001b[0;34m,\u001b[0m\u001b[0mindel\u001b[0m\u001b[0;34m=\u001b[0m\u001b[0;34m-\u001b[0m\u001b[0;36m2\u001b[0m\u001b[0;34m,\u001b[0m\u001b[0mverbose\u001b[0m\u001b[0;34m=\u001b[0m\u001b[0;32mFalse\u001b[0m\u001b[0;34m)\u001b[0m\u001b[0;34m\u001b[0m\u001b[0;34m\u001b[0m\u001b[0m\n\u001b[0m",
      "\u001b[0;32m<ipython-input-346-b6dcaa107fe0>\u001b[0m in \u001b[0;36malign_linear\u001b[0;34m(x, y, scoringMatrix, indel, verbose)\u001b[0m\n\u001b[1;32m     32\u001b[0m     \u001b[0;32mfor\u001b[0m \u001b[0mi\u001b[0m \u001b[0;32min\u001b[0m \u001b[0mrange\u001b[0m\u001b[0;34m(\u001b[0m\u001b[0;36m1\u001b[0m\u001b[0;34m,\u001b[0m\u001b[0mlen\u001b[0m\u001b[0;34m(\u001b[0m\u001b[0mx\u001b[0m\u001b[0;34m)\u001b[0m\u001b[0;34m+\u001b[0m\u001b[0;36m1\u001b[0m\u001b[0;34m)\u001b[0m\u001b[0;34m:\u001b[0m\u001b[0;34m\u001b[0m\u001b[0;34m\u001b[0m\u001b[0m\n\u001b[1;32m     33\u001b[0m         \u001b[0mprev\u001b[0m \u001b[0;34m=\u001b[0m \u001b[0mscore\u001b[0m\u001b[0;34m.\u001b[0m\u001b[0mcopy\u001b[0m\u001b[0;34m(\u001b[0m\u001b[0;34m)\u001b[0m\u001b[0;34m\u001b[0m\u001b[0;34m\u001b[0m\u001b[0m\n\u001b[0;32m---> 34\u001b[0;31m         \u001b[0mscore\u001b[0m \u001b[0;34m=\u001b[0m \u001b[0mlinspace\u001b[0m\u001b[0;34m(\u001b[0m\u001b[0mx\u001b[0m\u001b[0;34m[\u001b[0m\u001b[0mi\u001b[0m\u001b[0;34m-\u001b[0m\u001b[0;36m1\u001b[0m\u001b[0;34m]\u001b[0m\u001b[0;34m,\u001b[0m\u001b[0my\u001b[0m\u001b[0;34m,\u001b[0m\u001b[0mprev\u001b[0m\u001b[0;34m,\u001b[0m\u001b[0mnullScore\u001b[0m\u001b[0;34m,\u001b[0m\u001b[0mscoringMatrix\u001b[0m\u001b[0;34m=\u001b[0m\u001b[0mscoringMatrix\u001b[0m\u001b[0;34m,\u001b[0m\u001b[0mindel\u001b[0m\u001b[0;34m=\u001b[0m\u001b[0mindel\u001b[0m\u001b[0;34m,\u001b[0m\u001b[0mverbose\u001b[0m\u001b[0;34m=\u001b[0m\u001b[0;32mFalse\u001b[0m\u001b[0;34m,\u001b[0m\u001b[0mj\u001b[0m\u001b[0;34m=\u001b[0m\u001b[0mi\u001b[0m\u001b[0;34m-\u001b[0m\u001b[0;36m1\u001b[0m\u001b[0;34m)\u001b[0m\u001b[0;34m\u001b[0m\u001b[0;34m\u001b[0m\u001b[0m\n\u001b[0m\u001b[1;32m     35\u001b[0m     \u001b[0;32mreturn\u001b[0m \u001b[0mscore\u001b[0m\u001b[0;34m\u001b[0m\u001b[0;34m\u001b[0m\u001b[0m\n",
      "\u001b[0;32m<ipython-input-346-b6dcaa107fe0>\u001b[0m in \u001b[0;36mlinspace\u001b[0;34m(residue, y, updatedScore, nullScore, scoringMatrix, indel, j, verbose)\u001b[0m\n\u001b[1;32m     20\u001b[0m                                   updatedScore[i],prevScore[i-1])\n\u001b[1;32m     21\u001b[0m             updatedScore[i] = max(updatedScore[i-1] + indel, #Up\n\u001b[0;32m---> 22\u001b[0;31m                                   \u001b[0mupdatedScore\u001b[0m\u001b[0;34m[\u001b[0m\u001b[0mi\u001b[0m\u001b[0;34m]\u001b[0m \u001b[0;34m+\u001b[0m \u001b[0mindel\u001b[0m\u001b[0;34m,\u001b[0m \u001b[0;31m#Left\u001b[0m\u001b[0;34m\u001b[0m\u001b[0;34m\u001b[0m\u001b[0m\n\u001b[0m\u001b[1;32m     23\u001b[0m                                   prevScore[i-1] + scorematch(residue,y[i-1],scoringMatrix)) #Mismatch\n\u001b[1;32m     24\u001b[0m         \u001b[0;32mif\u001b[0m \u001b[0mverbose\u001b[0m\u001b[0;34m:\u001b[0m \u001b[0mprint\u001b[0m\u001b[0;34m(\u001b[0m\u001b[0mupdatedScore\u001b[0m\u001b[0;34m,\u001b[0m\u001b[0;34m\"\\n----\"\u001b[0m\u001b[0;34m)\u001b[0m\u001b[0;34m\u001b[0m\u001b[0;34m\u001b[0m\u001b[0m\n",
      "\u001b[0;31mIndexError\u001b[0m: list index out of range"
     ]
    }
   ],
   "source": [
    "align_linear(x,y,residueScores,indel=-2,verbose=False)"
   ]
  },
  {
   "cell_type": "code",
   "execution_count": 319,
   "metadata": {
    "ExecuteTime": {
     "end_time": "2020-10-07T22:17:54.548536Z",
     "start_time": "2020-10-07T22:17:54.460495Z"
    },
    "cell_style": "split"
   },
   "outputs": [
    {
     "name": "stdout",
     "output_type": "stream",
     "text": [
      "AGTACGCA AGTA\n"
     ]
    },
    {
     "data": {
      "text/html": [
       "<div>\n",
       "<style scoped>\n",
       "    .dataframe tbody tr th:only-of-type {\n",
       "        vertical-align: middle;\n",
       "    }\n",
       "\n",
       "    .dataframe tbody tr th {\n",
       "        vertical-align: top;\n",
       "    }\n",
       "\n",
       "    .dataframe thead th {\n",
       "        text-align: right;\n",
       "    }\n",
       "</style>\n",
       "<table border=\"1\" class=\"dataframe\">\n",
       "  <thead>\n",
       "    <tr style=\"text-align: right;\">\n",
       "      <th></th>\n",
       "      <th>0</th>\n",
       "      <th>1</th>\n",
       "      <th>2</th>\n",
       "      <th>3</th>\n",
       "      <th>4</th>\n",
       "      <th>5</th>\n",
       "    </tr>\n",
       "  </thead>\n",
       "  <tbody>\n",
       "    <tr>\n",
       "      <th>0</th>\n",
       "      <td>0</td>\n",
       "      <td>-2</td>\n",
       "      <td>-4</td>\n",
       "      <td>-6</td>\n",
       "      <td>-8</td>\n",
       "      <td>-10</td>\n",
       "    </tr>\n",
       "    <tr>\n",
       "      <th>1</th>\n",
       "      <td>-2</td>\n",
       "      <td>-1</td>\n",
       "      <td>0</td>\n",
       "      <td>-2</td>\n",
       "      <td>-4</td>\n",
       "      <td>-6</td>\n",
       "    </tr>\n",
       "    <tr>\n",
       "      <th>2</th>\n",
       "      <td>-4</td>\n",
       "      <td>-3</td>\n",
       "      <td>-2</td>\n",
       "      <td>-1</td>\n",
       "      <td>0</td>\n",
       "      <td>-2</td>\n",
       "    </tr>\n",
       "    <tr>\n",
       "      <th>3</th>\n",
       "      <td>-6</td>\n",
       "      <td>-2</td>\n",
       "      <td>-4</td>\n",
       "      <td>0</td>\n",
       "      <td>-2</td>\n",
       "      <td>-1</td>\n",
       "    </tr>\n",
       "    <tr>\n",
       "      <th>4</th>\n",
       "      <td>-8</td>\n",
       "      <td>-4</td>\n",
       "      <td>0</td>\n",
       "      <td>-2</td>\n",
       "      <td>-1</td>\n",
       "      <td>-3</td>\n",
       "    </tr>\n",
       "  </tbody>\n",
       "</table>\n",
       "</div>"
      ],
      "text/plain": [
       "   0  1  2  3  4   5\n",
       "0  0 -2 -4 -6 -8 -10\n",
       "1 -2 -1  0 -2 -4  -6\n",
       "2 -4 -3 -2 -1  0  -2\n",
       "3 -6 -2 -4  0 -2  -1\n",
       "4 -8 -4  0 -2 -1  -3"
      ]
     },
     "execution_count": 319,
     "metadata": {},
     "output_type": "execute_result"
    }
   ],
   "source": [
    "fwdX = x[0:int(len(x)/2):]\n",
    "print(x,fwdX)\n",
    "fwdMat = wrapAligner(y,fwdX,residueScores,indel=-2)\n",
    "fwdMat\n"
   ]
  },
  {
   "cell_type": "code",
   "execution_count": 320,
   "metadata": {
    "ExecuteTime": {
     "end_time": "2020-10-07T22:17:55.985252Z",
     "start_time": "2020-10-07T22:17:55.950305Z"
    },
    "cell_style": "split"
   },
   "outputs": [
    {
     "name": "stdout",
     "output_type": "stream",
     "text": [
      "AGTACGCA ACGC\n"
     ]
    },
    {
     "data": {
      "text/html": [
       "<div>\n",
       "<style scoped>\n",
       "    .dataframe tbody tr th:only-of-type {\n",
       "        vertical-align: middle;\n",
       "    }\n",
       "\n",
       "    .dataframe tbody tr th {\n",
       "        vertical-align: top;\n",
       "    }\n",
       "\n",
       "    .dataframe thead th {\n",
       "        text-align: right;\n",
       "    }\n",
       "</style>\n",
       "<table border=\"1\" class=\"dataframe\">\n",
       "  <thead>\n",
       "    <tr style=\"text-align: right;\">\n",
       "      <th></th>\n",
       "      <th>0</th>\n",
       "      <th>1</th>\n",
       "      <th>2</th>\n",
       "      <th>3</th>\n",
       "      <th>4</th>\n",
       "      <th>5</th>\n",
       "    </tr>\n",
       "  </thead>\n",
       "  <tbody>\n",
       "    <tr>\n",
       "      <th>0</th>\n",
       "      <td>0</td>\n",
       "      <td>-2</td>\n",
       "      <td>-4</td>\n",
       "      <td>-6</td>\n",
       "      <td>-8</td>\n",
       "      <td>-10</td>\n",
       "    </tr>\n",
       "    <tr>\n",
       "      <th>1</th>\n",
       "      <td>-2</td>\n",
       "      <td>-1</td>\n",
       "      <td>-3</td>\n",
       "      <td>-5</td>\n",
       "      <td>-4</td>\n",
       "      <td>-6</td>\n",
       "    </tr>\n",
       "    <tr>\n",
       "      <th>2</th>\n",
       "      <td>-4</td>\n",
       "      <td>0</td>\n",
       "      <td>-2</td>\n",
       "      <td>-4</td>\n",
       "      <td>-6</td>\n",
       "      <td>-5</td>\n",
       "    </tr>\n",
       "    <tr>\n",
       "      <th>3</th>\n",
       "      <td>-6</td>\n",
       "      <td>-2</td>\n",
       "      <td>2</td>\n",
       "      <td>0</td>\n",
       "      <td>-2</td>\n",
       "      <td>-4</td>\n",
       "    </tr>\n",
       "    <tr>\n",
       "      <th>4</th>\n",
       "      <td>-8</td>\n",
       "      <td>-4</td>\n",
       "      <td>0</td>\n",
       "      <td>1</td>\n",
       "      <td>-1</td>\n",
       "      <td>-3</td>\n",
       "    </tr>\n",
       "  </tbody>\n",
       "</table>\n",
       "</div>"
      ],
      "text/plain": [
       "   0  1  2  3  4   5\n",
       "0  0 -2 -4 -6 -8 -10\n",
       "1 -2 -1 -3 -5 -4  -6\n",
       "2 -4  0 -2 -4 -6  -5\n",
       "3 -6 -2  2  0 -2  -4\n",
       "4 -8 -4  0  1 -1  -3"
      ]
     },
     "execution_count": 320,
     "metadata": {},
     "output_type": "execute_result"
    }
   ],
   "source": [
    "revX = x[int(len(x)/2):][::-1]\n",
    "print(x,revX)\n",
    "revMat = wrapAligner(y[::-1],revX,residueScores,indel=-2)\n",
    "revMat"
   ]
  },
  {
   "cell_type": "code",
   "execution_count": 323,
   "metadata": {
    "ExecuteTime": {
     "end_time": "2020-10-07T22:18:40.614725Z",
     "start_time": "2020-10-07T22:18:40.581359Z"
    }
   },
   "outputs": [
    {
     "data": {
      "text/plain": [
       "(0   -3\n",
       " 1   -1\n",
       " 2    1\n",
       " 3    0\n",
       " 4   -4\n",
       " 5   -8\n",
       " Name: 4, dtype: int64,\n",
       " 0   -8\n",
       " 1   -4\n",
       " 2    0\n",
       " 3   -2\n",
       " 4   -1\n",
       " 5   -3\n",
       " Name: 4, dtype: int64,\n",
       " 0   -11\n",
       " 1    -5\n",
       " 2     1\n",
       " 3    -2\n",
       " 4    -5\n",
       " 5   -11\n",
       " Name: 4, dtype: int64,\n",
       " 2)"
      ]
     },
     "execution_count": 323,
     "metadata": {},
     "output_type": "execute_result"
    }
   ],
   "source": [
    "## Where to partition: max of both sums\n",
    "a=revMat.iloc[len(revMat)-1][::-1].reset_index(drop=True)\n",
    "b=fwdMat.iloc[len(fwdMat)-1]\n",
    "partitionY = np.argmax(a+b)\n",
    "(a,b,a+b,partitionY)"
   ]
  },
  {
   "cell_type": "code",
   "execution_count": 332,
   "metadata": {
    "ExecuteTime": {
     "end_time": "2020-10-07T22:22:45.749621Z",
     "start_time": "2020-10-07T22:22:45.735463Z"
    },
    "cell_style": "split"
   },
   "outputs": [
    {
     "data": {
      "text/plain": [
       "('TA', 'CGT')"
      ]
     },
     "execution_count": 332,
     "metadata": {},
     "output_type": "execute_result"
    }
   ],
   "source": [
    "splitstring(y,partitionY)\n"
   ]
  },
  {
   "cell_type": "code",
   "execution_count": 333,
   "metadata": {
    "ExecuteTime": {
     "end_time": "2020-10-07T22:22:59.650991Z",
     "start_time": "2020-10-07T22:22:59.641181Z"
    },
    "cell_style": "split"
   },
   "outputs": [
    {
     "data": {
      "text/plain": [
       "('AG', 'AT')"
      ]
     },
     "execution_count": 333,
     "metadata": {},
     "output_type": "execute_result"
    }
   ],
   "source": [
    "halfstring(fwdX)"
   ]
  },
  {
   "cell_type": "code",
   "execution_count": 242,
   "metadata": {
    "ExecuteTime": {
     "end_time": "2020-10-07T17:52:09.244226Z",
     "start_time": "2020-10-07T17:52:09.227721Z"
    },
    "cell_style": "split"
   },
   "outputs": [
    {
     "data": {
      "text/plain": [
       "5   -3\n",
       "4   -1\n",
       "3    1\n",
       "2    0\n",
       "1   -4\n",
       "0   -8\n",
       "Name: 4, dtype: int64"
      ]
     },
     "execution_count": 242,
     "metadata": {},
     "output_type": "execute_result"
    }
   ],
   "source": []
  },
  {
   "cell_type": "code",
   "execution_count": null,
   "metadata": {},
   "outputs": [],
   "source": []
  },
  {
   "cell_type": "code",
   "execution_count": null,
   "metadata": {},
   "outputs": [],
   "source": []
  },
  {
   "cell_type": "code",
   "execution_count": null,
   "metadata": {},
   "outputs": [],
   "source": []
  },
  {
   "cell_type": "code",
   "execution_count": null,
   "metadata": {},
   "outputs": [],
   "source": []
  },
  {
   "cell_type": "code",
   "execution_count": null,
   "metadata": {},
   "outputs": [],
   "source": []
  },
  {
   "cell_type": "code",
   "execution_count": null,
   "metadata": {},
   "outputs": [],
   "source": []
  },
  {
   "cell_type": "markdown",
   "metadata": {
    "ExecuteTime": {
     "end_time": "2020-10-05T19:49:24.878375Z",
     "start_time": "2020-10-05T19:49:24.827679Z"
    }
   },
   "source": [
    "---\n",
    "\n",
    "From github"
   ]
  },
  {
   "cell_type": "code",
   "execution_count": 136,
   "metadata": {
    "ExecuteTime": {
     "end_time": "2020-10-05T19:06:22.955672Z",
     "start_time": "2020-10-05T19:06:22.909620Z"
    },
    "cell_style": "center",
    "code_folding": [
     8,
     10,
     14,
     15,
     31,
     43,
     45
    ]
   },
   "outputs": [],
   "source": [
    "## From https://github.com/ZhangQiuxue/Rosalind/blob/master/Textbook_05E.py\n",
    "def global_alignment(v, w, scoring_matrix, sigma):\n",
    "    '''Returns the global alignment of v and w subject to the given scoring matrix and indel penalty sigma.'''\n",
    "    # Initialize the matrices.\n",
    "    S = [[0]*(len(w)+1) for _ in range(len(v)+1)]\n",
    "    backtrack = [[0]*(len(w)+1) for _ in range(len(v)+1)]\n",
    "\n",
    "    # Initialize the edges with the given penalties.\n",
    "    for i in range(1, len(v)+1):\n",
    "        S[i][0] = -i*sigma\n",
    "    for j in range(1, len(w)+1):\n",
    "        S[0][j] = -j*sigma\n",
    "\n",
    "    # Fill in the Score and Backtrack matrices.\n",
    "    for i in range(1, len(v)+1):\n",
    "        for j in range(1, len(w)+1):\n",
    "            scores = [S[i-1][j] - sigma, S[i][j-1] - sigma, S[i-1][j-1] + blosum.loc[v[i-1]][w[j-1]]]\n",
    "            S[i][j] = max(scores)\n",
    "            backtrack[i][j] = scores.index(S[i][j])\n",
    "\n",
    "    # Quick lambda function to insert indels.\n",
    "    insert_indel = lambda word, i: word[:i] + '-' + word[i:]\n",
    "\n",
    "    # Initialize the aligned strings as the input strings.\n",
    "    v_aligned, w_aligned = v, w\n",
    "\n",
    "    # Get the position of the highest scoring cell in the matrix and the high score.\n",
    "    i, j = len(v), len(w)\n",
    "    max_score = str(S[i][j])\n",
    "\n",
    "    # Backtrack to the edge of the matrix starting at the highest scoring cell.\n",
    "    while i*j != 0:\n",
    "        if backtrack[i][j] == 0:\n",
    "            i -= 1\n",
    "            w_aligned = insert_indel(w_aligned, j)\n",
    "        elif backtrack[i][j] == 1:\n",
    "            j -= 1\n",
    "            v_aligned = insert_indel(v_aligned, i)\n",
    "        else:\n",
    "            i -= 1\n",
    "            j -= 1\n",
    "\n",
    "    # Prepend the necessary preceeding indels to get to (0,0).\n",
    "    for _ in range(i):\n",
    "        w_aligned = insert_indel(w_aligned, 0)\n",
    "    for _ in range(j):\n",
    "        v_aligned = insert_indel(v_aligned, 0)\n",
    "\n",
    "    return max_score, v_aligned, w_aligned,scores,S,backtrack"
   ]
  },
  {
   "cell_type": "code",
   "execution_count": 126,
   "metadata": {
    "ExecuteTime": {
     "end_time": "2020-10-05T17:50:24.330567Z",
     "start_time": "2020-10-05T17:50:24.247475Z"
    },
    "cell_style": "split"
   },
   "outputs": [
    {
     "name": "stdout",
     "output_type": "stream",
     "text": [
      "CPU times: user 19 µs, sys: 5 µs, total: 24 µs\n",
      "Wall time: 1.65 ms\n"
     ]
    },
    {
     "data": {
      "text/plain": [
       "('8', 'PLEASANTLY', '-MEA--N-LY')"
      ]
     },
     "execution_count": 126,
     "metadata": {},
     "output_type": "execute_result"
    }
   ],
   "source": [
    "%time\n",
    "v='PLEASANTLY'\n",
    "w='MEANLY'\n",
    "global_alignment(v, w, blosum, 5)"
   ]
  },
  {
   "cell_type": "code",
   "execution_count": 128,
   "metadata": {
    "ExecuteTime": {
     "end_time": "2020-10-05T18:40:02.324194Z",
     "start_time": "2020-10-05T18:35:32.643064Z"
    },
    "cell_style": "split"
   },
   "outputs": [
    {
     "name": "stdout",
     "output_type": "stream",
     "text": [
      "CPU times: user 5 µs, sys: 1 µs, total: 6 µs\n",
      "Wall time: 41 µs\n"
     ]
    },
    {
     "data": {
      "text/plain": [
       "('1555',\n",
       " 'ILYPRQSMICMSFCF-WDM--WKKDVPVVLMMFLERRQMQSVF-S-WL--VTVKTDCGKGIYNHR-K--Y-LGLPTMTAGDWHWIKK---Q-NDPHEWFQGRLETAWLHSTFLYWKYFE-CDAVKVCMDTFGLFGHCDWDQQIHTCTHENEPAIAFLDLYCRHSPMCDKLYPVWDMACQTCHFHHSWFCRNQEMWMKGDVDDWQWGYHYHTINSAQCNQWFKEICKDMGWDSVFPPRHNCQRHKKCMPALYAGIW---MA----TDHACTFMVRLIYTENIAEWHQVYCYRSMNMFTCGNVCLRCKSWIFVKN-YMMAPVVNDPMIEA--FYKRCCILGKAWYDMWGICPVERKSHWEIYAKDLLSFESCCSQKKQNCYTDNWGLEYRLFFQSIQMN-TDPH----Y--CQTHVCW-ISAMF-PIYSPFYT--SG-PKEFYMW---LQARI-DQNM---HGHANHYV-TSGNWDSVYTPEKRA--G--V-FP-V-V-------VPVWYPPQMCN--D-YIKLTYEC--E---RFHVEGTFGCNRWD-L-GCRR--YII--FQCPYCDTMKI---CY--VDQWRSIKEGQFRMSGYPNHGYWFVHDDHTNEW-----CNQPVLAKFVRSKIVA---ICKKSQTVFHYAYTPGYNATWPQTNVCERMYGPHDNLLNNQQNVTFWWKMVPNCGMQILISCHNKMKWPT--S-HYVF---MRLKCMHVLMQMEYLDHFTGPGEGDFCRNMQPYMHQDLHWEGSMRAILEYQAEHH-RRAFRA----ELCAQYDQEIILWSGGWGVQDCGFHANYDGSLQVVSGEPCSMWCTTVMQYYADCWEKCMFA',\n",
       " 'ILIPRQQMGCFPFPWHFDFCFWSAHHSLVVP--LNP-QMQTVFQNRGLDRVTVKTDC----HDHRWKWIYNLGLPTMTAGDWHFIKKHVVRANNPHQWFQGRLTTAWLHSTFLY-KKTEYC-LVR---HS-NCC-HCDWDQIIHTCAF-----IAFLDLYQRHWPMCDKLY------C---HFHHSWFCRNQEMSM--D---W---------N--Q---WFP-------WDSV-P-RANCLE-EGALIALYAGIWANSMKRDMKTDHACT--VRLIYVCELHAWLK-YCYTSINML-CGNVCLRCKSWIFVKLFYMYAPVVNTIEANSPHYYKRCCILGQ------GICPVERKSHCEIYAKDLLSFESCCSQK-QNCYTDNWGLEYRLFFQHIQMECTDPHANRGWTSCQTAKYWHFNLDDRPP-KEFYMWLQATPTDLCMYQHCLMFKIVKQNFRKQHGHANPAASTSGNWDSVYTPEKMAYKDWYVSHPPVDMRRNGSKMVPVWYPPGIWHWKQSY-KLTYECFFTVPGRFHVEGTFGCNRWDHQPGTRRDRQANHQFQCPYSDTMAIWEHAYTYVDQWRSIKEGQMPMSGYPNHGQWNVHDDHTNEQERSPICNQPVLAKFVRSKNVSNHEICKKSQTVFHWA-C---EA---QTNVCERMLN-NQHVAV-KRNVTFWWQMVPNC----LWSCHNKMTWPTRPEQHRLFFVKMRLKCMH-----EYLD--VAPS--DFCRNMQAYMH-------SMRAILEYQADFDLKRRLRAIAPMDLCAQYDQEIILWSGGY-I--------YDQSLQVVSCEGCSYYADCYVKCI-NVKEKCMFA')"
      ]
     },
     "execution_count": 128,
     "metadata": {},
     "output_type": "execute_result"
    }
   ],
   "source": [
    "%time\n",
    "v='ILYPRQSMICMSFCFWDMWKKDVPVVLMMFLERRQMQSVFSWLVTVKTDCGKGIYNHRKYLGLPTMTAGDWHWIKKQNDPHEWFQGRLETAWLHSTFLYWKYFECDAVKVCMDTFGLFGHCDWDQQIHTCTHENEPAIAFLDLYCRHSPMCDKLYPVWDMACQTCHFHHSWFCRNQEMWMKGDVDDWQWGYHYHTINSAQCNQWFKEICKDMGWDSVFPPRHNCQRHKKCMPALYAGIWMATDHACTFMVRLIYTENIAEWHQVYCYRSMNMFTCGNVCLRCKSWIFVKNYMMAPVVNDPMIEAFYKRCCILGKAWYDMWGICPVERKSHWEIYAKDLLSFESCCSQKKQNCYTDNWGLEYRLFFQSIQMNTDPHYCQTHVCWISAMFPIYSPFYTSGPKEFYMWLQARIDQNMHGHANHYVTSGNWDSVYTPEKRAGVFPVVVPVWYPPQMCNDYIKLTYECERFHVEGTFGCNRWDLGCRRYIIFQCPYCDTMKICYVDQWRSIKEGQFRMSGYPNHGYWFVHDDHTNEWCNQPVLAKFVRSKIVAICKKSQTVFHYAYTPGYNATWPQTNVCERMYGPHDNLLNNQQNVTFWWKMVPNCGMQILISCHNKMKWPTSHYVFMRLKCMHVLMQMEYLDHFTGPGEGDFCRNMQPYMHQDLHWEGSMRAILEYQAEHHRRAFRAELCAQYDQEIILWSGGWGVQDCGFHANYDGSLQVVSGEPCSMWCTTVMQYYADCWEKCMFA'\n",
    "w='ILIPRQQMGCFPFPWHFDFCFWSAHHSLVVPLNPQMQTVFQNRGLDRVTVKTDCHDHRWKWIYNLGLPTMTAGDWHFIKKHVVRANNPHQWFQGRLTTAWLHSTFLYKKTEYCLVRHSNCCHCDWDQIIHTCAFIAFLDLYQRHWPMCDKLYCHFHHSWFCRNQEMSMDWNQWFPWDSVPRANCLEEGALIALYAGIWANSMKRDMKTDHACTVRLIYVCELHAWLKYCYTSINMLCGNVCLRCKSWIFVKLFYMYAPVVNTIEANSPHYYKRCCILGQGICPVERKSHCEIYAKDLLSFESCCSQKQNCYTDNWGLEYRLFFQHIQMECTDPHANRGWTSCQTAKYWHFNLDDRPPKEFYMWLQATPTDLCMYQHCLMFKIVKQNFRKQHGHANPAASTSGNWDSVYTPEKMAYKDWYVSHPPVDMRRNGSKMVPVWYPPGIWHWKQSYKLTYECFFTVPGRFHVEGTFGCNRWDHQPGTRRDRQANHQFQCPYSDTMAIWEHAYTYVDQWRSIKEGQMPMSGYPNHGQWNVHDDHTNEQERSPICNQPVLAKFVRSKNVSNHEICKKSQTVFHWACEAQTNVCERMLNNQHVAVKRNVTFWWQMVPNCLWSCHNKMTWPTRPEQHRLFFVKMRLKCMHEYLDVAPSDFCRNMQAYMHSMRAILEYQADFDLKRRLRAIAPMDLCAQYDQEIILWSGGYIYDQSLQVVSCEGCSYYADCYVKCINVKEKCMFA'\n",
    "global_alignment(v, w, blosum, 5)"
   ]
  },
  {
   "cell_type": "code",
   "execution_count": null,
   "metadata": {},
   "outputs": [],
   "source": []
  }
 ],
 "metadata": {
  "kernelspec": {
   "display_name": "Python 3",
   "language": "python",
   "name": "python3"
  },
  "language_info": {
   "codemirror_mode": {
    "name": "ipython",
    "version": 3
   },
   "file_extension": ".py",
   "mimetype": "text/x-python",
   "name": "python",
   "nbconvert_exporter": "python",
   "pygments_lexer": "ipython3",
   "version": "3.7.6"
  },
  "varInspector": {
   "cols": {
    "lenName": 16,
    "lenType": 16,
    "lenVar": 40
   },
   "kernels_config": {
    "python": {
     "delete_cmd_postfix": "",
     "delete_cmd_prefix": "del ",
     "library": "var_list.py",
     "varRefreshCmd": "print(var_dic_list())"
    },
    "r": {
     "delete_cmd_postfix": ") ",
     "delete_cmd_prefix": "rm(",
     "library": "var_list.r",
     "varRefreshCmd": "cat(var_dic_list()) "
    }
   },
   "types_to_exclude": [
    "module",
    "function",
    "builtin_function_or_method",
    "instance",
    "_Feature"
   ],
   "window_display": false
  }
 },
 "nbformat": 4,
 "nbformat_minor": 4
}
