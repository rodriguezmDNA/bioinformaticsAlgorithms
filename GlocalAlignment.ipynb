{
 "cells": [
  {
   "cell_type": "markdown",
   "metadata": {},
   "source": [
    "https://rob-p.github.io/CSE549F17/lectures/Lec08.pdf\n",
    "https://academic.oup.com/bioinformatics/article/19/suppl_1/i54/227687"
   ]
  },
  {
   "cell_type": "code",
   "execution_count": 1,
   "metadata": {
    "ExecuteTime": {
     "end_time": "2020-10-21T22:43:32.762675Z",
     "start_time": "2020-10-21T22:43:30.721616Z"
    }
   },
   "outputs": [],
   "source": [
    "import pandas as pd\n",
    "import numpy as np\n",
    "def createScorMat(match = 1,mismatch = 0,nts = ['A','C','T','G']):\n",
    "    \"\"\"\n",
    "    Create scoring matrix for nucleotides with a given match and mismatch values\n",
    "    \"\"\"\n",
    "    scoringMatrix = np.zeros((len(nts),len(nts)),)\n",
    "    np.fill_diagonal(scoringMatrix,match)\n",
    "    scoringMatrix\n",
    "    scoringMatrix[scoringMatrix == 0] = mismatch\n",
    "    scoringMatrix = pd.DataFrame(scoringMatrix,index=nts,columns=nts)\n",
    "    return scoringMatrix\n",
    "\n",
    "#### Dynamic programming implementation\n",
    "def scoringMatrix_local(x,y,subMat,indel):\n",
    "    m = len(x) + 1\n",
    "    n = len(y) + 1\n",
    "    globMax = (0,0)\n",
    "    scoringMat=np.zeros((n,m))\n",
    "    for i in range(1,m):\n",
    "        #print(x[i-1])\n",
    "        for j in range(1,n):\n",
    "            if x[i-1] == y[j-1]:\n",
    "                #scoringMat[j-1][i-1] + subMat.loc[x[i-1]][y[j-1]]\n",
    "                scoringMat[j][i] = scoringMat[j-1][i-1] + subMat.loc[x[i-1]][y[j-1]]\n",
    "            else:\n",
    "                mismatch = scoringMat[j-1][i-1] + subMat.loc[x[i-1]][y[j-1]]\n",
    "                left = scoringMat[j-1][i] + indel\n",
    "                up = scoringMat[j][i-1] + indel\n",
    "                scoringMat[j][i] = max(mismatch,left,up,0)\n",
    "            if scoringMat[j][i] >= scoringMat[globMax[1]][globMax[0]]:\n",
    "                globMax = (i,j)\n",
    "    return scoringMat,globMax\n",
    "\n",
    "\n",
    "def scoringMatrix_global(x,y,subMat,indel):\n",
    "    m = len(x) + 1\n",
    "    n = len(y) + 1\n",
    "    scoringMat=np.zeros((n,m))\n",
    "    scoringMat[:][0] = [0] + list(np.cumsum([indel for _ in x]))\n",
    "    scoringMat[:,0] = [0] + list(np.cumsum([indel for _ in y]))\n",
    "    for i in range(1,m):\n",
    "        #print(x[i-1])\n",
    "        for j in range(1,n):\n",
    "            if x[i-1] == y[j-1]:\n",
    "                #scoringMat[j-1][i-1] + subMat.loc[x[i-1]][y[j-1]]\n",
    "                scoringMat[j][i] = scoringMat[j-1][i-1] + subMat.loc[x[i-1]][y[j-1]]\n",
    "            else:\n",
    "                mismatch = scoringMat[j-1][i-1] + subMat.loc[x[i-1]][y[j-1]]\n",
    "                left = scoringMat[j-1][i] + indel\n",
    "                up = scoringMat[j][i-1] + indel\n",
    "                scoringMat[j][i] = max(mismatch,left,up)\n",
    "    return scoringMat\n",
    "\n",
    "\n",
    "def backtrack_local(x,y,sm,maxLocs):\n",
    "    i = maxLocs[0]\n",
    "    j = maxLocs[1]\n",
    "    w=''\n",
    "    z=''\n",
    "    z,w\n",
    "    while i*j > 0:\n",
    "        if x[i-1] == y[j-1]:\n",
    "            w += x[i-1]\n",
    "            z += y[j-1]\n",
    "            i -= 1\n",
    "            j -= 1\n",
    "        else:\n",
    "            left = sm[j-1][i]\n",
    "            up = sm[j][i-1]\n",
    "            diag = sm[j-1][i-1]\n",
    "            whichmax = np.argmax([left,up,diag])\n",
    "            if whichmax == 0:\n",
    "                w += '-'\n",
    "                z += y[j-1]\n",
    "                j -= 1\n",
    "            elif whichmax == 1:\n",
    "                z += '-'\n",
    "                w += x[i-1]\n",
    "                i -= 1\n",
    "            else:\n",
    "                w += x[i-1]\n",
    "                z += y[j-1]\n",
    "                i -= 1\n",
    "                j -= 1\n",
    "        if sm[j][i] == 0:\n",
    "            break\n",
    "    return w[::-1],z[::-1]\n",
    "\n",
    "def backtrack_global(x,y,sm,subMat,indel):\n",
    "    i = len(x)\n",
    "    j = len(y)\n",
    "    w=''\n",
    "    z=''\n",
    "    z,w\n",
    "    while i*j > 0:\n",
    "        if x[i-1] == y[j-1]:\n",
    "            w += x[i-1]\n",
    "            z += y[j-1]\n",
    "            i -= 1\n",
    "            j -= 1\n",
    "        else:\n",
    "            left = sm[j-1][i] + indel\n",
    "            up = sm[j][i-1] + indel\n",
    "            diag = sm[j-1][i-1] + subMat.loc[x[i-1]][y[j-1]]\n",
    "            whichmax = np.argmax([left,up,diag])\n",
    "            if whichmax == 0:\n",
    "                w += '-'\n",
    "                z += y[j-1]\n",
    "                j -= 1\n",
    "            elif whichmax == 1:\n",
    "                z += '-'\n",
    "                w += x[i-1]\n",
    "                i -= 1\n",
    "            else:\n",
    "                w += x[i-1]\n",
    "                z += y[j-1]\n",
    "                i -= 1\n",
    "                j -= 1\n",
    "    if j==0 and i>0:\n",
    "        w = x[:i]+w[::-1]\n",
    "        z = '-' * i + z[::-1]\n",
    "    elif i==0 and j>0:\n",
    "        z = y[:i]+z[::-1]\n",
    "        w = '-' * j + w[::-1]\n",
    "    else:\n",
    "        w = w[::-1]\n",
    "        z = z[::-1]\n",
    "    return w,z\n",
    "\n",
    "def locAl(x,y,subMat,indel):\n",
    "    '''\n",
    "    A wrapper for DP implementation of Smith-Waterman\n",
    "    '''\n",
    "    sm, maxLocs = scoringMatrix_local(x,y,subMat,indel)\n",
    "    z,w = backtrack_local(x,y,sm,maxLocs)\n",
    "    return z,w,sm[maxLocs[1],maxLocs[0]]\n",
    "\n",
    "def globAl(x,y,subMat,indel):\n",
    "    '''\n",
    "    A wrapper for DP implementation of Smith-Waterman\n",
    "    '''\n",
    "    sm = scoringMatrix_global(x,y,subMat,indel)\n",
    "    z,w = backtrack_global(x,y,sm,subMat,indel)\n",
    "    return z,w,sm[len(y),len(x)]\n",
    "\n",
    "def vizScoringMat(x,y,scoringMat):\n",
    "    return pd.DataFrame(scoringMat,index=['']+[_ for _ in y],\n",
    "             columns=['']+[_ for _ in x])"
   ]
  },
  {
   "cell_type": "code",
   "execution_count": 2,
   "metadata": {
    "ExecuteTime": {
     "end_time": "2020-10-21T22:43:34.054800Z",
     "start_time": "2020-10-21T22:43:34.032427Z"
    }
   },
   "outputs": [],
   "source": [
    "def kmerize(s,k):\n",
    "    \"\"\"\n",
    "    Function to generate all kmers of size k\n",
    "    \"\"\"\n",
    "    kmers = []\n",
    "    for _ in range(0,len(s)-k+1):\n",
    "        kmers.append(s[_:_+k])\n",
    "    return kmers\n",
    "\n",
    "def gloCal(x,y,subMat,indel):\n",
    "    '''\n",
    "    brute force\n",
    "    '''\n",
    "    \n",
    "    ### Define target and query\n",
    "    m = len(x)\n",
    "    n = len(y)\n",
    "    whichMax = np.argmax([m,n])\n",
    "    \n",
    "    if whichMax == 0: target,query = x,y\n",
    "    else: target,query = y,x\n",
    "    ### Get all possible kmers\n",
    "    kmers = []\n",
    "    for k in range(len(query),len(target)+1):\n",
    "        kmers.append(kmerize(target,k))\n",
    "    kmers = sum(kmers , []) #Unlist the list of lists\n",
    "    res = {}\n",
    "    for i,kmer in enumerate(kmers):\n",
    "        res[i] = globAl(kmer,y,subMat,indel)\n",
    "    \n",
    "    return res[np.argmax([_[2] for _ in res.values()])]"
   ]
  },
  {
   "cell_type": "code",
   "execution_count": 3,
   "metadata": {
    "ExecuteTime": {
     "end_time": "2020-10-21T22:43:34.650312Z",
     "start_time": "2020-10-21T22:43:34.621163Z"
    }
   },
   "outputs": [],
   "source": [
    "def semiGlobal(x,y,subMat,indel):\n",
    "    \"\"\"\n",
    "    ##https://rob-p.github.io/CSE549F17/lectures/Lec08.pdf\n",
    "    \"\"\"\n",
    "    m = len(x) + 1\n",
    "    n = len(y) + 1\n",
    "    scoringMat=np.zeros((n,m))\n",
    "    scoringMat[:][0] = [0] + list(np.cumsum([0 for _ in x]))\n",
    "    scoringMat[:,0] = [0] + list(np.cumsum([indel for _ in y]))\n",
    "    for i in range(1,m):\n",
    "        #print(x[i-1])\n",
    "        for j in range(1,n):\n",
    "            if x[i-1] == y[j-1]:\n",
    "                #scoringMat[j-1][i-1] + subMat.loc[x[i-1]][y[j-1]]\n",
    "                scoringMat[j][i] = scoringMat[j-1][i-1] + subMat.loc[x[i-1]][y[j-1]]\n",
    "            else:\n",
    "                mismatch = scoringMat[j-1][i-1] + subMat.loc[x[i-1]][y[j-1]]\n",
    "                left = scoringMat[j-1][i] + indel\n",
    "                up = scoringMat[j][i-1] + indel\n",
    "                scoringMat[j][i] = max(mismatch,left,up)\n",
    "\n",
    "    lastRow = scoringMat[:][n-1]\n",
    "    cutHere = np.where(lastRow == np.max(lastRow))[0][-2]\n",
    "    \n",
    "    #return scoringMat, cutHere# [:,:cutHere+1]\n",
    "    return scoringMat[:,:cutHere+1]\n",
    "\n",
    "def semiBacktrack(x,y,scoringMat,submat,indel):\n",
    "    x = x[ : scoringMat.shape[1] - 1]\n",
    "    i = scoringMat.shape[1] - 1\n",
    "    j = scoringMat.shape[0] - 1\n",
    "    w=''\n",
    "    z=''\n",
    "    while i*j > 0:\n",
    "        #print(w[::-1],z[::-1])\n",
    "        if x[i-1] == y[j-1]:\n",
    "            w += x[i-1]\n",
    "            z += y[j-1]\n",
    "            i -= 1\n",
    "            j -= 1\n",
    "        else:\n",
    "            left = scoringMat[j-1][i] + indel\n",
    "            up = scoringMat[j][i-1] + indel\n",
    "            diag = scoringMat[j-1][i-1] + subMat.loc[x[i-1]][y[j-1]]\n",
    "            whichmax = np.argmax([left,up,diag])\n",
    "            if whichmax == 0:\n",
    "                w += '-'\n",
    "                z += y[j-1]\n",
    "                j -= 1\n",
    "            elif whichmax == 1:\n",
    "                z += '-'\n",
    "                w += x[i-1]\n",
    "                i -= 1\n",
    "            else:\n",
    "                w += x[i-1]\n",
    "                z += y[j-1]\n",
    "                i -= 1\n",
    "                j -= 1\n",
    "\n",
    "    return w[::-1],z[::-1]\n",
    "\n",
    "\n",
    "def semiAl(x,y,subMat,indel):\n",
    "    '''\n",
    "    A wrapper for DP implementation of Smith-Waterman\n",
    "    '''\n",
    "    sm = semiGlobal(x,y,subMat,indel)\n",
    "    z,w = semiBacktrack(x,y,sm,subMat,indel)\n",
    "    return z,w, sm[sm.shape[0]-1,sm.shape[1]-1]"
   ]
  },
  {
   "cell_type": "code",
   "execution_count": null,
   "metadata": {},
   "outputs": [],
   "source": [
    "\n",
    "\n"
   ]
  },
  {
   "attachments": {
    "image.png": {
     "image/png": "[encoded data removed]"
    }
   },
   "cell_type": "markdown",
   "metadata": {},
   "source": [
    "http://rosalind.info/glossary/fitting-alignment/\n",
    "\n",
    "![image.png](attachment:image.png)"
   ]
  },
  {
   "cell_type": "code",
   "execution_count": 4,
   "metadata": {
    "ExecuteTime": {
     "end_time": "2020-10-19T22:31:31.170402Z",
     "start_time": "2020-10-19T22:31:31.078698Z"
    }
   },
   "outputs": [],
   "source": [
    "x='GTAGGCTTAAGGTTA'\n",
    "y='TAGATA'\n",
    "indel = -1\n",
    "subMat = createScorMat(1,mismatch = -1)"
   ]
  },
  {
   "cell_type": "code",
   "execution_count": 5,
   "metadata": {
    "ExecuteTime": {
     "end_time": "2020-10-19T22:31:31.793607Z",
     "start_time": "2020-10-19T22:31:31.594933Z"
    }
   },
   "outputs": [
    {
     "data": {
      "text/plain": [
       "('GTAGGCTTAAGGTTA', '-TA-G----A---TA', -3.0)"
      ]
     },
     "execution_count": 5,
     "metadata": {},
     "output_type": "execute_result"
    }
   ],
   "source": [
    "globAl(x,y,subMat,indel)\n",
    "# TAGGCTTA\n",
    "# TAGA--TA"
   ]
  },
  {
   "cell_type": "code",
   "execution_count": 6,
   "metadata": {
    "ExecuteTime": {
     "end_time": "2020-10-19T22:31:32.477056Z",
     "start_time": "2020-10-19T22:31:32.397117Z"
    }
   },
   "outputs": [
    {
     "data": {
      "text/plain": [
       "('TAG', 'TAG', 3.0)"
      ]
     },
     "execution_count": 6,
     "metadata": {},
     "output_type": "execute_result"
    }
   ],
   "source": [
    "locAl(x,y,subMat,indel)\n",
    "# TAG\n",
    "# TAG"
   ]
  },
  {
   "cell_type": "code",
   "execution_count": 7,
   "metadata": {
    "ExecuteTime": {
     "end_time": "2020-10-19T22:40:39.218606Z",
     "start_time": "2020-10-19T22:40:36.174639Z"
    }
   },
   "outputs": [
    {
     "data": {
      "text/plain": [
       "('TAGGCTTA', 'TAGA--TA', 2.0)"
      ]
     },
     "execution_count": 7,
     "metadata": {},
     "output_type": "execute_result"
    }
   ],
   "source": [
    "gloCal(x,y,subMat,indel)\n",
    "#TAGGCTTA\n",
    "#TAGA--TA"
   ]
  },
  {
   "cell_type": "code",
   "execution_count": 42,
   "metadata": {
    "ExecuteTime": {
     "end_time": "2020-10-19T22:40:41.408971Z",
     "start_time": "2020-10-19T22:40:41.349273Z"
    }
   },
   "outputs": [
    {
     "data": {
      "text/plain": [
       "('TAGGCTTA', 'TAGA--TA', 2.0)"
      ]
     },
     "execution_count": 42,
     "metadata": {},
     "output_type": "execute_result"
    }
   ],
   "source": [
    "x='GTAGGCTTAAGGTTA'\n",
    "y='TAGATA'\n",
    "semiAl(x,y,subMat,indel)\n",
    "# 2\n",
    "# TAGGCTTA\n",
    "# TAGA--TA"
   ]
  },
  {
   "cell_type": "code",
   "execution_count": 43,
   "metadata": {},
   "outputs": [
    {
     "data": {
      "text/plain": [
       "('AGGGCGCACATG--GTGGGGTA-AATCAC-T-GCAC-TCTG-TTCGCAGTTAAGCGTTGCAATCAATATCGGC-AGAACTCGGAGTCCGT-A-TAAAGCCGCCTCAGCGTGCACACGC-C',\n",
       " 'AGAGCGCAGA-GAAGTCAT-TAGAA-CATGTAGCACATC-GCTT---A-TTAAG-G--G---TCAATA-C--CTA-AA---GG-G-CC-TAACTATA--CGCCACA-CG-GAACA-GCTC',\n",
       " 22.0)"
      ]
     },
     "execution_count": 43,
     "metadata": {},
     "output_type": "execute_result"
    }
   ],
   "source": [
    "x='CAATCACCCCAATCCCTCAATCCTGGCCCCACGCATAGGCTAATGCCAATCGCGGCCAGGGTATAACCGCCATAACTGTGGGTCAGAAGGGATAAGTTCCACAATCCTATTTTCCTCGAGGCGCTTCGATGCGTTAACGCGTACACTCTGTCGGCCAACCGTGTGGGAGCCGAATTGGCTGGGCTGTTGAACATTCTATCAGTAGATAAACGAAGGTACATCCGAGGTTGTCGATCGACCGCGGGGTCGTAGCGCGTGCATGTTCCTTTCAGGCCCACATACTCCGGAACGGTTCATATCACGACTATTCTTGCACAATCGGACAACGGTGTACCATGGTGGACACCGTAGGAGACCAATACTGCGTAAATCATAAGCATTGGAGAGTGGACTGCTAGCGAGGCTCACCATGGAGTCTCGGTCGGCATCTCCTGACTGCTGTTCCATCGCGTTTTTCTTTTACTCACGCAATAAATCAATACCCCCTAACACAGGCCTGCTCCAGCCTTATTAAGGCCATAGTAGCTCTACATGTAGACCGAACGGAAGCACAGTTTGGTAGAAATTCTTAATCGACTATGGTCCGTGCAGGCCAAAAAAGGAATAATCTTCGAATTCTCACGCCTTCATTAGGGCGCACATGGTGGGGTAAATCACTGCACTCTGTTCGCAGTTAAGCGTTGCAATCAATATCGGCAGAACTCGGAGTCCGTATAAAGCCGCCTCAGCGTGCACACGCCCGTGCGGCACGTCATTAGACGAGGATTCCGGGGGACTGGCCTGTTCGTAATCCACTAAAACAATGGTCCTACCATCTAAAACGCACCGTGTTCCCCTCTACGGGAACCCCCTAGAT'\n",
    "y='AGAGCGCAGAGAAGTCATTAGAACATGTAGCACATCGCTTATTAAGGGTCAATACCTAAAGGGCCTAACTATACGCCACACGGAACAGCTC'\n",
    "semiAl(x,y,subMat,indel)\n",
    "#22\n",
    "#AGGGCGCACATG--GTGGGGTA-AATCAC-T-GCAC-TCTG-TTCGCAGTTAAGCGTTGCAATCAATATCGGC-AGAACTCGGAGTCCGTA--TAAAGCCGCCTCAGCGTGCACACGC-C\n",
    "#AGAGCGCAGA-GAAGTCAT-TAGAA-CATGTAGCACATC-GCTT---A-TTAAG-G--G---TCAATA-C--CTA-AA---GG-G-CC-TAACTATA-C-GCCACA-CG-GAACA-GCTC"
   ]
  },
  {
   "cell_type": "code",
   "execution_count": 44,
   "metadata": {},
   "outputs": [
    {
     "ename": "KeyboardInterrupt",
     "evalue": "",
     "output_type": "error",
     "traceback": [
      "\u001b[0;31m---------------------------------------------------------------------------\u001b[0m",
      "\u001b[0;31mKeyboardInterrupt\u001b[0m                         Traceback (most recent call last)",
      "\u001b[0;32m<ipython-input-44-5efa67b10c4d>\u001b[0m in \u001b[0;36m<module>\u001b[0;34m\u001b[0m\n\u001b[1;32m      1\u001b[0m \u001b[0mx\u001b[0m\u001b[0;34m=\u001b[0m\u001b[0;34m'TGTAATAGATATCCCAGTATATAATGTAACTAGAAGGATATTGGATGCGTGGAGGCGAAAGGGATGTAGTGCTCGATCCTTTAACGGAGTCCTCTTAGGTTAAGAATTCCGCCACCGGCGGTGAATACTCCGTAAGGTTGTGGCGTGCTCCGCTAACAAAAACTTAAGCCACGTCTTTACTTGGCCGTCTTTTTGATCGGACAGAAAAGTGATCATCTTGATGAGTAGAATACGCGGGAGTTAATCTGCCGGCAGCATACGCGCGGAGTCAATCCATCCCACGTGCACTTCTATAAGTCTTAAAGGGGAACTGCTGATAGCGATGCAGTGTCAAACAGGTTATCGGGGCTCTGACATCCCACACTTGTCAAACGGTTAGCAAAGCGCTACGACATCGTTTTCGTCCACGGTACTTTCATAGGATAACATGTTTCATTAAAAAAGTCCGTCGCCCTTTGTGACTGATTATTTTGGTTACCAGCTGCAGGGAGCATCGACCGTGAAGCGTGAAACGCCGAAAAAAGCTTCTGCAACAGTTTGGATCGCCCTGTTGCCTCCCGGCAAGTGAGAGCGGACGCTCTTCGGTCCGCGCCTCTTAAAAGGAACGGCCTCTTCTCTACTTTATGGGCACTTAGAGTCTCCAAACTTTAGTCAAGTTCCCCCTACCGATTAAGATCGGGGCACAGACCAGCGGAGACGATGTCCAGTAGCCATGCTCTTATTCCGTAGAAGGGGCGGATTGCAGGCAGAGAGATATACCAAGTTCCTAGATTTTCCTCTACTCGGGCGAGCCTTGTCCATTAACGTGTAAGTTCTAGCGTTACTCGCTTACCGTATGTACTCCCCGAACCGTTGGGAGTGCGTAGGGCGACTTGTTAGCACCCTGTCCAGAATCTGCTTGCTATGATCCCCAGTGAATCTTGTGCCCCCAGTAGTTTGGCCTGATCGATAGCAGGCTGTGTCGCGTCAGTCAATCGAATTCAGTCCGGAACAAGCCTCCTCAAAGATTTTTCTTCCGTTCTACGCACCTTAGCCCGTGGTCGTAGTTGACGCCTTTAAGTCAAGTCATTAAAGCCCGCGCCGCATATAGATGTAGTCCATCGACTAGACGCGGAGCGATTAGGAGCCTCATTACTTTGATTCTAGAGGCTTTCTGCAAAAGGGTATTGCCTGATGTATAACGATCAACTGCGCAACTGAAAGACCGGACTGGACGAAGACGCAACACAGGACCACCGTGGTGTAGTCAACAATTAAGTTCGCCAACCAACTTTATGTGGCGACGGATAAGTAGATTGAAAGGTAACCAGGGTGCGAGGTATCATAAGTATACCGGGAGCCCCCTGTCTGGCTTGTCCAAATGTGATGCCAGGCGAAAACAACCTTTCTGCGCTTCCCAACCATCAGTGAGACACTAATTCCTAAAACACCACCGCAAGGGGTGGTGCGATCACGGTCACTGGTATCAGGGCTGCACTGTTTAGCGGGGGGGGCTTCGCATCGGCGCCTCTCGGTAAATTCCCAATAATCGGTTGTGTCCGTTGACACACTGTCGCTCTTGTACGAAAGGTATGAGACCGTCGAGCACGCGGATATGTCGACCTCCAACCGAATGGAAGTAGAAGTGCGTTCTTTTTCATATGATGGATGTTATTAGTAAGAATTGCTGCGACCCTAACTGATAATCTCTACTTTTATTTCATCACTATGCCTAACCCTCGAAATCTTTCTTAGGCACGTTAGCCGACCCCATCTGGCGGCCAAATAGAAGTATTTTACCCCAATCAACCTTCCCCTTGGCTTTTATGACCTTCAAAAAAAACCCATGGATTCGGAAGGGAAACAATGAGGTTCCGTCTTAATTTTTGATGTTAGGGGCGCAGTGCTAAGGATGACTCAGGAAACTGAGGTTTTATTTTGCCCTAACCAATTCGAGATACTTAGCGATACACCGAGGTCGAGCTCTCAGCCTCGTTCTGCCAACATTCTCTTATGCTCTGGTGTCTGGACTAGGTTATTGTCCAAGACACCATGCCCTAAGCCTCGCGCAGCGGGTTCTTAACTTCAAGATTGAACACGCTAAGACCAGGACTCAGGGGCCACTATAGCCGGAACTCACAGCGGGATCGTCATTCCATATGTCCGTCTATAACGCGAACTAGGTTTGAGGCCTCGGCTCTAGTCGTATGCACGTCGACGCTAAGTTAACTATTATATGGCTCTCTGAGATCAAGGCTCAAGCTGGACGAGGTGAGATAATTGCTGATGCAAACCCCAAGTTGAACACGCCTCCAAAGTGGGTTGAGGTCATCCAGCATAGCAGATGGAACTCCCGCAGAGCCTCCTTCGCACCTGCGACCGACTAACTCAGCGAGTGCCTCTCTAGTAGCCTTTCTTCCAATACTAGTTATTTTCTGAGATTTTATGTGCACCTTCGAAGGGCTAACTGTAAATCGTCCCCGCAAGCTTAGCTTCGCTAGGACATCTCGTTTAGTCGTGCACAGGCTTTGAGCGCTGGATATTCACTAGGATTCCGGCAGGGGGATTCACGTTCTACCTCTCAGGTGAATCAGGTTTCCTCAACACTAACCCACGCTTCTGGTGGCAGTGGATTCAGGGTGCGATGTGGTTATGATCTTTAACGGCAATTTTTAACAGTGGCTTATCCAAGAATCCGCTATTGTAAATTACGCGGTCACTCTACTCGTAAGGAGTGAAGATCGAACCCACACAAACTCTATTAGGTACCCGAAGGTCACGTCGCATGGCAGATGGCAAGGAGCCATGCTCCCGGGTCAAATGGGACCTGTTTTGTACTAGCTAAGTGACTGTACAAGTCGGGGCTCTTAGACCACGAAAATCTGCCCCGAGACCATCTTGACGTCGGTTACGTTTTGGCTGGACCACTGCACGCAACCCAGACTAAGCCAGGTTGAAACGTTAACTCGCTATATCGGCATACCATACAGGGCGAGATCGCCTTTTGATATAGCGTCCCGGGATTATGGATCGCAATATGCTTCTGTGGCGAGCTAGCTTACAAGTTAAAACCGTTCGGTGACCCGTCGGCTAAAATTGGCTTTTCAATAAGACTACCGTCGTCTGGCCCCGATAAGGTGATCTGTCTGCGTAGCGGTCCGGGTATTCGAACTTGTTGAAAAGCTTTTCCTTAAAGTCGCAATACTGGACGATCTATCAACTAGAATCACGCGACGAACGAAACAGAAGAATTACTATCAAAAGACGAGCAATATCCTTCCTGCTTATCGCGGCCACACACGGAGCATACAAGAATAACCGAACTCTCTATTTGGAATCAGAAGTCCTATCCGACGAACAATTATCCGCAAACAGGATATAGCCCCTATGTGTAAACGACGGTGCCGTAACTATCAAGGCCGCCAGCCGATGACTCACGCATAAACATAAGGAGGCCTATAACGCAACCGTAAGTGTCCCAGCTTAGATAATTGGACCTATTTTCAATATTGCAGAAAAGGAATAGACTGCAAATGCTTAGAGAACCATCCTGCCAATTGTGTCCCTCTGAGTCTTGGCGTTGTGTATACCTAGATTTGGAGTATCTCTCGATGATAGCTACATGTGTGGTCAATTTAGGACCCCTAATATTCAGTCAAAATGGATCGGGCCCACGGCCGTGTGCGGATCAGAGTAAACACAGTAAGAACCTGCTCACCCAATCGGATTCTTGGCCCCAAAATTCGTTGTTATGCTTACAACTCCTTACCGACTGTTATGACTCGCCTTGGGACTGCGCCGATTTGACCGGCCAAATCTTTACAATTTGGTCACCGCGGAGAGCAGAGTAGATAATCCCTCGCGAACGTCAAAAACCCCCTAGGAAACGCATCGTCTAGTAAGACTCATTCTACCCGATCCGACACTCCCGTGGCTCTTCAATGATTAAACCATATACCGCGTATAGCACTTGTCCCGTAGTCTCTAAGGTGACACACTCCTTCGTGCCTACTACATTTCACGGGACTGCGGCTTGTCTTCGCAGTAGGTCTGAACCCCATTCCGGAGGAGATATCGTCAATGTCTGCTTGCTCCGTGAAGGCGATGGTAAGATTCGCCCCTGGTTGTGTCCTACAACGCTAGACTGGAATGGCATTAAACGTGAGTGCGATTAATGAGAGCTTCCTCTGCGACTTTCACGGATGTTTCCTACATCTCTTTTACTCGTAGCAATCTTCCGTTCTCGTGACGTCTTCCTACCGAGGCCGCTAATAGGCGTATTTAACGTATACCCCCTGCAAGCAACCACGTATAAGTACTTCCCGGGGCCATGCAAATAGCTAGAAGGTCTGAATGTGAAACTTTTCAAACTGCCGCTTCGGGCCTTTATGCAAATGGCATATGACGCTCAACTAAAAGCCCCTTGCCGGTTCGGCTACCTTGGCAGCGTCAGACGAATAGTAACAGAAGGATTGGGGTTTCTAATCCTCCACTAACGACTCGAGAGAGATGGCCGTGCAGCAATCGCAGGCGAGCAGCTAACCATACATACGTAAGCTCCGGGTGCGCAGGGCGATTTCTGTAACAAGCCAAGGCTTTGTTAGCGCCCTGCGTCTTCGTCGAAGCGACCTATGGCTATAGTTCCCTAAAACATACCGTTGAGTATTCACGCTGCTTGTTCGCTAACCGACGTCTGTTGCTCAGACTATGCATGATACTTAGTGCCCATTGCTTTGGCACAATTTCAGTGACGTTAAACTGCTTTACTCCTCCAGGCAAGTCTCTAAAAACCGGTAGAGGGATGTTGCTAACCTACACAAATTACGGCTGAGTGCTGCTCCATATCTCTCTGAGCCGTTTCACTGGTCAGTCACTTCACGTGCGGACCCGTCCGCGAGGGATTGGCCCCGAGGAATACACCAGAACGGACGTAGTTGGCCCACATCTGGCCGGTTCAGAACCTAATGCCCGAGTCGGACTACAAGGATCCTTAAGGGGCGTGTGTCGCAAGCGCGCCGGGACCACTAACCTGTAGATTCAATCCGTCTTATGCAATACAGGTAAACGTTGCAGGCCCAGCGGTGGTCGGGATGTATTAATTCCGCAGTGTTGTGGAATACAGGAATCCGAGGCAAAACGGCACATCCCTTTGCATATTTTGCGCATCCGCGGGGACGTCGTTGAGGTATGGAGCAGAAAAAAAGAAGGCAGGCTGTTCCAATGGAGTTAGACCAACTACCCTCGGTCCACGTAAACTCGTGAGCAAAATCTCGGAACCCCCAAGCCCGGAAGTTCCGGGACTCAGCATACTACCGCGGAGATGCATGAGGCGGGATACACATTTCGGCGGACTACAGGCAGGCCCAACCCTGTATACTAGTAACTCTCCAACGAGGCCATAGACGTGCACACCGCTTGTCTCCCCGGTTGTATCCAACGTTGTTCCGCACAAACGCCTTATCTTTGATTTTTACTAATCCGAAGTACTGAGTGCGATGTGTATAACCTCGGAGAAAACTGGTCTTTACGGACATTTCGATAGCGGGAGTTTGGGTGATGCGCTCCACCTTTGAGCGCTGTCTGGCAGGTCGTAAGAGGTCACTGTTGGGGGGTGCCGCATCTAGAAGCCAGTGGCGGTCTGTGCGATTTTAATCGTCGAGTCCGCATGTGCTAGTCAACTATCCCTATTAGGTTTCCGTAGCTATGACAACTCTTGAGCGGGAAAGGGGTGCCCGCGGGTGAATCTTTTCGACCTCTGAGTGATCCGTGCGGAAGATTGAATATCTTCTCTACTAATATTCTATACTCCGGGGAGAACTACTTATTATTGCGGATAATCCTCCCATCTTTATAATCGGTCCTGAACCATAAGAAAATTTGTCATACCAGCAATTCCGCCACATGATACGAGCGCCCAACGGTGTGCTCTAAGGTGACGCCGGTATGGTAGAAGTACGTGTACAACGCTTCGAATACGCTATATCTAGTAGGTCCGAGGTACGAAACCTATTCCGTTCTCGGGATTGGACCGCATGGGTTCATCTAGGGGGCCCAGTAGGCGCCCACCCAAACTCCCGCATCACGTTTCACGTATGGGACGTCAGAACTAAAATTGCTCATAAATTAGTATGGCGCACACGTCAACTCACTGAGTCTTGTACACCATCCGGACTCATCCTGAGTGTGGGCTCTGAGGTACGAACAGCGTCACTGTTTTACGAGGTCGTGCAGCTGATGACCAAATCAAGAATCCACGAAGCTCGGTAGTACGGTACCTACTGCTCCGCCAACAGATCACCGTCGGGATCCTTTACTCTTCATAACGAAGACGCAACTTCCAGACACATGGATTGGTTGCTACTATGATGGACAATCTACGTGAGCATGACGCCTGCGGTGTGGCTTGTTAGTCTACTCACGAGAATGTACAAATCGCGTCGAGCTAGTTGTACCGAAGTAATTGGTCGGAACGTCCTTAGCCTGCCGTCTCGATATTCAGGTCCAACAGCGGTCTCTTACAAGTGTCTTAGTAGCGCGCTAGCAGATGCAGAGGTACAAGGTCTCTACATCGAGCGTCCGCACGCTGGAAGGTGCTATCTCTGGACCTCCTTTGCCGTCCTGCTAACGGAAAAGGAACTTAAGTCCGATTACGTCATTGTAAGGCCTTTCTCAAGTGGCGTATGGAGATGGCTTAGCGGTCGGCTAGATTGGCCGGTAGCGATTTCTGCAAACAAAATGCGAAGCGCGCCTGTATGTCCCCCCCCCTGAGGTGGGTACAGAGACAAGCCCTTCCGTTCTTGTAGCCTTAATTCCCAACGCGTACACACTTCTCCACGATTCAATACACAGGACTTTCGTGGAGGATTGGTTCATGCGCGTGGAAGTATAAGCATCCCTGTGGATGTACCAATAAGGGGACTGGAAACTGCCGCTGACTGGTTTATTTTACCGCGCGTCCTCTTTTGGGATAACGGAGGACGTCCTATAACCTGTTACAAATGATTAGGCAATTAATTCGCCAAACCCGTTGAGCCAGATACTGCGCGAGAGGGCTCGCGGTTAGCTCGCTATGTTGCGGCGGGAGAAGACAACTGATGTAGTTCGGTTTAGTGAGAGTGTCTTCTGACTAAGAGGGTTTTGTGCACTAACTGCGATAACGAACCACTTCCCCACTGCAACCAACCCTATCGGGGGCGTGTTCTTAGTTTGTAGCCGTCCAAATCATTCCCTACTACGACCATACTCGTCGAGGCGACCTCTTCGAGACCCGGTTTCGTTGCTTGTAAGGTTTAGAAATGAGACCGATTATGATAAGTGAACCACCTCGCCGCGGTCCGCGTGGCGAAGCCGTCCTACGGAGGAACCCAGTCAGTGTCCTCCTCCATCTAGTATGTGCTGCTCTAGCAGCTTGAGCTCCCGTGCGGCGCGTTTCCCAGTGGCTTCCCGTACGCTCGTTGGCGCCTCCAACGCCCTTTTGGGCCCGTGTATTCACGGTATAACGGTTTTGGCCACCTAATTCATCTATGAAATTGCTGCTGAATGCCCCTGTAGATAAGAGATGATGGCCTCTTTCCCTATTAAATCCCACTGGGAGCCATCAGCACCGCGTCCAGTGCGGCCGCCGCTTGTGACTCTTTTAATCAGTTAGTTTCACTACATGTAAGATCCGTGCTCCCTAGTACCCGAGTTAAGACACTATCACGTAGTTTGAGTGCGCGTCTCACGTCTACTTTCTATTGAGCCCTGCACATGGCGACGTTGCTTTTGTTTCCGCTACCCCTTAGGATATAAGATCAACAGAAGAATCGCTGAAGACCTGCCCTTCAAACTGGTATCACGCGTAATCAGCGCAATGGCAGAAGCTGCCGGTATCAATCTTCACTACTCTGCTTGCGAGAAGAAAGCGAGAGCACCTTACGCACCTACTTGGTTTCAGGCTACTTTTGTCGAAAATGCGTGTTGACATAGCACGTTGCATTAATTGGGTTAGGGATCGTTCCCGGGCAGAGATCGGGCACTAGGTTGGCCCGTGCGGACCGTCGATTGAGCAACTTATACGAGTGTAATAGGGACGATAGGCAACACTGGTGGGATACGTCCACTCTGGAATATGTTCGTAAATACATACGTATGGCGCGCGTCGGTGATACCAGCGGAGTATTGATTCCCAAGTTATTGCCAGTATCGGGGTAATAGGCCGGTTACTAGCTCGATGCAGTAACGCCGCCGGTCCGGACCTAGAATCCTCGGAGTGCTGCTCGCTTGCATGTAACTCGATTCCTCGCCACCAACTTTTCGACCCGTTATGTTATAGGGCGCGCGTTGCGCGGCCGACGCTTTGGTAGCGCTATGGGTTAGCTACTTCCATTGCAGGCATAACTCTGGGTTGCGTGATCCCCAGATCACGTTACATTCGGTGCTGACAATAGGCACAGCTTCTATGGAGCATATCGAGCTCTATGCTAGGTGGGCGCCTGGCAAATATGCATGGGTTATCACGCGGTCGAGTCCAACCGTACCCATGGGATTCTCTGGCTAGCCTCATGATTATAGTCTCGTCATCAACAGTCTGACCTCTGATCCGCACTCCATGCAGAAAACCGAAGTACCGAAGTAGAAGTTACGGATCCATGAGTTGTGGCGGCACGATTTGGACGCCGGAGATGGCTACAGCCCAATTCGTTGACAGATCAAAAGGTCCACGTCATGGACGTCCCTCAGCCGAGACGGTCGTTAGGGCGCCATCAAGTTGTTGTGATTGAAAGTGTTCAACTCTCGAGAGCCAAGGGCCCGAACACATAGGCACCAGTAGTCAAGCTGCGGGAGGCGACTTTTCCGTGGGTATTCAATCCGGGTGCTCATGCCTACAGAGAGTCAACATGCTAAGTCGTAACGTGTCACGCCCGTACTCAAAATGCGTCCCTCATCCGAACGAGCCACGGATGACTCTCTTAAGAGACTGATACTAACGCCATCGATCTGCGGTTTACCAAAGTCGGCCGTGTTGCACGTTTACTAATACCTTAGATGCGTGGGTCTACTCGGGTGATATCGCAGAGCTCTAGCTACATAGTCTACACCAGCATCCAGGGTCAAAGGCCGATGGGGGCCTGATGACAGGATATGCCCTGACTGATTCATAAATGGACTGGCTGGTCAATAGTGCGGGATATAATCGCCCTTTTTTTGTCCTAAAATATGGCGAGGGAGCGGTTACGGTTGGCGCCTACACCGACGTATGTGGAATAGCCACTGGAAGAGTACTGCGCGGTGGGTCTCGTAGGTAACCTGCCCCCTGTCATGGGGTCCCATATATCGACGGATCGAAGATTACACCATCTGGTCGTGTCATGCAGTTCTAAAGACCATTGGAGCTCCATATGGTCGTGTCCCCGTCCACTCAAAGGCAATGGATTACCCTGTCCGGGTTTCACTGGTCACAGTATGGAGACGCAAAGGGCACCGGACCCACCGACCTGGAAGCCATGGTACTCCGTACAGGTAATTAGACGTTCTCGGGGAGGCAACCACCGACGCTGACACTAGACTTACACATCATGGAGTTCTCGTAGGGTACAAGTCGGTCAAGGGGGGCCAAGGGGAGTCAGAGTCGCGGTTGAGACTGTTGCGGGGTAGCCCCGCCGAAAACGTTTGCCGTGCGGCGCCAACCTAGGATACGTAAGTGTACAAGAAAGGAAGTTTCTTGACTATCATTATTTGTCCCCCGTTTAGAAATAAGCCGAAAGCGTATCTAAAAGAGCAAGCACTTTAGGCTAGCATTTTGACAGCACTAAGCGACGCGTTGGACAGTTGCCCAAACGACGAAGAACTACGGTGACCTAACGCATTTAGCGAATGTATACGCCTCCAACCTCGCCCCAAGACACGATCACATCTCAATGGCTCAAAAAAAACACCTAGAGCTCGCGTAGTGCTAGGTCGGGGCCGCTGATGGGGTAGATGACTTACGAGACCCAAATCTCTGATGAATCTTTCAGGAGATGACC'\u001b[0m\u001b[0;34m\u001b[0m\u001b[0;34m\u001b[0m\u001b[0m\n\u001b[1;32m      2\u001b[0m \u001b[0my\u001b[0m\u001b[0;34m=\u001b[0m\u001b[0;34m'GGGGCAATGTATGGGACGGAGACCGGAACAATGGACCGTAAAGCCAGGTAACACAGCGAGAGTACGGTGTCTTGGTCGTAGGTTCCACTGCTTGGCGGACGATTGAGATTCTGCCCTAACCCGAAGAACCGTTAACCTATTAGGACGTGACGTCTATCCCTCGTTAACTACCACGGATGAATAGTCAGATACACTCTTTCGAAGAGCAGAACGTGGCCTTCGGACATATGGGCGGACCAGAACACCCCATCGTCTTACGGCTGGGAGGCCATAGCTCTCGCGCCCCCGACTTTTACACCAAATCGTTGCACTCGCGGAGAGCCGGATAGTAGTCTTCAACTCCTAGTCGGGGTGGCTTTCAGTCCTGCCTGGTGGGAAAAGAGAGCCTGTGCCACGGACGCCACCTAAACTCACAGATGTGCGCCGTGGCGAGGAACAGCCCAACAGTAATTGCAGTAGTATAACCCGTCTAGATTCCTACCTATAAGTAACCACATAAAAGATTAATTGATATCGGGCTACATGAAGCCTGCTATAGAGATACAAGGTTCTCTGACATAATAATGTGAGGCTACGCGCTCACACGTCATGCGTGCCGCCCTGAGAATATGTCCCACTCGTAGTGCTCAGCTAATGAATCCAGAGGGGATCTACAAAGTTATAAGTCGTCAGCATGTTTCCTGTTTTGAGGCAACTATATGCCGTGGCTATTACCGTACATGACTTTCCAACTAGGTACTTCAACGGTCATAGGTGAGCTAGTCAAGGAAGGCTATCGGTCGGCACGCCCTTCAGCCGGAGCGCAACATCCAGGCTTGGCTGGTCGTGGTCGACGGCAGAATCCCTCCTGACGATCGGGGTCAAACCTAAATTGTAGCACCATGGTCGGCATATTGCGCCTAGTGGGACCTCGCACAGGTGTATCAAAGCGCCCAGA'\u001b[0m\u001b[0;34m\u001b[0m\u001b[0;34m\u001b[0m\u001b[0m\n\u001b[0;32m----> 3\u001b[0;31m \u001b[0msemiAl\u001b[0m\u001b[0;34m(\u001b[0m\u001b[0mx\u001b[0m\u001b[0;34m,\u001b[0m\u001b[0my\u001b[0m\u001b[0;34m,\u001b[0m\u001b[0msubMat\u001b[0m\u001b[0;34m,\u001b[0m\u001b[0mindel\u001b[0m\u001b[0;34m)\u001b[0m\u001b[0;34m\u001b[0m\u001b[0;34m\u001b[0m\u001b[0m\n\u001b[0m",
      "\u001b[0;32m<ipython-input-41-4de4af6bcc00>\u001b[0m in \u001b[0;36msemiAl\u001b[0;34m(x, y, subMat, indel)\u001b[0m\n\u001b[1;32m     65\u001b[0m     \u001b[0mA\u001b[0m \u001b[0mwrapper\u001b[0m \u001b[0;32mfor\u001b[0m \u001b[0mDP\u001b[0m \u001b[0mimplementation\u001b[0m \u001b[0mof\u001b[0m \u001b[0mSmith\u001b[0m\u001b[0;34m-\u001b[0m\u001b[0mWaterman\u001b[0m\u001b[0;34m\u001b[0m\u001b[0;34m\u001b[0m\u001b[0m\n\u001b[1;32m     66\u001b[0m     '''\n\u001b[0;32m---> 67\u001b[0;31m     \u001b[0msm\u001b[0m \u001b[0;34m=\u001b[0m \u001b[0msemiGlobal\u001b[0m\u001b[0;34m(\u001b[0m\u001b[0mx\u001b[0m\u001b[0;34m,\u001b[0m\u001b[0my\u001b[0m\u001b[0;34m,\u001b[0m\u001b[0msubMat\u001b[0m\u001b[0;34m,\u001b[0m\u001b[0mindel\u001b[0m\u001b[0;34m)\u001b[0m\u001b[0;34m\u001b[0m\u001b[0;34m\u001b[0m\u001b[0m\n\u001b[0m\u001b[1;32m     68\u001b[0m     \u001b[0mz\u001b[0m\u001b[0;34m,\u001b[0m\u001b[0mw\u001b[0m \u001b[0;34m=\u001b[0m \u001b[0msemiBacktrack\u001b[0m\u001b[0;34m(\u001b[0m\u001b[0mx\u001b[0m\u001b[0;34m,\u001b[0m\u001b[0my\u001b[0m\u001b[0;34m,\u001b[0m\u001b[0msm\u001b[0m\u001b[0;34m,\u001b[0m\u001b[0msubMat\u001b[0m\u001b[0;34m,\u001b[0m\u001b[0mindel\u001b[0m\u001b[0;34m)\u001b[0m\u001b[0;34m\u001b[0m\u001b[0;34m\u001b[0m\u001b[0m\n\u001b[1;32m     69\u001b[0m     \u001b[0;32mreturn\u001b[0m \u001b[0mz\u001b[0m\u001b[0;34m,\u001b[0m\u001b[0mw\u001b[0m\u001b[0;34m,\u001b[0m \u001b[0msm\u001b[0m\u001b[0;34m[\u001b[0m\u001b[0msm\u001b[0m\u001b[0;34m.\u001b[0m\u001b[0mshape\u001b[0m\u001b[0;34m[\u001b[0m\u001b[0;36m0\u001b[0m\u001b[0;34m]\u001b[0m\u001b[0;34m-\u001b[0m\u001b[0;36m1\u001b[0m\u001b[0;34m,\u001b[0m\u001b[0msm\u001b[0m\u001b[0;34m.\u001b[0m\u001b[0mshape\u001b[0m\u001b[0;34m[\u001b[0m\u001b[0;36m1\u001b[0m\u001b[0;34m]\u001b[0m\u001b[0;34m-\u001b[0m\u001b[0;36m1\u001b[0m\u001b[0;34m]\u001b[0m\u001b[0;34m\u001b[0m\u001b[0;34m\u001b[0m\u001b[0m\n",
      "\u001b[0;32m<ipython-input-41-4de4af6bcc00>\u001b[0m in \u001b[0;36msemiGlobal\u001b[0;34m(x, y, subMat, indel)\u001b[0m\n\u001b[1;32m     15\u001b[0m                 \u001b[0mscoringMat\u001b[0m\u001b[0;34m[\u001b[0m\u001b[0mj\u001b[0m\u001b[0;34m]\u001b[0m\u001b[0;34m[\u001b[0m\u001b[0mi\u001b[0m\u001b[0;34m]\u001b[0m \u001b[0;34m=\u001b[0m \u001b[0mscoringMat\u001b[0m\u001b[0;34m[\u001b[0m\u001b[0mj\u001b[0m\u001b[0;34m-\u001b[0m\u001b[0;36m1\u001b[0m\u001b[0;34m]\u001b[0m\u001b[0;34m[\u001b[0m\u001b[0mi\u001b[0m\u001b[0;34m-\u001b[0m\u001b[0;36m1\u001b[0m\u001b[0;34m]\u001b[0m \u001b[0;34m+\u001b[0m \u001b[0msubMat\u001b[0m\u001b[0;34m.\u001b[0m\u001b[0mloc\u001b[0m\u001b[0;34m[\u001b[0m\u001b[0mx\u001b[0m\u001b[0;34m[\u001b[0m\u001b[0mi\u001b[0m\u001b[0;34m-\u001b[0m\u001b[0;36m1\u001b[0m\u001b[0;34m]\u001b[0m\u001b[0;34m]\u001b[0m\u001b[0;34m[\u001b[0m\u001b[0my\u001b[0m\u001b[0;34m[\u001b[0m\u001b[0mj\u001b[0m\u001b[0;34m-\u001b[0m\u001b[0;36m1\u001b[0m\u001b[0;34m]\u001b[0m\u001b[0;34m]\u001b[0m\u001b[0;34m\u001b[0m\u001b[0;34m\u001b[0m\u001b[0m\n\u001b[1;32m     16\u001b[0m             \u001b[0;32melse\u001b[0m\u001b[0;34m:\u001b[0m\u001b[0;34m\u001b[0m\u001b[0;34m\u001b[0m\u001b[0m\n\u001b[0;32m---> 17\u001b[0;31m                 \u001b[0mmismatch\u001b[0m \u001b[0;34m=\u001b[0m \u001b[0mscoringMat\u001b[0m\u001b[0;34m[\u001b[0m\u001b[0mj\u001b[0m\u001b[0;34m-\u001b[0m\u001b[0;36m1\u001b[0m\u001b[0;34m]\u001b[0m\u001b[0;34m[\u001b[0m\u001b[0mi\u001b[0m\u001b[0;34m-\u001b[0m\u001b[0;36m1\u001b[0m\u001b[0;34m]\u001b[0m \u001b[0;34m+\u001b[0m \u001b[0msubMat\u001b[0m\u001b[0;34m.\u001b[0m\u001b[0mloc\u001b[0m\u001b[0;34m[\u001b[0m\u001b[0mx\u001b[0m\u001b[0;34m[\u001b[0m\u001b[0mi\u001b[0m\u001b[0;34m-\u001b[0m\u001b[0;36m1\u001b[0m\u001b[0;34m]\u001b[0m\u001b[0;34m]\u001b[0m\u001b[0;34m[\u001b[0m\u001b[0my\u001b[0m\u001b[0;34m[\u001b[0m\u001b[0mj\u001b[0m\u001b[0;34m-\u001b[0m\u001b[0;36m1\u001b[0m\u001b[0;34m]\u001b[0m\u001b[0;34m]\u001b[0m\u001b[0;34m\u001b[0m\u001b[0;34m\u001b[0m\u001b[0m\n\u001b[0m\u001b[1;32m     18\u001b[0m                 \u001b[0mleft\u001b[0m \u001b[0;34m=\u001b[0m \u001b[0mscoringMat\u001b[0m\u001b[0;34m[\u001b[0m\u001b[0mj\u001b[0m\u001b[0;34m-\u001b[0m\u001b[0;36m1\u001b[0m\u001b[0;34m]\u001b[0m\u001b[0;34m[\u001b[0m\u001b[0mi\u001b[0m\u001b[0;34m]\u001b[0m \u001b[0;34m+\u001b[0m \u001b[0mindel\u001b[0m\u001b[0;34m\u001b[0m\u001b[0;34m\u001b[0m\u001b[0m\n\u001b[1;32m     19\u001b[0m                 \u001b[0mup\u001b[0m \u001b[0;34m=\u001b[0m \u001b[0mscoringMat\u001b[0m\u001b[0;34m[\u001b[0m\u001b[0mj\u001b[0m\u001b[0;34m]\u001b[0m\u001b[0;34m[\u001b[0m\u001b[0mi\u001b[0m\u001b[0;34m-\u001b[0m\u001b[0;36m1\u001b[0m\u001b[0;34m]\u001b[0m \u001b[0;34m+\u001b[0m \u001b[0mindel\u001b[0m\u001b[0;34m\u001b[0m\u001b[0;34m\u001b[0m\u001b[0m\n",
      "\u001b[0;32m~/miniconda3/lib/python3.7/site-packages/pandas/core/indexing.py\u001b[0m in \u001b[0;36m__getitem__\u001b[0;34m(self, key)\u001b[0m\n\u001b[1;32m   1766\u001b[0m \u001b[0;34m\u001b[0m\u001b[0m\n\u001b[1;32m   1767\u001b[0m             \u001b[0mmaybe_callable\u001b[0m \u001b[0;34m=\u001b[0m \u001b[0mcom\u001b[0m\u001b[0;34m.\u001b[0m\u001b[0mapply_if_callable\u001b[0m\u001b[0;34m(\u001b[0m\u001b[0mkey\u001b[0m\u001b[0;34m,\u001b[0m \u001b[0mself\u001b[0m\u001b[0;34m.\u001b[0m\u001b[0mobj\u001b[0m\u001b[0;34m)\u001b[0m\u001b[0;34m\u001b[0m\u001b[0;34m\u001b[0m\u001b[0m\n\u001b[0;32m-> 1768\u001b[0;31m             \u001b[0;32mreturn\u001b[0m \u001b[0mself\u001b[0m\u001b[0;34m.\u001b[0m\u001b[0m_getitem_axis\u001b[0m\u001b[0;34m(\u001b[0m\u001b[0mmaybe_callable\u001b[0m\u001b[0;34m,\u001b[0m \u001b[0maxis\u001b[0m\u001b[0;34m=\u001b[0m\u001b[0maxis\u001b[0m\u001b[0;34m)\u001b[0m\u001b[0;34m\u001b[0m\u001b[0;34m\u001b[0m\u001b[0m\n\u001b[0m\u001b[1;32m   1769\u001b[0m \u001b[0;34m\u001b[0m\u001b[0m\n\u001b[1;32m   1770\u001b[0m     \u001b[0;32mdef\u001b[0m \u001b[0m_is_scalar_access\u001b[0m\u001b[0;34m(\u001b[0m\u001b[0mself\u001b[0m\u001b[0;34m,\u001b[0m \u001b[0mkey\u001b[0m\u001b[0;34m:\u001b[0m \u001b[0mTuple\u001b[0m\u001b[0;34m)\u001b[0m\u001b[0;34m:\u001b[0m\u001b[0;34m\u001b[0m\u001b[0;34m\u001b[0m\u001b[0m\n",
      "\u001b[0;32m~/miniconda3/lib/python3.7/site-packages/pandas/core/indexing.py\u001b[0m in \u001b[0;36m_getitem_axis\u001b[0;34m(self, key, axis)\u001b[0m\n\u001b[1;32m   1963\u001b[0m         \u001b[0;31m# fall thru to straight lookup\u001b[0m\u001b[0;34m\u001b[0m\u001b[0;34m\u001b[0m\u001b[0;34m\u001b[0m\u001b[0m\n\u001b[1;32m   1964\u001b[0m         \u001b[0mself\u001b[0m\u001b[0;34m.\u001b[0m\u001b[0m_validate_key\u001b[0m\u001b[0;34m(\u001b[0m\u001b[0mkey\u001b[0m\u001b[0;34m,\u001b[0m \u001b[0maxis\u001b[0m\u001b[0;34m)\u001b[0m\u001b[0;34m\u001b[0m\u001b[0;34m\u001b[0m\u001b[0m\n\u001b[0;32m-> 1965\u001b[0;31m         \u001b[0;32mreturn\u001b[0m \u001b[0mself\u001b[0m\u001b[0;34m.\u001b[0m\u001b[0m_get_label\u001b[0m\u001b[0;34m(\u001b[0m\u001b[0mkey\u001b[0m\u001b[0;34m,\u001b[0m \u001b[0maxis\u001b[0m\u001b[0;34m=\u001b[0m\u001b[0maxis\u001b[0m\u001b[0;34m)\u001b[0m\u001b[0;34m\u001b[0m\u001b[0;34m\u001b[0m\u001b[0m\n\u001b[0m\u001b[1;32m   1966\u001b[0m \u001b[0;34m\u001b[0m\u001b[0m\n\u001b[1;32m   1967\u001b[0m \u001b[0;34m\u001b[0m\u001b[0m\n",
      "\u001b[0;32m~/miniconda3/lib/python3.7/site-packages/pandas/core/indexing.py\u001b[0m in \u001b[0;36m_get_label\u001b[0;34m(self, label, axis)\u001b[0m\n\u001b[1;32m    623\u001b[0m             \u001b[0;32mraise\u001b[0m \u001b[0mIndexingError\u001b[0m\u001b[0;34m(\u001b[0m\u001b[0;34m\"no slices here, handle elsewhere\"\u001b[0m\u001b[0;34m)\u001b[0m\u001b[0;34m\u001b[0m\u001b[0;34m\u001b[0m\u001b[0m\n\u001b[1;32m    624\u001b[0m \u001b[0;34m\u001b[0m\u001b[0m\n\u001b[0;32m--> 625\u001b[0;31m         \u001b[0;32mreturn\u001b[0m \u001b[0mself\u001b[0m\u001b[0;34m.\u001b[0m\u001b[0mobj\u001b[0m\u001b[0;34m.\u001b[0m\u001b[0m_xs\u001b[0m\u001b[0;34m(\u001b[0m\u001b[0mlabel\u001b[0m\u001b[0;34m,\u001b[0m \u001b[0maxis\u001b[0m\u001b[0;34m=\u001b[0m\u001b[0maxis\u001b[0m\u001b[0;34m)\u001b[0m\u001b[0;34m\u001b[0m\u001b[0;34m\u001b[0m\u001b[0m\n\u001b[0m\u001b[1;32m    626\u001b[0m \u001b[0;34m\u001b[0m\u001b[0m\n\u001b[1;32m    627\u001b[0m     \u001b[0;32mdef\u001b[0m \u001b[0m_get_loc\u001b[0m\u001b[0;34m(\u001b[0m\u001b[0mself\u001b[0m\u001b[0;34m,\u001b[0m \u001b[0mkey\u001b[0m\u001b[0;34m:\u001b[0m \u001b[0mint\u001b[0m\u001b[0;34m,\u001b[0m \u001b[0maxis\u001b[0m\u001b[0;34m:\u001b[0m \u001b[0mint\u001b[0m\u001b[0;34m)\u001b[0m\u001b[0;34m:\u001b[0m\u001b[0;34m\u001b[0m\u001b[0;34m\u001b[0m\u001b[0m\n",
      "\u001b[0;32m~/miniconda3/lib/python3.7/site-packages/pandas/core/generic.py\u001b[0m in \u001b[0;36mxs\u001b[0;34m(self, key, axis, level, drop_level)\u001b[0m\n\u001b[1;32m   3562\u001b[0m                 \u001b[0mindex\u001b[0m\u001b[0;34m=\u001b[0m\u001b[0mself\u001b[0m\u001b[0;34m.\u001b[0m\u001b[0mcolumns\u001b[0m\u001b[0;34m,\u001b[0m\u001b[0;34m\u001b[0m\u001b[0;34m\u001b[0m\u001b[0m\n\u001b[1;32m   3563\u001b[0m                 \u001b[0mname\u001b[0m\u001b[0;34m=\u001b[0m\u001b[0mself\u001b[0m\u001b[0;34m.\u001b[0m\u001b[0mindex\u001b[0m\u001b[0;34m[\u001b[0m\u001b[0mloc\u001b[0m\u001b[0;34m]\u001b[0m\u001b[0;34m,\u001b[0m\u001b[0;34m\u001b[0m\u001b[0;34m\u001b[0m\u001b[0m\n\u001b[0;32m-> 3564\u001b[0;31m                 \u001b[0mdtype\u001b[0m\u001b[0;34m=\u001b[0m\u001b[0mnew_values\u001b[0m\u001b[0;34m.\u001b[0m\u001b[0mdtype\u001b[0m\u001b[0;34m,\u001b[0m\u001b[0;34m\u001b[0m\u001b[0;34m\u001b[0m\u001b[0m\n\u001b[0m\u001b[1;32m   3565\u001b[0m             )\n\u001b[1;32m   3566\u001b[0m \u001b[0;34m\u001b[0m\u001b[0m\n",
      "\u001b[0;32m~/miniconda3/lib/python3.7/site-packages/pandas/core/series.py\u001b[0m in \u001b[0;36m__init__\u001b[0;34m(self, data, index, dtype, name, copy, fastpath)\u001b[0m\n\u001b[1;32m    305\u001b[0m                 \u001b[0mdata\u001b[0m \u001b[0;34m=\u001b[0m \u001b[0msanitize_array\u001b[0m\u001b[0;34m(\u001b[0m\u001b[0mdata\u001b[0m\u001b[0;34m,\u001b[0m \u001b[0mindex\u001b[0m\u001b[0;34m,\u001b[0m \u001b[0mdtype\u001b[0m\u001b[0;34m,\u001b[0m \u001b[0mcopy\u001b[0m\u001b[0;34m,\u001b[0m \u001b[0mraise_cast_failure\u001b[0m\u001b[0;34m=\u001b[0m\u001b[0;32mTrue\u001b[0m\u001b[0;34m)\u001b[0m\u001b[0;34m\u001b[0m\u001b[0;34m\u001b[0m\u001b[0m\n\u001b[1;32m    306\u001b[0m \u001b[0;34m\u001b[0m\u001b[0m\n\u001b[0;32m--> 307\u001b[0;31m                 \u001b[0mdata\u001b[0m \u001b[0;34m=\u001b[0m \u001b[0mSingleBlockManager\u001b[0m\u001b[0;34m(\u001b[0m\u001b[0mdata\u001b[0m\u001b[0;34m,\u001b[0m \u001b[0mindex\u001b[0m\u001b[0;34m,\u001b[0m \u001b[0mfastpath\u001b[0m\u001b[0;34m=\u001b[0m\u001b[0;32mTrue\u001b[0m\u001b[0;34m)\u001b[0m\u001b[0;34m\u001b[0m\u001b[0;34m\u001b[0m\u001b[0m\n\u001b[0m\u001b[1;32m    308\u001b[0m \u001b[0;34m\u001b[0m\u001b[0m\n\u001b[1;32m    309\u001b[0m         \u001b[0mgeneric\u001b[0m\u001b[0;34m.\u001b[0m\u001b[0mNDFrame\u001b[0m\u001b[0;34m.\u001b[0m\u001b[0m__init__\u001b[0m\u001b[0;34m(\u001b[0m\u001b[0mself\u001b[0m\u001b[0;34m,\u001b[0m \u001b[0mdata\u001b[0m\u001b[0;34m,\u001b[0m \u001b[0mfastpath\u001b[0m\u001b[0;34m=\u001b[0m\u001b[0;32mTrue\u001b[0m\u001b[0;34m)\u001b[0m\u001b[0;34m\u001b[0m\u001b[0;34m\u001b[0m\u001b[0m\n",
      "\u001b[0;32m~/miniconda3/lib/python3.7/site-packages/pandas/core/internals/managers.py\u001b[0m in \u001b[0;36m__init__\u001b[0;34m(self, block, axis, do_integrity_check, fastpath)\u001b[0m\n\u001b[1;32m   1511\u001b[0m \u001b[0;34m\u001b[0m\u001b[0m\n\u001b[1;32m   1512\u001b[0m         \u001b[0;32mif\u001b[0m \u001b[0;32mnot\u001b[0m \u001b[0misinstance\u001b[0m\u001b[0;34m(\u001b[0m\u001b[0mblock\u001b[0m\u001b[0;34m,\u001b[0m \u001b[0mBlock\u001b[0m\u001b[0;34m)\u001b[0m\u001b[0;34m:\u001b[0m\u001b[0;34m\u001b[0m\u001b[0;34m\u001b[0m\u001b[0m\n\u001b[0;32m-> 1513\u001b[0;31m             \u001b[0mblock\u001b[0m \u001b[0;34m=\u001b[0m \u001b[0mmake_block\u001b[0m\u001b[0;34m(\u001b[0m\u001b[0mblock\u001b[0m\u001b[0;34m,\u001b[0m \u001b[0mplacement\u001b[0m\u001b[0;34m=\u001b[0m\u001b[0mslice\u001b[0m\u001b[0;34m(\u001b[0m\u001b[0;36m0\u001b[0m\u001b[0;34m,\u001b[0m \u001b[0mlen\u001b[0m\u001b[0;34m(\u001b[0m\u001b[0maxis\u001b[0m\u001b[0;34m)\u001b[0m\u001b[0;34m)\u001b[0m\u001b[0;34m,\u001b[0m \u001b[0mndim\u001b[0m\u001b[0;34m=\u001b[0m\u001b[0;36m1\u001b[0m\u001b[0;34m)\u001b[0m\u001b[0;34m\u001b[0m\u001b[0;34m\u001b[0m\u001b[0m\n\u001b[0m\u001b[1;32m   1514\u001b[0m \u001b[0;34m\u001b[0m\u001b[0m\n\u001b[1;32m   1515\u001b[0m         \u001b[0mself\u001b[0m\u001b[0;34m.\u001b[0m\u001b[0mblocks\u001b[0m \u001b[0;34m=\u001b[0m \u001b[0mtuple\u001b[0m\u001b[0;34m(\u001b[0m\u001b[0;34m[\u001b[0m\u001b[0mblock\u001b[0m\u001b[0;34m]\u001b[0m\u001b[0;34m)\u001b[0m\u001b[0;34m\u001b[0m\u001b[0;34m\u001b[0m\u001b[0m\n",
      "\u001b[0;32m~/miniconda3/lib/python3.7/site-packages/pandas/core/internals/blocks.py\u001b[0m in \u001b[0;36mmake_block\u001b[0;34m(values, placement, klass, ndim, dtype)\u001b[0m\n\u001b[1;32m   3038\u001b[0m     \u001b[0;32mif\u001b[0m \u001b[0mklass\u001b[0m \u001b[0;32mis\u001b[0m \u001b[0;32mNone\u001b[0m\u001b[0;34m:\u001b[0m\u001b[0;34m\u001b[0m\u001b[0;34m\u001b[0m\u001b[0m\n\u001b[1;32m   3039\u001b[0m         \u001b[0mdtype\u001b[0m \u001b[0;34m=\u001b[0m \u001b[0mdtype\u001b[0m \u001b[0;32mor\u001b[0m \u001b[0mvalues\u001b[0m\u001b[0;34m.\u001b[0m\u001b[0mdtype\u001b[0m\u001b[0;34m\u001b[0m\u001b[0;34m\u001b[0m\u001b[0m\n\u001b[0;32m-> 3040\u001b[0;31m         \u001b[0mklass\u001b[0m \u001b[0;34m=\u001b[0m \u001b[0mget_block_type\u001b[0m\u001b[0;34m(\u001b[0m\u001b[0mvalues\u001b[0m\u001b[0;34m,\u001b[0m \u001b[0mdtype\u001b[0m\u001b[0;34m)\u001b[0m\u001b[0;34m\u001b[0m\u001b[0;34m\u001b[0m\u001b[0m\n\u001b[0m\u001b[1;32m   3041\u001b[0m \u001b[0;34m\u001b[0m\u001b[0m\n\u001b[1;32m   3042\u001b[0m     \u001b[0;32melif\u001b[0m \u001b[0mklass\u001b[0m \u001b[0;32mis\u001b[0m \u001b[0mDatetimeTZBlock\u001b[0m \u001b[0;32mand\u001b[0m \u001b[0;32mnot\u001b[0m \u001b[0mis_datetime64tz_dtype\u001b[0m\u001b[0;34m(\u001b[0m\u001b[0mvalues\u001b[0m\u001b[0;34m)\u001b[0m\u001b[0;34m:\u001b[0m\u001b[0;34m\u001b[0m\u001b[0;34m\u001b[0m\u001b[0m\n",
      "\u001b[0;32m~/miniconda3/lib/python3.7/site-packages/pandas/core/internals/blocks.py\u001b[0m in \u001b[0;36mget_block_type\u001b[0;34m(values, dtype)\u001b[0m\n\u001b[1;32m   3005\u001b[0m     \u001b[0;32melif\u001b[0m \u001b[0mis_datetime64tz_dtype\u001b[0m\u001b[0;34m(\u001b[0m\u001b[0mvalues\u001b[0m\u001b[0;34m)\u001b[0m\u001b[0;34m:\u001b[0m\u001b[0;34m\u001b[0m\u001b[0;34m\u001b[0m\u001b[0m\n\u001b[1;32m   3006\u001b[0m         \u001b[0mcls\u001b[0m \u001b[0;34m=\u001b[0m \u001b[0mDatetimeTZBlock\u001b[0m\u001b[0;34m\u001b[0m\u001b[0;34m\u001b[0m\u001b[0m\n\u001b[0;32m-> 3007\u001b[0;31m     \u001b[0;32melif\u001b[0m \u001b[0mis_interval_dtype\u001b[0m\u001b[0;34m(\u001b[0m\u001b[0mdtype\u001b[0m\u001b[0;34m)\u001b[0m \u001b[0;32mor\u001b[0m \u001b[0mis_period_dtype\u001b[0m\u001b[0;34m(\u001b[0m\u001b[0mdtype\u001b[0m\u001b[0;34m)\u001b[0m\u001b[0;34m:\u001b[0m\u001b[0;34m\u001b[0m\u001b[0;34m\u001b[0m\u001b[0m\n\u001b[0m\u001b[1;32m   3008\u001b[0m         \u001b[0mcls\u001b[0m \u001b[0;34m=\u001b[0m \u001b[0mObjectValuesExtensionBlock\u001b[0m\u001b[0;34m\u001b[0m\u001b[0;34m\u001b[0m\u001b[0m\n\u001b[1;32m   3009\u001b[0m     \u001b[0;32melif\u001b[0m \u001b[0mis_extension_array_dtype\u001b[0m\u001b[0;34m(\u001b[0m\u001b[0mvalues\u001b[0m\u001b[0;34m)\u001b[0m\u001b[0;34m:\u001b[0m\u001b[0;34m\u001b[0m\u001b[0;34m\u001b[0m\u001b[0m\n",
      "\u001b[0;32m~/miniconda3/lib/python3.7/site-packages/pandas/core/dtypes/common.py\u001b[0m in \u001b[0;36mis_period_dtype\u001b[0;34m(arr_or_dtype)\u001b[0m\n\u001b[1;32m    501\u001b[0m     \u001b[0;32mif\u001b[0m \u001b[0marr_or_dtype\u001b[0m \u001b[0;32mis\u001b[0m \u001b[0;32mNone\u001b[0m\u001b[0;34m:\u001b[0m\u001b[0;34m\u001b[0m\u001b[0;34m\u001b[0m\u001b[0m\n\u001b[1;32m    502\u001b[0m         \u001b[0;32mreturn\u001b[0m \u001b[0;32mFalse\u001b[0m\u001b[0;34m\u001b[0m\u001b[0;34m\u001b[0m\u001b[0m\n\u001b[0;32m--> 503\u001b[0;31m     \u001b[0;32mreturn\u001b[0m \u001b[0mPeriodDtype\u001b[0m\u001b[0;34m.\u001b[0m\u001b[0mis_dtype\u001b[0m\u001b[0;34m(\u001b[0m\u001b[0marr_or_dtype\u001b[0m\u001b[0;34m)\u001b[0m\u001b[0;34m\u001b[0m\u001b[0;34m\u001b[0m\u001b[0m\n\u001b[0m\u001b[1;32m    504\u001b[0m \u001b[0;34m\u001b[0m\u001b[0m\n\u001b[1;32m    505\u001b[0m \u001b[0;34m\u001b[0m\u001b[0m\n",
      "\u001b[0;32m~/miniconda3/lib/python3.7/site-packages/pandas/core/dtypes/dtypes.py\u001b[0m in \u001b[0;36mis_dtype\u001b[0;34m(cls, dtype)\u001b[0m\n\u001b[1;32m    922\u001b[0m         \"\"\"\n\u001b[1;32m    923\u001b[0m \u001b[0;34m\u001b[0m\u001b[0m\n\u001b[0;32m--> 924\u001b[0;31m         \u001b[0;32mif\u001b[0m \u001b[0misinstance\u001b[0m\u001b[0;34m(\u001b[0m\u001b[0mdtype\u001b[0m\u001b[0;34m,\u001b[0m \u001b[0mstr\u001b[0m\u001b[0;34m)\u001b[0m\u001b[0;34m:\u001b[0m\u001b[0;34m\u001b[0m\u001b[0;34m\u001b[0m\u001b[0m\n\u001b[0m\u001b[1;32m    925\u001b[0m             \u001b[0;31m# PeriodDtype can be instantiated from freq string like \"U\",\u001b[0m\u001b[0;34m\u001b[0m\u001b[0;34m\u001b[0m\u001b[0;34m\u001b[0m\u001b[0m\n\u001b[1;32m    926\u001b[0m             \u001b[0;31m# but doesn't regard freq str like \"U\" as dtype.\u001b[0m\u001b[0;34m\u001b[0m\u001b[0;34m\u001b[0m\u001b[0;34m\u001b[0m\u001b[0m\n",
      "\u001b[0;31mKeyboardInterrupt\u001b[0m: "
     ]
    }
   ],
   "source": [
    "#### Challenge dataset\n",
    "#### TOO SLOW - Need to implement the faster algorithm here.\n",
    "# x='TGTAATAGATATCCCAGTATATAATGTAACTAGAAGGATATTGGATGCGTGGAGGCGAAAGGGATGTAGTGCTCGATCCTTTAACGGAGTCCTCTTAGGTTAAGAATTCCGCCACCGGCGGTGAATACTCCGTAAGGTTGTGGCGTGCTCCGCTAACAAAAACTTAAGCCACGTCTTTACTTGGCCGTCTTTTTGATCGGACAGAAAAGTGATCATCTTGATGAGTAGAATACGCGGGAGTTAATCTGCCGGCAGCATACGCGCGGAGTCAATCCATCCCACGTGCACTTCTATAAGTCTTAAAGGGGAACTGCTGATAGCGATGCAGTGTCAAACAGGTTATCGGGGCTCTGACATCCCACACTTGTCAAACGGTTAGCAAAGCGCTACGACATCGTTTTCGTCCACGGTACTTTCATAGGATAACATGTTTCATTAAAAAAGTCCGTCGCCCTTTGTGACTGATTATTTTGGTTACCAGCTGCAGGGAGCATCGACCGTGAAGCGTGAAACGCCGAAAAAAGCTTCTGCAACAGTTTGGATCGCCCTGTTGCCTCCCGGCAAGTGAGAGCGGACGCTCTTCGGTCCGCGCCTCTTAAAAGGAACGGCCTCTTCTCTACTTTATGGGCACTTAGAGTCTCCAAACTTTAGTCAAGTTCCCCCTACCGATTAAGATCGGGGCACAGACCAGCGGAGACGATGTCCAGTAGCCATGCTCTTATTCCGTAGAAGGGGCGGATTGCAGGCAGAGAGATATACCAAGTTCCTAGATTTTCCTCTACTCGGGCGAGCCTTGTCCATTAACGTGTAAGTTCTAGCGTTACTCGCTTACCGTATGTACTCCCCGAACCGTTGGGAGTGCGTAGGGCGACTTGTTAGCACCCTGTCCAGAATCTGCTTGCTATGATCCCCAGTGAATCTTGTGCCCCCAGTAGTTTGGCCTGATCGATAGCAGGCTGTGTCGCGTCAGTCAATCGAATTCAGTCCGGAACAAGCCTCCTCAAAGATTTTTCTTCCGTTCTACGCACCTTAGCCCGTGGTCGTAGTTGACGCCTTTAAGTCAAGTCATTAAAGCCCGCGCCGCATATAGATGTAGTCCATCGACTAGACGCGGAGCGATTAGGAGCCTCATTACTTTGATTCTAGAGGCTTTCTGCAAAAGGGTATTGCCTGATGTATAACGATCAACTGCGCAACTGAAAGACCGGACTGGACGAAGACGCAACACAGGACCACCGTGGTGTAGTCAACAATTAAGTTCGCCAACCAACTTTATGTGGCGACGGATAAGTAGATTGAAAGGTAACCAGGGTGCGAGGTATCATAAGTATACCGGGAGCCCCCTGTCTGGCTTGTCCAAATGTGATGCCAGGCGAAAACAACCTTTCTGCGCTTCCCAACCATCAGTGAGACACTAATTCCTAAAACACCACCGCAAGGGGTGGTGCGATCACGGTCACTGGTATCAGGGCTGCACTGTTTAGCGGGGGGGGCTTCGCATCGGCGCCTCTCGGTAAATTCCCAATAATCGGTTGTGTCCGTTGACACACTGTCGCTCTTGTACGAAAGGTATGAGACCGTCGAGCACGCGGATATGTCGACCTCCAACCGAATGGAAGTAGAAGTGCGTTCTTTTTCATATGATGGATGTTATTAGTAAGAATTGCTGCGACCCTAACTGATAATCTCTACTTTTATTTCATCACTATGCCTAACCCTCGAAATCTTTCTTAGGCACGTTAGCCGACCCCATCTGGCGGCCAAATAGAAGTATTTTACCCCAATCAACCTTCCCCTTGGCTTTTATGACCTTCAAAAAAAACCCATGGATTCGGAAGGGAAACAATGAGGTTCCGTCTTAATTTTTGATGTTAGGGGCGCAGTGCTAAGGATGACTCAGGAAACTGAGGTTTTATTTTGCCCTAACCAATTCGAGATACTTAGCGATACACCGAGGTCGAGCTCTCAGCCTCGTTCTGCCAACATTCTCTTATGCTCTGGTGTCTGGACTAGGTTATTGTCCAAGACACCATGCCCTAAGCCTCGCGCAGCGGGTTCTTAACTTCAAGATTGAACACGCTAAGACCAGGACTCAGGGGCCACTATAGCCGGAACTCACAGCGGGATCGTCATTCCATATGTCCGTCTATAACGCGAACTAGGTTTGAGGCCTCGGCTCTAGTCGTATGCACGTCGACGCTAAGTTAACTATTATATGGCTCTCTGAGATCAAGGCTCAAGCTGGACGAGGTGAGATAATTGCTGATGCAAACCCCAAGTTGAACACGCCTCCAAAGTGGGTTGAGGTCATCCAGCATAGCAGATGGAACTCCCGCAGAGCCTCCTTCGCACCTGCGACCGACTAACTCAGCGAGTGCCTCTCTAGTAGCCTTTCTTCCAATACTAGTTATTTTCTGAGATTTTATGTGCACCTTCGAAGGGCTAACTGTAAATCGTCCCCGCAAGCTTAGCTTCGCTAGGACATCTCGTTTAGTCGTGCACAGGCTTTGAGCGCTGGATATTCACTAGGATTCCGGCAGGGGGATTCACGTTCTACCTCTCAGGTGAATCAGGTTTCCTCAACACTAACCCACGCTTCTGGTGGCAGTGGATTCAGGGTGCGATGTGGTTATGATCTTTAACGGCAATTTTTAACAGTGGCTTATCCAAGAATCCGCTATTGTAAATTACGCGGTCACTCTACTCGTAAGGAGTGAAGATCGAACCCACACAAACTCTATTAGGTACCCGAAGGTCACGTCGCATGGCAGATGGCAAGGAGCCATGCTCCCGGGTCAAATGGGACCTGTTTTGTACTAGCTAAGTGACTGTACAAGTCGGGGCTCTTAGACCACGAAAATCTGCCCCGAGACCATCTTGACGTCGGTTACGTTTTGGCTGGACCACTGCACGCAACCCAGACTAAGCCAGGTTGAAACGTTAACTCGCTATATCGGCATACCATACAGGGCGAGATCGCCTTTTGATATAGCGTCCCGGGATTATGGATCGCAATATGCTTCTGTGGCGAGCTAGCTTACAAGTTAAAACCGTTCGGTGACCCGTCGGCTAAAATTGGCTTTTCAATAAGACTACCGTCGTCTGGCCCCGATAAGGTGATCTGTCTGCGTAGCGGTCCGGGTATTCGAACTTGTTGAAAAGCTTTTCCTTAAAGTCGCAATACTGGACGATCTATCAACTAGAATCACGCGACGAACGAAACAGAAGAATTACTATCAAAAGACGAGCAATATCCTTCCTGCTTATCGCGGCCACACACGGAGCATACAAGAATAACCGAACTCTCTATTTGGAATCAGAAGTCCTATCCGACGAACAATTATCCGCAAACAGGATATAGCCCCTATGTGTAAACGACGGTGCCGTAACTATCAAGGCCGCCAGCCGATGACTCACGCATAAACATAAGGAGGCCTATAACGCAACCGTAAGTGTCCCAGCTTAGATAATTGGACCTATTTTCAATATTGCAGAAAAGGAATAGACTGCAAATGCTTAGAGAACCATCCTGCCAATTGTGTCCCTCTGAGTCTTGGCGTTGTGTATACCTAGATTTGGAGTATCTCTCGATGATAGCTACATGTGTGGTCAATTTAGGACCCCTAATATTCAGTCAAAATGGATCGGGCCCACGGCCGTGTGCGGATCAGAGTAAACACAGTAAGAACCTGCTCACCCAATCGGATTCTTGGCCCCAAAATTCGTTGTTATGCTTACAACTCCTTACCGACTGTTATGACTCGCCTTGGGACTGCGCCGATTTGACCGGCCAAATCTTTACAATTTGGTCACCGCGGAGAGCAGAGTAGATAATCCCTCGCGAACGTCAAAAACCCCCTAGGAAACGCATCGTCTAGTAAGACTCATTCTACCCGATCCGACACTCCCGTGGCTCTTCAATGATTAAACCATATACCGCGTATAGCACTTGTCCCGTAGTCTCTAAGGTGACACACTCCTTCGTGCCTACTACATTTCACGGGACTGCGGCTTGTCTTCGCAGTAGGTCTGAACCCCATTCCGGAGGAGATATCGTCAATGTCTGCTTGCTCCGTGAAGGCGATGGTAAGATTCGCCCCTGGTTGTGTCCTACAACGCTAGACTGGAATGGCATTAAACGTGAGTGCGATTAATGAGAGCTTCCTCTGCGACTTTCACGGATGTTTCCTACATCTCTTTTACTCGTAGCAATCTTCCGTTCTCGTGACGTCTTCCTACCGAGGCCGCTAATAGGCGTATTTAACGTATACCCCCTGCAAGCAACCACGTATAAGTACTTCCCGGGGCCATGCAAATAGCTAGAAGGTCTGAATGTGAAACTTTTCAAACTGCCGCTTCGGGCCTTTATGCAAATGGCATATGACGCTCAACTAAAAGCCCCTTGCCGGTTCGGCTACCTTGGCAGCGTCAGACGAATAGTAACAGAAGGATTGGGGTTTCTAATCCTCCACTAACGACTCGAGAGAGATGGCCGTGCAGCAATCGCAGGCGAGCAGCTAACCATACATACGTAAGCTCCGGGTGCGCAGGGCGATTTCTGTAACAAGCCAAGGCTTTGTTAGCGCCCTGCGTCTTCGTCGAAGCGACCTATGGCTATAGTTCCCTAAAACATACCGTTGAGTATTCACGCTGCTTGTTCGCTAACCGACGTCTGTTGCTCAGACTATGCATGATACTTAGTGCCCATTGCTTTGGCACAATTTCAGTGACGTTAAACTGCTTTACTCCTCCAGGCAAGTCTCTAAAAACCGGTAGAGGGATGTTGCTAACCTACACAAATTACGGCTGAGTGCTGCTCCATATCTCTCTGAGCCGTTTCACTGGTCAGTCACTTCACGTGCGGACCCGTCCGCGAGGGATTGGCCCCGAGGAATACACCAGAACGGACGTAGTTGGCCCACATCTGGCCGGTTCAGAACCTAATGCCCGAGTCGGACTACAAGGATCCTTAAGGGGCGTGTGTCGCAAGCGCGCCGGGACCACTAACCTGTAGATTCAATCCGTCTTATGCAATACAGGTAAACGTTGCAGGCCCAGCGGTGGTCGGGATGTATTAATTCCGCAGTGTTGTGGAATACAGGAATCCGAGGCAAAACGGCACATCCCTTTGCATATTTTGCGCATCCGCGGGGACGTCGTTGAGGTATGGAGCAGAAAAAAAGAAGGCAGGCTGTTCCAATGGAGTTAGACCAACTACCCTCGGTCCACGTAAACTCGTGAGCAAAATCTCGGAACCCCCAAGCCCGGAAGTTCCGGGACTCAGCATACTACCGCGGAGATGCATGAGGCGGGATACACATTTCGGCGGACTACAGGCAGGCCCAACCCTGTATACTAGTAACTCTCCAACGAGGCCATAGACGTGCACACCGCTTGTCTCCCCGGTTGTATCCAACGTTGTTCCGCACAAACGCCTTATCTTTGATTTTTACTAATCCGAAGTACTGAGTGCGATGTGTATAACCTCGGAGAAAACTGGTCTTTACGGACATTTCGATAGCGGGAGTTTGGGTGATGCGCTCCACCTTTGAGCGCTGTCTGGCAGGTCGTAAGAGGTCACTGTTGGGGGGTGCCGCATCTAGAAGCCAGTGGCGGTCTGTGCGATTTTAATCGTCGAGTCCGCATGTGCTAGTCAACTATCCCTATTAGGTTTCCGTAGCTATGACAACTCTTGAGCGGGAAAGGGGTGCCCGCGGGTGAATCTTTTCGACCTCTGAGTGATCCGTGCGGAAGATTGAATATCTTCTCTACTAATATTCTATACTCCGGGGAGAACTACTTATTATTGCGGATAATCCTCCCATCTTTATAATCGGTCCTGAACCATAAGAAAATTTGTCATACCAGCAATTCCGCCACATGATACGAGCGCCCAACGGTGTGCTCTAAGGTGACGCCGGTATGGTAGAAGTACGTGTACAACGCTTCGAATACGCTATATCTAGTAGGTCCGAGGTACGAAACCTATTCCGTTCTCGGGATTGGACCGCATGGGTTCATCTAGGGGGCCCAGTAGGCGCCCACCCAAACTCCCGCATCACGTTTCACGTATGGGACGTCAGAACTAAAATTGCTCATAAATTAGTATGGCGCACACGTCAACTCACTGAGTCTTGTACACCATCCGGACTCATCCTGAGTGTGGGCTCTGAGGTACGAACAGCGTCACTGTTTTACGAGGTCGTGCAGCTGATGACCAAATCAAGAATCCACGAAGCTCGGTAGTACGGTACCTACTGCTCCGCCAACAGATCACCGTCGGGATCCTTTACTCTTCATAACGAAGACGCAACTTCCAGACACATGGATTGGTTGCTACTATGATGGACAATCTACGTGAGCATGACGCCTGCGGTGTGGCTTGTTAGTCTACTCACGAGAATGTACAAATCGCGTCGAGCTAGTTGTACCGAAGTAATTGGTCGGAACGTCCTTAGCCTGCCGTCTCGATATTCAGGTCCAACAGCGGTCTCTTACAAGTGTCTTAGTAGCGCGCTAGCAGATGCAGAGGTACAAGGTCTCTACATCGAGCGTCCGCACGCTGGAAGGTGCTATCTCTGGACCTCCTTTGCCGTCCTGCTAACGGAAAAGGAACTTAAGTCCGATTACGTCATTGTAAGGCCTTTCTCAAGTGGCGTATGGAGATGGCTTAGCGGTCGGCTAGATTGGCCGGTAGCGATTTCTGCAAACAAAATGCGAAGCGCGCCTGTATGTCCCCCCCCCTGAGGTGGGTACAGAGACAAGCCCTTCCGTTCTTGTAGCCTTAATTCCCAACGCGTACACACTTCTCCACGATTCAATACACAGGACTTTCGTGGAGGATTGGTTCATGCGCGTGGAAGTATAAGCATCCCTGTGGATGTACCAATAAGGGGACTGGAAACTGCCGCTGACTGGTTTATTTTACCGCGCGTCCTCTTTTGGGATAACGGAGGACGTCCTATAACCTGTTACAAATGATTAGGCAATTAATTCGCCAAACCCGTTGAGCCAGATACTGCGCGAGAGGGCTCGCGGTTAGCTCGCTATGTTGCGGCGGGAGAAGACAACTGATGTAGTTCGGTTTAGTGAGAGTGTCTTCTGACTAAGAGGGTTTTGTGCACTAACTGCGATAACGAACCACTTCCCCACTGCAACCAACCCTATCGGGGGCGTGTTCTTAGTTTGTAGCCGTCCAAATCATTCCCTACTACGACCATACTCGTCGAGGCGACCTCTTCGAGACCCGGTTTCGTTGCTTGTAAGGTTTAGAAATGAGACCGATTATGATAAGTGAACCACCTCGCCGCGGTCCGCGTGGCGAAGCCGTCCTACGGAGGAACCCAGTCAGTGTCCTCCTCCATCTAGTATGTGCTGCTCTAGCAGCTTGAGCTCCCGTGCGGCGCGTTTCCCAGTGGCTTCCCGTACGCTCGTTGGCGCCTCCAACGCCCTTTTGGGCCCGTGTATTCACGGTATAACGGTTTTGGCCACCTAATTCATCTATGAAATTGCTGCTGAATGCCCCTGTAGATAAGAGATGATGGCCTCTTTCCCTATTAAATCCCACTGGGAGCCATCAGCACCGCGTCCAGTGCGGCCGCCGCTTGTGACTCTTTTAATCAGTTAGTTTCACTACATGTAAGATCCGTGCTCCCTAGTACCCGAGTTAAGACACTATCACGTAGTTTGAGTGCGCGTCTCACGTCTACTTTCTATTGAGCCCTGCACATGGCGACGTTGCTTTTGTTTCCGCTACCCCTTAGGATATAAGATCAACAGAAGAATCGCTGAAGACCTGCCCTTCAAACTGGTATCACGCGTAATCAGCGCAATGGCAGAAGCTGCCGGTATCAATCTTCACTACTCTGCTTGCGAGAAGAAAGCGAGAGCACCTTACGCACCTACTTGGTTTCAGGCTACTTTTGTCGAAAATGCGTGTTGACATAGCACGTTGCATTAATTGGGTTAGGGATCGTTCCCGGGCAGAGATCGGGCACTAGGTTGGCCCGTGCGGACCGTCGATTGAGCAACTTATACGAGTGTAATAGGGACGATAGGCAACACTGGTGGGATACGTCCACTCTGGAATATGTTCGTAAATACATACGTATGGCGCGCGTCGGTGATACCAGCGGAGTATTGATTCCCAAGTTATTGCCAGTATCGGGGTAATAGGCCGGTTACTAGCTCGATGCAGTAACGCCGCCGGTCCGGACCTAGAATCCTCGGAGTGCTGCTCGCTTGCATGTAACTCGATTCCTCGCCACCAACTTTTCGACCCGTTATGTTATAGGGCGCGCGTTGCGCGGCCGACGCTTTGGTAGCGCTATGGGTTAGCTACTTCCATTGCAGGCATAACTCTGGGTTGCGTGATCCCCAGATCACGTTACATTCGGTGCTGACAATAGGCACAGCTTCTATGGAGCATATCGAGCTCTATGCTAGGTGGGCGCCTGGCAAATATGCATGGGTTATCACGCGGTCGAGTCCAACCGTACCCATGGGATTCTCTGGCTAGCCTCATGATTATAGTCTCGTCATCAACAGTCTGACCTCTGATCCGCACTCCATGCAGAAAACCGAAGTACCGAAGTAGAAGTTACGGATCCATGAGTTGTGGCGGCACGATTTGGACGCCGGAGATGGCTACAGCCCAATTCGTTGACAGATCAAAAGGTCCACGTCATGGACGTCCCTCAGCCGAGACGGTCGTTAGGGCGCCATCAAGTTGTTGTGATTGAAAGTGTTCAACTCTCGAGAGCCAAGGGCCCGAACACATAGGCACCAGTAGTCAAGCTGCGGGAGGCGACTTTTCCGTGGGTATTCAATCCGGGTGCTCATGCCTACAGAGAGTCAACATGCTAAGTCGTAACGTGTCACGCCCGTACTCAAAATGCGTCCCTCATCCGAACGAGCCACGGATGACTCTCTTAAGAGACTGATACTAACGCCATCGATCTGCGGTTTACCAAAGTCGGCCGTGTTGCACGTTTACTAATACCTTAGATGCGTGGGTCTACTCGGGTGATATCGCAGAGCTCTAGCTACATAGTCTACACCAGCATCCAGGGTCAAAGGCCGATGGGGGCCTGATGACAGGATATGCCCTGACTGATTCATAAATGGACTGGCTGGTCAATAGTGCGGGATATAATCGCCCTTTTTTTGTCCTAAAATATGGCGAGGGAGCGGTTACGGTTGGCGCCTACACCGACGTATGTGGAATAGCCACTGGAAGAGTACTGCGCGGTGGGTCTCGTAGGTAACCTGCCCCCTGTCATGGGGTCCCATATATCGACGGATCGAAGATTACACCATCTGGTCGTGTCATGCAGTTCTAAAGACCATTGGAGCTCCATATGGTCGTGTCCCCGTCCACTCAAAGGCAATGGATTACCCTGTCCGGGTTTCACTGGTCACAGTATGGAGACGCAAAGGGCACCGGACCCACCGACCTGGAAGCCATGGTACTCCGTACAGGTAATTAGACGTTCTCGGGGAGGCAACCACCGACGCTGACACTAGACTTACACATCATGGAGTTCTCGTAGGGTACAAGTCGGTCAAGGGGGGCCAAGGGGAGTCAGAGTCGCGGTTGAGACTGTTGCGGGGTAGCCCCGCCGAAAACGTTTGCCGTGCGGCGCCAACCTAGGATACGTAAGTGTACAAGAAAGGAAGTTTCTTGACTATCATTATTTGTCCCCCGTTTAGAAATAAGCCGAAAGCGTATCTAAAAGAGCAAGCACTTTAGGCTAGCATTTTGACAGCACTAAGCGACGCGTTGGACAGTTGCCCAAACGACGAAGAACTACGGTGACCTAACGCATTTAGCGAATGTATACGCCTCCAACCTCGCCCCAAGACACGATCACATCTCAATGGCTCAAAAAAAACACCTAGAGCTCGCGTAGTGCTAGGTCGGGGCCGCTGATGGGGTAGATGACTTACGAGACCCAAATCTCTGATGAATCTTTCAGGAGATGACC'\n",
    "# y='GGGGCAATGTATGGGACGGAGACCGGAACAATGGACCGTAAAGCCAGGTAACACAGCGAGAGTACGGTGTCTTGGTCGTAGGTTCCACTGCTTGGCGGACGATTGAGATTCTGCCCTAACCCGAAGAACCGTTAACCTATTAGGACGTGACGTCTATCCCTCGTTAACTACCACGGATGAATAGTCAGATACACTCTTTCGAAGAGCAGAACGTGGCCTTCGGACATATGGGCGGACCAGAACACCCCATCGTCTTACGGCTGGGAGGCCATAGCTCTCGCGCCCCCGACTTTTACACCAAATCGTTGCACTCGCGGAGAGCCGGATAGTAGTCTTCAACTCCTAGTCGGGGTGGCTTTCAGTCCTGCCTGGTGGGAAAAGAGAGCCTGTGCCACGGACGCCACCTAAACTCACAGATGTGCGCCGTGGCGAGGAACAGCCCAACAGTAATTGCAGTAGTATAACCCGTCTAGATTCCTACCTATAAGTAACCACATAAAAGATTAATTGATATCGGGCTACATGAAGCCTGCTATAGAGATACAAGGTTCTCTGACATAATAATGTGAGGCTACGCGCTCACACGTCATGCGTGCCGCCCTGAGAATATGTCCCACTCGTAGTGCTCAGCTAATGAATCCAGAGGGGATCTACAAAGTTATAAGTCGTCAGCATGTTTCCTGTTTTGAGGCAACTATATGCCGTGGCTATTACCGTACATGACTTTCCAACTAGGTACTTCAACGGTCATAGGTGAGCTAGTCAAGGAAGGCTATCGGTCGGCACGCCCTTCAGCCGGAGCGCAACATCCAGGCTTGGCTGGTCGTGGTCGACGGCAGAATCCCTCCTGACGATCGGGGTCAAACCTAAATTGTAGCACCATGGTCGGCATATTGCGCCTAGTGGGACCTCGCACAGGTGTATCAAAGCGCCCAGA'\n",
    "# semiAl(x,y,subMat,indel)"
   ]
  },
  {
   "cell_type": "code",
   "execution_count": null,
   "metadata": {},
   "outputs": [],
   "source": []
  },
  {
   "cell_type": "code",
   "execution_count": null,
   "metadata": {},
   "outputs": [],
   "source": []
  },
  {
   "cell_type": "code",
   "execution_count": null,
   "metadata": {},
   "outputs": [],
   "source": []
  },
  {
   "cell_type": "code",
   "execution_count": null,
   "metadata": {},
   "outputs": [],
   "source": []
  },
  {
   "cell_type": "code",
   "execution_count": null,
   "metadata": {},
   "outputs": [],
   "source": []
  },
  {
   "cell_type": "code",
   "execution_count": null,
   "metadata": {},
   "outputs": [],
   "source": []
  },
  {
   "cell_type": "code",
   "execution_count": null,
   "metadata": {},
   "outputs": [],
   "source": []
  },
  {
   "cell_type": "code",
   "execution_count": null,
   "metadata": {},
   "outputs": [],
   "source": [
    "#### Overlapping alignment"
   ]
  },
  {
   "cell_type": "code",
   "execution_count": 18,
   "metadata": {
    "ExecuteTime": {
     "end_time": "2020-10-21T23:33:33.186337Z",
     "start_time": "2020-10-21T23:33:33.133503Z"
    }
   },
   "outputs": [
    {
     "data": {
      "text/html": [
       "<div>\n",
       "<style scoped>\n",
       "    .dataframe tbody tr th:only-of-type {\n",
       "        vertical-align: middle;\n",
       "    }\n",
       "\n",
       "    .dataframe tbody tr th {\n",
       "        vertical-align: top;\n",
       "    }\n",
       "\n",
       "    .dataframe thead th {\n",
       "        text-align: right;\n",
       "    }\n",
       "</style>\n",
       "<table border=\"1\" class=\"dataframe\">\n",
       "  <thead>\n",
       "    <tr style=\"text-align: right;\">\n",
       "      <th></th>\n",
       "      <th>E</th>\n",
       "      <th>H</th>\n",
       "      <th>W</th>\n",
       "      <th>G</th>\n",
       "      <th>P</th>\n",
       "      <th>A</th>\n",
       "    </tr>\n",
       "  </thead>\n",
       "  <tbody>\n",
       "    <tr>\n",
       "      <th>E</th>\n",
       "      <td>1.0</td>\n",
       "      <td>-2.0</td>\n",
       "      <td>-2.0</td>\n",
       "      <td>-2.0</td>\n",
       "      <td>-2.0</td>\n",
       "      <td>-2.0</td>\n",
       "    </tr>\n",
       "    <tr>\n",
       "      <th>H</th>\n",
       "      <td>-2.0</td>\n",
       "      <td>1.0</td>\n",
       "      <td>-2.0</td>\n",
       "      <td>-2.0</td>\n",
       "      <td>-2.0</td>\n",
       "      <td>-2.0</td>\n",
       "    </tr>\n",
       "    <tr>\n",
       "      <th>W</th>\n",
       "      <td>-2.0</td>\n",
       "      <td>-2.0</td>\n",
       "      <td>1.0</td>\n",
       "      <td>-2.0</td>\n",
       "      <td>-2.0</td>\n",
       "      <td>-2.0</td>\n",
       "    </tr>\n",
       "    <tr>\n",
       "      <th>G</th>\n",
       "      <td>-2.0</td>\n",
       "      <td>-2.0</td>\n",
       "      <td>-2.0</td>\n",
       "      <td>1.0</td>\n",
       "      <td>-2.0</td>\n",
       "      <td>-2.0</td>\n",
       "    </tr>\n",
       "    <tr>\n",
       "      <th>P</th>\n",
       "      <td>-2.0</td>\n",
       "      <td>-2.0</td>\n",
       "      <td>-2.0</td>\n",
       "      <td>-2.0</td>\n",
       "      <td>1.0</td>\n",
       "      <td>-2.0</td>\n",
       "    </tr>\n",
       "    <tr>\n",
       "      <th>A</th>\n",
       "      <td>-2.0</td>\n",
       "      <td>-2.0</td>\n",
       "      <td>-2.0</td>\n",
       "      <td>-2.0</td>\n",
       "      <td>-2.0</td>\n",
       "      <td>1.0</td>\n",
       "    </tr>\n",
       "  </tbody>\n",
       "</table>\n",
       "</div>"
      ],
      "text/plain": [
       "     E    H    W    G    P    A\n",
       "E  1.0 -2.0 -2.0 -2.0 -2.0 -2.0\n",
       "H -2.0  1.0 -2.0 -2.0 -2.0 -2.0\n",
       "W -2.0 -2.0  1.0 -2.0 -2.0 -2.0\n",
       "G -2.0 -2.0 -2.0  1.0 -2.0 -2.0\n",
       "P -2.0 -2.0 -2.0 -2.0  1.0 -2.0\n",
       "A -2.0 -2.0 -2.0 -2.0 -2.0  1.0"
      ]
     },
     "execution_count": 18,
     "metadata": {},
     "output_type": "execute_result"
    }
   ],
   "source": [
    "x='PAWHEAE'\n",
    "y='HEAGAWGHEE'\n",
    "indel = -2\n",
    "subMat = createScorMat(match = 1,mismatch = -2,nts = list(set(y) | set(x)))\n",
    "subMat"
   ]
  },
  {
   "cell_type": "code",
   "execution_count": 29,
   "metadata": {
    "ExecuteTime": {
     "end_time": "2020-10-21T23:38:49.126271Z",
     "start_time": "2020-10-21T23:38:49.041818Z"
    }
   },
   "outputs": [],
   "source": [
    "smLocal,_ = scoringMatrix_local(y,x,subMat,indel)\n",
    "smGlobal = scoringMatrix_global(y,x,subMat,indel)"
   ]
  },
  {
   "cell_type": "code",
   "execution_count": 31,
   "metadata": {
    "ExecuteTime": {
     "end_time": "2020-10-21T23:38:54.317793Z",
     "start_time": "2020-10-21T23:38:54.284040Z"
    },
    "cell_style": "split"
   },
   "outputs": [
    {
     "data": {
      "text/html": [
       "<div>\n",
       "<style scoped>\n",
       "    .dataframe tbody tr th:only-of-type {\n",
       "        vertical-align: middle;\n",
       "    }\n",
       "\n",
       "    .dataframe tbody tr th {\n",
       "        vertical-align: top;\n",
       "    }\n",
       "\n",
       "    .dataframe thead th {\n",
       "        text-align: right;\n",
       "    }\n",
       "</style>\n",
       "<table border=\"1\" class=\"dataframe\">\n",
       "  <thead>\n",
       "    <tr style=\"text-align: right;\">\n",
       "      <th></th>\n",
       "      <th></th>\n",
       "      <th>H</th>\n",
       "      <th>E</th>\n",
       "      <th>A</th>\n",
       "      <th>G</th>\n",
       "      <th>A</th>\n",
       "      <th>W</th>\n",
       "      <th>G</th>\n",
       "      <th>H</th>\n",
       "      <th>E</th>\n",
       "      <th>E</th>\n",
       "    </tr>\n",
       "  </thead>\n",
       "  <tbody>\n",
       "    <tr>\n",
       "      <th></th>\n",
       "      <td>0.0</td>\n",
       "      <td>-2.0</td>\n",
       "      <td>-4.0</td>\n",
       "      <td>-6.0</td>\n",
       "      <td>-8.0</td>\n",
       "      <td>-10.0</td>\n",
       "      <td>-12.0</td>\n",
       "      <td>-14.0</td>\n",
       "      <td>-16.0</td>\n",
       "      <td>-18.0</td>\n",
       "      <td>-20.0</td>\n",
       "    </tr>\n",
       "    <tr>\n",
       "      <th>P</th>\n",
       "      <td>-2.0</td>\n",
       "      <td>-2.0</td>\n",
       "      <td>-4.0</td>\n",
       "      <td>-6.0</td>\n",
       "      <td>-8.0</td>\n",
       "      <td>-10.0</td>\n",
       "      <td>-12.0</td>\n",
       "      <td>-14.0</td>\n",
       "      <td>-16.0</td>\n",
       "      <td>-18.0</td>\n",
       "      <td>-20.0</td>\n",
       "    </tr>\n",
       "    <tr>\n",
       "      <th>A</th>\n",
       "      <td>-4.0</td>\n",
       "      <td>-4.0</td>\n",
       "      <td>-4.0</td>\n",
       "      <td>-3.0</td>\n",
       "      <td>-5.0</td>\n",
       "      <td>-7.0</td>\n",
       "      <td>-9.0</td>\n",
       "      <td>-11.0</td>\n",
       "      <td>-13.0</td>\n",
       "      <td>-15.0</td>\n",
       "      <td>-17.0</td>\n",
       "    </tr>\n",
       "    <tr>\n",
       "      <th>W</th>\n",
       "      <td>-6.0</td>\n",
       "      <td>-6.0</td>\n",
       "      <td>-6.0</td>\n",
       "      <td>-5.0</td>\n",
       "      <td>-5.0</td>\n",
       "      <td>-7.0</td>\n",
       "      <td>-6.0</td>\n",
       "      <td>-8.0</td>\n",
       "      <td>-10.0</td>\n",
       "      <td>-12.0</td>\n",
       "      <td>-14.0</td>\n",
       "    </tr>\n",
       "    <tr>\n",
       "      <th>H</th>\n",
       "      <td>-8.0</td>\n",
       "      <td>-5.0</td>\n",
       "      <td>-7.0</td>\n",
       "      <td>-7.0</td>\n",
       "      <td>-7.0</td>\n",
       "      <td>-7.0</td>\n",
       "      <td>-8.0</td>\n",
       "      <td>-8.0</td>\n",
       "      <td>-7.0</td>\n",
       "      <td>-9.0</td>\n",
       "      <td>-11.0</td>\n",
       "    </tr>\n",
       "    <tr>\n",
       "      <th>E</th>\n",
       "      <td>-10.0</td>\n",
       "      <td>-7.0</td>\n",
       "      <td>-4.0</td>\n",
       "      <td>-6.0</td>\n",
       "      <td>-8.0</td>\n",
       "      <td>-9.0</td>\n",
       "      <td>-9.0</td>\n",
       "      <td>-10.0</td>\n",
       "      <td>-9.0</td>\n",
       "      <td>-6.0</td>\n",
       "      <td>-8.0</td>\n",
       "    </tr>\n",
       "    <tr>\n",
       "      <th>A</th>\n",
       "      <td>-12.0</td>\n",
       "      <td>-9.0</td>\n",
       "      <td>-6.0</td>\n",
       "      <td>-3.0</td>\n",
       "      <td>-5.0</td>\n",
       "      <td>-7.0</td>\n",
       "      <td>-9.0</td>\n",
       "      <td>-11.0</td>\n",
       "      <td>-11.0</td>\n",
       "      <td>-8.0</td>\n",
       "      <td>-8.0</td>\n",
       "    </tr>\n",
       "    <tr>\n",
       "      <th>E</th>\n",
       "      <td>-14.0</td>\n",
       "      <td>-11.0</td>\n",
       "      <td>-8.0</td>\n",
       "      <td>-5.0</td>\n",
       "      <td>-5.0</td>\n",
       "      <td>-7.0</td>\n",
       "      <td>-9.0</td>\n",
       "      <td>-11.0</td>\n",
       "      <td>-13.0</td>\n",
       "      <td>-10.0</td>\n",
       "      <td>-7.0</td>\n",
       "    </tr>\n",
       "  </tbody>\n",
       "</table>\n",
       "</div>"
      ],
      "text/plain": [
       "            H    E    A    G     A     W     G     H     E     E\n",
       "    0.0  -2.0 -4.0 -6.0 -8.0 -10.0 -12.0 -14.0 -16.0 -18.0 -20.0\n",
       "P  -2.0  -2.0 -4.0 -6.0 -8.0 -10.0 -12.0 -14.0 -16.0 -18.0 -20.0\n",
       "A  -4.0  -4.0 -4.0 -3.0 -5.0  -7.0  -9.0 -11.0 -13.0 -15.0 -17.0\n",
       "W  -6.0  -6.0 -6.0 -5.0 -5.0  -7.0  -6.0  -8.0 -10.0 -12.0 -14.0\n",
       "H  -8.0  -5.0 -7.0 -7.0 -7.0  -7.0  -8.0  -8.0  -7.0  -9.0 -11.0\n",
       "E -10.0  -7.0 -4.0 -6.0 -8.0  -9.0  -9.0 -10.0  -9.0  -6.0  -8.0\n",
       "A -12.0  -9.0 -6.0 -3.0 -5.0  -7.0  -9.0 -11.0 -11.0  -8.0  -8.0\n",
       "E -14.0 -11.0 -8.0 -5.0 -5.0  -7.0  -9.0 -11.0 -13.0 -10.0  -7.0"
      ]
     },
     "execution_count": 31,
     "metadata": {},
     "output_type": "execute_result"
    }
   ],
   "source": [
    "vizScoringMat(y,x,smGlobal)"
   ]
  },
  {
   "cell_type": "code",
   "execution_count": 32,
   "metadata": {
    "ExecuteTime": {
     "end_time": "2020-10-21T23:38:59.676530Z",
     "start_time": "2020-10-21T23:38:59.625186Z"
    },
    "cell_style": "split"
   },
   "outputs": [
    {
     "data": {
      "text/html": [
       "<div>\n",
       "<style scoped>\n",
       "    .dataframe tbody tr th:only-of-type {\n",
       "        vertical-align: middle;\n",
       "    }\n",
       "\n",
       "    .dataframe tbody tr th {\n",
       "        vertical-align: top;\n",
       "    }\n",
       "\n",
       "    .dataframe thead th {\n",
       "        text-align: right;\n",
       "    }\n",
       "</style>\n",
       "<table border=\"1\" class=\"dataframe\">\n",
       "  <thead>\n",
       "    <tr style=\"text-align: right;\">\n",
       "      <th></th>\n",
       "      <th></th>\n",
       "      <th>H</th>\n",
       "      <th>E</th>\n",
       "      <th>A</th>\n",
       "      <th>G</th>\n",
       "      <th>A</th>\n",
       "      <th>W</th>\n",
       "      <th>G</th>\n",
       "      <th>H</th>\n",
       "      <th>E</th>\n",
       "      <th>E</th>\n",
       "    </tr>\n",
       "  </thead>\n",
       "  <tbody>\n",
       "    <tr>\n",
       "      <th></th>\n",
       "      <td>0.0</td>\n",
       "      <td>0.0</td>\n",
       "      <td>0.0</td>\n",
       "      <td>0.0</td>\n",
       "      <td>0.0</td>\n",
       "      <td>0.0</td>\n",
       "      <td>0.0</td>\n",
       "      <td>0.0</td>\n",
       "      <td>0.0</td>\n",
       "      <td>0.0</td>\n",
       "      <td>0.0</td>\n",
       "    </tr>\n",
       "    <tr>\n",
       "      <th>P</th>\n",
       "      <td>0.0</td>\n",
       "      <td>0.0</td>\n",
       "      <td>0.0</td>\n",
       "      <td>0.0</td>\n",
       "      <td>0.0</td>\n",
       "      <td>0.0</td>\n",
       "      <td>0.0</td>\n",
       "      <td>0.0</td>\n",
       "      <td>0.0</td>\n",
       "      <td>0.0</td>\n",
       "      <td>0.0</td>\n",
       "    </tr>\n",
       "    <tr>\n",
       "      <th>A</th>\n",
       "      <td>0.0</td>\n",
       "      <td>0.0</td>\n",
       "      <td>0.0</td>\n",
       "      <td>1.0</td>\n",
       "      <td>0.0</td>\n",
       "      <td>1.0</td>\n",
       "      <td>0.0</td>\n",
       "      <td>0.0</td>\n",
       "      <td>0.0</td>\n",
       "      <td>0.0</td>\n",
       "      <td>0.0</td>\n",
       "    </tr>\n",
       "    <tr>\n",
       "      <th>W</th>\n",
       "      <td>0.0</td>\n",
       "      <td>0.0</td>\n",
       "      <td>0.0</td>\n",
       "      <td>0.0</td>\n",
       "      <td>0.0</td>\n",
       "      <td>0.0</td>\n",
       "      <td>2.0</td>\n",
       "      <td>0.0</td>\n",
       "      <td>0.0</td>\n",
       "      <td>0.0</td>\n",
       "      <td>0.0</td>\n",
       "    </tr>\n",
       "    <tr>\n",
       "      <th>H</th>\n",
       "      <td>0.0</td>\n",
       "      <td>1.0</td>\n",
       "      <td>0.0</td>\n",
       "      <td>0.0</td>\n",
       "      <td>0.0</td>\n",
       "      <td>0.0</td>\n",
       "      <td>0.0</td>\n",
       "      <td>0.0</td>\n",
       "      <td>1.0</td>\n",
       "      <td>0.0</td>\n",
       "      <td>0.0</td>\n",
       "    </tr>\n",
       "    <tr>\n",
       "      <th>E</th>\n",
       "      <td>0.0</td>\n",
       "      <td>0.0</td>\n",
       "      <td>2.0</td>\n",
       "      <td>0.0</td>\n",
       "      <td>0.0</td>\n",
       "      <td>0.0</td>\n",
       "      <td>0.0</td>\n",
       "      <td>0.0</td>\n",
       "      <td>0.0</td>\n",
       "      <td>2.0</td>\n",
       "      <td>1.0</td>\n",
       "    </tr>\n",
       "    <tr>\n",
       "      <th>A</th>\n",
       "      <td>0.0</td>\n",
       "      <td>0.0</td>\n",
       "      <td>0.0</td>\n",
       "      <td>3.0</td>\n",
       "      <td>1.0</td>\n",
       "      <td>1.0</td>\n",
       "      <td>0.0</td>\n",
       "      <td>0.0</td>\n",
       "      <td>0.0</td>\n",
       "      <td>0.0</td>\n",
       "      <td>0.0</td>\n",
       "    </tr>\n",
       "    <tr>\n",
       "      <th>E</th>\n",
       "      <td>0.0</td>\n",
       "      <td>0.0</td>\n",
       "      <td>1.0</td>\n",
       "      <td>1.0</td>\n",
       "      <td>1.0</td>\n",
       "      <td>0.0</td>\n",
       "      <td>0.0</td>\n",
       "      <td>0.0</td>\n",
       "      <td>0.0</td>\n",
       "      <td>1.0</td>\n",
       "      <td>1.0</td>\n",
       "    </tr>\n",
       "  </tbody>\n",
       "</table>\n",
       "</div>"
      ],
      "text/plain": [
       "          H    E    A    G    A    W    G    H    E    E\n",
       "   0.0  0.0  0.0  0.0  0.0  0.0  0.0  0.0  0.0  0.0  0.0\n",
       "P  0.0  0.0  0.0  0.0  0.0  0.0  0.0  0.0  0.0  0.0  0.0\n",
       "A  0.0  0.0  0.0  1.0  0.0  1.0  0.0  0.0  0.0  0.0  0.0\n",
       "W  0.0  0.0  0.0  0.0  0.0  0.0  2.0  0.0  0.0  0.0  0.0\n",
       "H  0.0  1.0  0.0  0.0  0.0  0.0  0.0  0.0  1.0  0.0  0.0\n",
       "E  0.0  0.0  2.0  0.0  0.0  0.0  0.0  0.0  0.0  2.0  1.0\n",
       "A  0.0  0.0  0.0  3.0  1.0  1.0  0.0  0.0  0.0  0.0  0.0\n",
       "E  0.0  0.0  1.0  1.0  1.0  0.0  0.0  0.0  0.0  1.0  1.0"
      ]
     },
     "execution_count": 32,
     "metadata": {},
     "output_type": "execute_result"
    }
   ],
   "source": [
    "vizScoringMat(y,x,smLocal)"
   ]
  },
  {
   "cell_type": "code",
   "execution_count": null,
   "metadata": {},
   "outputs": [],
   "source": []
  },
  {
   "cell_type": "code",
   "execution_count": null,
   "metadata": {},
   "outputs": [],
   "source": []
  },
  {
   "cell_type": "code",
   "execution_count": null,
   "metadata": {},
   "outputs": [],
   "source": []
  },
  {
   "cell_type": "code",
   "execution_count": null,
   "metadata": {},
   "outputs": [],
   "source": []
  },
  {
   "cell_type": "markdown",
   "metadata": {},
   "source": [
    "#### Try this implementation later\n",
    "\n",
    "https://academic.oup.com/bioinformatics/article/19/suppl_1/i54/227687"
   ]
  },
  {
   "cell_type": "code",
   "execution_count": null,
   "metadata": {},
   "outputs": [],
   "source": []
  },
  {
   "cell_type": "code",
   "execution_count": null,
   "metadata": {},
   "outputs": [],
   "source": []
  },
  {
   "cell_type": "markdown",
   "metadata": {},
   "source": [
    "### My implementation"
   ]
  },
  {
   "cell_type": "code",
   "execution_count": 4,
   "metadata": {
    "ExecuteTime": {
     "end_time": "2020-10-17T22:39:55.283605Z",
     "start_time": "2020-10-17T22:39:55.272271Z"
    }
   },
   "outputs": [
    {
     "data": {
      "text/plain": [
       "'GTAGGCTTAAGGTTA'"
      ]
     },
     "execution_count": 4,
     "metadata": {},
     "output_type": "execute_result"
    }
   ],
   "source": [
    "m = len(x)\n",
    "n = len(y)\n",
    "whichMax = np.argmax([m,n])\n",
    "if whichMax == 0:\n",
    "    target,query = x,y\n",
    "\n",
    "else:\n",
    "    target,query = y,x\n",
    "target"
   ]
  },
  {
   "cell_type": "code",
   "execution_count": 143,
   "metadata": {
    "ExecuteTime": {
     "end_time": "2020-10-16T22:53:00.343671Z",
     "start_time": "2020-10-16T22:53:00.319505Z"
    }
   },
   "outputs": [
    {
     "data": {
      "text/plain": [
       "{'GTA': [0],\n",
       " 'TAG': [1],\n",
       " 'AGG': [2, 9],\n",
       " 'GGC': [3],\n",
       " 'GCT': [4],\n",
       " 'CTT': [5],\n",
       " 'TTA': [6, 12],\n",
       " 'TAA': [7],\n",
       " 'AAG': [8],\n",
       " 'GGT': [10],\n",
       " 'GTT': [11]}"
      ]
     },
     "execution_count": 143,
     "metadata": {},
     "output_type": "execute_result"
    }
   ],
   "source": [
    "def makeIndex(target,k=3):\n",
    "    k = 3\n",
    "    index = {}\n",
    "    for _ in range(0,len(target)-2):\n",
    "        kmer = target[_:_+k]\n",
    "        if index.get(kmer) == None:\n",
    "            index[kmer] = [_]\n",
    "        else:\n",
    "            index[kmer].append(_)\n",
    "    return index\n",
    "index = makeIndex(target,k=3)\n",
    "index"
   ]
  },
  {
   "cell_type": "code",
   "execution_count": 29,
   "metadata": {
    "ExecuteTime": {
     "end_time": "2020-10-17T22:47:38.836066Z",
     "start_time": "2020-10-17T22:47:38.755167Z"
    }
   },
   "outputs": [
    {
     "ename": "NameError",
     "evalue": "name 'k' is not defined",
     "output_type": "error",
     "traceback": [
      "\u001b[0;31m---------------------------------------------------------------------------\u001b[0m",
      "\u001b[0;31mNameError\u001b[0m                                 Traceback (most recent call last)",
      "\u001b[0;32m<ipython-input-29-12939e689b1b>\u001b[0m in \u001b[0;36m<module>\u001b[0;34m\u001b[0m\n\u001b[1;32m      1\u001b[0m \u001b[0mkmers\u001b[0m \u001b[0;34m=\u001b[0m \u001b[0;34m[\u001b[0m\u001b[0;34m]\u001b[0m\u001b[0;34m\u001b[0m\u001b[0;34m\u001b[0m\u001b[0m\n\u001b[1;32m      2\u001b[0m \u001b[0;32mfor\u001b[0m \u001b[0m_\u001b[0m \u001b[0;32min\u001b[0m \u001b[0mrange\u001b[0m\u001b[0;34m(\u001b[0m\u001b[0;36m0\u001b[0m\u001b[0;34m,\u001b[0m\u001b[0mlen\u001b[0m\u001b[0;34m(\u001b[0m\u001b[0mquery\u001b[0m\u001b[0;34m)\u001b[0m\u001b[0;34m-\u001b[0m\u001b[0;36m2\u001b[0m\u001b[0;34m)\u001b[0m\u001b[0;34m:\u001b[0m\u001b[0;34m\u001b[0m\u001b[0;34m\u001b[0m\u001b[0m\n\u001b[0;32m----> 3\u001b[0;31m     \u001b[0mkmers\u001b[0m\u001b[0;34m.\u001b[0m\u001b[0mappend\u001b[0m\u001b[0;34m(\u001b[0m\u001b[0mquery\u001b[0m\u001b[0;34m[\u001b[0m\u001b[0m_\u001b[0m\u001b[0;34m:\u001b[0m\u001b[0m_\u001b[0m\u001b[0;34m+\u001b[0m\u001b[0mk\u001b[0m\u001b[0;34m]\u001b[0m\u001b[0;34m)\u001b[0m\u001b[0;34m\u001b[0m\u001b[0;34m\u001b[0m\u001b[0m\n\u001b[0m\u001b[1;32m      4\u001b[0m \u001b[0mkmers\u001b[0m\u001b[0;34m\u001b[0m\u001b[0;34m\u001b[0m\u001b[0m\n",
      "\u001b[0;31mNameError\u001b[0m: name 'k' is not defined"
     ]
    }
   ],
   "source": [
    "kmers = []\n",
    "for _ in range(0,len(query)-2):\n",
    "    kmers.append(query[_:_+k])\n",
    "kmers"
   ]
  },
  {
   "cell_type": "code",
   "execution_count": 153,
   "metadata": {
    "ExecuteTime": {
     "end_time": "2020-10-16T22:56:39.942015Z",
     "start_time": "2020-10-16T22:56:39.918678Z"
    }
   },
   "outputs": [
    {
     "data": {
      "text/plain": [
       "[1]"
      ]
     },
     "execution_count": 153,
     "metadata": {},
     "output_type": "execute_result"
    }
   ],
   "source": [
    "index.get(kmers[0])"
   ]
  },
  {
   "cell_type": "code",
   "execution_count": 162,
   "metadata": {
    "ExecuteTime": {
     "end_time": "2020-10-16T22:57:37.640088Z",
     "start_time": "2020-10-16T22:57:37.598311Z"
    }
   },
   "outputs": [
    {
     "data": {
      "text/plain": [
       "('TAGGCTTAAGGTTA', 'TA-G----A---TA', -2.0)"
      ]
     },
     "execution_count": 162,
     "metadata": {},
     "output_type": "execute_result"
    }
   ],
   "source": [
    "globAl(target[1:],query,subMat,indel)"
   ]
  },
  {
   "cell_type": "code",
   "execution_count": null,
   "metadata": {},
   "outputs": [],
   "source": []
  }
 ],
 "metadata": {
  "kernelspec": {
   "display_name": "Python 3",
   "language": "python",
   "name": "python3"
  },
  "language_info": {
   "codemirror_mode": {
    "name": "ipython",
    "version": 3
   },
   "file_extension": ".py",
   "mimetype": "text/x-python",
   "name": "python",
   "nbconvert_exporter": "python",
   "pygments_lexer": "ipython3",
   "version": "3.7.6"
  },
  "varInspector": {
   "cols": {
    "lenName": 16,
    "lenType": 16,
    "lenVar": 40
   },
   "kernels_config": {
    "python": {
     "delete_cmd_postfix": "",
     "delete_cmd_prefix": "del ",
     "library": "var_list.py",
     "varRefreshCmd": "print(var_dic_list())"
    },
    "r": {
     "delete_cmd_postfix": ") ",
     "delete_cmd_prefix": "rm(",
     "library": "var_list.r",
     "varRefreshCmd": "cat(var_dic_list()) "
    }
   },
   "types_to_exclude": [
    "module",
    "function",
    "builtin_function_or_method",
    "instance",
    "_Feature"
   ],
   "window_display": false
  }
 },
 "nbformat": 4,
 "nbformat_minor": 4
}
