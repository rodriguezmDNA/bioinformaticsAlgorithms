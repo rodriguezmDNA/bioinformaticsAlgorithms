{
 "cells": [
  {
   "cell_type": "markdown",
   "metadata": {},
   "source": [
    "__Video resources__\n",
    "\n",
    "* https://www.youtube.com/watch?v=ZBD9he4Zp1E\n",
    "* https://www.youtube.com/watch?v=Npv180dQ_4Y\n",
    "* https://www.youtube.com/watch?v=NqYY0PJbD3s\n",
    "\n",
    "\n",
    "\n",
    "__Read this__\n",
    "* http://csbio.unc.edu/mcmillan/Comp555S16/Lecture14.html\n",
    "* https://www.cs.cmu.edu/~ckingsf/bioinfo-lectures/gaps.pdf\n",
    "* http://www.bioinfo.rpi.edu/bystrc/courses/biol4540/lecture4.pdf"
   ]
  },
  {
   "cell_type": "code",
   "execution_count": 1,
   "metadata": {
    "ExecuteTime": {
     "end_time": "2020-11-05T02:31:24.886393Z",
     "start_time": "2020-11-05T02:31:24.503569Z"
    }
   },
   "outputs": [],
   "source": [
    "import pandas as pd\n",
    "import numpy as np\n",
    "def createScorMat(match = 1,mismatch = 0,nts = ['A','C','T','G']):\n",
    "    \"\"\"\n",
    "    Create scoring matrix for nucleotides with a given match and mismatch values\n",
    "    \"\"\"\n",
    "    scoringMatrix = np.zeros((len(nts),len(nts)),)\n",
    "    np.fill_diagonal(scoringMatrix,match)\n",
    "    scoringMatrix\n",
    "    scoringMatrix[scoringMatrix == 0] = mismatch\n",
    "    scoringMatrix = pd.DataFrame(scoringMatrix,index=nts,columns=nts)\n",
    "    return scoringMatrix\n",
    "\n",
    "#### Dynamic programming implementation\n",
    "def scoringMatrix_local(x,y,subMat,indel):\n",
    "    m = len(x) + 1\n",
    "    n = len(y) + 1\n",
    "    globMax = (0,0)\n",
    "    scoringMat=np.zeros((n,m))\n",
    "    for i in range(1,m):\n",
    "        #print(x[i-1])\n",
    "        for j in range(1,n):\n",
    "            if x[i-1] == y[j-1]:\n",
    "                #scoringMat[j-1][i-1] + subMat.loc[x[i-1]][y[j-1]]\n",
    "                scoringMat[j][i] = scoringMat[j-1][i-1] + subMat.loc[x[i-1]][y[j-1]]\n",
    "            else:\n",
    "                mismatch = scoringMat[j-1][i-1] + subMat.loc[x[i-1]][y[j-1]]\n",
    "                left = scoringMat[j-1][i] + indel\n",
    "                up = scoringMat[j][i-1] + indel\n",
    "                scoringMat[j][i] = max(mismatch,left,up,0)\n",
    "            if scoringMat[j][i] >= scoringMat[globMax[1]][globMax[0]]:\n",
    "                globMax = (i,j)\n",
    "    return scoringMat,globMax\n",
    "\n",
    "\n",
    "def scoringMatrix_global(x,y,subMat,indel):\n",
    "    m = len(x) + 1\n",
    "    n = len(y) + 1\n",
    "    scoringMat=np.zeros((n,m))\n",
    "    scoringMat[:][0] = [0] + list(np.cumsum([indel for _ in x]))\n",
    "    scoringMat[:,0] = [0] + list(np.cumsum([indel for _ in y]))\n",
    "    for i in range(1,m):\n",
    "        #print(x[i-1])\n",
    "        for j in range(1,n):\n",
    "            if x[i-1] == y[j-1]:\n",
    "                #scoringMat[j-1][i-1] + subMat.loc[x[i-1]][y[j-1]]\n",
    "                scoringMat[j][i] = scoringMat[j-1][i-1] + subMat.loc[x[i-1]][y[j-1]]\n",
    "            else:\n",
    "                mismatch = scoringMat[j-1][i-1] + subMat.loc[x[i-1]][y[j-1]]\n",
    "                left = scoringMat[j-1][i] + indel\n",
    "                up = scoringMat[j][i-1] + indel\n",
    "                scoringMat[j][i] = max(mismatch,left,up)\n",
    "    return scoringMat\n",
    "\n",
    "\n",
    "def backtrack_local(x,y,sm,maxLocs):\n",
    "    i = maxLocs[0]\n",
    "    j = maxLocs[1]\n",
    "    w=''\n",
    "    z=''\n",
    "    z,w\n",
    "    while i*j > 0:\n",
    "        if x[i-1] == y[j-1]:\n",
    "            w += x[i-1]\n",
    "            z += y[j-1]\n",
    "            i -= 1\n",
    "            j -= 1\n",
    "        else:\n",
    "            left = sm[j-1][i]\n",
    "            up = sm[j][i-1]\n",
    "            diag = sm[j-1][i-1]\n",
    "            whichmax = np.argmax([left,up,diag])\n",
    "            if whichmax == 0:\n",
    "                w += '-'\n",
    "                z += y[j-1]\n",
    "                j -= 1\n",
    "            elif whichmax == 1:\n",
    "                z += '-'\n",
    "                w += x[i-1]\n",
    "                i -= 1\n",
    "            else:\n",
    "                w += x[i-1]\n",
    "                z += y[j-1]\n",
    "                i -= 1\n",
    "                j -= 1\n",
    "        if sm[j][i] == 0:\n",
    "            break\n",
    "    return w[::-1],z[::-1]\n",
    "\n",
    "def backtrack_global(x,y,sm,subMat,indel):\n",
    "    i = len(x)\n",
    "    j = len(y)\n",
    "    w=''\n",
    "    z=''\n",
    "    z,w\n",
    "    while i*j > 0:\n",
    "        if x[i-1] == y[j-1]:\n",
    "            w += x[i-1]\n",
    "            z += y[j-1]\n",
    "            i -= 1\n",
    "            j -= 1\n",
    "        else:\n",
    "            left = sm[j-1][i] + indel\n",
    "            up = sm[j][i-1] + indel\n",
    "            diag = sm[j-1][i-1] + subMat.loc[x[i-1]][y[j-1]]\n",
    "            whichmax = np.argmax([left,up,diag])\n",
    "            if whichmax == 0:\n",
    "                w += '-'\n",
    "                z += y[j-1]\n",
    "                j -= 1\n",
    "            elif whichmax == 1:\n",
    "                z += '-'\n",
    "                w += x[i-1]\n",
    "                i -= 1\n",
    "            else:\n",
    "                w += x[i-1]\n",
    "                z += y[j-1]\n",
    "                i -= 1\n",
    "                j -= 1\n",
    "    if j==0 and i>0:\n",
    "        w = x[:i]+w[::-1]\n",
    "        z = '-' * i + z[::-1]\n",
    "    elif i==0 and j>0:\n",
    "        z = y[:i]+z[::-1]\n",
    "        w = '-' * j + w[::-1]\n",
    "    else:\n",
    "        w = w[::-1]\n",
    "        z = z[::-1]\n",
    "    return w,z\n",
    "\n",
    "def locAl(x,y,subMat,indel):\n",
    "    '''\n",
    "    A wrapper for DP implementation of Smith-Waterman\n",
    "    '''\n",
    "    sm, maxLocs = scoringMatrix_local(x,y,subMat,indel)\n",
    "    z,w = backtrack_local(x,y,sm,maxLocs)\n",
    "    return z,w,sm[maxLocs[1],maxLocs[0]],sm\n",
    "\n",
    "def globAl(x,y,subMat,indel):\n",
    "    '''\n",
    "    A wrapper for DP implementation of Smith-Waterman\n",
    "    '''\n",
    "    sm = scoringMatrix_global(x,y,subMat,indel)\n",
    "    z,w = backtrack_global(x,y,sm,subMat,indel)\n",
    "    return z,w,sm[len(y),len(x)]\n",
    "\n",
    "def vizScoringMat(x,y,scoringMat):\n",
    "    return pd.DataFrame(scoringMat,index=['']+[_ for _ in y],\n",
    "             columns=['']+[_ for _ in x])\n",
    "\n",
    "def readBlosum62():\n",
    "    '''\n",
    "    Read scoring matrix\n",
    "    '''\n",
    "    with open('blosum62.txt') as matrix_file:\n",
    "        matrix = matrix_file.read()\n",
    "        lines = matrix.strip().split('\\n')\n",
    "\n",
    "    blosum={}\n",
    "    cols = lines[0].split()\n",
    "\n",
    "    for row in lines[1:]:       \n",
    "        idx = row[0]\n",
    "        vals = row[1:].split()\n",
    "        vals = [int(_) for _ in vals]\n",
    "        #print(idx,vals)\n",
    "        blosum[idx]=vals\n",
    "\n",
    "    blosum = pd.DataFrame.from_dict(blosum,orient='index',columns=cols)\n",
    "    return blosum"
   ]
  },
  {
   "cell_type": "code",
   "execution_count": 2,
   "metadata": {
    "ExecuteTime": {
     "end_time": "2020-11-04T00:59:40.420414Z",
     "start_time": "2020-11-04T00:59:40.407702Z"
    }
   },
   "outputs": [],
   "source": [
    "blosum = readBlosum62()"
   ]
  },
  {
   "cell_type": "code",
   "execution_count": 3,
   "metadata": {
    "ExecuteTime": {
     "end_time": "2020-11-04T00:59:40.617343Z",
     "start_time": "2020-11-04T00:59:40.592138Z"
    }
   },
   "outputs": [
    {
     "data": {
      "text/plain": [
       "('PRT',\n",
       " 'PRT',\n",
       " 17.0,\n",
       " array([[ 0.,  0.,  0.,  0.,  0.,  0.,  0.,  0.],\n",
       "        [ 0.,  7.,  0.,  0.,  0.,  0.,  0.,  0.],\n",
       "        [ 0.,  0., 12.,  4.,  0.,  0.,  0.,  0.],\n",
       "        [ 0.,  0.,  4., 17.,  9.,  1.,  0.,  1.],\n",
       "        [ 0.,  0.,  0.,  9., 14.,  6.,  0.,  0.],\n",
       "        [ 0.,  7.,  0.,  1.,  8., 11.,  4.,  0.],\n",
       "        [ 0.,  0.,  6.,  1.,  1.,  6., 12.,  8.],\n",
       "        [ 0.,  0.,  0.,  5.,  6.,  0.,  6., 12.],\n",
       "        [ 0.,  0.,  0.,  0.,  2., 10.,  2.,  4.],\n",
       "        [ 0.,  0.,  0.,  0.,  0.,  2., 16.,  8.]]))"
      ]
     },
     "execution_count": 3,
     "metadata": {},
     "output_type": "execute_result"
    }
   ],
   "source": [
    "### Example from https://www.bioinformaticsalgorithms.org/bioinformatics-chapter-5\n",
    "## Problem 3: Overlap Alignment\n",
    "x='PRTEINS'\n",
    "y='PRTWPSEIN'\n",
    "indel = -8\n",
    "subMat = blosum\n",
    "locAl(x,y,subMat,indel)"
   ]
  },
  {
   "cell_type": "code",
   "execution_count": 25,
   "metadata": {
    "ExecuteTime": {
     "end_time": "2020-11-04T01:06:32.250558Z",
     "start_time": "2020-11-04T01:06:32.232169Z"
    }
   },
   "outputs": [
    {
     "data": {
      "text/plain": [
       "(('ATTGACCTGA', 'A-T--CCTGA', 4.0),)"
      ]
     },
     "execution_count": 25,
     "metadata": {},
     "output_type": "execute_result"
    }
   ],
   "source": [
    "### Example from https://www.bioinformaticsalgorithms.org/bioinformatics-chapter-5\n",
    "## Problem 3: Overlap Alignment\n",
    "x='ATTGACCTGA'\n",
    "y='ATCCTGA'\n",
    "indel = -1\n",
    "gap = -1\n",
    "subMat = createScorMat(match = 1,mismatch = -2,nts = list(set(y) | set(x)))\n",
    "globAl(x,y,subMat,indel),"
   ]
  },
  {
   "cell_type": "code",
   "execution_count": 4,
   "metadata": {
    "ExecuteTime": {
     "end_time": "2020-11-04T00:59:43.936105Z",
     "start_time": "2020-11-04T00:59:43.916484Z"
    }
   },
   "outputs": [
    {
     "data": {
      "text/plain": [
       "('PRTEINS', 'PS-EIN-')"
      ]
     },
     "execution_count": 4,
     "metadata": {},
     "output_type": "execute_result"
    }
   ],
   "source": [
    "### Example from https://www.bioinformaticsalgorithms.org/bioinformatics-chapter-5\n",
    "## Problem 3: Overlap Alignment\n",
    "x='PRTEINS'\n",
    "y='PRTWPSEIN'\n",
    "indel = -11\n",
    "gap = -1\n",
    "subMat = blosum\n",
    "sm,_ = scoringMatrix_local(x,y,subMat,indel)\n",
    "backtrack_local(x,y,sm,(len(x),len(y)))"
   ]
  },
  {
   "cell_type": "code",
   "execution_count": 24,
   "metadata": {
    "ExecuteTime": {
     "end_time": "2020-11-03T03:25:15.609409Z",
     "start_time": "2020-11-03T03:25:15.602920Z"
    }
   },
   "outputs": [
    {
     "data": {
      "text/plain": [
       "(7, 9)"
      ]
     },
     "execution_count": 24,
     "metadata": {},
     "output_type": "execute_result"
    }
   ],
   "source": [
    "#http://csbio.unc.edu/mcmillan/Comp555S16/Lecture14.html\n",
    "#http://rosalind.info/problems/ba5j/"
   ]
  },
  {
   "cell_type": "code",
   "execution_count": 2,
   "metadata": {
    "ExecuteTime": {
     "end_time": "2020-11-05T02:32:05.370643Z",
     "start_time": "2020-11-05T02:32:05.360109Z"
    }
   },
   "outputs": [
    {
     "data": {
      "text/plain": [
       "(('ACACT', 'A-A-T', 1.0),)"
      ]
     },
     "execution_count": 2,
     "metadata": {},
     "output_type": "execute_result"
    }
   ],
   "source": [
    "### Example from https://www.bioinformaticsalgorithms.org/bioinformatics-chapter-5\n",
    "## Problem 3: Overlap Alignment\n",
    "x='ACACT'\n",
    "y='AAT'\n",
    "indel = -1\n",
    "gap = -3\n",
    "subMat = createScorMat(match = 1,mismatch = -1,nts = list(set(y) | set(x)))\n",
    "globAl(x,y,subMat,indel),"
   ]
  },
  {
   "cell_type": "code",
   "execution_count": 5,
   "metadata": {
    "ExecuteTime": {
     "end_time": "2020-11-05T02:33:41.737373Z",
     "start_time": "2020-11-05T02:33:41.733486Z"
    }
   },
   "outputs": [],
   "source": []
  },
  {
   "cell_type": "code",
   "execution_count": 13,
   "metadata": {
    "ExecuteTime": {
     "end_time": "2020-11-05T02:36:32.136781Z",
     "start_time": "2020-11-05T02:36:32.130670Z"
    }
   },
   "outputs": [],
   "source": [
    "def initScoringTable(x,y,initY=indel,initX=indel,start=0):\n",
    "    m = len(x) + 1\n",
    "    n = len(y) + 1\n",
    "    scoringMat=np.zeros((n,m)) # Main scoring matrix\n",
    "    scoringMat[:][0] = [0] + list(np.cumsum([initX for _ in x]))\n",
    "    scoringMat[:,0] = [0] + list(np.cumsum([initY for _ in y]))\n",
    "    scoringMat[0,0]=start\n",
    "    return scoringMat"
   ]
  },
  {
   "cell_type": "code",
   "execution_count": 38,
   "metadata": {
    "ExecuteTime": {
     "end_time": "2020-11-05T02:41:30.147747Z",
     "start_time": "2020-11-05T02:41:30.141866Z"
    }
   },
   "outputs": [
    {
     "data": {
      "text/plain": [
       "[-4, -5, -6]"
      ]
     },
     "execution_count": 38,
     "metadata": {},
     "output_type": "execute_result"
    }
   ],
   "source": [
    "[-i + gap for i in range(1,n)]"
   ]
  },
  {
   "cell_type": "code",
   "execution_count": 50,
   "metadata": {
    "ExecuteTime": {
     "end_time": "2020-11-05T02:43:55.930604Z",
     "start_time": "2020-11-05T02:43:55.927022Z"
    }
   },
   "outputs": [],
   "source": [
    "gapExtension = -1\n",
    "gapOpen = -3"
   ]
  },
  {
   "cell_type": "code",
   "execution_count": 61,
   "metadata": {
    "ExecuteTime": {
     "end_time": "2020-11-05T02:47:17.168238Z",
     "start_time": "2020-11-05T02:47:17.160964Z"
    }
   },
   "outputs": [
    {
     "data": {
      "text/plain": [
       "array([[0., 0., 0., 0., 0., 0.],\n",
       "       [0., 0., 0., 0., 0., 0.],\n",
       "       [0., 0., 0., 0., 0., 0.],\n",
       "       [0., 0., 0., 0., 0., 0.]])"
      ]
     },
     "execution_count": 61,
     "metadata": {},
     "output_type": "execute_result"
    }
   ],
   "source": []
  },
  {
   "cell_type": "code",
   "execution_count": null,
   "metadata": {},
   "outputs": [],
   "source": [
    "scoringMat[:][0]"
   ]
  },
  {
   "cell_type": "code",
   "execution_count": 102,
   "metadata": {
    "ExecuteTime": {
     "end_time": "2020-11-05T02:53:43.918415Z",
     "start_time": "2020-11-05T02:53:43.911794Z"
    }
   },
   "outputs": [
    {
     "data": {
      "text/plain": [
       "array([[ -3.,  -4.,  -5.,  -6.,  -7.,  -8.],\n",
       "       [-inf,   0.,   0.,   0.,   0.,   0.],\n",
       "       [-inf,   0.,   0.,   0.,   0.,   0.],\n",
       "       [-inf,   0.,   0.,   0.,   0.,   0.]])"
      ]
     },
     "execution_count": 102,
     "metadata": {},
     "output_type": "execute_result"
    }
   ],
   "source": [
    "####\n",
    "scoringMat=np.zeros((n,m)) # Main scoring matrix\n",
    "inX = [gapOpen]\n",
    "[inX.append(inX[i-1] + gapExtension) for i in range(1,m)]\n",
    "scoringMat[:][0] = inX\n",
    "scoringMat[:,0][1:] = [-np.inf  for i in range(1,n)]\n",
    "scoringMat\n",
    "scoringMat"
   ]
  },
  {
   "cell_type": "code",
   "execution_count": 96,
   "metadata": {
    "ExecuteTime": {
     "end_time": "2020-11-05T02:53:08.969705Z",
     "start_time": "2020-11-05T02:53:08.961389Z"
    }
   },
   "outputs": [
    {
     "data": {
      "text/plain": [
       "array([[ -3., -inf, -inf, -inf, -inf, -inf],\n",
       "       [ -4.,   0.,   0.,   0.,   0.,   0.],\n",
       "       [ -5.,   0.,   0.,   0.,   0.,   0.],\n",
       "       [ -6.,   0.,   0.,   0.,   0.,   0.]])"
      ]
     },
     "execution_count": 96,
     "metadata": {},
     "output_type": "execute_result"
    }
   ],
   "source": [
    "####\n",
    "scoringMat=np.zeros((n,m)) # Main scoring matrix\n",
    "inY = [gapOpen]\n",
    "[inY.append(inY[i-1] + gapExtension) for i in range(1,n)]\n",
    "scoringMat[:,0] = inY\n",
    "scoringMat[:][0][1:] = [-np.inf  for i in range(1,m)]\n",
    "scoringMat"
   ]
  },
  {
   "cell_type": "code",
   "execution_count": 94,
   "metadata": {
    "ExecuteTime": {
     "end_time": "2020-11-05T02:52:56.174525Z",
     "start_time": "2020-11-05T02:52:56.167361Z"
    }
   },
   "outputs": [
    {
     "data": {
      "text/plain": [
       "array([[-3., inf, inf, inf, inf, inf],\n",
       "       [-4.,  0.,  0.,  0.,  0.,  0.],\n",
       "       [-5.,  0.,  0.,  0.,  0.,  0.],\n",
       "       [-6.,  0.,  0.,  0.,  0.,  0.]])"
      ]
     },
     "execution_count": 94,
     "metadata": {},
     "output_type": "execute_result"
    }
   ],
   "source": []
  },
  {
   "cell_type": "code",
   "execution_count": 59,
   "metadata": {
    "ExecuteTime": {
     "end_time": "2020-11-05T02:46:55.176249Z",
     "start_time": "2020-11-05T02:46:55.171066Z"
    }
   },
   "outputs": [
    {
     "data": {
      "text/plain": [
       "[-3, -4, -5, -6, -7, -8]"
      ]
     },
     "execution_count": 59,
     "metadata": {},
     "output_type": "execute_result"
    }
   ],
   "source": [
    "inY = [gapOpen]\n",
    "[inY.append(inY[i-1] + gapExtension) for i in range(1,m)]\n",
    "inY"
   ]
  },
  {
   "cell_type": "code",
   "execution_count": 45,
   "metadata": {
    "ExecuteTime": {
     "end_time": "2020-11-05T02:42:55.732794Z",
     "start_time": "2020-11-05T02:42:55.727177Z"
    }
   },
   "outputs": [],
   "source": [
    "def gapMatrix(x,y,initY=gap,initX=gap,start=0):\n",
    "    m = len(x) + 1\n",
    "    n = len(y) + 1\n",
    "    scoringMat=np.zeros((n,m)) # Main scoring matrix\n",
    "    scoringMat[:][0] = [0] + [-i + initX for i in range(1,m)]\n",
    "    scoringMat[:,0] = [0] + [-i + initY for i in range(1,n)]\n",
    "    scoringMat[0,0]=start\n",
    "    return scoringMat"
   ]
  },
  {
   "cell_type": "code",
   "execution_count": 46,
   "metadata": {
    "ExecuteTime": {
     "end_time": "2020-11-05T02:42:55.997270Z",
     "start_time": "2020-11-05T02:42:55.991509Z"
    }
   },
   "outputs": [
    {
     "data": {
      "text/plain": [
       "array([[ -3.,  -4.,  -5.,  -6.,  -7.,  -8.],\n",
       "       [-inf,   0.,   0.,   0.,   0.,   0.],\n",
       "       [-inf,   0.,   0.,   0.,   0.,   0.],\n",
       "       [-inf,   0.,   0.,   0.,   0.,   0.]])"
      ]
     },
     "execution_count": 46,
     "metadata": {},
     "output_type": "execute_result"
    }
   ],
   "source": [
    "gapMatrix(x,y,-np.inf,gap,gap)"
   ]
  },
  {
   "cell_type": "code",
   "execution_count": 43,
   "metadata": {
    "ExecuteTime": {
     "end_time": "2020-11-05T02:42:33.385946Z",
     "start_time": "2020-11-05T02:42:33.382317Z"
    }
   },
   "outputs": [
    {
     "data": {
      "text/plain": [
       "array([[ -3., -inf, -inf, -inf, -inf, -inf],\n",
       "       [ -4.,   0.,   0.,   0.,   0.,   0.],\n",
       "       [ -5.,   0.,   0.,   0.,   0.,   0.],\n",
       "       [ -6.,   0.,   0.,   0.,   0.,   0.]])"
      ]
     },
     "execution_count": 43,
     "metadata": {},
     "output_type": "execute_result"
    }
   ],
   "source": [
    "gapMatrix(x,y,gap,-np.inf,gap)"
   ]
  },
  {
   "cell_type": "code",
   "execution_count": 40,
   "metadata": {
    "ExecuteTime": {
     "end_time": "2020-11-05T02:42:01.949440Z",
     "start_time": "2020-11-05T02:42:01.942242Z"
    }
   },
   "outputs": [
    {
     "data": {
      "text/plain": [
       "array([[ -3., -inf, -inf, -inf, -inf, -inf],\n",
       "       [ -4.,   0.,   0.,   0.,   0.,   0.],\n",
       "       [ -5.,   0.,   0.,   0.,   0.,   0.],\n",
       "       [ -6.,   0.,   0.,   0.,   0.,   0.]])"
      ]
     },
     "execution_count": 40,
     "metadata": {},
     "output_type": "execute_result"
    }
   ],
   "source": [
    "gapMatrix(x,y,-np.inf,-np.inf,gap)"
   ]
  },
  {
   "cell_type": "code",
   "execution_count": 6,
   "metadata": {
    "ExecuteTime": {
     "end_time": "2020-11-05T02:33:42.242570Z",
     "start_time": "2020-11-05T02:33:42.233577Z"
    }
   },
   "outputs": [
    {
     "data": {
      "text/plain": [
       "array([[0., 0., 0., 0., 0., 0.],\n",
       "       [0., 0., 0., 0., 0., 0.],\n",
       "       [0., 0., 0., 0., 0., 0.],\n",
       "       [0., 0., 0., 0., 0., 0.]])"
      ]
     },
     "execution_count": 6,
     "metadata": {},
     "output_type": "execute_result"
    }
   ],
   "source": [
    "# main\n",
    "sTable=np.zeros((n,m)) # Main scoring matrix\n",
    "sTable[:][0] = [0] + list(np.cumsum([0 for _ in x]))\n",
    "sTable[:,0] = [0] + list(np.cumsum([0 for _ in y]))\n",
    "sTable"
   ]
  },
  {
   "cell_type": "code",
   "execution_count": 7,
   "metadata": {
    "ExecuteTime": {
     "end_time": "2020-11-05T02:33:51.496101Z",
     "start_time": "2020-11-05T02:33:51.479428Z"
    }
   },
   "outputs": [
    {
     "data": {
      "text/html": [
       "<div>\n",
       "<style scoped>\n",
       "    .dataframe tbody tr th:only-of-type {\n",
       "        vertical-align: middle;\n",
       "    }\n",
       "\n",
       "    .dataframe tbody tr th {\n",
       "        vertical-align: top;\n",
       "    }\n",
       "\n",
       "    .dataframe thead th {\n",
       "        text-align: right;\n",
       "    }\n",
       "</style>\n",
       "<table border=\"1\" class=\"dataframe\">\n",
       "  <thead>\n",
       "    <tr style=\"text-align: right;\">\n",
       "      <th></th>\n",
       "      <th></th>\n",
       "      <th>A</th>\n",
       "      <th>C</th>\n",
       "      <th>A</th>\n",
       "      <th>C</th>\n",
       "      <th>T</th>\n",
       "    </tr>\n",
       "  </thead>\n",
       "  <tbody>\n",
       "    <tr>\n",
       "      <th></th>\n",
       "      <td>0.0</td>\n",
       "      <td>0.0</td>\n",
       "      <td>0.0</td>\n",
       "      <td>0.0</td>\n",
       "      <td>0.0</td>\n",
       "      <td>0.0</td>\n",
       "    </tr>\n",
       "    <tr>\n",
       "      <th>A</th>\n",
       "      <td>0.0</td>\n",
       "      <td>0.0</td>\n",
       "      <td>0.0</td>\n",
       "      <td>0.0</td>\n",
       "      <td>0.0</td>\n",
       "      <td>0.0</td>\n",
       "    </tr>\n",
       "    <tr>\n",
       "      <th>A</th>\n",
       "      <td>0.0</td>\n",
       "      <td>0.0</td>\n",
       "      <td>0.0</td>\n",
       "      <td>0.0</td>\n",
       "      <td>0.0</td>\n",
       "      <td>0.0</td>\n",
       "    </tr>\n",
       "    <tr>\n",
       "      <th>T</th>\n",
       "      <td>0.0</td>\n",
       "      <td>0.0</td>\n",
       "      <td>0.0</td>\n",
       "      <td>0.0</td>\n",
       "      <td>0.0</td>\n",
       "      <td>0.0</td>\n",
       "    </tr>\n",
       "  </tbody>\n",
       "</table>\n",
       "</div>"
      ],
      "text/plain": [
       "          A    C    A    C    T\n",
       "   0.0  0.0  0.0  0.0  0.0  0.0\n",
       "A  0.0  0.0  0.0  0.0  0.0  0.0\n",
       "A  0.0  0.0  0.0  0.0  0.0  0.0\n",
       "T  0.0  0.0  0.0  0.0  0.0  0.0"
      ]
     },
     "execution_count": 7,
     "metadata": {},
     "output_type": "execute_result"
    }
   ],
   "source": [
    "vizScoringMat(x,y,sTable)"
   ]
  },
  {
   "cell_type": "code",
   "execution_count": 6,
   "metadata": {
    "ExecuteTime": {
     "end_time": "2020-11-04T01:00:05.730072Z",
     "start_time": "2020-11-04T01:00:05.697263Z"
    }
   },
   "outputs": [
    {
     "data": {
      "text/plain": [
       "(array([[ 0.,  0.,  0.,  0.,  0.,  0.,  0.,  0.],\n",
       "        [ 0.,  7., -1., -1., -1., -1., -1., -1.],\n",
       "        [ 0., -1., 12., -2., -1., -2., -1., -2.],\n",
       "        [ 0., -1., -2., 17., -3., -2., -2.,  0.],\n",
       "        [ 0., -1., -2., -3., 14., -4., -4., -4.],\n",
       "        [ 0.,  7., -2., -3., -4., 11., -5., -5.],\n",
       "        [ 0., -1.,  6., -1., -3., -5., 12., -1.],\n",
       "        [ 0., -1., -1.,  5.,  4., -5., -5., 12.],\n",
       "        [ 0., -1., -2., -2.,  2.,  8., -6., -7.],\n",
       "        [ 0., -1., -1., -2., -2., -1., 14., -5.]]),\n",
       " array([[ 0.,  0.,  0.,  0.,  0.,  0.,  0.,  0.],\n",
       "        [ 0.,  0., -1., -1., -1., -1., -1., -1.],\n",
       "        [ 0., -1.,  0., -2., -2., -2., -2., -2.],\n",
       "        [ 0., -1., -2.,  0., -3., -3., -3., -3.],\n",
       "        [ 0., -1., -2., -3.,  5., -4., -4., -4.],\n",
       "        [ 0.,  0., -2., -3., -4.,  4., -5., -5.],\n",
       "        [ 0., -1., -1., -3., -4., -5.,  3.,  0.],\n",
       "        [ 0., -1., -2., -2.,  0., -5., -6.,  2.],\n",
       "        [ 0., -1., -2., -3., -3.,  0., -6., -7.],\n",
       "        [ 0., -1., -2., -3., -4., -4.,  0., -7.]]),\n",
       " array([[ 0.,  0.,  0.,  0.,  0.,  0.,  0.,  0.],\n",
       "        [ 0.,  0., -1., -1., -1., -1., -1., -1.],\n",
       "        [ 0., -1.,  0., -2., -2., -2., -2., -2.],\n",
       "        [ 0., -1., -2.,  0., -3., -3., -3., -3.],\n",
       "        [ 0., -1., -2., -3.,  5., -4., -4., -4.],\n",
       "        [ 0.,  0., -2., -3., -4.,  4., -5., -5.],\n",
       "        [ 0., -1., -1., -3., -4., -5.,  3.,  0.],\n",
       "        [ 0., -1., -2., -2.,  0., -5., -6.,  2.],\n",
       "        [ 0., -1., -2., -3., -3.,  0., -6., -7.],\n",
       "        [ 0., -1., -2., -3., -4., -4.,  0., -7.]]))"
      ]
     },
     "execution_count": 6,
     "metadata": {},
     "output_type": "execute_result"
    }
   ],
   "source": [
    "##http://csbio.unc.edu/mcmillan/Comp555S16/Lecture14.html\n",
    "\n",
    "\n",
    "uTable=np.zeros((n,m)) # Keeps track of w gaps \n",
    "sTable=np.zeros((n,m)) # Main scoring matrix\n",
    "tTable=np.zeros((n,m)) # Keeps track of v gaps\n",
    "\n",
    "### Initialize \n",
    "# main\n",
    "sTable[:][0] = [0] + list(np.cumsum([0 for _ in x]))\n",
    "sTable[:,0] = [0] + list(np.cumsum([0 for _ in y]))\n",
    "# left\n",
    "tTable[:][0] = [0] + list(np.cumsum([0 for _ in x]))\n",
    "tTable[:,0] = [0] + list(np.cumsum([0 for _ in y]))\n",
    "# up\n",
    "uTable[:][0] = [0] + list(np.cumsum([0 for _ in x]))\n",
    "uTable[:,0] = [0] + list(np.cumsum([0 for _ in y]))\n",
    "#########\n",
    "for i in range(1,m):\n",
    "    #print(x[i-1])\n",
    "    for j in range(1,n):\n",
    "        if x[i-1] == y[j-1]:\n",
    "            #scoringMat[j-1][i-1] + subMat.loc[x[i-1]][y[j-1]]\n",
    "            sTable[j][i] = sTable[j-1][i-1] + subMat.loc[x[i-1]][y[j-1]]\n",
    "        else:\n",
    "            ### up\n",
    "            contGapV = tTable[j-1][i-1] + gap\n",
    "            startGapV = sTable[j-1][i-1] + indel + gap\n",
    "            tTable[j][i] = max(contGapV, startGapV)\n",
    "\n",
    "            ### left\n",
    "            contGapW = uTable[j-1][i-1] + gap\n",
    "            startGapW = sTable[j-1][i-1] + indel + gap\n",
    "            uTable[j][i] = max(contGapW, startGapW)\n",
    "\n",
    "            ###\n",
    "            mismatch = sTable[j-1][i-1] + subMat.loc[x[i-1]][y[j-1]]\n",
    "            left = tTable[j][i]\n",
    "            up = uTable[j][i]\n",
    "            sTable[j][i] = max(mismatch,left,up)\n",
    "sTable, tTable, uTable"
   ]
  },
  {
   "cell_type": "code",
   "execution_count": null,
   "metadata": {},
   "outputs": [],
   "source": []
  }
 ],
 "metadata": {
  "kernelspec": {
   "display_name": "Python 3",
   "language": "python",
   "name": "python3"
  },
  "language_info": {
   "codemirror_mode": {
    "name": "ipython",
    "version": 3
   },
   "file_extension": ".py",
   "mimetype": "text/x-python",
   "name": "python",
   "nbconvert_exporter": "python",
   "pygments_lexer": "ipython3",
   "version": "3.8.6"
  },
  "varInspector": {
   "cols": {
    "lenName": 16,
    "lenType": 16,
    "lenVar": 40
   },
   "kernels_config": {
    "python": {
     "delete_cmd_postfix": "",
     "delete_cmd_prefix": "del ",
     "library": "var_list.py",
     "varRefreshCmd": "print(var_dic_list())"
    },
    "r": {
     "delete_cmd_postfix": ") ",
     "delete_cmd_prefix": "rm(",
     "library": "var_list.r",
     "varRefreshCmd": "cat(var_dic_list()) "
    }
   },
   "types_to_exclude": [
    "module",
    "function",
    "builtin_function_or_method",
    "instance",
    "_Feature"
   ],
   "window_display": false
  }
 },
 "nbformat": 4,
 "nbformat_minor": 4
}
