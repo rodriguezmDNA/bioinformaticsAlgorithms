{
 "cells": [
  {
   "cell_type": "markdown",
   "metadata": {},
   "source": [
    "__Video resources__\n",
    "\n",
    "* https://www.youtube.com/watch?v=ZBD9he4Zp1E\n",
    "* https://www.youtube.com/watch?v=Npv180dQ_4Y\n",
    "* https://www.youtube.com/watch?v=NqYY0PJbD3s\n",
    "\n",
    "\n",
    "\n",
    "__Read this__\n",
    "* http://csbio.unc.edu/mcmillan/Comp555S16/Lecture14.html\n",
    "* https://www.cs.cmu.edu/~ckingsf/bioinfo-lectures/gaps.pdf\n",
    "* http://www.bioinfo.rpi.edu/bystrc/courses/biol4540/lecture4.pdf"
   ]
  },
  {
   "cell_type": "code",
   "execution_count": 1,
   "metadata": {
    "ExecuteTime": {
     "end_time": "2020-11-15T00:15:23.397168Z",
     "start_time": "2020-11-15T00:15:22.895146Z"
    }
   },
   "outputs": [],
   "source": [
    "import pandas as pd\n",
    "import numpy as np\n",
    "def createScorMat(match = 1,mismatch = 0,nts = ['A','C','T','G']):\n",
    "    \"\"\"\n",
    "    Create scoring matrix for nucleotides with a given match and mismatch values\n",
    "    \"\"\"\n",
    "    scoringMatrix = np.zeros((len(nts),len(nts)),)\n",
    "    np.fill_diagonal(scoringMatrix,match)\n",
    "    scoringMatrix\n",
    "    scoringMatrix[scoringMatrix == 0] = mismatch\n",
    "    scoringMatrix = pd.DataFrame(scoringMatrix,index=nts,columns=nts)\n",
    "    return scoringMatrix\n",
    "\n",
    "#### Dynamic programming implementation\n",
    "def scoringMatrix_local(x,y,subMat,indel):\n",
    "    m = len(x) + 1\n",
    "    n = len(y) + 1\n",
    "    globMax = (0,0)\n",
    "    scoringMat=np.zeros((n,m))\n",
    "    for i in range(1,m):\n",
    "        #print(x[i-1])\n",
    "        for j in range(1,n):\n",
    "            if x[i-1] == y[j-1]:\n",
    "                #scoringMat[j-1][i-1] + subMat.loc[x[i-1]][y[j-1]]\n",
    "                scoringMat[j][i] = scoringMat[j-1][i-1] + subMat.loc[x[i-1]][y[j-1]]\n",
    "            else:\n",
    "                mismatch = scoringMat[j-1][i-1] + subMat.loc[x[i-1]][y[j-1]]\n",
    "                left = scoringMat[j-1][i] + indel\n",
    "                up = scoringMat[j][i-1] + indel\n",
    "                scoringMat[j][i] = max(mismatch,left,up,0)\n",
    "            if scoringMat[j][i] >= scoringMat[globMax[1]][globMax[0]]:\n",
    "                globMax = (i,j)\n",
    "    return scoringMat,globMax\n",
    "\n",
    "\n",
    "def scoringMatrix_global(x,y,subMat,indel):\n",
    "    m = len(x) + 1\n",
    "    n = len(y) + 1\n",
    "    scoringMat=np.zeros((n,m))\n",
    "    scoringMat[:][0] = [0] + list(np.cumsum([indel for _ in x]))\n",
    "    scoringMat[:,0] = [0] + list(np.cumsum([indel for _ in y]))\n",
    "    for i in range(1,m):\n",
    "        #print(x[i-1])\n",
    "        for j in range(1,n):\n",
    "            if x[i-1] == y[j-1]:\n",
    "                #scoringMat[j-1][i-1] + subMat.loc[x[i-1]][y[j-1]]\n",
    "                scoringMat[j][i] = scoringMat[j-1][i-1] + subMat.loc[x[i-1]][y[j-1]]\n",
    "            else:\n",
    "                mismatch = scoringMat[j-1][i-1] + subMat.loc[x[i-1]][y[j-1]]\n",
    "                left = scoringMat[j-1][i] + indel\n",
    "                up = scoringMat[j][i-1] + indel\n",
    "                scoringMat[j][i] = max(mismatch,left,up)\n",
    "    return scoringMat\n",
    "\n",
    "\n",
    "def backtrack_local(x,y,sm,maxLocs):\n",
    "    i = maxLocs[0]\n",
    "    j = maxLocs[1]\n",
    "    w=''\n",
    "    z=''\n",
    "    z,w\n",
    "    while i*j > 0:\n",
    "        if x[i-1] == y[j-1]:\n",
    "            w += x[i-1]\n",
    "            z += y[j-1]\n",
    "            i -= 1\n",
    "            j -= 1\n",
    "        else:\n",
    "            left = sm[j-1][i]\n",
    "            up = sm[j][i-1]\n",
    "            diag = sm[j-1][i-1]\n",
    "            whichmax = np.argmax([left,up,diag])\n",
    "            if whichmax == 0:\n",
    "                w += '-'\n",
    "                z += y[j-1]\n",
    "                j -= 1\n",
    "            elif whichmax == 1:\n",
    "                z += '-'\n",
    "                w += x[i-1]\n",
    "                i -= 1\n",
    "            else:\n",
    "                w += x[i-1]\n",
    "                z += y[j-1]\n",
    "                i -= 1\n",
    "                j -= 1\n",
    "        if sm[j][i] == 0:\n",
    "            break\n",
    "    return w[::-1],z[::-1]\n",
    "\n",
    "def backtrack_global(x,y,sm,subMat,indel):\n",
    "    i = len(x)\n",
    "    j = len(y)\n",
    "    w=''\n",
    "    z=''\n",
    "    z,w\n",
    "    while i*j > 0:\n",
    "        if x[i-1] == y[j-1]:\n",
    "            w += x[i-1]\n",
    "            z += y[j-1]\n",
    "            i -= 1\n",
    "            j -= 1\n",
    "        else:\n",
    "            left = sm[j-1][i] + indel\n",
    "            up = sm[j][i-1] + indel\n",
    "            diag = sm[j-1][i-1] + subMat.loc[x[i-1]][y[j-1]]\n",
    "            whichmax = np.argmax([left,up,diag])\n",
    "            if whichmax == 0:\n",
    "                w += '-'\n",
    "                z += y[j-1]\n",
    "                j -= 1\n",
    "            elif whichmax == 1:\n",
    "                z += '-'\n",
    "                w += x[i-1]\n",
    "                i -= 1\n",
    "            else:\n",
    "                w += x[i-1]\n",
    "                z += y[j-1]\n",
    "                i -= 1\n",
    "                j -= 1\n",
    "    if j==0 and i>0:\n",
    "        w = x[:i]+w[::-1]\n",
    "        z = '-' * i + z[::-1]\n",
    "    elif i==0 and j>0:\n",
    "        z = y[:i]+z[::-1]\n",
    "        w = '-' * j + w[::-1]\n",
    "    else:\n",
    "        w = w[::-1]\n",
    "        z = z[::-1]\n",
    "    return w,z\n",
    "\n",
    "def locAl(x,y,subMat,indel):\n",
    "    '''\n",
    "    A wrapper for DP implementation of Smith-Waterman\n",
    "    '''\n",
    "    sm, maxLocs = scoringMatrix_local(x,y,subMat,indel)\n",
    "    z,w = backtrack_local(x,y,sm,maxLocs)\n",
    "    return z,w,sm[maxLocs[1],maxLocs[0]],sm\n",
    "\n",
    "def globAl(x,y,subMat,indel):\n",
    "    '''\n",
    "    A wrapper for DP implementation of Smith-Waterman\n",
    "    '''\n",
    "    sm = scoringMatrix_global(x,y,subMat,indel)\n",
    "    z,w = backtrack_global(x,y,sm,subMat,indel)\n",
    "    return z,w,sm[len(y),len(x)]\n",
    "\n",
    "def vizScoringMat(x,y,scoringMat):\n",
    "    return pd.DataFrame(scoringMat,index=['']+[_ for _ in y],\n",
    "             columns=['']+[_ for _ in x])\n",
    "\n",
    "def readBlosum62():\n",
    "    '''\n",
    "    Read scoring matrix\n",
    "    '''\n",
    "    with open('blosum62.txt') as matrix_file:\n",
    "        matrix = matrix_file.read()\n",
    "        lines = matrix.strip().split('\\n')\n",
    "\n",
    "    blosum={}\n",
    "    cols = lines[0].split()\n",
    "\n",
    "    for row in lines[1:]:       \n",
    "        idx = row[0]\n",
    "        vals = row[1:].split()\n",
    "        vals = [int(_) for _ in vals]\n",
    "        #print(idx,vals)\n",
    "        blosum[idx]=vals\n",
    "\n",
    "    blosum = pd.DataFrame.from_dict(blosum,orient='index',columns=cols)\n",
    "    return blosum"
   ]
  },
  {
   "cell_type": "code",
   "execution_count": 2,
   "metadata": {
    "ExecuteTime": {
     "end_time": "2020-11-15T00:15:23.422929Z",
     "start_time": "2020-11-15T00:15:23.413865Z"
    }
   },
   "outputs": [],
   "source": [
    "blosum = readBlosum62()"
   ]
  },
  {
   "cell_type": "code",
   "execution_count": 3,
   "metadata": {
    "ExecuteTime": {
     "end_time": "2020-11-15T00:15:23.497404Z",
     "start_time": "2020-11-15T00:15:23.469100Z"
    }
   },
   "outputs": [
    {
     "data": {
      "text/plain": [
       "('PRT',\n",
       " 'PRT',\n",
       " 17.0,\n",
       " array([[ 0.,  0.,  0.,  0.,  0.,  0.,  0.,  0.],\n",
       "        [ 0.,  7.,  0.,  0.,  0.,  0.,  0.,  0.],\n",
       "        [ 0.,  0., 12.,  4.,  0.,  0.,  0.,  0.],\n",
       "        [ 0.,  0.,  4., 17.,  9.,  1.,  0.,  1.],\n",
       "        [ 0.,  0.,  0.,  9., 14.,  6.,  0.,  0.],\n",
       "        [ 0.,  7.,  0.,  1.,  8., 11.,  4.,  0.],\n",
       "        [ 0.,  0.,  6.,  1.,  1.,  6., 12.,  8.],\n",
       "        [ 0.,  0.,  0.,  5.,  6.,  0.,  6., 12.],\n",
       "        [ 0.,  0.,  0.,  0.,  2., 10.,  2.,  4.],\n",
       "        [ 0.,  0.,  0.,  0.,  0.,  2., 16.,  8.]]))"
      ]
     },
     "execution_count": 3,
     "metadata": {},
     "output_type": "execute_result"
    }
   ],
   "source": [
    "### Example from https://www.bioinformaticsalgorithms.org/bioinformatics-chapter-5\n",
    "## Problem 3: Overlap Alignment\n",
    "x='PRTEINS'\n",
    "y='PRTWPSEIN'\n",
    "indel = -8\n",
    "subMat = blosum\n",
    "locAl(x,y,subMat,indel)"
   ]
  },
  {
   "cell_type": "code",
   "execution_count": 4,
   "metadata": {
    "ExecuteTime": {
     "end_time": "2020-11-15T00:15:23.584434Z",
     "start_time": "2020-11-15T00:15:23.562460Z"
    }
   },
   "outputs": [
    {
     "data": {
      "text/plain": [
       "('ATTGACCTGA', 'A-T--CCTGA', 4.0)"
      ]
     },
     "execution_count": 4,
     "metadata": {},
     "output_type": "execute_result"
    }
   ],
   "source": [
    "### Example from https://www.bioinformaticsalgorithms.org/bioinformatics-chapter-5\n",
    "## Problem 3: Overlap Alignment\n",
    "x='ATTGACCTGA'\n",
    "y='ATCCTGA'\n",
    "indel = -1\n",
    "gap = -1\n",
    "subMat = createScorMat(match = 1,mismatch = -2,nts = list(set(y) | set(x)))\n",
    "globAl(x,y,subMat,indel)"
   ]
  },
  {
   "cell_type": "code",
   "execution_count": 5,
   "metadata": {
    "ExecuteTime": {
     "end_time": "2020-11-15T00:15:23.714773Z",
     "start_time": "2020-11-15T00:15:23.698917Z"
    }
   },
   "outputs": [
    {
     "data": {
      "text/plain": [
       "('PRTEINS', 'PS-EIN-')"
      ]
     },
     "execution_count": 5,
     "metadata": {},
     "output_type": "execute_result"
    }
   ],
   "source": [
    "### Example from https://www.bioinformaticsalgorithms.org/bioinformatics-chapter-5\n",
    "## Problem 3: Overlap Alignment\n",
    "x='PRTEINS'\n",
    "y='PRTWPSEIN'\n",
    "indel = -11\n",
    "gap = -1\n",
    "subMat = blosum\n",
    "sm,_ = scoringMatrix_local(x,y,subMat,indel)\n",
    "backtrack_local(x,y,sm,(len(x),len(y)))"
   ]
  },
  {
   "cell_type": "code",
   "execution_count": 6,
   "metadata": {
    "ExecuteTime": {
     "end_time": "2020-11-15T00:15:23.819242Z",
     "start_time": "2020-11-15T00:15:23.815828Z"
    }
   },
   "outputs": [],
   "source": [
    "#http://csbio.unc.edu/mcmillan/Comp555S16/Lecture14.html\n",
    "#http://rosalind.info/problems/ba5j/"
   ]
  },
  {
   "cell_type": "code",
   "execution_count": 7,
   "metadata": {
    "ExecuteTime": {
     "end_time": "2020-11-15T00:15:23.951006Z",
     "start_time": "2020-11-15T00:15:23.942310Z"
    }
   },
   "outputs": [
    {
     "data": {
      "text/plain": [
       "(('ACACT', 'A-A-T', 1.0),)"
      ]
     },
     "execution_count": 7,
     "metadata": {},
     "output_type": "execute_result"
    }
   ],
   "source": [
    "### Example from https://www.bioinformaticsalgorithms.org/bioinformatics-chapter-5\n",
    "## Problem 3: Overlap Alignment\n",
    "x='ACACT'\n",
    "y='AAT'\n",
    "indel = -1\n",
    "gap = -3\n",
    "subMat = createScorMat(match = 1,mismatch = -1,nts = list(set(y) | set(x)))\n",
    "globAl(x,y,subMat,indel),"
   ]
  },
  {
   "cell_type": "code",
   "execution_count": null,
   "metadata": {
    "ExecuteTime": {
     "end_time": "2020-11-05T02:33:41.737373Z",
     "start_time": "2020-11-05T02:33:41.733486Z"
    }
   },
   "outputs": [],
   "source": []
  },
  {
   "cell_type": "code",
   "execution_count": 8,
   "metadata": {
    "ExecuteTime": {
     "end_time": "2020-11-15T00:15:24.180991Z",
     "start_time": "2020-11-15T00:15:24.173916Z"
    }
   },
   "outputs": [],
   "source": [
    "def initScoringTable(x,y,initY=indel,initX=indel,start=0):\n",
    "    m = len(x) + 1\n",
    "    n = len(y) + 1\n",
    "    scoringMat=np.zeros((n,m)) # Main scoring matrix\n",
    "    scoringMat[:][0] = [0] + list(np.cumsum([initX for _ in x]))\n",
    "    scoringMat[:,0] = [0] + list(np.cumsum([initY for _ in y]))\n",
    "    scoringMat[0,0]=start\n",
    "    return scoringMat"
   ]
  },
  {
   "cell_type": "code",
   "execution_count": 9,
   "metadata": {
    "ExecuteTime": {
     "end_time": "2020-11-15T00:15:24.307433Z",
     "start_time": "2020-11-15T00:15:24.305293Z"
    }
   },
   "outputs": [],
   "source": [
    "gapExtension = -1\n",
    "gapOpen = -3"
   ]
  },
  {
   "cell_type": "markdown",
   "metadata": {
    "ExecuteTime": {
     "end_time": "2020-11-05T02:47:17.168238Z",
     "start_time": "2020-11-05T02:47:17.160964Z"
    }
   },
   "source": [
    "### Follow this example \n",
    "https://www.youtube.com/watch?v=NqYY0PJbD3s"
   ]
  },
  {
   "cell_type": "code",
   "execution_count": 10,
   "metadata": {
    "ExecuteTime": {
     "end_time": "2020-11-15T00:15:24.560315Z",
     "start_time": "2020-11-15T00:15:24.558029Z"
    }
   },
   "outputs": [],
   "source": [
    "m= len(x)\n",
    "n= len(y)"
   ]
  },
  {
   "cell_type": "code",
   "execution_count": 11,
   "metadata": {
    "ExecuteTime": {
     "end_time": "2020-11-15T00:15:24.786312Z",
     "start_time": "2020-11-15T00:15:24.776958Z"
    }
   },
   "outputs": [
    {
     "data": {
      "text/plain": [
       "array([[ -3.,  -4.,  -5.,  -6.,  -7.],\n",
       "       [-inf,   0.,   0.,   0.,   0.],\n",
       "       [-inf,   0.,   0.,   0.,   0.]])"
      ]
     },
     "execution_count": 11,
     "metadata": {},
     "output_type": "execute_result"
    }
   ],
   "source": [
    "####\n",
    "scoringMat=np.zeros((n,m)) # Main scoring matrix\n",
    "inX = [gapOpen]\n",
    "[inX.append(inX[i-1] + gapExtension) for i in range(1,m)]\n",
    "scoringMat[:][0] = inX\n",
    "scoringMat[:,0][1:] = [-np.inf  for i in range(1,n)]\n",
    "scoringMat\n",
    "scoringMat"
   ]
  },
  {
   "cell_type": "code",
   "execution_count": 12,
   "metadata": {
    "ExecuteTime": {
     "end_time": "2020-11-15T00:15:24.892701Z",
     "start_time": "2020-11-15T00:15:24.887192Z"
    }
   },
   "outputs": [
    {
     "data": {
      "text/plain": [
       "array([[ -3., -inf, -inf, -inf, -inf],\n",
       "       [ -4.,   0.,   0.,   0.,   0.],\n",
       "       [ -5.,   0.,   0.,   0.,   0.]])"
      ]
     },
     "execution_count": 12,
     "metadata": {},
     "output_type": "execute_result"
    }
   ],
   "source": [
    "####\n",
    "scoringMat=np.zeros((n,m)) # Main scoring matrix\n",
    "inY = [gapOpen]\n",
    "[inY.append(inY[i-1] + gapExtension) for i in range(1,n)]\n",
    "scoringMat[:,0] = inY\n",
    "scoringMat[:][0][1:] = [-np.inf  for i in range(1,m)]\n",
    "scoringMat"
   ]
  },
  {
   "cell_type": "code",
   "execution_count": null,
   "metadata": {
    "ExecuteTime": {
     "end_time": "2020-11-05T02:52:56.174525Z",
     "start_time": "2020-11-05T02:52:56.167361Z"
    }
   },
   "outputs": [],
   "source": []
  },
  {
   "cell_type": "code",
   "execution_count": 13,
   "metadata": {
    "ExecuteTime": {
     "end_time": "2020-11-15T00:15:25.128785Z",
     "start_time": "2020-11-15T00:15:25.121402Z"
    }
   },
   "outputs": [
    {
     "data": {
      "text/plain": [
       "[-3, -4, -5, -6, -7]"
      ]
     },
     "execution_count": 13,
     "metadata": {},
     "output_type": "execute_result"
    }
   ],
   "source": [
    "inY = [gapOpen]\n",
    "[inY.append(inY[i-1] + gapExtension) for i in range(1,m)]\n",
    "inY"
   ]
  },
  {
   "cell_type": "code",
   "execution_count": 14,
   "metadata": {
    "ExecuteTime": {
     "end_time": "2020-11-15T00:15:25.287730Z",
     "start_time": "2020-11-15T00:15:25.280310Z"
    }
   },
   "outputs": [],
   "source": [
    "def gapMatrix(x,y,initY=gap,initX=gap,start=0):\n",
    "    m = len(x) + 1\n",
    "    n = len(y) + 1\n",
    "    scoringMat=np.zeros((n,m)) # Main scoring matrix\n",
    "    scoringMat[:][0] = [0] + [-i + initX for i in range(1,m)]\n",
    "    scoringMat[:,0] = [0] + [-i + initY for i in range(1,n)]\n",
    "    scoringMat[0,0]=start\n",
    "    return scoringMat"
   ]
  },
  {
   "cell_type": "code",
   "execution_count": 15,
   "metadata": {
    "ExecuteTime": {
     "end_time": "2020-11-15T00:15:25.447600Z",
     "start_time": "2020-11-15T00:15:25.442451Z"
    }
   },
   "outputs": [
    {
     "data": {
      "text/plain": [
       "array([[ -3.,  -4.,  -5.,  -6.,  -7.,  -8.],\n",
       "       [-inf,   0.,   0.,   0.,   0.,   0.],\n",
       "       [-inf,   0.,   0.,   0.,   0.,   0.],\n",
       "       [-inf,   0.,   0.,   0.,   0.,   0.]])"
      ]
     },
     "execution_count": 15,
     "metadata": {},
     "output_type": "execute_result"
    }
   ],
   "source": [
    "gapMatrix(x,y,-np.inf,gap,gap)"
   ]
  },
  {
   "cell_type": "code",
   "execution_count": 16,
   "metadata": {
    "ExecuteTime": {
     "end_time": "2020-11-15T00:15:25.559755Z",
     "start_time": "2020-11-15T00:15:25.553860Z"
    }
   },
   "outputs": [
    {
     "data": {
      "text/plain": [
       "array([[ -3., -inf, -inf, -inf, -inf, -inf],\n",
       "       [ -4.,   0.,   0.,   0.,   0.,   0.],\n",
       "       [ -5.,   0.,   0.,   0.,   0.,   0.],\n",
       "       [ -6.,   0.,   0.,   0.,   0.,   0.]])"
      ]
     },
     "execution_count": 16,
     "metadata": {},
     "output_type": "execute_result"
    }
   ],
   "source": [
    "gapMatrix(x,y,gap,-np.inf,gap)"
   ]
  },
  {
   "cell_type": "code",
   "execution_count": null,
   "metadata": {},
   "outputs": [],
   "source": []
  },
  {
   "cell_type": "code",
   "execution_count": null,
   "metadata": {},
   "outputs": [],
   "source": []
  },
  {
   "cell_type": "markdown",
   "metadata": {},
   "source": [
    "#### Start here"
   ]
  },
  {
   "cell_type": "code",
   "execution_count": 17,
   "metadata": {
    "ExecuteTime": {
     "end_time": "2020-11-15T00:15:26.111850Z",
     "start_time": "2020-11-15T00:15:26.108099Z"
    }
   },
   "outputs": [
    {
     "data": {
      "text/plain": [
       "('ACACT', 'AAT')"
      ]
     },
     "execution_count": 17,
     "metadata": {},
     "output_type": "execute_result"
    }
   ],
   "source": [
    "x,y"
   ]
  },
  {
   "cell_type": "code",
   "execution_count": null,
   "metadata": {
    "ExecuteTime": {
     "end_time": "2020-11-11T02:57:06.229202Z",
     "start_time": "2020-11-11T02:57:06.224534Z"
    }
   },
   "outputs": [],
   "source": []
  },
  {
   "cell_type": "code",
   "execution_count": 18,
   "metadata": {
    "ExecuteTime": {
     "end_time": "2020-11-15T00:15:26.642245Z",
     "start_time": "2020-11-15T00:15:26.623702Z"
    }
   },
   "outputs": [],
   "source": [
    "def gapMatrix(x,y,initY=gap,initX=gap,start=0):\n",
    "    m = len(x) + 1\n",
    "    n = len(y) + 1\n",
    "    scoringMat=np.zeros((n,m)) # Main scoring matrix\n",
    "    scoringMat[:][0] = [0] + [-i + initX for i in range(1,m)]\n",
    "    scoringMat[:,0] = [0] + [-i + initY for i in range(1,n)]\n",
    "    scoringMat[0,0]=start\n",
    "    return scoringMat\n",
    "\n",
    "def affineGapScoring(x,y,subMat,indel,gap):\n",
    "    #### Initiate\n",
    "    Mmatrix = gapMatrix(x,y,-np.inf,-np.inf,0)\n",
    "    Ix = gapMatrix(x,y,gap,-np.inf,gap)\n",
    "    Iy = gapMatrix(x,y,-np.inf,gap,gap)\n",
    "    m= len(x)\n",
    "    n= len(y)\n",
    "    for j in range(1,n+1):\n",
    "        for i in range(1,m+1):\n",
    "            #### M matrix\n",
    "            M = [Mmatrix[j-1,i-1] + subMat.loc[x[i-1]][y[j-1]],\n",
    "                     Ix[j-1,i-1] + subMat.loc[x[i-1]][y[j-1]],\n",
    "                     Iy[j-1,i-1] + subMat.loc[x[i-1]][y[j-1]]]\n",
    "            Mmatrix[j,i] = max(M)\n",
    "\n",
    "            #### Ix\n",
    "            X = [Mmatrix[j-1,i] + gap + indel,\n",
    "                 Ix[j-1,i] + indel]\n",
    "            #### Iy\n",
    "            Y = [Mmatrix[j,i-1] + gap + indel,\n",
    "                 Iy[j,i-1] + indel]\n",
    "            ###\n",
    "            Ix[j,i] = max(X)\n",
    "            Iy[j,i] = max(Y)\n",
    "    return Mmatrix, Ix, Iy\n",
    "\n",
    "def affineBacktrack(x,y,Mm,Ix,Iy):\n",
    "    i = len(x)\n",
    "    j = len(y)\n",
    "    w=''\n",
    "    z=''\n",
    "    scoreMax = max([Mm[j,i],Mx[j,i],My[j,i]])\n",
    "    while i*j > 0:\n",
    "        print(i,j,w[::-1],z[::-1])\n",
    "        if x[i-1] == y[j-1]:\n",
    "            w += x[i-1]\n",
    "            z += y[j-1]\n",
    "            i -= 1\n",
    "            j -= 1\n",
    "        else:\n",
    "            whichMax = np.argmax([Mm[j,i],Mx[j,i],My[j,i]])\n",
    "            if whichMax == 0:\n",
    "                w += x[i-1]\n",
    "                z += y[j-1]\n",
    "                i -= 1\n",
    "                j -= 1\n",
    "            elif  whichMax == 1:\n",
    "                w += x[i-1]\n",
    "                z += '-'\n",
    "                i -= 1\n",
    "            else:\n",
    "                w += '-'\n",
    "                z += y[j-1]\n",
    "                j -= 1\n",
    "    if j==0 and i>0:\n",
    "        w = x[:i]+w[::-1]\n",
    "        z = '-' * i + z[::-1]\n",
    "    elif i==0 and j>0:\n",
    "        z = y[:i]+z[::-1]\n",
    "        w = '-' * j + w[::-1]\n",
    "    else:\n",
    "        w = w[::-1]\n",
    "        z = z[::-1]\n",
    "    return w,z,scoreMax"
   ]
  },
  {
   "cell_type": "code",
   "execution_count": 19,
   "metadata": {
    "ExecuteTime": {
     "end_time": "2020-11-15T00:15:26.917640Z",
     "start_time": "2020-11-15T00:15:26.898686Z"
    }
   },
   "outputs": [
    {
     "name": "stdout",
     "output_type": "stream",
     "text": [
      "5 3  \n",
      "4 2 T T\n",
      "3 1 CT AT\n",
      "          A    C    A    C    T\n",
      "   0.0 -inf -inf -inf -inf -inf\n",
      "A -inf  1.0 -5.0 -4.0 -7.0 -8.0\n",
      "A -inf -3.0  0.0 -2.0 -5.0 -6.0\n",
      "T -inf -6.0 -4.0 -1.0 -3.0 -4.0\n",
      "          A    C    A     C     T\n",
      "  -3.0 -inf -inf -inf  -inf  -inf\n",
      "A -4.0 -inf -inf -inf  -inf  -inf\n",
      "A -5.0 -3.0 -9.0 -8.0 -11.0 -12.0\n",
      "T -6.0 -4.0 -4.0 -6.0  -9.0 -10.0\n",
      "          A     C    A    C    T\n",
      "  -3.0 -4.0  -5.0 -6.0 -7.0 -8.0\n",
      "A -inf -inf  -3.0 -4.0 -5.0 -6.0\n",
      "A -inf -inf  -7.0 -4.0 -5.0 -6.0\n",
      "T -inf -inf -10.0 -8.0 -5.0 -6.0\n",
      "ACACT --AAT -4.0\n"
     ]
    }
   ],
   "source": [
    "x='ACACT'\n",
    "y='AAT'\n",
    "gap = -3\n",
    "indel = -1\n",
    "subMat = createScorMat(match = 1,mismatch = -1,nts = list(set(y) | set(x)))\n",
    "\n",
    "Mm, Mx, My = affineGapScoring(x,y,subMat,indel,gap)\n",
    "w,z, sm = affineBacktrack(x,y,Mm,Mx,My)\n",
    "\n",
    "#### Result\n",
    "print(vizScoringMat(x,y,Mm))\n",
    "print(vizScoringMat(x,y,Mx))\n",
    "print(vizScoringMat(x,y,My))\n",
    "print(w,z, sm)"
   ]
  },
  {
   "cell_type": "markdown",
   "metadata": {},
   "source": [
    "#### Rosalind example"
   ]
  },
  {
   "cell_type": "markdown",
   "metadata": {},
   "source": [
    "https://www.ebi.ac.uk/Tools/services/web/toolresult.ebi?jobId=emboss_needle-I20201112-053202-0673-88247623-p1m"
   ]
  },
  {
   "cell_type": "code",
   "execution_count": 20,
   "metadata": {
    "ExecuteTime": {
     "end_time": "2020-11-15T00:15:27.775067Z",
     "start_time": "2020-11-15T00:15:27.769658Z"
    }
   },
   "outputs": [
    {
     "data": {
      "text/plain": [
       "('ACACT', 'A-A-T', 1.0)"
      ]
     },
     "execution_count": 20,
     "metadata": {},
     "output_type": "execute_result"
    }
   ],
   "source": [
    "globAl(x,y,subMat,indel)"
   ]
  },
  {
   "cell_type": "code",
   "execution_count": 21,
   "metadata": {
    "ExecuteTime": {
     "end_time": "2020-11-15T00:15:27.995781Z",
     "start_time": "2020-11-15T00:15:27.993710Z"
    }
   },
   "outputs": [],
   "source": [
    "x='PRTEINS'\n",
    "y='PRTWPSEIN'\n",
    "gapOpen = -11\n",
    "gapExt = -1\n",
    "#subMat = createScorMat(match = 1,mismatch = -1,nts = list(set(y) | set(x)))\n",
    "subMat = blosum"
   ]
  },
  {
   "cell_type": "code",
   "execution_count": 22,
   "metadata": {
    "ExecuteTime": {
     "end_time": "2020-11-15T00:15:28.241041Z",
     "start_time": "2020-11-15T00:15:28.236055Z"
    }
   },
   "outputs": [],
   "source": [
    "def gapMatrix(x,y,initY=gapExt,initX=gapExt,start=0):\n",
    "    m = len(x) + 1\n",
    "    n = len(y) + 1\n",
    "    scoringMat=np.zeros((n,m)) # Main scoring matrix\n",
    "    scoringMat[:][0] = [0] + [-i + initX for i in range(1,m)]\n",
    "    scoringMat[:,0] = [0] + [-i + initY for i in range(1,n)]\n",
    "    scoringMat[0,0]=start\n",
    "    return scoringMat"
   ]
  },
  {
   "cell_type": "code",
   "execution_count": 23,
   "metadata": {
    "ExecuteTime": {
     "end_time": "2020-11-15T00:15:28.524008Z",
     "start_time": "2020-11-15T00:15:28.504995Z"
    }
   },
   "outputs": [
    {
     "name": "stdout",
     "output_type": "stream",
     "text": [
      "          P    R    T    E    I    N    S\n",
      "   0.0 -inf -inf -inf -inf -inf -inf -inf\n",
      "P -inf  0.0  0.0  0.0  0.0  0.0  0.0  0.0\n",
      "R -inf  0.0  0.0  0.0  0.0  0.0  0.0  0.0\n",
      "T -inf  0.0  0.0  0.0  0.0  0.0  0.0  0.0\n",
      "W -inf  0.0  0.0  0.0  0.0  0.0  0.0  0.0\n",
      "P -inf  0.0  0.0  0.0  0.0  0.0  0.0  0.0\n",
      "S -inf  0.0  0.0  0.0  0.0  0.0  0.0  0.0\n",
      "E -inf  0.0  0.0  0.0  0.0  0.0  0.0  0.0\n",
      "I -inf  0.0  0.0  0.0  0.0  0.0  0.0  0.0\n",
      "N -inf  0.0  0.0  0.0  0.0  0.0  0.0  0.0\n",
      "           P    R    T    E    I    N    S\n",
      "  -11.0 -inf -inf -inf -inf -inf -inf -inf\n",
      "P -12.0  0.0  0.0  0.0  0.0  0.0  0.0  0.0\n",
      "R -13.0  0.0  0.0  0.0  0.0  0.0  0.0  0.0\n",
      "T -14.0  0.0  0.0  0.0  0.0  0.0  0.0  0.0\n",
      "W -15.0  0.0  0.0  0.0  0.0  0.0  0.0  0.0\n",
      "P -16.0  0.0  0.0  0.0  0.0  0.0  0.0  0.0\n",
      "S -17.0  0.0  0.0  0.0  0.0  0.0  0.0  0.0\n",
      "E -18.0  0.0  0.0  0.0  0.0  0.0  0.0  0.0\n",
      "I -19.0  0.0  0.0  0.0  0.0  0.0  0.0  0.0\n",
      "N -20.0  0.0  0.0  0.0  0.0  0.0  0.0  0.0\n",
      "            P     R     T     E     I     N     S\n",
      "  -11.0 -12.0 -13.0 -14.0 -15.0 -16.0 -17.0 -18.0\n",
      "P  -inf   0.0   0.0   0.0   0.0   0.0   0.0   0.0\n",
      "R  -inf   0.0   0.0   0.0   0.0   0.0   0.0   0.0\n",
      "T  -inf   0.0   0.0   0.0   0.0   0.0   0.0   0.0\n",
      "W  -inf   0.0   0.0   0.0   0.0   0.0   0.0   0.0\n",
      "P  -inf   0.0   0.0   0.0   0.0   0.0   0.0   0.0\n",
      "S  -inf   0.0   0.0   0.0   0.0   0.0   0.0   0.0\n",
      "E  -inf   0.0   0.0   0.0   0.0   0.0   0.0   0.0\n",
      "I  -inf   0.0   0.0   0.0   0.0   0.0   0.0   0.0\n",
      "N  -inf   0.0   0.0   0.0   0.0   0.0   0.0   0.0\n"
     ]
    }
   ],
   "source": [
    "Mmatrix = gapMatrix(x,y,-np.inf,-np.inf,0)\n",
    "Ix = gapMatrix(x,y,gapOpen,-np.inf,gapOpen)\n",
    "Iy = gapMatrix(x,y,-np.inf,gapOpen,gapOpen)\n",
    "print(vizScoringMat(x,y,Mmatrix))\n",
    "print(vizScoringMat(x,y,Ix))\n",
    "print(vizScoringMat(x,y,Iy))"
   ]
  },
  {
   "cell_type": "code",
   "execution_count": 29,
   "metadata": {
    "ExecuteTime": {
     "end_time": "2020-11-15T00:15:40.243909Z",
     "start_time": "2020-11-15T00:15:40.198152Z"
    }
   },
   "outputs": [
    {
     "name": "stdout",
     "output_type": "stream",
     "text": [
      "           P     R     T     E     I     N     S\n",
      "   0.0  -inf  -inf  -inf  -inf  -inf  -inf  -inf\n",
      "P -inf   7.0 -25.0 -25.0 -26.0 -29.0 -29.0 -29.0\n",
      "R -inf -25.0  12.0 -17.0 -25.0 -29.0 -29.0 -30.0\n",
      "T -inf -25.0 -17.0  17.0 -12.0 -23.0 -29.0 -28.0\n",
      "W -inf -29.0 -28.0 -13.0  14.0  -9.0 -21.0 -31.0\n",
      "P -inf -19.0 -31.0 -23.0  -7.0  11.0 -11.0 -21.0\n",
      "S -inf -28.0 -20.0 -30.0 -17.0  -9.0  12.0  -7.0\n",
      "E -inf -29.0 -28.0 -21.0 -23.0 -20.0  -9.0  12.0\n",
      "I -inf -32.0 -32.0 -29.0 -24.0 -19.0 -23.0 -11.0\n",
      "N -inf -32.0 -32.0 -32.0 -29.0 -27.0 -13.0 -21.0\n",
      "            P     R     T     E     I     N     S\n",
      "  -11.0  -inf  -inf  -inf  -inf  -inf  -inf  -inf\n",
      "P -12.0 -23.0  -5.0 -16.0 -27.0 -38.0 -41.0 -41.0\n",
      "R -13.0 -24.0 -35.0   0.0 -11.0 -22.0 -33.0 -41.0\n",
      "T -14.0 -25.0 -36.0 -29.0   5.0  -6.0 -17.0 -28.0\n",
      "W -15.0 -26.0 -37.0 -40.0 -25.0   2.0  -9.0 -20.0\n",
      "P -16.0 -27.0 -31.0 -42.0 -35.0 -19.0  -1.0 -12.0\n",
      "S -17.0 -28.0 -39.0 -32.0 -42.0 -29.0 -21.0   0.0\n",
      "E -18.0 -29.0 -40.0 -40.0 -33.0 -35.0 -32.0 -21.0\n",
      "I -19.0 -30.0 -41.0 -44.0 -41.0 -36.0 -31.0 -35.0\n",
      "N -20.0 -31.0 -42.0 -44.0 -44.0 -41.0 -39.0 -25.0\n",
      "            P     R     T     E     I     N     S\n",
      "  -11.0 -12.0 -13.0 -14.0 -15.0 -16.0 -17.0 -18.0\n",
      "P  -inf -23.0 -24.0 -25.0 -26.0 -27.0 -28.0 -29.0\n",
      "R  -inf  -5.0 -35.0 -36.0 -37.0 -38.0 -39.0 -40.0\n",
      "T  -inf -16.0   0.0 -29.0 -37.0 -41.0 -41.0 -42.0\n",
      "W  -inf -27.0 -11.0   5.0 -24.0 -35.0 -41.0 -40.0\n",
      "P  -inf -38.0 -22.0  -6.0   2.0 -21.0 -33.0 -43.0\n",
      "S  -inf -31.0 -33.0 -17.0  -9.0  -1.0 -23.0 -33.0\n",
      "E  -inf -40.0 -32.0 -28.0 -20.0 -12.0   0.0 -19.0\n",
      "I  -inf -41.0 -40.0 -33.0 -31.0 -23.0 -11.0   0.0\n",
      "N  -inf -44.0 -44.0 -41.0 -36.0 -31.0 -22.0 -11.0\n"
     ]
    }
   ],
   "source": [
    "Mmatrix = gapMatrix(x,y,-np.inf,-np.inf,0)\n",
    "Ix = gapMatrix(x,y,gapOpen,-np.inf,gapOpen)\n",
    "Iy = gapMatrix(x,y,-np.inf,gapOpen,gapOpen)\n",
    "###\n",
    "m = len(x) + 1\n",
    "n = len(y) + 1\n",
    "for i in range(1,m):\n",
    "    #print(x[i-1])\n",
    "    for j in range(1,n):\n",
    "            Mscore = [Mmatrix[j-1][i-1] + subMat.loc[x[i-1]][y[j-1]],\n",
    "                      Ix[j-1][i-1] + gapOpen + subMat.loc[x[i-1]][y[j-1]],\n",
    "                      Iy[j-1][i-1] + gapOpen + subMat.loc[x[i-1]][y[j-1]]]\n",
    "            Mmatrix[j][i] = max(Mscore)\n",
    "            \n",
    "            \n",
    "            Yscore = [Mmatrix[j-1][i] +  gapExt + gapOpen,\n",
    "                 Iy[j-1][i] + gapOpen ,\n",
    "                ]\n",
    "            Iy[j][i] = max(Yscore)\n",
    "            \n",
    "            Xscore = [Mmatrix[j][i-1] +  gapExt + gapOpen,\n",
    "                 Ix[j][i-1] + gapOpen ,\n",
    "                ]\n",
    "            Ix[j][i] = max(Xscore)\n",
    "            \n",
    "\n",
    "\n",
    "print(vizScoringMat(x,y,Mmatrix))\n",
    "print(vizScoringMat(x,y,Ix))\n",
    "print(vizScoringMat(x,y,Iy))"
   ]
  },
  {
   "cell_type": "code",
   "execution_count": 25,
   "metadata": {
    "ExecuteTime": {
     "end_time": "2020-11-15T00:15:29.653959Z",
     "start_time": "2020-11-15T00:15:29.650356Z"
    }
   },
   "outputs": [
    {
     "data": {
      "text/plain": [
       "7"
      ]
     },
     "execution_count": 25,
     "metadata": {},
     "output_type": "execute_result"
    }
   ],
   "source": [
    "len(x)"
   ]
  },
  {
   "cell_type": "code",
   "execution_count": 26,
   "metadata": {
    "ExecuteTime": {
     "end_time": "2020-11-15T00:15:30.308271Z",
     "start_time": "2020-11-15T00:15:30.203451Z"
    }
   },
   "outputs": [
    {
     "ename": "IndexError",
     "evalue": "index 6 is out of bounds for axis 0 with size 4",
     "output_type": "error",
     "traceback": [
      "\u001b[0;31m---------------------------------------------------------------------------\u001b[0m",
      "\u001b[0;31mIndexError\u001b[0m                                Traceback (most recent call last)",
      "\u001b[0;32m<ipython-input-26-a95f018a1dfd>\u001b[0m in \u001b[0;36m<module>\u001b[0;34m\u001b[0m\n\u001b[0;32m----> 1\u001b[0;31m \u001b[0mbacktrack_global\u001b[0m\u001b[0;34m(\u001b[0m\u001b[0my\u001b[0m\u001b[0;34m,\u001b[0m\u001b[0mx\u001b[0m\u001b[0;34m,\u001b[0m\u001b[0mMm\u001b[0m\u001b[0;34m,\u001b[0m\u001b[0mblosum\u001b[0m\u001b[0;34m,\u001b[0m\u001b[0mindel\u001b[0m\u001b[0;34m)\u001b[0m\u001b[0;34m\u001b[0m\u001b[0;34m\u001b[0m\u001b[0m\n\u001b[0m",
      "\u001b[0;32m<ipython-input-1-6c113b0cbc23>\u001b[0m in \u001b[0;36mbacktrack_global\u001b[0;34m(x, y, sm, subMat, indel)\u001b[0m\n\u001b[1;32m    101\u001b[0m             \u001b[0mj\u001b[0m \u001b[0;34m-=\u001b[0m \u001b[0;36m1\u001b[0m\u001b[0;34m\u001b[0m\u001b[0;34m\u001b[0m\u001b[0m\n\u001b[1;32m    102\u001b[0m         \u001b[0;32melse\u001b[0m\u001b[0;34m:\u001b[0m\u001b[0;34m\u001b[0m\u001b[0;34m\u001b[0m\u001b[0m\n\u001b[0;32m--> 103\u001b[0;31m             \u001b[0mleft\u001b[0m \u001b[0;34m=\u001b[0m \u001b[0msm\u001b[0m\u001b[0;34m[\u001b[0m\u001b[0mj\u001b[0m\u001b[0;34m-\u001b[0m\u001b[0;36m1\u001b[0m\u001b[0;34m]\u001b[0m\u001b[0;34m[\u001b[0m\u001b[0mi\u001b[0m\u001b[0;34m]\u001b[0m \u001b[0;34m+\u001b[0m \u001b[0mindel\u001b[0m\u001b[0;34m\u001b[0m\u001b[0;34m\u001b[0m\u001b[0m\n\u001b[0m\u001b[1;32m    104\u001b[0m             \u001b[0mup\u001b[0m \u001b[0;34m=\u001b[0m \u001b[0msm\u001b[0m\u001b[0;34m[\u001b[0m\u001b[0mj\u001b[0m\u001b[0;34m]\u001b[0m\u001b[0;34m[\u001b[0m\u001b[0mi\u001b[0m\u001b[0;34m-\u001b[0m\u001b[0;36m1\u001b[0m\u001b[0;34m]\u001b[0m \u001b[0;34m+\u001b[0m \u001b[0mindel\u001b[0m\u001b[0;34m\u001b[0m\u001b[0;34m\u001b[0m\u001b[0m\n\u001b[1;32m    105\u001b[0m             \u001b[0mdiag\u001b[0m \u001b[0;34m=\u001b[0m \u001b[0msm\u001b[0m\u001b[0;34m[\u001b[0m\u001b[0mj\u001b[0m\u001b[0;34m-\u001b[0m\u001b[0;36m1\u001b[0m\u001b[0;34m]\u001b[0m\u001b[0;34m[\u001b[0m\u001b[0mi\u001b[0m\u001b[0;34m-\u001b[0m\u001b[0;36m1\u001b[0m\u001b[0;34m]\u001b[0m \u001b[0;34m+\u001b[0m \u001b[0msubMat\u001b[0m\u001b[0;34m.\u001b[0m\u001b[0mloc\u001b[0m\u001b[0;34m[\u001b[0m\u001b[0mx\u001b[0m\u001b[0;34m[\u001b[0m\u001b[0mi\u001b[0m\u001b[0;34m-\u001b[0m\u001b[0;36m1\u001b[0m\u001b[0;34m]\u001b[0m\u001b[0;34m]\u001b[0m\u001b[0;34m[\u001b[0m\u001b[0my\u001b[0m\u001b[0;34m[\u001b[0m\u001b[0mj\u001b[0m\u001b[0;34m-\u001b[0m\u001b[0;36m1\u001b[0m\u001b[0;34m]\u001b[0m\u001b[0;34m]\u001b[0m\u001b[0;34m\u001b[0m\u001b[0;34m\u001b[0m\u001b[0m\n",
      "\u001b[0;31mIndexError\u001b[0m: index 6 is out of bounds for axis 0 with size 4"
     ]
    }
   ],
   "source": [
    "backtrack_global(y,x,Mm,blosum,indel)"
   ]
  },
  {
   "cell_type": "code",
   "execution_count": null,
   "metadata": {},
   "outputs": [],
   "source": []
  },
  {
   "cell_type": "code",
   "execution_count": 31,
   "metadata": {
    "ExecuteTime": {
     "end_time": "2020-11-15T00:18:29.950962Z",
     "start_time": "2020-11-15T00:18:29.949193Z"
    }
   },
   "outputs": [],
   "source": [
    "w=x\n",
    "v=y"
   ]
  },
  {
   "cell_type": "code",
   "execution_count": 41,
   "metadata": {
    "ExecuteTime": {
     "end_time": "2020-11-15T00:20:00.402133Z",
     "start_time": "2020-11-15T00:20:00.397833Z"
    }
   },
   "outputs": [],
   "source": [
    "S = [[[0 for j in range(len(w)+1)] for i in range(len(v)+1)] for k in range(3)]\n",
    "backtrack = [[[0 for j in range(len(w)+1)] for i in range(len(v)+1)] for k in range(3)]"
   ]
  },
  {
   "cell_type": "code",
   "execution_count": 42,
   "metadata": {
    "ExecuteTime": {
     "end_time": "2020-11-15T00:20:00.552239Z",
     "start_time": "2020-11-15T00:20:00.539672Z"
    }
   },
   "outputs": [
    {
     "data": {
      "text/plain": [
       "[[[0, -110, -110, -110, -110, -110, -110, -110],\n",
       "  [-11, 0, 0, 0, 0, 0, 0, 0],\n",
       "  [-12, 0, 0, 0, 0, 0, 0, 0],\n",
       "  [-13, 0, 0, 0, 0, 0, 0, 0],\n",
       "  [-14, 0, 0, 0, 0, 0, 0, 0],\n",
       "  [-15, 0, 0, 0, 0, 0, 0, 0],\n",
       "  [-16, 0, 0, 0, 0, 0, 0, 0],\n",
       "  [-17, 0, 0, 0, 0, 0, 0, 0],\n",
       "  [-18, 0, 0, 0, 0, 0, 0, 0],\n",
       "  [-19, 0, 0, 0, 0, 0, 0, 0]],\n",
       " [[0, -11, -12, -13, -14, -15, -16, -17],\n",
       "  [-11, 0, 0, 0, 0, 0, 0, 0],\n",
       "  [-12, 0, 0, 0, 0, 0, 0, 0],\n",
       "  [-13, 0, 0, 0, 0, 0, 0, 0],\n",
       "  [-14, 0, 0, 0, 0, 0, 0, 0],\n",
       "  [-15, 0, 0, 0, 0, 0, 0, 0],\n",
       "  [-16, 0, 0, 0, 0, 0, 0, 0],\n",
       "  [-17, 0, 0, 0, 0, 0, 0, 0],\n",
       "  [-18, 0, 0, 0, 0, 0, 0, 0],\n",
       "  [-19, 0, 0, 0, 0, 0, 0, 0]],\n",
       " [[0, -11, -12, -13, -14, -15, -16, -17],\n",
       "  [-110, 0, 0, 0, 0, 0, 0, 0],\n",
       "  [-110, 0, 0, 0, 0, 0, 0, 0],\n",
       "  [-110, 0, 0, 0, 0, 0, 0, 0],\n",
       "  [-110, 0, 0, 0, 0, 0, 0, 0],\n",
       "  [-110, 0, 0, 0, 0, 0, 0, 0],\n",
       "  [-110, 0, 0, 0, 0, 0, 0, 0],\n",
       "  [-110, 0, 0, 0, 0, 0, 0, 0],\n",
       "  [-110, 0, 0, 0, 0, 0, 0, 0],\n",
       "  [-110, 0, 0, 0, 0, 0, 0, 0]]]"
      ]
     },
     "execution_count": 42,
     "metadata": {},
     "output_type": "execute_result"
    }
   ],
   "source": [
    "epsilon = 1\n",
    "sigma = 11\n",
    "for i in range(1, len(v)+1):\n",
    "        S[0][i][0] = -sigma - (i-1)*epsilon\n",
    "        S[1][i][0] = -sigma - (i-1)*epsilon\n",
    "        S[2][i][0] = -10*sigma\n",
    "for j in range(1, len(w)+1):\n",
    "    S[2][0][j] = -sigma - (j-1)*epsilon\n",
    "    S[1][0][j] = -sigma - (j-1)*epsilon\n",
    "    S[0][0][j] = -10*sigma\n",
    "S"
   ]
  },
  {
   "cell_type": "code",
   "execution_count": null,
   "metadata": {},
   "outputs": [],
   "source": [
    "sco"
   ]
  },
  {
   "cell_type": "code",
   "execution_count": 45,
   "metadata": {
    "ExecuteTime": {
     "end_time": "2020-11-15T00:22:00.326477Z",
     "start_time": "2020-11-15T00:22:00.320847Z"
    }
   },
   "outputs": [
    {
     "data": {
      "text/plain": [
       "7"
      ]
     },
     "execution_count": 45,
     "metadata": {},
     "output_type": "execute_result"
    }
   ],
   "source": [
    "##https://github.com/ZhangQiuxue/Rosalind/blob/master/096_GAFF.py"
   ]
  },
  {
   "cell_type": "code",
   "execution_count": 48,
   "metadata": {
    "ExecuteTime": {
     "end_time": "2020-11-15T00:22:26.007811Z",
     "start_time": "2020-11-15T00:22:25.996741Z"
    }
   },
   "outputs": [],
   "source": [
    "for i in range(1, len(v)+1):\n",
    "    for j in range(1, len(w)+1):\n",
    "        lower_scores = [S[0][i-1][j] - epsilon, S[1][i-1][j] - sigma]\n",
    "        S[0][i][j] = max(lower_scores)\n",
    "        backtrack[0][i][j] = lower_scores.index(S[0][i][j])\n",
    "\n",
    "        upper_scores = [S[2][i][j-1] - epsilon, S[1][i][j-1] - sigma]\n",
    "        S[2][i][j] = max(upper_scores)\n",
    "        backtrack[2][i][j] = upper_scores.index(S[2][i][j])\n",
    "\n",
    "        middle_scores = [S[0][i][j], S[1][i-1][j-1] + blosum[v[i-1]][w[j-1]], S[2][i][j]]\n",
    "        S[1][i][j] = max(middle_scores)\n",
    "        backtrack[1][i][j] = middle_scores.index(S[1][i][j])"
   ]
  },
  {
   "cell_type": "code",
   "execution_count": 51,
   "metadata": {
    "ExecuteTime": {
     "end_time": "2020-11-15T00:22:50.496714Z",
     "start_time": "2020-11-15T00:22:50.490657Z"
    }
   },
   "outputs": [],
   "source": [
    "i,j = len(v), len(w)\n",
    "v_aligned, w_aligned = v, w\n",
    "\n",
    "# Get the maximum score, and the corresponding backtrack starting position.\n",
    "matrix_scores = [S[0][i][j], S[1][i][j], S[2][i][j]]\n",
    "max_score = max(matrix_scores)\n",
    "backtrack_matrix = matrix_scores.index(max_score)\n",
    "\n",
    "# Quick lambda function to insert indels.\n",
    "insert_indel = lambda word, i: word[:i] + '-' + word[i:]\n"
   ]
  },
  {
   "cell_type": "code",
   "execution_count": 52,
   "metadata": {
    "ExecuteTime": {
     "end_time": "2020-11-15T00:23:02.559688Z",
     "start_time": "2020-11-15T00:23:02.552543Z"
    }
   },
   "outputs": [],
   "source": [
    "while i*j != 0:\n",
    "    if backtrack_matrix == 0:  # Lower backtrack matrix conditions.\n",
    "        if backtrack[0][i][j] == 1:\n",
    "            backtrack_matrix = 1\n",
    "        i -= 1\n",
    "        w_aligned = insert_indel(w_aligned, j)\n",
    "\n",
    "    elif backtrack_matrix == 1:  # Middle backtrack matrix conditions.\n",
    "        if backtrack[1][i][j] == 0:\n",
    "            backtrack_matrix = 0\n",
    "        elif backtrack[1][i][j] == 2:\n",
    "            backtrack_matrix = 2\n",
    "        else:\n",
    "            i -= 1\n",
    "            j -= 1\n",
    "\n",
    "    else:  # Upper backtrack matrix conditions.\n",
    "        if backtrack[2][i][j] == 1:\n",
    "            backtrack_matrix = 1\n",
    "        j -= 1\n",
    "        v_aligned = insert_indel(v_aligned, i)\n",
    "        "
   ]
  },
  {
   "cell_type": "code",
   "execution_count": 53,
   "metadata": {
    "ExecuteTime": {
     "end_time": "2020-11-15T00:23:18.915768Z",
     "start_time": "2020-11-15T00:23:18.911678Z"
    }
   },
   "outputs": [],
   "source": [
    "for _ in range(i):\n",
    "    w_aligned = insert_indel(w_aligned, 0)\n",
    "for _ in range(j):\n",
    "    v_aligned = insert_indel(v_aligned, 0)\n"
   ]
  },
  {
   "cell_type": "code",
   "execution_count": 55,
   "metadata": {
    "ExecuteTime": {
     "end_time": "2020-11-15T00:23:37.346085Z",
     "start_time": "2020-11-15T00:23:37.340291Z"
    }
   },
   "outputs": [
    {
     "name": "stdout",
     "output_type": "stream",
     "text": [
      "8\n",
      "PRT---EINS\n",
      "PRTWPSEIN-\n"
     ]
    }
   ],
   "source": [
    "print(max_score)\n",
    "print(w_aligned)\n",
    "print(v_aligned)"
   ]
  },
  {
   "cell_type": "code",
   "execution_count": null,
   "metadata": {},
   "outputs": [],
   "source": []
  }
 ],
 "metadata": {
  "kernelspec": {
   "display_name": "Python 3",
   "language": "python",
   "name": "python3"
  },
  "language_info": {
   "codemirror_mode": {
    "name": "ipython",
    "version": 3
   },
   "file_extension": ".py",
   "mimetype": "text/x-python",
   "name": "python",
   "nbconvert_exporter": "python",
   "pygments_lexer": "ipython3",
   "version": "3.8.6"
  },
  "varInspector": {
   "cols": {
    "lenName": 16,
    "lenType": 16,
    "lenVar": 40
   },
   "kernels_config": {
    "python": {
     "delete_cmd_postfix": "",
     "delete_cmd_prefix": "del ",
     "library": "var_list.py",
     "varRefreshCmd": "print(var_dic_list())"
    },
    "r": {
     "delete_cmd_postfix": ") ",
     "delete_cmd_prefix": "rm(",
     "library": "var_list.r",
     "varRefreshCmd": "cat(var_dic_list()) "
    }
   },
   "types_to_exclude": [
    "module",
    "function",
    "builtin_function_or_method",
    "instance",
    "_Feature"
   ],
   "window_display": false
  }
 },
 "nbformat": 4,
 "nbformat_minor": 4
}
