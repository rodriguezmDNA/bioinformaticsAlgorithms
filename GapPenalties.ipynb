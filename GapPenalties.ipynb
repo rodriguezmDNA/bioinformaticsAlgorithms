{
 "cells": [
  {
   "cell_type": "code",
   "execution_count": 10,
   "metadata": {
    "ExecuteTime": {
     "end_time": "2020-11-03T03:22:41.064596Z",
     "start_time": "2020-11-03T03:22:41.028933Z"
    }
   },
   "outputs": [],
   "source": [
    "import pandas as pd\n",
    "import numpy as np\n",
    "def createScorMat(match = 1,mismatch = 0,nts = ['A','C','T','G']):\n",
    "    \"\"\"\n",
    "    Create scoring matrix for nucleotides with a given match and mismatch values\n",
    "    \"\"\"\n",
    "    scoringMatrix = np.zeros((len(nts),len(nts)),)\n",
    "    np.fill_diagonal(scoringMatrix,match)\n",
    "    scoringMatrix\n",
    "    scoringMatrix[scoringMatrix == 0] = mismatch\n",
    "    scoringMatrix = pd.DataFrame(scoringMatrix,index=nts,columns=nts)\n",
    "    return scoringMatrix\n",
    "\n",
    "#### Dynamic programming implementation\n",
    "def scoringMatrix_local(x,y,subMat,indel):\n",
    "    m = len(x) + 1\n",
    "    n = len(y) + 1\n",
    "    globMax = (0,0)\n",
    "    scoringMat=np.zeros((n,m))\n",
    "    for i in range(1,m):\n",
    "        #print(x[i-1])\n",
    "        for j in range(1,n):\n",
    "            if x[i-1] == y[j-1]:\n",
    "                #scoringMat[j-1][i-1] + subMat.loc[x[i-1]][y[j-1]]\n",
    "                scoringMat[j][i] = scoringMat[j-1][i-1] + subMat.loc[x[i-1]][y[j-1]]\n",
    "            else:\n",
    "                mismatch = scoringMat[j-1][i-1] + subMat.loc[x[i-1]][y[j-1]]\n",
    "                left = scoringMat[j-1][i] + indel\n",
    "                up = scoringMat[j][i-1] + indel\n",
    "                scoringMat[j][i] = max(mismatch,left,up,0)\n",
    "            if scoringMat[j][i] >= scoringMat[globMax[1]][globMax[0]]:\n",
    "                globMax = (i,j)\n",
    "    return scoringMat,globMax\n",
    "\n",
    "\n",
    "def scoringMatrix_global(x,y,subMat,indel):\n",
    "    m = len(x) + 1\n",
    "    n = len(y) + 1\n",
    "    scoringMat=np.zeros((n,m))\n",
    "    scoringMat[:][0] = [0] + list(np.cumsum([indel for _ in x]))\n",
    "    scoringMat[:,0] = [0] + list(np.cumsum([indel for _ in y]))\n",
    "    for i in range(1,m):\n",
    "        #print(x[i-1])\n",
    "        for j in range(1,n):\n",
    "            if x[i-1] == y[j-1]:\n",
    "                #scoringMat[j-1][i-1] + subMat.loc[x[i-1]][y[j-1]]\n",
    "                scoringMat[j][i] = scoringMat[j-1][i-1] + subMat.loc[x[i-1]][y[j-1]]\n",
    "            else:\n",
    "                mismatch = scoringMat[j-1][i-1] + subMat.loc[x[i-1]][y[j-1]]\n",
    "                left = scoringMat[j-1][i] + indel\n",
    "                up = scoringMat[j][i-1] + indel\n",
    "                scoringMat[j][i] = max(mismatch,left,up)\n",
    "    return scoringMat\n",
    "\n",
    "\n",
    "def backtrack_local(x,y,sm,maxLocs):\n",
    "    i = maxLocs[0]\n",
    "    j = maxLocs[1]\n",
    "    w=''\n",
    "    z=''\n",
    "    z,w\n",
    "    while i*j > 0:\n",
    "        if x[i-1] == y[j-1]:\n",
    "            w += x[i-1]\n",
    "            z += y[j-1]\n",
    "            i -= 1\n",
    "            j -= 1\n",
    "        else:\n",
    "            left = sm[j-1][i]\n",
    "            up = sm[j][i-1]\n",
    "            diag = sm[j-1][i-1]\n",
    "            whichmax = np.argmax([left,up,diag])\n",
    "            if whichmax == 0:\n",
    "                w += '-'\n",
    "                z += y[j-1]\n",
    "                j -= 1\n",
    "            elif whichmax == 1:\n",
    "                z += '-'\n",
    "                w += x[i-1]\n",
    "                i -= 1\n",
    "            else:\n",
    "                w += x[i-1]\n",
    "                z += y[j-1]\n",
    "                i -= 1\n",
    "                j -= 1\n",
    "        if sm[j][i] == 0:\n",
    "            break\n",
    "    return w[::-1],z[::-1]\n",
    "\n",
    "def backtrack_global(x,y,sm,subMat,indel):\n",
    "    i = len(x)\n",
    "    j = len(y)\n",
    "    w=''\n",
    "    z=''\n",
    "    z,w\n",
    "    while i*j > 0:\n",
    "        if x[i-1] == y[j-1]:\n",
    "            w += x[i-1]\n",
    "            z += y[j-1]\n",
    "            i -= 1\n",
    "            j -= 1\n",
    "        else:\n",
    "            left = sm[j-1][i] + indel\n",
    "            up = sm[j][i-1] + indel\n",
    "            diag = sm[j-1][i-1] + subMat.loc[x[i-1]][y[j-1]]\n",
    "            whichmax = np.argmax([left,up,diag])\n",
    "            if whichmax == 0:\n",
    "                w += '-'\n",
    "                z += y[j-1]\n",
    "                j -= 1\n",
    "            elif whichmax == 1:\n",
    "                z += '-'\n",
    "                w += x[i-1]\n",
    "                i -= 1\n",
    "            else:\n",
    "                w += x[i-1]\n",
    "                z += y[j-1]\n",
    "                i -= 1\n",
    "                j -= 1\n",
    "    if j==0 and i>0:\n",
    "        w = x[:i]+w[::-1]\n",
    "        z = '-' * i + z[::-1]\n",
    "    elif i==0 and j>0:\n",
    "        z = y[:i]+z[::-1]\n",
    "        w = '-' * j + w[::-1]\n",
    "    else:\n",
    "        w = w[::-1]\n",
    "        z = z[::-1]\n",
    "    return w,z\n",
    "\n",
    "def locAl(x,y,subMat,indel):\n",
    "    '''\n",
    "    A wrapper for DP implementation of Smith-Waterman\n",
    "    '''\n",
    "    sm, maxLocs = scoringMatrix_local(x,y,subMat,indel)\n",
    "    z,w = backtrack_local(x,y,sm,maxLocs)\n",
    "    return z,w,sm[maxLocs[1],maxLocs[0]],sm\n",
    "\n",
    "def globAl(x,y,subMat,indel):\n",
    "    '''\n",
    "    A wrapper for DP implementation of Smith-Waterman\n",
    "    '''\n",
    "    sm = scoringMatrix_global(x,y,subMat,indel)\n",
    "    z,w = backtrack_global(x,y,sm,subMat,indel)\n",
    "    return z,w,sm[len(y),len(x)]\n",
    "\n",
    "def vizScoringMat(x,y,scoringMat):\n",
    "    return pd.DataFrame(scoringMat,index=['']+[_ for _ in y],\n",
    "             columns=['']+[_ for _ in x])\n",
    "\n",
    "def readBlosum62():\n",
    "    '''\n",
    "    Read scoring matrix\n",
    "    '''\n",
    "    with open('blosum62.txt') as matrix_file:\n",
    "        matrix = matrix_file.read()\n",
    "        lines = matrix.strip().split('\\n')\n",
    "\n",
    "    blosum={}\n",
    "    cols = lines[0].split()\n",
    "\n",
    "    for row in lines[1:]:       \n",
    "        idx = row[0]\n",
    "        vals = row[1:].split()\n",
    "        vals = [int(_) for _ in vals]\n",
    "        #print(idx,vals)\n",
    "        blosum[idx]=vals\n",
    "\n",
    "    blosum = pd.DataFrame.from_dict(blosum,orient='index',columns=cols)\n",
    "    return blosum"
   ]
  },
  {
   "cell_type": "code",
   "execution_count": 8,
   "metadata": {
    "ExecuteTime": {
     "end_time": "2020-11-03T03:22:21.803174Z",
     "start_time": "2020-11-03T03:22:21.795675Z"
    }
   },
   "outputs": [],
   "source": [
    "blosum = readBlosum62()"
   ]
  },
  {
   "cell_type": "code",
   "execution_count": 11,
   "metadata": {
    "ExecuteTime": {
     "end_time": "2020-11-03T03:22:43.343693Z",
     "start_time": "2020-11-03T03:22:43.323419Z"
    }
   },
   "outputs": [
    {
     "data": {
      "text/plain": [
       "('PRT',\n",
       " 'PRT',\n",
       " 17.0,\n",
       " array([[ 0.,  0.,  0.,  0.,  0.,  0.,  0.,  0.],\n",
       "        [ 0.,  7.,  0.,  0.,  0.,  0.,  0.,  0.],\n",
       "        [ 0.,  0., 12.,  4.,  0.,  0.,  0.,  0.],\n",
       "        [ 0.,  0.,  4., 17.,  9.,  1.,  0.,  1.],\n",
       "        [ 0.,  0.,  0.,  9., 14.,  6.,  0.,  0.],\n",
       "        [ 0.,  7.,  0.,  1.,  8., 11.,  4.,  0.],\n",
       "        [ 0.,  0.,  6.,  1.,  1.,  6., 12.,  8.],\n",
       "        [ 0.,  0.,  0.,  5.,  6.,  0.,  6., 12.],\n",
       "        [ 0.,  0.,  0.,  0.,  2., 10.,  2.,  4.],\n",
       "        [ 0.,  0.,  0.,  0.,  0.,  2., 16.,  8.]]))"
      ]
     },
     "execution_count": 11,
     "metadata": {},
     "output_type": "execute_result"
    }
   ],
   "source": [
    "### Example from https://www.bioinformaticsalgorithms.org/bioinformatics-chapter-5\n",
    "## Problem 3: Overlap Alignment\n",
    "x='PRTEINS'\n",
    "y='PRTWPSEIN'\n",
    "indel = -8\n",
    "subMat = blosum\n",
    "locAl(x,y,subMat,indel)"
   ]
  },
  {
   "cell_type": "code",
   "execution_count": 29,
   "metadata": {
    "ExecuteTime": {
     "end_time": "2020-11-03T04:55:48.295519Z",
     "start_time": "2020-11-03T04:55:48.276901Z"
    }
   },
   "outputs": [
    {
     "data": {
      "text/plain": [
       "('PRTEINS', 'PS-EIN-')"
      ]
     },
     "execution_count": 29,
     "metadata": {},
     "output_type": "execute_result"
    }
   ],
   "source": [
    "### Example from https://www.bioinformaticsalgorithms.org/bioinformatics-chapter-5\n",
    "## Problem 3: Overlap Alignment\n",
    "x='PRTEINS'\n",
    "y='PRTWPSEIN'\n",
    "indel = -11\n",
    "gap = -1\n",
    "subMat = blosum\n",
    "sm,_ = scoringMatrix_local(x,y,subMat,indel)\n",
    "backtrack_local(x,y,sm,(len(x),len(y)))"
   ]
  },
  {
   "cell_type": "code",
   "execution_count": 24,
   "metadata": {
    "ExecuteTime": {
     "end_time": "2020-11-03T03:25:15.609409Z",
     "start_time": "2020-11-03T03:25:15.602920Z"
    }
   },
   "outputs": [
    {
     "data": {
      "text/plain": [
       "(7, 9)"
      ]
     },
     "execution_count": 24,
     "metadata": {},
     "output_type": "execute_result"
    }
   ],
   "source": [
    "#http://csbio.unc.edu/mcmillan/Comp555S16/Lecture14.html\n",
    "#http://rosalind.info/problems/ba5j/"
   ]
  },
  {
   "cell_type": "code",
   "execution_count": 31,
   "metadata": {
    "ExecuteTime": {
     "end_time": "2020-11-03T04:56:12.430169Z",
     "start_time": "2020-11-03T04:56:12.399397Z"
    }
   },
   "outputs": [
    {
     "data": {
      "text/plain": [
       "(array([[  0., -11., -22., -33., -44., -55., -66., -77.],\n",
       "        [-11.,   7., -12., -23., -34., -45., -56., -67.],\n",
       "        [-22., -12.,  12., -13., -23., -35., -45., -57.],\n",
       "        [-33., -23., -13.,  17., -14., -24., -35., -44.],\n",
       "        [-44., -34., -24., -14.,  14., -15., -26., -37.],\n",
       "        [-55., -37., -35., -25., -15.,  11., -16., -27.],\n",
       "        [-66., -56.,  -1., -34., -25., -16.,  12., -12.],\n",
       "        [-77., -67., -56.,  -2., -29., -27., -16.,  12.],\n",
       "        [-88., -78., -68., -57.,  -3., -25., -28., -18.],\n",
       "        [-99., -89., -78., -68., -57.,  -4., -19., -27.]]),\n",
       " array([[  0., -11., -22., -33., -44., -55., -66., -77.],\n",
       "        [-11.,   0., -12., -23., -34., -45., -56., -67.],\n",
       "        [-22., -12.,   0., -13., -24., -35., -46., -57.],\n",
       "        [-33., -23., -13.,   0., -14., -25., -36., -47.],\n",
       "        [-44., -34., -24., -14.,   5., -15., -26., -37.],\n",
       "        [-55.,   0., -35., -25., -15.,   4., -16., -27.],\n",
       "        [-66., -56.,  -1., -36., -26., -16.,   3.,   0.],\n",
       "        [-77., -67., -57.,  -2.,   0., -27., -17.,   2.],\n",
       "        [-88., -78., -68., -58.,  -3.,   0., -28., -18.],\n",
       "        [-99., -89., -79., -69., -59.,  -4.,   0., -29.]]),\n",
       " array([[  0., -11., -22., -33., -44., -55., -66., -77.],\n",
       "        [-11.,   0., -12., -23., -34., -45., -56., -67.],\n",
       "        [-22., -12.,   0., -13., -24., -35., -46., -57.],\n",
       "        [-33., -23., -13.,   0., -14., -25., -36., -47.],\n",
       "        [-44., -34., -24., -14.,   5., -15., -26., -37.],\n",
       "        [-55.,   0., -35., -25., -15.,   4., -16., -27.],\n",
       "        [-66., -56.,  -1., -36., -26., -16.,   3.,   0.],\n",
       "        [-77., -67., -57.,  -2.,   0., -27., -17.,   2.],\n",
       "        [-88., -78., -68., -58.,  -3.,   0., -28., -18.],\n",
       "        [-99., -89., -79., -69., -59.,  -4.,   0., -29.]]))"
      ]
     },
     "execution_count": 31,
     "metadata": {},
     "output_type": "execute_result"
    }
   ],
   "source": [
    "##http://csbio.unc.edu/mcmillan/Comp555S16/Lecture14.html\n",
    "\n",
    "m = len(x) + 1\n",
    "n = len(y) + 1\n",
    "\n",
    "uTable=np.zeros((n,m)) # Keeps track of w gaps \n",
    "sTable=np.zeros((n,m)) # Main scoring matrix\n",
    "tTable=np.zeros((n,m)) # Keeps track of v gaps\n",
    "\n",
    "### Initialize \n",
    "# main\n",
    "sTable[:][0] = [0] + list(np.cumsum([indel for _ in x]))\n",
    "sTable[:,0] = [0] + list(np.cumsum([indel for _ in y]))\n",
    "# left\n",
    "tTable[:][0] = [0] + list(np.cumsum([indel for _ in x]))\n",
    "tTable[:,0] = [0] + list(np.cumsum([indel for _ in y]))\n",
    "# up\n",
    "uTable[:][0] = [0] + list(np.cumsum([indel for _ in x]))\n",
    "uTable[:,0] = [0] + list(np.cumsum([indel for _ in y]))\n",
    "#########\n",
    "for i in range(1,m):\n",
    "    #print(x[i-1])\n",
    "    for j in range(1,n):\n",
    "        if x[i-1] == y[j-1]:\n",
    "            #scoringMat[j-1][i-1] + subMat.loc[x[i-1]][y[j-1]]\n",
    "            sTable[j][i] = sTable[j-1][i-1] + subMat.loc[x[i-1]][y[j-1]]\n",
    "        else:\n",
    "            ### up\n",
    "            contGapV = tTable[j-1][i-1] + gap\n",
    "            startGapV = sTable[j-1][i-1] + indel + gap\n",
    "            tTable[j][i] = max(contGapV, startGapV)\n",
    "\n",
    "            ### left\n",
    "            contGapW = uTable[j-1][i-1] + gap\n",
    "            startGapW = sTable[j-1][i-1] + indel + gap\n",
    "            uTable[j][i] = max(contGapW, startGapW)\n",
    "\n",
    "            ###\n",
    "            mismatch = sTable[j-1][i-1] + subMat.loc[x[i-1]][y[j-1]]\n",
    "            left = tTable[j][i]\n",
    "            up = uTable[j][i]\n",
    "            sTable[j][i] = max(mismatch,left,up)\n",
    "sTable, tTable, uTable"
   ]
  },
  {
   "cell_type": "code",
   "execution_count": null,
   "metadata": {},
   "outputs": [],
   "source": []
  }
 ],
 "metadata": {
  "kernelspec": {
   "display_name": "Python 3",
   "language": "python",
   "name": "python3"
  },
  "language_info": {
   "codemirror_mode": {
    "name": "ipython",
    "version": 3
   },
   "file_extension": ".py",
   "mimetype": "text/x-python",
   "name": "python",
   "nbconvert_exporter": "python",
   "pygments_lexer": "ipython3",
   "version": "3.8.6"
  },
  "varInspector": {
   "cols": {
    "lenName": 16,
    "lenType": 16,
    "lenVar": 40
   },
   "kernels_config": {
    "python": {
     "delete_cmd_postfix": "",
     "delete_cmd_prefix": "del ",
     "library": "var_list.py",
     "varRefreshCmd": "print(var_dic_list())"
    },
    "r": {
     "delete_cmd_postfix": ") ",
     "delete_cmd_prefix": "rm(",
     "library": "var_list.r",
     "varRefreshCmd": "cat(var_dic_list()) "
    }
   },
   "types_to_exclude": [
    "module",
    "function",
    "builtin_function_or_method",
    "instance",
    "_Feature"
   ],
   "window_display": false
  }
 },
 "nbformat": 4,
 "nbformat_minor": 4
}
