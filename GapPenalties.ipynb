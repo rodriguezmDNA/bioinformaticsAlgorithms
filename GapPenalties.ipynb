{
 "cells": [
  {
   "cell_type": "markdown",
   "metadata": {},
   "source": [
    "__Video resources__\n",
    "\n",
    "* https://www.youtube.com/watch?v=ZBD9he4Zp1E\n",
    "* https://www.youtube.com/watch?v=Npv180dQ_4Y\n",
    "* https://www.youtube.com/watch?v=NqYY0PJbD3s\n",
    "\n",
    "\n",
    "\n",
    "__Read this__\n",
    "* http://csbio.unc.edu/mcmillan/Comp555S16/Lecture14.html\n",
    "* https://www.cs.cmu.edu/~ckingsf/bioinfo-lectures/gaps.pdf\n",
    "* http://www.bioinfo.rpi.edu/bystrc/courses/biol4540/lecture4.pdf"
   ]
  },
  {
   "cell_type": "code",
   "execution_count": 1,
   "metadata": {
    "ExecuteTime": {
     "end_time": "2020-11-10T03:59:36.564320Z",
     "start_time": "2020-11-10T03:59:36.180863Z"
    }
   },
   "outputs": [],
   "source": [
    "import pandas as pd\n",
    "import numpy as np\n",
    "def createScorMat(match = 1,mismatch = 0,nts = ['A','C','T','G']):\n",
    "    \"\"\"\n",
    "    Create scoring matrix for nucleotides with a given match and mismatch values\n",
    "    \"\"\"\n",
    "    scoringMatrix = np.zeros((len(nts),len(nts)),)\n",
    "    np.fill_diagonal(scoringMatrix,match)\n",
    "    scoringMatrix\n",
    "    scoringMatrix[scoringMatrix == 0] = mismatch\n",
    "    scoringMatrix = pd.DataFrame(scoringMatrix,index=nts,columns=nts)\n",
    "    return scoringMatrix\n",
    "\n",
    "#### Dynamic programming implementation\n",
    "def scoringMatrix_local(x,y,subMat,indel):\n",
    "    m = len(x) + 1\n",
    "    n = len(y) + 1\n",
    "    globMax = (0,0)\n",
    "    scoringMat=np.zeros((n,m))\n",
    "    for i in range(1,m):\n",
    "        #print(x[i-1])\n",
    "        for j in range(1,n):\n",
    "            if x[i-1] == y[j-1]:\n",
    "                #scoringMat[j-1][i-1] + subMat.loc[x[i-1]][y[j-1]]\n",
    "                scoringMat[j][i] = scoringMat[j-1][i-1] + subMat.loc[x[i-1]][y[j-1]]\n",
    "            else:\n",
    "                mismatch = scoringMat[j-1][i-1] + subMat.loc[x[i-1]][y[j-1]]\n",
    "                left = scoringMat[j-1][i] + indel\n",
    "                up = scoringMat[j][i-1] + indel\n",
    "                scoringMat[j][i] = max(mismatch,left,up,0)\n",
    "            if scoringMat[j][i] >= scoringMat[globMax[1]][globMax[0]]:\n",
    "                globMax = (i,j)\n",
    "    return scoringMat,globMax\n",
    "\n",
    "\n",
    "def scoringMatrix_global(x,y,subMat,indel):\n",
    "    m = len(x) + 1\n",
    "    n = len(y) + 1\n",
    "    scoringMat=np.zeros((n,m))\n",
    "    scoringMat[:][0] = [0] + list(np.cumsum([indel for _ in x]))\n",
    "    scoringMat[:,0] = [0] + list(np.cumsum([indel for _ in y]))\n",
    "    for i in range(1,m):\n",
    "        #print(x[i-1])\n",
    "        for j in range(1,n):\n",
    "            if x[i-1] == y[j-1]:\n",
    "                #scoringMat[j-1][i-1] + subMat.loc[x[i-1]][y[j-1]]\n",
    "                scoringMat[j][i] = scoringMat[j-1][i-1] + subMat.loc[x[i-1]][y[j-1]]\n",
    "            else:\n",
    "                mismatch = scoringMat[j-1][i-1] + subMat.loc[x[i-1]][y[j-1]]\n",
    "                left = scoringMat[j-1][i] + indel\n",
    "                up = scoringMat[j][i-1] + indel\n",
    "                scoringMat[j][i] = max(mismatch,left,up)\n",
    "    return scoringMat\n",
    "\n",
    "\n",
    "def backtrack_local(x,y,sm,maxLocs):\n",
    "    i = maxLocs[0]\n",
    "    j = maxLocs[1]\n",
    "    w=''\n",
    "    z=''\n",
    "    z,w\n",
    "    while i*j > 0:\n",
    "        if x[i-1] == y[j-1]:\n",
    "            w += x[i-1]\n",
    "            z += y[j-1]\n",
    "            i -= 1\n",
    "            j -= 1\n",
    "        else:\n",
    "            left = sm[j-1][i]\n",
    "            up = sm[j][i-1]\n",
    "            diag = sm[j-1][i-1]\n",
    "            whichmax = np.argmax([left,up,diag])\n",
    "            if whichmax == 0:\n",
    "                w += '-'\n",
    "                z += y[j-1]\n",
    "                j -= 1\n",
    "            elif whichmax == 1:\n",
    "                z += '-'\n",
    "                w += x[i-1]\n",
    "                i -= 1\n",
    "            else:\n",
    "                w += x[i-1]\n",
    "                z += y[j-1]\n",
    "                i -= 1\n",
    "                j -= 1\n",
    "        if sm[j][i] == 0:\n",
    "            break\n",
    "    return w[::-1],z[::-1]\n",
    "\n",
    "def backtrack_global(x,y,sm,subMat,indel):\n",
    "    i = len(x)\n",
    "    j = len(y)\n",
    "    w=''\n",
    "    z=''\n",
    "    z,w\n",
    "    while i*j > 0:\n",
    "        if x[i-1] == y[j-1]:\n",
    "            w += x[i-1]\n",
    "            z += y[j-1]\n",
    "            i -= 1\n",
    "            j -= 1\n",
    "        else:\n",
    "            left = sm[j-1][i] + indel\n",
    "            up = sm[j][i-1] + indel\n",
    "            diag = sm[j-1][i-1] + subMat.loc[x[i-1]][y[j-1]]\n",
    "            whichmax = np.argmax([left,up,diag])\n",
    "            if whichmax == 0:\n",
    "                w += '-'\n",
    "                z += y[j-1]\n",
    "                j -= 1\n",
    "            elif whichmax == 1:\n",
    "                z += '-'\n",
    "                w += x[i-1]\n",
    "                i -= 1\n",
    "            else:\n",
    "                w += x[i-1]\n",
    "                z += y[j-1]\n",
    "                i -= 1\n",
    "                j -= 1\n",
    "    if j==0 and i>0:\n",
    "        w = x[:i]+w[::-1]\n",
    "        z = '-' * i + z[::-1]\n",
    "    elif i==0 and j>0:\n",
    "        z = y[:i]+z[::-1]\n",
    "        w = '-' * j + w[::-1]\n",
    "    else:\n",
    "        w = w[::-1]\n",
    "        z = z[::-1]\n",
    "    return w,z\n",
    "\n",
    "def locAl(x,y,subMat,indel):\n",
    "    '''\n",
    "    A wrapper for DP implementation of Smith-Waterman\n",
    "    '''\n",
    "    sm, maxLocs = scoringMatrix_local(x,y,subMat,indel)\n",
    "    z,w = backtrack_local(x,y,sm,maxLocs)\n",
    "    return z,w,sm[maxLocs[1],maxLocs[0]],sm\n",
    "\n",
    "def globAl(x,y,subMat,indel):\n",
    "    '''\n",
    "    A wrapper for DP implementation of Smith-Waterman\n",
    "    '''\n",
    "    sm = scoringMatrix_global(x,y,subMat,indel)\n",
    "    z,w = backtrack_global(x,y,sm,subMat,indel)\n",
    "    return z,w,sm[len(y),len(x)]\n",
    "\n",
    "def vizScoringMat(x,y,scoringMat):\n",
    "    return pd.DataFrame(scoringMat,index=['']+[_ for _ in y],\n",
    "             columns=['']+[_ for _ in x])\n",
    "\n",
    "def readBlosum62():\n",
    "    '''\n",
    "    Read scoring matrix\n",
    "    '''\n",
    "    with open('blosum62.txt') as matrix_file:\n",
    "        matrix = matrix_file.read()\n",
    "        lines = matrix.strip().split('\\n')\n",
    "\n",
    "    blosum={}\n",
    "    cols = lines[0].split()\n",
    "\n",
    "    for row in lines[1:]:       \n",
    "        idx = row[0]\n",
    "        vals = row[1:].split()\n",
    "        vals = [int(_) for _ in vals]\n",
    "        #print(idx,vals)\n",
    "        blosum[idx]=vals\n",
    "\n",
    "    blosum = pd.DataFrame.from_dict(blosum,orient='index',columns=cols)\n",
    "    return blosum"
   ]
  },
  {
   "cell_type": "code",
   "execution_count": 2,
   "metadata": {
    "ExecuteTime": {
     "end_time": "2020-11-10T03:59:37.921481Z",
     "start_time": "2020-11-10T03:59:37.909758Z"
    }
   },
   "outputs": [],
   "source": [
    "blosum = readBlosum62()"
   ]
  },
  {
   "cell_type": "code",
   "execution_count": 3,
   "metadata": {
    "ExecuteTime": {
     "end_time": "2020-11-10T03:59:38.314399Z",
     "start_time": "2020-11-10T03:59:38.292171Z"
    }
   },
   "outputs": [
    {
     "data": {
      "text/plain": [
       "('PRT',\n",
       " 'PRT',\n",
       " 17.0,\n",
       " array([[ 0.,  0.,  0.,  0.,  0.,  0.,  0.,  0.],\n",
       "        [ 0.,  7.,  0.,  0.,  0.,  0.,  0.,  0.],\n",
       "        [ 0.,  0., 12.,  4.,  0.,  0.,  0.,  0.],\n",
       "        [ 0.,  0.,  4., 17.,  9.,  1.,  0.,  1.],\n",
       "        [ 0.,  0.,  0.,  9., 14.,  6.,  0.,  0.],\n",
       "        [ 0.,  7.,  0.,  1.,  8., 11.,  4.,  0.],\n",
       "        [ 0.,  0.,  6.,  1.,  1.,  6., 12.,  8.],\n",
       "        [ 0.,  0.,  0.,  5.,  6.,  0.,  6., 12.],\n",
       "        [ 0.,  0.,  0.,  0.,  2., 10.,  2.,  4.],\n",
       "        [ 0.,  0.,  0.,  0.,  0.,  2., 16.,  8.]]))"
      ]
     },
     "execution_count": 3,
     "metadata": {},
     "output_type": "execute_result"
    }
   ],
   "source": [
    "### Example from https://www.bioinformaticsalgorithms.org/bioinformatics-chapter-5\n",
    "## Problem 3: Overlap Alignment\n",
    "x='PRTEINS'\n",
    "y='PRTWPSEIN'\n",
    "indel = -8\n",
    "subMat = blosum\n",
    "locAl(x,y,subMat,indel)"
   ]
  },
  {
   "cell_type": "code",
   "execution_count": 4,
   "metadata": {
    "ExecuteTime": {
     "end_time": "2020-11-10T03:59:38.657776Z",
     "start_time": "2020-11-10T03:59:38.642544Z"
    }
   },
   "outputs": [
    {
     "data": {
      "text/plain": [
       "(('ATTGACCTGA', 'A-T--CCTGA', 4.0),)"
      ]
     },
     "execution_count": 4,
     "metadata": {},
     "output_type": "execute_result"
    }
   ],
   "source": [
    "### Example from https://www.bioinformaticsalgorithms.org/bioinformatics-chapter-5\n",
    "## Problem 3: Overlap Alignment\n",
    "x='ATTGACCTGA'\n",
    "y='ATCCTGA'\n",
    "indel = -1\n",
    "gap = -1\n",
    "subMat = createScorMat(match = 1,mismatch = -2,nts = list(set(y) | set(x)))\n",
    "globAl(x,y,subMat,indel),"
   ]
  },
  {
   "cell_type": "code",
   "execution_count": 5,
   "metadata": {
    "ExecuteTime": {
     "end_time": "2020-11-10T03:59:39.027031Z",
     "start_time": "2020-11-10T03:59:39.012473Z"
    }
   },
   "outputs": [
    {
     "data": {
      "text/plain": [
       "('PRTEINS', 'PS-EIN-')"
      ]
     },
     "execution_count": 5,
     "metadata": {},
     "output_type": "execute_result"
    }
   ],
   "source": [
    "### Example from https://www.bioinformaticsalgorithms.org/bioinformatics-chapter-5\n",
    "## Problem 3: Overlap Alignment\n",
    "x='PRTEINS'\n",
    "y='PRTWPSEIN'\n",
    "indel = -11\n",
    "gap = -1\n",
    "subMat = blosum\n",
    "sm,_ = scoringMatrix_local(x,y,subMat,indel)\n",
    "backtrack_local(x,y,sm,(len(x),len(y)))"
   ]
  },
  {
   "cell_type": "code",
   "execution_count": 6,
   "metadata": {
    "ExecuteTime": {
     "end_time": "2020-11-10T03:59:39.395415Z",
     "start_time": "2020-11-10T03:59:39.392132Z"
    }
   },
   "outputs": [],
   "source": [
    "#http://csbio.unc.edu/mcmillan/Comp555S16/Lecture14.html\n",
    "#http://rosalind.info/problems/ba5j/"
   ]
  },
  {
   "cell_type": "code",
   "execution_count": 7,
   "metadata": {
    "ExecuteTime": {
     "end_time": "2020-11-10T03:59:39.734296Z",
     "start_time": "2020-11-10T03:59:39.725174Z"
    }
   },
   "outputs": [
    {
     "data": {
      "text/plain": [
       "(('ACACT', 'A-A-T', 1.0),)"
      ]
     },
     "execution_count": 7,
     "metadata": {},
     "output_type": "execute_result"
    }
   ],
   "source": [
    "### Example from https://www.bioinformaticsalgorithms.org/bioinformatics-chapter-5\n",
    "## Problem 3: Overlap Alignment\n",
    "x='ACACT'\n",
    "y='AAT'\n",
    "indel = -1\n",
    "gap = -3\n",
    "subMat = createScorMat(match = 1,mismatch = -1,nts = list(set(y) | set(x)))\n",
    "globAl(x,y,subMat,indel),"
   ]
  },
  {
   "cell_type": "code",
   "execution_count": null,
   "metadata": {
    "ExecuteTime": {
     "end_time": "2020-11-05T02:33:41.737373Z",
     "start_time": "2020-11-05T02:33:41.733486Z"
    }
   },
   "outputs": [],
   "source": []
  },
  {
   "cell_type": "code",
   "execution_count": 8,
   "metadata": {
    "ExecuteTime": {
     "end_time": "2020-11-10T03:59:40.949021Z",
     "start_time": "2020-11-10T03:59:40.944657Z"
    }
   },
   "outputs": [],
   "source": [
    "def initScoringTable(x,y,initY=indel,initX=indel,start=0):\n",
    "    m = len(x) + 1\n",
    "    n = len(y) + 1\n",
    "    scoringMat=np.zeros((n,m)) # Main scoring matrix\n",
    "    scoringMat[:][0] = [0] + list(np.cumsum([initX for _ in x]))\n",
    "    scoringMat[:,0] = [0] + list(np.cumsum([initY for _ in y]))\n",
    "    scoringMat[0,0]=start\n",
    "    return scoringMat"
   ]
  },
  {
   "cell_type": "code",
   "execution_count": 9,
   "metadata": {
    "ExecuteTime": {
     "end_time": "2020-11-10T03:59:41.423338Z",
     "start_time": "2020-11-10T03:59:41.272216Z"
    }
   },
   "outputs": [
    {
     "ename": "NameError",
     "evalue": "name 'n' is not defined",
     "output_type": "error",
     "traceback": [
      "\u001b[0;31m---------------------------------------------------------------------------\u001b[0m",
      "\u001b[0;31mNameError\u001b[0m                                 Traceback (most recent call last)",
      "\u001b[0;32m<ipython-input-9-8e91844b4f36>\u001b[0m in \u001b[0;36m<module>\u001b[0;34m\u001b[0m\n\u001b[0;32m----> 1\u001b[0;31m \u001b[0;34m[\u001b[0m\u001b[0;34m-\u001b[0m\u001b[0mi\u001b[0m \u001b[0;34m+\u001b[0m \u001b[0mgap\u001b[0m \u001b[0;32mfor\u001b[0m \u001b[0mi\u001b[0m \u001b[0;32min\u001b[0m \u001b[0mrange\u001b[0m\u001b[0;34m(\u001b[0m\u001b[0;36m1\u001b[0m\u001b[0;34m,\u001b[0m\u001b[0mn\u001b[0m\u001b[0;34m)\u001b[0m\u001b[0;34m]\u001b[0m\u001b[0;34m\u001b[0m\u001b[0;34m\u001b[0m\u001b[0m\n\u001b[0m",
      "\u001b[0;31mNameError\u001b[0m: name 'n' is not defined"
     ]
    }
   ],
   "source": [
    "[-i + gap for i in range(1,n)]"
   ]
  },
  {
   "cell_type": "code",
   "execution_count": 10,
   "metadata": {
    "ExecuteTime": {
     "end_time": "2020-11-10T03:59:41.809155Z",
     "start_time": "2020-11-10T03:59:41.805896Z"
    }
   },
   "outputs": [],
   "source": [
    "gapExtension = -1\n",
    "gapOpen = -3"
   ]
  },
  {
   "cell_type": "markdown",
   "metadata": {
    "ExecuteTime": {
     "end_time": "2020-11-05T02:47:17.168238Z",
     "start_time": "2020-11-05T02:47:17.160964Z"
    }
   },
   "source": [
    "### Follow this example \n",
    "https://www.youtube.com/watch?v=NqYY0PJbD3s"
   ]
  },
  {
   "cell_type": "code",
   "execution_count": 11,
   "metadata": {
    "ExecuteTime": {
     "end_time": "2020-11-10T03:59:42.605364Z",
     "start_time": "2020-11-10T03:59:42.602005Z"
    }
   },
   "outputs": [],
   "source": [
    "m= len(x)\n",
    "n= len(y)"
   ]
  },
  {
   "cell_type": "code",
   "execution_count": 12,
   "metadata": {
    "ExecuteTime": {
     "end_time": "2020-11-10T03:59:43.033438Z",
     "start_time": "2020-11-10T03:59:43.026412Z"
    }
   },
   "outputs": [
    {
     "data": {
      "text/plain": [
       "array([[ -3.,  -4.,  -5.,  -6.,  -7.],\n",
       "       [-inf,   0.,   0.,   0.,   0.],\n",
       "       [-inf,   0.,   0.,   0.,   0.]])"
      ]
     },
     "execution_count": 12,
     "metadata": {},
     "output_type": "execute_result"
    }
   ],
   "source": [
    "####\n",
    "scoringMat=np.zeros((n,m)) # Main scoring matrix\n",
    "inX = [gapOpen]\n",
    "[inX.append(inX[i-1] + gapExtension) for i in range(1,m)]\n",
    "scoringMat[:][0] = inX\n",
    "scoringMat[:,0][1:] = [-np.inf  for i in range(1,n)]\n",
    "scoringMat\n",
    "scoringMat"
   ]
  },
  {
   "cell_type": "code",
   "execution_count": 13,
   "metadata": {
    "ExecuteTime": {
     "end_time": "2020-11-10T03:59:43.793859Z",
     "start_time": "2020-11-10T03:59:43.785838Z"
    }
   },
   "outputs": [
    {
     "data": {
      "text/plain": [
       "array([[ -3., -inf, -inf, -inf, -inf],\n",
       "       [ -4.,   0.,   0.,   0.,   0.],\n",
       "       [ -5.,   0.,   0.,   0.,   0.]])"
      ]
     },
     "execution_count": 13,
     "metadata": {},
     "output_type": "execute_result"
    }
   ],
   "source": [
    "####\n",
    "scoringMat=np.zeros((n,m)) # Main scoring matrix\n",
    "inY = [gapOpen]\n",
    "[inY.append(inY[i-1] + gapExtension) for i in range(1,n)]\n",
    "scoringMat[:,0] = inY\n",
    "scoringMat[:][0][1:] = [-np.inf  for i in range(1,m)]\n",
    "scoringMat"
   ]
  },
  {
   "cell_type": "code",
   "execution_count": null,
   "metadata": {
    "ExecuteTime": {
     "end_time": "2020-11-05T02:52:56.174525Z",
     "start_time": "2020-11-05T02:52:56.167361Z"
    }
   },
   "outputs": [],
   "source": []
  },
  {
   "cell_type": "code",
   "execution_count": 14,
   "metadata": {
    "ExecuteTime": {
     "end_time": "2020-11-10T03:59:45.428957Z",
     "start_time": "2020-11-10T03:59:45.425310Z"
    }
   },
   "outputs": [
    {
     "data": {
      "text/plain": [
       "[-3, -4, -5, -6, -7]"
      ]
     },
     "execution_count": 14,
     "metadata": {},
     "output_type": "execute_result"
    }
   ],
   "source": [
    "inY = [gapOpen]\n",
    "[inY.append(inY[i-1] + gapExtension) for i in range(1,m)]\n",
    "inY"
   ]
  },
  {
   "cell_type": "code",
   "execution_count": 15,
   "metadata": {
    "ExecuteTime": {
     "end_time": "2020-11-10T03:59:45.847947Z",
     "start_time": "2020-11-10T03:59:45.843952Z"
    }
   },
   "outputs": [],
   "source": [
    "def gapMatrix(x,y,initY=gap,initX=gap,start=0):\n",
    "    m = len(x) + 1\n",
    "    n = len(y) + 1\n",
    "    scoringMat=np.zeros((n,m)) # Main scoring matrix\n",
    "    scoringMat[:][0] = [0] + [-i + initX for i in range(1,m)]\n",
    "    scoringMat[:,0] = [0] + [-i + initY for i in range(1,n)]\n",
    "    scoringMat[0,0]=start\n",
    "    return scoringMat"
   ]
  },
  {
   "cell_type": "code",
   "execution_count": 16,
   "metadata": {
    "ExecuteTime": {
     "end_time": "2020-11-10T03:59:46.280799Z",
     "start_time": "2020-11-10T03:59:46.274836Z"
    }
   },
   "outputs": [
    {
     "data": {
      "text/plain": [
       "array([[ -3.,  -4.,  -5.,  -6.,  -7.,  -8.],\n",
       "       [-inf,   0.,   0.,   0.,   0.,   0.],\n",
       "       [-inf,   0.,   0.,   0.,   0.,   0.],\n",
       "       [-inf,   0.,   0.,   0.,   0.,   0.]])"
      ]
     },
     "execution_count": 16,
     "metadata": {},
     "output_type": "execute_result"
    }
   ],
   "source": [
    "gapMatrix(x,y,-np.inf,gap,gap)"
   ]
  },
  {
   "cell_type": "code",
   "execution_count": 17,
   "metadata": {
    "ExecuteTime": {
     "end_time": "2020-11-10T03:59:46.816177Z",
     "start_time": "2020-11-10T03:59:46.809561Z"
    }
   },
   "outputs": [
    {
     "data": {
      "text/plain": [
       "array([[ -3., -inf, -inf, -inf, -inf, -inf],\n",
       "       [ -4.,   0.,   0.,   0.,   0.,   0.],\n",
       "       [ -5.,   0.,   0.,   0.,   0.,   0.],\n",
       "       [ -6.,   0.,   0.,   0.,   0.,   0.]])"
      ]
     },
     "execution_count": 17,
     "metadata": {},
     "output_type": "execute_result"
    }
   ],
   "source": [
    "gapMatrix(x,y,gap,-np.inf,gap)"
   ]
  },
  {
   "cell_type": "code",
   "execution_count": null,
   "metadata": {},
   "outputs": [],
   "source": []
  },
  {
   "cell_type": "code",
   "execution_count": null,
   "metadata": {},
   "outputs": [],
   "source": []
  },
  {
   "cell_type": "markdown",
   "metadata": {},
   "source": [
    "#### Start here"
   ]
  },
  {
   "cell_type": "code",
   "execution_count": 41,
   "metadata": {
    "ExecuteTime": {
     "end_time": "2020-11-10T04:18:53.196506Z",
     "start_time": "2020-11-10T04:18:53.190830Z"
    }
   },
   "outputs": [
    {
     "data": {
      "text/plain": [
       "('ACACT', 'AAT')"
      ]
     },
     "execution_count": 41,
     "metadata": {},
     "output_type": "execute_result"
    }
   ],
   "source": [
    "x,y"
   ]
  },
  {
   "cell_type": "code",
   "execution_count": 78,
   "metadata": {
    "ExecuteTime": {
     "end_time": "2020-11-10T04:33:00.254010Z",
     "start_time": "2020-11-10T04:33:00.249211Z"
    }
   },
   "outputs": [],
   "source": [
    "#### Initiate\n",
    "Mmatrix = gapMatrix(x,y,-np.inf,-np.inf,0)\n",
    "Ix = gapMatrix(x,y,gap,-np.inf,gap)\n",
    "Iy = gapMatrix(x,y,-np.inf,gap,gap)"
   ]
  },
  {
   "cell_type": "code",
   "execution_count": 80,
   "metadata": {
    "ExecuteTime": {
     "end_time": "2020-11-10T04:33:01.781889Z",
     "start_time": "2020-11-10T04:33:01.761041Z"
    }
   },
   "outputs": [
    {
     "name": "stdout",
     "output_type": "stream",
     "text": [
      "          A    C    A    C    T\n",
      "   0.0 -inf -inf -inf -inf -inf\n",
      "A -inf  1.0 -5.0 -4.0 -7.0 -8.0\n",
      "A -inf -3.0  0.0 -2.0 -5.0 -6.0\n",
      "T -inf -6.0 -4.0 -1.0 -3.0 -4.0\n",
      "          A    C    A     C     T\n",
      "  -3.0 -inf -inf -inf  -inf  -inf\n",
      "A -4.0 -inf -inf -inf  -inf  -inf\n",
      "A -5.0 -3.0 -9.0 -8.0 -11.0 -12.0\n",
      "T -6.0 -4.0 -4.0 -6.0  -9.0 -10.0\n",
      "          A     C    A    C    T\n",
      "  -3.0 -4.0  -5.0 -6.0 -7.0 -8.0\n",
      "A -inf -inf  -3.0 -4.0 -5.0 -6.0\n",
      "A -inf -inf  -7.0 -4.0 -5.0 -6.0\n",
      "T -inf -inf -10.0 -8.0 -5.0 -6.0\n"
     ]
    }
   ],
   "source": [
    "for j in range(1,n+1):\n",
    "    for i in range(1,m+1):\n",
    "        #### M matrix\n",
    "        M = [Mmatrix[j-1,i-1] + subMat.loc[x[i-1]][y[j-1]],\n",
    "                 Ix[j-1,i-1] + subMat.loc[x[i-1]][y[j-1]],\n",
    "                 Iy[j-1,i-1] + subMat.loc[x[i-1]][y[j-1]]]\n",
    "        Mmatrix[j,i] = max(M)\n",
    "\n",
    "        #### Ix\n",
    "        X = [Mmatrix[j-1,i] + gap + indel,\n",
    "             Ix[j-1,i] + indel]\n",
    "        #### Iy\n",
    "        Y = [Mmatrix[j,i-1] + gap + indel,\n",
    "             Iy[j,i-1] + indel]\n",
    "        ###\n",
    "        Ix[j,i] = max(X)\n",
    "        Iy[j,i] = max(Y)\n",
    "\n",
    "#### Result\n",
    "print(vizScoringMat(x,y,Mmatrix))\n",
    "print(vizScoringMat(x,y,Ix))\n",
    "print(vizScoringMat(x,y,Iy))"
   ]
  },
  {
   "cell_type": "code",
   "execution_count": null,
   "metadata": {},
   "outputs": [],
   "source": []
  },
  {
   "cell_type": "code",
   "execution_count": null,
   "metadata": {},
   "outputs": [],
   "source": []
  },
  {
   "cell_type": "code",
   "execution_count": null,
   "metadata": {},
   "outputs": [],
   "source": []
  },
  {
   "cell_type": "code",
   "execution_count": null,
   "metadata": {},
   "outputs": [],
   "source": []
  },
  {
   "cell_type": "code",
   "execution_count": null,
   "metadata": {},
   "outputs": [],
   "source": []
  },
  {
   "cell_type": "code",
   "execution_count": null,
   "metadata": {},
   "outputs": [],
   "source": []
  },
  {
   "cell_type": "code",
   "execution_count": null,
   "metadata": {},
   "outputs": [],
   "source": []
  },
  {
   "cell_type": "code",
   "execution_count": null,
   "metadata": {},
   "outputs": [],
   "source": []
  },
  {
   "cell_type": "code",
   "execution_count": 182,
   "metadata": {
    "ExecuteTime": {
     "end_time": "2020-11-08T19:56:49.305679Z",
     "start_time": "2020-11-08T19:56:49.291742Z"
    }
   },
   "outputs": [
    {
     "data": {
      "text/plain": [
       "(array([[  0., -inf, -inf, -inf, -inf, -inf],\n",
       "        [-inf,   1.,  -5.,   0.,   0.,   0.],\n",
       "        [-inf,   0.,   0.,   0.,   0.,   0.],\n",
       "        [-inf,   0.,   0.,   0.,   0.,   0.]]),\n",
       " array([[ -3., -inf, -inf, -inf, -inf, -inf],\n",
       "        [ -4., -inf, -inf,   0.,   0.,   0.],\n",
       "        [ -5.,   0.,   0.,   0.,   0.,   0.],\n",
       "        [ -6.,   0.,   0.,   0.,   0.,   0.]]),\n",
       " array([[ -3.,  -4.,  -5.,  -6.,  -7.,  -8.],\n",
       "        [-inf, -inf,  -3.,   0.,   0.,   0.],\n",
       "        [-inf,   0.,   0.,   0.,   0.,   0.],\n",
       "        [-inf,   0.,   0.,   0.,   0.,   0.]]))"
      ]
     },
     "execution_count": 182,
     "metadata": {},
     "output_type": "execute_result"
    }
   ],
   "source": [
    "i = 2\n",
    "j = 1\n",
    "x[i-1],y[j-1]\n",
    "#### M matrix\n",
    "M = [Mmatrix[i-1,j-1] + subMat.loc[x[i-1]][y[j-1]],\n",
    "         Ix[i-1,j-1] + subMat.loc[x[i-1]][y[j-1]],\n",
    "         Iy[i-1,j-1] + subMat.loc[x[i-1]][y[j-1]]]\n",
    "Mmatrix[j,i] = max(M)\n",
    "#### Ix\n",
    "X = [Mmatrix[i,j-1] + gap + indel,\n",
    "     Ix[j-1,i] + indel]\n",
    "###\n",
    "Ix[j,i] = max(X)\n",
    "Ix[j,i]\n",
    "#### Iy\n",
    "Y = [Mmatrix[i-1,j] + gap + indel,\n",
    "     Iy[j,i-1] + indel]\n",
    "Iy[j,i] = max(Y)\n",
    "\n",
    "\n",
    "#### Result\n",
    "Mmatrix, Ix,Iy"
   ]
  },
  {
   "cell_type": "code",
   "execution_count": 183,
   "metadata": {
    "ExecuteTime": {
     "end_time": "2020-11-08T19:57:05.741604Z",
     "start_time": "2020-11-08T19:57:05.730662Z"
    }
   },
   "outputs": [
    {
     "data": {
      "text/plain": [
       "(array([[  0., -inf, -inf, -inf, -inf, -inf],\n",
       "        [-inf,   1.,  -5.,  -4.,   0.,   0.],\n",
       "        [-inf,   0.,   0.,   0.,   0.,   0.],\n",
       "        [-inf,   0.,   0.,   0.,   0.,   0.]]),\n",
       " array([[ -3., -inf, -inf, -inf, -inf, -inf],\n",
       "        [ -4., -inf, -inf, -inf,   0.,   0.],\n",
       "        [ -5.,   0.,   0.,   0.,   0.,   0.],\n",
       "        [ -6.,   0.,   0.,   0.,   0.,   0.]]),\n",
       " array([[ -3.,  -4.,  -5.,  -6.,  -7.,  -8.],\n",
       "        [-inf, -inf,  -3.,  -4.,   0.,   0.],\n",
       "        [-inf,   0.,   0.,   0.,   0.,   0.],\n",
       "        [-inf,   0.,   0.,   0.,   0.,   0.]]))"
      ]
     },
     "execution_count": 183,
     "metadata": {},
     "output_type": "execute_result"
    }
   ],
   "source": [
    "i = 3\n",
    "j = 1\n",
    "x[i-1],y[j-1]\n",
    "#### M matrix\n",
    "M = [Mmatrix[i-1,j-1] + subMat.loc[x[i-1]][y[j-1]],\n",
    "         Ix[i-1,j-1] + subMat.loc[x[i-1]][y[j-1]],\n",
    "         Iy[i-1,j-1] + subMat.loc[x[i-1]][y[j-1]]]\n",
    "Mmatrix[j,i] = max(M)\n",
    "#### Ix\n",
    "X = [Mmatrix[i,j-1] + gap + indel,\n",
    "     Ix[j-1,i] + indel]\n",
    "###\n",
    "Ix[j,i] = max(X)\n",
    "Ix[j,i]\n",
    "#### Iy\n",
    "Y = [Mmatrix[i-1,j] + gap + indel,\n",
    "     Iy[j,i-1] + indel]\n",
    "Iy[j,i] = max(Y)\n",
    "\n",
    "\n",
    "#### Result\n",
    "Mmatrix, Ix,Iy"
   ]
  },
  {
   "cell_type": "code",
   "execution_count": 192,
   "metadata": {
    "ExecuteTime": {
     "end_time": "2020-11-08T19:58:58.304648Z",
     "start_time": "2020-11-08T19:58:58.290418Z"
    }
   },
   "outputs": [
    {
     "name": "stdout",
     "output_type": "stream",
     "text": [
      "C A\n"
     ]
    },
    {
     "data": {
      "text/plain": [
       "(array([[  0., -inf, -inf, -inf, -inf, -inf],\n",
       "        [-inf,   1.,  -5.,  -4.,  -7.,   0.],\n",
       "        [-inf,   0.,   0.,   0.,   0.,   0.],\n",
       "        [-inf,   0.,   0.,   0.,   0.,   0.]]),\n",
       " array([[ -3., -inf, -inf, -inf, -inf, -inf],\n",
       "        [ -4., -inf,  -3.,  -9., -inf,   0.],\n",
       "        [ -5.,   0.,   0.,   0.,   0.,   0.],\n",
       "        [ -6.,   0.,   0.,   0.,   0.,   0.]]),\n",
       " array([[ -3.,  -4.,  -5.,  -6.,  -7.,  -8.],\n",
       "        [-inf, -inf, -inf,  -4.,   0.,   0.],\n",
       "        [-inf,   0.,   0.,   0.,   0.,   0.],\n",
       "        [-inf,   0.,   0.,   0.,   0.,   0.]]))"
      ]
     },
     "execution_count": 192,
     "metadata": {},
     "output_type": "execute_result"
    }
   ],
   "source": [
    "i = 2\n",
    "j = 1\n",
    "print(x[i-1],y[j-1])\n",
    "#### M matrix\n",
    "M = [Mmatrix[j-1,i-1] + subMat.loc[x[i-1]][y[j-1]],\n",
    "         Ix[j-1,i-1] + subMat.loc[x[i-1]][y[j-1]],\n",
    "         Iy[j-1,i-1] + subMat.loc[x[i-1]][y[j-1]]]\n",
    "Mmatrix[j,i] = max(M)\n",
    "#### Ix\n",
    "X = [Mmatrix[j,i-1] + gap + indel,\n",
    "     Ix[j-1,i] + indel]\n",
    "###\n",
    "Ix[j,i] = max(X)\n",
    "Ix[j,i]\n",
    "#### Iy\n",
    "Y = [Mmatrix[j-1,i] + gap + indel,\n",
    "     Iy[j,i-1] + indel]\n",
    "Iy[j,i] = max(Y)\n",
    "\n",
    "\n",
    "#### Result\n",
    "Mmatrix, Ix,Iy"
   ]
  },
  {
   "cell_type": "code",
   "execution_count": 186,
   "metadata": {
    "ExecuteTime": {
     "end_time": "2020-11-08T19:57:40.973725Z",
     "start_time": "2020-11-08T19:57:40.963431Z"
    }
   },
   "outputs": [
    {
     "name": "stdout",
     "output_type": "stream",
     "text": [
      "C A\n"
     ]
    },
    {
     "data": {
      "text/plain": [
       "array([[  0., -inf, -inf, -inf, -inf, -inf],\n",
       "       [-inf,   1.,  -5.,  -4.,  -7.,   0.],\n",
       "       [-inf,   0.,   0.,   0.,   0.,   0.],\n",
       "       [-inf,   0.,   0.,   0.,   0.,   0.]])"
      ]
     },
     "execution_count": 186,
     "metadata": {},
     "output_type": "execute_result"
    }
   ],
   "source": [
    "i = 4\n",
    "j = 1\n",
    "print(x[i-1],y[j-1])\n",
    "\n",
    "#### M matrix\n",
    "M = [Mmatrix[i-1,j-1] + subMat.loc[x[i-1]][y[j-1]],\n",
    "         Ix[i-1,j-1] + subMat.loc[x[i-1]][y[j-1]],\n",
    "         Iy[i-1,j-1] + subMat.loc[x[i-1]][y[j-1]]]\n",
    "Mmatrix[j,i] = max(M)\n",
    "Mmatrix"
   ]
  },
  {
   "cell_type": "code",
   "execution_count": 189,
   "metadata": {
    "ExecuteTime": {
     "end_time": "2020-11-08T19:58:05.845799Z",
     "start_time": "2020-11-08T19:58:05.840385Z"
    }
   },
   "outputs": [
    {
     "data": {
      "text/plain": [
       "-inf"
      ]
     },
     "execution_count": 189,
     "metadata": {},
     "output_type": "execute_result"
    }
   ],
   "source": [
    "Mmatrix[j-1,i] + gap + indel"
   ]
  },
  {
   "cell_type": "code",
   "execution_count": 190,
   "metadata": {
    "ExecuteTime": {
     "end_time": "2020-11-08T19:58:12.426112Z",
     "start_time": "2020-11-08T19:58:12.418797Z"
    }
   },
   "outputs": [
    {
     "data": {
      "text/plain": [
       "-inf"
      ]
     },
     "execution_count": 190,
     "metadata": {},
     "output_type": "execute_result"
    }
   ],
   "source": [
    "#### Ix\n",
    "X = [Mmatrix[j-1,i] + gap + indel,\n",
    "     Ix[j-1,i] + indel]\n",
    "###\n",
    "Ix[j,i] = max(X)\n",
    "Ix[j,i]"
   ]
  },
  {
   "cell_type": "code",
   "execution_count": null,
   "metadata": {},
   "outputs": [],
   "source": [
    "\n",
    "#### Iy\n",
    "Y = [Mmatrix[i-1,j] + gap + indel,\n",
    "     Iy[j,i-1] + indel]\n",
    "Iy[j,i] = max(Y)\n",
    "\n",
    "\n",
    "#### Result\n",
    "Mmatrix, Ix,Iy"
   ]
  },
  {
   "cell_type": "code",
   "execution_count": null,
   "metadata": {},
   "outputs": [],
   "source": []
  },
  {
   "cell_type": "code",
   "execution_count": 175,
   "metadata": {
    "ExecuteTime": {
     "end_time": "2020-11-08T19:56:04.068012Z",
     "start_time": "2020-11-08T19:56:04.062177Z"
    }
   },
   "outputs": [
    {
     "name": "stdout",
     "output_type": "stream",
     "text": [
      "1 1\n",
      "1 2\n",
      "2 1\n",
      "2 2\n",
      "3 1\n",
      "3 2\n",
      "4 1\n",
      "4 2\n"
     ]
    }
   ],
   "source": []
  },
  {
   "cell_type": "code",
   "execution_count": 176,
   "metadata": {
    "ExecuteTime": {
     "end_time": "2020-11-08T19:56:11.876683Z",
     "start_time": "2020-11-08T19:56:11.855494Z"
    }
   },
   "outputs": [
    {
     "name": "stdout",
     "output_type": "stream",
     "text": [
      "A A\n",
      "A A\n",
      "C A\n",
      "C A\n",
      "A A\n",
      "A A\n",
      "C A\n"
     ]
    },
    {
     "ename": "IndexError",
     "evalue": "index 4 is out of bounds for axis 0 with size 4",
     "output_type": "error",
     "traceback": [
      "\u001b[0;31m---------------------------------------------------------------------------\u001b[0m",
      "\u001b[0;31mIndexError\u001b[0m                                Traceback (most recent call last)",
      "\u001b[0;32m<ipython-input-176-47f9a4177876>\u001b[0m in \u001b[0;36m<module>\u001b[0;34m\u001b[0m\n\u001b[1;32m     15\u001b[0m         \u001b[0mMmatrix\u001b[0m\u001b[0;34m[\u001b[0m\u001b[0mj\u001b[0m\u001b[0;34m,\u001b[0m\u001b[0mi\u001b[0m\u001b[0;34m]\u001b[0m \u001b[0;34m=\u001b[0m \u001b[0mmax\u001b[0m\u001b[0;34m(\u001b[0m\u001b[0mM\u001b[0m\u001b[0;34m)\u001b[0m\u001b[0;34m\u001b[0m\u001b[0;34m\u001b[0m\u001b[0m\n\u001b[1;32m     16\u001b[0m         \u001b[0;31m#### Ix\u001b[0m\u001b[0;34m\u001b[0m\u001b[0;34m\u001b[0m\u001b[0;34m\u001b[0m\u001b[0m\n\u001b[0;32m---> 17\u001b[0;31m         X = [Mmatrix[i,j-1] + gap + indel,\n\u001b[0m\u001b[1;32m     18\u001b[0m              Ix[j-1,i] + indel]\n\u001b[1;32m     19\u001b[0m         \u001b[0;31m###\u001b[0m\u001b[0;34m\u001b[0m\u001b[0;34m\u001b[0m\u001b[0;34m\u001b[0m\u001b[0m\n",
      "\u001b[0;31mIndexError\u001b[0m: index 4 is out of bounds for axis 0 with size 4"
     ]
    }
   ],
   "source": [
    "#### loop\n",
    "\n",
    "#### Initiate\n",
    "Mmatrix = gapMatrix(x,y,-np.inf,-np.inf,0)\n",
    "Iy = gapMatrix(x,y,-np.inf,gap,gap)\n",
    "Ix = gapMatrix(x,y,gap,-np.inf,gap)\n",
    "\n",
    "for i in range(1,m):\n",
    "    for j in range(1,n):\n",
    "        print(x[i-1],y[j-1])\n",
    "        #### M matrix\n",
    "        M = [Mmatrix[i-1,j-1] + subMat.loc[x[i-1]][y[j-1]],\n",
    "                 Ix[i-1,j-1] + subMat.loc[x[i-1]][y[j-1]],\n",
    "                 Iy[i-1,j-1] + subMat.loc[x[i-1]][y[j-1]]]\n",
    "        Mmatrix[j,i] = max(M)\n",
    "        #### Ix\n",
    "        X = [Mmatrix[i,j-1] + gap + indel,\n",
    "             Ix[j-1,i] + indel]\n",
    "        ###\n",
    "        Ix[j,i] = max(X)\n",
    "        Ix[j,i]\n",
    "        #### Iy\n",
    "        Y = [Mmatrix[i-1,j] + gap + indel,\n",
    "             Iy[j,i-1] + indel]\n",
    "        Iy[j,i] = max(Y)\n",
    "\n",
    "\n",
    "#### Result\n",
    "Mmatrix, Ix,Iy"
   ]
  },
  {
   "cell_type": "code",
   "execution_count": 153,
   "metadata": {
    "ExecuteTime": {
     "end_time": "2020-11-08T19:51:06.808553Z",
     "start_time": "2020-11-08T19:51:06.801920Z"
    }
   },
   "outputs": [
    {
     "data": {
      "text/plain": [
       "[-inf, -inf]"
      ]
     },
     "execution_count": 153,
     "metadata": {},
     "output_type": "execute_result"
    }
   ],
   "source": []
  },
  {
   "cell_type": "code",
   "execution_count": null,
   "metadata": {},
   "outputs": [],
   "source": [
    "[Mmatrix[i-1,j] + gap + indel,\n",
    "     Ix[i-1,j] + indel]"
   ]
  },
  {
   "cell_type": "code",
   "execution_count": 132,
   "metadata": {
    "ExecuteTime": {
     "end_time": "2020-11-08T19:48:12.352012Z",
     "start_time": "2020-11-08T19:48:12.339238Z"
    }
   },
   "outputs": [
    {
     "data": {
      "text/plain": [
       "(array([[  0., -inf, -inf, -inf, -inf, -inf],\n",
       "        [-inf,   1.,  -5.,   0.,   0.,   0.],\n",
       "        [-inf,   0.,   0.,   0.,   0.,   0.],\n",
       "        [-inf,   0.,   0.,   0.,   0.,   0.]]),\n",
       " array([[ -3., -inf, -inf, -inf, -inf, -inf],\n",
       "        [ -4., -inf, -inf,   0.,   0.,   0.],\n",
       "        [ -5.,   0.,   0.,   0.,   0.,   0.],\n",
       "        [ -6.,   0.,   0.,   0.,   0.,   0.]]),\n",
       " array([[ -3.,  -4.,  -5.,  -6.,  -7.,  -8.],\n",
       "        [-inf, -inf,  -3.,   0.,   0.,   0.],\n",
       "        [-inf,   0.,   0.,   0.,   0.,   0.],\n",
       "        [-inf,   0.,   0.,   0.,   0.,   0.]]))"
      ]
     },
     "execution_count": 132,
     "metadata": {},
     "output_type": "execute_result"
    }
   ],
   "source": [
    "\n",
    "\n",
    "\n",
    "##### Ix Matrix\n",
    "X = [Mmatrix[i,j-1] + gap + indel,\n",
    "     Iy[i,j-1] + indel]\n",
    "###\n",
    "Ix[j,i] = max(X)\n",
    "Ix[j,i]\n",
    "\n",
    "##### Iy Matrix\n",
    "Y = [Mmatrix[i-1,j] + gap + indel,\n",
    "     Ix[i-1,j] + indel]\n",
    "Iy[j,i] = max(Y)\n",
    "\n",
    "#### Result\n",
    "Mmatrix, Ix,Iy"
   ]
  },
  {
   "cell_type": "code",
   "execution_count": null,
   "metadata": {},
   "outputs": [],
   "source": []
  },
  {
   "cell_type": "code",
   "execution_count": null,
   "metadata": {},
   "outputs": [],
   "source": []
  },
  {
   "cell_type": "code",
   "execution_count": null,
   "metadata": {},
   "outputs": [],
   "source": []
  },
  {
   "cell_type": "code",
   "execution_count": null,
   "metadata": {},
   "outputs": [],
   "source": []
  },
  {
   "cell_type": "code",
   "execution_count": 92,
   "metadata": {
    "ExecuteTime": {
     "end_time": "2020-11-08T19:40:35.854041Z",
     "start_time": "2020-11-08T19:40:35.845170Z"
    }
   },
   "outputs": [
    {
     "data": {
      "text/plain": [
       "(array([[  0., -inf, -inf, -inf, -inf, -inf],\n",
       "        [-inf,   1.,   0.,   0.,   0.,   0.],\n",
       "        [-inf,   0.,   0.,   0.,   0.,   0.],\n",
       "        [-inf,   0.,   0.,   0.,   0.,   0.]]),\n",
       " array([[ -3.,  -4.,  -5.,  -6.,  -7.,  -8.],\n",
       "        [-inf, -inf,   0.,   0.,   0.,   0.],\n",
       "        [-inf,   0.,   0.,   0.,   0.,   0.],\n",
       "        [-inf,   0.,   0.,   0.,   0.,   0.]]),\n",
       " array([[ -3., -inf, -inf, -inf, -inf, -inf],\n",
       "        [ -4., -inf,   0.,   0.,   0.,   0.],\n",
       "        [ -5.,   0.,   0.,   0.,   0.,   0.],\n",
       "        [ -6.,   0.,   0.,   0.,   0.,   0.]]))"
      ]
     },
     "execution_count": 92,
     "metadata": {},
     "output_type": "execute_result"
    }
   ],
   "source": []
  },
  {
   "cell_type": "code",
   "execution_count": 67,
   "metadata": {
    "ExecuteTime": {
     "end_time": "2020-11-08T19:36:53.109735Z",
     "start_time": "2020-11-08T19:36:53.103456Z"
    }
   },
   "outputs": [
    {
     "data": {
      "text/plain": [
       "('C', 'A')"
      ]
     },
     "execution_count": 67,
     "metadata": {},
     "output_type": "execute_result"
    }
   ],
   "source": [
    "i = 2\n",
    "j = 1\n",
    "x[i-1],y[j-1]"
   ]
  },
  {
   "cell_type": "code",
   "execution_count": 68,
   "metadata": {
    "ExecuteTime": {
     "end_time": "2020-11-08T19:36:53.462244Z",
     "start_time": "2020-11-08T19:36:53.455043Z"
    }
   },
   "outputs": [],
   "source": [
    "M = [Mmatrix[i-1,j-1] + subMat.loc[x[i-1]][y[j-1]],\n",
    "         Ix[i-1,j-1] + subMat.loc[x[i-1]][y[j-1]],\n",
    "         Iy[i-1,j-1] + subMat.loc[x[i-1]][y[j-1]]]\n",
    "Mmatrix[j,i] = max(M)\n",
    "###\n",
    "X = [Mmatrix[i,j-1] + gap + indel,\n",
    "     Ix[i,j-1] + indel]\n",
    "\n",
    "Ix[j,i] = max(X)\n",
    "####\n",
    "Y = [Mmatrix[i-1,j] + gap + indel,\n",
    "     Iy[i-1,j] + indel]\n",
    "Iy[j,i] = max(Y)"
   ]
  },
  {
   "cell_type": "code",
   "execution_count": 27,
   "metadata": {
    "ExecuteTime": {
     "end_time": "2020-11-08T19:01:17.030875Z",
     "start_time": "2020-11-08T19:01:17.026927Z"
    }
   },
   "outputs": [
    {
     "name": "stdout",
     "output_type": "stream",
     "text": [
      "[[  0. -inf -inf -inf -inf -inf]\n",
      " [-inf   1.  -5.   0.   0.   0.]\n",
      " [-inf   0.   0.   0.   0.   0.]\n",
      " [-inf   0.   0.   0.   0.   0.]]\n",
      "[[ -3.  -4.  -5.  -6.  -7.  -8.]\n",
      " [-inf -inf -inf   0.   0.   0.]\n",
      " [-inf   0.   0.   0.   0.   0.]\n",
      " [-inf   0.   0.   0.   0.   0.]]\n",
      "[[ -3. -inf -inf -inf -inf -inf]\n",
      " [ -4. -inf  -3.   0.   0.   0.]\n",
      " [ -5.   0.   0.   0.   0.   0.]\n",
      " [ -6.   0.   0.   0.   0.   0.]]\n"
     ]
    }
   ],
   "source": [
    "#### Result\n",
    "print(Mmatrix)\n",
    "print(Ix)\n",
    "print(Iy)"
   ]
  },
  {
   "cell_type": "code",
   "execution_count": 70,
   "metadata": {
    "ExecuteTime": {
     "end_time": "2020-11-08T19:37:14.842078Z",
     "start_time": "2020-11-08T19:37:14.835802Z"
    }
   },
   "outputs": [
    {
     "data": {
      "text/plain": [
       "('A', 'A')"
      ]
     },
     "execution_count": 70,
     "metadata": {},
     "output_type": "execute_result"
    }
   ],
   "source": [
    "i = 3\n",
    "j = 1\n",
    "x[i-1],y[j-1]"
   ]
  },
  {
   "cell_type": "code",
   "execution_count": 72,
   "metadata": {
    "ExecuteTime": {
     "end_time": "2020-11-08T19:37:31.694810Z",
     "start_time": "2020-11-08T19:37:31.684559Z"
    }
   },
   "outputs": [
    {
     "name": "stdout",
     "output_type": "stream",
     "text": [
      "[[  0. -inf -inf -inf -inf -inf]\n",
      " [-inf   1.  -5.  -4.   0.   0.]\n",
      " [-inf   0.   0.   0.   0.   0.]\n",
      " [-inf   0.   0.   0.   0.   0.]]\n",
      "[[ -3.  -4.  -5.  -6.  -7.  -8.]\n",
      " [-inf -inf -inf -inf   0.   0.]\n",
      " [-inf   0.   0.   0.   0.   0.]\n",
      " [-inf   0.   0.   0.   0.   0.]]\n",
      "[[ -3. -inf -inf -inf -inf -inf]\n",
      " [ -4. -inf  -3.  -1.   0.   0.]\n",
      " [ -5.   0.   0.   0.   0.   0.]\n",
      " [ -6.   0.   0.   0.   0.   0.]]\n"
     ]
    }
   ],
   "source": [
    "M = [Mmatrix[i-1,j-1] + subMat.loc[x[i-1]][y[j-1]],\n",
    "         Ix[i-1,j-1] + subMat.loc[x[i-1]][y[j-1]],\n",
    "         Iy[i-1,j-1] + subMat.loc[x[i-1]][y[j-1]]]\n",
    "Mmatrix[j,i] = max(M)\n",
    "###\n",
    "X = [Mmatrix[i,j-1] + gap + indel,\n",
    "     Ix[i,j-1] + indel]\n",
    "\n",
    "Ix[j,i] = max(X)\n",
    "####\n",
    "Y = [Mmatrix[i-1,j] + gap + indel,\n",
    "     Iy[i-1,j] + indel]\n",
    "Iy[j,i] = max(Y)\n",
    "\n",
    "#### Result\n",
    "print(Mmatrix)\n",
    "print(Ix)\n",
    "print(Iy)"
   ]
  },
  {
   "cell_type": "code",
   "execution_count": 73,
   "metadata": {
    "ExecuteTime": {
     "end_time": "2020-11-08T19:37:41.204758Z",
     "start_time": "2020-11-08T19:37:41.199267Z"
    }
   },
   "outputs": [
    {
     "data": {
      "text/plain": [
       "('C', 'A')"
      ]
     },
     "execution_count": 73,
     "metadata": {},
     "output_type": "execute_result"
    }
   ],
   "source": [
    "i = 4\n",
    "j = 1\n",
    "x[i-1],y[j-1]"
   ]
  },
  {
   "cell_type": "code",
   "execution_count": 83,
   "metadata": {
    "ExecuteTime": {
     "end_time": "2020-11-08T19:39:23.277415Z",
     "start_time": "2020-11-08T19:39:23.268202Z"
    }
   },
   "outputs": [
    {
     "data": {
      "text/plain": [
       "[-inf, -inf, -7.0]"
      ]
     },
     "execution_count": 83,
     "metadata": {},
     "output_type": "execute_result"
    }
   ],
   "source": [
    "M = [Mmatrix[i-1,j-1] + subMat.loc[x[i-1]][y[j-1]],\n",
    "         Ix[i-1,j-1] + subMat.loc[x[i-1]][y[j-1]],\n",
    "         Iy[i-1,j-1] + subMat.loc[x[i-1]][y[j-1]]]\n",
    "Mmatrix[j,i] = max(M)\n",
    "M"
   ]
  },
  {
   "cell_type": "code",
   "execution_count": 84,
   "metadata": {
    "ExecuteTime": {
     "end_time": "2020-11-08T19:39:26.012914Z",
     "start_time": "2020-11-08T19:39:26.005291Z"
    }
   },
   "outputs": [
    {
     "data": {
      "text/plain": [
       "[-inf, -1.0]"
      ]
     },
     "execution_count": 84,
     "metadata": {},
     "output_type": "execute_result"
    }
   ],
   "source": [
    "X = [Mmatrix[i-1,j-1] + gap + indel,\n",
    "     Ix[i-1,j] + indel]\n",
    "\n",
    "Ix[j,i] = max(X)\n",
    "X"
   ]
  },
  {
   "cell_type": "code",
   "execution_count": 81,
   "metadata": {
    "ExecuteTime": {
     "end_time": "2020-11-08T19:38:52.849166Z",
     "start_time": "2020-11-08T19:38:52.844725Z"
    }
   },
   "outputs": [],
   "source": [
    "Y = [Mmatrix[i-1,j] + gap + indel,\n",
    "     Iy[i-1,j] + indel]\n",
    "Iy[j,i] = max(Y)\n"
   ]
  },
  {
   "cell_type": "code",
   "execution_count": 86,
   "metadata": {
    "ExecuteTime": {
     "end_time": "2020-11-08T19:39:56.727755Z",
     "start_time": "2020-11-08T19:39:56.722761Z"
    }
   },
   "outputs": [
    {
     "data": {
      "text/plain": [
       "-7.0"
      ]
     },
     "execution_count": 86,
     "metadata": {},
     "output_type": "execute_result"
    }
   ],
   "source": [
    "Ix[0,4]"
   ]
  },
  {
   "cell_type": "code",
   "execution_count": null,
   "metadata": {},
   "outputs": [],
   "source": []
  },
  {
   "cell_type": "code",
   "execution_count": null,
   "metadata": {},
   "outputs": [],
   "source": []
  },
  {
   "cell_type": "code",
   "execution_count": 50,
   "metadata": {
    "ExecuteTime": {
     "end_time": "2020-11-08T19:34:10.657423Z",
     "start_time": "2020-11-08T19:34:10.652550Z"
    }
   },
   "outputs": [
    {
     "data": {
      "text/plain": [
       "(array([[  0., -inf, -inf, -inf, -inf, -inf],\n",
       "        [-inf,   1.,  -5.,  -4.,  -7.,   0.],\n",
       "        [-inf,  -3.,   0.,  -2.,   0.,   0.],\n",
       "        [-inf,  -6.,  -4.,  -1.,   0.,   0.]]),\n",
       " 5,\n",
       " 3)"
      ]
     },
     "execution_count": 50,
     "metadata": {},
     "output_type": "execute_result"
    }
   ],
   "source": [
    "Mmatrix,m,n"
   ]
  },
  {
   "cell_type": "code",
   "execution_count": null,
   "metadata": {},
   "outputs": [],
   "source": []
  },
  {
   "cell_type": "code",
   "execution_count": null,
   "metadata": {},
   "outputs": [],
   "source": []
  },
  {
   "cell_type": "code",
   "execution_count": 55,
   "metadata": {
    "ExecuteTime": {
     "end_time": "2020-11-08T19:34:50.782889Z",
     "start_time": "2020-11-08T19:34:50.777418Z"
    }
   },
   "outputs": [
    {
     "data": {
      "text/plain": [
       "(5, 3)"
      ]
     },
     "execution_count": 55,
     "metadata": {},
     "output_type": "execute_result"
    }
   ],
   "source": [
    "m,n"
   ]
  },
  {
   "cell_type": "code",
   "execution_count": 59,
   "metadata": {
    "ExecuteTime": {
     "end_time": "2020-11-08T19:35:52.513690Z",
     "start_time": "2020-11-08T19:35:52.500777Z"
    }
   },
   "outputs": [
    {
     "name": "stdout",
     "output_type": "stream",
     "text": [
      "1 1\n",
      "1 2\n",
      "1 3\n",
      "1 4\n"
     ]
    },
    {
     "ename": "IndexError",
     "evalue": "string index out of range",
     "output_type": "error",
     "traceback": [
      "\u001b[0;31m---------------------------------------------------------------------------\u001b[0m",
      "\u001b[0;31mIndexError\u001b[0m                                Traceback (most recent call last)",
      "\u001b[0;32m<ipython-input-59-da2583e56cd0>\u001b[0m in \u001b[0;36m<module>\u001b[0;34m\u001b[0m\n\u001b[1;32m      3\u001b[0m     \u001b[0;32mfor\u001b[0m \u001b[0mj\u001b[0m \u001b[0;32min\u001b[0m \u001b[0mrange\u001b[0m\u001b[0;34m(\u001b[0m\u001b[0;36m1\u001b[0m\u001b[0;34m,\u001b[0m\u001b[0mm\u001b[0m\u001b[0;34m)\u001b[0m\u001b[0;34m:\u001b[0m\u001b[0;34m\u001b[0m\u001b[0;34m\u001b[0m\u001b[0m\n\u001b[1;32m      4\u001b[0m         \u001b[0mprint\u001b[0m\u001b[0;34m(\u001b[0m\u001b[0mi\u001b[0m\u001b[0;34m,\u001b[0m\u001b[0mj\u001b[0m\u001b[0;34m)\u001b[0m\u001b[0;34m\u001b[0m\u001b[0;34m\u001b[0m\u001b[0m\n\u001b[0;32m----> 5\u001b[0;31m         M = [Mmatrix[i-1,j-1] + subMat.loc[x[i-1]][y[j-1]],\n\u001b[0m\u001b[1;32m      6\u001b[0m         \u001b[0mIx\u001b[0m\u001b[0;34m[\u001b[0m\u001b[0mi\u001b[0m\u001b[0;34m-\u001b[0m\u001b[0;36m1\u001b[0m\u001b[0;34m,\u001b[0m\u001b[0mj\u001b[0m\u001b[0;34m-\u001b[0m\u001b[0;36m1\u001b[0m\u001b[0;34m]\u001b[0m \u001b[0;34m+\u001b[0m \u001b[0msubMat\u001b[0m\u001b[0;34m.\u001b[0m\u001b[0mloc\u001b[0m\u001b[0;34m[\u001b[0m\u001b[0mx\u001b[0m\u001b[0;34m[\u001b[0m\u001b[0mi\u001b[0m\u001b[0;34m-\u001b[0m\u001b[0;36m1\u001b[0m\u001b[0;34m]\u001b[0m\u001b[0;34m]\u001b[0m\u001b[0;34m[\u001b[0m\u001b[0my\u001b[0m\u001b[0;34m[\u001b[0m\u001b[0mj\u001b[0m\u001b[0;34m-\u001b[0m\u001b[0;36m1\u001b[0m\u001b[0;34m]\u001b[0m\u001b[0;34m]\u001b[0m\u001b[0;34m,\u001b[0m\u001b[0;34m\u001b[0m\u001b[0;34m\u001b[0m\u001b[0m\n\u001b[1;32m      7\u001b[0m         Iy[i-1,j-1] + subMat.loc[x[i-1]][y[j-1]]]\n",
      "\u001b[0;31mIndexError\u001b[0m: string index out of range"
     ]
    }
   ],
   "source": [
    "####\n",
    "for i in range(1,m-1):\n",
    "    for j in range(1,n-1):\n",
    "        print(i,j)\n",
    "        M = [Mmatrix[i-1,j-1] + subMat.loc[x[i-1]][y[j-1]],\n",
    "        Ix[i-1,j-1] + subMat.loc[x[i-1]][y[j-1]],\n",
    "        Iy[i-1,j-1] + subMat.loc[x[i-1]][y[j-1]]]\n",
    "        Mmatrix[j,i] = max(M)\n",
    "        ###\n",
    "        X = [Mmatrix[i,j-1] + gap + indel,\n",
    "             Ix[i,j-1] + indel]\n",
    "\n",
    "        Ix[j,i] = max(X)\n",
    "        ####\n",
    "        Y = [Mmatrix[i-1,j] + gap + indel,\n",
    "             Iy[i-1,j] + indel]\n",
    "        Iy[j,i] = max(Y)"
   ]
  },
  {
   "cell_type": "code",
   "execution_count": 53,
   "metadata": {
    "ExecuteTime": {
     "end_time": "2020-11-08T19:34:26.787953Z",
     "start_time": "2020-11-08T19:34:26.782677Z"
    }
   },
   "outputs": [
    {
     "name": "stdout",
     "output_type": "stream",
     "text": [
      "[[  0. -inf -inf -inf -inf -inf]\n",
      " [-inf   1.  -5.  -4.  -7.   0.]\n",
      " [-inf  -3.   0.  -2.   0.   0.]\n",
      " [-inf  -6.  -4.  -1.   0.   0.]]\n",
      "[[ -3.  -4.  -5.  -6.  -7.  -8.]\n",
      " [-inf -inf -inf -inf   0.   0.]\n",
      " [-inf  -3.  -4. -10.   0.   0.]\n",
      " [-inf  -9.  -4.  -5.   0.   0.]]\n",
      "[[ -3. -inf -inf -inf -inf -inf]\n",
      " [ -4. -inf  -3.  -7.   0.   0.]\n",
      " [ -5. -inf  -4.  -4.   0.   0.]\n",
      " [ -6. -inf  -8.  -5.   0.   0.]]\n"
     ]
    }
   ],
   "source": [
    "#### Result\n",
    "print(Mmatrix)\n",
    "print(Ix)\n",
    "print(Iy)"
   ]
  },
  {
   "cell_type": "code",
   "execution_count": null,
   "metadata": {},
   "outputs": [],
   "source": []
  }
 ],
 "metadata": {
  "kernelspec": {
   "display_name": "Python 3",
   "language": "python",
   "name": "python3"
  },
  "language_info": {
   "codemirror_mode": {
    "name": "ipython",
    "version": 3
   },
   "file_extension": ".py",
   "mimetype": "text/x-python",
   "name": "python",
   "nbconvert_exporter": "python",
   "pygments_lexer": "ipython3",
   "version": "3.8.6"
  },
  "varInspector": {
   "cols": {
    "lenName": 16,
    "lenType": 16,
    "lenVar": 40
   },
   "kernels_config": {
    "python": {
     "delete_cmd_postfix": "",
     "delete_cmd_prefix": "del ",
     "library": "var_list.py",
     "varRefreshCmd": "print(var_dic_list())"
    },
    "r": {
     "delete_cmd_postfix": ") ",
     "delete_cmd_prefix": "rm(",
     "library": "var_list.r",
     "varRefreshCmd": "cat(var_dic_list()) "
    }
   },
   "types_to_exclude": [
    "module",
    "function",
    "builtin_function_or_method",
    "instance",
    "_Feature"
   ],
   "window_display": false
  }
 },
 "nbformat": 4,
 "nbformat_minor": 4
}
