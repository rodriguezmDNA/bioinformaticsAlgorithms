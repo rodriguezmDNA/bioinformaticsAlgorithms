{
 "cells": [
  {
   "cell_type": "markdown",
   "metadata": {},
   "source": [
    "__Video resources__\n",
    "\n",
    "* https://www.youtube.com/watch?v=ZBD9he4Zp1E\n",
    "* https://www.youtube.com/watch?v=Npv180dQ_4Y\n",
    "* https://www.youtube.com/watch?v=NqYY0PJbD3s\n",
    "\n",
    "\n",
    "\n",
    "__Read this__\n",
    "* http://csbio.unc.edu/mcmillan/Comp555S16/Lecture14.html\n",
    "* https://www.cs.cmu.edu/~ckingsf/bioinfo-lectures/gaps.pdf\n",
    "* http://www.bioinfo.rpi.edu/bystrc/courses/biol4540/lecture4.pdf"
   ]
  },
  {
   "cell_type": "code",
   "execution_count": 14,
   "metadata": {
    "ExecuteTime": {
     "end_time": "2020-11-12T05:04:35.973577Z",
     "start_time": "2020-11-12T05:04:35.942138Z"
    }
   },
   "outputs": [],
   "source": [
    "import pandas as pd\n",
    "import numpy as np\n",
    "def createScorMat(match = 1,mismatch = 0,nts = ['A','C','T','G']):\n",
    "    \"\"\"\n",
    "    Create scoring matrix for nucleotides with a given match and mismatch values\n",
    "    \"\"\"\n",
    "    scoringMatrix = np.zeros((len(nts),len(nts)),)\n",
    "    np.fill_diagonal(scoringMatrix,match)\n",
    "    scoringMatrix\n",
    "    scoringMatrix[scoringMatrix == 0] = mismatch\n",
    "    scoringMatrix = pd.DataFrame(scoringMatrix,index=nts,columns=nts)\n",
    "    return scoringMatrix\n",
    "\n",
    "#### Dynamic programming implementation\n",
    "def scoringMatrix_local(x,y,subMat,indel):\n",
    "    m = len(x) + 1\n",
    "    n = len(y) + 1\n",
    "    globMax = (0,0)\n",
    "    scoringMat=np.zeros((n,m))\n",
    "    for i in range(1,m):\n",
    "        #print(x[i-1])\n",
    "        for j in range(1,n):\n",
    "            if x[i-1] == y[j-1]:\n",
    "                #scoringMat[j-1][i-1] + subMat.loc[x[i-1]][y[j-1]]\n",
    "                scoringMat[j][i] = scoringMat[j-1][i-1] + subMat.loc[x[i-1]][y[j-1]]\n",
    "            else:\n",
    "                mismatch = scoringMat[j-1][i-1] + subMat.loc[x[i-1]][y[j-1]]\n",
    "                left = scoringMat[j-1][i] + indel\n",
    "                up = scoringMat[j][i-1] + indel\n",
    "                scoringMat[j][i] = max(mismatch,left,up,0)\n",
    "            if scoringMat[j][i] >= scoringMat[globMax[1]][globMax[0]]:\n",
    "                globMax = (i,j)\n",
    "    return scoringMat,globMax\n",
    "\n",
    "\n",
    "def scoringMatrix_global(x,y,subMat,indel):\n",
    "    m = len(x) + 1\n",
    "    n = len(y) + 1\n",
    "    scoringMat=np.zeros((n,m))\n",
    "    scoringMat[:][0] = [0] + list(np.cumsum([indel for _ in x]))\n",
    "    scoringMat[:,0] = [0] + list(np.cumsum([indel for _ in y]))\n",
    "    for i in range(1,m):\n",
    "        #print(x[i-1])\n",
    "        for j in range(1,n):\n",
    "            if x[i-1] == y[j-1]:\n",
    "                #scoringMat[j-1][i-1] + subMat.loc[x[i-1]][y[j-1]]\n",
    "                scoringMat[j][i] = scoringMat[j-1][i-1] + subMat.loc[x[i-1]][y[j-1]]\n",
    "            else:\n",
    "                mismatch = scoringMat[j-1][i-1] + subMat.loc[x[i-1]][y[j-1]]\n",
    "                left = scoringMat[j-1][i] + indel\n",
    "                up = scoringMat[j][i-1] + indel\n",
    "                scoringMat[j][i] = max(mismatch,left,up)\n",
    "    return scoringMat\n",
    "\n",
    "\n",
    "def backtrack_local(x,y,sm,maxLocs):\n",
    "    i = maxLocs[0]\n",
    "    j = maxLocs[1]\n",
    "    w=''\n",
    "    z=''\n",
    "    z,w\n",
    "    while i*j > 0:\n",
    "        if x[i-1] == y[j-1]:\n",
    "            w += x[i-1]\n",
    "            z += y[j-1]\n",
    "            i -= 1\n",
    "            j -= 1\n",
    "        else:\n",
    "            left = sm[j-1][i]\n",
    "            up = sm[j][i-1]\n",
    "            diag = sm[j-1][i-1]\n",
    "            whichmax = np.argmax([left,up,diag])\n",
    "            if whichmax == 0:\n",
    "                w += '-'\n",
    "                z += y[j-1]\n",
    "                j -= 1\n",
    "            elif whichmax == 1:\n",
    "                z += '-'\n",
    "                w += x[i-1]\n",
    "                i -= 1\n",
    "            else:\n",
    "                w += x[i-1]\n",
    "                z += y[j-1]\n",
    "                i -= 1\n",
    "                j -= 1\n",
    "        if sm[j][i] == 0:\n",
    "            break\n",
    "    return w[::-1],z[::-1]\n",
    "\n",
    "def backtrack_global(x,y,sm,subMat,indel):\n",
    "    i = len(x)\n",
    "    j = len(y)\n",
    "    w=''\n",
    "    z=''\n",
    "    z,w\n",
    "    while i*j > 0:\n",
    "        if x[i-1] == y[j-1]:\n",
    "            w += x[i-1]\n",
    "            z += y[j-1]\n",
    "            i -= 1\n",
    "            j -= 1\n",
    "        else:\n",
    "            left = sm[j-1][i] + indel\n",
    "            up = sm[j][i-1] + indel\n",
    "            diag = sm[j-1][i-1] + subMat.loc[x[i-1]][y[j-1]]\n",
    "            whichmax = np.argmax([left,up,diag])\n",
    "            if whichmax == 0:\n",
    "                w += '-'\n",
    "                z += y[j-1]\n",
    "                j -= 1\n",
    "            elif whichmax == 1:\n",
    "                z += '-'\n",
    "                w += x[i-1]\n",
    "                i -= 1\n",
    "            else:\n",
    "                w += x[i-1]\n",
    "                z += y[j-1]\n",
    "                i -= 1\n",
    "                j -= 1\n",
    "    if j==0 and i>0:\n",
    "        w = x[:i]+w[::-1]\n",
    "        z = '-' * i + z[::-1]\n",
    "    elif i==0 and j>0:\n",
    "        z = y[:i]+z[::-1]\n",
    "        w = '-' * j + w[::-1]\n",
    "    else:\n",
    "        w = w[::-1]\n",
    "        z = z[::-1]\n",
    "    return w,z\n",
    "\n",
    "def locAl(x,y,subMat,indel):\n",
    "    '''\n",
    "    A wrapper for DP implementation of Smith-Waterman\n",
    "    '''\n",
    "    sm, maxLocs = scoringMatrix_local(x,y,subMat,indel)\n",
    "    z,w = backtrack_local(x,y,sm,maxLocs)\n",
    "    return z,w,sm[maxLocs[1],maxLocs[0]],sm\n",
    "\n",
    "def globAl(x,y,subMat,indel):\n",
    "    '''\n",
    "    A wrapper for DP implementation of Smith-Waterman\n",
    "    '''\n",
    "    sm = scoringMatrix_global(x,y,subMat,indel)\n",
    "    z,w = backtrack_global(x,y,sm,subMat,indel)\n",
    "    return z,w,sm[len(y),len(x)]\n",
    "\n",
    "def vizScoringMat(x,y,scoringMat):\n",
    "    return pd.DataFrame(scoringMat,index=['']+[_ for _ in y],\n",
    "             columns=['']+[_ for _ in x])\n",
    "\n",
    "def readBlosum62():\n",
    "    '''\n",
    "    Read scoring matrix\n",
    "    '''\n",
    "    with open('blosum62.txt') as matrix_file:\n",
    "        matrix = matrix_file.read()\n",
    "        lines = matrix.strip().split('\\n')\n",
    "\n",
    "    blosum={}\n",
    "    cols = lines[0].split()\n",
    "\n",
    "    for row in lines[1:]:       \n",
    "        idx = row[0]\n",
    "        vals = row[1:].split()\n",
    "        vals = [int(_) for _ in vals]\n",
    "        #print(idx,vals)\n",
    "        blosum[idx]=vals\n",
    "\n",
    "    blosum = pd.DataFrame.from_dict(blosum,orient='index',columns=cols)\n",
    "    return blosum"
   ]
  },
  {
   "cell_type": "code",
   "execution_count": 15,
   "metadata": {
    "ExecuteTime": {
     "end_time": "2020-11-12T05:04:36.300652Z",
     "start_time": "2020-11-12T05:04:36.293311Z"
    }
   },
   "outputs": [],
   "source": [
    "blosum = readBlosum62()"
   ]
  },
  {
   "cell_type": "code",
   "execution_count": 16,
   "metadata": {
    "ExecuteTime": {
     "end_time": "2020-11-12T05:04:36.636535Z",
     "start_time": "2020-11-12T05:04:36.619765Z"
    }
   },
   "outputs": [
    {
     "data": {
      "text/plain": [
       "('PRT',\n",
       " 'PRT',\n",
       " 17.0,\n",
       " array([[ 0.,  0.,  0.,  0.,  0.,  0.,  0.,  0.],\n",
       "        [ 0.,  7.,  0.,  0.,  0.,  0.,  0.,  0.],\n",
       "        [ 0.,  0., 12.,  4.,  0.,  0.,  0.,  0.],\n",
       "        [ 0.,  0.,  4., 17.,  9.,  1.,  0.,  1.],\n",
       "        [ 0.,  0.,  0.,  9., 14.,  6.,  0.,  0.],\n",
       "        [ 0.,  7.,  0.,  1.,  8., 11.,  4.,  0.],\n",
       "        [ 0.,  0.,  6.,  1.,  1.,  6., 12.,  8.],\n",
       "        [ 0.,  0.,  0.,  5.,  6.,  0.,  6., 12.],\n",
       "        [ 0.,  0.,  0.,  0.,  2., 10.,  2.,  4.],\n",
       "        [ 0.,  0.,  0.,  0.,  0.,  2., 16.,  8.]]))"
      ]
     },
     "execution_count": 16,
     "metadata": {},
     "output_type": "execute_result"
    }
   ],
   "source": [
    "### Example from https://www.bioinformaticsalgorithms.org/bioinformatics-chapter-5\n",
    "## Problem 3: Overlap Alignment\n",
    "x='PRTEINS'\n",
    "y='PRTWPSEIN'\n",
    "indel = -8\n",
    "subMat = blosum\n",
    "locAl(x,y,subMat,indel)"
   ]
  },
  {
   "cell_type": "code",
   "execution_count": 17,
   "metadata": {
    "ExecuteTime": {
     "end_time": "2020-11-12T05:04:37.018382Z",
     "start_time": "2020-11-12T05:04:37.001118Z"
    }
   },
   "outputs": [
    {
     "data": {
      "text/plain": [
       "('ATTGACCTGA', 'A-T--CCTGA', 4.0)"
      ]
     },
     "execution_count": 17,
     "metadata": {},
     "output_type": "execute_result"
    }
   ],
   "source": [
    "### Example from https://www.bioinformaticsalgorithms.org/bioinformatics-chapter-5\n",
    "## Problem 3: Overlap Alignment\n",
    "x='ATTGACCTGA'\n",
    "y='ATCCTGA'\n",
    "indel = -1\n",
    "gap = -1\n",
    "subMat = createScorMat(match = 1,mismatch = -2,nts = list(set(y) | set(x)))\n",
    "globAl(x,y,subMat,indel)"
   ]
  },
  {
   "cell_type": "code",
   "execution_count": 18,
   "metadata": {
    "ExecuteTime": {
     "end_time": "2020-11-12T05:04:37.363312Z",
     "start_time": "2020-11-12T05:04:37.350302Z"
    }
   },
   "outputs": [
    {
     "data": {
      "text/plain": [
       "('PRTEINS', 'PS-EIN-')"
      ]
     },
     "execution_count": 18,
     "metadata": {},
     "output_type": "execute_result"
    }
   ],
   "source": [
    "### Example from https://www.bioinformaticsalgorithms.org/bioinformatics-chapter-5\n",
    "## Problem 3: Overlap Alignment\n",
    "x='PRTEINS'\n",
    "y='PRTWPSEIN'\n",
    "indel = -11\n",
    "gap = -1\n",
    "subMat = blosum\n",
    "sm,_ = scoringMatrix_local(x,y,subMat,indel)\n",
    "backtrack_local(x,y,sm,(len(x),len(y)))"
   ]
  },
  {
   "cell_type": "code",
   "execution_count": 19,
   "metadata": {
    "ExecuteTime": {
     "end_time": "2020-11-12T05:04:38.654285Z",
     "start_time": "2020-11-12T05:04:38.651161Z"
    }
   },
   "outputs": [],
   "source": [
    "#http://csbio.unc.edu/mcmillan/Comp555S16/Lecture14.html\n",
    "#http://rosalind.info/problems/ba5j/"
   ]
  },
  {
   "cell_type": "code",
   "execution_count": 22,
   "metadata": {
    "ExecuteTime": {
     "end_time": "2020-11-12T05:04:48.203525Z",
     "start_time": "2020-11-12T05:04:48.193128Z"
    }
   },
   "outputs": [
    {
     "data": {
      "text/plain": [
       "(('ACACT', 'A-A-T', 1.0),)"
      ]
     },
     "execution_count": 22,
     "metadata": {},
     "output_type": "execute_result"
    }
   ],
   "source": [
    "### Example from https://www.bioinformaticsalgorithms.org/bioinformatics-chapter-5\n",
    "## Problem 3: Overlap Alignment\n",
    "x='ACACT'\n",
    "y='AAT'\n",
    "indel = -1\n",
    "gap = -3\n",
    "subMat = createScorMat(match = 1,mismatch = -1,nts = list(set(y) | set(x)))\n",
    "globAl(x,y,subMat,indel),"
   ]
  },
  {
   "cell_type": "code",
   "execution_count": null,
   "metadata": {
    "ExecuteTime": {
     "end_time": "2020-11-05T02:33:41.737373Z",
     "start_time": "2020-11-05T02:33:41.733486Z"
    }
   },
   "outputs": [],
   "source": []
  },
  {
   "cell_type": "code",
   "execution_count": 23,
   "metadata": {
    "ExecuteTime": {
     "end_time": "2020-11-12T05:04:49.217686Z",
     "start_time": "2020-11-12T05:04:49.211118Z"
    }
   },
   "outputs": [],
   "source": [
    "def initScoringTable(x,y,initY=indel,initX=indel,start=0):\n",
    "    m = len(x) + 1\n",
    "    n = len(y) + 1\n",
    "    scoringMat=np.zeros((n,m)) # Main scoring matrix\n",
    "    scoringMat[:][0] = [0] + list(np.cumsum([initX for _ in x]))\n",
    "    scoringMat[:,0] = [0] + list(np.cumsum([initY for _ in y]))\n",
    "    scoringMat[0,0]=start\n",
    "    return scoringMat"
   ]
  },
  {
   "cell_type": "code",
   "execution_count": 24,
   "metadata": {
    "ExecuteTime": {
     "end_time": "2020-11-12T05:04:49.736984Z",
     "start_time": "2020-11-12T05:04:49.730867Z"
    }
   },
   "outputs": [
    {
     "data": {
      "text/plain": [
       "[-4, -5]"
      ]
     },
     "execution_count": 24,
     "metadata": {},
     "output_type": "execute_result"
    }
   ],
   "source": [
    "[-i + gap for i in range(1,n)]"
   ]
  },
  {
   "cell_type": "code",
   "execution_count": 25,
   "metadata": {
    "ExecuteTime": {
     "end_time": "2020-11-12T05:04:50.288838Z",
     "start_time": "2020-11-12T05:04:50.285108Z"
    }
   },
   "outputs": [],
   "source": [
    "gapExtension = -1\n",
    "gapOpen = -3"
   ]
  },
  {
   "cell_type": "markdown",
   "metadata": {
    "ExecuteTime": {
     "end_time": "2020-11-05T02:47:17.168238Z",
     "start_time": "2020-11-05T02:47:17.160964Z"
    }
   },
   "source": [
    "### Follow this example \n",
    "https://www.youtube.com/watch?v=NqYY0PJbD3s"
   ]
  },
  {
   "cell_type": "code",
   "execution_count": 26,
   "metadata": {
    "ExecuteTime": {
     "end_time": "2020-11-12T05:04:52.728630Z",
     "start_time": "2020-11-12T05:04:52.724130Z"
    }
   },
   "outputs": [],
   "source": [
    "m= len(x)\n",
    "n= len(y)"
   ]
  },
  {
   "cell_type": "code",
   "execution_count": 27,
   "metadata": {
    "ExecuteTime": {
     "end_time": "2020-11-12T05:04:53.041923Z",
     "start_time": "2020-11-12T05:04:53.034526Z"
    }
   },
   "outputs": [
    {
     "data": {
      "text/plain": [
       "array([[ -3.,  -4.,  -5.,  -6.,  -7.],\n",
       "       [-inf,   0.,   0.,   0.,   0.],\n",
       "       [-inf,   0.,   0.,   0.,   0.]])"
      ]
     },
     "execution_count": 27,
     "metadata": {},
     "output_type": "execute_result"
    }
   ],
   "source": [
    "####\n",
    "scoringMat=np.zeros((n,m)) # Main scoring matrix\n",
    "inX = [gapOpen]\n",
    "[inX.append(inX[i-1] + gapExtension) for i in range(1,m)]\n",
    "scoringMat[:][0] = inX\n",
    "scoringMat[:,0][1:] = [-np.inf  for i in range(1,n)]\n",
    "scoringMat\n",
    "scoringMat"
   ]
  },
  {
   "cell_type": "code",
   "execution_count": 28,
   "metadata": {
    "ExecuteTime": {
     "end_time": "2020-11-12T05:04:53.467519Z",
     "start_time": "2020-11-12T05:04:53.461004Z"
    }
   },
   "outputs": [
    {
     "data": {
      "text/plain": [
       "array([[ -3., -inf, -inf, -inf, -inf],\n",
       "       [ -4.,   0.,   0.,   0.,   0.],\n",
       "       [ -5.,   0.,   0.,   0.,   0.]])"
      ]
     },
     "execution_count": 28,
     "metadata": {},
     "output_type": "execute_result"
    }
   ],
   "source": [
    "####\n",
    "scoringMat=np.zeros((n,m)) # Main scoring matrix\n",
    "inY = [gapOpen]\n",
    "[inY.append(inY[i-1] + gapExtension) for i in range(1,n)]\n",
    "scoringMat[:,0] = inY\n",
    "scoringMat[:][0][1:] = [-np.inf  for i in range(1,m)]\n",
    "scoringMat"
   ]
  },
  {
   "cell_type": "code",
   "execution_count": null,
   "metadata": {
    "ExecuteTime": {
     "end_time": "2020-11-05T02:52:56.174525Z",
     "start_time": "2020-11-05T02:52:56.167361Z"
    }
   },
   "outputs": [],
   "source": []
  },
  {
   "cell_type": "code",
   "execution_count": 29,
   "metadata": {
    "ExecuteTime": {
     "end_time": "2020-11-12T05:04:56.318901Z",
     "start_time": "2020-11-12T05:04:56.312175Z"
    }
   },
   "outputs": [
    {
     "data": {
      "text/plain": [
       "[-3, -4, -5, -6, -7]"
      ]
     },
     "execution_count": 29,
     "metadata": {},
     "output_type": "execute_result"
    }
   ],
   "source": [
    "inY = [gapOpen]\n",
    "[inY.append(inY[i-1] + gapExtension) for i in range(1,m)]\n",
    "inY"
   ]
  },
  {
   "cell_type": "code",
   "execution_count": 30,
   "metadata": {
    "ExecuteTime": {
     "end_time": "2020-11-12T05:04:56.665285Z",
     "start_time": "2020-11-12T05:04:56.659220Z"
    }
   },
   "outputs": [],
   "source": [
    "def gapMatrix(x,y,initY=gap,initX=gap,start=0):\n",
    "    m = len(x) + 1\n",
    "    n = len(y) + 1\n",
    "    scoringMat=np.zeros((n,m)) # Main scoring matrix\n",
    "    scoringMat[:][0] = [0] + [-i + initX for i in range(1,m)]\n",
    "    scoringMat[:,0] = [0] + [-i + initY for i in range(1,n)]\n",
    "    scoringMat[0,0]=start\n",
    "    return scoringMat"
   ]
  },
  {
   "cell_type": "code",
   "execution_count": 31,
   "metadata": {
    "ExecuteTime": {
     "end_time": "2020-11-12T05:04:58.000813Z",
     "start_time": "2020-11-12T05:04:57.996086Z"
    }
   },
   "outputs": [
    {
     "data": {
      "text/plain": [
       "array([[ -3.,  -4.,  -5.,  -6.,  -7.,  -8.],\n",
       "       [-inf,   0.,   0.,   0.,   0.,   0.],\n",
       "       [-inf,   0.,   0.,   0.,   0.,   0.],\n",
       "       [-inf,   0.,   0.,   0.,   0.,   0.]])"
      ]
     },
     "execution_count": 31,
     "metadata": {},
     "output_type": "execute_result"
    }
   ],
   "source": [
    "gapMatrix(x,y,-np.inf,gap,gap)"
   ]
  },
  {
   "cell_type": "code",
   "execution_count": 32,
   "metadata": {
    "ExecuteTime": {
     "end_time": "2020-11-12T05:04:58.366707Z",
     "start_time": "2020-11-12T05:04:58.361042Z"
    }
   },
   "outputs": [
    {
     "data": {
      "text/plain": [
       "array([[ -3., -inf, -inf, -inf, -inf, -inf],\n",
       "       [ -4.,   0.,   0.,   0.,   0.,   0.],\n",
       "       [ -5.,   0.,   0.,   0.,   0.,   0.],\n",
       "       [ -6.,   0.,   0.,   0.,   0.,   0.]])"
      ]
     },
     "execution_count": 32,
     "metadata": {},
     "output_type": "execute_result"
    }
   ],
   "source": [
    "gapMatrix(x,y,gap,-np.inf,gap)"
   ]
  },
  {
   "cell_type": "code",
   "execution_count": null,
   "metadata": {},
   "outputs": [],
   "source": []
  },
  {
   "cell_type": "code",
   "execution_count": null,
   "metadata": {},
   "outputs": [],
   "source": []
  },
  {
   "cell_type": "markdown",
   "metadata": {},
   "source": [
    "#### Start here"
   ]
  },
  {
   "cell_type": "code",
   "execution_count": 42,
   "metadata": {
    "ExecuteTime": {
     "end_time": "2020-11-11T03:32:01.310564Z",
     "start_time": "2020-11-11T03:32:01.307614Z"
    }
   },
   "outputs": [
    {
     "data": {
      "text/plain": [
       "('ACACT', 'AAT')"
      ]
     },
     "execution_count": 42,
     "metadata": {},
     "output_type": "execute_result"
    }
   ],
   "source": [
    "x,y"
   ]
  },
  {
   "cell_type": "code",
   "execution_count": null,
   "metadata": {
    "ExecuteTime": {
     "end_time": "2020-11-11T02:57:06.229202Z",
     "start_time": "2020-11-11T02:57:06.224534Z"
    }
   },
   "outputs": [],
   "source": []
  },
  {
   "cell_type": "code",
   "execution_count": 47,
   "metadata": {
    "ExecuteTime": {
     "end_time": "2020-11-12T05:13:10.325382Z",
     "start_time": "2020-11-12T05:13:10.306962Z"
    }
   },
   "outputs": [],
   "source": [
    "def gapMatrix(x,y,initY=gap,initX=gap,start=0):\n",
    "    m = len(x) + 1\n",
    "    n = len(y) + 1\n",
    "    scoringMat=np.zeros((n,m)) # Main scoring matrix\n",
    "    scoringMat[:][0] = [0] + [-i + initX for i in range(1,m)]\n",
    "    scoringMat[:,0] = [0] + [-i + initY for i in range(1,n)]\n",
    "    scoringMat[0,0]=start\n",
    "    return scoringMat\n",
    "\n",
    "def affineGapScoring(x,y,subMat,indel,gap):\n",
    "    #### Initiate\n",
    "    Mmatrix = gapMatrix(x,y,-np.inf,-np.inf,0)\n",
    "    Ix = gapMatrix(x,y,gap,-np.inf,gap)\n",
    "    Iy = gapMatrix(x,y,-np.inf,gap,gap)\n",
    "    m= len(x)\n",
    "    n= len(y)\n",
    "    for j in range(1,n+1):\n",
    "        for i in range(1,m+1):\n",
    "            #### M matrix\n",
    "            M = [Mmatrix[j-1,i-1] + subMat.loc[x[i-1]][y[j-1]],\n",
    "                     Ix[j-1,i-1] + subMat.loc[x[i-1]][y[j-1]],\n",
    "                     Iy[j-1,i-1] + subMat.loc[x[i-1]][y[j-1]]]\n",
    "            Mmatrix[j,i] = max(M)\n",
    "\n",
    "            #### Ix\n",
    "            X = [Mmatrix[j-1,i] + gap + indel,\n",
    "                 Ix[j-1,i] + indel]\n",
    "            #### Iy\n",
    "            Y = [Mmatrix[j,i-1] + gap + indel,\n",
    "                 Iy[j,i-1] + indel]\n",
    "            ###\n",
    "            Ix[j,i] = max(X)\n",
    "            Iy[j,i] = max(Y)\n",
    "    return Mmatrix, Ix, Iy\n",
    "\n",
    "def affineBacktrack(x,y,Mm,Ix,Iy):\n",
    "    i = len(x)\n",
    "    j = len(y)\n",
    "    w=''\n",
    "    z=''\n",
    "    scoreMax = max([Mm[j,i],Mx[j,i],My[j,i]])\n",
    "    while i*j > 0:\n",
    "        print(i,j,w[::-1],z[::-1])\n",
    "        if x[i-1] == y[j-1]:\n",
    "            w += x[i-1]\n",
    "            z += y[j-1]\n",
    "            i -= 1\n",
    "            j -= 1\n",
    "        else:\n",
    "            whichMax = np.argmax([Mm[j,i],Mx[j,i],My[j,i]])\n",
    "            if whichMax == 0:\n",
    "                w += x[i-1]\n",
    "                z += y[j-1]\n",
    "                i -= 1\n",
    "                j -= 1\n",
    "            elif  whichMax == 1:\n",
    "                w += x[i-1]\n",
    "                z += '-'\n",
    "                i -= 1\n",
    "            else:\n",
    "                w += '-'\n",
    "                z += y[j-1]\n",
    "                j -= 1\n",
    "    if j==0 and i>0:\n",
    "        w = x[:i]+w[::-1]\n",
    "        z = '-' * i + z[::-1]\n",
    "    elif i==0 and j>0:\n",
    "        z = y[:i]+z[::-1]\n",
    "        w = '-' * j + w[::-1]\n",
    "    else:\n",
    "        w = w[::-1]\n",
    "        z = z[::-1]\n",
    "    return w,z,scoreMax"
   ]
  },
  {
   "cell_type": "code",
   "execution_count": 48,
   "metadata": {
    "ExecuteTime": {
     "end_time": "2020-11-12T05:13:14.424218Z",
     "start_time": "2020-11-12T05:13:14.402332Z"
    }
   },
   "outputs": [
    {
     "name": "stdout",
     "output_type": "stream",
     "text": [
      "5 3  \n",
      "4 2 T T\n",
      "3 1 CT AT\n",
      "          A    C    A    C    T\n",
      "   0.0 -inf -inf -inf -inf -inf\n",
      "A -inf  1.0 -5.0 -4.0 -7.0 -8.0\n",
      "A -inf -3.0  0.0 -2.0 -5.0 -6.0\n",
      "T -inf -6.0 -4.0 -1.0 -3.0 -4.0\n",
      "          A    C    A     C     T\n",
      "  -3.0 -inf -inf -inf  -inf  -inf\n",
      "A -4.0 -inf -inf -inf  -inf  -inf\n",
      "A -5.0 -3.0 -9.0 -8.0 -11.0 -12.0\n",
      "T -6.0 -4.0 -4.0 -6.0  -9.0 -10.0\n",
      "          A     C    A    C    T\n",
      "  -3.0 -4.0  -5.0 -6.0 -7.0 -8.0\n",
      "A -inf -inf  -3.0 -4.0 -5.0 -6.0\n",
      "A -inf -inf  -7.0 -4.0 -5.0 -6.0\n",
      "T -inf -inf -10.0 -8.0 -5.0 -6.0\n",
      "ACACT --AAT -4.0\n"
     ]
    }
   ],
   "source": [
    "x='ACACT'\n",
    "y='AAT'\n",
    "gap = -3\n",
    "indel = -1\n",
    "subMat = createScorMat(match = 1,mismatch = -1,nts = list(set(y) | set(x)))\n",
    "\n",
    "Mm, Mx, My = affineGapScoring(x,y,subMat,indel,gap)\n",
    "w,z, sm = affineBacktrack(x,y,Mm,Mx,My)\n",
    "\n",
    "#### Result\n",
    "print(vizScoringMat(x,y,Mm))\n",
    "print(vizScoringMat(x,y,Mx))\n",
    "print(vizScoringMat(x,y,My))\n",
    "print(w,z, sm)"
   ]
  },
  {
   "cell_type": "code",
   "execution_count": 49,
   "metadata": {
    "ExecuteTime": {
     "end_time": "2020-11-12T05:13:17.685278Z",
     "start_time": "2020-11-12T05:13:17.638872Z"
    }
   },
   "outputs": [
    {
     "name": "stdout",
     "output_type": "stream",
     "text": [
      "7 9  \n",
      "7 8 - N\n",
      "6 7 S- IN\n",
      "5 6 NS- EIN\n",
      "4 5 INS- SEIN\n",
      "3 4 EINS- PSEIN\n",
      "2 4 TEINS- -PSEIN\n",
      "1 4 RTEINS- --PSEIN\n",
      "           P     R     T     E     I     N     S\n",
      "   0.0  -inf  -inf  -inf  -inf  -inf  -inf  -inf\n",
      "P -inf   7.0 -14.0 -14.0 -15.0 -18.0 -18.0 -18.0\n",
      "R -inf -14.0  12.0  -6.0  -6.0 -10.0  -8.0 -10.0\n",
      "T -inf -14.0  -6.0  17.0  -1.0  -2.0  -2.0  -2.0\n",
      "W -inf -18.0  -9.0  -2.0  14.0   2.0   0.0   0.0\n",
      "P -inf  -8.0  -9.0  -2.0   4.0  11.0   0.0   0.0\n",
      "S -inf -17.0  -9.0  -1.0   4.0   2.0  12.0   4.0\n",
      "E -inf -18.0  -9.0  -4.0   8.0   1.0   2.0  12.0\n",
      "I -inf -21.0 -13.0  -5.0  -1.0  12.0  -2.0   0.0\n",
      "N -inf -21.0 -11.0  -5.0   1.0  -4.0  18.0   1.0\n",
      "            P     R     T     E     I     N     S\n",
      "  -11.0  -inf  -inf  -inf  -inf  -inf  -inf  -inf\n",
      "P -12.0  -inf  -inf  -inf  -inf  -inf  -inf  -inf\n",
      "R -13.0  -5.0 -26.0 -26.0 -27.0 -30.0 -30.0 -30.0\n",
      "T -14.0  -6.0   0.0 -18.0 -18.0 -22.0 -20.0 -22.0\n",
      "W -15.0  -7.0  -1.0   5.0 -13.0 -14.0 -14.0 -14.0\n",
      "P -16.0  -8.0  -2.0   4.0   2.0 -10.0 -12.0 -12.0\n",
      "S -17.0  -9.0  -3.0   3.0   1.0  -1.0 -12.0 -12.0\n",
      "E -18.0 -10.0  -4.0   2.0   0.0  -2.0   0.0  -8.0\n",
      "I -19.0 -11.0  -5.0   1.0  -1.0  -3.0  -1.0   0.0\n",
      "N -20.0 -12.0  -6.0   0.0  -2.0   0.0  -2.0  -1.0\n",
      "            P     R     T     E     I     N     S\n",
      "  -11.0 -12.0 -13.0 -14.0 -15.0 -16.0 -17.0 -18.0\n",
      "P  -inf  -inf  -5.0  -6.0  -7.0  -8.0  -9.0 -10.0\n",
      "R  -inf  -inf -26.0   0.0  -1.0  -2.0  -3.0  -4.0\n",
      "T  -inf  -inf -26.0 -18.0   5.0   4.0   3.0   2.0\n",
      "W  -inf  -inf -30.0 -21.0 -14.0   2.0   1.0   0.0\n",
      "P  -inf  -inf -20.0 -21.0 -14.0  -8.0  -1.0  -2.0\n",
      "S  -inf  -inf -29.0 -21.0 -13.0  -8.0  -9.0   0.0\n",
      "E  -inf  -inf -30.0 -21.0 -16.0  -4.0  -5.0  -6.0\n",
      "I  -inf  -inf -33.0 -25.0 -17.0 -13.0   0.0  -1.0\n",
      "N  -inf  -inf -33.0 -23.0 -17.0 -11.0 -12.0   6.0\n",
      "----PRTEINS- ---PSEIN 6.0\n"
     ]
    }
   ],
   "source": [
    "x='PRTEINS'\n",
    "y='PRTWPSEIN'\n",
    "gap = -11\n",
    "indel = -1\n",
    "#subMat = createScorMat(match = 1,mismatch = -1,nts = list(set(y) | set(x)))\n",
    "subMat = blosum\n",
    "\n",
    "Mm, Mx, My = affineGapScoring(x,y,subMat,indel,gap)\n",
    "w,z, sm = affineBacktrack(x,y,Mm,Mx,My)\n",
    "\n",
    "#### Result\n",
    "print(vizScoringMat(x,y,Mm))\n",
    "print(vizScoringMat(x,y,Mx))\n",
    "print(vizScoringMat(x,y,My))\n",
    "print(w,z, sm)"
   ]
  },
  {
   "cell_type": "code",
   "execution_count": 46,
   "metadata": {
    "ExecuteTime": {
     "end_time": "2020-11-12T05:09:52.131099Z",
     "start_time": "2020-11-12T05:09:52.127114Z"
    }
   },
   "outputs": [
    {
     "data": {
      "text/plain": [
       "7"
      ]
     },
     "execution_count": 46,
     "metadata": {},
     "output_type": "execute_result"
    }
   ],
   "source": [
    "blosum['P']['P']"
   ]
  },
  {
   "cell_type": "code",
   "execution_count": null,
   "metadata": {},
   "outputs": [],
   "source": []
  },
  {
   "cell_type": "code",
   "execution_count": null,
   "metadata": {},
   "outputs": [],
   "source": []
  },
  {
   "cell_type": "code",
   "execution_count": null,
   "metadata": {},
   "outputs": [],
   "source": []
  },
  {
   "cell_type": "code",
   "execution_count": 72,
   "metadata": {
    "ExecuteTime": {
     "end_time": "2020-11-11T04:23:58.160741Z",
     "start_time": "2020-11-11T04:23:58.154187Z"
    }
   },
   "outputs": [
    {
     "data": {
      "text/plain": [
       "(3, 1)"
      ]
     },
     "execution_count": 72,
     "metadata": {},
     "output_type": "execute_result"
    }
   ],
   "source": [
    "i,j"
   ]
  },
  {
   "cell_type": "code",
   "execution_count": 65,
   "metadata": {
    "ExecuteTime": {
     "end_time": "2020-11-11T04:23:08.621646Z",
     "start_time": "2020-11-11T04:23:08.614753Z"
    }
   },
   "outputs": [
    {
     "data": {
      "text/plain": [
       "(2, 0)"
      ]
     },
     "execution_count": 65,
     "metadata": {},
     "output_type": "execute_result"
    }
   ],
   "source": [
    "i,j"
   ]
  },
  {
   "cell_type": "code",
   "execution_count": 55,
   "metadata": {
    "ExecuteTime": {
     "end_time": "2020-11-12T05:18:25.707083Z",
     "start_time": "2020-11-12T05:18:25.701992Z"
    }
   },
   "outputs": [],
   "source": [
    "def make_matrix(sizex, sizey):\n",
    "    \"\"\"Creates a sizex by sizey matrix filled with zeros.\"\"\"\n",
    "    return [[0]*sizey for i in range(sizex)]"
   ]
  },
  {
   "cell_type": "code",
   "execution_count": 56,
   "metadata": {
    "ExecuteTime": {
     "end_time": "2020-11-12T05:18:29.719973Z",
     "start_time": "2020-11-12T05:18:29.715173Z"
    }
   },
   "outputs": [],
   "source": []
  },
  {
   "cell_type": "code",
   "execution_count": 62,
   "metadata": {
    "ExecuteTime": {
     "end_time": "2020-11-12T05:20:18.244839Z",
     "start_time": "2020-11-12T05:20:18.239314Z"
    }
   },
   "outputs": [],
   "source": [
    "gap_start = -11\n",
    "gap_ext = -1\n",
    "\n",
    "\n",
    "M = make_matrix(len(x) + 1, len(y) + 1)\n",
    "X = make_matrix(len(x) + 1, len(y) + 1)\n",
    "Y = make_matrix(len(x) + 1, len(y) + 1)\n",
    "\n",
    "\n",
    "\n",
    "for i in range(1, len(x)+1):\n",
    "    M[i][0] = -np.Inf\n",
    "    X[i][0] = -np.Inf\n",
    "    Y[i][0] = gap_start + i * gap_ext\n",
    "    \n",
    "for i in range(1, len(y)+1):\n",
    "    M[0][i] = -np.Inf\n",
    "    X[0][i] = gap_start + i * gap_ext\n",
    "    Y[0][i] = -np.Inf"
   ]
  },
  {
   "cell_type": "code",
   "execution_count": 63,
   "metadata": {
    "ExecuteTime": {
     "end_time": "2020-11-12T05:20:19.122621Z",
     "start_time": "2020-11-12T05:20:19.109892Z"
    }
   },
   "outputs": [
    {
     "data": {
      "text/plain": [
       "([[0, -inf, -inf, -inf, -inf, -inf, -inf, -inf, -inf, -inf],\n",
       "  [-inf, 0, 0, 0, 0, 0, 0, 0, 0, 0],\n",
       "  [-inf, 0, 0, 0, 0, 0, 0, 0, 0, 0],\n",
       "  [-inf, 0, 0, 0, 0, 0, 0, 0, 0, 0],\n",
       "  [-inf, 0, 0, 0, 0, 0, 0, 0, 0, 0],\n",
       "  [-inf, 0, 0, 0, 0, 0, 0, 0, 0, 0],\n",
       "  [-inf, 0, 0, 0, 0, 0, 0, 0, 0, 0],\n",
       "  [-inf, 0, 0, 0, 0, 0, 0, 0, 0, 0]],\n",
       " [[0, -12, -13, -14, -15, -16, -17, -18, -19, -20],\n",
       "  [-inf, 0, 0, 0, 0, 0, 0, 0, 0, 0],\n",
       "  [-inf, 0, 0, 0, 0, 0, 0, 0, 0, 0],\n",
       "  [-inf, 0, 0, 0, 0, 0, 0, 0, 0, 0],\n",
       "  [-inf, 0, 0, 0, 0, 0, 0, 0, 0, 0],\n",
       "  [-inf, 0, 0, 0, 0, 0, 0, 0, 0, 0],\n",
       "  [-inf, 0, 0, 0, 0, 0, 0, 0, 0, 0],\n",
       "  [-inf, 0, 0, 0, 0, 0, 0, 0, 0, 0]],\n",
       " [[0, -inf, -inf, -inf, -inf, -inf, -inf, -inf, -inf, -inf],\n",
       "  [-12, 0, 0, 0, 0, 0, 0, 0, 0, 0],\n",
       "  [-13, 0, 0, 0, 0, 0, 0, 0, 0, 0],\n",
       "  [-14, 0, 0, 0, 0, 0, 0, 0, 0, 0],\n",
       "  [-15, 0, 0, 0, 0, 0, 0, 0, 0, 0],\n",
       "  [-16, 0, 0, 0, 0, 0, 0, 0, 0, 0],\n",
       "  [-17, 0, 0, 0, 0, 0, 0, 0, 0, 0],\n",
       "  [-18, 0, 0, 0, 0, 0, 0, 0, 0, 0]])"
      ]
     },
     "execution_count": 63,
     "metadata": {},
     "output_type": "execute_result"
    }
   ],
   "source": [
    "M,X,Y"
   ]
  },
  {
   "cell_type": "code",
   "execution_count": 70,
   "metadata": {
    "ExecuteTime": {
     "end_time": "2020-11-12T05:23:12.689195Z",
     "start_time": "2020-11-12T05:23:12.684932Z"
    }
   },
   "outputs": [],
   "source": [
    "x='ACACT'\n",
    "y='AAT'\n",
    "gap = -3\n",
    "indel = -1\n",
    "subMat = createScorMat(match = 1,mismatch = -1,nts = list(set(y) | set(x)))"
   ]
  },
  {
   "cell_type": "code",
   "execution_count": 71,
   "metadata": {
    "ExecuteTime": {
     "end_time": "2020-11-12T05:23:13.305579Z",
     "start_time": "2020-11-12T05:23:13.295143Z"
    }
   },
   "outputs": [],
   "source": [
    "for i in range(1, len(x)+1):\n",
    "    for j in range(1, len(y)+1):\n",
    "\n",
    "        M[i][j] = subMat.loc[x[i-1]][y[j-1]] + max(\n",
    "                M[i-1][j-1],\n",
    "                X[i-1][j-1],\n",
    "                Y[i-1][j-1]\n",
    "        )\n",
    "\n",
    "        X[i][j] = max(\n",
    "                gap_start + gap_ext + M[i][j-1],\n",
    "                gap_ext + X[i][j-1],\n",
    "                gap_start + gap_ext + Y[i][j-1]\n",
    "        )\n",
    "\n",
    "        Y[i][j] = max(\n",
    "                gap_start + gap_ext + M[i-1][j],\n",
    "                gap_start + gap_ext + X[i-1][j],\n",
    "                gap_ext + Y[i-1][j]\n",
    "        )"
   ]
  },
  {
   "cell_type": "code",
   "execution_count": 66,
   "metadata": {
    "ExecuteTime": {
     "end_time": "2020-11-12T05:22:05.541629Z",
     "start_time": "2020-11-12T05:22:05.534083Z"
    }
   },
   "outputs": [
    {
     "data": {
      "text/plain": [
       "([[0, -inf, -inf, -inf, -inf, -inf, -inf, -inf, -inf, -inf],\n",
       "  [-inf, 7, -14, -14, -18, -8, -17, -18, -21, -21],\n",
       "  [-inf, -14, 12, -6, -9, -9, -9, -9, -13, -11],\n",
       "  [-inf, -14, -6, 17, -2, -2, -1, -4, -5, -5],\n",
       "  [-inf, -15, -6, -1, 14, 4, 4, 8, -1, 1],\n",
       "  [-inf, -18, -10, -2, 2, 11, 2, 1, 12, -4],\n",
       "  [-inf, -18, -8, -2, 0, 0, 12, 2, -2, 18],\n",
       "  [-inf, -18, -10, -2, 0, 0, 4, 12, 0, 1]],\n",
       " [[0, -12, -13, -14, -15, -16, -17, -18, -19, -20],\n",
       "  [-inf, -24, -5, -6, -7, -8, -9, -10, -11, -12],\n",
       "  [-inf, -25, -17, 0, -1, -2, -3, -4, -5, -6],\n",
       "  [-inf, -26, -18, -12, 5, 4, 3, 2, 1, 0],\n",
       "  [-inf, -27, -19, -13, -7, 2, 1, 0, -1, -2],\n",
       "  [-inf, -28, -20, -14, -8, -9, -1, -2, -3, 0],\n",
       "  [-inf, -29, -21, -15, -9, -10, -11, 0, -1, -2],\n",
       "  [-inf, -30, -22, -16, -10, -11, -12, -8, 0, -1]],\n",
       " [[0, -inf, -inf, -inf, -inf, -inf, -inf, -inf, -inf, -inf],\n",
       "  [-12, -24, -25, -26, -27, -28, -29, -30, -31, -32],\n",
       "  [-13, -5, -17, -18, -19, -20, -21, -22, -23, -24],\n",
       "  [-14, -6, 0, -12, -13, -14, -15, -16, -17, -18],\n",
       "  [-15, -7, -1, 5, -7, -8, -9, -10, -11, -12],\n",
       "  [-16, -8, -2, 4, 2, -8, -8, -4, -12, -11],\n",
       "  [-17, -9, -3, 3, 1, -1, -9, -5, 0, -12],\n",
       "  [-18, -10, -4, 2, 0, -2, 0, -6, -1, 6]])"
      ]
     },
     "execution_count": 66,
     "metadata": {},
     "output_type": "execute_result"
    }
   ],
   "source": [
    "M,X,Y"
   ]
  },
  {
   "cell_type": "code",
   "execution_count": 68,
   "metadata": {
    "ExecuteTime": {
     "end_time": "2020-11-12T05:22:23.523536Z",
     "start_time": "2020-11-12T05:22:23.516973Z"
    }
   },
   "outputs": [
    {
     "data": {
      "text/plain": [
       "6"
      ]
     },
     "execution_count": 68,
     "metadata": {},
     "output_type": "execute_result"
    }
   ],
   "source": [
    "opt = max(M[len(x)][len(y)], X[len(x)][len(y)], Y[len(x)][len(y)])\n",
    "opt"
   ]
  },
  {
   "cell_type": "code",
   "execution_count": null,
   "metadata": {},
   "outputs": [],
   "source": []
  }
 ],
 "metadata": {
  "kernelspec": {
   "display_name": "Python 3",
   "language": "python",
   "name": "python3"
  },
  "language_info": {
   "codemirror_mode": {
    "name": "ipython",
    "version": 3
   },
   "file_extension": ".py",
   "mimetype": "text/x-python",
   "name": "python",
   "nbconvert_exporter": "python",
   "pygments_lexer": "ipython3",
   "version": "3.8.6"
  },
  "varInspector": {
   "cols": {
    "lenName": 16,
    "lenType": 16,
    "lenVar": 40
   },
   "kernels_config": {
    "python": {
     "delete_cmd_postfix": "",
     "delete_cmd_prefix": "del ",
     "library": "var_list.py",
     "varRefreshCmd": "print(var_dic_list())"
    },
    "r": {
     "delete_cmd_postfix": ") ",
     "delete_cmd_prefix": "rm(",
     "library": "var_list.r",
     "varRefreshCmd": "cat(var_dic_list()) "
    }
   },
   "types_to_exclude": [
    "module",
    "function",
    "builtin_function_or_method",
    "instance",
    "_Feature"
   ],
   "window_display": false
  }
 },
 "nbformat": 4,
 "nbformat_minor": 4
}
