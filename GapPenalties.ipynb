{
 "cells": [
  {
   "cell_type": "markdown",
   "metadata": {},
   "source": [
    "__Video resources__\n",
    "\n",
    "* https://www.youtube.com/watch?v=ZBD9he4Zp1E\n",
    "* https://www.youtube.com/watch?v=Npv180dQ_4Y\n",
    "* https://www.youtube.com/watch?v=NqYY0PJbD3s\n",
    "\n",
    "\n",
    "\n",
    "__Read this__\n",
    "* http://csbio.unc.edu/mcmillan/Comp555S16/Lecture14.html\n",
    "* https://www.cs.cmu.edu/~ckingsf/bioinfo-lectures/gaps.pdf\n",
    "* http://www.bioinfo.rpi.edu/bystrc/courses/biol4540/lecture4.pdf"
   ]
  },
  {
   "cell_type": "code",
   "execution_count": 25,
   "metadata": {
    "ExecuteTime": {
     "end_time": "2020-11-11T03:31:50.963152Z",
     "start_time": "2020-11-11T03:31:50.913155Z"
    }
   },
   "outputs": [],
   "source": [
    "import pandas as pd\n",
    "import numpy as np\n",
    "def createScorMat(match = 1,mismatch = 0,nts = ['A','C','T','G']):\n",
    "    \"\"\"\n",
    "    Create scoring matrix for nucleotides with a given match and mismatch values\n",
    "    \"\"\"\n",
    "    scoringMatrix = np.zeros((len(nts),len(nts)),)\n",
    "    np.fill_diagonal(scoringMatrix,match)\n",
    "    scoringMatrix\n",
    "    scoringMatrix[scoringMatrix == 0] = mismatch\n",
    "    scoringMatrix = pd.DataFrame(scoringMatrix,index=nts,columns=nts)\n",
    "    return scoringMatrix\n",
    "\n",
    "#### Dynamic programming implementation\n",
    "def scoringMatrix_local(x,y,subMat,indel):\n",
    "    m = len(x) + 1\n",
    "    n = len(y) + 1\n",
    "    globMax = (0,0)\n",
    "    scoringMat=np.zeros((n,m))\n",
    "    for i in range(1,m):\n",
    "        #print(x[i-1])\n",
    "        for j in range(1,n):\n",
    "            if x[i-1] == y[j-1]:\n",
    "                #scoringMat[j-1][i-1] + subMat.loc[x[i-1]][y[j-1]]\n",
    "                scoringMat[j][i] = scoringMat[j-1][i-1] + subMat.loc[x[i-1]][y[j-1]]\n",
    "            else:\n",
    "                mismatch = scoringMat[j-1][i-1] + subMat.loc[x[i-1]][y[j-1]]\n",
    "                left = scoringMat[j-1][i] + indel\n",
    "                up = scoringMat[j][i-1] + indel\n",
    "                scoringMat[j][i] = max(mismatch,left,up,0)\n",
    "            if scoringMat[j][i] >= scoringMat[globMax[1]][globMax[0]]:\n",
    "                globMax = (i,j)\n",
    "    return scoringMat,globMax\n",
    "\n",
    "\n",
    "def scoringMatrix_global(x,y,subMat,indel):\n",
    "    m = len(x) + 1\n",
    "    n = len(y) + 1\n",
    "    scoringMat=np.zeros((n,m))\n",
    "    scoringMat[:][0] = [0] + list(np.cumsum([indel for _ in x]))\n",
    "    scoringMat[:,0] = [0] + list(np.cumsum([indel for _ in y]))\n",
    "    for i in range(1,m):\n",
    "        #print(x[i-1])\n",
    "        for j in range(1,n):\n",
    "            if x[i-1] == y[j-1]:\n",
    "                #scoringMat[j-1][i-1] + subMat.loc[x[i-1]][y[j-1]]\n",
    "                scoringMat[j][i] = scoringMat[j-1][i-1] + subMat.loc[x[i-1]][y[j-1]]\n",
    "            else:\n",
    "                mismatch = scoringMat[j-1][i-1] + subMat.loc[x[i-1]][y[j-1]]\n",
    "                left = scoringMat[j-1][i] + indel\n",
    "                up = scoringMat[j][i-1] + indel\n",
    "                scoringMat[j][i] = max(mismatch,left,up)\n",
    "    return scoringMat\n",
    "\n",
    "\n",
    "def backtrack_local(x,y,sm,maxLocs):\n",
    "    i = maxLocs[0]\n",
    "    j = maxLocs[1]\n",
    "    w=''\n",
    "    z=''\n",
    "    z,w\n",
    "    while i*j > 0:\n",
    "        if x[i-1] == y[j-1]:\n",
    "            w += x[i-1]\n",
    "            z += y[j-1]\n",
    "            i -= 1\n",
    "            j -= 1\n",
    "        else:\n",
    "            left = sm[j-1][i]\n",
    "            up = sm[j][i-1]\n",
    "            diag = sm[j-1][i-1]\n",
    "            whichmax = np.argmax([left,up,diag])\n",
    "            if whichmax == 0:\n",
    "                w += '-'\n",
    "                z += y[j-1]\n",
    "                j -= 1\n",
    "            elif whichmax == 1:\n",
    "                z += '-'\n",
    "                w += x[i-1]\n",
    "                i -= 1\n",
    "            else:\n",
    "                w += x[i-1]\n",
    "                z += y[j-1]\n",
    "                i -= 1\n",
    "                j -= 1\n",
    "        if sm[j][i] == 0:\n",
    "            break\n",
    "    return w[::-1],z[::-1]\n",
    "\n",
    "def backtrack_global(x,y,sm,subMat,indel):\n",
    "    i = len(x)\n",
    "    j = len(y)\n",
    "    w=''\n",
    "    z=''\n",
    "    z,w\n",
    "    while i*j > 0:\n",
    "        if x[i-1] == y[j-1]:\n",
    "            w += x[i-1]\n",
    "            z += y[j-1]\n",
    "            i -= 1\n",
    "            j -= 1\n",
    "        else:\n",
    "            left = sm[j-1][i] + indel\n",
    "            up = sm[j][i-1] + indel\n",
    "            diag = sm[j-1][i-1] + subMat.loc[x[i-1]][y[j-1]]\n",
    "            whichmax = np.argmax([left,up,diag])\n",
    "            if whichmax == 0:\n",
    "                w += '-'\n",
    "                z += y[j-1]\n",
    "                j -= 1\n",
    "            elif whichmax == 1:\n",
    "                z += '-'\n",
    "                w += x[i-1]\n",
    "                i -= 1\n",
    "            else:\n",
    "                w += x[i-1]\n",
    "                z += y[j-1]\n",
    "                i -= 1\n",
    "                j -= 1\n",
    "    if j==0 and i>0:\n",
    "        w = x[:i]+w[::-1]\n",
    "        z = '-' * i + z[::-1]\n",
    "    elif i==0 and j>0:\n",
    "        z = y[:i]+z[::-1]\n",
    "        w = '-' * j + w[::-1]\n",
    "    else:\n",
    "        w = w[::-1]\n",
    "        z = z[::-1]\n",
    "    return w,z\n",
    "\n",
    "def locAl(x,y,subMat,indel):\n",
    "    '''\n",
    "    A wrapper for DP implementation of Smith-Waterman\n",
    "    '''\n",
    "    sm, maxLocs = scoringMatrix_local(x,y,subMat,indel)\n",
    "    z,w = backtrack_local(x,y,sm,maxLocs)\n",
    "    return z,w,sm[maxLocs[1],maxLocs[0]],sm\n",
    "\n",
    "def globAl(x,y,subMat,indel):\n",
    "    '''\n",
    "    A wrapper for DP implementation of Smith-Waterman\n",
    "    '''\n",
    "    sm = scoringMatrix_global(x,y,subMat,indel)\n",
    "    z,w = backtrack_global(x,y,sm,subMat,indel)\n",
    "    return z,w,sm[len(y),len(x)]\n",
    "\n",
    "def vizScoringMat(x,y,scoringMat):\n",
    "    return pd.DataFrame(scoringMat,index=['']+[_ for _ in y],\n",
    "             columns=['']+[_ for _ in x])\n",
    "\n",
    "def readBlosum62():\n",
    "    '''\n",
    "    Read scoring matrix\n",
    "    '''\n",
    "    with open('blosum62.txt') as matrix_file:\n",
    "        matrix = matrix_file.read()\n",
    "        lines = matrix.strip().split('\\n')\n",
    "\n",
    "    blosum={}\n",
    "    cols = lines[0].split()\n",
    "\n",
    "    for row in lines[1:]:       \n",
    "        idx = row[0]\n",
    "        vals = row[1:].split()\n",
    "        vals = [int(_) for _ in vals]\n",
    "        #print(idx,vals)\n",
    "        blosum[idx]=vals\n",
    "\n",
    "    blosum = pd.DataFrame.from_dict(blosum,orient='index',columns=cols)\n",
    "    return blosum"
   ]
  },
  {
   "cell_type": "code",
   "execution_count": 26,
   "metadata": {
    "ExecuteTime": {
     "end_time": "2020-11-11T03:31:51.459617Z",
     "start_time": "2020-11-11T03:31:51.452768Z"
    }
   },
   "outputs": [],
   "source": [
    "blosum = readBlosum62()"
   ]
  },
  {
   "cell_type": "code",
   "execution_count": 27,
   "metadata": {
    "ExecuteTime": {
     "end_time": "2020-11-11T03:31:51.842303Z",
     "start_time": "2020-11-11T03:31:51.829414Z"
    }
   },
   "outputs": [
    {
     "data": {
      "text/plain": [
       "('PRT',\n",
       " 'PRT',\n",
       " 17.0,\n",
       " array([[ 0.,  0.,  0.,  0.,  0.,  0.,  0.,  0.],\n",
       "        [ 0.,  7.,  0.,  0.,  0.,  0.,  0.,  0.],\n",
       "        [ 0.,  0., 12.,  4.,  0.,  0.,  0.,  0.],\n",
       "        [ 0.,  0.,  4., 17.,  9.,  1.,  0.,  1.],\n",
       "        [ 0.,  0.,  0.,  9., 14.,  6.,  0.,  0.],\n",
       "        [ 0.,  7.,  0.,  1.,  8., 11.,  4.,  0.],\n",
       "        [ 0.,  0.,  6.,  1.,  1.,  6., 12.,  8.],\n",
       "        [ 0.,  0.,  0.,  5.,  6.,  0.,  6., 12.],\n",
       "        [ 0.,  0.,  0.,  0.,  2., 10.,  2.,  4.],\n",
       "        [ 0.,  0.,  0.,  0.,  0.,  2., 16.,  8.]]))"
      ]
     },
     "execution_count": 27,
     "metadata": {},
     "output_type": "execute_result"
    }
   ],
   "source": [
    "### Example from https://www.bioinformaticsalgorithms.org/bioinformatics-chapter-5\n",
    "## Problem 3: Overlap Alignment\n",
    "x='PRTEINS'\n",
    "y='PRTWPSEIN'\n",
    "indel = -8\n",
    "subMat = blosum\n",
    "locAl(x,y,subMat,indel)"
   ]
  },
  {
   "cell_type": "code",
   "execution_count": 28,
   "metadata": {
    "ExecuteTime": {
     "end_time": "2020-11-11T03:31:52.142504Z",
     "start_time": "2020-11-11T03:31:52.131350Z"
    }
   },
   "outputs": [
    {
     "data": {
      "text/plain": [
       "(('ATTGACCTGA', 'A-T--CCTGA', 4.0),)"
      ]
     },
     "execution_count": 28,
     "metadata": {},
     "output_type": "execute_result"
    }
   ],
   "source": [
    "### Example from https://www.bioinformaticsalgorithms.org/bioinformatics-chapter-5\n",
    "## Problem 3: Overlap Alignment\n",
    "x='ATTGACCTGA'\n",
    "y='ATCCTGA'\n",
    "indel = -1\n",
    "gap = -1\n",
    "subMat = createScorMat(match = 1,mismatch = -2,nts = list(set(y) | set(x)))\n",
    "globAl(x,y,subMat,indel),"
   ]
  },
  {
   "cell_type": "code",
   "execution_count": 29,
   "metadata": {
    "ExecuteTime": {
     "end_time": "2020-11-11T03:31:52.420166Z",
     "start_time": "2020-11-11T03:31:52.408840Z"
    }
   },
   "outputs": [
    {
     "data": {
      "text/plain": [
       "('PRTEINS', 'PS-EIN-')"
      ]
     },
     "execution_count": 29,
     "metadata": {},
     "output_type": "execute_result"
    }
   ],
   "source": [
    "### Example from https://www.bioinformaticsalgorithms.org/bioinformatics-chapter-5\n",
    "## Problem 3: Overlap Alignment\n",
    "x='PRTEINS'\n",
    "y='PRTWPSEIN'\n",
    "indel = -11\n",
    "gap = -1\n",
    "subMat = blosum\n",
    "sm,_ = scoringMatrix_local(x,y,subMat,indel)\n",
    "backtrack_local(x,y,sm,(len(x),len(y)))"
   ]
  },
  {
   "cell_type": "code",
   "execution_count": 30,
   "metadata": {
    "ExecuteTime": {
     "end_time": "2020-11-11T03:31:52.702331Z",
     "start_time": "2020-11-11T03:31:52.700146Z"
    }
   },
   "outputs": [],
   "source": [
    "#http://csbio.unc.edu/mcmillan/Comp555S16/Lecture14.html\n",
    "#http://rosalind.info/problems/ba5j/"
   ]
  },
  {
   "cell_type": "code",
   "execution_count": 31,
   "metadata": {
    "ExecuteTime": {
     "end_time": "2020-11-11T03:31:52.983216Z",
     "start_time": "2020-11-11T03:31:52.976639Z"
    }
   },
   "outputs": [
    {
     "data": {
      "text/plain": [
       "(('ACACT', 'A-A-T', 1.0),)"
      ]
     },
     "execution_count": 31,
     "metadata": {},
     "output_type": "execute_result"
    }
   ],
   "source": [
    "### Example from https://www.bioinformaticsalgorithms.org/bioinformatics-chapter-5\n",
    "## Problem 3: Overlap Alignment\n",
    "x='ACACT'\n",
    "y='AAT'\n",
    "indel = -1\n",
    "gap = -3\n",
    "subMat = createScorMat(match = 1,mismatch = -1,nts = list(set(y) | set(x)))\n",
    "globAl(x,y,subMat,indel),"
   ]
  },
  {
   "cell_type": "code",
   "execution_count": null,
   "metadata": {
    "ExecuteTime": {
     "end_time": "2020-11-05T02:33:41.737373Z",
     "start_time": "2020-11-05T02:33:41.733486Z"
    }
   },
   "outputs": [],
   "source": []
  },
  {
   "cell_type": "code",
   "execution_count": 32,
   "metadata": {
    "ExecuteTime": {
     "end_time": "2020-11-11T03:31:53.536017Z",
     "start_time": "2020-11-11T03:31:53.531874Z"
    }
   },
   "outputs": [],
   "source": [
    "def initScoringTable(x,y,initY=indel,initX=indel,start=0):\n",
    "    m = len(x) + 1\n",
    "    n = len(y) + 1\n",
    "    scoringMat=np.zeros((n,m)) # Main scoring matrix\n",
    "    scoringMat[:][0] = [0] + list(np.cumsum([initX for _ in x]))\n",
    "    scoringMat[:,0] = [0] + list(np.cumsum([initY for _ in y]))\n",
    "    scoringMat[0,0]=start\n",
    "    return scoringMat"
   ]
  },
  {
   "cell_type": "code",
   "execution_count": 33,
   "metadata": {
    "ExecuteTime": {
     "end_time": "2020-11-11T03:31:53.823801Z",
     "start_time": "2020-11-11T03:31:53.820279Z"
    }
   },
   "outputs": [
    {
     "data": {
      "text/plain": [
       "[-4, -5]"
      ]
     },
     "execution_count": 33,
     "metadata": {},
     "output_type": "execute_result"
    }
   ],
   "source": [
    "[-i + gap for i in range(1,n)]"
   ]
  },
  {
   "cell_type": "code",
   "execution_count": 34,
   "metadata": {
    "ExecuteTime": {
     "end_time": "2020-11-11T03:31:54.105888Z",
     "start_time": "2020-11-11T03:31:54.103823Z"
    }
   },
   "outputs": [],
   "source": [
    "gapExtension = -1\n",
    "gapOpen = -3"
   ]
  },
  {
   "cell_type": "markdown",
   "metadata": {
    "ExecuteTime": {
     "end_time": "2020-11-05T02:47:17.168238Z",
     "start_time": "2020-11-05T02:47:17.160964Z"
    }
   },
   "source": [
    "### Follow this example \n",
    "https://www.youtube.com/watch?v=NqYY0PJbD3s"
   ]
  },
  {
   "cell_type": "code",
   "execution_count": 35,
   "metadata": {
    "ExecuteTime": {
     "end_time": "2020-11-11T03:31:55.679347Z",
     "start_time": "2020-11-11T03:31:55.676734Z"
    }
   },
   "outputs": [],
   "source": [
    "m= len(x)\n",
    "n= len(y)"
   ]
  },
  {
   "cell_type": "code",
   "execution_count": 36,
   "metadata": {
    "ExecuteTime": {
     "end_time": "2020-11-11T03:31:56.009078Z",
     "start_time": "2020-11-11T03:31:56.004135Z"
    }
   },
   "outputs": [
    {
     "data": {
      "text/plain": [
       "array([[ -3.,  -4.,  -5.,  -6.,  -7.],\n",
       "       [-inf,   0.,   0.,   0.,   0.],\n",
       "       [-inf,   0.,   0.,   0.,   0.]])"
      ]
     },
     "execution_count": 36,
     "metadata": {},
     "output_type": "execute_result"
    }
   ],
   "source": [
    "####\n",
    "scoringMat=np.zeros((n,m)) # Main scoring matrix\n",
    "inX = [gapOpen]\n",
    "[inX.append(inX[i-1] + gapExtension) for i in range(1,m)]\n",
    "scoringMat[:][0] = inX\n",
    "scoringMat[:,0][1:] = [-np.inf  for i in range(1,n)]\n",
    "scoringMat\n",
    "scoringMat"
   ]
  },
  {
   "cell_type": "code",
   "execution_count": 37,
   "metadata": {
    "ExecuteTime": {
     "end_time": "2020-11-11T03:31:56.353823Z",
     "start_time": "2020-11-11T03:31:56.348365Z"
    }
   },
   "outputs": [
    {
     "data": {
      "text/plain": [
       "array([[ -3., -inf, -inf, -inf, -inf],\n",
       "       [ -4.,   0.,   0.,   0.,   0.],\n",
       "       [ -5.,   0.,   0.,   0.,   0.]])"
      ]
     },
     "execution_count": 37,
     "metadata": {},
     "output_type": "execute_result"
    }
   ],
   "source": [
    "####\n",
    "scoringMat=np.zeros((n,m)) # Main scoring matrix\n",
    "inY = [gapOpen]\n",
    "[inY.append(inY[i-1] + gapExtension) for i in range(1,n)]\n",
    "scoringMat[:,0] = inY\n",
    "scoringMat[:][0][1:] = [-np.inf  for i in range(1,m)]\n",
    "scoringMat"
   ]
  },
  {
   "cell_type": "code",
   "execution_count": null,
   "metadata": {
    "ExecuteTime": {
     "end_time": "2020-11-05T02:52:56.174525Z",
     "start_time": "2020-11-05T02:52:56.167361Z"
    }
   },
   "outputs": [],
   "source": []
  },
  {
   "cell_type": "code",
   "execution_count": 38,
   "metadata": {
    "ExecuteTime": {
     "end_time": "2020-11-11T03:31:57.378935Z",
     "start_time": "2020-11-11T03:31:57.374682Z"
    }
   },
   "outputs": [
    {
     "data": {
      "text/plain": [
       "[-3, -4, -5, -6, -7]"
      ]
     },
     "execution_count": 38,
     "metadata": {},
     "output_type": "execute_result"
    }
   ],
   "source": [
    "inY = [gapOpen]\n",
    "[inY.append(inY[i-1] + gapExtension) for i in range(1,m)]\n",
    "inY"
   ]
  },
  {
   "cell_type": "code",
   "execution_count": 39,
   "metadata": {
    "ExecuteTime": {
     "end_time": "2020-11-11T03:31:58.402055Z",
     "start_time": "2020-11-11T03:31:58.397735Z"
    }
   },
   "outputs": [],
   "source": [
    "def gapMatrix(x,y,initY=gap,initX=gap,start=0):\n",
    "    m = len(x) + 1\n",
    "    n = len(y) + 1\n",
    "    scoringMat=np.zeros((n,m)) # Main scoring matrix\n",
    "    scoringMat[:][0] = [0] + [-i + initX for i in range(1,m)]\n",
    "    scoringMat[:,0] = [0] + [-i + initY for i in range(1,n)]\n",
    "    scoringMat[0,0]=start\n",
    "    return scoringMat"
   ]
  },
  {
   "cell_type": "code",
   "execution_count": 40,
   "metadata": {
    "ExecuteTime": {
     "end_time": "2020-11-11T03:31:59.224442Z",
     "start_time": "2020-11-11T03:31:59.220550Z"
    }
   },
   "outputs": [
    {
     "data": {
      "text/plain": [
       "array([[ -3.,  -4.,  -5.,  -6.,  -7.,  -8.],\n",
       "       [-inf,   0.,   0.,   0.,   0.,   0.],\n",
       "       [-inf,   0.,   0.,   0.,   0.,   0.],\n",
       "       [-inf,   0.,   0.,   0.,   0.,   0.]])"
      ]
     },
     "execution_count": 40,
     "metadata": {},
     "output_type": "execute_result"
    }
   ],
   "source": [
    "gapMatrix(x,y,-np.inf,gap,gap)"
   ]
  },
  {
   "cell_type": "code",
   "execution_count": 41,
   "metadata": {
    "ExecuteTime": {
     "end_time": "2020-11-11T03:31:59.754475Z",
     "start_time": "2020-11-11T03:31:59.749422Z"
    }
   },
   "outputs": [
    {
     "data": {
      "text/plain": [
       "array([[ -3., -inf, -inf, -inf, -inf, -inf],\n",
       "       [ -4.,   0.,   0.,   0.,   0.,   0.],\n",
       "       [ -5.,   0.,   0.,   0.,   0.,   0.],\n",
       "       [ -6.,   0.,   0.,   0.,   0.,   0.]])"
      ]
     },
     "execution_count": 41,
     "metadata": {},
     "output_type": "execute_result"
    }
   ],
   "source": [
    "gapMatrix(x,y,gap,-np.inf,gap)"
   ]
  },
  {
   "cell_type": "code",
   "execution_count": null,
   "metadata": {},
   "outputs": [],
   "source": []
  },
  {
   "cell_type": "code",
   "execution_count": null,
   "metadata": {},
   "outputs": [],
   "source": []
  },
  {
   "cell_type": "markdown",
   "metadata": {},
   "source": [
    "#### Start here"
   ]
  },
  {
   "cell_type": "code",
   "execution_count": 42,
   "metadata": {
    "ExecuteTime": {
     "end_time": "2020-11-11T03:32:01.310564Z",
     "start_time": "2020-11-11T03:32:01.307614Z"
    }
   },
   "outputs": [
    {
     "data": {
      "text/plain": [
       "('ACACT', 'AAT')"
      ]
     },
     "execution_count": 42,
     "metadata": {},
     "output_type": "execute_result"
    }
   ],
   "source": [
    "x,y"
   ]
  },
  {
   "cell_type": "code",
   "execution_count": null,
   "metadata": {
    "ExecuteTime": {
     "end_time": "2020-11-11T02:57:06.229202Z",
     "start_time": "2020-11-11T02:57:06.224534Z"
    }
   },
   "outputs": [],
   "source": []
  },
  {
   "cell_type": "code",
   "execution_count": 106,
   "metadata": {
    "ExecuteTime": {
     "end_time": "2020-11-11T04:30:29.329779Z",
     "start_time": "2020-11-11T04:30:29.313149Z"
    }
   },
   "outputs": [],
   "source": [
    "def affineGapScoring(x,y,subMat,indel,gap):\n",
    "    #### Initiate\n",
    "    Mmatrix = gapMatrix(x,y,-np.inf,-np.inf,0)\n",
    "    Ix = gapMatrix(x,y,gap,-np.inf,gap)\n",
    "    Iy = gapMatrix(x,y,-np.inf,gap,gap)\n",
    "    m= len(x)\n",
    "    n= len(y)\n",
    "    for j in range(1,n+1):\n",
    "        for i in range(1,m+1):\n",
    "            #### M matrix\n",
    "            M = [Mmatrix[j-1,i-1] + subMat.loc[x[i-1]][y[j-1]],\n",
    "                     Ix[j-1,i-1] + subMat.loc[x[i-1]][y[j-1]],\n",
    "                     Iy[j-1,i-1] + subMat.loc[x[i-1]][y[j-1]]]\n",
    "            Mmatrix[j,i] = max(M)\n",
    "\n",
    "            #### Ix\n",
    "            X = [Mmatrix[j-1,i] + gap + indel,\n",
    "                 Ix[j-1,i] + indel]\n",
    "            #### Iy\n",
    "            Y = [Mmatrix[j,i-1] + gap + indel,\n",
    "                 Iy[j,i-1] + indel]\n",
    "            ###\n",
    "            Ix[j,i] = max(X)\n",
    "            Iy[j,i] = max(Y)\n",
    "    return Mmatrix, Ix, Iy\n",
    "\n",
    "def affineBacktrack(x,y,Mm,Ix,Iy):\n",
    "    i = len(x)\n",
    "    j = len(y)\n",
    "    w=''\n",
    "    z=''\n",
    "    while i*j > 0:\n",
    "        #print(i,j,w[::-1],z[::-1])\n",
    "        if x[i-1] == y[j-1]:\n",
    "            w += x[i-1]\n",
    "            z += y[j-1]\n",
    "            i -= 1\n",
    "            j -= 1\n",
    "        else:\n",
    "            whichMax = np.argmax([Mm[j,i],Mx[j,i],My[j,i]])\n",
    "            if whichMax == 0:\n",
    "                w += x[i-1]\n",
    "                z += y[j-1]\n",
    "                i -= 1\n",
    "                j -= 1\n",
    "            elif  whichMax == 1:\n",
    "                w += x[i-1]\n",
    "                z += ''\n",
    "                i -= 1\n",
    "            else:\n",
    "                w += ''\n",
    "                z += y[j-1]\n",
    "                j -= 1\n",
    "    if j==0 and i>0:\n",
    "        w = x[:i]+w[::-1]\n",
    "        z = '-' * i + z[::-1]\n",
    "    elif i==0 and j>0:\n",
    "        z = y[:i]+z[::-1]\n",
    "        w = '-' * j + w[::-1]\n",
    "    else:\n",
    "        w = w[::-1]\n",
    "        z = z[::-1]\n",
    "    return w,z,scoreMax"
   ]
  },
  {
   "cell_type": "code",
   "execution_count": 44,
   "metadata": {
    "ExecuteTime": {
     "end_time": "2020-11-11T03:32:02.599544Z",
     "start_time": "2020-11-11T03:32:02.595578Z"
    }
   },
   "outputs": [
    {
     "data": {
      "text/plain": [
       "(-3, -1)"
      ]
     },
     "execution_count": 44,
     "metadata": {},
     "output_type": "execute_result"
    }
   ],
   "source": [
    "gap,indel"
   ]
  },
  {
   "cell_type": "code",
   "execution_count": 108,
   "metadata": {
    "ExecuteTime": {
     "end_time": "2020-11-11T04:30:53.304270Z",
     "start_time": "2020-11-11T04:30:53.276156Z"
    }
   },
   "outputs": [
    {
     "name": "stdout",
     "output_type": "stream",
     "text": [
      "          A    C    A    C    T\n",
      "   0.0 -inf -inf -inf -inf -inf\n",
      "A -inf  1.0 -5.0 -4.0 -7.0 -8.0\n",
      "A -inf -3.0  0.0 -2.0 -5.0 -6.0\n",
      "T -inf -6.0 -4.0 -1.0 -3.0 -4.0\n",
      "          A    C    A     C     T\n",
      "  -3.0 -inf -inf -inf  -inf  -inf\n",
      "A -4.0 -inf -inf -inf  -inf  -inf\n",
      "A -5.0 -3.0 -9.0 -8.0 -11.0 -12.0\n",
      "T -6.0 -4.0 -4.0 -6.0  -9.0 -10.0\n",
      "          A     C    A    C    T\n",
      "  -3.0 -4.0  -5.0 -6.0 -7.0 -8.0\n",
      "A -inf -inf  -3.0 -4.0 -5.0 -6.0\n",
      "A -inf -inf  -7.0 -4.0 -5.0 -6.0\n",
      "T -inf -inf -10.0 -8.0 -5.0 -6.0\n",
      "ACACT --AAT -4.0\n"
     ]
    }
   ],
   "source": [
    "x='ACACT'\n",
    "y='AAT'\n",
    "gap = -3\n",
    "indel = -1\n",
    "subMat = createScorMat(match = 1,mismatch = -1,nts = list(set(y) | set(x)))\n",
    "\n",
    "Mm, Mx, My = affineGapScoring(x,y,subMat,indel,gap)\n",
    "w,z, sm = affineBacktrack(x,y,Mm,Mx,My)\n",
    "\n",
    "#### Result\n",
    "print(vizScoringMat(x,y,Mm))\n",
    "print(vizScoringMat(x,y,Mx))\n",
    "print(vizScoringMat(x,y,My))\n",
    "print(w,z, sm)"
   ]
  },
  {
   "cell_type": "code",
   "execution_count": 113,
   "metadata": {
    "ExecuteTime": {
     "end_time": "2020-11-11T04:33:31.540672Z",
     "start_time": "2020-11-11T04:33:31.495849Z"
    }
   },
   "outputs": [
    {
     "name": "stdout",
     "output_type": "stream",
     "text": [
      "           P     R     T     W     P     S     E     I     N\n",
      "   0.0  -inf  -inf  -inf  -inf  -inf  -inf  -inf  -inf  -inf\n",
      "P -inf   7.0 -14.0 -14.0 -18.0  -8.0 -17.0 -18.0 -21.0 -21.0\n",
      "R -inf -14.0  12.0  -6.0  -9.0  -9.0  -9.0  -9.0 -13.0 -11.0\n",
      "T -inf -14.0  -6.0  17.0  -2.0  -2.0  -1.0  -4.0  -5.0  -5.0\n",
      "E -inf -15.0  -6.0  -1.0  14.0   4.0   4.0   8.0  -1.0   1.0\n",
      "I -inf -18.0 -10.0  -2.0   2.0  11.0   2.0   1.0  12.0  -4.0\n",
      "N -inf -18.0  -8.0  -2.0   0.0   0.0  12.0   2.0  -2.0  18.0\n",
      "S -inf -18.0 -10.0  -2.0   0.0   0.0   4.0  12.0   0.0   1.0\n",
      "            P     R     T     W     P     S     E     I     N\n",
      "  -11.0  -inf  -inf  -inf  -inf  -inf  -inf  -inf  -inf  -inf\n",
      "P -12.0  -inf  -inf  -inf  -inf  -inf  -inf  -inf  -inf  -inf\n",
      "R -13.0  -5.0 -26.0 -26.0 -30.0 -20.0 -29.0 -30.0 -33.0 -33.0\n",
      "T -14.0  -6.0   0.0 -18.0 -21.0 -21.0 -21.0 -21.0 -25.0 -23.0\n",
      "E -15.0  -7.0  -1.0   5.0 -14.0 -14.0 -13.0 -16.0 -17.0 -17.0\n",
      "I -16.0  -8.0  -2.0   4.0   2.0  -8.0  -8.0  -4.0 -13.0 -11.0\n",
      "N -17.0  -9.0  -3.0   3.0   1.0  -1.0  -9.0  -5.0   0.0 -12.0\n",
      "S -18.0 -10.0  -4.0   2.0   0.0  -2.0   0.0  -6.0  -1.0   6.0\n",
      "            P     R     T     W     P     S     E     I     N\n",
      "  -11.0 -12.0 -13.0 -14.0 -15.0 -16.0 -17.0 -18.0 -19.0 -20.0\n",
      "P  -inf  -inf  -5.0  -6.0  -7.0  -8.0  -9.0 -10.0 -11.0 -12.0\n",
      "R  -inf  -inf -26.0   0.0  -1.0  -2.0  -3.0  -4.0  -5.0  -6.0\n",
      "T  -inf  -inf -26.0 -18.0   5.0   4.0   3.0   2.0   1.0   0.0\n",
      "E  -inf  -inf -27.0 -18.0 -13.0   2.0   1.0   0.0  -1.0  -2.0\n",
      "I  -inf  -inf -30.0 -22.0 -14.0 -10.0  -1.0  -2.0  -3.0   0.0\n",
      "N  -inf  -inf -30.0 -20.0 -14.0 -12.0 -12.0   0.0  -1.0  -2.0\n",
      "S  -inf  -inf -30.0 -22.0 -14.0 -12.0 -12.0  -8.0   0.0  -1.0\n",
      "PRTWPSEIN ----PRTEINS -4.0\n"
     ]
    }
   ],
   "source": [
    "y='PRTEINS'\n",
    "x='PRTWPSEIN'\n",
    "gap = -11\n",
    "indel = -1\n",
    "#subMat = createScorMat(match = 1,mismatch = -1,nts = list(set(y) | set(x)))\n",
    "subMat = blosum\n",
    "\n",
    "Mm, Mx, My = affineGapScoring(x,y,subMat,indel,gap)\n",
    "w,z, sm = affineBacktrack(x,y,Mm,Mx,My)\n",
    "\n",
    "#### Result\n",
    "print(vizScoringMat(x,y,Mm))\n",
    "print(vizScoringMat(x,y,Mx))\n",
    "print(vizScoringMat(x,y,My))\n",
    "print(w,z, sm)"
   ]
  },
  {
   "cell_type": "code",
   "execution_count": 114,
   "metadata": {
    "ExecuteTime": {
     "end_time": "2020-11-11T04:35:01.371599Z",
     "start_time": "2020-11-11T04:35:01.365418Z"
    }
   },
   "outputs": [
    {
     "data": {
      "text/plain": [
       "7"
      ]
     },
     "execution_count": 114,
     "metadata": {},
     "output_type": "execute_result"
    }
   ],
   "source": [
    "blosum['P']['P']"
   ]
  },
  {
   "cell_type": "code",
   "execution_count": null,
   "metadata": {},
   "outputs": [],
   "source": []
  },
  {
   "cell_type": "code",
   "execution_count": null,
   "metadata": {},
   "outputs": [],
   "source": []
  },
  {
   "cell_type": "code",
   "execution_count": null,
   "metadata": {},
   "outputs": [],
   "source": []
  },
  {
   "cell_type": "code",
   "execution_count": 72,
   "metadata": {
    "ExecuteTime": {
     "end_time": "2020-11-11T04:23:58.160741Z",
     "start_time": "2020-11-11T04:23:58.154187Z"
    }
   },
   "outputs": [
    {
     "data": {
      "text/plain": [
       "(3, 1)"
      ]
     },
     "execution_count": 72,
     "metadata": {},
     "output_type": "execute_result"
    }
   ],
   "source": [
    "i,j"
   ]
  },
  {
   "cell_type": "code",
   "execution_count": 65,
   "metadata": {
    "ExecuteTime": {
     "end_time": "2020-11-11T04:23:08.621646Z",
     "start_time": "2020-11-11T04:23:08.614753Z"
    }
   },
   "outputs": [
    {
     "data": {
      "text/plain": [
       "(2, 0)"
      ]
     },
     "execution_count": 65,
     "metadata": {},
     "output_type": "execute_result"
    }
   ],
   "source": [
    "i,j"
   ]
  },
  {
   "cell_type": "code",
   "execution_count": null,
   "metadata": {},
   "outputs": [],
   "source": [
    "while i*j > 0:\n",
    "    if x[i-1] == y[j-1]:\n",
    "        w += x[i-1]\n",
    "        z += y[j-1]\n",
    "        i -= 1\n",
    "        j -= 1\n",
    "    else:\n",
    "        left = sm[j-1][i]\n",
    "        up = sm[j][i-1]\n",
    "        diag = sm[j-1][i-1]\n",
    "        whichmax = np.argmax([left,up,diag])\n",
    "        if whichmax == 0:\n",
    "            w += '-'\n",
    "            z += y[j-1]\n",
    "            j -= 1\n",
    "        elif whichmax == 1:\n",
    "            z += '-'\n",
    "            w += x[i-1]\n",
    "            i -= 1\n",
    "        else:\n",
    "            w += x[i-1]\n",
    "            z += y[j-1]\n",
    "            i -= 1\n",
    "            j -= 1\n",
    "    if sm[j][i] == 0:\n",
    "        break\n",
    "return w[::-1],z[::-1]"
   ]
  }
 ],
 "metadata": {
  "kernelspec": {
   "display_name": "Python 3",
   "language": "python",
   "name": "python3"
  },
  "language_info": {
   "codemirror_mode": {
    "name": "ipython",
    "version": 3
   },
   "file_extension": ".py",
   "mimetype": "text/x-python",
   "name": "python",
   "nbconvert_exporter": "python",
   "pygments_lexer": "ipython3",
   "version": "3.8.6"
  },
  "varInspector": {
   "cols": {
    "lenName": 16,
    "lenType": 16,
    "lenVar": 40
   },
   "kernels_config": {
    "python": {
     "delete_cmd_postfix": "",
     "delete_cmd_prefix": "del ",
     "library": "var_list.py",
     "varRefreshCmd": "print(var_dic_list())"
    },
    "r": {
     "delete_cmd_postfix": ") ",
     "delete_cmd_prefix": "rm(",
     "library": "var_list.r",
     "varRefreshCmd": "cat(var_dic_list()) "
    }
   },
   "types_to_exclude": [
    "module",
    "function",
    "builtin_function_or_method",
    "instance",
    "_Feature"
   ],
   "window_display": false
  }
 },
 "nbformat": 4,
 "nbformat_minor": 4
}
