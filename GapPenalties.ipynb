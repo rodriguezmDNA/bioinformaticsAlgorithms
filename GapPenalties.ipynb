{
 "cells": [
  {
   "cell_type": "markdown",
   "metadata": {},
   "source": [
    "__Video resources__\n",
    "\n",
    "* https://www.youtube.com/watch?v=ZBD9he4Zp1E\n",
    "* https://www.youtube.com/watch?v=Npv180dQ_4Y\n",
    "* https://www.youtube.com/watch?v=NqYY0PJbD3s\n",
    "\n",
    "\n",
    "\n",
    "__Read this__\n",
    "* http://csbio.unc.edu/mcmillan/Comp555S16/Lecture14.html\n",
    "* https://www.cs.cmu.edu/~ckingsf/bioinfo-lectures/gaps.pdf\n",
    "* http://www.bioinfo.rpi.edu/bystrc/courses/biol4540/lecture4.pdf"
   ]
  },
  {
   "cell_type": "code",
   "execution_count": 1,
   "metadata": {
    "ExecuteTime": {
     "end_time": "2020-11-19T01:50:31.402317Z",
     "start_time": "2020-11-19T01:50:31.016666Z"
    }
   },
   "outputs": [],
   "source": [
    "import pandas as pd\n",
    "import numpy as np\n",
    "def createScorMat(match = 1,mismatch = 0,nts = ['A','C','T','G']):\n",
    "    \"\"\"\n",
    "    Create scoring matrix for nucleotides with a given match and mismatch values\n",
    "    \"\"\"\n",
    "    scoringMatrix = np.zeros((len(nts),len(nts)),)\n",
    "    np.fill_diagonal(scoringMatrix,match)\n",
    "    scoringMatrix\n",
    "    scoringMatrix[scoringMatrix == 0] = mismatch\n",
    "    scoringMatrix = pd.DataFrame(scoringMatrix,index=nts,columns=nts)\n",
    "    return scoringMatrix\n",
    "\n",
    "def gapMatrix(x,y,initY=-11,initX=-11):\n",
    "    m = len(x) + 1\n",
    "    n = len(y) + 1\n",
    "    scoringMat=np.zeros((n,m)) # Main scoring matrix\n",
    "    #scoringMat[:][0] = [0] + [-i + initX for i in range(1,m)]\n",
    "    scoringMat[0][1:] = [initX] + [-i + initX for i in range(1,m-1)]\n",
    "    #scoringMat[:,0] = [0] + [-i + initY for i in range(1,n)]\n",
    "    scoringMat[1:,0] = [-i + initY for i in range(0,n-1)]\n",
    "    #scoringMat[0,0]=start\n",
    "    return scoringMat\n",
    "\n",
    "\n",
    "def affineBacktrack(x,y,Mm,My,Mx,debug=False):\n",
    "    i = len(x)\n",
    "    j = len(y)\n",
    "    w=''\n",
    "    z=''\n",
    "    scoreMax = max([Mm[j,i],Mx[j,i],My[j,i]])\n",
    "    while i*j > 0:\n",
    "        if debug: print(i,j,w[::-1],z[::-1])\n",
    "        if x[i-1] == y[j-1]:\n",
    "            w += x[i-1]\n",
    "            z += y[j-1]\n",
    "            i -= 1\n",
    "            j -= 1\n",
    "        else:\n",
    "            whichMax = np.argmax([Mm[j,i],Mx[j,i],My[j,i]])\n",
    "            if whichMax == 0:\n",
    "                w += x[i-1]\n",
    "                z += y[j-1]\n",
    "                i -= 1\n",
    "                j -= 1\n",
    "            elif  whichMax == 1:\n",
    "                w += x[i-1]\n",
    "                z += '-'\n",
    "                i -= 1\n",
    "            else:\n",
    "                w += '-'\n",
    "                z += y[j-1]\n",
    "                j -= 1\n",
    "    if j==0 and i>0:\n",
    "        w = x[:i]+w[::-1]\n",
    "        z = '-' * i + z[::-1]\n",
    "    elif i==0 and j>0:\n",
    "        z = y[:i]+z[::-1]\n",
    "        w = '-' * j + w[::-1]\n",
    "    else:\n",
    "        w = w[::-1]\n",
    "        z = z[::-1]\n",
    "    return w,z,scoreMax\n",
    "\n",
    "\n",
    "def vizScoringMat(x,y,scoringMat):\n",
    "    return pd.DataFrame(scoringMat,index=['']+[_ for _ in y],\n",
    "             columns=['']+[_ for _ in x])\n",
    "\n",
    "def readBlosum62():\n",
    "    '''\n",
    "    Read scoring matrix\n",
    "    '''\n",
    "    with open('blosum62.txt') as matrix_file:\n",
    "        matrix = matrix_file.read()\n",
    "        lines = matrix.strip().split('\\n')\n",
    "\n",
    "    blosum={}\n",
    "    cols = lines[0].split()\n",
    "\n",
    "    for row in lines[1:]:       \n",
    "        idx = row[0]\n",
    "        vals = row[1:].split()\n",
    "        vals = [int(_) for _ in vals]\n",
    "        #print(idx,vals)\n",
    "        blosum[idx]=vals\n",
    "\n",
    "    blosum = pd.DataFrame.from_dict(blosum,orient='index',columns=cols)\n",
    "    return blosum"
   ]
  },
  {
   "cell_type": "code",
   "execution_count": 2,
   "metadata": {
    "ExecuteTime": {
     "end_time": "2020-11-19T01:50:31.681840Z",
     "start_time": "2020-11-19T01:50:31.673815Z"
    }
   },
   "outputs": [],
   "source": [
    "def gapScoringMatrices(x,y,subMat,gapOpen,gapExt):\n",
    "\n",
    "    #### Initiate matrices\n",
    "    Mmatrix = gapMatrix(x,y,gapOpen,gapOpen)\n",
    "    Ix = gapMatrix(x,y,gapOpen,-np.inf)\n",
    "    Iy = gapMatrix(x,y,-np.inf,gapOpen)\n",
    "\n",
    "    m= len(x)\n",
    "    n= len(y)\n",
    "\n",
    "#     print(vizScoringMat(x,y,Ix))\n",
    "#     print(vizScoringMat(x,y,Mmatrix))\n",
    "#     print(vizScoringMat(x,y,Iy))\n",
    "\n",
    "    #### Fill matrices\n",
    "    for j in range(1,n+1):\n",
    "        for i in range(1,m+1):\n",
    "            #### M matrix\n",
    "            M = [Mmatrix[j-1,i-1] + subMat.loc[x[i-1]][y[j-1]],\n",
    "                     Ix[j-1,i-1] + subMat.loc[x[i-1]][y[j-1]],\n",
    "                     Iy[j-1,i-1] + subMat.loc[x[i-1]][y[j-1]]]\n",
    "            Mmatrix[j,i] = max(M)\n",
    "\n",
    "            #### Ix\n",
    "            X = [Mmatrix[j-1,i] + gapOpen,\n",
    "                 Ix[j-1,i] + gapExt]\n",
    "            #### Iy\n",
    "            Y = [Mmatrix[j,i-1] + gapOpen,\n",
    "                 Iy[j,i-1] + gapOpen]\n",
    "            ###\n",
    "            Ix[j,i] = max(X)\n",
    "            Iy[j,i] = max(Y)\n",
    "\n",
    "\n",
    "#     print(vizScoringMat(x,y,Ix))\n",
    "#     print(vizScoringMat(x,y,Mmatrix))\n",
    "#     print(vizScoringMat(x,y,Iy))\n",
    "    return Mmatrix, Ix, Iy\n",
    "\n",
    "def gapAlign(x,y,subMat,gapOpen,gapExt):\n",
    "    Mid,Upper,Left = gapScoringMatrices(x,y,subMat,gapOpen,gapExt)\n",
    "    wAl, vAl, maxScore = affineBacktrack(x,y,Mid,Upper,Left)\n",
    "    return wAl, vAl, maxScore"
   ]
  },
  {
   "cell_type": "code",
   "execution_count": 18,
   "metadata": {
    "ExecuteTime": {
     "end_time": "2020-11-18T01:51:51.876309Z",
     "start_time": "2020-11-18T01:51:51.843661Z"
    }
   },
   "outputs": [
    {
     "name": "stdout",
     "output_type": "stream",
     "text": [
      "8.0\n",
      "PRT---EINS\n",
      "PRTWPSEIN-\n"
     ]
    }
   ],
   "source": [
    "#### Start here\n",
    "x='PRTEINS'\n",
    "y='PRTWPSEIN'\n",
    "gapOpen = -11\n",
    "gapExt = -1\n",
    "#subMat = createScorMat(match = 1,mismatch = -1,nts = list(set(y) | set(x)))\n",
    "blosum = readBlosum62()\n",
    "subMat = blosum\n",
    "#### affine Gap Align\n",
    "wRes, vRes, maxScoreGap = gapAlign(x,y,subMat,gapOpen,gapExt)\n",
    "\n",
    "print(maxScoreGap)\n",
    "print(wRes)\n",
    "print(vRes)"
   ]
  },
  {
   "cell_type": "code",
   "execution_count": 3,
   "metadata": {
    "ExecuteTime": {
     "end_time": "2020-11-19T01:51:13.643377Z",
     "start_time": "2020-11-19T01:51:12.165389Z"
    }
   },
   "outputs": [
    {
     "name": "stdout",
     "output_type": "stream",
     "text": [
      "89.0\n",
      "YHFDVPDCWAHRYWVENPQAIAQMEQICFNWFPSMMMK-------QPHVF---KVDHHMSCRWLPIRGKKCSSCCTRMRVRTVWE\n",
      "YHEDVAHEDAIAQMV-N--TFGFVWQICLNQFPSMMMKIYWIAVLSAHVADRKTWSKHMSCRWLPI----ISATCARMRVRTVWE\n"
     ]
    }
   ],
   "source": [
    "#### Start here\n",
    "x='YHFDVPDCWAHRYWVENPQAIAQMEQICFNWFPSMMMKQPHVFKVDHHMSCRWLPIRGKKCSSCCTRMRVRTVWE'\n",
    "y='YHEDVAHEDAIAQMVNTFGFVWQICLNQFPSMMMKIYWIAVLSAHVADRKTWSKHMSCRWLPIISATCARMRVRTVWE'\n",
    "gapOpen = -11\n",
    "gapExt = -1\n",
    "#subMat = createScorMat(match = 1,mismatch = -1,nts = list(set(y) | set(x)))\n",
    "blosum = readBlosum62()\n",
    "subMat = blosum\n",
    "#### affine Gap Align\n",
    "wRes, vRes, maxScoreGap = gapAlign(x,y,subMat,gapOpen,gapExt)\n",
    "\n",
    "print(maxScoreGap)\n",
    "print(wRes)\n",
    "print(vRes)"
   ]
  },
  {
   "cell_type": "code",
   "execution_count": 63,
   "metadata": {
    "ExecuteTime": {
     "end_time": "2020-11-19T02:19:57.129940Z",
     "start_time": "2020-11-19T02:19:57.116064Z"
    }
   },
   "outputs": [],
   "source": [
    "x='PRTEINS'\n",
    "y='PRTWPSEIN'\n",
    "gapOpen = -11\n",
    "gapExt = -1\n",
    "\n",
    "#### Initiate matrices\n",
    "Mmatrix = gapMatrix(x,y,gapOpen,gapOpen)\n",
    "Ix = gapMatrix(x,y,gapOpen,-np.inf)\n",
    "Iy = gapMatrix(x,y,-np.inf,gapOpen)\n",
    "\n",
    "m= len(x)\n",
    "n= len(y)\n",
    "\n",
    "#     print(vizScoringMat(x,y,Ix))\n",
    "#     print(vizScoringMat(x,y,Mmatrix))\n",
    "#     print(vizScoringMat(x,y,Iy))\n",
    "\n",
    "#### Fill matrices\n",
    "for j in range(1,n+1):\n",
    "    for i in range(1,m+1):\n",
    "        #### M matrix\n",
    "        M = [Mmatrix[j-1,i-1] + subMat.loc[x[i-1]][y[j-1]],\n",
    "                 Ix[j,i],# + subMat.loc[x[i-1]][y[j-1]],\n",
    "                 Iy[j,i]]# + subMat.loc[x[i-1]][y[j-1]]]\n",
    "        Mmatrix[j,i] = max(M)\n",
    "\n",
    "        #### Ix\n",
    "        X = [Mmatrix[j-1,i] + gapOpen,\n",
    "             Ix[j-1,i] + gapExt]\n",
    "        #### Iy\n",
    "        Y = [Mmatrix[j,i-1] + gapOpen,\n",
    "             Iy[j,i-1] + gapExt]\n",
    "        ###\n",
    "        Ix[j,i] = max(X)\n",
    "        Iy[j,i] = max(Y)"
   ]
  },
  {
   "cell_type": "code",
   "execution_count": 64,
   "metadata": {
    "ExecuteTime": {
     "end_time": "2020-11-19T02:20:04.650915Z",
     "start_time": "2020-11-19T02:20:04.639812Z"
    }
   },
   "outputs": [
    {
     "data": {
      "text/plain": [
       "(array([[  0., -11., -12., -13., -14., -15., -16., -17.],\n",
       "        [-11.,   7.,   0.,   0.,   0.,   0.,   0.,   0.],\n",
       "        [-12.,   0.,  12.,   0.,   0.,   0.,   0.,   0.],\n",
       "        [-13.,   0.,   0.,  17.,   0.,   0.,   0.,   1.],\n",
       "        [-14.,   0.,   0.,   0.,  14.,   0.,   0.,   0.],\n",
       "        [-15.,   0.,   0.,   0.,   0.,  11.,   0.,   0.],\n",
       "        [-16.,   0.,   0.,   1.,   0.,   0.,  12.,   4.],\n",
       "        [-17.,   0.,   0.,   0.,   6.,   0.,   0.,  12.],\n",
       "        [-18.,   0.,   0.,   0.,   0.,  10.,   0.,   0.],\n",
       "        [-19.,   0.,   0.,   0.,   0.,   0.,  16.,   1.]]),\n",
       " array([[  0., -inf, -inf, -inf, -inf, -inf, -inf, -inf],\n",
       "        [-11., -22., -23., -24., -25., -26., -27., -28.],\n",
       "        [-12.,  -4., -11., -11., -11., -11., -11., -11.],\n",
       "        [-13.,  -5.,   1., -11., -11., -11., -11., -11.],\n",
       "        [-14.,  -6.,   0.,   6., -11., -11., -11., -10.],\n",
       "        [-15.,  -7.,  -1.,   5.,   3., -11., -11., -11.],\n",
       "        [-16.,  -8.,  -2.,   4.,   2.,   0., -11., -11.],\n",
       "        [-17.,  -9.,  -3.,   3.,   1.,  -1.,   1.,  -7.],\n",
       "        [-18., -10.,  -4.,   2.,   0.,  -2.,   0.,   1.],\n",
       "        [-19., -11.,  -5.,   1.,  -1.,  -1.,  -1.,   0.]]),\n",
       " array([[  0., -11., -12., -13., -14., -15., -16., -17.],\n",
       "        [-inf, -22.,  -4.,  -5.,  -6.,  -7.,  -8.,  -9.],\n",
       "        [-inf, -23., -11.,   1.,   0.,  -1.,  -2.,  -3.],\n",
       "        [-inf, -24., -11., -11.,   6.,   5.,   4.,   3.],\n",
       "        [-inf, -25., -11., -11., -11.,   3.,   2.,   1.],\n",
       "        [-inf, -26., -11., -11., -11., -11.,   0.,  -1.],\n",
       "        [-inf, -27., -11., -11., -10., -11., -11.,   1.],\n",
       "        [-inf, -28., -11., -11., -11.,  -5.,  -6.,  -7.],\n",
       "        [-inf, -29., -11., -11., -11., -11.,  -1.,  -2.],\n",
       "        [-inf, -30., -11., -11., -11., -11., -11.,   5.]]))"
      ]
     },
     "execution_count": 64,
     "metadata": {},
     "output_type": "execute_result"
    }
   ],
   "source": [
    "Mmatrix,Ix,Iy"
   ]
  },
  {
   "cell_type": "code",
   "execution_count": null,
   "metadata": {},
   "outputs": [],
   "source": []
  },
  {
   "cell_type": "code",
   "execution_count": null,
   "metadata": {},
   "outputs": [],
   "source": []
  },
  {
   "cell_type": "code",
   "execution_count": 60,
   "metadata": {
    "ExecuteTime": {
     "end_time": "2020-11-19T02:16:42.532717Z",
     "start_time": "2020-11-19T02:16:42.507539Z"
    }
   },
   "outputs": [
    {
     "name": "stdout",
     "output_type": "stream",
     "text": [
      "           P    R    T    W    P    S    E    I    N\n",
      "    0.0 -inf -inf -inf -inf -inf -inf -inf -inf -inf\n",
      "P -11.0  0.0  0.0  0.0  0.0  0.0  0.0  0.0  0.0  0.0\n",
      "R -12.0  0.0  0.0  0.0  0.0  0.0  0.0  0.0  0.0  0.0\n",
      "T -13.0  0.0  0.0  0.0  0.0  0.0  0.0  0.0  0.0  0.0\n",
      "E -14.0  0.0  0.0  0.0  0.0  0.0  0.0  0.0  0.0  0.0\n",
      "I -15.0  0.0  0.0  0.0  0.0  0.0  0.0  0.0  0.0  0.0\n",
      "N -16.0  0.0  0.0  0.0  0.0  0.0  0.0  0.0  0.0  0.0\n",
      "S -17.0  0.0  0.0  0.0  0.0  0.0  0.0  0.0  0.0  0.0\n",
      "            P     R     T     W     P     S     E     I     N\n",
      "    0.0 -11.0 -12.0 -13.0 -14.0 -15.0 -16.0 -17.0 -18.0 -19.0\n",
      "P -11.0   0.0   0.0   0.0   0.0   0.0   0.0   0.0   0.0   0.0\n",
      "R -12.0   0.0   0.0   0.0   0.0   0.0   0.0   0.0   0.0   0.0\n",
      "T -13.0   0.0   0.0   0.0   0.0   0.0   0.0   0.0   0.0   0.0\n",
      "E -14.0   0.0   0.0   0.0   0.0   0.0   0.0   0.0   0.0   0.0\n",
      "I -15.0   0.0   0.0   0.0   0.0   0.0   0.0   0.0   0.0   0.0\n",
      "N -16.0   0.0   0.0   0.0   0.0   0.0   0.0   0.0   0.0   0.0\n",
      "S -17.0   0.0   0.0   0.0   0.0   0.0   0.0   0.0   0.0   0.0\n",
      "           P     R     T     W     P     S     E     I     N\n",
      "   0.0 -11.0 -12.0 -13.0 -14.0 -15.0 -16.0 -17.0 -18.0 -19.0\n",
      "P -inf   0.0   0.0   0.0   0.0   0.0   0.0   0.0   0.0   0.0\n",
      "R -inf   0.0   0.0   0.0   0.0   0.0   0.0   0.0   0.0   0.0\n",
      "T -inf   0.0   0.0   0.0   0.0   0.0   0.0   0.0   0.0   0.0\n",
      "E -inf   0.0   0.0   0.0   0.0   0.0   0.0   0.0   0.0   0.0\n",
      "I -inf   0.0   0.0   0.0   0.0   0.0   0.0   0.0   0.0   0.0\n",
      "N -inf   0.0   0.0   0.0   0.0   0.0   0.0   0.0   0.0   0.0\n",
      "S -inf   0.0   0.0   0.0   0.0   0.0   0.0   0.0   0.0   0.0\n"
     ]
    }
   ],
   "source": [
    "#### Start here\n",
    "y='PRTEINS'\n",
    "x='PRTWPSEIN'\n",
    "gapOpen = -11\n",
    "gapExt = -1\n",
    "#subMat = createScorMat(match = 1,mismatch = -1,nts = list(set(y) | set(x)))\n",
    "blosum = readBlosum62()\n",
    "subMat = blosum\n",
    "\n",
    "#### Initiate matrices\n",
    "Mmatrix = gapMatrix(x,y,gapOpen,gapOpen)\n",
    "Ix = gapMatrix(x,y,gapOpen,-np.inf)\n",
    "Iy = gapMatrix(x,y,-np.inf,gapOpen)\n",
    "\n",
    "m= len(x)\n",
    "n= len(y)\n",
    "\n",
    "print(vizScoringMat(x,y,Ix))\n",
    "print(vizScoringMat(x,y,Mmatrix))\n",
    "print(vizScoringMat(x,y,Iy))\n"
   ]
  },
  {
   "cell_type": "code",
   "execution_count": 61,
   "metadata": {
    "ExecuteTime": {
     "end_time": "2020-11-19T02:17:08.666267Z",
     "start_time": "2020-11-19T02:17:08.662953Z"
    }
   },
   "outputs": [
    {
     "data": {
      "text/plain": [
       "-1"
      ]
     },
     "execution_count": 61,
     "metadata": {},
     "output_type": "execute_result"
    }
   ],
   "source": []
  },
  {
   "cell_type": "code",
   "execution_count": null,
   "metadata": {},
   "outputs": [],
   "source": [
    "for i in range(1, len(x)+1):\n",
    "    for j in range(1, len(y)+1):\n",
    "        lower_scores = [Ix[i-1,j] + gapExt, \n",
    "                        Mmatrix[i-1,j] + gapOpen]\n",
    "        Ix[i1,j] = max(lower_scores)\n",
    "\n",
    "\n",
    "        upper_scores = [Iy[i,j-1] + gapExt,\n",
    "                        Mmatrix[i,j-1] - gapOpen]\n",
    "        Iy[i,j-1] = max(upper_scores)\n",
    "\n",
    "\n",
    "        middle_scores = [Ix[i,j], \n",
    "                         Mmatrix[i-1,j-1] + blosum[x[i-1]][y[j-1]],\n",
    "                         Iy[i,j]]\n",
    "        S[1][i][j] = max(middle_scores)\n",
    "        backtrack[1][i][j] = middle_scores.index(S[1][i][j])"
   ]
  },
  {
   "cell_type": "code",
   "execution_count": null,
   "metadata": {},
   "outputs": [],
   "source": []
  },
  {
   "cell_type": "code",
   "execution_count": null,
   "metadata": {},
   "outputs": [],
   "source": []
  },
  {
   "cell_type": "code",
   "execution_count": null,
   "metadata": {},
   "outputs": [],
   "source": []
  },
  {
   "cell_type": "code",
   "execution_count": null,
   "metadata": {},
   "outputs": [],
   "source": []
  },
  {
   "cell_type": "code",
   "execution_count": 76,
   "metadata": {
    "ExecuteTime": {
     "end_time": "2020-11-19T02:26:24.105731Z",
     "start_time": "2020-11-19T02:26:24.077003Z"
    }
   },
   "outputs": [
    {
     "name": "stdout",
     "output_type": "stream",
     "text": [
      "            P     R     T     W     P     S     E     I     N\n",
      "    0.0  -inf  -inf  -inf  -inf  -inf  -inf  -inf  -inf  -inf\n",
      "P -11.0 -22.0 -23.0 -24.0 -25.0 -26.0 -27.0 -28.0 -29.0 -30.0\n",
      "R -12.0  -4.0 -15.0 -16.0 -17.0 -18.0 -19.0 -20.0 -21.0 -22.0\n",
      "T -13.0  -5.0   1.0 -10.0 -11.0 -12.0 -13.0 -14.0 -15.0 -16.0\n",
      "E -14.0  -6.0   0.0   6.0  -5.0  -6.0  -7.0  -8.0  -9.0 -10.0\n",
      "I -15.0  -7.0  -1.0   5.0   3.0  -6.0  -6.0  -2.0 -10.0  -9.0\n",
      "N -16.0  -8.0  -2.0   4.0   2.0   0.0  -7.0  -3.0   2.0  -9.0\n",
      "S -17.0  -9.0  -3.0   3.0   1.0  -1.0   1.0  -4.0   1.0   8.0\n",
      "            P     R     T     W     P     S     E     I     N\n",
      "    0.0 -11.0 -12.0 -13.0 -14.0 -15.0 -16.0 -17.0 -18.0 -19.0\n",
      "P -11.0   7.0  -4.0  -5.0  -6.0  -7.0  -8.0  -9.0 -10.0 -11.0\n",
      "R -12.0  -4.0  12.0   1.0   0.0  -1.0  -2.0  -3.0  -4.0  -5.0\n",
      "T -13.0  -5.0   1.0  17.0   6.0   5.0   4.0   3.0   2.0   1.0\n",
      "E -14.0  -6.0   0.0   6.0  14.0   5.0   5.0   9.0   0.0   2.0\n",
      "I -15.0  -7.0  -1.0   5.0   3.0  11.0   3.0   2.0  13.0   2.0\n",
      "N -16.0  -8.0  -2.0   4.0   2.0   1.0  12.0   3.0   2.0  19.0\n",
      "S -17.0  -9.0  -3.0   3.0   1.0   1.0   5.0  12.0   1.0   8.0\n",
      "           P     R     T     W     P     S     E     I     N\n",
      "   0.0 -11.0 -12.0 -13.0 -14.0 -15.0 -16.0 -17.0 -18.0 -19.0\n",
      "P -inf -22.0  -4.0  -5.0  -6.0  -7.0  -8.0  -9.0 -10.0 -11.0\n",
      "R -inf -23.0 -15.0   1.0   0.0  -1.0  -2.0  -3.0  -4.0  -5.0\n",
      "T -inf -24.0 -16.0 -10.0   6.0   5.0   4.0   3.0   2.0   1.0\n",
      "E -inf -25.0 -17.0 -11.0  -5.0   3.0   2.0   1.0   0.0  -1.0\n",
      "I -inf -26.0 -18.0 -12.0  -6.0  -7.0   0.0  -1.0  -2.0   2.0\n",
      "N -inf -27.0 -19.0 -13.0  -7.0  -8.0  -9.0   1.0   0.0  -1.0\n",
      "S -inf -28.0 -20.0 -14.0  -8.0  -9.0 -10.0  -6.0   1.0   0.0\n"
     ]
    }
   ],
   "source": [
    "###### Gap Matrices work well. Backtrack isn't working\n",
    "#### Start here\n",
    "y='PRTEINS'\n",
    "x='PRTWPSEIN'\n",
    "gapOpen = -11\n",
    "gapExt = -1\n",
    "#subMat = createScorMat(match = 1,mismatch = -1,nts = list(set(y) | set(x)))\n",
    "blosum = readBlosum62()\n",
    "subMat = blosum\n",
    "\n",
    "#### Initiate matrices\n",
    "Mmatrix = gapMatrix(x,y,gapOpen,gapOpen)\n",
    "Ix = gapMatrix(x,y,gapOpen,-np.inf)\n",
    "Iy = gapMatrix(x,y,-np.inf,gapOpen)\n",
    "\n",
    "m= len(x)\n",
    "n= len(y)\n",
    "\n",
    "# print(vizScoringMat(x,y,Ix))\n",
    "# print(vizScoringMat(x,y,Mmatrix))\n",
    "# print(vizScoringMat(x,y,Iy))\n",
    "\n",
    "#### Fill matrices\n",
    "for j in range(1,n+1):\n",
    "    for i in range(1,m+1):\n",
    "\n",
    "\n",
    "        #### Ix\n",
    "        X = [Mmatrix[j-1,i] + gapOpen,\n",
    "             Ix[j-1,i] + gapExt]\n",
    "        Ix[j,i] = max(X)\n",
    "        #### Iy\n",
    "        Y = [Mmatrix[j,i-1] + gapOpen,\n",
    "             Iy[j,i-1] + gapExt]\n",
    "        Iy[j,i] = max(Y)\n",
    "        ###\n",
    "                #### M matrix\n",
    "        M = [Mmatrix[j-1,i-1] + subMat.loc[x[i-1]][y[j-1]],\n",
    "                 Ix[j,i], #+ subMat.loc[x[i-1]][y[j-1]],\n",
    "                 Iy[j,i]]# + subMat.loc[x[i-1]][y[j-1]]]\n",
    "        Mmatrix[j,i] = max(M)\n",
    "        \n",
    "        \n",
    "\n",
    "\n",
    "print(vizScoringMat(x,y,Ix))\n",
    "print(vizScoringMat(x,y,Mmatrix))\n",
    "print(vizScoringMat(x,y,Iy))"
   ]
  },
  {
   "cell_type": "code",
   "execution_count": 80,
   "metadata": {
    "ExecuteTime": {
     "end_time": "2020-11-19T02:27:15.727805Z",
     "start_time": "2020-11-19T02:27:15.719019Z"
    }
   },
   "outputs": [
    {
     "name": "stdout",
     "output_type": "stream",
     "text": [
      "9 7  \n",
      "8 6 N S\n",
      "7 5 IN NS\n",
      "6 4 EIN INS\n",
      "5 3 SEIN EINS\n",
      "4 2 PSEIN TEINS\n",
      "3 1 WPSEIN RTEINS\n",
      "2 0 PRTWPSEIN --PRTEINS\n"
     ]
    }
   ],
   "source": [
    "Mm = Mmatrix\n",
    "Mx = Ix\n",
    "My = Iy\n",
    "\n",
    "i = len(x)\n",
    "j = len(y)\n",
    "w=''\n",
    "z=''\n",
    "scoreMax = max([Mm[j,i],Mx[j,i],My[j,i]])\n",
    "while i*j > 0:\n",
    "    print(i,j,w[::-1],z[::-1])\n",
    "    if x[i-1] == y[j-1]:\n",
    "        w += x[i-1]\n",
    "        z += y[j-1]\n",
    "        i -= 1\n",
    "        j -= 1\n",
    "    else:\n",
    "        whichMax = np.argmax([Mm[j,i],Mx[j,i],My[j,i]])\n",
    "        if whichMax == 0:\n",
    "            w += x[i-1]\n",
    "            z += y[j-1]\n",
    "            i -= 1\n",
    "            j -= 1\n",
    "        elif  whichMax == 1:\n",
    "            w += x[i-1]\n",
    "            z += '-'\n",
    "            i -= 1\n",
    "        else:\n",
    "            w += '-'\n",
    "            z += y[j-1]\n",
    "            j -= 1\n",
    "if j==0 and i>0:\n",
    "    w = x[:i]+w[::-1]\n",
    "    z = '-' * i + z[::-1]\n",
    "elif i==0 and j>0:\n",
    "    z = y[:i]+z[::-1]\n",
    "    w = '-' * j + w[::-1]\n",
    "else:\n",
    "    w = w[::-1]\n",
    "    z = z[::-1]\n",
    "    \n",
    "print(i,j,w,z)"
   ]
  },
  {
   "cell_type": "code",
   "execution_count": null,
   "metadata": {},
   "outputs": [],
   "source": [
    "\n"
   ]
  },
  {
   "cell_type": "code",
   "execution_count": null,
   "metadata": {},
   "outputs": [],
   "source": []
  },
  {
   "cell_type": "code",
   "execution_count": null,
   "metadata": {},
   "outputs": [],
   "source": []
  },
  {
   "cell_type": "code",
   "execution_count": 75,
   "metadata": {
    "ExecuteTime": {
     "end_time": "2020-11-19T02:24:01.586202Z",
     "start_time": "2020-11-19T02:24:01.069920Z"
    }
   },
   "outputs": [
    {
     "data": {
      "text/plain": [
       "('---YHFDVPDCWAHRYWVENPQAIAQMEQICFNWFPSMMMKQPHVFKVDHHMSCRWLPIRGKKCSSCCTRMRVRTVWE',\n",
       " 'DVAHEDAIAQMVNTFGFVWQICLNQFPSMMMKIYWIAVLSAHVADRKTWSKHMSCRWLPIISATCARMRVRTVWE',\n",
       " 144.0)"
      ]
     },
     "execution_count": 75,
     "metadata": {},
     "output_type": "execute_result"
    }
   ],
   "source": [
    "###### WOOOOOOORKS\n",
    "#### Start here\n",
    "x='YHFDVPDCWAHRYWVENPQAIAQMEQICFNWFPSMMMKQPHVFKVDHHMSCRWLPIRGKKCSSCCTRMRVRTVWE'\n",
    "y='YHEDVAHEDAIAQMVNTFGFVWQICLNQFPSMMMKIYWIAVLSAHVADRKTWSKHMSCRWLPIISATCARMRVRTVWE'\n",
    "gapOpen = -11\n",
    "gapExt = -1\n",
    "#subMat = createScorMat(match = 1,mismatch = -1,nts = list(set(y) | set(x)))\n",
    "blosum = readBlosum62()\n",
    "subMat = blosum\n",
    "\n",
    "#### Initiate matrices\n",
    "Mmatrix = gapMatrix(x,y,gapOpen,gapOpen)\n",
    "Ix = gapMatrix(x,y,gapOpen,-np.inf)\n",
    "Iy = gapMatrix(x,y,-np.inf,gapOpen)\n",
    "\n",
    "m= len(x)\n",
    "n= len(y)\n",
    "\n",
    "# print(vizScoringMat(x,y,Ix))\n",
    "# print(vizScoringMat(x,y,Mmatrix))\n",
    "# print(vizScoringMat(x,y,Iy))\n",
    "\n",
    "#### Fill matrices\n",
    "for j in range(1,n+1):\n",
    "    for i in range(1,m+1):\n",
    "\n",
    "\n",
    "        #### Ix\n",
    "        X = [Mmatrix[j-1,i] + gapOpen,\n",
    "             Ix[j-1,i] + gapExt]\n",
    "        Ix[j,i] = max(X)\n",
    "        #### Iy\n",
    "        Y = [Mmatrix[j,i-1] + gapOpen,\n",
    "             Iy[j,i-1] + gapExt]\n",
    "        Iy[j,i] = max(Y)\n",
    "        ###\n",
    "                #### M matrix\n",
    "        M = [Mmatrix[j-1,i-1] + subMat.loc[x[i-1]][y[j-1]],\n",
    "                 Ix[j,i], #+ subMat.loc[x[i-1]][y[j-1]],\n",
    "                 Iy[j,i]]# + subMat.loc[x[i-1]][y[j-1]]]\n",
    "        Mmatrix[j,i] = max(M)\n",
    "\n",
    "affineBacktrack(x,y,Mmatrix,Ix,Iy)"
   ]
  },
  {
   "cell_type": "code",
   "execution_count": 74,
   "metadata": {
    "ExecuteTime": {
     "end_time": "2020-11-19T02:23:16.495410Z",
     "start_time": "2020-11-19T02:23:16.491500Z"
    }
   },
   "outputs": [
    {
     "data": {
      "text/plain": [
       "('YHEDVAHEDAIAQMVNTFGFVWQICLNQFPSMMMKIYWIAVLSAHVADRKTWSKHMSCRWLPIISATCARMRVRTVWE',\n",
       " '---YHFDVPDCWAHRYWVENPQAIAQMEQICFNWFPSMMMKQPHVFKVDHHMSCRWLPIRGKKCSSCCTRMRVRTVWE',\n",
       " 144.0)"
      ]
     },
     "execution_count": 74,
     "metadata": {},
     "output_type": "execute_result"
    }
   ],
   "source": [
    "###\n",
    "affineBacktrack(x,y,Mmatrix,Ix,Iy)"
   ]
  },
  {
   "cell_type": "code",
   "execution_count": 57,
   "metadata": {
    "ExecuteTime": {
     "end_time": "2020-11-19T02:15:26.470081Z",
     "start_time": "2020-11-19T02:15:26.466842Z"
    }
   },
   "outputs": [
    {
     "data": {
      "text/plain": [
       "-2"
      ]
     },
     "execution_count": 57,
     "metadata": {},
     "output_type": "execute_result"
    }
   ],
   "source": []
  },
  {
   "cell_type": "code",
   "execution_count": null,
   "metadata": {},
   "outputs": [],
   "source": []
  },
  {
   "cell_type": "code",
   "execution_count": null,
   "metadata": {},
   "outputs": [],
   "source": []
  },
  {
   "cell_type": "code",
   "execution_count": null,
   "metadata": {},
   "outputs": [],
   "source": []
  },
  {
   "cell_type": "code",
   "execution_count": 1,
   "metadata": {
    "ExecuteTime": {
     "end_time": "2020-11-17T02:37:38.613224Z",
     "start_time": "2020-11-17T02:37:38.286910Z"
    }
   },
   "outputs": [],
   "source": [
    "import pandas as pd\n",
    "import numpy as np\n",
    "def createScorMat(match = 1,mismatch = 0,nts = ['A','C','T','G']):\n",
    "    \"\"\"\n",
    "    Create scoring matrix for nucleotides with a given match and mismatch values\n",
    "    \"\"\"\n",
    "    scoringMatrix = np.zeros((len(nts),len(nts)),)\n",
    "    np.fill_diagonal(scoringMatrix,match)\n",
    "    scoringMatrix\n",
    "    scoringMatrix[scoringMatrix == 0] = mismatch\n",
    "    scoringMatrix = pd.DataFrame(scoringMatrix,index=nts,columns=nts)\n",
    "    return scoringMatrix\n",
    "\n",
    "#### Dynamic programming implementation\n",
    "def scoringMatrix_local(x,y,subMat,indel):\n",
    "    m = len(x) + 1\n",
    "    n = len(y) + 1\n",
    "    globMax = (0,0)\n",
    "    scoringMat=np.zeros((n,m))\n",
    "    for i in range(1,m):\n",
    "        #print(x[i-1])\n",
    "        for j in range(1,n):\n",
    "            if x[i-1] == y[j-1]:\n",
    "                #scoringMat[j-1][i-1] + subMat.loc[x[i-1]][y[j-1]]\n",
    "                scoringMat[j][i] = scoringMat[j-1][i-1] + subMat.loc[x[i-1]][y[j-1]]\n",
    "            else:\n",
    "                mismatch = scoringMat[j-1][i-1] + subMat.loc[x[i-1]][y[j-1]]\n",
    "                left = scoringMat[j-1][i] + indel\n",
    "                up = scoringMat[j][i-1] + indel\n",
    "                scoringMat[j][i] = max(mismatch,left,up,0)\n",
    "            if scoringMat[j][i] >= scoringMat[globMax[1]][globMax[0]]:\n",
    "                globMax = (i,j)\n",
    "    return scoringMat,globMax\n",
    "\n",
    "\n",
    "def scoringMatrix_global(x,y,subMat,indel):\n",
    "    m = len(x) + 1\n",
    "    n = len(y) + 1\n",
    "    scoringMat=np.zeros((n,m))\n",
    "    scoringMat[:][0] = [0] + list(np.cumsum([indel for _ in x]))\n",
    "    scoringMat[:,0] = [0] + list(np.cumsum([indel for _ in y]))\n",
    "    for i in range(1,m):\n",
    "        #print(x[i-1])\n",
    "        for j in range(1,n):\n",
    "            if x[i-1] == y[j-1]:\n",
    "                #scoringMat[j-1][i-1] + subMat.loc[x[i-1]][y[j-1]]\n",
    "                scoringMat[j][i] = scoringMat[j-1][i-1] + subMat.loc[x[i-1]][y[j-1]]\n",
    "            else:\n",
    "                mismatch = scoringMat[j-1][i-1] + subMat.loc[x[i-1]][y[j-1]]\n",
    "                left = scoringMat[j-1][i] + indel\n",
    "                up = scoringMat[j][i-1] + indel\n",
    "                scoringMat[j][i] = max(mismatch,left,up)\n",
    "    return scoringMat\n",
    "\n",
    "\n",
    "def backtrack_local(x,y,sm,maxLocs):\n",
    "    i = maxLocs[0]\n",
    "    j = maxLocs[1]\n",
    "    w=''\n",
    "    z=''\n",
    "    z,w\n",
    "    while i*j > 0:\n",
    "        if x[i-1] == y[j-1]:\n",
    "            w += x[i-1]\n",
    "            z += y[j-1]\n",
    "            i -= 1\n",
    "            j -= 1\n",
    "        else:\n",
    "            left = sm[j-1][i]\n",
    "            up = sm[j][i-1]\n",
    "            diag = sm[j-1][i-1]\n",
    "            whichmax = np.argmax([left,up,diag])\n",
    "            if whichmax == 0:\n",
    "                w += '-'\n",
    "                z += y[j-1]\n",
    "                j -= 1\n",
    "            elif whichmax == 1:\n",
    "                z += '-'\n",
    "                w += x[i-1]\n",
    "                i -= 1\n",
    "            else:\n",
    "                w += x[i-1]\n",
    "                z += y[j-1]\n",
    "                i -= 1\n",
    "                j -= 1\n",
    "        if sm[j][i] == 0:\n",
    "            break\n",
    "    return w[::-1],z[::-1]\n",
    "\n",
    "def backtrack_global(x,y,sm,subMat,indel):\n",
    "    i = len(x)\n",
    "    j = len(y)\n",
    "    w=''\n",
    "    z=''\n",
    "    z,w\n",
    "    while i*j > 0:\n",
    "        if x[i-1] == y[j-1]:\n",
    "            w += x[i-1]\n",
    "            z += y[j-1]\n",
    "            i -= 1\n",
    "            j -= 1\n",
    "        else:\n",
    "            left = sm[j-1][i] + indel\n",
    "            up = sm[j][i-1] + indel\n",
    "            diag = sm[j-1][i-1] + subMat.loc[x[i-1]][y[j-1]]\n",
    "            whichmax = np.argmax([left,up,diag])\n",
    "            if whichmax == 0:\n",
    "                w += '-'\n",
    "                z += y[j-1]\n",
    "                j -= 1\n",
    "            elif whichmax == 1:\n",
    "                z += '-'\n",
    "                w += x[i-1]\n",
    "                i -= 1\n",
    "            else:\n",
    "                w += x[i-1]\n",
    "                z += y[j-1]\n",
    "                i -= 1\n",
    "                j -= 1\n",
    "    if j==0 and i>0:\n",
    "        w = x[:i]+w[::-1]\n",
    "        z = '-' * i + z[::-1]\n",
    "    elif i==0 and j>0:\n",
    "        z = y[:i]+z[::-1]\n",
    "        w = '-' * j + w[::-1]\n",
    "    else:\n",
    "        w = w[::-1]\n",
    "        z = z[::-1]\n",
    "    return w,z\n",
    "\n",
    "def locAl(x,y,subMat,indel):\n",
    "    '''\n",
    "    A wrapper for DP implementation of Smith-Waterman\n",
    "    '''\n",
    "    sm, maxLocs = scoringMatrix_local(x,y,subMat,indel)\n",
    "    z,w = backtrack_local(x,y,sm,maxLocs)\n",
    "    return z,w,sm[maxLocs[1],maxLocs[0]],sm\n",
    "\n",
    "def globAl(x,y,subMat,indel):\n",
    "    '''\n",
    "    A wrapper for DP implementation of Smith-Waterman\n",
    "    '''\n",
    "    sm = scoringMatrix_global(x,y,subMat,indel)\n",
    "    z,w = backtrack_global(x,y,sm,subMat,indel)\n",
    "    return z,w,sm[len(y),len(x)]\n",
    "\n",
    "def vizScoringMat(x,y,scoringMat):\n",
    "    return pd.DataFrame(scoringMat,index=['']+[_ for _ in y],\n",
    "             columns=['']+[_ for _ in x])\n",
    "\n",
    "def readBlosum62():\n",
    "    '''\n",
    "    Read scoring matrix\n",
    "    '''\n",
    "    with open('blosum62.txt') as matrix_file:\n",
    "        matrix = matrix_file.read()\n",
    "        lines = matrix.strip().split('\\n')\n",
    "\n",
    "    blosum={}\n",
    "    cols = lines[0].split()\n",
    "\n",
    "    for row in lines[1:]:       \n",
    "        idx = row[0]\n",
    "        vals = row[1:].split()\n",
    "        vals = [int(_) for _ in vals]\n",
    "        #print(idx,vals)\n",
    "        blosum[idx]=vals\n",
    "\n",
    "    blosum = pd.DataFrame.from_dict(blosum,orient='index',columns=cols)\n",
    "    return blosum"
   ]
  },
  {
   "cell_type": "code",
   "execution_count": 2,
   "metadata": {
    "ExecuteTime": {
     "end_time": "2020-11-17T02:37:39.435338Z",
     "start_time": "2020-11-17T02:37:39.425271Z"
    }
   },
   "outputs": [],
   "source": [
    "blosum = readBlosum62()"
   ]
  },
  {
   "cell_type": "code",
   "execution_count": 3,
   "metadata": {
    "ExecuteTime": {
     "end_time": "2020-11-17T02:37:39.819950Z",
     "start_time": "2020-11-17T02:37:39.803031Z"
    }
   },
   "outputs": [
    {
     "data": {
      "text/plain": [
       "('PRT',\n",
       " 'PRT',\n",
       " 17.0,\n",
       " array([[ 0.,  0.,  0.,  0.,  0.,  0.,  0.,  0.],\n",
       "        [ 0.,  7.,  0.,  0.,  0.,  0.,  0.,  0.],\n",
       "        [ 0.,  0., 12.,  4.,  0.,  0.,  0.,  0.],\n",
       "        [ 0.,  0.,  4., 17.,  9.,  1.,  0.,  1.],\n",
       "        [ 0.,  0.,  0.,  9., 14.,  6.,  0.,  0.],\n",
       "        [ 0.,  7.,  0.,  1.,  8., 11.,  4.,  0.],\n",
       "        [ 0.,  0.,  6.,  1.,  1.,  6., 12.,  8.],\n",
       "        [ 0.,  0.,  0.,  5.,  6.,  0.,  6., 12.],\n",
       "        [ 0.,  0.,  0.,  0.,  2., 10.,  2.,  4.],\n",
       "        [ 0.,  0.,  0.,  0.,  0.,  2., 16.,  8.]]))"
      ]
     },
     "execution_count": 3,
     "metadata": {},
     "output_type": "execute_result"
    }
   ],
   "source": [
    "### Example from https://www.bioinformaticsalgorithms.org/bioinformatics-chapter-5\n",
    "## Problem 3: Overlap Alignment\n",
    "x='PRTEINS'\n",
    "y='PRTWPSEIN'\n",
    "indel = -8\n",
    "subMat = blosum\n",
    "locAl(x,y,subMat,indel)"
   ]
  },
  {
   "cell_type": "code",
   "execution_count": 31,
   "metadata": {
    "ExecuteTime": {
     "end_time": "2020-11-16T06:30:16.218759Z",
     "start_time": "2020-11-16T06:30:16.200971Z"
    }
   },
   "outputs": [
    {
     "data": {
      "text/plain": [
       "('ATTGACCTGA', 'A-T--CCTGA', 4.0)"
      ]
     },
     "execution_count": 31,
     "metadata": {},
     "output_type": "execute_result"
    }
   ],
   "source": [
    "### Example from https://www.bioinformaticsalgorithms.org/bioinformatics-chapter-5\n",
    "## Problem 3: Overlap Alignment\n",
    "x='ATTGACCTGA'\n",
    "y='ATCCTGA'\n",
    "indel = -1\n",
    "gap = -1\n",
    "subMat = createScorMat(match = 1,mismatch = -2,nts = list(set(y) | set(x)))\n",
    "globAl(x,y,subMat,indel)"
   ]
  },
  {
   "cell_type": "code",
   "execution_count": 32,
   "metadata": {
    "ExecuteTime": {
     "end_time": "2020-11-16T06:30:16.756273Z",
     "start_time": "2020-11-16T06:30:16.739066Z"
    }
   },
   "outputs": [
    {
     "data": {
      "text/plain": [
       "('PRTEINS', 'PS-EIN-')"
      ]
     },
     "execution_count": 32,
     "metadata": {},
     "output_type": "execute_result"
    }
   ],
   "source": [
    "### Example from https://www.bioinformaticsalgorithms.org/bioinformatics-chapter-5\n",
    "## Problem 3: Overlap Alignment\n",
    "x='PRTEINS'\n",
    "y='PRTWPSEIN'\n",
    "indel = -11\n",
    "gap = -1\n",
    "subMat = blosum\n",
    "sm,_ = scoringMatrix_local(x,y,subMat,indel)\n",
    "backtrack_local(x,y,sm,(len(x),len(y)))"
   ]
  },
  {
   "cell_type": "code",
   "execution_count": 33,
   "metadata": {
    "ExecuteTime": {
     "end_time": "2020-11-16T06:30:17.181404Z",
     "start_time": "2020-11-16T06:30:17.179307Z"
    }
   },
   "outputs": [],
   "source": [
    "#http://csbio.unc.edu/mcmillan/Comp555S16/Lecture14.html\n",
    "#http://rosalind.info/problems/ba5j/"
   ]
  },
  {
   "cell_type": "code",
   "execution_count": 34,
   "metadata": {
    "ExecuteTime": {
     "end_time": "2020-11-16T06:30:17.683160Z",
     "start_time": "2020-11-16T06:30:17.672504Z"
    }
   },
   "outputs": [
    {
     "data": {
      "text/plain": [
       "(('ACACT', 'A-A-T', 1.0),)"
      ]
     },
     "execution_count": 34,
     "metadata": {},
     "output_type": "execute_result"
    }
   ],
   "source": [
    "### Example from https://www.bioinformaticsalgorithms.org/bioinformatics-chapter-5\n",
    "## Problem 3: Overlap Alignment\n",
    "x='ACACT'\n",
    "y='AAT'\n",
    "indel = -1\n",
    "gap = -3\n",
    "subMat = createScorMat(match = 1,mismatch = -1,nts = list(set(y) | set(x)))\n",
    "globAl(x,y,subMat,indel),"
   ]
  },
  {
   "cell_type": "code",
   "execution_count": null,
   "metadata": {
    "ExecuteTime": {
     "end_time": "2020-11-05T02:33:41.737373Z",
     "start_time": "2020-11-05T02:33:41.733486Z"
    }
   },
   "outputs": [],
   "source": []
  },
  {
   "cell_type": "code",
   "execution_count": 35,
   "metadata": {
    "ExecuteTime": {
     "end_time": "2020-11-16T06:30:18.511822Z",
     "start_time": "2020-11-16T06:30:18.504491Z"
    }
   },
   "outputs": [],
   "source": [
    "def initScoringTable(x,y,initY=indel,initX=indel,start=0):\n",
    "    m = len(x) + 1\n",
    "    n = len(y) + 1\n",
    "    scoringMat=np.zeros((n,m)) # Main scoring matrix\n",
    "    scoringMat[:][0] = [0] + list(np.cumsum([initX for _ in x]))\n",
    "    scoringMat[:,0] = [0] + list(np.cumsum([initY for _ in y]))\n",
    "    scoringMat[0,0]=start\n",
    "    return scoringMat"
   ]
  },
  {
   "cell_type": "code",
   "execution_count": 36,
   "metadata": {
    "ExecuteTime": {
     "end_time": "2020-11-16T06:30:18.908422Z",
     "start_time": "2020-11-16T06:30:18.905665Z"
    }
   },
   "outputs": [],
   "source": [
    "gapExtension = -1\n",
    "gapOpen = -3"
   ]
  },
  {
   "cell_type": "markdown",
   "metadata": {
    "ExecuteTime": {
     "end_time": "2020-11-05T02:47:17.168238Z",
     "start_time": "2020-11-05T02:47:17.160964Z"
    }
   },
   "source": [
    "### Follow this example \n",
    "https://www.youtube.com/watch?v=NqYY0PJbD3s"
   ]
  },
  {
   "cell_type": "code",
   "execution_count": 37,
   "metadata": {
    "ExecuteTime": {
     "end_time": "2020-11-16T06:30:20.022420Z",
     "start_time": "2020-11-16T06:30:20.019096Z"
    }
   },
   "outputs": [],
   "source": [
    "m= len(x)\n",
    "n= len(y)"
   ]
  },
  {
   "cell_type": "code",
   "execution_count": 38,
   "metadata": {
    "ExecuteTime": {
     "end_time": "2020-11-16T06:30:20.721768Z",
     "start_time": "2020-11-16T06:30:20.714148Z"
    }
   },
   "outputs": [
    {
     "data": {
      "text/plain": [
       "array([[ -3.,  -4.,  -5.,  -6.,  -7.],\n",
       "       [-inf,   0.,   0.,   0.,   0.],\n",
       "       [-inf,   0.,   0.,   0.,   0.]])"
      ]
     },
     "execution_count": 38,
     "metadata": {},
     "output_type": "execute_result"
    }
   ],
   "source": [
    "####\n",
    "scoringMat=np.zeros((n,m)) # Main scoring matrix\n",
    "inX = [gapOpen]\n",
    "[inX.append(inX[i-1] + gapExtension) for i in range(1,m)]\n",
    "scoringMat[:][0] = inX\n",
    "scoringMat[:,0][1:] = [-np.inf  for i in range(1,n)]\n",
    "scoringMat\n",
    "scoringMat"
   ]
  },
  {
   "cell_type": "code",
   "execution_count": 39,
   "metadata": {
    "ExecuteTime": {
     "end_time": "2020-11-16T06:30:21.018240Z",
     "start_time": "2020-11-16T06:30:21.011078Z"
    }
   },
   "outputs": [
    {
     "data": {
      "text/plain": [
       "array([[ -3., -inf, -inf, -inf, -inf],\n",
       "       [ -4.,   0.,   0.,   0.,   0.],\n",
       "       [ -5.,   0.,   0.,   0.,   0.]])"
      ]
     },
     "execution_count": 39,
     "metadata": {},
     "output_type": "execute_result"
    }
   ],
   "source": [
    "####\n",
    "scoringMat=np.zeros((n,m)) # Main scoring matrix\n",
    "inY = [gapOpen]\n",
    "[inY.append(inY[i-1] + gapExtension) for i in range(1,n)]\n",
    "scoringMat[:,0] = inY\n",
    "scoringMat[:][0][1:] = [-np.inf  for i in range(1,m)]\n",
    "scoringMat"
   ]
  },
  {
   "cell_type": "code",
   "execution_count": null,
   "metadata": {
    "ExecuteTime": {
     "end_time": "2020-11-05T02:52:56.174525Z",
     "start_time": "2020-11-05T02:52:56.167361Z"
    }
   },
   "outputs": [],
   "source": []
  },
  {
   "cell_type": "code",
   "execution_count": 40,
   "metadata": {
    "ExecuteTime": {
     "end_time": "2020-11-16T06:30:22.080777Z",
     "start_time": "2020-11-16T06:30:22.073761Z"
    }
   },
   "outputs": [
    {
     "data": {
      "text/plain": [
       "[-3, -4, -5, -6, -7]"
      ]
     },
     "execution_count": 40,
     "metadata": {},
     "output_type": "execute_result"
    }
   ],
   "source": [
    "inY = [gapOpen]\n",
    "[inY.append(inY[i-1] + gapExtension) for i in range(1,m)]\n",
    "inY"
   ]
  },
  {
   "cell_type": "code",
   "execution_count": 41,
   "metadata": {
    "ExecuteTime": {
     "end_time": "2020-11-16T06:30:22.522076Z",
     "start_time": "2020-11-16T06:30:22.516292Z"
    }
   },
   "outputs": [],
   "source": [
    "def gapMatrix(x,y,initY=gap,initX=gap,start=0):\n",
    "    m = len(x) + 1\n",
    "    n = len(y) + 1\n",
    "    scoringMat=np.zeros((n,m)) # Main scoring matrix\n",
    "    scoringMat[:][0] = [0] + [-i + initX for i in range(1,m)]\n",
    "    scoringMat[:,0] = [0] + [-i + initY for i in range(1,n)]\n",
    "    scoringMat[0,0]=start\n",
    "    return scoringMat"
   ]
  },
  {
   "cell_type": "code",
   "execution_count": 42,
   "metadata": {
    "ExecuteTime": {
     "end_time": "2020-11-16T06:30:22.720791Z",
     "start_time": "2020-11-16T06:30:22.714269Z"
    }
   },
   "outputs": [
    {
     "data": {
      "text/plain": [
       "array([[ -3.,  -4.,  -5.,  -6.,  -7.,  -8.],\n",
       "       [-inf,   0.,   0.,   0.,   0.,   0.],\n",
       "       [-inf,   0.,   0.,   0.,   0.,   0.],\n",
       "       [-inf,   0.,   0.,   0.,   0.,   0.]])"
      ]
     },
     "execution_count": 42,
     "metadata": {},
     "output_type": "execute_result"
    }
   ],
   "source": [
    "gapMatrix(x,y,-np.inf,gap,gap)"
   ]
  },
  {
   "cell_type": "code",
   "execution_count": 43,
   "metadata": {
    "ExecuteTime": {
     "end_time": "2020-11-16T06:30:23.192076Z",
     "start_time": "2020-11-16T06:30:23.186657Z"
    }
   },
   "outputs": [
    {
     "data": {
      "text/plain": [
       "array([[ -3., -inf, -inf, -inf, -inf, -inf],\n",
       "       [ -4.,   0.,   0.,   0.,   0.,   0.],\n",
       "       [ -5.,   0.,   0.,   0.,   0.,   0.],\n",
       "       [ -6.,   0.,   0.,   0.,   0.,   0.]])"
      ]
     },
     "execution_count": 43,
     "metadata": {},
     "output_type": "execute_result"
    }
   ],
   "source": [
    "gapMatrix(x,y,gap,-np.inf,gap)"
   ]
  },
  {
   "cell_type": "code",
   "execution_count": null,
   "metadata": {},
   "outputs": [],
   "source": []
  },
  {
   "cell_type": "code",
   "execution_count": null,
   "metadata": {},
   "outputs": [],
   "source": []
  },
  {
   "cell_type": "markdown",
   "metadata": {},
   "source": [
    "#### Start here"
   ]
  },
  {
   "cell_type": "code",
   "execution_count": 44,
   "metadata": {
    "ExecuteTime": {
     "end_time": "2020-11-16T06:30:24.543827Z",
     "start_time": "2020-11-16T06:30:24.538141Z"
    }
   },
   "outputs": [
    {
     "data": {
      "text/plain": [
       "('ACACT', 'AAT')"
      ]
     },
     "execution_count": 44,
     "metadata": {},
     "output_type": "execute_result"
    }
   ],
   "source": [
    "x,y"
   ]
  },
  {
   "cell_type": "code",
   "execution_count": null,
   "metadata": {
    "ExecuteTime": {
     "end_time": "2020-11-11T02:57:06.229202Z",
     "start_time": "2020-11-11T02:57:06.224534Z"
    }
   },
   "outputs": [],
   "source": [
    "epsilon = 1\n",
    "sigma = 11"
   ]
  },
  {
   "cell_type": "code",
   "execution_count": 1,
   "metadata": {
    "ExecuteTime": {
     "end_time": "2020-11-18T01:42:01.471065Z",
     "start_time": "2020-11-18T01:42:01.341180Z"
    }
   },
   "outputs": [
    {
     "ename": "NameError",
     "evalue": "name 'gap' is not defined",
     "output_type": "error",
     "traceback": [
      "\u001b[0;31m---------------------------------------------------------------------------\u001b[0m",
      "\u001b[0;31mNameError\u001b[0m                                 Traceback (most recent call last)",
      "\u001b[0;32m<ipython-input-1-5ad0ff02ce3c>\u001b[0m in \u001b[0;36m<module>\u001b[0;34m\u001b[0m\n\u001b[0;32m----> 1\u001b[0;31m \u001b[0;32mdef\u001b[0m \u001b[0mgapMatrix\u001b[0m\u001b[0;34m(\u001b[0m\u001b[0mx\u001b[0m\u001b[0;34m,\u001b[0m\u001b[0my\u001b[0m\u001b[0;34m,\u001b[0m\u001b[0minitY\u001b[0m\u001b[0;34m=\u001b[0m\u001b[0mgap\u001b[0m\u001b[0;34m,\u001b[0m\u001b[0minitX\u001b[0m\u001b[0;34m=\u001b[0m\u001b[0mgap\u001b[0m\u001b[0;34m,\u001b[0m\u001b[0mstart\u001b[0m\u001b[0;34m=\u001b[0m\u001b[0;36m0\u001b[0m\u001b[0;34m)\u001b[0m\u001b[0;34m:\u001b[0m\u001b[0;34m\u001b[0m\u001b[0;34m\u001b[0m\u001b[0m\n\u001b[0m\u001b[1;32m      2\u001b[0m     \u001b[0mm\u001b[0m \u001b[0;34m=\u001b[0m \u001b[0mlen\u001b[0m\u001b[0;34m(\u001b[0m\u001b[0mx\u001b[0m\u001b[0;34m)\u001b[0m \u001b[0;34m+\u001b[0m \u001b[0;36m1\u001b[0m\u001b[0;34m\u001b[0m\u001b[0;34m\u001b[0m\u001b[0m\n\u001b[1;32m      3\u001b[0m     \u001b[0mn\u001b[0m \u001b[0;34m=\u001b[0m \u001b[0mlen\u001b[0m\u001b[0;34m(\u001b[0m\u001b[0my\u001b[0m\u001b[0;34m)\u001b[0m \u001b[0;34m+\u001b[0m \u001b[0;36m1\u001b[0m\u001b[0;34m\u001b[0m\u001b[0;34m\u001b[0m\u001b[0m\n\u001b[1;32m      4\u001b[0m     \u001b[0mscoringMat\u001b[0m\u001b[0;34m=\u001b[0m\u001b[0mnp\u001b[0m\u001b[0;34m.\u001b[0m\u001b[0mzeros\u001b[0m\u001b[0;34m(\u001b[0m\u001b[0;34m(\u001b[0m\u001b[0mn\u001b[0m\u001b[0;34m,\u001b[0m\u001b[0mm\u001b[0m\u001b[0;34m)\u001b[0m\u001b[0;34m)\u001b[0m \u001b[0;31m# Main scoring matrix\u001b[0m\u001b[0;34m\u001b[0m\u001b[0;34m\u001b[0m\u001b[0m\n\u001b[1;32m      5\u001b[0m     \u001b[0mscoringMat\u001b[0m\u001b[0;34m[\u001b[0m\u001b[0;34m:\u001b[0m\u001b[0;34m]\u001b[0m\u001b[0;34m[\u001b[0m\u001b[0;36m0\u001b[0m\u001b[0;34m]\u001b[0m \u001b[0;34m=\u001b[0m \u001b[0;34m[\u001b[0m\u001b[0;36m0\u001b[0m\u001b[0;34m]\u001b[0m \u001b[0;34m+\u001b[0m \u001b[0;34m[\u001b[0m\u001b[0;34m-\u001b[0m\u001b[0mi\u001b[0m \u001b[0;34m+\u001b[0m \u001b[0minitX\u001b[0m \u001b[0;32mfor\u001b[0m \u001b[0mi\u001b[0m \u001b[0;32min\u001b[0m \u001b[0mrange\u001b[0m\u001b[0;34m(\u001b[0m\u001b[0;36m1\u001b[0m\u001b[0;34m,\u001b[0m\u001b[0mm\u001b[0m\u001b[0;34m)\u001b[0m\u001b[0;34m]\u001b[0m\u001b[0;34m\u001b[0m\u001b[0;34m\u001b[0m\u001b[0m\n",
      "\u001b[0;31mNameError\u001b[0m: name 'gap' is not defined"
     ]
    }
   ],
   "source": [
    "def gapMatrix(x,y,initY=gap,initX=gap,start=0):\n",
    "    m = len(x) + 1\n",
    "    n = len(y) + 1\n",
    "    scoringMat=np.zeros((n,m)) # Main scoring matrix\n",
    "    scoringMat[:][0] = [0] + [-i + initX for i in range(1,m)]\n",
    "    scoringMat[:,0] = [0] + [-i + initY for i in range(1,n)]\n",
    "    scoringMat[0,0]=start\n",
    "    return scoringMat\n",
    "\n",
    "def affineGapScoring(x,y,subMat,indel,gap):\n",
    "    #### Initiate\n",
    "    Mmatrix = gapMatrix(x,y,-np.inf,-np.inf,0)\n",
    "    Ix = gapMatrix(x,y,gap,-np.inf,gap)\n",
    "    Iy = gapMatrix(x,y,-np.inf,gap,gap)\n",
    "    m= len(x)\n",
    "    n= len(y)\n",
    "    for j in range(1,n+1):\n",
    "        for i in range(1,m+1):\n",
    "            #### M matrix\n",
    "            M = [Mmatrix[j-1,i-1] + subMat.loc[x[i-1]][y[j-1]],\n",
    "                     Ix[j-1,i-1] + subMat.loc[x[i-1]][y[j-1]],\n",
    "                     Iy[j-1,i-1] + subMat.loc[x[i-1]][y[j-1]]]\n",
    "            Mmatrix[j,i] = max(M)\n",
    "\n",
    "            #### Ix\n",
    "            X = [Mmatrix[j-1,i] + gap + indel,\n",
    "                 Ix[j-1,i] + indel]\n",
    "            #### Iy\n",
    "            Y = [Mmatrix[j,i-1] + gap + indel,\n",
    "                 Iy[j,i-1] + indel]\n",
    "            ###\n",
    "            Ix[j,i] = max(X)\n",
    "            Iy[j,i] = max(Y)\n",
    "    return Mmatrix, Ix, Iy\n",
    "\n",
    "def affineBacktrack(x,y,Mm,Ix,Iy):\n",
    "    i = len(x)\n",
    "    j = len(y)\n",
    "    w=''\n",
    "    z=''\n",
    "    scoreMax = max([Mm[j,i],Mx[j,i],My[j,i]])\n",
    "    while i*j > 0:\n",
    "        print(i,j,w[::-1],z[::-1])\n",
    "        if x[i-1] == y[j-1]:\n",
    "            w += x[i-1]\n",
    "            z += y[j-1]\n",
    "            i -= 1\n",
    "            j -= 1\n",
    "        else:\n",
    "            whichMax = np.argmax([Mm[j,i],Mx[j,i],My[j,i]])\n",
    "            if whichMax == 0:\n",
    "                w += x[i-1]\n",
    "                z += y[j-1]\n",
    "                i -= 1\n",
    "                j -= 1\n",
    "            elif  whichMax == 1:\n",
    "                w += x[i-1]\n",
    "                z += '-'\n",
    "                i -= 1\n",
    "            else:\n",
    "                w += '-'\n",
    "                z += y[j-1]\n",
    "                j -= 1\n",
    "    if j==0 and i>0:\n",
    "        w = x[:i]+w[::-1]\n",
    "        z = '-' * i + z[::-1]\n",
    "    elif i==0 and j>0:\n",
    "        z = y[:i]+z[::-1]\n",
    "        w = '-' * j + w[::-1]\n",
    "    else:\n",
    "        w = w[::-1]\n",
    "        z = z[::-1]\n",
    "    return w,z,scoreMax"
   ]
  },
  {
   "cell_type": "code",
   "execution_count": 46,
   "metadata": {
    "ExecuteTime": {
     "end_time": "2020-11-16T06:30:25.487483Z",
     "start_time": "2020-11-16T06:30:25.466660Z"
    }
   },
   "outputs": [
    {
     "name": "stdout",
     "output_type": "stream",
     "text": [
      "5 3  \n",
      "4 2 T T\n",
      "3 1 CT AT\n",
      "          A    C    A    C    T\n",
      "   0.0 -inf -inf -inf -inf -inf\n",
      "A -inf  1.0 -5.0 -4.0 -7.0 -8.0\n",
      "A -inf -3.0  0.0 -2.0 -5.0 -6.0\n",
      "T -inf -6.0 -4.0 -1.0 -3.0 -4.0\n",
      "          A    C    A     C     T\n",
      "  -3.0 -inf -inf -inf  -inf  -inf\n",
      "A -4.0 -inf -inf -inf  -inf  -inf\n",
      "A -5.0 -3.0 -9.0 -8.0 -11.0 -12.0\n",
      "T -6.0 -4.0 -4.0 -6.0  -9.0 -10.0\n",
      "          A     C    A    C    T\n",
      "  -3.0 -4.0  -5.0 -6.0 -7.0 -8.0\n",
      "A -inf -inf  -3.0 -4.0 -5.0 -6.0\n",
      "A -inf -inf  -7.0 -4.0 -5.0 -6.0\n",
      "T -inf -inf -10.0 -8.0 -5.0 -6.0\n",
      "ACACT --AAT -4.0\n"
     ]
    }
   ],
   "source": [
    "x='ACACT'\n",
    "y='AAT'\n",
    "gap = -3\n",
    "indel = -1\n",
    "subMat = createScorMat(match = 1,mismatch = -1,nts = list(set(y) | set(x)))\n",
    "\n",
    "Mm, Mx, My = affineGapScoring(x,y,subMat,indel,gap)\n",
    "w,z, sm = affineBacktrack(x,y,Mm,Mx,My)\n",
    "\n",
    "#### Result\n",
    "print(vizScoringMat(x,y,Mm))\n",
    "print(vizScoringMat(x,y,Mx))\n",
    "print(vizScoringMat(x,y,My))\n",
    "print(w,z, sm)"
   ]
  },
  {
   "cell_type": "markdown",
   "metadata": {},
   "source": [
    "#### Rosalind example"
   ]
  },
  {
   "cell_type": "markdown",
   "metadata": {},
   "source": [
    "https://www.ebi.ac.uk/Tools/services/web/toolresult.ebi?jobId=emboss_needle-I20201112-053202-0673-88247623-p1m"
   ]
  },
  {
   "cell_type": "code",
   "execution_count": 47,
   "metadata": {
    "ExecuteTime": {
     "end_time": "2020-11-16T06:30:27.048825Z",
     "start_time": "2020-11-16T06:30:27.040062Z"
    }
   },
   "outputs": [
    {
     "data": {
      "text/plain": [
       "('ACACT', 'A-A-T', 1.0)"
      ]
     },
     "execution_count": 47,
     "metadata": {},
     "output_type": "execute_result"
    }
   ],
   "source": [
    "globAl(x,y,subMat,indel)"
   ]
  },
  {
   "cell_type": "code",
   "execution_count": 30,
   "metadata": {
    "ExecuteTime": {
     "end_time": "2020-11-17T02:46:45.758450Z",
     "start_time": "2020-11-17T02:46:45.754047Z"
    }
   },
   "outputs": [],
   "source": []
  },
  {
   "cell_type": "code",
   "execution_count": null,
   "metadata": {},
   "outputs": [],
   "source": []
  },
  {
   "cell_type": "code",
   "execution_count": 17,
   "metadata": {
    "ExecuteTime": {
     "end_time": "2020-11-17T02:41:45.980649Z",
     "start_time": "2020-11-17T02:41:45.974209Z"
    }
   },
   "outputs": [],
   "source": [
    "### Forget this\n",
    "# def gapMatrix(x,y,initY=gapExt,initX=gapExt,start=0):\n",
    "#     m = len(x) + 1\n",
    "#     n = len(y) + 1\n",
    "#     scoringMat=np.zeros((n,m)) # Main scoring matrix\n",
    "#     scoringMat[:][0] = [0] + [-i + initX for i in range(1,m)]\n",
    "#     scoringMat[:,0] = [0] + [-i + initY for i in range(1,n)]\n",
    "#     scoringMat[0,0]=start\n",
    "#     return scoringMat"
   ]
  },
  {
   "cell_type": "code",
   "execution_count": 68,
   "metadata": {
    "ExecuteTime": {
     "end_time": "2020-11-17T02:54:35.260115Z",
     "start_time": "2020-11-17T02:54:35.254054Z"
    }
   },
   "outputs": [],
   "source": [
    "def gapMatrix(x,y,initY=gapOpen,initX=gapOpen):\n",
    "    m = len(x) + 1\n",
    "    n = len(y) + 1\n",
    "    scoringMat=np.zeros((n,m)) # Main scoring matrix\n",
    "    #scoringMat[:][0] = [0] + [-i + initX for i in range(1,m)]\n",
    "    scoringMat[0][1:] = [initX] + [-i + initX for i in range(1,m-1)]\n",
    "    #scoringMat[:,0] = [0] + [-i + initY for i in range(1,n)]\n",
    "    scoringMat[1:,0] = [-i + initY for i in range(0,n-1)]\n",
    "    #scoringMat[0,0]=start\n",
    "    return scoringMat"
   ]
  },
  {
   "cell_type": "code",
   "execution_count": 75,
   "metadata": {
    "ExecuteTime": {
     "end_time": "2020-11-17T02:56:01.276012Z",
     "start_time": "2020-11-17T02:56:01.271412Z"
    }
   },
   "outputs": [],
   "source": [
    "#### Start here\n",
    "x='PRTEINS'\n",
    "y='PRTWPSEIN'\n",
    "gapOpen = -11\n",
    "gapExt = -1\n",
    "#subMat = createScorMat(match = 1,mismatch = -1,nts = list(set(y) | set(x)))\n",
    "subMat = blosum"
   ]
  },
  {
   "cell_type": "code",
   "execution_count": 85,
   "metadata": {
    "ExecuteTime": {
     "end_time": "2020-11-17T03:00:26.463320Z",
     "start_time": "2020-11-17T03:00:26.437509Z"
    }
   },
   "outputs": [
    {
     "name": "stdout",
     "output_type": "stream",
     "text": [
      "           P    R    T    E    I    N    S\n",
      "    0.0 -inf -inf -inf -inf -inf -inf -inf\n",
      "P -11.0  0.0  0.0  0.0  0.0  0.0  0.0  0.0\n",
      "R -12.0  0.0  0.0  0.0  0.0  0.0  0.0  0.0\n",
      "T -13.0  0.0  0.0  0.0  0.0  0.0  0.0  0.0\n",
      "W -14.0  0.0  0.0  0.0  0.0  0.0  0.0  0.0\n",
      "P -15.0  0.0  0.0  0.0  0.0  0.0  0.0  0.0\n",
      "S -16.0  0.0  0.0  0.0  0.0  0.0  0.0  0.0\n",
      "E -17.0  0.0  0.0  0.0  0.0  0.0  0.0  0.0\n",
      "I -18.0  0.0  0.0  0.0  0.0  0.0  0.0  0.0\n",
      "N -19.0  0.0  0.0  0.0  0.0  0.0  0.0  0.0\n",
      "            P     R     T     E     I     N     S\n",
      "    0.0 -11.0 -12.0 -13.0 -14.0 -15.0 -16.0 -17.0\n",
      "P -11.0   0.0   0.0   0.0   0.0   0.0   0.0   0.0\n",
      "R -12.0   0.0   0.0   0.0   0.0   0.0   0.0   0.0\n",
      "T -13.0   0.0   0.0   0.0   0.0   0.0   0.0   0.0\n",
      "W -14.0   0.0   0.0   0.0   0.0   0.0   0.0   0.0\n",
      "P -15.0   0.0   0.0   0.0   0.0   0.0   0.0   0.0\n",
      "S -16.0   0.0   0.0   0.0   0.0   0.0   0.0   0.0\n",
      "E -17.0   0.0   0.0   0.0   0.0   0.0   0.0   0.0\n",
      "I -18.0   0.0   0.0   0.0   0.0   0.0   0.0   0.0\n",
      "N -19.0   0.0   0.0   0.0   0.0   0.0   0.0   0.0\n",
      "           P     R     T     E     I     N     S\n",
      "   0.0 -11.0 -12.0 -13.0 -14.0 -15.0 -16.0 -17.0\n",
      "P -inf   0.0   0.0   0.0   0.0   0.0   0.0   0.0\n",
      "R -inf   0.0   0.0   0.0   0.0   0.0   0.0   0.0\n",
      "T -inf   0.0   0.0   0.0   0.0   0.0   0.0   0.0\n",
      "W -inf   0.0   0.0   0.0   0.0   0.0   0.0   0.0\n",
      "P -inf   0.0   0.0   0.0   0.0   0.0   0.0   0.0\n",
      "S -inf   0.0   0.0   0.0   0.0   0.0   0.0   0.0\n",
      "E -inf   0.0   0.0   0.0   0.0   0.0   0.0   0.0\n",
      "I -inf   0.0   0.0   0.0   0.0   0.0   0.0   0.0\n",
      "N -inf   0.0   0.0   0.0   0.0   0.0   0.0   0.0\n"
     ]
    }
   ],
   "source": [
    "#### Start here\n",
    "x='PRTEINS'\n",
    "y='PRTWPSEIN'\n",
    "gapOpen = -11\n",
    "gapExt = -1\n",
    "#subMat = createScorMat(match = 1,mismatch = -1,nts = list(set(y) | set(x)))\n",
    "subMat = blosum\n",
    "\n",
    "#### Initiate matrices\n",
    "Mmatrix = gapMatrix(x,y,gapOpen,gapOpen)\n",
    "Ix = gapMatrix(x,y,gapOpen,-np.inf)\n",
    "Iy = gapMatrix(x,y,-np.inf,gapOpen)\n",
    "\n",
    "m= len(x)\n",
    "n= len(y)\n",
    "\n",
    "print(vizScoringMat(x,y,Ix))\n",
    "print(vizScoringMat(x,y,Mmatrix))\n",
    "print(vizScoringMat(x,y,Iy))"
   ]
  },
  {
   "cell_type": "code",
   "execution_count": 86,
   "metadata": {
    "ExecuteTime": {
     "end_time": "2020-11-17T03:00:27.243650Z",
     "start_time": "2020-11-17T03:00:27.239528Z"
    }
   },
   "outputs": [],
   "source": [
    "sigma = 11\n",
    "epsilon = 1"
   ]
  },
  {
   "cell_type": "code",
   "execution_count": 90,
   "metadata": {
    "ExecuteTime": {
     "end_time": "2020-11-17T03:01:03.171753Z",
     "start_time": "2020-11-17T03:01:03.124539Z"
    }
   },
   "outputs": [
    {
     "name": "stdout",
     "output_type": "stream",
     "text": [
      "            P     R     T     E     I     N     S\n",
      "    0.0  -inf  -inf  -inf  -inf  -inf  -inf  -inf\n",
      "P -11.0 -22.0 -23.0 -24.0 -25.0 -26.0 -27.0 -28.0\n",
      "R -12.0  -4.0 -24.0 -24.0 -25.0 -27.0 -28.0 -28.0\n",
      "T -13.0  -5.0   1.0 -16.0 -24.0 -28.0 -28.0 -29.0\n",
      "W -14.0  -6.0   0.0   6.0 -11.0 -22.0 -28.0 -27.0\n",
      "P -15.0  -7.0  -1.0   5.0   3.0  -8.0 -20.0 -28.0\n",
      "S -16.0  -8.0  -2.0   4.0   2.0   0.0 -10.0 -20.0\n",
      "E -17.0  -9.0  -3.0   3.0   1.0  -1.0   1.0  -6.0\n",
      "I -18.0 -10.0  -4.0   2.0   0.0  -2.0   0.0   1.0\n",
      "N -19.0 -11.0  -5.0   1.0  -1.0   2.0  -1.0   0.0\n",
      "            P     R     T     E     I     N     S\n",
      "    0.0 -11.0 -12.0 -13.0 -14.0 -15.0 -16.0 -17.0\n",
      "P -11.0   7.0 -13.0 -13.0 -14.0 -17.0 -17.0 -17.0\n",
      "R -12.0 -13.0  12.0  -5.0 -13.0 -17.0 -17.0 -18.0\n",
      "T -13.0 -13.0  -5.0  17.0   0.0 -11.0 -17.0 -16.0\n",
      "W -14.0 -17.0  -8.0  -1.0  14.0   3.0  -9.0 -19.0\n",
      "P -15.0  -7.0  -8.0  -1.0   5.0  11.0   1.0  -9.0\n",
      "S -16.0 -16.0  -8.0   0.0   5.0   3.0  12.0   5.0\n",
      "E -17.0 -17.0  -8.0  -3.0   9.0   2.0   3.0  12.0\n",
      "I -18.0 -20.0 -12.0  -4.0   0.0  13.0  -1.0   1.0\n",
      "N -19.0 -20.0 -10.0  -4.0   2.0  -3.0  19.0   3.0\n",
      "           P     R     T     E     I     N     S\n",
      "   0.0 -11.0 -12.0 -13.0 -14.0 -15.0 -16.0 -17.0\n",
      "P -inf -22.0  -4.0 -15.0 -24.0 -25.0 -28.0 -28.0\n",
      "R -inf -23.0 -24.0   1.0 -10.0 -21.0 -28.0 -28.0\n",
      "T -inf -24.0 -24.0 -16.0   6.0  -5.0 -16.0 -27.0\n",
      "W -inf -25.0 -28.0 -19.0 -12.0   3.0  -8.0 -19.0\n",
      "P -inf -26.0 -18.0 -19.0 -12.0  -6.0   0.0 -10.0\n",
      "S -inf -27.0 -27.0 -19.0 -11.0  -6.0  -8.0   1.0\n",
      "E -inf -28.0 -28.0 -19.0 -14.0  -2.0  -9.0  -8.0\n",
      "I -inf -29.0 -31.0 -23.0 -15.0 -11.0   2.0  -9.0\n",
      "N -inf -30.0 -31.0 -21.0 -15.0  -9.0 -14.0   8.0\n"
     ]
    }
   ],
   "source": [
    "#### Start here\n",
    "x='PRTEINS'\n",
    "y='PRTWPSEIN'\n",
    "gapOpen = -11\n",
    "gapExt = -1\n",
    "#subMat = createScorMat(match = 1,mismatch = -1,nts = list(set(y) | set(x)))\n",
    "subMat = blosum\n",
    "\n",
    "#### Initiate matrices\n",
    "Mmatrix = gapMatrix(x,y,gapOpen,gapOpen)\n",
    "Ix = gapMatrix(x,y,gapOpen,-np.inf)\n",
    "Iy = gapMatrix(x,y,-np.inf,gapOpen)\n",
    "\n",
    "m= len(x)\n",
    "n= len(y)\n",
    "\n",
    "print(vizScoringMat(x,y,Ix))\n",
    "print(vizScoringMat(x,y,Mmatrix))\n",
    "print(vizScoringMat(x,y,Iy))\n",
    "\n",
    "#### Fill matrices\n",
    "for j in range(1,n+1):\n",
    "    for i in range(1,m+1):\n",
    "        #### M matrix\n",
    "        M = [Mmatrix[j-1,i-1] + subMat.loc[x[i-1]][y[j-1]],\n",
    "                 Ix[j-1,i-1] + subMat.loc[x[i-1]][y[j-1]],\n",
    "                 Iy[j-1,i-1] + subMat.loc[x[i-1]][y[j-1]]]\n",
    "        Mmatrix[j,i] = max(M)\n",
    "\n",
    "        #### Ix\n",
    "        X = [Mmatrix[j-1,i] + gapOpen,\n",
    "             Ix[j-1,i] + gapExt]\n",
    "        #### Iy\n",
    "        Y = [Mmatrix[j,i-1] + gapOpen,\n",
    "             Iy[j,i-1] + gapOpen]\n",
    "        ###\n",
    "        Ix[j,i] = max(X)\n",
    "        Iy[j,i] = max(Y)\n",
    "\n",
    "\n",
    "print(vizScoringMat(x,y,Ix))\n",
    "print(vizScoringMat(x,y,Mmatrix))\n",
    "print(vizScoringMat(x,y,Iy))"
   ]
  },
  {
   "cell_type": "code",
   "execution_count": null,
   "metadata": {},
   "outputs": [],
   "source": []
  },
  {
   "cell_type": "code",
   "execution_count": null,
   "metadata": {},
   "outputs": [],
   "source": []
  },
  {
   "cell_type": "code",
   "execution_count": null,
   "metadata": {},
   "outputs": [],
   "source": []
  },
  {
   "cell_type": "code",
   "execution_count": null,
   "metadata": {},
   "outputs": [],
   "source": []
  },
  {
   "cell_type": "code",
   "execution_count": null,
   "metadata": {},
   "outputs": [],
   "source": []
  },
  {
   "cell_type": "code",
   "execution_count": null,
   "metadata": {},
   "outputs": [],
   "source": []
  },
  {
   "cell_type": "code",
   "execution_count": null,
   "metadata": {},
   "outputs": [],
   "source": []
  },
  {
   "cell_type": "code",
   "execution_count": null,
   "metadata": {},
   "outputs": [],
   "source": [
    "## From https://github.com/ZhangQiuxue/Rosalind/blob/master/096_GAFF.py"
   ]
  },
  {
   "cell_type": "code",
   "execution_count": 24,
   "metadata": {
    "ExecuteTime": {
     "end_time": "2020-11-19T02:01:39.126964Z",
     "start_time": "2020-11-19T02:01:39.124266Z"
    }
   },
   "outputs": [],
   "source": [
    "w=y\n",
    "v=x"
   ]
  },
  {
   "cell_type": "code",
   "execution_count": 25,
   "metadata": {
    "ExecuteTime": {
     "end_time": "2020-11-19T02:01:39.423114Z",
     "start_time": "2020-11-19T02:01:39.418888Z"
    }
   },
   "outputs": [],
   "source": [
    "S = [[[0 for j in range(len(w)+1)] for i in range(len(v)+1)] for k in range(3)]\n",
    "backtrack = [[[0 for j in range(len(w)+1)] for i in range(len(v)+1)] for k in range(3)]"
   ]
  },
  {
   "cell_type": "code",
   "execution_count": 26,
   "metadata": {
    "ExecuteTime": {
     "end_time": "2020-11-19T02:01:39.693603Z",
     "start_time": "2020-11-19T02:01:39.681496Z"
    }
   },
   "outputs": [
    {
     "data": {
      "text/plain": [
       "[[[0, -110, -110, -110, -110, -110, -110, -110, -110, -110],\n",
       "  [-11, 0, 0, 0, 0, 0, 0, 0, 0, 0],\n",
       "  [-12, 0, 0, 0, 0, 0, 0, 0, 0, 0],\n",
       "  [-13, 0, 0, 0, 0, 0, 0, 0, 0, 0],\n",
       "  [-14, 0, 0, 0, 0, 0, 0, 0, 0, 0],\n",
       "  [-15, 0, 0, 0, 0, 0, 0, 0, 0, 0],\n",
       "  [-16, 0, 0, 0, 0, 0, 0, 0, 0, 0],\n",
       "  [-17, 0, 0, 0, 0, 0, 0, 0, 0, 0]],\n",
       " [[0, -11, -12, -13, -14, -15, -16, -17, -18, -19],\n",
       "  [-11, 0, 0, 0, 0, 0, 0, 0, 0, 0],\n",
       "  [-12, 0, 0, 0, 0, 0, 0, 0, 0, 0],\n",
       "  [-13, 0, 0, 0, 0, 0, 0, 0, 0, 0],\n",
       "  [-14, 0, 0, 0, 0, 0, 0, 0, 0, 0],\n",
       "  [-15, 0, 0, 0, 0, 0, 0, 0, 0, 0],\n",
       "  [-16, 0, 0, 0, 0, 0, 0, 0, 0, 0],\n",
       "  [-17, 0, 0, 0, 0, 0, 0, 0, 0, 0]],\n",
       " [[0, -11, -12, -13, -14, -15, -16, -17, -18, -19],\n",
       "  [-110, 0, 0, 0, 0, 0, 0, 0, 0, 0],\n",
       "  [-110, 0, 0, 0, 0, 0, 0, 0, 0, 0],\n",
       "  [-110, 0, 0, 0, 0, 0, 0, 0, 0, 0],\n",
       "  [-110, 0, 0, 0, 0, 0, 0, 0, 0, 0],\n",
       "  [-110, 0, 0, 0, 0, 0, 0, 0, 0, 0],\n",
       "  [-110, 0, 0, 0, 0, 0, 0, 0, 0, 0],\n",
       "  [-110, 0, 0, 0, 0, 0, 0, 0, 0, 0]]]"
      ]
     },
     "execution_count": 26,
     "metadata": {},
     "output_type": "execute_result"
    }
   ],
   "source": [
    "epsilon = 1\n",
    "sigma = 11\n",
    "for i in range(1, len(v)+1):\n",
    "        S[0][i][0] = -sigma - (i-1)*epsilon\n",
    "        S[1][i][0] = -sigma - (i-1)*epsilon\n",
    "        S[2][i][0] = -10*sigma\n",
    "for j in range(1, len(w)+1):\n",
    "    S[2][0][j] = -sigma - (j-1)*epsilon\n",
    "    S[1][0][j] = -sigma - (j-1)*epsilon\n",
    "    S[0][0][j] = -10*sigma\n",
    "S"
   ]
  },
  {
   "cell_type": "code",
   "execution_count": 74,
   "metadata": {
    "ExecuteTime": {
     "end_time": "2020-11-16T06:37:34.710324Z",
     "start_time": "2020-11-16T06:37:34.707314Z"
    }
   },
   "outputs": [],
   "source": [
    "##https://github.com/ZhangQiuxue/Rosalind/blob/master/096_GAFF.py"
   ]
  },
  {
   "cell_type": "code",
   "execution_count": 22,
   "metadata": {
    "ExecuteTime": {
     "end_time": "2020-11-19T02:00:56.977962Z",
     "start_time": "2020-11-19T02:00:56.956482Z"
    }
   },
   "outputs": [],
   "source": [
    "for i in range(1, len(v)+1):\n",
    "    for j in range(1, len(w)+1):\n",
    "        lower_scores = [S[0][i-1][j] - epsilon, S[1][i-1][j] - sigma]\n",
    "        S[0][i][j] = max(lower_scores)\n",
    "        backtrack[0][i][j] = lower_scores.index(S[0][i][j])\n",
    "\n",
    "        upper_scores = [S[2][i][j-1] - epsilon, S[1][i][j-1] - sigma]\n",
    "        S[2][i][j] = max(upper_scores)\n",
    "        backtrack[2][i][j] = upper_scores.index(S[2][i][j])\n",
    "\n",
    "        middle_scores = [S[0][i][j], \n",
    "                         S[1][i-1][j-1] + blosum[v[i-1]][w[j-1]],\n",
    "                         S[2][i][j]]\n",
    "        S[1][i][j] = max(middle_scores)\n",
    "        backtrack[1][i][j] = middle_scores.index(S[1][i][j])"
   ]
  },
  {
   "cell_type": "code",
   "execution_count": 23,
   "metadata": {
    "ExecuteTime": {
     "end_time": "2020-11-19T02:00:58.728790Z",
     "start_time": "2020-11-19T02:00:58.721152Z"
    }
   },
   "outputs": [
    {
     "data": {
      "text/plain": [
       "[[[0, -110, -110, -110, -110, -110, -110, -110, -110, -110],\n",
       "  [-11, -22, -23, -24, -25, -26, -27, -28, -29, -30],\n",
       "  [-12, -4, -15, -16, -17, -18, -19, -20, -21, -22],\n",
       "  [-13, -5, 1, -10, -11, -12, -13, -14, -15, -16],\n",
       "  [-14, -6, 0, 6, -5, -6, -7, -8, -9, -10],\n",
       "  [-15, -7, -1, 5, 3, -6, -6, -2, -10, -9],\n",
       "  [-16, -8, -2, 4, 2, 0, -7, -3, 2, -9],\n",
       "  [-17, -9, -3, 3, 1, -1, 1, -4, 1, 8]],\n",
       " [[0, -11, -12, -13, -14, -15, -16, -17, -18, -19],\n",
       "  [-11, 7, -4, -5, -6, -7, -8, -9, -10, -11],\n",
       "  [-12, -4, 12, 1, 0, -1, -2, -3, -4, -5],\n",
       "  [-13, -5, 1, 17, 6, 5, 4, 3, 2, 1],\n",
       "  [-14, -6, 0, 6, 14, 5, 5, 9, 0, 2],\n",
       "  [-15, -7, -1, 5, 3, 11, 3, 2, 13, 2],\n",
       "  [-16, -8, -2, 4, 2, 1, 12, 3, 2, 19],\n",
       "  [-17, -9, -3, 3, 1, 1, 5, 12, 1, 8]],\n",
       " [[0, -11, -12, -13, -14, -15, -16, -17, -18, -19],\n",
       "  [-110, -22, -4, -5, -6, -7, -8, -9, -10, -11],\n",
       "  [-110, -23, -15, 1, 0, -1, -2, -3, -4, -5],\n",
       "  [-110, -24, -16, -10, 6, 5, 4, 3, 2, 1],\n",
       "  [-110, -25, -17, -11, -5, 3, 2, 1, 0, -1],\n",
       "  [-110, -26, -18, -12, -6, -7, 0, -1, -2, 2],\n",
       "  [-110, -27, -19, -13, -7, -8, -9, 1, 0, -1],\n",
       "  [-110, -28, -20, -14, -8, -9, -10, -6, 1, 0]]]"
      ]
     },
     "execution_count": 23,
     "metadata": {},
     "output_type": "execute_result"
    }
   ],
   "source": [
    "S"
   ]
  },
  {
   "cell_type": "code",
   "execution_count": 51,
   "metadata": {
    "ExecuteTime": {
     "end_time": "2020-11-15T00:22:50.496714Z",
     "start_time": "2020-11-15T00:22:50.490657Z"
    }
   },
   "outputs": [],
   "source": [
    "i,j = len(v), len(w)\n",
    "v_aligned, w_aligned = v, w\n",
    "\n",
    "# Get the maximum score, and the corresponding backtrack starting position.\n",
    "matrix_scores = [S[0][i][j], S[1][i][j], S[2][i][j]]\n",
    "max_score = max(matrix_scores)\n",
    "backtrack_matrix = matrix_scores.index(max_score)\n",
    "\n",
    "# Quick lambda function to insert indels.\n",
    "insert_indel = lambda word, i: word[:i] + '-' + word[i:]\n"
   ]
  },
  {
   "cell_type": "code",
   "execution_count": 52,
   "metadata": {
    "ExecuteTime": {
     "end_time": "2020-11-15T00:23:02.559688Z",
     "start_time": "2020-11-15T00:23:02.552543Z"
    }
   },
   "outputs": [],
   "source": [
    "while i*j != 0:\n",
    "    if backtrack_matrix == 0:  # Lower backtrack matrix conditions.\n",
    "        if backtrack[0][i][j] == 1:\n",
    "            backtrack_matrix = 1\n",
    "        i -= 1\n",
    "        w_aligned = insert_indel(w_aligned, j)\n",
    "\n",
    "    elif backtrack_matrix == 1:  # Middle backtrack matrix conditions.\n",
    "        if backtrack[1][i][j] == 0:\n",
    "            backtrack_matrix = 0\n",
    "        elif backtrack[1][i][j] == 2:\n",
    "            backtrack_matrix = 2\n",
    "        else:\n",
    "            i -= 1\n",
    "            j -= 1\n",
    "\n",
    "    else:  # Upper backtrack matrix conditions.\n",
    "        if backtrack[2][i][j] == 1:\n",
    "            backtrack_matrix = 1\n",
    "        j -= 1\n",
    "        v_aligned = insert_indel(v_aligned, i)\n",
    "        "
   ]
  },
  {
   "cell_type": "code",
   "execution_count": 53,
   "metadata": {
    "ExecuteTime": {
     "end_time": "2020-11-15T00:23:18.915768Z",
     "start_time": "2020-11-15T00:23:18.911678Z"
    }
   },
   "outputs": [],
   "source": [
    "for _ in range(i):\n",
    "    w_aligned = insert_indel(w_aligned, 0)\n",
    "for _ in range(j):\n",
    "    v_aligned = insert_indel(v_aligned, 0)\n"
   ]
  },
  {
   "cell_type": "code",
   "execution_count": 55,
   "metadata": {
    "ExecuteTime": {
     "end_time": "2020-11-15T00:23:37.346085Z",
     "start_time": "2020-11-15T00:23:37.340291Z"
    }
   },
   "outputs": [
    {
     "name": "stdout",
     "output_type": "stream",
     "text": [
      "8\n",
      "PRT---EINS\n",
      "PRTWPSEIN-\n"
     ]
    }
   ],
   "source": [
    "print(max_score)\n",
    "print(w_aligned)\n",
    "print(v_aligned)"
   ]
  },
  {
   "cell_type": "code",
   "execution_count": null,
   "metadata": {},
   "outputs": [],
   "source": []
  }
 ],
 "metadata": {
  "kernelspec": {
   "display_name": "Python 3",
   "language": "python",
   "name": "python3"
  },
  "language_info": {
   "codemirror_mode": {
    "name": "ipython",
    "version": 3
   },
   "file_extension": ".py",
   "mimetype": "text/x-python",
   "name": "python",
   "nbconvert_exporter": "python",
   "pygments_lexer": "ipython3",
   "version": "3.8.6"
  },
  "varInspector": {
   "cols": {
    "lenName": 16,
    "lenType": 16,
    "lenVar": 40
   },
   "kernels_config": {
    "python": {
     "delete_cmd_postfix": "",
     "delete_cmd_prefix": "del ",
     "library": "var_list.py",
     "varRefreshCmd": "print(var_dic_list())"
    },
    "r": {
     "delete_cmd_postfix": ") ",
     "delete_cmd_prefix": "rm(",
     "library": "var_list.r",
     "varRefreshCmd": "cat(var_dic_list()) "
    }
   },
   "types_to_exclude": [
    "module",
    "function",
    "builtin_function_or_method",
    "instance",
    "_Feature"
   ],
   "window_display": false
  }
 },
 "nbformat": 4,
 "nbformat_minor": 4
}
