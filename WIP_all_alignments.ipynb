{
 "cells": [
  {
   "cell_type": "markdown",
   "metadata": {
    "ExecuteTime": {
     "end_time": "2020-09-28T19:19:43.907336Z",
     "start_time": "2020-09-28T19:19:43.892652Z"
    }
   },
   "source": [
    "---\n",
    "\n",
    "### BA5E Find a Highest-Scoring Alignment of Two Strings\n",
    "http://rosalind.info/problems/ba5e/\n",
    "\n",
    "   \n",
    "**Global Alignment Problem**\n",
    "Find the highest-scoring alignment between two strings using a scoring matrix.\n",
    "\n",
    "Given: Two amino acid strings.\n",
    "\n",
    "Return: The maximum alignment score of these strings followed by an alignment achieving this maximum score. Use the BLOSUM62 scoring matrix and indel penalty σ = 5. (If multiple alignments achieving the maximum score exist, you may return any one.)"
   ]
  },
  {
   "cell_type": "code",
   "execution_count": 2,
   "metadata": {
    "ExecuteTime": {
     "end_time": "2020-09-28T19:31:39.102848Z",
     "start_time": "2020-09-28T19:31:38.981578Z"
    }
   },
   "outputs": [],
   "source": [
    "def scoreAlignment(w,v,gap=0,mismatch=0,match=1):\n",
    "    \"\"\"\n",
    "    \"\"\"\n",
    "    ###\n",
    "    wh = '-'+ w\n",
    "    vh = '-'+ v\n",
    "    n=len(vh)\n",
    "    m=len(wh)\n",
    "    ###\n",
    "    scoring = pd.DataFrame(0,index=range(0,n),columns=range(0,m))\n",
    "    ## Initialize F matrix\n",
    "    for i in range(1,n):\n",
    "        if vh[i] != wh[0]: scoring[0][i] = scoring[0][i-1] + gap\n",
    "    for j in range(1,m):\n",
    "        if vh[0] != wh[j]: scoring[j][0] = scoring[j-1][0] + gap\n",
    "\n",
    "    ### Dynamic programming. Iterate over the scoring matrix.\n",
    "    for i in range(1,n):\n",
    "        for j in range(1,m):\n",
    "            down = scoring[j][i-1] + gap\n",
    "            right = scoring[j-1][i] + gap\n",
    "            if vh[i] == wh[j]:\n",
    "                diag = scoring[j-1][i-1] + match\n",
    "            else:\n",
    "                diag = scoring[j-1][i-1] + mismatch\n",
    "            t=[('s',down),('e',right),('d',diag)]\n",
    "            ### Get which one is max\n",
    "            whichMax = np.argmax([_[1]for _ in t])                \n",
    "            scoring[j][i] = t[whichMax][1]\n",
    "    s2 = scoring.copy()\n",
    "    s2.index=[_ for _ in vh]\n",
    "    s2.columns=[_ for _ in wh]\n",
    "    s2\n",
    "    return scoring,s2\n",
    "\n",
    "##\n",
    "def LCS(w,v,Fmatrix,debug=False):\n",
    "    wh = '-'+ w\n",
    "    vh = '-'+ v\n",
    "    \"\"\"\n",
    "    \"\"\"\n",
    "    lcs = ''\n",
    "    i = Fmatrix.shape[0]-1\n",
    "    j = Fmatrix.shape[1]-1\n",
    "    while (i > 0) and (j > 0):\n",
    "        #print((j,i), s[j][i],LCS[::-1],'<===LCS\\t',vh[i],wh[j])\n",
    "        if vh[i] == wh[j]:\n",
    "                lcs += wh[j]\n",
    "                i -= 1\n",
    "                j -= 1\n",
    "                if debug: print('\\tDiag')\n",
    "        else:\n",
    "            if i >= 0: up = Fmatrix[j][i-1]\n",
    "            else: up = -np.inf\n",
    "            if i >= 0: left = Fmatrix[j-1][i]\n",
    "            else: left = -np.inf\n",
    "            if left > up: \n",
    "                if debug: print(\"\\t\",(up,left),'left')\n",
    "                j -= 1\n",
    "            else:\n",
    "                if debug: print(\"\\t\",(up,left),'up')\n",
    "                i -= 1\n",
    "    return lcs[::-1]\n"
   ]
  },
  {
   "cell_type": "code",
   "execution_count": 5,
   "metadata": {
    "ExecuteTime": {
     "end_time": "2020-09-28T19:32:58.613236Z",
     "start_time": "2020-09-28T19:32:58.604248Z"
    }
   },
   "outputs": [],
   "source": [
    "import pandas as pd\n",
    "gap = 0#-4\n",
    "mismatch = 0#-3\n",
    "match = 1"
   ]
  },
  {
   "cell_type": "code",
   "execution_count": null,
   "metadata": {},
   "outputs": [],
   "source": []
  },
  {
   "cell_type": "code",
   "execution_count": 91,
   "metadata": {
    "ExecuteTime": {
     "end_time": "2020-09-28T21:10:24.094974Z",
     "start_time": "2020-09-28T21:10:24.042478Z"
    },
    "cell_style": "split"
   },
   "outputs": [
    {
     "data": {
      "text/plain": [
       "array([[0, 0, 0, 0, 0, 0, 0, 0],\n",
       "       [0, 1, 1, 1, 1, 1, 1, 1],\n",
       "       [0, 1, 2, 2, 2, 2, 2, 2],\n",
       "       [0, 1, 2, 2, 3, 3, 3, 3],\n",
       "       [0, 1, 2, 2, 3, 4, 4, 4],\n",
       "       [0, 1, 2, 2, 3, 4, 4, 4],\n",
       "       [0, 1, 2, 2, 3, 4, 4, 4],\n",
       "       [0, 1, 2, 2, 3, 4, 4, 4],\n",
       "       [0, 1, 2, 2, 3, 4, 4, 4]])"
      ]
     },
     "execution_count": 91,
     "metadata": {},
     "output_type": "execute_result"
    }
   ],
   "source": [
    "x = 'ATGTTATA'\n",
    "y = 'ATCGTCC'\n",
    "\n",
    "m = len(x)\n",
    "n = len(y)\n",
    "table = np.zeros((m+1, n+1), dtype=int)\n",
    "for i in range(1, m+1):\n",
    "    for j in range(1, n+1):\n",
    "        if x[i-1] == y[j-1]:\n",
    "            table[i, j] = table[i-1, j-1] + match\n",
    "        else:\n",
    "            table[i, j] = max(table[i, j-1], table[i-1, j])\n",
    "table"
   ]
  },
  {
   "cell_type": "code",
   "execution_count": 94,
   "metadata": {
    "ExecuteTime": {
     "end_time": "2020-09-28T21:11:02.223842Z",
     "start_time": "2020-09-28T21:11:02.189366Z"
    },
    "cell_style": "split"
   },
   "outputs": [
    {
     "data": {
      "text/plain": [
       "(0,\n",
       " 0,\n",
       " 'AT-GT--TATA',\n",
       " 'ATCGTCC----',\n",
       " 'ATGT',\n",
       " array([[0, 0, 0, 0, 0, 0, 0, 0],\n",
       "        [0, 1, 1, 1, 1, 1, 1, 1],\n",
       "        [0, 1, 2, 2, 2, 2, 2, 2],\n",
       "        [0, 1, 2, 2, 3, 3, 3, 3],\n",
       "        [0, 1, 2, 2, 3, 4, 4, 4],\n",
       "        [0, 1, 2, 2, 3, 4, 4, 4],\n",
       "        [0, 1, 2, 2, 3, 4, 4, 4],\n",
       "        [0, 1, 2, 2, 3, 4, 4, 4],\n",
       "        [0, 1, 2, 2, 3, 4, 4, 4]]))"
      ]
     },
     "execution_count": 94,
     "metadata": {},
     "output_type": "execute_result"
    }
   ],
   "source": [
    "i, j = m, n\n",
    "w = ''\n",
    "a=''\n",
    "b=''\n",
    "while (i > 0) and (j > 0):\n",
    "    if x[i-1] == y[j-1]:\n",
    "        w = x[i-1] + w\n",
    "        i -= 1\n",
    "        j -= 1\n",
    "        a += x[i]\n",
    "        b += y[j]\n",
    "    else:\n",
    "        if table[i, j-1] > table[i-1, j]:\n",
    "            a += '-'\n",
    "            b += y[j-1]\n",
    "            j -= 1\n",
    "        else:\n",
    "            a += x[i-1]\n",
    "            b += '-'\n",
    "            i -= 1\n",
    "(i,j,a[::-1],b[::-1],w,table)\n"
   ]
  },
  {
   "cell_type": "code",
   "execution_count": null,
   "metadata": {
    "ExecuteTime": {
     "end_time": "2020-09-28T20:49:26.350836Z",
     "start_time": "2020-09-28T20:49:26.303699Z"
    }
   },
   "outputs": [],
   "source": []
  },
  {
   "cell_type": "code",
   "execution_count": null,
   "metadata": {},
   "outputs": [],
   "source": []
  },
  {
   "cell_type": "code",
   "execution_count": null,
   "metadata": {},
   "outputs": [],
   "source": []
  },
  {
   "cell_type": "code",
   "execution_count": 160,
   "metadata": {
    "ExecuteTime": {
     "end_time": "2020-09-28T22:40:55.385115Z",
     "start_time": "2020-09-28T22:40:55.359255Z"
    }
   },
   "outputs": [],
   "source": []
  },
  {
   "cell_type": "code",
   "execution_count": 254,
   "metadata": {
    "ExecuteTime": {
     "end_time": "2020-09-28T23:19:29.989429Z",
     "start_time": "2020-09-28T23:19:29.930290Z"
    },
    "cell_style": "split"
   },
   "outputs": [
    {
     "data": {
      "text/html": [
       "<div>\n",
       "<style scoped>\n",
       "    .dataframe tbody tr th:only-of-type {\n",
       "        vertical-align: middle;\n",
       "    }\n",
       "\n",
       "    .dataframe tbody tr th {\n",
       "        vertical-align: top;\n",
       "    }\n",
       "\n",
       "    .dataframe thead th {\n",
       "        text-align: right;\n",
       "    }\n",
       "</style>\n",
       "<table border=\"1\" class=\"dataframe\">\n",
       "  <thead>\n",
       "    <tr style=\"text-align: right;\">\n",
       "      <th></th>\n",
       "      <th>-</th>\n",
       "      <th>G</th>\n",
       "      <th>C</th>\n",
       "      <th>A</th>\n",
       "      <th>T</th>\n",
       "      <th>G</th>\n",
       "      <th>C</th>\n",
       "      <th>U</th>\n",
       "    </tr>\n",
       "  </thead>\n",
       "  <tbody>\n",
       "    <tr>\n",
       "      <th>-</th>\n",
       "      <td>0.0</td>\n",
       "      <td>-1.0</td>\n",
       "      <td>-2.0</td>\n",
       "      <td>-3.0</td>\n",
       "      <td>-4.0</td>\n",
       "      <td>-5.0</td>\n",
       "      <td>-6.0</td>\n",
       "      <td>-7.0</td>\n",
       "    </tr>\n",
       "    <tr>\n",
       "      <th>G</th>\n",
       "      <td>-1.0</td>\n",
       "      <td>1.0</td>\n",
       "      <td>0.0</td>\n",
       "      <td>-1.0</td>\n",
       "      <td>-2.0</td>\n",
       "      <td>-3.0</td>\n",
       "      <td>-4.0</td>\n",
       "      <td>-5.0</td>\n",
       "    </tr>\n",
       "    <tr>\n",
       "      <th>A</th>\n",
       "      <td>-2.0</td>\n",
       "      <td>0.0</td>\n",
       "      <td>0.0</td>\n",
       "      <td>1.0</td>\n",
       "      <td>0.0</td>\n",
       "      <td>-1.0</td>\n",
       "      <td>-2.0</td>\n",
       "      <td>-3.0</td>\n",
       "    </tr>\n",
       "    <tr>\n",
       "      <th>T</th>\n",
       "      <td>-3.0</td>\n",
       "      <td>-1.0</td>\n",
       "      <td>-1.0</td>\n",
       "      <td>0.0</td>\n",
       "      <td>2.0</td>\n",
       "      <td>1.0</td>\n",
       "      <td>0.0</td>\n",
       "      <td>-1.0</td>\n",
       "    </tr>\n",
       "    <tr>\n",
       "      <th>T</th>\n",
       "      <td>-4.0</td>\n",
       "      <td>-2.0</td>\n",
       "      <td>-2.0</td>\n",
       "      <td>-1.0</td>\n",
       "      <td>1.0</td>\n",
       "      <td>1.0</td>\n",
       "      <td>0.0</td>\n",
       "      <td>-1.0</td>\n",
       "    </tr>\n",
       "    <tr>\n",
       "      <th>A</th>\n",
       "      <td>-5.0</td>\n",
       "      <td>-3.0</td>\n",
       "      <td>-3.0</td>\n",
       "      <td>-1.0</td>\n",
       "      <td>0.0</td>\n",
       "      <td>0.0</td>\n",
       "      <td>0.0</td>\n",
       "      <td>-1.0</td>\n",
       "    </tr>\n",
       "    <tr>\n",
       "      <th>C</th>\n",
       "      <td>-6.0</td>\n",
       "      <td>-4.0</td>\n",
       "      <td>-2.0</td>\n",
       "      <td>-2.0</td>\n",
       "      <td>-1.0</td>\n",
       "      <td>-1.0</td>\n",
       "      <td>1.0</td>\n",
       "      <td>0.0</td>\n",
       "    </tr>\n",
       "    <tr>\n",
       "      <th>A</th>\n",
       "      <td>-7.0</td>\n",
       "      <td>-5.0</td>\n",
       "      <td>-3.0</td>\n",
       "      <td>-1.0</td>\n",
       "      <td>-2.0</td>\n",
       "      <td>-2.0</td>\n",
       "      <td>0.0</td>\n",
       "      <td>0.0</td>\n",
       "    </tr>\n",
       "  </tbody>\n",
       "</table>\n",
       "</div>"
      ],
      "text/plain": [
       "     -    G    C    A    T    G    C    U\n",
       "-  0.0 -1.0 -2.0 -3.0 -4.0 -5.0 -6.0 -7.0\n",
       "G -1.0  1.0  0.0 -1.0 -2.0 -3.0 -4.0 -5.0\n",
       "A -2.0  0.0  0.0  1.0  0.0 -1.0 -2.0 -3.0\n",
       "T -3.0 -1.0 -1.0  0.0  2.0  1.0  0.0 -1.0\n",
       "T -4.0 -2.0 -2.0 -1.0  1.0  1.0  0.0 -1.0\n",
       "A -5.0 -3.0 -3.0 -1.0  0.0  0.0  0.0 -1.0\n",
       "C -6.0 -4.0 -2.0 -2.0 -1.0 -1.0  1.0  0.0\n",
       "A -7.0 -5.0 -3.0 -1.0 -2.0 -2.0  0.0  0.0"
      ]
     },
     "execution_count": 254,
     "metadata": {},
     "output_type": "execute_result"
    }
   ],
   "source": [
    "## https://www.youtube.com/watch?v=LhpGz5--isw\n",
    "# x = 'ATGGCCTC'\n",
    "# y = 'ACGGCTC'\n",
    "# match = 1\n",
    "# gap = -4\n",
    "# mismatch = -3\n",
    "\n",
    "## Wiki https://en.wikipedia.org/wiki/Needleman–Wunsch_algorithm\n",
    "x='GATTACA'\n",
    "y='GCATGCU'\n",
    "match = 1\n",
    "gap = -1\n",
    "mismatch = -1\n",
    "\n",
    "\n",
    "m = len(x)\n",
    "n = len(y)\n",
    "Fmatrix = np.zeros((m+1,n+1))\n",
    "\n",
    "## initialize\n",
    "for i in range(1,m+1):\n",
    "    Fmatrix[i,0] += Fmatrix[i-1,0] + gap\n",
    "for j in range(1,n+1):\n",
    "    Fmatrix[0,j] += Fmatrix[0,j-1] + gap\n",
    "\n",
    "##\n",
    "for i in range(1,m+1):\n",
    "    for j in range(1,n+1):\n",
    "        if x[i-1] == y[j-1]:\n",
    "            Fmatrix[i,j] = Fmatrix[i-1,j-1] + match\n",
    "        else:\n",
    "            mm = Fmatrix[i-1,j-1] + mismatch\n",
    "            down = Fmatrix[i-1,j] + gap\n",
    "            right = Fmatrix[i,j-1] + gap\n",
    "            Fmatrix[i,j] = max([mm,down,right])\n",
    "        #print(x[i-1],y[j-1],[mm,down,right])\n",
    "            \n",
    "            \n",
    "pd.DataFrame(Fmatrix,columns=['-']+[_ for _ in y],index=['-']+[_ for _ in x])"
   ]
  },
  {
   "cell_type": "code",
   "execution_count": 255,
   "metadata": {
    "ExecuteTime": {
     "end_time": "2020-09-28T23:19:30.410804Z",
     "start_time": "2020-09-28T23:19:30.382461Z"
    },
    "cell_style": "split"
   },
   "outputs": [
    {
     "data": {
      "text/html": [
       "<div>\n",
       "<style scoped>\n",
       "    .dataframe tbody tr th:only-of-type {\n",
       "        vertical-align: middle;\n",
       "    }\n",
       "\n",
       "    .dataframe tbody tr th {\n",
       "        vertical-align: top;\n",
       "    }\n",
       "\n",
       "    .dataframe thead th {\n",
       "        text-align: right;\n",
       "    }\n",
       "</style>\n",
       "<table border=\"1\" class=\"dataframe\">\n",
       "  <thead>\n",
       "    <tr style=\"text-align: right;\">\n",
       "      <th></th>\n",
       "      <th>-</th>\n",
       "      <th>G</th>\n",
       "      <th>C</th>\n",
       "      <th>A</th>\n",
       "      <th>T</th>\n",
       "      <th>G</th>\n",
       "      <th>C</th>\n",
       "      <th>U</th>\n",
       "    </tr>\n",
       "  </thead>\n",
       "  <tbody>\n",
       "    <tr>\n",
       "      <th>-</th>\n",
       "      <td>0.0</td>\n",
       "      <td>-1.0</td>\n",
       "      <td>-2.0</td>\n",
       "      <td>-3.0</td>\n",
       "      <td>-4.0</td>\n",
       "      <td>-5.0</td>\n",
       "      <td>-6.0</td>\n",
       "      <td>-7.0</td>\n",
       "    </tr>\n",
       "    <tr>\n",
       "      <th>G</th>\n",
       "      <td>-1.0</td>\n",
       "      <td>1.0</td>\n",
       "      <td>0.0</td>\n",
       "      <td>-1.0</td>\n",
       "      <td>-2.0</td>\n",
       "      <td>-3.0</td>\n",
       "      <td>-4.0</td>\n",
       "      <td>-5.0</td>\n",
       "    </tr>\n",
       "    <tr>\n",
       "      <th>A</th>\n",
       "      <td>-2.0</td>\n",
       "      <td>0.0</td>\n",
       "      <td>0.0</td>\n",
       "      <td>1.0</td>\n",
       "      <td>0.0</td>\n",
       "      <td>-1.0</td>\n",
       "      <td>-2.0</td>\n",
       "      <td>-3.0</td>\n",
       "    </tr>\n",
       "    <tr>\n",
       "      <th>T</th>\n",
       "      <td>-3.0</td>\n",
       "      <td>-1.0</td>\n",
       "      <td>-1.0</td>\n",
       "      <td>0.0</td>\n",
       "      <td>2.0</td>\n",
       "      <td>1.0</td>\n",
       "      <td>0.0</td>\n",
       "      <td>-1.0</td>\n",
       "    </tr>\n",
       "    <tr>\n",
       "      <th>T</th>\n",
       "      <td>-4.0</td>\n",
       "      <td>-2.0</td>\n",
       "      <td>-2.0</td>\n",
       "      <td>-1.0</td>\n",
       "      <td>1.0</td>\n",
       "      <td>1.0</td>\n",
       "      <td>0.0</td>\n",
       "      <td>-1.0</td>\n",
       "    </tr>\n",
       "    <tr>\n",
       "      <th>A</th>\n",
       "      <td>-5.0</td>\n",
       "      <td>-3.0</td>\n",
       "      <td>-3.0</td>\n",
       "      <td>-1.0</td>\n",
       "      <td>0.0</td>\n",
       "      <td>0.0</td>\n",
       "      <td>0.0</td>\n",
       "      <td>-1.0</td>\n",
       "    </tr>\n",
       "    <tr>\n",
       "      <th>C</th>\n",
       "      <td>-6.0</td>\n",
       "      <td>-4.0</td>\n",
       "      <td>-2.0</td>\n",
       "      <td>-2.0</td>\n",
       "      <td>-1.0</td>\n",
       "      <td>-1.0</td>\n",
       "      <td>1.0</td>\n",
       "      <td>0.0</td>\n",
       "    </tr>\n",
       "    <tr>\n",
       "      <th>A</th>\n",
       "      <td>-7.0</td>\n",
       "      <td>-5.0</td>\n",
       "      <td>-3.0</td>\n",
       "      <td>-1.0</td>\n",
       "      <td>-2.0</td>\n",
       "      <td>-2.0</td>\n",
       "      <td>0.0</td>\n",
       "      <td>0.0</td>\n",
       "    </tr>\n",
       "  </tbody>\n",
       "</table>\n",
       "</div>"
      ],
      "text/plain": [
       "     -    G    C    A    T    G    C    U\n",
       "-  0.0 -1.0 -2.0 -3.0 -4.0 -5.0 -6.0 -7.0\n",
       "G -1.0  1.0  0.0 -1.0 -2.0 -3.0 -4.0 -5.0\n",
       "A -2.0  0.0  0.0  1.0  0.0 -1.0 -2.0 -3.0\n",
       "T -3.0 -1.0 -1.0  0.0  2.0  1.0  0.0 -1.0\n",
       "T -4.0 -2.0 -2.0 -1.0  1.0  1.0  0.0 -1.0\n",
       "A -5.0 -3.0 -3.0 -1.0  0.0  0.0  0.0 -1.0\n",
       "C -6.0 -4.0 -2.0 -2.0 -1.0 -1.0  1.0  0.0\n",
       "A -7.0 -5.0 -3.0 -1.0 -2.0 -2.0  0.0  0.0"
      ]
     },
     "execution_count": 255,
     "metadata": {},
     "output_type": "execute_result"
    }
   ],
   "source": [
    "\n",
    "\n",
    "\n",
    "\n",
    "\n",
    "\n",
    "\n",
    "\n",
    "\n",
    "\n",
    "\n",
    "\n",
    "\n",
    "\n",
    "\n",
    "\n",
    "\n",
    "\n",
    "\n",
    "\n",
    "\n",
    "\n",
    "\n",
    "\n",
    "\n",
    "\n",
    "\n",
    "\n",
    "\n",
    "\n",
    "\n",
    "pd.DataFrame(Fmatrix,columns=['-']+[_ for _ in y],index=['-']+[_ for _ in x])"
   ]
  },
  {
   "cell_type": "code",
   "execution_count": 304,
   "metadata": {
    "ExecuteTime": {
     "end_time": "2020-09-29T00:53:40.943981Z",
     "start_time": "2020-09-29T00:53:40.893771Z"
    },
    "cell_style": "center"
   },
   "outputs": [
    {
     "name": "stdout",
     "output_type": "stream",
     "text": [
      "A U 7 7\n",
      "0 diff [1.0, 0.0, 0.0]\n",
      "C C 6 6\n",
      "A G 5 5\n",
      "0 diff [1.0, 1.0, 0.0]\n",
      "T T 4 4\n",
      "T A 3 3\n",
      "1 diff [0.0, 1.0, -1.0]\n",
      "A A 2 3\n",
      "G C 1 2\n",
      "2 diff [-1.0, -2.0, 1.0]\n",
      "G G 1 1\n",
      "GATC\n",
      "--\n",
      "GCA-TGCU\n",
      "G-ATTACA\n"
     ]
    }
   ],
   "source": [
    "i = Fmatrix.shape[0] - 1\n",
    "j = Fmatrix.shape[1] - 1\n",
    "\n",
    "LCS = \"\"\n",
    "a = ''\n",
    "b = ''\n",
    "paths = []\n",
    "while (j>0 or i>0):\n",
    "    print(x[i-1],y[j-1],i,j)\n",
    "    if x[i-1] == y[j-1]:\n",
    "        LCS += x[i-1]\n",
    "        j -=1\n",
    "        i -=1\n",
    "        a +=x[i]\n",
    "        b +=y[j]\n",
    "        paths.append([(np.inf),(x[i],y[j]) ])\n",
    "    else:\n",
    "        diag = Fmatrix[i-1,j-1] #+ mismatch\n",
    "        left = Fmatrix[i-1,j] #+ gap\n",
    "        up = Fmatrix[i,j-1] #+ gap\n",
    "        maxCell = np.argmax([diag,left,up])\n",
    "        print(maxCell,'diff',[diag,left,up])\n",
    "        if maxCell == 0:\n",
    "            j -=1\n",
    "            i -=1\n",
    "            a +=x[i]\n",
    "            b +=y[j]\n",
    "        else:\n",
    "            if maxCell == 1:\n",
    "                i -= 1\n",
    "                a += x[i]\n",
    "                b += '-'\n",
    "            else:\n",
    "                j -= 1\n",
    "                a += '-'\n",
    "                b += y[j]\n",
    "        paths.append( [(diag,left,up),\n",
    "                       (x[i],x[i],\"-\"),\n",
    "                       (y[j],\"-\",y[j]) ])\n",
    "print(LCS[::-1]) #AACTGG\n",
    "print('--')\n",
    "print(b[::-1])\n",
    "print(a[::-1])"
   ]
  },
  {
   "cell_type": "code",
   "execution_count": 300,
   "metadata": {
    "ExecuteTime": {
     "end_time": "2020-09-29T00:34:22.662698Z",
     "start_time": "2020-09-29T00:34:22.642406Z"
    }
   },
   "outputs": [
    {
     "name": "stdout",
     "output_type": "stream",
     "text": [
      "[('A', 'U')]\n",
      "C C\n",
      "[('A', 'G'), ('A', '-')]\n",
      "T T\n",
      "[('T', '-')]\n",
      "A A\n",
      "[('-', 'C')]\n",
      "G G\n"
     ]
    }
   ],
   "source": [
    "## \n",
    "for _ in paths:\n",
    "    if _[0] == np.inf:\n",
    "        print(_[1][0],_[1][1])\n",
    "    else:\n",
    "        ixMax = [i for i,val in enumerate(_[0]) if val == max(_[0])]\n",
    "        print([(_[1][mx],_[2][mx]) for mx in ixMax])"
   ]
  },
  {
   "cell_type": "code",
   "execution_count": 292,
   "metadata": {
    "ExecuteTime": {
     "end_time": "2020-09-29T00:28:38.366595Z",
     "start_time": "2020-09-29T00:28:38.351702Z"
    }
   },
   "outputs": [
    {
     "data": {
      "text/plain": [
       "[(1.0, 1.0, 0.0), ('A', 'A', '-'), ('G', '-', 'G')]"
      ]
     },
     "execution_count": 292,
     "metadata": {},
     "output_type": "execute_result"
    }
   ],
   "source": [
    "GCA-TGCU\n",
    "G-ATTACA\n",
    "\n",
    "\n",
    "GCA-T-CU\n",
    "G-ATTACA"
   ]
  },
  {
   "cell_type": "code",
   "execution_count": 301,
   "metadata": {
    "ExecuteTime": {
     "end_time": "2020-09-29T00:39:15.712942Z",
     "start_time": "2020-09-29T00:39:15.658899Z"
    }
   },
   "outputs": [
    {
     "data": {
      "text/plain": [
       "[[(1.0, 0.0, 0.0), ('A', 'A', '-'), ('U', '-', 'U')],\n",
       " [inf, ('C', 'C')],\n",
       " [(1.0, 1.0, 0.0), ('A', 'A', '-'), ('G', '-', 'G')],\n",
       " [inf, ('T', 'T')],\n",
       " [(0.0, 1.0, -1.0), ('T', 'T', '-'), ('T', '-', 'T')],\n",
       " [inf, ('A', 'A')],\n",
       " [(-1.0, -2.0, 1.0), ('A', 'A', '-'), ('C', '-', 'C')],\n",
       " [inf, ('G', 'G')]]"
      ]
     },
     "execution_count": 301,
     "metadata": {},
     "output_type": "execute_result"
    }
   ],
   "source": [
    "paths"
   ]
  },
  {
   "cell_type": "code",
   "execution_count": 436,
   "metadata": {
    "ExecuteTime": {
     "end_time": "2020-09-29T04:11:50.146067Z",
     "start_time": "2020-09-29T04:11:50.130173Z"
    }
   },
   "outputs": [],
   "source": [
    "### Find parents of max for backtracking\n",
    "m = Fmatrix.shape[0] - 1\n",
    "n = Fmatrix.shape[1] - 1\n",
    "\n",
    "i = m\n",
    "j = n\n",
    "\n",
    "def getParents(coord):\n",
    "    i=coord[0]\n",
    "    j=coord[1]\n",
    "    if i == 0 and j == 0:\n",
    "        return None\n",
    "    else:\n",
    "        diag=Fmatrix[i-1,j-1]\n",
    "        up=Fmatrix[i-1,j]\n",
    "        left=Fmatrix[i,j-1]\n",
    "        Neighbors=[diag,up,left]\n",
    "        #print(Neighbors)\n",
    "        maxVal=max(Neighbors)\n",
    "        #print(maxVal)\n",
    "        parentCoords = [(i-1,j-1),(i-1,j),(i,j-1)]\n",
    "        #return {(i,j): [parentCoords[i] for i,val in enumerate(Neighbors) if val == maxVal]}\n",
    "        out = [parentCoords[i] for i,val in enumerate(Neighbors) if val == maxVal]\n",
    "        node = (i,j)\n",
    "        return out"
   ]
  },
  {
   "cell_type": "code",
   "execution_count": null,
   "metadata": {
    "ExecuteTime": {
     "end_time": "2020-09-29T01:30:58.956627Z",
     "start_time": "2020-09-29T01:30:58.943414Z"
    }
   },
   "outputs": [],
   "source": []
  },
  {
   "cell_type": "code",
   "execution_count": 410,
   "metadata": {
    "ExecuteTime": {
     "end_time": "2020-09-29T04:04:50.753527Z",
     "start_time": "2020-09-29T04:04:50.723775Z"
    }
   },
   "outputs": [
    {
     "name": "stdout",
     "output_type": "stream",
     "text": [
      "[1.0, 0.0, 0.0]\n",
      "1.0\n"
     ]
    },
    {
     "data": {
      "text/plain": [
       "[(6, 6)]"
      ]
     },
     "execution_count": 410,
     "metadata": {},
     "output_type": "execute_result"
    }
   ],
   "source": [
    "coord, parents = getParents((7,7))\n",
    "parents"
   ]
  },
  {
   "cell_type": "code",
   "execution_count": 437,
   "metadata": {
    "ExecuteTime": {
     "end_time": "2020-09-29T04:11:51.991251Z",
     "start_time": "2020-09-29T04:11:51.973791Z"
    }
   },
   "outputs": [
    {
     "data": {
      "text/plain": [
       "{(6, 6): [(5, 5), (5, 6)]}"
      ]
     },
     "execution_count": 437,
     "metadata": {},
     "output_type": "execute_result"
    }
   ],
   "source": [
    "p7 = getParents((7,7))\n",
    "{_:getParents(_) for _ in  p7}"
   ]
  },
  {
   "cell_type": "code",
   "execution_count": 452,
   "metadata": {
    "ExecuteTime": {
     "end_time": "2020-09-29T04:22:22.962354Z",
     "start_time": "2020-09-29T04:22:22.953972Z"
    },
    "cell_style": "split"
   },
   "outputs": [
    {
     "name": "stdout",
     "output_type": "stream",
     "text": [
      "--\n",
      " (7, 7) [(6, 6)]\n",
      "{(7, 7): {(6, 6): [(5, 5), (5, 6)]}}\n",
      "--\n",
      " (6, 6) [(5, 5), (5, 6)]\n",
      "{(6, 6): {(5, 5): [(4, 4), (4, 5)], (5, 6): [(4, 5)]}}\n",
      "--\n",
      " (5, 5) [(4, 4), (4, 5)]\n",
      "{(5, 5): {(4, 4): [(3, 4)], (4, 5): [(3, 4)]}}\n",
      "--\n",
      " (4, 4) [(3, 4)]\n",
      "{(4, 4): {(3, 4): [(2, 3)]}}\n",
      "--\n",
      " (3, 3) [(2, 3)]\n",
      "{(3, 3): {(2, 3): [(1, 2), (2, 2)]}}\n",
      "--\n",
      " (2, 2) [(1, 1)]\n",
      "{(2, 2): {(1, 1): [(0, 0)]}}\n",
      "--\n",
      " (1, 1) [(0, 0)]\n",
      "{(1, 1): {(0, 0): None}}\n"
     ]
    }
   ],
   "source": [
    "\n",
    "\n",
    "while (i,j) != (0,0):\n",
    "    tmp = getParents((i,j))\n",
    "    print(\"--\\n\",(i,j),tmp)\n",
    "    print({ (i,j): {_:getParents(_) for _ in tmp}})\n",
    "    i -= 1\n",
    "    j -= 1\n",
    "    "
   ]
  },
  {
   "cell_type": "code",
   "execution_count": 443,
   "metadata": {
    "ExecuteTime": {
     "end_time": "2020-09-29T04:15:12.646212Z",
     "start_time": "2020-09-29T04:15:12.604890Z"
    },
    "cell_style": "split"
   },
   "outputs": [
    {
     "data": {
      "text/html": [
       "<div>\n",
       "<style scoped>\n",
       "    .dataframe tbody tr th:only-of-type {\n",
       "        vertical-align: middle;\n",
       "    }\n",
       "\n",
       "    .dataframe tbody tr th {\n",
       "        vertical-align: top;\n",
       "    }\n",
       "\n",
       "    .dataframe thead th {\n",
       "        text-align: right;\n",
       "    }\n",
       "</style>\n",
       "<table border=\"1\" class=\"dataframe\">\n",
       "  <thead>\n",
       "    <tr style=\"text-align: right;\">\n",
       "      <th></th>\n",
       "      <th>0</th>\n",
       "      <th>1</th>\n",
       "      <th>2</th>\n",
       "      <th>3</th>\n",
       "      <th>4</th>\n",
       "      <th>5</th>\n",
       "      <th>6</th>\n",
       "      <th>7</th>\n",
       "    </tr>\n",
       "  </thead>\n",
       "  <tbody>\n",
       "    <tr>\n",
       "      <th>0</th>\n",
       "      <td>0.0</td>\n",
       "      <td>-1.0</td>\n",
       "      <td>-2.0</td>\n",
       "      <td>-3.0</td>\n",
       "      <td>-4.0</td>\n",
       "      <td>-5.0</td>\n",
       "      <td>-6.0</td>\n",
       "      <td>-7.0</td>\n",
       "    </tr>\n",
       "    <tr>\n",
       "      <th>1</th>\n",
       "      <td>-1.0</td>\n",
       "      <td>1.0</td>\n",
       "      <td>0.0</td>\n",
       "      <td>-1.0</td>\n",
       "      <td>-2.0</td>\n",
       "      <td>-3.0</td>\n",
       "      <td>-4.0</td>\n",
       "      <td>-5.0</td>\n",
       "    </tr>\n",
       "    <tr>\n",
       "      <th>2</th>\n",
       "      <td>-2.0</td>\n",
       "      <td>0.0</td>\n",
       "      <td>0.0</td>\n",
       "      <td>1.0</td>\n",
       "      <td>0.0</td>\n",
       "      <td>-1.0</td>\n",
       "      <td>-2.0</td>\n",
       "      <td>-3.0</td>\n",
       "    </tr>\n",
       "    <tr>\n",
       "      <th>3</th>\n",
       "      <td>-3.0</td>\n",
       "      <td>-1.0</td>\n",
       "      <td>-1.0</td>\n",
       "      <td>0.0</td>\n",
       "      <td>2.0</td>\n",
       "      <td>1.0</td>\n",
       "      <td>0.0</td>\n",
       "      <td>-1.0</td>\n",
       "    </tr>\n",
       "    <tr>\n",
       "      <th>4</th>\n",
       "      <td>-4.0</td>\n",
       "      <td>-2.0</td>\n",
       "      <td>-2.0</td>\n",
       "      <td>-1.0</td>\n",
       "      <td>1.0</td>\n",
       "      <td>1.0</td>\n",
       "      <td>0.0</td>\n",
       "      <td>-1.0</td>\n",
       "    </tr>\n",
       "    <tr>\n",
       "      <th>5</th>\n",
       "      <td>-5.0</td>\n",
       "      <td>-3.0</td>\n",
       "      <td>-3.0</td>\n",
       "      <td>-1.0</td>\n",
       "      <td>0.0</td>\n",
       "      <td>0.0</td>\n",
       "      <td>0.0</td>\n",
       "      <td>-1.0</td>\n",
       "    </tr>\n",
       "    <tr>\n",
       "      <th>6</th>\n",
       "      <td>-6.0</td>\n",
       "      <td>-4.0</td>\n",
       "      <td>-2.0</td>\n",
       "      <td>-2.0</td>\n",
       "      <td>-1.0</td>\n",
       "      <td>-1.0</td>\n",
       "      <td>1.0</td>\n",
       "      <td>0.0</td>\n",
       "    </tr>\n",
       "    <tr>\n",
       "      <th>7</th>\n",
       "      <td>-7.0</td>\n",
       "      <td>-5.0</td>\n",
       "      <td>-3.0</td>\n",
       "      <td>-1.0</td>\n",
       "      <td>-2.0</td>\n",
       "      <td>-2.0</td>\n",
       "      <td>0.0</td>\n",
       "      <td>0.0</td>\n",
       "    </tr>\n",
       "  </tbody>\n",
       "</table>\n",
       "</div>"
      ],
      "text/plain": [
       "     0    1    2    3    4    5    6    7\n",
       "0  0.0 -1.0 -2.0 -3.0 -4.0 -5.0 -6.0 -7.0\n",
       "1 -1.0  1.0  0.0 -1.0 -2.0 -3.0 -4.0 -5.0\n",
       "2 -2.0  0.0  0.0  1.0  0.0 -1.0 -2.0 -3.0\n",
       "3 -3.0 -1.0 -1.0  0.0  2.0  1.0  0.0 -1.0\n",
       "4 -4.0 -2.0 -2.0 -1.0  1.0  1.0  0.0 -1.0\n",
       "5 -5.0 -3.0 -3.0 -1.0  0.0  0.0  0.0 -1.0\n",
       "6 -6.0 -4.0 -2.0 -2.0 -1.0 -1.0  1.0  0.0\n",
       "7 -7.0 -5.0 -3.0 -1.0 -2.0 -2.0  0.0  0.0"
      ]
     },
     "execution_count": 443,
     "metadata": {},
     "output_type": "execute_result"
    }
   ],
   "source": [
    "pd.DataFrame(Fmatrix,columns=[i for i,_ in enumerate(\"-\"+y)],\n",
    "                     index=[i for i,_ in enumerate(\"-\"+x)])"
   ]
  },
  {
   "cell_type": "code",
   "execution_count": 481,
   "metadata": {
    "ExecuteTime": {
     "end_time": "2020-09-29T05:05:51.588460Z",
     "start_time": "2020-09-29T05:05:51.549683Z"
    },
    "cell_style": "center"
   },
   "outputs": [],
   "source": [
    "def travelPath(node):\n",
    "    if getParents(node) is not None:\n",
    "        return {each:travelPath(node) for each in getParents(node)}\n",
    "    else:\n",
    "        return None\n",
    "         "
   ]
  },
  {
   "cell_type": "code",
   "execution_count": 484,
   "metadata": {
    "ExecuteTime": {
     "end_time": "2020-09-29T05:06:32.512756Z",
     "start_time": "2020-09-29T05:06:23.925276Z"
    }
   },
   "outputs": [
    {
     "ename": "RecursionError",
     "evalue": "maximum recursion depth exceeded in comparison",
     "output_type": "error",
     "traceback": [
      "\u001b[0;31m---------------------------------------------------------------------------\u001b[0m",
      "\u001b[0;31mRecursionError\u001b[0m                            Traceback (most recent call last)",
      "\u001b[0;32m<ipython-input-484-73d6f5488ff3>\u001b[0m in \u001b[0;36m<module>\u001b[0;34m\u001b[0m\n\u001b[0;32m----> 1\u001b[0;31m \u001b[0mtravelPath\u001b[0m\u001b[0;34m(\u001b[0m\u001b[0;34m(\u001b[0m\u001b[0;36m1\u001b[0m\u001b[0;34m,\u001b[0m\u001b[0;36m1\u001b[0m\u001b[0;34m)\u001b[0m\u001b[0;34m)\u001b[0m\u001b[0;34m\u001b[0m\u001b[0;34m\u001b[0m\u001b[0m\n\u001b[0m",
      "\u001b[0;32m<ipython-input-481-a0b8901939bc>\u001b[0m in \u001b[0;36mtravelPath\u001b[0;34m(node)\u001b[0m\n\u001b[1;32m      1\u001b[0m \u001b[0;32mdef\u001b[0m \u001b[0mtravelPath\u001b[0m\u001b[0;34m(\u001b[0m\u001b[0mnode\u001b[0m\u001b[0;34m)\u001b[0m\u001b[0;34m:\u001b[0m\u001b[0;34m\u001b[0m\u001b[0;34m\u001b[0m\u001b[0m\n\u001b[1;32m      2\u001b[0m     \u001b[0;32mif\u001b[0m \u001b[0mgetParents\u001b[0m\u001b[0;34m(\u001b[0m\u001b[0mnode\u001b[0m\u001b[0;34m)\u001b[0m \u001b[0;32mis\u001b[0m \u001b[0;32mnot\u001b[0m \u001b[0;32mNone\u001b[0m\u001b[0;34m:\u001b[0m\u001b[0;34m\u001b[0m\u001b[0;34m\u001b[0m\u001b[0m\n\u001b[0;32m----> 3\u001b[0;31m         \u001b[0;32mreturn\u001b[0m \u001b[0;34m{\u001b[0m\u001b[0meach\u001b[0m\u001b[0;34m:\u001b[0m\u001b[0mtravelPath\u001b[0m\u001b[0;34m(\u001b[0m\u001b[0mnode\u001b[0m\u001b[0;34m)\u001b[0m \u001b[0;32mfor\u001b[0m \u001b[0meach\u001b[0m \u001b[0;32min\u001b[0m \u001b[0mgetParents\u001b[0m\u001b[0;34m(\u001b[0m\u001b[0mnode\u001b[0m\u001b[0;34m)\u001b[0m\u001b[0;34m}\u001b[0m\u001b[0;34m\u001b[0m\u001b[0;34m\u001b[0m\u001b[0m\n\u001b[0m\u001b[1;32m      4\u001b[0m     \u001b[0;32melse\u001b[0m\u001b[0;34m:\u001b[0m\u001b[0;34m\u001b[0m\u001b[0;34m\u001b[0m\u001b[0m\n\u001b[1;32m      5\u001b[0m         \u001b[0;32mreturn\u001b[0m \u001b[0;32mNone\u001b[0m\u001b[0;34m\u001b[0m\u001b[0;34m\u001b[0m\u001b[0m\n",
      "\u001b[0;32m<ipython-input-481-a0b8901939bc>\u001b[0m in \u001b[0;36m<dictcomp>\u001b[0;34m(.0)\u001b[0m\n\u001b[1;32m      1\u001b[0m \u001b[0;32mdef\u001b[0m \u001b[0mtravelPath\u001b[0m\u001b[0;34m(\u001b[0m\u001b[0mnode\u001b[0m\u001b[0;34m)\u001b[0m\u001b[0;34m:\u001b[0m\u001b[0;34m\u001b[0m\u001b[0;34m\u001b[0m\u001b[0m\n\u001b[1;32m      2\u001b[0m     \u001b[0;32mif\u001b[0m \u001b[0mgetParents\u001b[0m\u001b[0;34m(\u001b[0m\u001b[0mnode\u001b[0m\u001b[0;34m)\u001b[0m \u001b[0;32mis\u001b[0m \u001b[0;32mnot\u001b[0m \u001b[0;32mNone\u001b[0m\u001b[0;34m:\u001b[0m\u001b[0;34m\u001b[0m\u001b[0;34m\u001b[0m\u001b[0m\n\u001b[0;32m----> 3\u001b[0;31m         \u001b[0;32mreturn\u001b[0m \u001b[0;34m{\u001b[0m\u001b[0meach\u001b[0m\u001b[0;34m:\u001b[0m\u001b[0mtravelPath\u001b[0m\u001b[0;34m(\u001b[0m\u001b[0mnode\u001b[0m\u001b[0;34m)\u001b[0m \u001b[0;32mfor\u001b[0m \u001b[0meach\u001b[0m \u001b[0;32min\u001b[0m \u001b[0mgetParents\u001b[0m\u001b[0;34m(\u001b[0m\u001b[0mnode\u001b[0m\u001b[0;34m)\u001b[0m\u001b[0;34m}\u001b[0m\u001b[0;34m\u001b[0m\u001b[0;34m\u001b[0m\u001b[0m\n\u001b[0m\u001b[1;32m      4\u001b[0m     \u001b[0;32melse\u001b[0m\u001b[0;34m:\u001b[0m\u001b[0;34m\u001b[0m\u001b[0;34m\u001b[0m\u001b[0m\n\u001b[1;32m      5\u001b[0m         \u001b[0;32mreturn\u001b[0m \u001b[0;32mNone\u001b[0m\u001b[0;34m\u001b[0m\u001b[0;34m\u001b[0m\u001b[0m\n",
      "... last 2 frames repeated, from the frame below ...\n",
      "\u001b[0;32m<ipython-input-481-a0b8901939bc>\u001b[0m in \u001b[0;36mtravelPath\u001b[0;34m(node)\u001b[0m\n\u001b[1;32m      1\u001b[0m \u001b[0;32mdef\u001b[0m \u001b[0mtravelPath\u001b[0m\u001b[0;34m(\u001b[0m\u001b[0mnode\u001b[0m\u001b[0;34m)\u001b[0m\u001b[0;34m:\u001b[0m\u001b[0;34m\u001b[0m\u001b[0;34m\u001b[0m\u001b[0m\n\u001b[1;32m      2\u001b[0m     \u001b[0;32mif\u001b[0m \u001b[0mgetParents\u001b[0m\u001b[0;34m(\u001b[0m\u001b[0mnode\u001b[0m\u001b[0;34m)\u001b[0m \u001b[0;32mis\u001b[0m \u001b[0;32mnot\u001b[0m \u001b[0;32mNone\u001b[0m\u001b[0;34m:\u001b[0m\u001b[0;34m\u001b[0m\u001b[0;34m\u001b[0m\u001b[0m\n\u001b[0;32m----> 3\u001b[0;31m         \u001b[0;32mreturn\u001b[0m \u001b[0;34m{\u001b[0m\u001b[0meach\u001b[0m\u001b[0;34m:\u001b[0m\u001b[0mtravelPath\u001b[0m\u001b[0;34m(\u001b[0m\u001b[0mnode\u001b[0m\u001b[0;34m)\u001b[0m \u001b[0;32mfor\u001b[0m \u001b[0meach\u001b[0m \u001b[0;32min\u001b[0m \u001b[0mgetParents\u001b[0m\u001b[0;34m(\u001b[0m\u001b[0mnode\u001b[0m\u001b[0;34m)\u001b[0m\u001b[0;34m}\u001b[0m\u001b[0;34m\u001b[0m\u001b[0;34m\u001b[0m\u001b[0m\n\u001b[0m\u001b[1;32m      4\u001b[0m     \u001b[0;32melse\u001b[0m\u001b[0;34m:\u001b[0m\u001b[0;34m\u001b[0m\u001b[0;34m\u001b[0m\u001b[0m\n\u001b[1;32m      5\u001b[0m         \u001b[0;32mreturn\u001b[0m \u001b[0;32mNone\u001b[0m\u001b[0;34m\u001b[0m\u001b[0;34m\u001b[0m\u001b[0m\n",
      "\u001b[0;31mRecursionError\u001b[0m: maximum recursion depth exceeded in comparison"
     ]
    }
   ],
   "source": [
    "travelPath((1,1))"
   ]
  },
  {
   "cell_type": "code",
   "execution_count": 482,
   "metadata": {
    "ExecuteTime": {
     "end_time": "2020-09-29T05:06:01.180154Z",
     "start_time": "2020-09-29T05:06:01.165999Z"
    }
   },
   "outputs": [
    {
     "name": "stdout",
     "output_type": "stream",
     "text": [
      "{(6, 6): [(5, 5), (5, 6)]}\n"
     ]
    }
   ],
   "source": [
    "nodeList = [(7,7)]\n",
    "for node in nodeList:\n",
    "    if getParents(node) is not None:\n",
    "        print ({each:getParents(each) for each in getParents(node)})\n"
   ]
  },
  {
   "cell_type": "code",
   "execution_count": 369,
   "metadata": {
    "ExecuteTime": {
     "end_time": "2020-09-29T01:36:31.728762Z",
     "start_time": "2020-09-29T01:36:31.716613Z"
    }
   },
   "outputs": [
    {
     "data": {
      "text/plain": [
       "[(6, 6)]"
      ]
     },
     "execution_count": 369,
     "metadata": {},
     "output_type": "execute_result"
    }
   ],
   "source": []
  },
  {
   "cell_type": "code",
   "execution_count": 347,
   "metadata": {
    "ExecuteTime": {
     "end_time": "2020-09-29T01:32:15.401482Z",
     "start_time": "2020-09-29T01:32:15.384596Z"
    },
    "cell_style": "split"
   },
   "outputs": [
    {
     "data": {
      "text/plain": [
       "True"
      ]
     },
     "execution_count": 347,
     "metadata": {},
     "output_type": "execute_result"
    }
   ],
   "source": [
    "def path(coord):\n",
    "    while getParents(coord) is not None:\n",
    "        for"
   ]
  },
  {
   "cell_type": "code",
   "execution_count": 332,
   "metadata": {
    "ExecuteTime": {
     "end_time": "2020-09-29T01:27:42.918211Z",
     "start_time": "2020-09-29T01:27:42.882830Z"
    },
    "cell_style": "split"
   },
   "outputs": [
    {
     "data": {
      "text/html": [
       "<div>\n",
       "<style scoped>\n",
       "    .dataframe tbody tr th:only-of-type {\n",
       "        vertical-align: middle;\n",
       "    }\n",
       "\n",
       "    .dataframe tbody tr th {\n",
       "        vertical-align: top;\n",
       "    }\n",
       "\n",
       "    .dataframe thead th {\n",
       "        text-align: right;\n",
       "    }\n",
       "</style>\n",
       "<table border=\"1\" class=\"dataframe\">\n",
       "  <thead>\n",
       "    <tr style=\"text-align: right;\">\n",
       "      <th></th>\n",
       "      <th>0</th>\n",
       "      <th>1</th>\n",
       "      <th>2</th>\n",
       "      <th>3</th>\n",
       "      <th>4</th>\n",
       "      <th>5</th>\n",
       "      <th>6</th>\n",
       "      <th>7</th>\n",
       "    </tr>\n",
       "  </thead>\n",
       "  <tbody>\n",
       "    <tr>\n",
       "      <th>0</th>\n",
       "      <td>0.0</td>\n",
       "      <td>-1.0</td>\n",
       "      <td>-2.0</td>\n",
       "      <td>-3.0</td>\n",
       "      <td>-4.0</td>\n",
       "      <td>-5.0</td>\n",
       "      <td>-6.0</td>\n",
       "      <td>-7.0</td>\n",
       "    </tr>\n",
       "    <tr>\n",
       "      <th>1</th>\n",
       "      <td>-1.0</td>\n",
       "      <td>1.0</td>\n",
       "      <td>0.0</td>\n",
       "      <td>-1.0</td>\n",
       "      <td>-2.0</td>\n",
       "      <td>-3.0</td>\n",
       "      <td>-4.0</td>\n",
       "      <td>-5.0</td>\n",
       "    </tr>\n",
       "    <tr>\n",
       "      <th>2</th>\n",
       "      <td>-2.0</td>\n",
       "      <td>0.0</td>\n",
       "      <td>0.0</td>\n",
       "      <td>1.0</td>\n",
       "      <td>0.0</td>\n",
       "      <td>-1.0</td>\n",
       "      <td>-2.0</td>\n",
       "      <td>-3.0</td>\n",
       "    </tr>\n",
       "    <tr>\n",
       "      <th>3</th>\n",
       "      <td>-3.0</td>\n",
       "      <td>-1.0</td>\n",
       "      <td>-1.0</td>\n",
       "      <td>0.0</td>\n",
       "      <td>2.0</td>\n",
       "      <td>1.0</td>\n",
       "      <td>0.0</td>\n",
       "      <td>-1.0</td>\n",
       "    </tr>\n",
       "    <tr>\n",
       "      <th>4</th>\n",
       "      <td>-4.0</td>\n",
       "      <td>-2.0</td>\n",
       "      <td>-2.0</td>\n",
       "      <td>-1.0</td>\n",
       "      <td>1.0</td>\n",
       "      <td>1.0</td>\n",
       "      <td>0.0</td>\n",
       "      <td>-1.0</td>\n",
       "    </tr>\n",
       "    <tr>\n",
       "      <th>5</th>\n",
       "      <td>-5.0</td>\n",
       "      <td>-3.0</td>\n",
       "      <td>-3.0</td>\n",
       "      <td>-1.0</td>\n",
       "      <td>0.0</td>\n",
       "      <td>0.0</td>\n",
       "      <td>0.0</td>\n",
       "      <td>-1.0</td>\n",
       "    </tr>\n",
       "    <tr>\n",
       "      <th>6</th>\n",
       "      <td>-6.0</td>\n",
       "      <td>-4.0</td>\n",
       "      <td>-2.0</td>\n",
       "      <td>-2.0</td>\n",
       "      <td>-1.0</td>\n",
       "      <td>-1.0</td>\n",
       "      <td>1.0</td>\n",
       "      <td>0.0</td>\n",
       "    </tr>\n",
       "    <tr>\n",
       "      <th>7</th>\n",
       "      <td>-7.0</td>\n",
       "      <td>-5.0</td>\n",
       "      <td>-3.0</td>\n",
       "      <td>-1.0</td>\n",
       "      <td>-2.0</td>\n",
       "      <td>-2.0</td>\n",
       "      <td>0.0</td>\n",
       "      <td>0.0</td>\n",
       "    </tr>\n",
       "  </tbody>\n",
       "</table>\n",
       "</div>"
      ],
      "text/plain": [
       "     0    1    2    3    4    5    6    7\n",
       "0  0.0 -1.0 -2.0 -3.0 -4.0 -5.0 -6.0 -7.0\n",
       "1 -1.0  1.0  0.0 -1.0 -2.0 -3.0 -4.0 -5.0\n",
       "2 -2.0  0.0  0.0  1.0  0.0 -1.0 -2.0 -3.0\n",
       "3 -3.0 -1.0 -1.0  0.0  2.0  1.0  0.0 -1.0\n",
       "4 -4.0 -2.0 -2.0 -1.0  1.0  1.0  0.0 -1.0\n",
       "5 -5.0 -3.0 -3.0 -1.0  0.0  0.0  0.0 -1.0\n",
       "6 -6.0 -4.0 -2.0 -2.0 -1.0 -1.0  1.0  0.0\n",
       "7 -7.0 -5.0 -3.0 -1.0 -2.0 -2.0  0.0  0.0"
      ]
     },
     "execution_count": 332,
     "metadata": {},
     "output_type": "execute_result"
    }
   ],
   "source": [
    "pd.DataFrame(Fmatrix,columns=[i for i,_ in enumerate(\"-\"+y)],\n",
    "                     index=[i for i,_ in enumerate(\"-\"+x)])"
   ]
  },
  {
   "cell_type": "code",
   "execution_count": null,
   "metadata": {},
   "outputs": [],
   "source": []
  }
 ],
 "metadata": {
  "kernelspec": {
   "display_name": "Python 3",
   "language": "python",
   "name": "python3"
  },
  "language_info": {
   "codemirror_mode": {
    "name": "ipython",
    "version": 3
   },
   "file_extension": ".py",
   "mimetype": "text/x-python",
   "name": "python",
   "nbconvert_exporter": "python",
   "pygments_lexer": "ipython3",
   "version": "3.8.6"
  },
  "varInspector": {
   "cols": {
    "lenName": 16,
    "lenType": 16,
    "lenVar": 40
   },
   "kernels_config": {
    "python": {
     "delete_cmd_postfix": "",
     "delete_cmd_prefix": "del ",
     "library": "var_list.py",
     "varRefreshCmd": "print(var_dic_list())"
    },
    "r": {
     "delete_cmd_postfix": ") ",
     "delete_cmd_prefix": "rm(",
     "library": "var_list.r",
     "varRefreshCmd": "cat(var_dic_list()) "
    }
   },
   "types_to_exclude": [
    "module",
    "function",
    "builtin_function_or_method",
    "instance",
    "_Feature"
   ],
   "window_display": false
  }
 },
 "nbformat": 4,
 "nbformat_minor": 4
}
